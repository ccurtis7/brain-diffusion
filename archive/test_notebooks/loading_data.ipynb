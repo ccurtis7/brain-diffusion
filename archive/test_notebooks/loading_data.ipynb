{
 "cells": [
  {
   "cell_type": "code",
   "execution_count": null,
   "metadata": {
    "collapsed": false
   },
   "outputs": [],
   "source": [
    "import numpy as np\n",
    "from bokeh.plotting import figure, show, gridplot, vplot, hplot, curdoc\n",
    "from bokeh.io import output_notebook\n",
    "from trajectory_visualization import plot_trajectory, sidebyside, shift_trajectory, animated_plot\n",
    "from bokeh.client import push_session"
   ]
  },
  {
   "cell_type": "code",
   "execution_count": null,
   "metadata": {
    "collapsed": false
   },
   "outputs": [],
   "source": [
    "output_notebook()"
   ]
  },
  {
   "cell_type": "code",
   "execution_count": null,
   "metadata": {
    "collapsed": false
   },
   "outputs": [],
   "source": [
    "trajectory = np.genfromtxt('../sample_data/Sample_Trajectory_Data1.csv',\n",
    "            delimiter =\",\")"
   ]
  },
  {
   "cell_type": "code",
   "execution_count": null,
   "metadata": {
    "collapsed": false
   },
   "outputs": [],
   "source": [
    "trajectory=np.delete(trajectory, 0,0)"
   ]
  },
  {
   "cell_type": "code",
   "execution_count": null,
   "metadata": {
    "collapsed": false
   },
   "outputs": [],
   "source": [
    "time = trajectory[:,0]\n",
    "PLGA_4A_UP_R1_P25 = trajectory[:,1:4]\n",
    "PLGA_4A_P80_R1_P22 = trajectory[:,4:7]\n",
    "PLGA_15k_UP_R3_P5 = trajectory[:,7:10]\n",
    "PLGA_15k_P80_R3_P36 = trajectory[:,10:13]\n",
    "PLGA_4A_F68_R3_P15 = trajectory[:,13:16]\n",
    "PLGA_15k_F68_R3_P10 = trajectory[:,16:19]\n",
    "PLGA4A_5CHA_R3_P124 = trajectory[:,19:22]\n",
    "PLGA_15k_5CHA_R3_P50 = trajectory[:,22:25]\n",
    "PLGA_15k_2CHA_R2_P44 = trajectory[:,25:28]\n",
    "PLGA15k_05CHA_R3_P22 = trajectory[:,28:31]\n",
    "PEG_PLGA15k_P80_R3_P127 = trajectory[:,31:34]\n",
    "PEG_PLGA4A_F68_R3_P111 = trajectory[:,34:37]\n",
    "PEG_PLGA4A_P80_R1_P84 = trajectory[:,37:40]\n",
    "PEG_PLGA4A_UP_R1_P53 = trajectory[:,40:43]\n",
    "PEG_PLGA15k_2CHA_R2_P26 = trajectory[:,43:46]\n",
    "PEG_PLGA15k_5CHA_R2_P52 = trajectory[:,46:49]\n",
    "PEG_PLGA15k_UP_R3_P61 = trajectory[:,49:52]\n",
    "PEG_PLGA58k_5CHA_R2_P15 = trajectory[:,52:55]\n",
    "PEG_PLGA15k_F68_R2_P81 = trajectory[:,55:58]\n",
    "PLGA_15k_2CHA_R2_P37 = trajectory[:,58:61]\n",
    "PLGA_15k_PEG_2CHA_R2_P81 = trajectory[:,61:64]\n",
    "PLGA_15k_05CHA_R1_P45 = trajectory[:,64:67]\n",
    "PLGA_15k_PEG_05CHA_R3_P61 = trajectory[:,67:70]"
   ]
  },
  {
   "cell_type": "code",
   "execution_count": null,
   "metadata": {
    "collapsed": false
   },
   "outputs": [],
   "source": [
    "#output to notebook\n",
    "output_notebook()\n",
    "\n",
    "#create a plot of trajectory data\n",
    "x = PLGA_4A_UP_R1_P25[:,1]\n",
    "y = PLGA_4A_UP_R1_P25[:,2]\n",
    "p = figure(title='PLGA_4A_UP_R1_P25', x_axis_label='x', y_axis_label='y')\n",
    "p.line(x, y, line_width=2)\n",
    "\n",
    "show(p)"
   ]
  },
  {
   "cell_type": "code",
   "execution_count": null,
   "metadata": {
    "collapsed": false
   },
   "outputs": [],
   "source": [
    "def plot_trajectory(xydata, charttitle):\n",
    "    \n",
    "    output_notebook()  \n",
    "    x = xydata[:,1]\n",
    "    y = xydata[:,2]\n",
    "    p = figure(title=charttitle, title_text_font_size='8pt', \n",
    "               width = 300, height = 300, x_axis_label='x', y_axis_label='y')\n",
    "    p.line(x, y, line_width=2)\n",
    "    show(p)"
   ]
  },
  {
   "cell_type": "code",
   "execution_count": null,
   "metadata": {
    "collapsed": true
   },
   "outputs": [],
   "source": []
  },
  {
   "cell_type": "code",
   "execution_count": null,
   "metadata": {
    "collapsed": false
   },
   "outputs": [],
   "source": [
    "plot_trajectory(PEG_PLGA15k_2CHA_R2_P26, 'PEG_PLGA15k_2CHA_R2_P26')"
   ]
  },
  {
   "cell_type": "code",
   "execution_count": null,
   "metadata": {
    "collapsed": true
   },
   "outputs": [],
   "source": [
    "def sidebyside(xydata1, xydata2, charttitle1, charttitle2):\n",
    "    \n",
    "    output_notebook()  \n",
    "    x1 = xydata1[:,1]\n",
    "    y1 = xydata1[:,2]\n",
    "    x2 = xydata2[:,1]\n",
    "    y2 = xydata2[:,2]\n",
    "    \n",
    "    s1 = figure(title=charttitle1, width = 300, height = 300, x_axis_label='x', y_axis_label='y')\n",
    "    s1.line(x1, y1, color='navy', line_width=2)\n",
    "    \n",
    "    s2 = figure(title=charttitle2, width = 300, height = 300, x_range=s1.x_range, y_range=s1.y_range, x_axis_label='x', y_axis_label='y')\n",
    "    s2.line(x2, y2, color='firebrick', line_width=2)    \n",
    "    \n",
    "    p = hplot(s1, s2)\n",
    "    \n",
    "    show(p)"
   ]
  },
  {
   "cell_type": "code",
   "execution_count": null,
   "metadata": {
    "collapsed": false
   },
   "outputs": [],
   "source": [
    "sidebyside(PEG_PLGA15k_2CHA_R2_P26, PLGA_15k_2CHA_R2_P37, 'PEG', 'No PEG')"
   ]
  },
  {
   "cell_type": "code",
   "execution_count": null,
   "metadata": {
    "collapsed": true
   },
   "outputs": [],
   "source": [
    "def overlay(xydata1, xydata2, charttitle):\n",
    "    \n",
    "    output_notebook()  \n",
    "    x1 = xydata1[:,1]\n",
    "    y1 = xydata1[:,2]\n",
    "    x2 = xydata2[:,1]\n",
    "    y2= xydata2[:,2]\n",
    "    p = figure(title=charttitle, width = 300, height = 300, x_axis_label='x', y_axis_label='y')\n",
    "    p.line(x1, y1, line_width=2, color='navy')\n",
    "    p.line(x2, y2, line_width=2, color='firebrick')\n",
    "    show(p)"
   ]
  },
  {
   "cell_type": "code",
   "execution_count": null,
   "metadata": {
    "collapsed": false
   },
   "outputs": [],
   "source": [
    "overlay(PEG_PLGA15k_2CHA_R2_P26, PLGA_15k_2CHA_R2_P37, 'PEG/No PEG')"
   ]
  },
  {
   "cell_type": "code",
   "execution_count": null,
   "metadata": {
    "collapsed": false
   },
   "outputs": [],
   "source": [
    "r.data_source"
   ]
  },
  {
   "cell_type": "code",
   "execution_count": null,
   "metadata": {
    "collapsed": false
   },
   "outputs": [],
   "source": [
    "def define_xydata(dataset, sets):\n",
    "    \n",
    "    times = dataset[:,0]\n",
    "    Run = dict()\n",
    "    \n",
    "    for num in range(1, sets + 1):\n",
    "        Run[\"Run\" + str(num)] = dataset[:, 3 * num - 2 : 3 * num + 1]\n",
    "\n",
    "    return times, Run"
   ]
  },
  {
   "cell_type": "code",
   "execution_count": null,
   "metadata": {
    "collapsed": false
   },
   "outputs": [],
   "source": [
    "times, Run = define_xydata(trajectory, 23)"
   ]
  },
  {
   "cell_type": "code",
   "execution_count": null,
   "metadata": {
    "collapsed": false
   },
   "outputs": [],
   "source": [
    "def download_data(file):\n",
    "\n",
    "    file_csv = True\n",
    "    file_exists = True\n",
    "\n",
    "    if file[-4:] == '.csv':\n",
    "        \n",
    "        try:\n",
    "            name = np.genfromtxt(file, delimiter = \",\")\n",
    "            name = np.delete(name, 0,0)\n",
    "        except:\n",
    "            return 'File does not exist'\n",
    "            file_exists = False\n",
    "        else:\n",
    "            return name\n",
    "    \n",
    "    else: \n",
    "        \n",
    "        file_csv = False\n",
    "        return 'File is not a .csv file'"
   ]
  },
  {
   "cell_type": "code",
   "execution_count": null,
   "metadata": {
    "collapsed": false
   },
   "outputs": [],
   "source": [
    "name = download_data('../sample_data/Sample_Trajectory_Data2.csv')"
   ]
  },
  {
   "cell_type": "code",
   "execution_count": null,
   "metadata": {
    "collapsed": false
   },
   "outputs": [],
   "source": [
    "name"
   ]
  },
  {
   "cell_type": "code",
   "execution_count": null,
   "metadata": {
    "collapsed": false
   },
   "outputs": [],
   "source": [
    "string = \"string\""
   ]
  },
  {
   "cell_type": "code",
   "execution_count": null,
   "metadata": {
    "collapsed": false
   },
   "outputs": [],
   "source": [
    "string[-4:]"
   ]
  },
  {
   "cell_type": "code",
   "execution_count": null,
   "metadata": {
    "collapsed": false
   },
   "outputs": [],
   "source": [
    "import time \n",
    "import numpy as np\n",
    "from bokeh.plotting import cursession, figure, show, output_server\n",
    "\n",
    "\n",
    "output_server(\"circle_server\")\n",
    "\n",
    "pl = figure(y_range=(-2,2), x_range=(-2,2))\n",
    "\n",
    "x=1\n",
    "y=0\n",
    "\n",
    "\n",
    "pl.circle(x=[x], y=[y], size=25, alpha=0.6, name=\"circle\") \n",
    "pl.annulus(x=0,y=0, inner_radius = 1, outer_radius = 1, line_alpha=0.6)\n",
    "\n",
    "\n",
    "show(pl)\n",
    "\n",
    "renderer = pl.select(dict(name=\"circle\"))\n",
    "\n",
    "ds = renderer[0].data_source\n",
    "\n",
    "while True:\n",
    "    for rad in np.linspace(0,2*np.pi,100):\n",
    "        #rad = deg*np.pi/180\n",
    "        ds.data[\"x\"] = [np.cos(rad)]\n",
    "        ds.data[\"y\"] = [np.sin(rad)]\n",
    "        cursession().store_objects(ds)\n",
    "        time.sleep(0.5)"
   ]
  },
  {
   "cell_type": "code",
   "execution_count": null,
   "metadata": {
    "collapsed": false
   },
   "outputs": [],
   "source": [
    "# You must first run \"bokeh serve\" to view this example\n",
    "\n",
    "from numpy import linspace, roll, arange, float64\n",
    "\n",
    "from bokeh.client import push_session\n",
    "from bokeh.io import curdoc\n",
    "from bokeh.plotting import figure\n",
    "from bokeh.driving import bounce\n",
    "\n",
    "a = arange(110)\n",
    "c = arange(111,220)\n",
    "d = arange(221,330)\n",
    "b = arange(330).reshape(110, 3)\n",
    "xlist = b[:,1] * 0.000001\n",
    "ylist = b[:,2] * 0.000001\n",
    "\n",
    "# figure() function auto-adds the figure to curdoc()\n",
    "p = figure(title_text_font_size='8pt', \n",
    "               width = 300, height = 300, x_axis_label='x', y_axis_label='y')\n",
    "r = p.line(xlist, ylist, line_width=2)\n",
    "\n",
    "# open a session to keep our local document in sync with server\n",
    "session = push_session(curdoc())\n",
    "\n",
    "ds = r.data_source\n",
    "\n",
    "@bounce(a)\n",
    "def update(step):\n",
    "    ds.data['x'] = xlist + c[step]\n",
    "    ds.data['y'] = ylist + d[step]\n",
    "\n",
    "curdoc().add_periodic_callback(update, 50)\n",
    "\n",
    "session.show() # open the document in a browser\n",
    "\n",
    "session.loop_until_closed() # run forever"
   ]
  },
  {
   "cell_type": "code",
   "execution_count": null,
   "metadata": {
    "collapsed": true
   },
   "outputs": [],
   "source": [
    "# You must first run \"bokeh serve\" to view this example\n",
    "\n",
    "from numpy import pi, cos, sin, linspace, roll\n",
    "\n",
    "from bokeh.client import push_session\n",
    "from bokeh.io import curdoc\n",
    "from bokeh.plotting import figure\n",
    "\n",
    "M = 5\n",
    "N = M*10 + 1\n",
    "r_base = 8\n",
    "theta = linspace(0, 2*pi, N)\n",
    "r_x = linspace(0, 6*pi, N-1)\n",
    "rmin = r_base - cos(r_x) - 1\n",
    "rmax = r_base + sin(r_x) + 1\n",
    "\n"
   ]
  },
  {
   "cell_type": "code",
   "execution_count": null,
   "metadata": {
    "collapsed": false
   },
   "outputs": [],
   "source": [
    "rmin"
   ]
  },
  {
   "cell_type": "code",
   "execution_count": null,
   "metadata": {
    "collapsed": true
   },
   "outputs": [],
   "source": [
    "colors = [\"FFFFCC\", \"#C7E9B4\", \"#7FCDBB\", \"#41B6C4\", \"#2C7FB8\", \"#253494\", \"#2C7FB8\", \"#41B6C4\", \"#7FCDBB\", \"#C7E9B4\"] * M\n",
    "\n",
    "# figure() function auto-adds the figure to curdoc()\n",
    "p = figure(x_range=(-11, 11), y_range=(-11, 11))\n",
    "r = p.annular_wedge(0, 0, rmin, rmax, theta[:-1], theta[1:],\n",
    "                    fill_color=colors, line_color=\"white\")\n",
    "\n",
    "# open a session to keep our local document in sync with server\n",
    "session = push_session(curdoc())\n",
    "\n",
    "ds = r.data_source\n",
    "\n",
    "def update():\n",
    "    rmin = roll(ds.data[\"inner_radius\"], 1)\n",
    "    rmax = roll(ds.data[\"outer_radius\"], 1)\n",
    "    ds.data.update(inner_radius=rmin, outer_radius=rmax)\n",
    "\n",
    "curdoc().add_periodic_callback(update, 30)\n",
    "\n",
    "session.show() # open the document in a browser\n",
    "\n",
    "session.loop_until_closed() # run forever"
   ]
  },
  {
   "cell_type": "code",
   "execution_count": null,
   "metadata": {
    "collapsed": true
   },
   "outputs": [],
   "source": [
    "from numpy import linspace, roll, arange, append\n",
    "\n",
    "from bokeh.client import push_session\n",
    "from bokeh.io import curdoc\n",
    "from bokeh.plotting import figure\n",
    "\n",
    "b = arange(330).reshape(110, 3)\n",
    "xlist = b[:,1]\n",
    "ylist = b[:,2]"
   ]
  },
  {
   "cell_type": "code",
   "execution_count": null,
   "metadata": {
    "collapsed": false
   },
   "outputs": [],
   "source": [
    "append(b, 1000)"
   ]
  },
  {
   "cell_type": "code",
   "execution_count": null,
   "metadata": {
    "collapsed": false
   },
   "outputs": [],
   "source": [
    "# You must first run \"bokeh serve\" to view this example\n",
    "\n",
    "import numpy as np\n",
    "from numpy import pi\n",
    "\n",
    "from bokeh.client import push_session\n",
    "from bokeh.driving import bounce\n",
    "from bokeh.plotting import figure, curdoc\n",
    "\n",
    "x = np.linspace(0, 4*pi, 80)\n",
    "y = np.sin(x)\n",
    "\n",
    "p = figure()\n",
    "r1 = p.line([0, 4*pi], [-1, 1], color=\"firebrick\")\n",
    "r2 = p.line(x, y, color=\"navy\", line_width=4)\n",
    "\n",
    "# open a session to keep our local document in sync with server\n",
    "session = push_session(curdoc())\n",
    "\n",
    "@bounce([0.5,1,2,2,2,3,0.5,2])\n",
    "def update(step):\n",
    "    r2.data_source.data[\"y\"] = y * step\n",
    "    r2.glyph.line_alpha = 1 - 0.8 * abs(step)\n",
    "\n",
    "curdoc().add_periodic_callback(update, 300)\n",
    "\n",
    "session.show() # open the document in a browser\n",
    "\n",
    "session.loop_until_closed() # run forever\n"
   ]
  },
  {
   "cell_type": "code",
   "execution_count": null,
   "metadata": {
    "collapsed": true
   },
   "outputs": [],
   "source": [
    "# You must first run \"bokeh serve\" to view this example\n",
    "\n",
    "from numpy import linspace, roll, arange, float64\n",
    "\n",
    "from bokeh.client import push_session\n",
    "from bokeh.io import curdoc\n",
    "from bokeh.plotting import figure\n",
    "from bokeh.driving import bounce\n",
    "\n",
    "a = arange(110)"
   ]
  },
  {
   "cell_type": "code",
   "execution_count": null,
   "metadata": {
    "collapsed": false
   },
   "outputs": [],
   "source": [
    "a[4]"
   ]
  },
  {
   "cell_type": "code",
   "execution_count": null,
   "metadata": {
    "collapsed": true
   },
   "outputs": [],
   "source": [
    "# myapp.py\n",
    "\n",
    "import numpy as np\n",
    "\n",
    "from bokeh.models import Button\n",
    "from bokeh.palettes import RdYlBu3\n",
    "from bokeh.plotting import figure, curdoc, vplot\n",
    "\n",
    "# create a plot and style its properties\n",
    "p = figure(x_range=(0, 100), y_range=(0, 100), toolbar_location=None)\n",
    "p.border_fill_color = 'black'\n",
    "p.background_fill_color = 'black'\n",
    "p.outline_line_color = None\n",
    "p.grid.grid_line_color = None\n",
    "\n",
    "# add a text renderer to out plot (no data yet)\n",
    "r = p.text(x=[], y=[], text=[], text_color=[], text_font_size=\"20pt\",\n",
    "           text_baseline=\"middle\", text_align=\"center\")\n",
    "\n",
    "i = 0\n",
    "\n",
    "ds = r.data_source\n",
    "\n",
    "# create a callback that will add a number in a random location\n",
    "def callback():\n",
    "    global i\n",
    "    ds.data['x'].append(np.random.random()*70 + 15)\n",
    "    ds.data['y'].append(np.random.random()*70 + 15)\n",
    "    ds.data['text_color'].append(RdYlBu3[i%3])\n",
    "    ds.data['text'].append(str(i))\n",
    "    ds.trigger('data', ds.data, ds.data)\n",
    "    i = i + 1\n",
    "\n",
    "# add a button widget and configure with the call back\n",
    "button = Button(label=\"Press Me\")\n",
    "button.on_click(callback)\n",
    "\n",
    "# put the button and plot in a layout and add to the document\n",
    "curdoc().add_root(vplot(button, p))"
   ]
  },
  {
   "cell_type": "code",
   "execution_count": null,
   "metadata": {
    "collapsed": true
   },
   "outputs": [],
   "source": [
    "# You must first run \"bokeh serve\" to view this example\n",
    "\n",
    "from numpy import linspace, roll, arange, float64\n",
    "\n",
    "from bokeh.client import push_session\n",
    "from bokeh.io import curdoc\n",
    "from bokeh.plotting import figure\n",
    "from bokeh.driving import bounce\n",
    "\n",
    "a = arange(110)\n",
    "c = arange(111,220)\n",
    "d = arange(221,330)\n",
    "b = arange(330).reshape(110, 3)\n",
    "xlist = b[:,1] * 0.000001\n",
    "ylist = b[:,2] * 0.000001\n",
    "\n",
    "# figure() function auto-adds the figure to curdoc()\n",
    "p = figure(title_text_font_size='8pt', \n",
    "               width = 300, height = 300, x_axis_label='x', y_axis_label='y')\n",
    "r = p.line(xlist, ylist, line_width=2)\n",
    "\n",
    "# open a session to keep our local document in sync with server\n",
    "session = push_session(curdoc())\n",
    "\n",
    "ds = r.data_source\n",
    "\n",
    "i = 0\n",
    "\n",
    "def update():\n",
    "    ds.data['x'] = xlist + c[step]\n",
    "    ds.data['y'] = ylist + d[step]\n",
    "\n",
    "curdoc().add_periodic_callback(update, 50)\n",
    "\n",
    "session.show() # open the document in a browser\n",
    "\n",
    "session.loop_until_closed() # run forever"
   ]
  },
  {
   "cell_type": "code",
   "execution_count": null,
   "metadata": {
    "collapsed": false
   },
   "outputs": [],
   "source": [
    "b = PEG_PLGA15k_P80_R3_P127\n",
    "xlist = b[:,1]\n",
    "ylist = b[:,2]\n",
    "\n",
    "# create a plot and style its properties\n",
    "p = figure(x_range=(min(xlist),max(xlist)), y_range=(min(ylist),max(ylist)), toolbar_location=None)\n",
    "\n",
    "# add a text renderer to out plot (no data yet)\n",
    "r = p.line(x=[], y=[], line_width=3, color='navy')\n",
    "\n",
    "session = push_session(curdoc())\n",
    "\n",
    "i = 0\n",
    "\n",
    "ds = r.data_source\n",
    "\n",
    "# create a callback that will add a number in a random location\n",
    "def callback():\n",
    "    global i\n",
    "    ds.data['x'].append(xlist[i])\n",
    "    ds.data['y'].append(ylist[i])\n",
    "    ds.trigger('data', ds.data, ds.data)\n",
    "    i = i + 1\n",
    "\n",
    "curdoc().add_periodic_callback(callback, 67)\n",
    "\n",
    "session.show() # open the document in a browser\n",
    "\n",
    "session.loop_until_closed() # run forever"
   ]
  },
  {
   "cell_type": "code",
   "execution_count": null,
   "metadata": {
    "collapsed": false
   },
   "outputs": [],
   "source": [
    "b = PEG_PLGA15k_P80_R3_P127\n",
    "xlist = b[:,1]\n",
    "ylist = b[:,2]"
   ]
  },
  {
   "cell_type": "code",
   "execution_count": null,
   "metadata": {
    "collapsed": false
   },
   "outputs": [],
   "source": [
    "xlist.shape[0]"
   ]
  },
  {
   "cell_type": "code",
   "execution_count": null,
   "metadata": {
    "collapsed": false
   },
   "outputs": [],
   "source": [
    "animated_plot(PEG_PLGA15k_P80_R3_P127)"
   ]
  },
  {
   "cell_type": "code",
   "execution_count": null,
   "metadata": {
    "collapsed": true
   },
   "outputs": [],
   "source": []
  }
 ],
 "metadata": {
  "kernelspec": {
   "display_name": "Python 3",
   "language": "python",
   "name": "python3"
  },
  "language_info": {
   "codemirror_mode": {
    "name": "ipython",
    "version": 3
   },
   "file_extension": ".py",
   "mimetype": "text/x-python",
   "name": "python",
   "nbconvert_exporter": "python",
   "pygments_lexer": "ipython3",
   "version": "3.5.1"
  }
 },
 "nbformat": 4,
 "nbformat_minor": 0
}
