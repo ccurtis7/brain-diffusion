{
 "cells": [
  {
   "cell_type": "code",
   "execution_count": null,
   "metadata": {
    "collapsed": false
   },
   "outputs": [],
   "source": [
    "import time_variable_Deff"
   ]
  },
  {
   "cell_type": "markdown",
   "metadata": {},
   "source": [
    "The function compute_plot_all_Deff is the main function of the time_variable_Deff.py file, and provides as output the effective diffusion coefficients of all particle chemistries as calculated between the input timepoints.  This provides a point of comparison for the chemistry-subcategory-specific histograms given by the functions_rick.py file.  compute_plot_all_Deff also prints the individual Deff from the input particle chemistry of interest, and provides a histogram of all Deffs from that chemistry while also showing how those Deffs compare to Deffs of other chemistries over time."
   ]
  },
  {
   "cell_type": "code",
   "execution_count": null,
   "metadata": {
    "collapsed": false,
    "scrolled": false
   },
   "outputs": [],
   "source": [
    "time_variable_Deff.compute_plot_all_Deff(2, 4, 'PEG-PLGA4A 5%CHA')"
   ]
  },
  {
   "cell_type": "markdown",
   "metadata": {},
   "source": [
    "This function can also be used with no input particle chemistry of interest, as seen below.  There needs to be a third argument, but as long as it's not a particle chemistry name, the function will print nothing and show an empty histogram but still return the table of all Deffs and the graph of all Deffs vs. time (with no chemistry emphasized).  The third argument doesn't even need to be the Boolean False; it could be any object that doesn't match with any chemistry name, e.g. 0 or 'lsdkfnoskvso'."
   ]
  },
  {
   "cell_type": "code",
   "execution_count": null,
   "metadata": {
    "collapsed": false
   },
   "outputs": [],
   "source": [
    "time_variable_Deff.compute_plot_all_Deff(2, 4, False)"
   ]
  },
  {
   "cell_type": "markdown",
   "metadata": {},
   "source": [
    "There are also errors built in to make sure the analysis is limited to the data available."
   ]
  },
  {
   "cell_type": "code",
   "execution_count": null,
   "metadata": {
    "collapsed": false
   },
   "outputs": [],
   "source": [
    "time_variable_Deff.compute_plot_all_Deff(0.5, 21, 'fokasdofn')"
   ]
  },
  {
   "cell_type": "markdown",
   "metadata": {},
   "source": [
    "The secondary function in time_variable_Deff.py is compute_hist_Deff, which focuses on the histogram for a single particle chemistry, again with a user-specified timepoint range.  It also returns the average Deff value for the input chemistry across the input timepoint range."
   ]
  },
  {
   "cell_type": "code",
   "execution_count": null,
   "metadata": {
    "collapsed": false
   },
   "outputs": [],
   "source": [
    "time_variable_Deff.compute_hist_Deff('PEG-PLGA15k 0.5CHA', 0.5, 3)"
   ]
  },
  {
   "cell_type": "code",
   "execution_count": null,
   "metadata": {
    "collapsed": true
   },
   "outputs": [],
   "source": []
  }
 ],
 "metadata": {
  "kernelspec": {
   "display_name": "Python 2",
   "language": "python",
   "name": "python2"
  },
  "language_info": {
   "codemirror_mode": {
    "name": "ipython",
    "version": 2
   },
   "file_extension": ".py",
   "mimetype": "text/x-python",
   "name": "python",
   "nbconvert_exporter": "python",
   "pygments_lexer": "ipython2",
   "version": "2.7.11"
  }
 },
 "nbformat": 4,
 "nbformat_minor": 0
}
