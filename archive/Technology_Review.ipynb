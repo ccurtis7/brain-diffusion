{
 "cells": [
  {
   "cell_type": "markdown",
   "metadata": {},
   "source": [
    "## Technology Review: Bokeh"
   ]
  },
  {
   "cell_type": "markdown",
   "metadata": {},
   "source": [
    "A major portion of our project will involve plots, both static and interactive, and animations.\n",
    "- interactive histograms of Deff with toggled parameters\n",
    "- visualize NP movement in time, with selection of particles for display\n",
    "- create mini movies that simulate original confocal microscopy videos\n",
    "- future expansion of project to incorporate in vivo brain tissue background (neurons, glia, ECS, etc)\n",
    "\n",
    "Currently, our knowledge of data visualization is limited to matplotlib. \n",
    "- Matplotlib lacks the level of sophistication we need for the animated displays\n",
    "\n",
    "Bokeh is a user-friendly visualization package that creates elegant interactive plots with relatively few lines of code. "
   ]
  },
  {
   "cell_type": "markdown",
   "metadata": {},
   "source": [
    "##  Bokeh Levels of Complexity"
   ]
  },
  {
   "cell_type": "markdown",
   "metadata": {},
   "source": [
    "Bokeh has three levels of complexity from simple and low control to more difficult and high control: charts, plotting and modeling.  With charts, you can quickly churn out complex statistical plots with just a few lines of code.  Models lets you control nearly every aspect of the plots and is more for developers.  Plotting is a happy medium.\n",
    "\n",
    "Below is an example of using charts:"
   ]
  },
  {
   "cell_type": "code",
   "execution_count": null,
   "metadata": {
    "collapsed": true
   },
   "outputs": [],
   "source": [
    "#Import library\n",
    "from bokeh.charts import Bar, output_notebook, show #use output_notebook to visualize it in notebook"
   ]
  },
  {
   "cell_type": "code",
   "execution_count": null,
   "metadata": {
    "collapsed": true
   },
   "outputs": [],
   "source": [
    "# prepare data (dummy data)\n",
    "data = {\"y\": [1, 2, 3, 4, 5]}"
   ]
  },
  {
   "cell_type": "code",
   "execution_count": null,
   "metadata": {
    "collapsed": false
   },
   "outputs": [],
   "source": [
    "# Output to Line.HTML\n",
    "output_notebook() #put output_notebook() for notebook"
   ]
  },
  {
   "cell_type": "code",
   "execution_count": null,
   "metadata": {
    "collapsed": false
   },
   "outputs": [],
   "source": [
    "# create a new line chart with a title and axis labels\n",
    "p = Bar(data, title=\"Line Chart Example\", xlabel='x', ylabel='values', width=400, height=400)\n",
    "# show the results\n",
    "show(p)"
   ]
  },
  {
   "cell_type": "markdown",
   "metadata": {},
   "source": [
    "Bokeh plotting is probably the one we are going to be using the most.  Developing any plot with Bokeh plotting takes five steps:\n",
    "* Prepare or load data\n",
    "* Tell Bokeh where to store output (html file, notebook, server, etc.)\n",
    "* Call figure() to generate the skeleton of the plot.\n",
    "* Add renderers for the for the data (this would be the line of your graph or the points of the scatter plot).\n",
    "* Show or save your plot.\n"
   ]
  },
  {
   "cell_type": "code",
   "execution_count": null,
   "metadata": {
    "collapsed": false
   },
   "outputs": [],
   "source": [
    "from bokeh.plotting import figure\n",
    "\n",
    "# prepare some data\n",
    "x = [0.1, 0.5, 1.0, 1.5, 2.0, 2.5, 3.0]\n",
    "y0 = [i**2 for i in x]\n",
    "y1 = [10**i for i in x]\n",
    "y2 = [10**(i**2) for i in x]\n",
    "\n",
    "# output to static HTML file\n",
    "output_notebook()\n",
    "\n",
    "# create a new plot\n",
    "p = figure(\n",
    "   tools=\"pan,box_zoom,reset,save\",\n",
    "   y_axis_type=\"log\", y_range=[0.001, 10**11], title=\"log axis example\",\n",
    "   x_axis_label='sections', y_axis_label='particles'\n",
    ")\n",
    "\n",
    "# add some renderers\n",
    "p.line(x, x, legend=\"y=x\")\n",
    "p.circle(x, x, legend=\"y=x\", fill_color=\"white\", size=8)\n",
    "p.line(x, y0, legend=\"y=x^2\", line_width=3)\n",
    "p.line(x, y1, legend=\"y=10^x\", line_color=\"red\")\n",
    "p.circle(x, y1, legend=\"y=10^x\", fill_color=\"red\", line_color=\"red\", size=6)\n",
    "p.line(x, y2, legend=\"y=10^x^2\", line_color=\"orange\", line_dash=\"4 4\")\n",
    "\n",
    "# show the results\n",
    "show(p)"
   ]
  },
  {
   "cell_type": "markdown",
   "metadata": {
    "collapsed": true
   },
   "source": [
    "# Advantages and Disadvantages"
   ]
  },
  {
   "cell_type": "markdown",
   "metadata": {},
   "source": [
    "Advantages:\n",
    "* Quick exploration of datasets in relatively few lines.\n",
    "* Learning curve isn't too steep.\n",
    "* Animated and real-time plots are a feature, not an afterthought.\n",
    "* Multiple output formats (notebook and html being the most common).\n",
    "\n",
    "Disadvantages:\n",
    "* Learn new package.\n",
    "* Software is new and still changing, and our code could become unusable quickly.\n"
   ]
  },
  {
   "cell_type": "markdown",
   "metadata": {
    "collapsed": true
   },
   "source": [
    "## Just Because"
   ]
  },
  {
   "cell_type": "code",
   "execution_count": null,
   "metadata": {
    "collapsed": true
   },
   "outputs": [],
   "source": [
    "# You must first run \"bokeh serve\" to view this example\n",
    "\n",
    "from numpy import pi, cos, sin, linspace, roll\n",
    "\n",
    "from bokeh.client import push_session\n",
    "from bokeh.io import curdoc\n",
    "from bokeh.plotting import figure\n",
    "\n",
    "M = 5\n",
    "N = M*10 + 1\n",
    "r_base = 8\n",
    "theta = linspace(0, 2*pi, N)\n",
    "r_x = linspace(0, 6*pi, N-1)\n",
    "rmin = r_base - cos(r_x) - 1\n",
    "rmax = r_base + sin(r_x) + 1\n",
    "\n",
    "colors = [\"FFFFCC\", \"#C7E9B4\", \"#7FCDBB\", \"#41B6C4\", \"#2C7FB8\", \"#253494\", \"#2C7FB8\", \"#41B6C4\", \"#7FCDBB\", \"#C7E9B4\"] * M\n",
    "\n",
    "# figure() function auto-adds the figure to curdoc()\n",
    "p = figure(x_range=(-11, 11), y_range=(-11, 11))\n",
    "r = p.annular_wedge(0, 0, rmin, rmax, theta[:-1], theta[1:],\n",
    "                    fill_color=colors, line_color=\"white\")\n",
    "\n",
    "# open a session to keep our local document in sync with server\n",
    "session = push_session(curdoc())\n",
    "\n",
    "ds = r.data_source\n",
    "\n",
    "def update():\n",
    "    rmin = roll(ds.data[\"inner_radius\"], 1)\n",
    "    rmax = roll(ds.data[\"outer_radius\"], -1)\n",
    "    ds.data.update(inner_radius=rmin, outer_radius=rmax)\n",
    "\n",
    "curdoc().add_periodic_callback(update, 30)\n",
    "\n",
    "session.show() # open the document in a browser\n",
    "\n",
    "session.loop_until_closed() # run forever"
   ]
  },
  {
   "cell_type": "code",
   "execution_count": null,
   "metadata": {
    "collapsed": false,
    "scrolled": false
   },
   "outputs": [],
   "source": [
    "import time_variable_Deff\n",
    "time_variable_Deff.compute_plot_all_Deff(1, 7)"
   ]
  },
  {
   "cell_type": "code",
   "execution_count": null,
   "metadata": {
    "collapsed": true
   },
   "outputs": [],
   "source": []
  }
 ],
 "metadata": {
  "kernelspec": {
   "display_name": "Python 2",
   "language": "python",
   "name": "python2"
  },
  "language_info": {
   "codemirror_mode": {
    "name": "ipython",
    "version": 2
   },
   "file_extension": ".py",
   "mimetype": "text/x-python",
   "name": "python",
   "nbconvert_exporter": "python",
   "pygments_lexer": "ipython2",
   "version": "2.7.11"
  }
 },
 "nbformat": 4,
 "nbformat_minor": 0
}
