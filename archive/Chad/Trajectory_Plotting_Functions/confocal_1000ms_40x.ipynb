{
 "cells": [
  {
   "cell_type": "code",
   "execution_count": 1,
   "metadata": {
    "collapsed": true
   },
   "outputs": [],
   "source": [
    "import os\n",
    "import sys\n",
    "module_path = os.path.abspath(os.path.join('..'))\n",
    "if module_path not in sys.path:\n",
    "    sys.path.append(module_path)\n",
    "\n",
    "from trajectory_visualization import plot_trajectory, sidebyside, shift_trajectory, overlay, shift_trajectory3D\n",
    "from trajectory_visualization import plot_trajectories3D, plot_3Doverlay, plot_MSDorDeff, plot_MeanMSDorDeff, randtraj, multrandtraj\n",
    "from trajectory_visualization import randtraj2, plot_Mean2DMSDsorDeff, plot_MSDorDeffLR, LRfor3D2D, fillin, prettify\n",
    "from methods_of_Dcalc import Dpointder, Dlinalg, Dlinalgw\n",
    "from Diffusion_Functions import frame_adjust, MSD_Deff_Calcs, prettify2, fillin2\n",
    "\n",
    "import matplotlib as mpl\n",
    "import matplotlib.pyplot as plt\n",
    "import matplotlib.ticker as mtick\n",
    "import scipy.optimize as opt\n",
    "import scipy.stats as stat\n",
    "from mpl_toolkits.mplot3d import Axes3D\n",
    "from operator import itemgetter\n",
    "import random\n",
    "import numpy as np\n",
    "import numpy.ma as ma\n",
    "import numpy.linalg as la\n",
    "from mpl_toolkits.mplot3d import Axes3D\n",
    "\n",
    "pi = np.pi\n",
    "sin = np.sin\n",
    "cos = np.cos"
   ]
  },
  {
   "cell_type": "code",
   "execution_count": 2,
   "metadata": {
    "collapsed": false
   },
   "outputs": [],
   "source": [
    "#Currently, my code only has capability to do frame-by-frame analysis on 1 video.  Perhaps future functionality will\n",
    "#be able to expand beyond this.  \n",
    "\n",
    "name = 'confocal_1000ms_40x'\n",
    "\n",
    "logplot = '{}_logplot'.format(name)\n",
    "Mplot = '{}_Mplot'.format(name)\n",
    "Dplot = '{}_Dplot'.format(name)\n",
    "Hplot = '{}_Hplot'.format(name)\n",
    "Hlogplot = '{}_Hlogplot'.format(name)\n",
    "Cplot = '{}_Cplot'.format(name)\n",
    "\n",
    "conversion = dict() #First element is the umppx, second is fps\n",
    "\n",
    "conversion[1] = (1.24, 1.02, 1)\n",
    "conversion[2] = (1.24, 1.02, 1)\n",
    "conversion[3] = (1.24, 1.02, 1)\n",
    "# conversion[4] = (0.30, 5.31, 1)\n",
    "# conversion[5] = (0.30, 5.33, 1)\n",
    "# conversion[6] = (0.30, 5.33, 1)\n",
    "# conversion[7] = (0.30, 5.35, 1)\n",
    "\n",
    "trajectory = dict()\n",
    "cut = 5\n",
    "great = 50\n",
    "\n",
    "#Particles that you want manually filtered.\n",
    "filtered = True\n",
    "tofilt = np.array([35])\n",
    "\n",
    "trajectory[1] = np.genfromtxt('../Frame-by-frame-analysis/confocal_1000ms_40x_1.csv',\n",
    "            delimiter =\",\")\n",
    "trajectory[2] = np.genfromtxt('../Frame-by-frame-analysis/confocal_1000ms_40x_2.csv',\n",
    "            delimiter =\",\")\n",
    "trajectory[3] = np.genfromtxt('../Frame-by-frame-analysis/confocal_1000ms_40x_3.csv',\n",
    "            delimiter =\",\")\n",
    "\n",
    "totvids = 3\n",
    "\n",
    "for num in range(1, totvids + 1):\n",
    "    \n",
    "    #Remove titles from columns\n",
    "    #trajectory[num]=np.delete(trajectory[num], 0,0)\n",
    "    #Remove the number column from dataset\n",
    "    trajectory[num]=np.delete(trajectory[num],0,1)\n",
    "\n",
    "#Collect trajectories of separate videos into one array\n",
    "#Comment this section out to make useable for a single trajectory\n",
    "parts = dict()\n",
    "tots = dict()\n",
    "newtots = dict()\n",
    "newtots[0] = 0\n",
    "tlen = dict()\n",
    "tlength = dict()\n",
    "tlength[0] = 0\n",
    "\n",
    "for num in range(1, totvids + 1):\n",
    "    tots[num] = trajectory[num][-1, 0].astype(np.int64)\n",
    "    parts[num] = tots[num]\n",
    "    counter = 1\n",
    "    newtots[num] = newtots[num-1] + tots[num]\n",
    "    \n",
    "    tlen[num] = trajectory[num].shape[0]\n",
    "    tlength[num] = tlength[num-1] + tlen[num]\n",
    "\n",
    "placeholder = np.zeros((tlength[totvids], 11))\n",
    "\n",
    "#     while counter < parts[num]:\n",
    "#         counter = counter + 1\n",
    "#         placeholder = np.append(lehi[num], final[num][counter], axis=0)\n",
    "\n",
    "for num in range(1, totvids + 1):\n",
    "    placeholder[tlength[num-1]:tlength[num], :] = trajectory[num]\n",
    "    placeholder[tlength[num-1]:tlength[num], 0] = placeholder[tlength[num-1]:tlength[num], 0] + newtots[num-1]\n",
    "\n",
    "# trajectory[1] = placeholder\n",
    "\n",
    "# trajectory[2][:,0] = trajectory[2][:,0] + tots[1]\n",
    "# placeholder = np.append(placeholder, trajectory[2], axis=0)\n",
    "# trajectory[3][:,0] = trajectory[3][:,0] + tots[2]\n",
    "# placeholder = np.append(placeholder, trajectory[3], axis=0)"
   ]
  },
  {
   "cell_type": "code",
   "execution_count": 3,
   "metadata": {
    "collapsed": false
   },
   "outputs": [
    {
     "data": {
      "text/plain": [
       "5.414894389572004"
      ]
     },
     "execution_count": 3,
     "metadata": {},
     "output_type": "execute_result"
    }
   ],
   "source": [
    "#Theoretical diffusion calculation using Stokes-Einstein\n",
    "\n",
    "k = 1.380649 * 10**-23\n",
    "TC = 37\n",
    "TK = TC + 273\n",
    "mu1 = 1.002*10**-3; mu2 = 0.798*10**-3; TC1 = 20; TC2 = 30\n",
    "\n",
    "mu = (mu2 - mu1)*(TC - TC1)/(TC2 - TC1) + mu1\n",
    "radius = (128/2) * 10**-9 #m\n",
    "Deff1 = k*TK/(6*np.pi*mu*radius) #m2/s\n",
    "Deff2 = Deff1 * 10**12 #um2/s\n",
    "Deff2"
   ]
  },
  {
   "cell_type": "code",
   "execution_count": 4,
   "metadata": {
    "collapsed": true
   },
   "outputs": [],
   "source": [
    "def fillin2(data):\n",
    "    \"\"\"\n",
    "    Fills in blanks of arrays without shifting frames by the starting frame.  Compare to fillin.\n",
    "    \"\"\"\n",
    "    shap = int(max(data[:, 1])) + 1\n",
    "    shape1 = int(min(data[:, 1]))\n",
    "    newshap = shap - shape1\n",
    "    filledin = np.zeros((newshap, 5))\n",
    "    filledin[0, :] = data[0, :]\n",
    "\n",
    "    count = 0\n",
    "    new = 0\n",
    "    other = 0\n",
    "    tot = 0\n",
    "\n",
    "    for num in range(1, newshap):\n",
    "        if data[num-new, 1]-data[num-new-1, 1] == 1:\n",
    "            count = count + 1\n",
    "            filledin[num, :] = data[num-new, :]\n",
    "        elif data[num - new, 1]-data[num - new - 1, 1] > 1:\n",
    "            new = new + 1\n",
    "            iba = int(data[num - new+1, 1]-data[num - new, 1])\n",
    "            togoin = data[num - new]\n",
    "            togoin[1] = togoin[1] + 1\n",
    "            filledin[num, :] = togoin\n",
    "            # dataset[2] = np.insert(dataset[2], [num + new - 2], togoin, axis=0)\n",
    "\n",
    "        else:\n",
    "            other = other + 1\n",
    "        tot = count + new + other\n",
    "\n",
    "    return filledin"
   ]
  },
  {
   "cell_type": "code",
   "execution_count": 5,
   "metadata": {
    "collapsed": true
   },
   "outputs": [],
   "source": [
    "rawframes = placeholder[:, 1]\n",
    "#frames = np.linspace()\n",
    "frames = np.linspace(min(rawframes),max(rawframes), max(rawframes)+1).astype(np.int64)\n",
    "time = frames / conversion[1][1]\n",
    "\n",
    "#Dictionaries including frames where particles aren't present.\n",
    "x = dict()\n",
    "y = dict()\n",
    "z = dict()\n",
    "\n",
    "#Dictionaries only including frames where particles are present.\n",
    "xs = dict()\n",
    "ys = dict()\n",
    "zs = dict()\n",
    "\n",
    "M1x = dict()\n",
    "M1y = dict()\n",
    "M1z = dict()\n",
    "M2xy = dict()\n",
    "M2xz = dict()\n",
    "M2yz = dict()\n",
    "M3 = dict()\n",
    "\n",
    "#Shifted dictionaries\n",
    "SM1x = dict()\n",
    "SM1y = dict()\n",
    "SM1z = dict()\n",
    "SM2xy = dict()\n",
    "SM2xz = dict()\n",
    "SM2yz = dict()\n",
    "SM3 = dict()\n",
    "\n",
    "SD1x = dict()\n",
    "SD1y = dict()\n",
    "SD1z = dict()\n",
    "SD2xy = dict()\n",
    "SD2xz = dict()\n",
    "SD2yz = dict()\n",
    "SD3 = dict()"
   ]
  },
  {
   "cell_type": "code",
   "execution_count": 6,
   "metadata": {
    "collapsed": true
   },
   "outputs": [],
   "source": [
    "dataset = dict()\n",
    "\n",
    "rawdataset = np.zeros(placeholder.shape)\n",
    "particles = placeholder[:, 0]\n",
    "total = int(max(particles))\n",
    "total1 = total + 1\n",
    "rawdataset = placeholder[:, :]\n",
    "\n",
    "#Perform conversion on raw dataset\n",
    "# rawdataset[:, 2:4] = conversion[1][0] * rawdataset[:, 2:4]\n",
    "# rawdataset[:, 4] = conversion[1][2] * rawdataset[:, 4]\n",
    "\n",
    "fixed = np.zeros(placeholder.shape)\n",
    "fixed[:, 0:2] = rawdataset[:, 0:2]\n",
    "fixed[:, 2:4] = conversion[1][0] * rawdataset[:, 2:4]\n",
    "fixed[:, 4] = conversion[1][2] * rawdataset[:, 4]\n",
    "\n",
    "# Creates an array for each trajectory containing all xyz data\n",
    "for num in range(1, total1):\n",
    "\n",
    "    hold = np.where(particles == num)\n",
    "    itindex = hold[0]\n",
    "    min1 = min(itindex)\n",
    "    max1 = max(itindex)\n",
    "    dataset[num] = (fixed[min1:max1+1, 0:5])"
   ]
  },
  {
   "cell_type": "code",
   "execution_count": 7,
   "metadata": {
    "collapsed": true
   },
   "outputs": [],
   "source": [
    "#I is a set of all nonzero elements in trajectories.\n",
    "I = dict()\n",
    "for num in range(1, total1):\n",
    "    #Construct x, y, z\n",
    "    dataset[num] = fillin2(dataset[num])\n",
    "    x[num] = np.zeros(frames.shape[0])\n",
    "    x[num][int(dataset[num][0,1]):int(dataset[num][-1,1])+1] = dataset[num][:, 2]\n",
    "    y[num] = np.zeros(frames.shape[0])\n",
    "    y[num][int(dataset[num][0,1]):int(dataset[num][-1,1])+1] = dataset[num][:, 3]\n",
    "    z[num] = np.zeros(frames.shape[0])\n",
    "    z[num][int(dataset[num][0,1]):int(dataset[num][-1,1])+1] = dataset[num][:, 4]\n",
    "    \n",
    "    xs[num] = np.zeros(frames.shape[0])\n",
    "    xs[num][0:int(dataset[num][-1,1])+1-int(dataset[num][0,1])] = dataset[num][:, 2]\n",
    "    ys[num] = np.zeros(frames.shape[0])\n",
    "    ys[num][0:int(dataset[num][-1,1])+1-int(dataset[num][0,1])] = dataset[num][:, 3]\n",
    "    zs[num] = np.zeros(frames.shape[0])\n",
    "    zs[num][0:int(dataset[num][-1,1])+1-int(dataset[num][0,1])] = dataset[num][:, 4]"
   ]
  },
  {
   "cell_type": "code",
   "execution_count": 8,
   "metadata": {
    "collapsed": false
   },
   "outputs": [
    {
     "data": {
      "text/plain": [
       "array([  0.     ,   0.     ,   0.     ,   0.     ,   0.     ,   0.     ,\n",
       "         0.     ,   0.     ,   0.     ,   0.     ,   0.     ,   0.     ,\n",
       "         0.     ,   0.     ,   0.     ,   0.     ,   0.     ,   0.     ,\n",
       "         0.     ,   0.     ,   0.     ,   0.     ,   0.     ,   0.     ,\n",
       "         0.     ,   0.     ,   0.     ,   0.     ,   0.     ,   0.     ,\n",
       "         0.     ,   0.     ,   0.     ,   0.     ,   0.     ,   0.     ,\n",
       "         0.     ,   0.     ,   0.     ,   0.     ,   0.     ,   0.     ,\n",
       "        57.60916,  57.71332,   0.     ,   0.     ])"
      ]
     },
     "execution_count": 8,
     "metadata": {},
     "output_type": "execute_result"
    }
   ],
   "source": [
    "x[742]"
   ]
  },
  {
   "cell_type": "code",
   "execution_count": 9,
   "metadata": {
    "collapsed": false
   },
   "outputs": [
    {
     "data": {
      "text/plain": [
       "542"
      ]
     },
     "execution_count": 9,
     "metadata": {},
     "output_type": "execute_result"
    }
   ],
   "source": [
    "#I wrote a short bit of code to filter out trajectories that are too short to be included.  This also reduces computing\n",
    "#time by cutting down on MSDs that need to be calculated.  \n",
    "\n",
    "cutoff = cut\n",
    "x1 = dict()\n",
    "y1 = dict()\n",
    "z1 = dict()\n",
    "\n",
    "xs1 = dict()\n",
    "ys1 = dict()\n",
    "zs1 = dict()\n",
    "\n",
    "fifties = 0\n",
    "nones = 0\n",
    "\n",
    "for num in range(1, total1):\n",
    "    if np.count_nonzero(x[num]) < cutoff:\n",
    "        nones = nones + 1\n",
    "    else:\n",
    "        fifties = fifties + 1\n",
    "        x1[num - nones] = x[num]\n",
    "        y1[num - nones] = y[num]\n",
    "        z1[num - nones] = z[num]\n",
    "\n",
    "        xs1[num - nones] = xs[num]\n",
    "        ys1[num - nones] = ys[num]\n",
    "        zs1[num - nones] = zs[num]\n",
    "        # I must also redefine the particle numbers to reflect the new set.\n",
    "        #teancum[num - nones][:, 0] = fifties\n",
    "\n",
    "#fifties is the new total1 after filtering out short trajectories\n",
    "total1 = fifties + 1\n",
    "fifties"
   ]
  },
  {
   "cell_type": "code",
   "execution_count": 11,
   "metadata": {
    "collapsed": false
   },
   "outputs": [
    {
     "data": {
      "text/plain": [
       "array([ 295.37048,  295.43992,  295.43992,  295.24772,  295.44612,\n",
       "          0.     ,    0.     ,    0.     ,    0.     ,    0.     ,\n",
       "          0.     ,    0.     ,    0.     ,    0.     ,    0.     ,\n",
       "          0.     ,    0.     ,    0.     ,    0.     ,    0.     ,\n",
       "          0.     ,    0.     ,    0.     ,    0.     ,    0.     ,\n",
       "          0.     ,    0.     ,    0.     ,    0.     ,    0.     ,\n",
       "          0.     ,    0.     ,    0.     ,    0.     ,    0.     ,\n",
       "          0.     ,    0.     ,    0.     ,    0.     ,    0.     ,\n",
       "          0.     ,    0.     ,    0.     ,    0.     ,    0.     ,    0.     ])"
      ]
     },
     "execution_count": 11,
     "metadata": {},
     "output_type": "execute_result"
    }
   ],
   "source": [
    "xs1[500]"
   ]
  },
  {
   "cell_type": "code",
   "execution_count": null,
   "metadata": {
    "collapsed": false
   },
   "outputs": [],
   "source": [
    "x[511]"
   ]
  },
  {
   "cell_type": "code",
   "execution_count": null,
   "metadata": {
    "collapsed": false
   },
   "outputs": [],
   "source": [
    "total1"
   ]
  }
 ],
 "metadata": {
  "kernelspec": {
   "display_name": "Python 3",
   "language": "python",
   "name": "python3"
  },
  "language_info": {
   "codemirror_mode": {
    "name": "ipython",
    "version": 3
   },
   "file_extension": ".py",
   "mimetype": "text/x-python",
   "name": "python",
   "nbconvert_exporter": "python",
   "pygments_lexer": "ipython3",
   "version": "3.5.1"
  }
 },
 "nbformat": 4,
 "nbformat_minor": 0
}
