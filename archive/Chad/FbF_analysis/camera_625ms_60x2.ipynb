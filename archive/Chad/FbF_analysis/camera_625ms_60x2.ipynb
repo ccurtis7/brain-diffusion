{
 "cells": [
  {
   "cell_type": "code",
   "execution_count": 1,
   "metadata": {
    "collapsed": true
   },
   "outputs": [],
   "source": [
    "import os\n",
    "import csv\n",
    "import sys\n",
    "module_path = os.path.abspath(os.path.join('..'))\n",
    "if module_path not in sys.path:\n",
    "    sys.path.append(module_path)\n",
    "\n",
    "from trajectory_visualization import plot_trajectory, sidebyside, shift_trajectory, overlay, shift_trajectory3D\n",
    "from trajectory_visualization import plot_trajectories3D, plot_3Doverlay, plot_MSDorDeff, plot_MeanMSDorDeff, randtraj, multrandtraj\n",
    "from trajectory_visualization import randtraj2, plot_Mean2DMSDsorDeff, plot_MSDorDeffLR, LRfor3D2D, fillin, prettify\n",
    "from methods_of_Dcalc import Dpointder, Dlinalg, Dlinalgw\n",
    "\n",
    "import matplotlib as mpl\n",
    "import matplotlib.pyplot as plt\n",
    "import matplotlib.ticker as mtick\n",
    "import scipy.optimize as opt\n",
    "import scipy.stats as stat\n",
    "from mpl_toolkits.mplot3d import Axes3D\n",
    "from operator import itemgetter\n",
    "import random\n",
    "import numpy as np\n",
    "import numpy.ma as ma\n",
    "import numpy.linalg as la\n",
    "from mpl_toolkits.mplot3d import Axes3D\n",
    "\n",
    "pi = np.pi\n",
    "sin = np.sin\n",
    "cos = np.cos"
   ]
  },
  {
   "cell_type": "code",
   "execution_count": 2,
   "metadata": {
    "collapsed": false
   },
   "outputs": [],
   "source": [
    "#Currently, my code only has capability to do frame-by-frame analysis on 1 video.  Perhaps future functionality will\n",
    "#be able to expand beyond this.  \n",
    "\n",
    "name = 'camera_625ms_60x'\n",
    "\n",
    "logplot = '{}_logplot'.format(name)\n",
    "Mplot = '{}_Mplot'.format(name)\n",
    "Dplot = '{}_Dplot'.format(name)\n",
    "Hplot = '{}_Hplot'.format(name)\n",
    "Hlogplot = '{}_Hlogplot'.format(name)\n",
    "Cplot = '{}_Cplot'.format(name)\n",
    "\n",
    "conversion = dict() #First element is the umppx, second is fps\n",
    "\n",
    "conversion[1] = (0.11, 1.62, 1)\n",
    "conversion[2] = (0.11, 1.62, 1)\n",
    "conversion[3] = (0.11, 1.62, 1)\n",
    "# conversion[4] = (0.30, 5.31, 1)\n",
    "# conversion[5] = (0.30, 5.33, 1)\n",
    "# conversion[6] = (0.30, 5.33, 1)\n",
    "# conversion[7] = (0.30, 5.35, 1)\n",
    "\n",
    "trajectory = dict()\n",
    "cut = 5\n",
    "\n",
    "trajectory[1] = np.genfromtxt('./camera_625ms_60x_1.csv',\n",
    "            delimiter =\",\")\n",
    "trajectory[2] = np.genfromtxt('./camera_625ms_60x_2.csv',\n",
    "            delimiter =\",\")\n",
    "trajectory[3] = np.genfromtxt('./camera_625ms_60x_3.csv',\n",
    "            delimiter =\",\")\n",
    "# trajectory[4] = np.genfromtxt('./CON_40x_2D_130ms_4_T.csv',\n",
    "#             delimiter =\",\")\n",
    "# trajectory[5] = np.genfromtxt('./CON_40x_2D_130ms_5_T.csv',\n",
    "#             delimiter =\",\")\n",
    "# trajectory[6] = np.genfromtxt('./CON_40x_2D_130ms_6_T.csv',\n",
    "#             delimiter =\",\")\n",
    "# trajectory[7] = np.genfromtxt('./CON_40x_2D_130ms_7_T.csv',\n",
    "#             delimiter =\",\")\n",
    "\n",
    "totvids = 3\n",
    "\n",
    "for num in range(1, totvids + 1):\n",
    "    \n",
    "    #Remove titles from columns\n",
    "    #trajectory[num]=np.delete(trajectory[num], 0,0)\n",
    "    #Remove the number column from dataset\n",
    "    trajectory[num]=np.delete(trajectory[num],0,1)\n",
    "\n",
    "#Collect trajectories of separate videos into one array\n",
    "#Comment this section out to make useable for a single trajectory\n",
    "parts = dict()\n",
    "placeholder = trajectory[1]\n",
    "tots = dict()\n",
    "\n",
    "for num in range(1, totvids + 1):\n",
    "    tots[num] = trajectory[num][-1, 0].astype(np.int64)\n",
    "    parts[num] = tots[num]\n",
    "    counter = 1\n",
    "\n",
    "#     while counter < parts[num]:\n",
    "#         counter = counter + 1\n",
    "#         placeholder = np.append(lehi[num], final[num][counter], axis=0)\n",
    "\n",
    "for num in range(2, totvids + 1):\n",
    "    trajectory[num][:,0] = trajectory[num][:,0] + tots[num-1]\n",
    "    tots[num] = tots[num] + tots[num-1]\n",
    "    placeholder = np.append(placeholder, trajectory[num], axis=0)\n",
    "\n",
    "trajectory[1] = placeholder\n",
    "\n",
    "# trajectory[2][:,0] = trajectory[2][:,0] + tots[1]\n",
    "# placeholder = np.append(placeholder, trajectory[2], axis=0)\n",
    "# trajectory[3][:,0] = trajectory[3][:,0] + tots[2]\n",
    "# placeholder = np.append(placeholder, trajectory[3], axis=0)"
   ]
  },
  {
   "cell_type": "code",
   "execution_count": 48,
   "metadata": {
    "collapsed": false
   },
   "outputs": [
    {
     "data": {
      "text/plain": [
       "5.414894389572004"
      ]
     },
     "execution_count": 48,
     "metadata": {},
     "output_type": "execute_result"
    }
   ],
   "source": [
    "#Theoretical diffusion calculation using Stokes-Einstein\n",
    "\n",
    "k = 1.380649 * 10**-23\n",
    "TC = 37\n",
    "TK = TC + 273\n",
    "mu1 = 1.002*10**-3; mu2 = 0.798*10**-3; TC1 = 20; TC2 = 30\n",
    "\n",
    "mu = (mu2 - mu1)*(TC - TC1)/(TC2 - TC1) + mu1\n",
    "radius = (128 * 10**-9)/2 #m\n",
    "Deff1 = k*TK/(6*np.pi*mu*radius) #m2/s\n",
    "Deff2 = Deff1 * 10**12 #um2/s\n",
    "Deff2"
   ]
  },
  {
   "cell_type": "code",
   "execution_count": 4,
   "metadata": {
    "collapsed": true
   },
   "outputs": [],
   "source": [
    "def fillin2(data):\n",
    "    \"\"\"\n",
    "    Fills in blanks of arrays without shifting frames by the starting frame.  Compare to fillin.\n",
    "    \"\"\"\n",
    "    shap = int(max(data[:, 1])) + 1\n",
    "    shape1 = int(min(data[:, 1]))\n",
    "    newshap = shap - shape1\n",
    "    filledin = np.zeros((newshap, 5))\n",
    "    filledin[0, :] = data[0, :]\n",
    "\n",
    "    count = 0\n",
    "    new = 0\n",
    "    other = 0\n",
    "    tot = 0\n",
    "\n",
    "    for num in range(1, newshap):\n",
    "        if data[num-new, 1]-data[num-new-1, 1] == 1:\n",
    "            count = count + 1\n",
    "            filledin[num, :] = data[num-new, :]\n",
    "        elif data[num - new, 1]-data[num - new - 1, 1] > 1:\n",
    "            new = new + 1\n",
    "            iba = int(data[num - new+1, 1]-data[num - new, 1])\n",
    "            togoin = data[num - new]\n",
    "            togoin[1] = togoin[1] + 1\n",
    "            filledin[num, :] = togoin\n",
    "            # dataset[2] = np.insert(dataset[2], [num + new - 2], togoin, axis=0)\n",
    "\n",
    "        else:\n",
    "            other = other + 1\n",
    "        tot = count + new + other\n",
    "\n",
    "    return filledin"
   ]
  },
  {
   "cell_type": "code",
   "execution_count": 5,
   "metadata": {
    "collapsed": true
   },
   "outputs": [],
   "source": [
    "rawframes = trajectory[1][:, 1]\n",
    "#frames = np.linspace()\n",
    "frames = np.linspace(min(rawframes),max(rawframes), max(rawframes)+1).astype(np.int64)\n",
    "time = frames / conversion[1][1]\n",
    "\n",
    "x = dict()\n",
    "y = dict()\n",
    "z = dict()\n",
    "M1x = dict()\n",
    "M1y = dict()\n",
    "M1z = dict()\n",
    "M2xy = dict()\n",
    "M2xz = dict()\n",
    "M2yz = dict()\n",
    "M3 = dict()"
   ]
  },
  {
   "cell_type": "code",
   "execution_count": 6,
   "metadata": {
    "collapsed": true
   },
   "outputs": [],
   "source": [
    "dataset = dict()\n",
    "\n",
    "particles = trajectory[1][:, 0]\n",
    "total = int(max(particles))\n",
    "total1 = total + 1\n",
    "rawdataset = trajectory[1][:, :]\n",
    "\n",
    "#Perform conversion on raw dataset\n",
    "rawdataset[:, 2:4] = conversion[1][0] * rawdataset[:, 2:4]\n",
    "rawdataset[:, 4] = conversion[1][2] * rawdataset[:, 4]\n",
    "\n",
    "# Creates an array for each trajectory containing all xyz data\n",
    "for num in range(1, total1):\n",
    "\n",
    "    hold = np.where(particles == num)\n",
    "    itindex = hold[0]\n",
    "    min1 = min(itindex)\n",
    "    max1 = max(itindex)\n",
    "    dataset[num] = (rawdataset[min1:max1+1, 0:5])"
   ]
  },
  {
   "cell_type": "code",
   "execution_count": 7,
   "metadata": {
    "collapsed": true
   },
   "outputs": [],
   "source": [
    "#I is a set of all nonzero elements in trajectories.\n",
    "I = dict()\n",
    "for num in range(1, total1):\n",
    "    #Construct x, y, z\n",
    "    dataset[num] = fillin2(dataset[num])\n",
    "    x[num] = np.zeros(frames.shape[0])\n",
    "    x[num][int(dataset[num][0,1]):int(dataset[num][-1,1])+1] = dataset[num][:, 2]\n",
    "    y[num] = np.zeros(frames.shape[0])\n",
    "    y[num][int(dataset[num][0,1]):int(dataset[num][-1,1])+1] = dataset[num][:, 3]\n",
    "    z[num] = np.zeros(frames.shape[0])\n",
    "    z[num][int(dataset[num][0,1]):int(dataset[num][-1,1])+1] = dataset[num][:, 4]"
   ]
  },
  {
   "cell_type": "code",
   "execution_count": 8,
   "metadata": {
    "collapsed": false
   },
   "outputs": [
    {
     "data": {
      "text/plain": [
       "73"
      ]
     },
     "execution_count": 8,
     "metadata": {},
     "output_type": "execute_result"
    }
   ],
   "source": [
    "np.count_nonzero(x[300])"
   ]
  },
  {
   "cell_type": "code",
   "execution_count": 9,
   "metadata": {
    "collapsed": false
   },
   "outputs": [
    {
     "data": {
      "text/plain": [
       "738"
      ]
     },
     "execution_count": 9,
     "metadata": {},
     "output_type": "execute_result"
    }
   ],
   "source": [
    "total1"
   ]
  },
  {
   "cell_type": "code",
   "execution_count": 10,
   "metadata": {
    "collapsed": false
   },
   "outputs": [],
   "source": [
    "#I wrote a short bit of code to filter out trajectories that are too short to be included.  This also reduces computing\n",
    "#time by cutting down on MSDs that need to be calculated.  \n",
    "cut = 5\n",
    "cutoff = cut\n",
    "x1 = dict()\n",
    "y1 = dict()\n",
    "z1 = dict()\n",
    "fifties = 0\n",
    "nones = 0\n",
    "\n",
    "for num in range(1, total1):\n",
    "    if np.count_nonzero(x[num]) < cutoff:\n",
    "        nones = nones + 1\n",
    "    else:\n",
    "        fifties = fifties + 1\n",
    "        x1[num - nones] = x[num]\n",
    "        y1[num - nones] = y[num]\n",
    "        z1[num - nones] = z[num]\n",
    "        # I must also redefine the particle numbers to reflect the new set.\n",
    "        #teancum[num - nones][:, 0] = fifties\n",
    "\n",
    "x = x1\n",
    "y = y1\n",
    "z = z1"
   ]
  },
  {
   "cell_type": "code",
   "execution_count": 11,
   "metadata": {
    "collapsed": false
   },
   "outputs": [
    {
     "data": {
      "text/plain": [
       "488"
      ]
     },
     "execution_count": 11,
     "metadata": {},
     "output_type": "execute_result"
    }
   ],
   "source": [
    "#fifties is the new total1 after filtering out short trajectories\n",
    "total1 = fifties + 1\n",
    "fifties"
   ]
  },
  {
   "cell_type": "code",
   "execution_count": 12,
   "metadata": {
    "collapsed": true
   },
   "outputs": [],
   "source": [
    "for num in range(1, total1):\n",
    "\n",
    "    #Construct MSD and Deff dictionaries\n",
    "    M1x[num] = np.zeros(frames.shape[0])\n",
    "    M1x[num][0:frames.shape[0]] = 0\n",
    "    M1y[num] = np.zeros(frames.shape[0])\n",
    "    M1y[num][0:frames.shape[0]] = 0\n",
    "    M1z[num] = np.zeros(frames.shape[0])\n",
    "    M1z[num][0:frames.shape[0]] = 0\n",
    "    M2xy[num] = np.zeros(frames.shape[0])\n",
    "    M2xy[num][0:frames.shape[0]] = 0\n",
    "    M2xz[num] = np.zeros(frames.shape[0])\n",
    "    M2xz[num][0:frames.shape[0]] = 0\n",
    "    M2yz[num] = np.zeros(frames.shape[0])\n",
    "    M2yz[num][0:frames.shape[0]] = 0\n",
    "    M3[num] = np.zeros(frames.shape[0])\n",
    "    M3[num][0:frames.shape[0]] = 0\n",
    "    \n",
    "    #Fill in MSD and Deff dictionaries\n",
    "    I[num] = np.nonzero(x[num])[0]\n",
    "    first = I[num][0]\n",
    "    last = I[num][-1] + 1\n",
    "    startx = x[num][first]\n",
    "    starty = y[num][first]\n",
    "    startz = z[num][first]\n",
    "    \n",
    "    for num1 in range(first, last):\n",
    "        M1x[num][num1] = (x[num][num1] - startx)**2\n",
    "        M1y[num][num1] = (y[num][num1] - starty)**2\n",
    "        M1z[num][num1] = (z[num][num1] - startz)**2\n",
    "        M2xy[num][num1] = (x[num][num1] - startx)**2 + (y[num][num1] - starty)**2\n",
    "        M2xz[num][num1] = (x[num][num1] - startx)**2 + (z[num][num1] - startz)**2\n",
    "        M2yz[num][num1] = (z[num][num1] - startz)**2 + (y[num][num1] - starty)**2\n",
    "        M3[num][num1] = (z[num][num1] - startz)**2 + (y[num][num1] - starty)**2 + (x[num][num1] - startx)**2\n",
    "        \n",
    "#         M1x[num][first] = 'NaN'\n",
    "#         M1y[num][first] = 'NaN'\n",
    "#         M1z[num][first] = 'NaN'\n",
    "#         M2xy[num][first] = 'NaN'\n",
    "#         M2xz[num][first] = 'NaN'\n",
    "#         M2yz[num][first] = 'NaN'\n",
    "#         M3[num][first] = 'NaN'\n",
    "    M1x[num] = ma.masked_equal(M1x[num], 0)\n",
    "    M1y[num] = ma.masked_equal(M1y[num], 0)\n",
    "    M1z[num] = ma.masked_equal(M1z[num], 0)\n",
    "    M2xy[num] = ma.masked_equal(M2xy[num], 0)\n",
    "    M2xz[num] = ma.masked_equal(M2xz[num], 0)\n",
    "    M2yz[num] = ma.masked_equal(M2yz[num], 0)\n",
    "    M3[num] = ma.masked_equal(M3[num], 0)"
   ]
  },
  {
   "cell_type": "code",
   "execution_count": 13,
   "metadata": {
    "collapsed": false
   },
   "outputs": [
    {
     "name": "stderr",
     "output_type": "stream",
     "text": [
      "C:\\Users\\koolk\\Miniconda3\\lib\\site-packages\\numpy\\ma\\core.py:4085: UserWarning: Warning: converting a masked element to nan.\n",
      "  warnings.warn(\"Warning: converting a masked element to nan.\")\n"
     ]
    },
    {
     "data": {
      "text/plain": [
       "{50: array([  3.45588100e-04,   1.21000000e-04,   5.08502500e-04,\n",
       "          1.43186560e-03,   5.54131600e-04,   1.64754810e-03,\n",
       "          1.89062500e-04,   1.06732890e-03,   2.90521000e-05,\n",
       "          1.18592100e-04,   4.64833600e-04,   5.11225000e-05,\n",
       "          2.37160000e-06,   1.11088890e-03,   5.23494400e-04,\n",
       "          7.99192900e-04,   7.17409000e-05,   7.17409000e-05,\n",
       "          2.56036000e-05,   4.55395600e-04,   3.66025000e-05,\n",
       "          1.21000000e-04,   8.30592400e-04,   4.23124900e-04,\n",
       "          1.38532900e-04,   1.93600000e-03,   9.01800900e-04,\n",
       "          1.21000000e-04,   3.29422500e-04,   1.55078440e-03,\n",
       "          8.74225000e-05,   6.09961000e-05,   8.11680100e-04,\n",
       "          4.84000000e-04,   3.96408100e-04,   2.45025000e-05,\n",
       "          4.09657600e-04,   2.23729000e-05,   1.49084100e-04,\n",
       "          2.75892100e-04,   1.74724000e-05,   2.54402500e-04,\n",
       "          7.55161000e-05,   9.15849000e-05,   7.36164000e-05,\n",
       "          1.21000000e-08,   1.68480400e-04,   3.62140900e-04,\n",
       "          1.21000000e-04,   8.82090000e-06,   5.85640000e-04,\n",
       "          5.59504000e-05,   1.58563240e-03,   4.36810000e-06,\n",
       "          1.68480400e-04,   1.21000000e-04,   2.13444000e-05,\n",
       "          1.16208400e-04,   4.88852100e-04,   8.30592400e-04,\n",
       "          1.71348100e-04,              nan,   1.21000000e-06,\n",
       "          4.05216900e-04,   2.68632100e-04,   1.74240000e-06,\n",
       "          2.57923600e-04,   4.74368400e-04,   4.65124000e-05,\n",
       "          1.31769000e-05,   1.93600000e-05,   3.79080900e-04])}"
      ]
     },
     "execution_count": 13,
     "metadata": {},
     "output_type": "execute_result"
    }
   ],
   "source": [
    "#np.count_nonzero(M1x[495])\n",
    "shift = next((i for i, x in enumerate(M1x[50]) if x), None)\n",
    "sM1x = dict()\n",
    "sM1x[50] = np.zeros(frames.shape[0] - shift)\n",
    "for num in range(0, M1x[50].shape[0] - shift):\n",
    "    sM1x[50][num] = M1x[50][num + shift]\n",
    "sM1x"
   ]
  },
  {
   "cell_type": "code",
   "execution_count": 14,
   "metadata": {
    "collapsed": false
   },
   "outputs": [
    {
     "data": {
      "text/plain": [
       "masked_array(data = [-- 0.00034558810000011954 0.00012099999999959231 0.0005085024999997928\n",
       " 0.0014318656000002089 0.0005541315999998592 0.0016475480999995596\n",
       " 0.00018906250000004689 0.0010673288999997373 2.9052100000059905e-05\n",
       " 0.00011859209999976447 0.00046483359999973295 5.112250000014274e-05\n",
       " 2.3715999999736262e-06 0.00111088889999854 0.000523494400000031\n",
       " 0.0007991929000003525 7.174090000004476e-05 7.174090000004476e-05\n",
       " 2.5603600000146713e-05 0.00045539559999978785 3.6602500000194784e-05\n",
       " 0.00012099999999959231 0.0008305923999997735 0.00042312489999967937\n",
       " 0.0001385328999999648 0.0019360000000009803 0.0009018008999989331\n",
       " 0.00012099999999959231 0.00032942249999968966 0.001550784399999543\n",
       " 8.74224999999579e-05 6.099609999987662e-05 0.0008116801000002856\n",
       " 0.0004840000000002451 0.0003964080999998358 2.4502500000079236e-05\n",
       " 0.0004096575999994711 2.2372899999818417e-05 0.00014908410000025074\n",
       " 0.00027589210000000043 1.7472400000043303e-05 0.00025440249999966416\n",
       " 7.551609999977768e-05 9.15848999999335e-05 7.361639999991291e-05\n",
       " 1.2099999998302246e-08 0.00016848039999960206 0.00036214090000002925\n",
       " 0.00012099999999990496 8.820900000028525e-06 0.0005856399999996776\n",
       " 5.595040000001558e-05 0.0015856324000004748 4.368100000040526e-06\n",
       " 0.00016848039999960206 0.00012099999999959231 2.1344399999893947e-05\n",
       " 0.00011620839999993324 0.0004888521000005335 0.0008305923999997735\n",
       " 0.00017134809999976868 -- 1.2100000000178079e-06 0.0004052169000003568\n",
       " 0.0002686321000005064 1.7423999999806233e-06 0.00025792359999987044\n",
       " 0.00047436840000029593 4.651239999987042e-05 1.317689999990505e-05\n",
       " 1.9360000000034814e-05 0.00037908089999993467],\n",
       "             mask = [ True False False False False False False False False False False False\n",
       " False False False False False False False False False False False False\n",
       " False False False False False False False False False False False False\n",
       " False False False False False False False False False False False False\n",
       " False False False False False False False False False False False False\n",
       " False False  True False False False False False False False False False\n",
       " False],\n",
       "       fill_value = 0.0)"
      ]
     },
     "execution_count": 14,
     "metadata": {},
     "output_type": "execute_result"
    }
   ],
   "source": [
    "M1x[50]"
   ]
  },
  {
   "cell_type": "code",
   "execution_count": 15,
   "metadata": {
    "collapsed": false
   },
   "outputs": [],
   "source": [
    "#Each entry in yes is an array of particles that are in the given frame.  The frame is given by the index of yes.\n",
    "yes = dict()\n",
    "yessize = dict()\n",
    "for num1 in range(1, frames.shape[0]):\n",
    "    count = 0\n",
    "    yes[num1] = np.zeros(total1).astype(np.int64)\n",
    "    for num in range(1, total1):\n",
    "        check = num1 in I[num]\n",
    "        if check == True:\n",
    "            yes[num1][count] = num\n",
    "            count = count + 1\n",
    "    iindex = np.where(yes[num1]==max(yes[num1]))[0][0]\n",
    "    yes[num1] = yes[num1][0:iindex]"
   ]
  },
  {
   "cell_type": "code",
   "execution_count": 16,
   "metadata": {
    "collapsed": false
   },
   "outputs": [
    {
     "name": "stderr",
     "output_type": "stream",
     "text": [
      "C:\\Users\\koolk\\Miniconda3\\lib\\site-packages\\numpy\\ma\\core.py:4085: UserWarning: Warning: converting a masked element to nan.\n",
      "  warnings.warn(\"Warning: converting a masked element to nan.\")\n"
     ]
    }
   ],
   "source": [
    "#And the FBF analyis\n",
    "framed = dict()\n",
    "fM1y = dict()\n",
    "fM1z = dict()\n",
    "fM2xy = dict()\n",
    "fM2xz = dict()\n",
    "fM2yz = dict()\n",
    "fM3 = dict()\n",
    "\n",
    "for num2 in range(1, frames.shape[0]):\n",
    "    framed[num2] = np.zeros(frames.shape[0])\n",
    "    fM1y[num2] = np.zeros(frames.shape[0])\n",
    "    fM1z[num2] = np.zeros(frames.shape[0])\n",
    "    fM2xy[num2] = np.zeros(frames.shape[0])\n",
    "    fM2xz[num2] = np.zeros(frames.shape[0])\n",
    "    fM2yz[num2] = np.zeros(frames.shape[0])\n",
    "    fM3[num2] = np.zeros(frames.shape[0])\n",
    "    \n",
    "    for num1 in range(0, frames.shape[0]):\n",
    "        frame = np.zeros(yes[num2].shape[0])\n",
    "        fmM1y = np.zeros(yes[num2].shape[0])\n",
    "        fmM1z = np.zeros(yes[num2].shape[0])\n",
    "        fmM2xy = np.zeros(yes[num2].shape[0])\n",
    "        fmM2xz = np.zeros(yes[num2].shape[0])\n",
    "        fmM2yz = np.zeros(yes[num2].shape[0])\n",
    "        fmM3 = np.zeros(yes[num2].shape[0])\n",
    "        \n",
    "        for num in range(0, yes[num2].shape[0]):\n",
    "            frame[num] = M1x[yes[num2][num]][num1]\n",
    "            fmM1y[num] = M1y[yes[num2][num]][num1]\n",
    "            fmM1z[num] = M1z[yes[num2][num]][num1]\n",
    "            fmM2xy[num] = M2xy[yes[num2][num]][num1]\n",
    "            fmM2xz[num] = M2xz[yes[num2][num]][num1]\n",
    "            fmM2yz[num] = M2yz[yes[num2][num]][num1]\n",
    "            fmM3[num] = M3[yes[num2][num]][num1]\n",
    "        frame = ma.masked_invalid(frame)\n",
    "        fmM1y = ma.masked_invalid(fmM1y)\n",
    "        fmM1z = ma.masked_invalid(fmM1z)\n",
    "        fmM2xy = ma.masked_invalid(fmM2xy)\n",
    "        fmM2xz = ma.masked_invalid(fmM2xz)\n",
    "        fmM2yz = ma.masked_invalid(fmM2yz)\n",
    "        fmM3 = ma.masked_invalid(fmM3)\n",
    "        \n",
    "        framed[num2][num1] = stat.gmean(frame)\n",
    "        fM1y[num2][num1] = stat.gmean(fmM1y)\n",
    "        fM1z[num2][num1] = stat.gmean(fmM1z)\n",
    "        fM2xy[num2][num1] = stat.gmean(fmM2xy)\n",
    "        fM2xz[num2][num1] = stat.gmean(fmM2xz)\n",
    "        fM2yz[num2][num1] = stat.gmean(fmM2yz)\n",
    "        fM3[num2][num1] = stat.gmean(fmM3)"
   ]
  },
  {
   "cell_type": "code",
   "execution_count": 17,
   "metadata": {
    "collapsed": false
   },
   "outputs": [],
   "source": [
    "FM1x = np.zeros(frames.shape[0])\n",
    "FM1y = np.zeros(frames.shape[0])\n",
    "FM1z = np.zeros(frames.shape[0])\n",
    "FM2xy = np.zeros(frames.shape[0])\n",
    "FM2xz = np.zeros(frames.shape[0])\n",
    "FM2yz = np.zeros(frames.shape[0])\n",
    "FM3 = np.zeros(frames.shape[0])\n",
    "\n",
    "for num in range(1, frames.shape[0]):\n",
    "    FM1x = FM1x + framed[num]\n",
    "    FM1y = FM1y + fM1y[num]\n",
    "    FM1z = FM1z + fM1z[num]\n",
    "    FM2xy = FM2xy + fM2xy[num]\n",
    "    FM2xz = FM2xz + fM2xz[num]\n",
    "    FM2yz = FM2yz + fM2yz[num]\n",
    "    FM3 = FM3 + fM3[num]\n",
    "    \n",
    "FM1x = FM1x/frames.shape[0]\n",
    "FM1y = FM1y/frames.shape[0]\n",
    "FM1z = FM1z/frames.shape[0]\n",
    "FM2xy = FM2xy/frames.shape[0]\n",
    "FM2xz = FM2xz/frames.shape[0]\n",
    "FM2yz = FM2yz/frames.shape[0]\n",
    "FM3 = FM3/frames.shape[0]\n",
    "\n"
   ]
  },
  {
   "cell_type": "code",
   "execution_count": 18,
   "metadata": {
    "collapsed": false
   },
   "outputs": [],
   "source": [
    "FD1x = FM1x/time\n",
    "FD1y = FM1y/time\n",
    "FD1z = FM1z/time\n",
    "FD2xy = FM2xy/time\n",
    "FD2xz = FM2xz/time\n",
    "FD2yz = FM2yz/time\n",
    "FD3 = FM3/time"
   ]
  },
  {
   "cell_type": "code",
   "execution_count": 19,
   "metadata": {
    "collapsed": true
   },
   "outputs": [],
   "source": [
    "def plot_MLOG(M2xy, Mx, My, time, dec1, dec2, datatype, filename, limit1, limit2, tick1, tick2):\n",
    "    \"\"\"\n",
    "    Plots the MSDs or Deffs from a trajectory dataset.\n",
    "\n",
    "    n1: particle numbers (typically 0)\n",
    "    n2: time (typically 1)\n",
    "    n3: MSDs or Deffs (11 or 15 typically)\n",
    "    \"\"\"\n",
    "\n",
    "    M2 = M2xy\n",
    "    Mx = Mx\n",
    "    My = My\n",
    "    t = time\n",
    "    \n",
    "    #I will need to calculate standard deviations eventually\n",
    "#     #Now to calculate the standard dev at each point:\n",
    "#     for num in range (1, total1):\n",
    "#         SDunit = (MSD[num] - MMSD)**2\n",
    "#         SD = SD + SDunit\n",
    "#     SD = np.sqrt(SD/total1)\n",
    "#     SE = SD/np.sqrt(total1)\n",
    "    \n",
    "#     #Linear algebra to find Deff:\n",
    "#     t = time[1][:]\n",
    "#     w = dict()\n",
    "#     line = dict()\n",
    "#     A = np.ones((np.shape(t)[0], 2))\n",
    "#     A[:, 0] = t\n",
    "#     w[0] = np.linalg.lstsq(A, MMSD[:, 0])[0]\n",
    "#     w[1] = np.linalg.lstsq(A, MMSD[:, 1])[0]\n",
    "#     w[2] = np.linalg.lstsq(A, MMSD[:, 2])[0]\n",
    "#     line[0] = w[0][0]*t + w[0][1]\n",
    "#     line[1] = w[1][0]*t + w[1][1]\n",
    "#     line[2] = w[2][0]*t + w[2][1]\n",
    "    \n",
    "#     #Linear algebra for fit on log plot:\n",
    "#     wl = dict()\n",
    "#     linel = dict()\n",
    "#     lt = np.log(t)\n",
    "#     lA = np.ones((np.shape(t)[0], 2))\n",
    "#     lA[:, 0] = lt\n",
    "#     lM = np.log(MMSD)\n",
    "#     wl[0] = np.linalg.lstsq(lA, lM[:, 0])[0]\n",
    "#     wl[1] = np.linalg.lstsq(lA, lM[:, 1])[0]\n",
    "#     wl[2] = np.linalg.lstsq(lA, lM[:, 2])[0]\n",
    "#     linel[0] = np.exp(wl[0][0]*lt + wl[0][1])\n",
    "#     linel[1] = np.exp(wl[1][0]*lt + wl[1][1])\n",
    "#     linel[2] = np.exp(wl[2][0]*lt + wl[2][1])\n",
    "\n",
    "    # Creates figure\n",
    "    fig = plt.figure(figsize=(24, 18), dpi=80)\n",
    "    ax = fig.add_subplot(111)\n",
    "    # ax.set_title('Particle Trajectories', x=0.5, y=1.15)\n",
    "\n",
    "    ax.plot(t, M2, linestyle='', linewidth=10, label='2D', marker='o', ms=10, color='blue')\n",
    "    ax.plot(t, Mx, linestyle='', linewidth=10, label='1D x', marker='o', ms=10, color='red')\n",
    "    ax.plot(t, My, linestyle='', linewidth=10, label='1D x', marker='o', ms=10, color='green')\n",
    "    \n",
    "#     ax.errorbar(t, MMSD[:, 0], yerr=SE[:, 0], fmt='', linestyle='', capsize=7, capthick=2, elinewidth=2, color='blue')\n",
    "#     ax.errorbar(t, MMSD[:, 1], yerr=SE[:, 1], fmt='', linestyle='', capsize=7, capthick=2, elinewidth=2, color='red')\n",
    "#     ax.errorbar(t, MMSD[:, 2], yerr=SE[:, 2], fmt='', linestyle='', capsize=7, capthick=2, elinewidth=2, color='green')\n",
    "    \n",
    "    \n",
    "#     ax.plot(t, linel[0], linewidth=3, color='blue')\n",
    "#     ax.plot(t, linel[1], linewidth=3, color='red')\n",
    "#     ax.plot(t, linel[2], linewidth=3, color='green')\n",
    "    \n",
    "    # A few adjustments to prettify the graph\n",
    "    for item in ([ax.xaxis.label, ax.yaxis.label] +\n",
    "                 ax.get_xticklabels() + ax.get_yticklabels()):\n",
    "        item.set_fontsize(70)\n",
    "\n",
    "    xmajor_ticks = np.arange(0, limit1, tick1)\n",
    "    ymajor_ticks = np.arange(0, limit2, tick2)\n",
    "\n",
    "    hfont = {'fontname':'Arial'}\n",
    "    ax.set_xticks(xmajor_ticks)\n",
    "    ax.set_yticks(ymajor_ticks)\n",
    "    ax.title.set_fontsize(70)\n",
    "    ax.set_xlabel('Time (s)', fontsize=115, **hfont)\n",
    "    ax.set_ylabel(r'MSD ($\\mu$m$^2$)', fontsize=115, **hfont)\n",
    "    ax.tick_params(direction='out', pad=16)\n",
    "    ax.legend(loc=(0.05, 0.61), prop={'size': 70})\n",
    "    plt.gca().xaxis.set_major_formatter(mpl.ticker.FormatStrFormatter('%.{}f'.format(dec1)))\n",
    "    plt.gca().yaxis.set_major_formatter(mpl.ticker.FormatStrFormatter('%.{}f'.format(dec2)))\n",
    "\n",
    "    \n",
    "    plt.yscale('log')\n",
    "    plt.xscale('log')\n",
    "    plt.gca().set_xlim([0.1, limit1])\n",
    "    plt.gca().set_ylim([0.0001, limit2])\n",
    "\n",
    "    # Save your figure\n",
    "    plt.savefig('{}.png'.format(filename), bbox_inches='tight')\n",
    "    return M2, Mx"
   ]
  },
  {
   "cell_type": "code",
   "execution_count": 20,
   "metadata": {
    "collapsed": false
   },
   "outputs": [],
   "source": [
    "one1, bleh = plot_MLOG(FM2xy, FM1x, FM1y, time, 1, 1, 'MSD (um^2)', logplot, 100.1, 0.1, 1, 1)\n",
    "plt.show()"
   ]
  },
  {
   "cell_type": "code",
   "execution_count": 21,
   "metadata": {
    "collapsed": true
   },
   "outputs": [],
   "source": [
    "def plot_M(M2xy, Mx, My, time, dec1, dec2, datatype, filename, limit1, limit2, tick1, tick2):\n",
    "    \"\"\"\n",
    "    Plots the MSDs or Deffs from a trajectory dataset.\n",
    "\n",
    "    n1: particle numbers (typically 0)\n",
    "    n2: time (typically 1)\n",
    "    n3: MSDs or Deffs (11 or 15 typically)\n",
    "    \"\"\"\n",
    "\n",
    "    M2 = M2xy\n",
    "    Mx = Mx\n",
    "    My = My\n",
    "    t = time\n",
    "    \n",
    "#     #Linear algebra to find Deff:\n",
    "#     t = time[1][:]\n",
    "#     w = dict()\n",
    "#     line = dict()\n",
    "#     A = np.ones((np.shape(t)[0], 2))\n",
    "#     A[:, 0] = t\n",
    "#     w[0] = np.linalg.lstsq(A, MMSD[:, 0])[0]\n",
    "#     w[1] = np.linalg.lstsq(A, MMSD[:, 1])[0]\n",
    "#     w[2] = np.linalg.lstsq(A, MMSD[:, 2])[0]\n",
    "#     line[0] = w[0][0]*t + w[0][1]\n",
    "#     line[1] = w[1][0]*t + w[1][1]\n",
    "#     line[2] = w[2][0]*t + w[2][1]\n",
    "    \n",
    "#     #Linear algebra for fit on log plot:\n",
    "#     wl = dict()\n",
    "#     linel = dict()\n",
    "#     lt = np.log(t)\n",
    "#     lA = np.ones((np.shape(t)[0], 2))\n",
    "#     lA[:, 0] = lt\n",
    "#     lM = np.log(MMSD)\n",
    "#     wl[0] = np.linalg.lstsq(lA, lM[:, 0])[0]\n",
    "#     wl[1] = np.linalg.lstsq(lA, lM[:, 1])[0]\n",
    "#     wl[2] = np.linalg.lstsq(lA, lM[:, 2])[0]\n",
    "#     linel[0] = np.exp(wl[0][0]*lt + wl[0][1])\n",
    "#     linel[1] = np.exp(wl[1][0]*lt + wl[1][1])\n",
    "#     linel[2] = np.exp(wl[2][0]*lt + wl[2][1])\n",
    "\n",
    "    # Creates figure\n",
    "    fig = plt.figure(figsize=(24, 18), dpi=80)\n",
    "    ax = fig.add_subplot(111)\n",
    "    # ax.set_title('Particle Trajectories', x=0.5, y=1.15)\n",
    "\n",
    "    ax.plot(t, M2, linestyle='', linewidth=10, label='2D', marker='o', ms=10, color='blue')\n",
    "    ax.plot(t, Mx, linestyle='', linewidth=10, label='1D x', marker='o', ms=10, color='red')\n",
    "    ax.plot(t, My, linestyle='', linewidth=10, label='1D x', marker='o', ms=10, color='green')\n",
    "    \n",
    "#     ax.errorbar(t, MMSD[:, 0], yerr=SE[:, 0], fmt='', linestyle='', capsize=7, capthick=2, elinewidth=2, color='blue')\n",
    "#     ax.errorbar(t, MMSD[:, 1], yerr=SE[:, 1], fmt='', linestyle='', capsize=7, capthick=2, elinewidth=2, color='red')\n",
    "#     ax.errorbar(t, MMSD[:, 2], yerr=SE[:, 2], fmt='', linestyle='', capsize=7, capthick=2, elinewidth=2, color='green')\n",
    "    \n",
    "#     ax.plot(t, line[0], linewidth=3, color='blue')\n",
    "#     ax.plot(t, line[1], linewidth=3, color='red')\n",
    "#     ax.plot(t, line[2], linewidth=3, color='green')\n",
    "    \n",
    "    #ax.plot(t, linel[0], linewidth=3, color='blue')\n",
    "    #ax.plot(t, linel[1], linewidth=3, color='red')\n",
    "    #ax.plot(t, linel[2], linewidth=3, color='green')\n",
    "    \n",
    "    # A few adjustments to prettify the graph\n",
    "    for item in ([ax.xaxis.label, ax.yaxis.label] +\n",
    "                 ax.get_xticklabels() + ax.get_yticklabels()):\n",
    "        item.set_fontsize(70)\n",
    "\n",
    "    xmajor_ticks = np.arange(0, limit1, tick1)\n",
    "    ymajor_ticks = np.arange(0, limit2, tick2)\n",
    "\n",
    "    hfont = {'fontname':'Arial'}\n",
    "    ax.set_xticks(xmajor_ticks)\n",
    "    ax.set_yticks(ymajor_ticks)\n",
    "    ax.title.set_fontsize(70)\n",
    "    ax.set_xlabel('Time (s)', fontsize=115, **hfont)\n",
    "    ax.set_ylabel(r'MSD ($\\mu$m$^2$)', fontsize=115, **hfont)\n",
    "    ax.tick_params(direction='out', pad=16)\n",
    "    ax.legend(loc=(0.05, 0.61), prop={'size': 70})\n",
    "    plt.gca().xaxis.set_major_formatter(mpl.ticker.FormatStrFormatter('%.{}f'.format(dec1)))\n",
    "    plt.gca().yaxis.set_major_formatter(mpl.ticker.FormatStrFormatter('%.{}e'.format(dec2)))\n",
    "\n",
    "    \n",
    "    #plt.yscale('log')\n",
    "    #plt.xscale('log')\n",
    "    plt.gca().set_xlim([0, limit1])\n",
    "    plt.gca().set_ylim([0, limit2])\n",
    "\n",
    "    # Save your figure\n",
    "    plt.savefig('{}.png'.format(filename), bbox_inches='tight')\n",
    "    return M2, Mx"
   ]
  },
  {
   "cell_type": "code",
   "execution_count": 22,
   "metadata": {
    "collapsed": true
   },
   "outputs": [],
   "source": [
    "one1, bleh = plot_M(FM2xy, FM1x, FM1y, time, 0, 0, 'MSD (um^2)', Mplot, 50.1, 0.0101, 10, 0.002)\n",
    "plt.show()"
   ]
  },
  {
   "cell_type": "code",
   "execution_count": 23,
   "metadata": {
    "collapsed": false
   },
   "outputs": [],
   "source": [
    "Deff3 = Deff2*np.ones(time.shape[0])"
   ]
  },
  {
   "cell_type": "code",
   "execution_count": 24,
   "metadata": {
    "collapsed": false
   },
   "outputs": [],
   "source": [
    "def plot_M1(M2xy, Mx, My, Mth, time, dec1, dec2, datatype, filename, limit1, limit2, tick1, tick2):\n",
    "    \"\"\"\n",
    "    Plots the MSDs or Deffs from a trajectory dataset.\n",
    "\n",
    "    n1: particle numbers (typically 0)\n",
    "    n2: time (typically 1)\n",
    "    n3: MSDs or Deffs (11 or 15 typically)\n",
    "    \"\"\"\n",
    "\n",
    "    M2 = M2xy\n",
    "    Mx = Mx\n",
    "    My = My\n",
    "    t = time\n",
    "    \n",
    "#     #Linear algebra to find Deff:\n",
    "#     t = time[1][:]\n",
    "#     w = dict()\n",
    "#     line = dict()\n",
    "#     A = np.ones((np.shape(t)[0], 2))\n",
    "#     A[:, 0] = t\n",
    "#     w[0] = np.linalg.lstsq(A, MMSD[:, 0])[0]\n",
    "#     w[1] = np.linalg.lstsq(A, MMSD[:, 1])[0]\n",
    "#     w[2] = np.linalg.lstsq(A, MMSD[:, 2])[0]\n",
    "#     line[0] = w[0][0]*t + w[0][1]\n",
    "#     line[1] = w[1][0]*t + w[1][1]\n",
    "#     line[2] = w[2][0]*t + w[2][1]\n",
    "    \n",
    "#     #Linear algebra for fit on log plot:\n",
    "#     wl = dict()\n",
    "#     linel = dict()\n",
    "#     lt = np.log(t)\n",
    "#     lA = np.ones((np.shape(t)[0], 2))\n",
    "#     lA[:, 0] = lt\n",
    "#     lM = np.log(MMSD)\n",
    "#     wl[0] = np.linalg.lstsq(lA, lM[:, 0])[0]\n",
    "#     wl[1] = np.linalg.lstsq(lA, lM[:, 1])[0]\n",
    "#     wl[2] = np.linalg.lstsq(lA, lM[:, 2])[0]\n",
    "#     linel[0] = np.exp(wl[0][0]*lt + wl[0][1])\n",
    "#     linel[1] = np.exp(wl[1][0]*lt + wl[1][1])\n",
    "#     linel[2] = np.exp(wl[2][0]*lt + wl[2][1])\n",
    "\n",
    "    # Creates figure\n",
    "    fig = plt.figure(figsize=(24, 18), dpi=80)\n",
    "    ax = fig.add_subplot(111)\n",
    "    # ax.set_title('Particle Trajectories', x=0.5, y=1.15)\n",
    "\n",
    "    ax.plot(t, M2, linewidth=10, label='2D', color='blue')\n",
    "    ax.plot(t, Mx, linewidth=10, label='1D x', color='red')\n",
    "    ax.plot(t, My, linewidth=10, label='1D x', color='green')\n",
    "    ax.plot(t, Mth, '--', linewidth=10, label='theoretical', color='purple')\n",
    "    \n",
    "#     ax.errorbar(t, MMSD[:, 0], yerr=SE[:, 0], fmt='', linestyle='', capsize=7, capthick=2, elinewidth=2, color='blue')\n",
    "#     ax.errorbar(t, MMSD[:, 1], yerr=SE[:, 1], fmt='', linestyle='', capsize=7, capthick=2, elinewidth=2, color='red')\n",
    "#     ax.errorbar(t, MMSD[:, 2], yerr=SE[:, 2], fmt='', linestyle='', capsize=7, capthick=2, elinewidth=2, color='green')\n",
    "    \n",
    "#     ax.plot(t, line[0], linewidth=3, color='blue')\n",
    "#     ax.plot(t, line[1], linewidth=3, color='red')\n",
    "#     ax.plot(t, line[2], linewidth=3, color='green')\n",
    "    \n",
    "    #ax.plot(t, linel[0], linewidth=3, color='blue')\n",
    "    #ax.plot(t, linel[1], linewidth=3, color='red')\n",
    "    #ax.plot(t, linel[2], linewidth=3, color='green')\n",
    "    \n",
    "    # A few adjustments to prettify the graph\n",
    "    for item in ([ax.xaxis.label, ax.yaxis.label] +\n",
    "                 ax.get_xticklabels() + ax.get_yticklabels()):\n",
    "        item.set_fontsize(70)\n",
    "\n",
    "    xmajor_ticks = np.arange(0, limit1, tick1)\n",
    "    ymajor_ticks = np.arange(0, limit2, tick2)\n",
    "\n",
    "    ax.set_xticks(xmajor_ticks)\n",
    "    ax.set_yticks(ymajor_ticks)\n",
    "\n",
    "    hfont = {'fontname':'Arial'}\n",
    "    ax.title.set_fontsize(70)\n",
    "    ax.set_xlabel('Time (s)', fontsize=115, **hfont)\n",
    "    ax.set_ylabel(r'D ($\\mu$m$^2$/s)', fontsize=115, **hfont)\n",
    "    ax.tick_params(direction='out', pad=16)\n",
    "    ax.legend(loc=(0.10, 0.54), prop={'size': 70})\n",
    "    plt.gca().xaxis.set_major_formatter(mpl.ticker.FormatStrFormatter('%.{}f'.format(dec1)))\n",
    "    plt.gca().yaxis.set_major_formatter(mpl.ticker.FormatStrFormatter('%.{}e'.format(dec2)))\n",
    "\n",
    "    \n",
    "    #plt.yscale('log')\n",
    "    #plt.xscale('log')\n",
    "    plt.gca().set_xlim([0, limit1])\n",
    "    plt.gca().set_ylim([0, limit2])\n",
    "\n",
    "    # Save your figure\n",
    "    plt.savefig('{}.png'.format(filename), bbox_inches='tight')\n",
    "    return M2, Mx"
   ]
  },
  {
   "cell_type": "code",
   "execution_count": 25,
   "metadata": {
    "collapsed": false
   },
   "outputs": [],
   "source": [
    "one1, bleh = plot_M1(FD2xy, FD1x, FD1y, Deff3, time, 0, 1, 'MSD (um^2)', Dplot, 50.1, 0.0021, 10, 0.0004)\n",
    "plt.show()"
   ]
  },
  {
   "cell_type": "code",
   "execution_count": 26,
   "metadata": {
    "collapsed": false
   },
   "outputs": [],
   "source": [
    "#This block will create dictionaries of shifted trajectories to calculate arithmetic and geometric means.  I need to so\n",
    "#I can compare FBF analysis with them.\n",
    "\n",
    "final, tots = prettify(trajectory[1], 20, 20, conversion[1][0], conversion[1][1], conversion[1][2])\n",
    "\n",
    "SM1x = dict()\n",
    "SM1y = dict()\n",
    "SM1z = dict()\n",
    "SM2xy = dict()\n",
    "SM2xz = dict()\n",
    "SM2yz = dict()\n",
    "SM3 = dict()\n",
    "\n",
    "SD1x = dict()\n",
    "SD1y = dict()\n",
    "SD1z = dict()\n",
    "SD2xy = dict()\n",
    "SD2xz = dict()\n",
    "SD2yz = dict()\n",
    "SD3 = dict()\n",
    "\n",
    "time2 = final[2][:, 15]\n",
    "\n",
    "for num in range(1, tots + 1):\n",
    "    SM1x[num] = final[num][:, 12]\n",
    "    SM1y[num] = final[num][:, 13]\n",
    "    SM1z[num] = final[num][:, 14]\n",
    "    SM2xy[num] = final[num][:, 9]\n",
    "    SM2xz[num] = final[num][:, 10]\n",
    "    SM2yz[num] = final[num][:, 11]\n",
    "    SM3[num] = final[num][:, 8]\n",
    "\n",
    "    SD1x[num] = final[num][:, 20]\n",
    "    SD1y[num] = final[num][:, 21]\n",
    "    SD1z[num] = final[num][:, 22]\n",
    "    SD2xy[num] = final[num][:, 17]\n",
    "    SD2xz[num] = final[num][:, 18]\n",
    "    SD2yz[num] = final[num][:, 19]\n",
    "    SD3[num] = final[num][:, 16]\n",
    "    \n",
    "    SM1x[num] = ma.masked_equal(SM1x[num], 0)\n",
    "    SM1y[num] = ma.masked_equal(SM1y[num], 0)\n",
    "    SM1z[num] = ma.masked_equal(SM1z[num], 0)\n",
    "    SM2xy[num] = ma.masked_equal(SM2xy[num], 0)\n",
    "    SM2xz[num] = ma.masked_equal(SM2xz[num], 0)\n",
    "    SM2yz[num] = ma.masked_equal(SM2yz[num], 0)\n",
    "    SM3[num] = ma.masked_equal(SM3[num], 0)\n",
    "    \n",
    "    SD1x[num] = ma.masked_equal(SD1x[num], 0)\n",
    "    SD1y[num] = ma.masked_equal(SD1y[num], 0)\n",
    "    SD1z[num] = ma.masked_equal(SD1z[num], 0)\n",
    "    SD2xy[num] = ma.masked_equal(SD2xy[num], 0)\n",
    "    SD2xz[num] = ma.masked_equal(SD2xz[num], 0)\n",
    "    SD2yz[num] = ma.masked_equal(SD2yz[num], 0)\n",
    "    SD3[num] = ma.masked_equal(SD3[num], 0)"
   ]
  },
  {
   "cell_type": "code",
   "execution_count": 27,
   "metadata": {
    "collapsed": false
   },
   "outputs": [
    {
     "data": {
      "text/plain": [
       "316"
      ]
     },
     "execution_count": 27,
     "metadata": {},
     "output_type": "execute_result"
    }
   ],
   "source": [
    "tots"
   ]
  },
  {
   "cell_type": "code",
   "execution_count": 28,
   "metadata": {
    "collapsed": false
   },
   "outputs": [
    {
     "data": {
      "text/plain": [
       "array([   1.,    1.,    1., ...,  736.,  737.,  737.])"
      ]
     },
     "execution_count": 28,
     "metadata": {},
     "output_type": "execute_result"
    }
   ],
   "source": [
    "trajectory[1][:,0]"
   ]
  },
  {
   "cell_type": "code",
   "execution_count": 29,
   "metadata": {
    "collapsed": true
   },
   "outputs": [],
   "source": [
    "#Now to calculate arithmetic and geometric means.\n",
    "\n",
    "arM1x = np.zeros(SM1x[1].shape[0])\n",
    "arM1y = np.zeros(SM1x[1].shape[0])\n",
    "arM1z = np.zeros(SM1x[1].shape[0])\n",
    "arM2xy = np.zeros(SM1x[1].shape[0])\n",
    "arM2xz = np.zeros(SM1x[1].shape[0])\n",
    "arM2yz = np.zeros(SM1x[1].shape[0])\n",
    "arM3 = np.zeros(SM1x[1].shape[0])\n",
    "\n",
    "arD1x = np.zeros(SM1x[1].shape[0])\n",
    "arD1y = np.zeros(SM1x[1].shape[0])\n",
    "arD1z = np.zeros(SM1x[1].shape[0])\n",
    "arD2xy = np.zeros(SM1x[1].shape[0])\n",
    "arD2xz = np.zeros(SM1x[1].shape[0])\n",
    "arD2yz = np.zeros(SM1x[1].shape[0])\n",
    "arD3 = np.zeros(SM1x[1].shape[0])\n",
    "\n",
    "st_arM1x = np.zeros(SM1x[1].shape[0])\n",
    "st_arM1y = np.zeros(SM1x[1].shape[0])\n",
    "st_arM1z = np.zeros(SM1x[1].shape[0])\n",
    "st_arM2xy = np.zeros(SM1x[1].shape[0])\n",
    "st_arM2xz = np.zeros(SM1x[1].shape[0])\n",
    "st_arM2yz = np.zeros(SM1x[1].shape[0])\n",
    "st_arM3 = np.zeros(SM1x[1].shape[0])\n",
    "\n",
    "st_arD1x = np.zeros(SM1x[1].shape[0])\n",
    "st_arD1y = np.zeros(SM1x[1].shape[0])\n",
    "st_arD1z = np.zeros(SM1x[1].shape[0])\n",
    "st_arD2xy = np.zeros(SM1x[1].shape[0])\n",
    "st_arD2xz = np.zeros(SM1x[1].shape[0])\n",
    "st_arD2yz = np.zeros(SM1x[1].shape[0])\n",
    "st_arD3 = np.zeros(SM1x[1].shape[0])\n",
    "\n",
    "# for num in range(1, tots +1):\n",
    "#     arM1x = arM1x + SM1x[num]\n",
    "#     arM1y = arM1y + SM1y[num]\n",
    "#     arM1z = arM1z + SM1z[num]\n",
    "#     arM2xy = arM2xy + SM2xy[num]\n",
    "#     arM2xz = arM2xz + SM2xz[num]\n",
    "#     arM2yz = arM2yz + SM2yz[num]\n",
    "#     arM3 = arM3 + SM3[num]\n",
    "    \n",
    "#     arD1x = arD1x + SD1x[num]\n",
    "#     arD1y = arD1y + SD1y[num]\n",
    "#     arD1z = arD1z + SD1z[num]\n",
    "#     arD2xy = arD2xy + SD2xy[num]\n",
    "#     arD2xz = arD2xz + SD2xz[num]\n",
    "#     arD2yz = arD2yz + SD2yz[num]\n",
    "#     arD3 = arD3 + SD3[num]\n",
    "    \n",
    "#     arM1x[num2+1] = ma.masked_invalid(gM1x[num2+1])\n",
    "#     gM1y[num2+1] = ma.masked_invalid(gM1y[num2+1])\n",
    "#     gM1z[num2+1] = ma.masked_invalid(gM1z[num2+1])\n",
    "#     gM2xy[num2+1] = ma.masked_invalid(gM2xy[num2+1])\n",
    "#     gM2xz[num2+1] = ma.masked_invalid(gM2xz[num2+1])\n",
    "#     gM2yz[num2+1] = ma.masked_invalid(gM2yz[num2+1])\n",
    "#     gM3[num2+1] = ma.masked_invalid(gM3[num2+1])\n",
    "        \n",
    "#     gD1x[num2+1] = ma.masked_invalid(SD1x[num2+1])\n",
    "#     gD1y[num2+1] = ma.masked_invalid(SD1y[num2+1])\n",
    "#     gD1z[num2+1] = ma.masked_invalid(SD1z[num2+1])\n",
    "#     gD2xy[num2+1] = ma.masked_invalid(SD2xy[num2+1])\n",
    "#     gD2xz[num2+1] = ma.masked_invalid(SD2xz[num2+1])\n",
    "#     gD2yz[num2+1] = ma.masked_invalid(SD2yz[num2+1])\n",
    "#     gD3[num2+1] = ma.masked_invalid(SD3[num2+1])\n",
    "    \n",
    "# arM1x = arM1x/tots\n",
    "# arM1y = arM1y/tots\n",
    "# arM1z = arM1z/tots\n",
    "# arM2xy = arM2xy/tots\n",
    "# arM2xz = arM2xz/tots\n",
    "# arM2yz = arM2yz/tots\n",
    "# arM3 = arM3/tots\n",
    "\n",
    "# arD1x = arD1x/tots\n",
    "# arD1y = arD1y/tots\n",
    "# arD1z = arD1z/tots\n",
    "# arD2xy = arD2xy/tots\n",
    "# arD2xz = arD2xz/tots\n",
    "# arD2yz = arD2yz/tots\n",
    "# arD3 = arD3/tots"
   ]
  },
  {
   "cell_type": "code",
   "execution_count": 30,
   "metadata": {
    "collapsed": false
   },
   "outputs": [
    {
     "name": "stderr",
     "output_type": "stream",
     "text": [
      "C:\\Users\\koolk\\Miniconda3\\lib\\site-packages\\numpy\\ma\\core.py:4085: UserWarning: Warning: converting a masked element to nan.\n",
      "  warnings.warn(\"Warning: converting a masked element to nan.\")\n"
     ]
    }
   ],
   "source": [
    "gM1x = dict()\n",
    "gM1y = dict()\n",
    "gM1z = dict()\n",
    "gM2xy = dict()\n",
    "gM2xz = dict()\n",
    "gM2yz = dict()\n",
    "gM3 = dict()\n",
    "\n",
    "# log_gM1x = dict()\n",
    "# log_gM1y = dict()\n",
    "# log_gM1z = dict()\n",
    "# log_gM2xy = dict()\n",
    "# log_gM2xz = dict()\n",
    "# log_gM2yz = dict()\n",
    "# log_gM3 = dict()\n",
    "\n",
    "# gD1x = dict()\n",
    "# gD1y = dict()\n",
    "# gD1z = dict()\n",
    "# gD2xy = dict()\n",
    "# gD2xz = dict()\n",
    "# gD2yz = dict()\n",
    "# gD3 = dict()\n",
    "\n",
    "geoM1x = np.zeros(SM1x[1].shape[0])\n",
    "geoM1y = np.zeros(SM1x[1].shape[0])\n",
    "geoM1z = np.zeros(SM1x[1].shape[0])\n",
    "geoM2xy = np.zeros(SM1x[1].shape[0])\n",
    "geoM2xz = np.zeros(SM1x[1].shape[0])\n",
    "geoM2yz = np.zeros(SM1x[1].shape[0])\n",
    "geoM3 = np.zeros(SM1x[1].shape[0])\n",
    "\n",
    "st_geoM1x = np.zeros(SM1x[1].shape[0])\n",
    "st_geoM1y = np.zeros(SM1x[1].shape[0])\n",
    "st_geoM1z = np.zeros(SM1x[1].shape[0])\n",
    "st_geoM2xy = np.zeros(SM1x[1].shape[0])\n",
    "st_geoM2xz = np.zeros(SM1x[1].shape[0])\n",
    "st_geoM2yz = np.zeros(SM1x[1].shape[0])\n",
    "st_geoM3 = np.zeros(SM1x[1].shape[0])\n",
    "\n",
    "geoD1x = np.zeros(SM1x[1].shape[0])\n",
    "geoD1y = np.zeros(SM1x[1].shape[0])\n",
    "geoD1z = np.zeros(SM1x[1].shape[0])\n",
    "geoD2xy = np.zeros(SM1x[1].shape[0])\n",
    "geoD2xz = np.zeros(SM1x[1].shape[0])\n",
    "geoD2yz = np.zeros(SM1x[1].shape[0])\n",
    "geoD3 = np.zeros(SM1x[1].shape[0])\n",
    "\n",
    "st_geoD1x = np.zeros(SM1x[1].shape[0])\n",
    "st_geoD1y = np.zeros(SM1x[1].shape[0])\n",
    "st_geoD1z = np.zeros(SM1x[1].shape[0])\n",
    "st_geoD2xy = np.zeros(SM1x[1].shape[0])\n",
    "st_geoD2xz = np.zeros(SM1x[1].shape[0])\n",
    "st_geoD2yz = np.zeros(SM1x[1].shape[0])\n",
    "st_geoD3 = np.zeros(SM1x[1].shape[0])\n",
    "\n",
    "for num2 in range(0, SM1x[1].shape[0]-1):\n",
    "    gM1x[num2+1] = np.zeros(tots)\n",
    "    gM1y[num2+1] = np.zeros(tots)\n",
    "    gM1z[num2+1] = np.zeros(tots)\n",
    "    gM2xy[num2+1] = np.zeros(tots)\n",
    "    gM2xz[num2+1] = np.zeros(tots)\n",
    "    gM2yz[num2+1] = np.zeros(tots)\n",
    "    gM3[num2+1] = np.zeros(tots)\n",
    "    \n",
    "#     gD1x[num2+1] = np.zeros(tots)\n",
    "#     gD1y[num2+1] = np.zeros(tots)\n",
    "#     gD1z[num2+1] = np.zeros(tots)\n",
    "#     gD2xy[num2+1] = np.zeros(tots)\n",
    "#     gD2xz[num2+1] = np.zeros(tots)\n",
    "#     gD2yz[num2+1] = np.zeros(tots)\n",
    "#     gD3[num2+1] = np.zeros(tots)\n",
    "    \n",
    "    for num in range(1, tots + 1):\n",
    "        gM1x[num2+1][num-1] = SM1x[num][num2]\n",
    "        gM1y[num2+1][num-1] = SM1y[num][num2]\n",
    "        gM1z[num2+1][num-1] = SM1z[num][num2]\n",
    "        gM2xy[num2+1][num-1] = SM2xy[num][num2]\n",
    "        gM2xz[num2+1][num-1] = SM2xz[num][num2]\n",
    "        gM2yz[num2+1][num-1] = SM2yz[num][num2]\n",
    "        gM3[num2+1][num-1] = SM3[num][num2]\n",
    "        \n",
    "#         gD1x[num2+1][num-1] = SD1x[num][num2]\n",
    "#         gD1y[num2+1][num-1] = SD1y[num][num2]\n",
    "#         gD1z[num2+1][num-1] = SD1z[num][num2]\n",
    "#         gD2xy[num2+1][num-1] = SD2xy[num][num2]\n",
    "#         gD2xz[num2+1][num-1] = SD2xz[num][num2]\n",
    "#         gD2yz[num2+1][num-1] = SD2yz[num][num2]\n",
    "#         gD3[num2+1][num-1] = SD3[num][num2]\n",
    "        \n",
    "    gM1x[num2+1] = ma.masked_invalid(gM1x[num2+1])\n",
    "    gM1y[num2+1] = ma.masked_invalid(gM1y[num2+1])\n",
    "    gM1z[num2+1] = ma.masked_invalid(gM1z[num2+1])\n",
    "    gM2xy[num2+1] = ma.masked_invalid(gM2xy[num2+1])\n",
    "    gM2xz[num2+1] = ma.masked_invalid(gM2xz[num2+1])\n",
    "    gM2yz[num2+1] = ma.masked_invalid(gM2yz[num2+1])\n",
    "    gM3[num2+1] = ma.masked_invalid(gM3[num2+1])\n",
    "\n",
    "    #I need to include this, because geometric means can't be calculated on values of 0.\n",
    "    gM1x[num2+1] = ma.masked_equal(gM1x[num2+1], 0)\n",
    "    gM1y[num2+1] = ma.masked_equal(gM1y[num2+1], 0)\n",
    "    gM1z[num2+1] = ma.masked_equal(gM1z[num2+1], 0)\n",
    "    gM2xy[num2+1] = ma.masked_equal(gM2xy[num2+1], 0)\n",
    "    gM2xz[num2+1] = ma.masked_equal(gM2xz[num2+1], 0)\n",
    "    gM2yz[num2+1] = ma.masked_equal(gM2yz[num2+1], 0)\n",
    "    gM3[num2+1] = ma.masked_equal(gM3[num2+1], 0)\n",
    "\n",
    "#     log_gM1x[num2+1] = np.log(gM1x[num2+1])\n",
    "#     log_gM1y[num2+1] = np.log(gM1y[num2+1])\n",
    "#     log_gM1z[num2+1] = np.log(gM1z[num2+1])\n",
    "#     log_gM2xy[num2+1] = np.log(gM2xy[num2+1])\n",
    "#     log_gM2xz[num2+1] = np.log(gM2xz[num2+1])\n",
    "#     log_gM2yz[num2+1] = np.log(gM2yz[num2+1])\n",
    "#     log_gM3[num2+1] = np.log(gM3[num2+1])\n",
    "        \n",
    "#     gD1x[num2+1] = ma.masked_invalid(SD1x[num2+1])\n",
    "#     gD1y[num2+1] = ma.masked_invalid(SD1y[num2+1])\n",
    "#     gD1z[num2+1] = ma.masked_invalid(SD1z[num2+1])\n",
    "#     gD2xy[num2+1] = ma.masked_invalid(SD2xy[num2+1])\n",
    "#     gD2xz[num2+1] = ma.masked_invalid(SD2xz[num2+1])\n",
    "#     gD2yz[num2+1] = ma.masked_invalid(SD2yz[num2+1])\n",
    "#     gD3[num2+1] = ma.masked_invalid(SD3[num2+1])\n",
    "        \n",
    "    geoM1x[num2] = stat.gmean(gM1x[num2+1])\n",
    "    geoM1y[num2] = stat.gmean(gM1y[num2+1])\n",
    "    geoM1z[num2] = stat.gmean(gM1z[num2+1])\n",
    "    geoM2xy[num2] = stat.gmean(gM2xy[num2+1])\n",
    "    geoM2xz[num2] = stat.gmean(gM2xz[num2+1])\n",
    "    geoM2yz[num2] = stat.gmean(gM2yz[num2+1])\n",
    "    geoM3[num2] = stat.gmean(gM3[num2+1])\n",
    "    \n",
    "    #The geometric standard deviation is a function of the mean of the logarithms.\n",
    "#     st_geoM1x[num2+1] = np.exp(np.sqrt(np.mean((log_gM1x[num2+1] - np.log(geoM1x[num2]))*(log_gM1x[num2+1] - np.log(geoM1x[num2])))))\n",
    "#     st_geoM1y[num2+1] = np.exp(np.sqrt(np.mean((log_gM1y[num2+1] - np.log(geoM1y[num2]))*(log_gM1y[num2+1] - np.log(geoM1y[num2])))))\n",
    "#     st_geoM1z[num2+1] = np.exp(np.sqrt(np.mean((log_gM1z[num2+1] - np.log(geoM1z[num2]))*(log_gM1z[num2+1] - np.log(geoM1z[num2])))))\n",
    "#     st_geoM2xy[num2+1] = np.exp(np.sqrt(np.mean((log_gM2xy[num2+1] - np.log(geoM2xy[num2]))*(log_gM2xy[num2+1] - np.log(geoM2xy[num2])))))\n",
    "#     st_geoM2xz[num2+1] = np.exp(np.sqrt(np.mean((log_gM2xz[num2+1] - np.log(geoM2xz[num2]))*(log_gM2xz[num2+1] - np.log(geoM2xz[num2])))))\n",
    "#     st_geoM2yz[num2+1] = np.exp(np.sqrt(np.mean((log_gM2yz[num2+1] - np.log(geoM2yz[num2]))*(log_gM2yz[num2+1] - np.log(geoM2yz[num2])))))\n",
    "#     st_geoM3[num2+1] = np.exp(np.sqrt(np.mean((log_gM3[num2+1] - np.log(geoM3[num2]))*(log_gM3[num2+1] - np.log(geoM3[num2])))))\n",
    "\n",
    "#     geoD1x[num2] = stat.gmean(gD1x[num2+1])\n",
    "#     geoD1y[num2] = stat.gmean(gD1y[num2+1])\n",
    "#     geoD1z[num2] = stat.gmean(gD1z[num2+1])\n",
    "#     geoD2xy[num2] = stat.gmean(gD2xy[num2+1])\n",
    "#     geoD2xz[num2] = stat.gmean(gD2xz[num2+1])\n",
    "#     geoD2yz[num2] = stat.gmean(gD2yz[num2+1])\n",
    "#     geoD3[num2] = stat.gmean(gD3[num2+1])\n",
    "\n",
    "    geoD1x[num2] = geoM1x[num2]/time2[num2]\n",
    "    geoD1y[num2] = geoM1y[num2]/time2[num2]\n",
    "    geoD1z[num2] = geoM1z[num2]/time2[num2]\n",
    "    geoD2xy[num2] = geoM2xy[num2]/time2[num2]\n",
    "    geoD2xz[num2] = geoM2xz[num2]/time2[num2]\n",
    "    geoD2yz[num2] = geoM2yz[num2]/time2[num2]\n",
    "    geoD3[num2] = geoM3[num2]/time2[num2]\n",
    "\n",
    "    arM1x[num2] = np.mean(gM1x[num2+1])\n",
    "    arM1y[num2] = np.mean(gM1y[num2+1])\n",
    "    arM1z[num2] = np.mean(gM1z[num2+1])\n",
    "    arM2xy[num2] = np.mean(gM2xy[num2+1])\n",
    "    arM2xz[num2] = np.mean(gM2xz[num2+1])\n",
    "    arM2yz[num2] = np.mean(gM2yz[num2+1])\n",
    "    arM3[num2] = np.mean(gM3[num2+1])\n",
    "    \n",
    "    st_arM1x[num2] = np.std(gM1x[num2+1])\n",
    "    st_arM1y[num2] = np.std(gM1y[num2+1])\n",
    "    st_arM1z[num2] = np.std(gM1z[num2+1])\n",
    "    st_arM2xy[num2] = np.std(gM2xy[num2+1])\n",
    "    st_arM2xz[num2] = np.std(gM2xz[num2+1])\n",
    "    st_arM2yz[num2] = np.std(gM2yz[num2+1])\n",
    "    st_arM3[num2] = np.std(gM3[num2+1])\n",
    "\n",
    "\n",
    "#     arD1x[num2] = np.mean(gD1x[num2+1])\n",
    "#     arD1y[num2] = np.mean(gD1y[num2+1])\n",
    "#     arD1z[num2] = np.mean(gD1z[num2+1])\n",
    "#     arD2xy[num2] = np.mean(gD2xy[num2+1])\n",
    "#     arD2xz[num2] = np.mean(gD2xz[num2+1])\n",
    "#     arD2yz[num2] = np.mean(gD2yz[num2+1])\n",
    "#     arD3[num2] = np.mean(gD3[num2+1])\n",
    "\n",
    "    arD1x[num2] = arM1x[num2]/time2[num2]\n",
    "    arD1y[num2] = arM1y[num2]/time2[num2]\n",
    "    arD1z[num2] = arM1z[num2]/time2[num2]\n",
    "    arD2xy[num2] = arM2xy[num2]/time2[num2]\n",
    "    arD2xz[num2] = arM2xz[num2]/time2[num2]\n",
    "    arD2yz[num2] = arM2yz[num2]/time2[num2]\n",
    "    arD3[num2] = arM3[num2]/time2[num2]\n",
    "\n",
    "    st_arD1x[num2] = st_arM1x[num2]/time2[num2]\n",
    "    st_arD1y[num2] = st_arM1y[num2]/time2[num2]\n",
    "    st_arD1z[num2] = st_arM1z[num2]/time2[num2]\n",
    "    st_arD2xy[num2] = st_arM2xy[num2]/time2[num2]\n",
    "    st_arD2xz[num2] = st_arM2xz[num2]/time2[num2]\n",
    "    st_arD2yz[num2] = st_arM2yz[num2]/time2[num2]\n",
    "    st_arD3[num2] = st_arM3[num2]/time2[num2]"
   ]
  },
  {
   "cell_type": "code",
   "execution_count": 31,
   "metadata": {
    "collapsed": false
   },
   "outputs": [],
   "source": [
    "#np.log(gM1x[1]) - np.log(geoM1x[0])\n",
    "#np.exp(np.sqrt(np.log(gM1x[2])*np.log(gM1x[2])))\n",
    "#st_geoM1x\n",
    "#np.exp(np.sqrt(np.mean((log_gM1x[4+1] - np.log(geoM1x[4]))*(log_gM1x[4+1] - np.log(geoM1x[4])))))"
   ]
  },
  {
   "cell_type": "code",
   "execution_count": 32,
   "metadata": {
    "collapsed": false
   },
   "outputs": [],
   "source": [
    "#np.exp((np.mean(log_gM1x[4+1] - np.log(geoM1x[4])))*(np.mean(log_gM1x[4+1] - np.log(geoM1x[4]))))"
   ]
  },
  {
   "cell_type": "code",
   "execution_count": 33,
   "metadata": {
    "collapsed": true
   },
   "outputs": [],
   "source": [
    "def plot_Mcomp(Mgeo, Mar, MFBF, t1, t2, dec1, dec2, datatype, filename, limit1, limit2, tick1, tick2):\n",
    "    \"\"\"\n",
    "    Mgeo = Geometric average dataset\n",
    "    Mar = Arithmetic average dataset\n",
    "    MFBF = Frame-by-Frame dataset\n",
    "    \n",
    "    t1 = time array for Mgeo and Mar\n",
    "    t2 time array for MFDF\n",
    "    \"\"\"\n",
    "    \n",
    "#     #Linear algebra to find Deff:\n",
    "#     t = time[1][:]\n",
    "#     w = dict()\n",
    "#     line = dict()\n",
    "#     A = np.ones((np.shape(t)[0], 2))\n",
    "#     A[:, 0] = t\n",
    "#     w[0] = np.linalg.lstsq(A, MMSD[:, 0])[0]\n",
    "#     w[1] = np.linalg.lstsq(A, MMSD[:, 1])[0]\n",
    "#     w[2] = np.linalg.lstsq(A, MMSD[:, 2])[0]\n",
    "#     line[0] = w[0][0]*t + w[0][1]\n",
    "#     line[1] = w[1][0]*t + w[1][1]\n",
    "#     line[2] = w[2][0]*t + w[2][1]\n",
    "    \n",
    "#     #Linear algebra for fit on log plot:\n",
    "#     wl = dict()\n",
    "#     linel = dict()\n",
    "#     lt = np.log(t)\n",
    "#     lA = np.ones((np.shape(t)[0], 2))\n",
    "#     lA[:, 0] = lt\n",
    "#     lM = np.log(MMSD)\n",
    "#     wl[0] = np.linalg.lstsq(lA, lM[:, 0])[0]\n",
    "#     wl[1] = np.linalg.lstsq(lA, lM[:, 1])[0]\n",
    "#     wl[2] = np.linalg.lstsq(lA, lM[:, 2])[0]\n",
    "#     linel[0] = np.exp(wl[0][0]*lt + wl[0][1])\n",
    "#     linel[1] = np.exp(wl[1][0]*lt + wl[1][1])\n",
    "#     linel[2] = np.exp(wl[2][0]*lt + wl[2][1])\n",
    "\n",
    "    # Creates figure\n",
    "    fig = plt.figure(figsize=(24, 18), dpi=80)\n",
    "    ax = fig.add_subplot(111)\n",
    "    # ax.set_title('Particle Trajectories', x=0.5, y=1.15)\n",
    "\n",
    "    ax.plot(t1, Mgeo, linewidth=10, label='Geometric', color='blue')\n",
    "    ax.plot(t1, Mar, linewidth=10, label='Arithmetic', color='red')\n",
    "    ax.plot(t2, MFBF, linewidth=10, label='Frame-by-Frame', color='green')\n",
    "    \n",
    "#     ax.errorbar(t, MMSD[:, 0], yerr=SE[:, 0], fmt='', linestyle='', capsize=7, capthick=2, elinewidth=2, color='blue')\n",
    "#     ax.errorbar(t, MMSD[:, 1], yerr=SE[:, 1], fmt='', linestyle='', capsize=7, capthick=2, elinewidth=2, color='red')\n",
    "#     ax.errorbar(t, MMSD[:, 2], yerr=SE[:, 2], fmt='', linestyle='', capsize=7, capthick=2, elinewidth=2, color='green')\n",
    "    \n",
    "#     ax.plot(t, line[0], linewidth=3, color='blue')\n",
    "#     ax.plot(t, line[1], linewidth=3, color='red')\n",
    "#     ax.plot(t, line[2], linewidth=3, color='green')\n",
    "    \n",
    "    #ax.plot(t, linel[0], linewidth=3, color='blue')\n",
    "    #ax.plot(t, linel[1], linewidth=3, color='red')\n",
    "    #ax.plot(t, linel[2], linewidth=3, color='green')\n",
    "    \n",
    "    # A few adjustments to prettify the graph\n",
    "    for item in ([ax.xaxis.label, ax.yaxis.label] +\n",
    "                 ax.get_xticklabels() + ax.get_yticklabels()):\n",
    "        item.set_fontsize(70)\n",
    "\n",
    "    xmajor_ticks = np.arange(0, limit1, tick1)\n",
    "    ymajor_ticks = np.arange(0, limit2, tick2)\n",
    "\n",
    "    ax.set_xticks(xmajor_ticks)\n",
    "    ax.set_yticks(ymajor_ticks)\n",
    "    ax.title.set_fontsize(70)\n",
    "    ax.set_xlabel('Time (s)', fontsize=95)\n",
    "    ax.set_ylabel(datatype, fontsize=95)\n",
    "    ax.tick_params(direction='out', pad=16)\n",
    "    ax.legend(loc=(0.60, 0.76), prop={'size': 40})\n",
    "    plt.gca().xaxis.set_major_formatter(mpl.ticker.FormatStrFormatter('%.{}f'.format(dec1)))\n",
    "    plt.gca().yaxis.set_major_formatter(mpl.ticker.FormatStrFormatter('%.{}f'.format(dec2)))\n",
    "\n",
    "    \n",
    "    #plt.yscale('log')\n",
    "    #plt.xscale('log')\n",
    "    plt.gca().set_xlim([0, limit1])\n",
    "    plt.gca().set_ylim([0, limit2])\n",
    "\n",
    "    # Save your figure\n",
    "    plt.savefig('{}.png'.format(filename), bbox_inches='tight')\n",
    "    return Mar, Mgeo"
   ]
  },
  {
   "cell_type": "code",
   "execution_count": 34,
   "metadata": {
    "collapsed": false
   },
   "outputs": [],
   "source": [
    "one1, bleh = plot_Mcomp(geoD2xy, arD2xy, FD2xy, time2, time, 0, 4, 'Deff (um^2/s)', Cplot, 12.1, 0.0011, 1, 0.0002)\n",
    "plt.show()"
   ]
  },
  {
   "cell_type": "code",
   "execution_count": 35,
   "metadata": {
    "collapsed": false
   },
   "outputs": [
    {
     "data": {
      "text/plain": [
       "array([             nan,   1.90500556e-05,   1.07412385e-05,\n",
       "         7.45973482e-06,   5.51639720e-06,   4.58848556e-06,\n",
       "         4.59495772e-06,   3.51703348e-06,   3.08840738e-06,\n",
       "         3.13083954e-06,   3.37654116e-06,   2.78989494e-06,\n",
       "         2.42733738e-06,   2.95259638e-06,   2.65994279e-06,\n",
       "         2.60084949e-06,   2.13953653e-06,   2.05836134e-06,\n",
       "         2.39236101e-06,   0.00000000e+00])"
      ]
     },
     "execution_count": 35,
     "metadata": {},
     "output_type": "execute_result"
    }
   ],
   "source": [
    "geoD2xy"
   ]
  },
  {
   "cell_type": "code",
   "execution_count": 36,
   "metadata": {
    "collapsed": true
   },
   "outputs": [],
   "source": [
    "def plot_histogram(M, time, total, datatype, filename, tn):\n",
    "    \"\"\"\n",
    "    Plots the MSDs or Deffs from a trajectory dataset.\n",
    "    \"\"\"\n",
    "    total1 = total\n",
    "    MSD = M\n",
    "\n",
    "    def find_nearest(array, value):\n",
    "        idx = (np.abs(array-value)).argmin()\n",
    "        return array[idx], idx\n",
    "\n",
    "    td, idx = find_nearest(time, tn)\n",
    "    \n",
    "    hist = np.zeros(total1)\n",
    "    for num in range(1, total1):\n",
    "        hist[num] = MSD[num][idx]\n",
    "\n",
    "    hist = [x for x in hist if str(x) != 'nan']\n",
    "    \n",
    "    plot, bins = np.histogram(hist, bins=20)\n",
    "    width = 0.7 * (bins[1] - bins[0])\n",
    "    center = (bins[:-1] + bins[1:])/2\n",
    "    plt.bar(center, plot, align='center', width=width)\n",
    "#     plt.xlabel('D (um2/s)', fontsize=20)\n",
    "\n",
    "    plt.savefig('{}.png'.format(filename), bbox_inches='tight')\n",
    "    return hist, MSD, total1"
   ]
  },
  {
   "cell_type": "code",
   "execution_count": 37,
   "metadata": {
    "collapsed": false
   },
   "outputs": [
    {
     "name": "stdout",
     "output_type": "stream",
     "text": [
      "geometric average at 1s: 1.07412385475e-05 um2/s with 316 particles\n",
      "arithmetic average at 1s: 0.000626675453048 um2/s with 316 particles\n",
      "frame-by-frame average at 1s: 0.000630222654305 um2/s with 488 particles\n"
     ]
    }
   ],
   "source": [
    "def find_nearest(array, value):\n",
    "    idx = (np.abs(array-value)).argmin()\n",
    "    return array[idx], idx\n",
    "\n",
    "time_a, tindex = find_nearest(time2, 1)\n",
    "geoDat1 = geoD2xy[tindex]\n",
    "arDat1 = arD2xy[tindex]\n",
    "\n",
    "time_a1, tindex1 = find_nearest(time, 1)\n",
    "FDat1 = FD2xy[tindex1]\n",
    "\n",
    "print('geometric average at 1s:', geoDat1, 'um2/s with', tots, 'particles')\n",
    "print('arithmetic average at 1s:', arDat1, 'um2/s with', tots, 'particles')\n",
    "print('frame-by-frame average at 1s:', FDat1, 'um2/s with', fifties, 'particles')"
   ]
  },
  {
   "cell_type": "code",
   "execution_count": 38,
   "metadata": {
    "collapsed": false
   },
   "outputs": [],
   "source": [
    "a, hist, total= plot_histogram(SD2xy, time2, tots, 'Deff (um^2/s)', Hplot, 1)\n",
    "plt.show()"
   ]
  },
  {
   "cell_type": "code",
   "execution_count": 39,
   "metadata": {
    "collapsed": false
   },
   "outputs": [],
   "source": [
    "def plot_loghistogram(M, time, total, datatype, filename, tn):\n",
    "    \"\"\"\n",
    "    Plots the MSDs or Deffs from a trajectory dataset.\n",
    "    \"\"\"\n",
    "\n",
    "    total1 = total\n",
    "    MSD = M\n",
    "    \n",
    "    def find_nearest(array, value):\n",
    "        idx = (np.abs(array-value)).argmin()\n",
    "        return array[idx], idx\n",
    "\n",
    "    td, idx = find_nearest(time, tn)\n",
    "    \n",
    "    hist = np.zeros(total1)\n",
    "    for num in range(1, total1):\n",
    "        hist[num] = MSD[num][idx]\n",
    "    \n",
    "    z1, z2 = find_nearest(hist[1:], 0)\n",
    "    hist = np.delete(hist[1:], z2)\n",
    "    hist = [x for x in hist if str(x) != 'nan']\n",
    "    loghist = np.log(hist)\n",
    "\n",
    "    plot, bins = np.histogram(loghist, bins=20)\n",
    "    width = 0.7 * (bins[1] - bins[0])\n",
    "    center = (bins[:-1] + bins[1:])/2\n",
    "    plt.bar(center, plot, align='center', width=width)\n",
    "    plt.xlabel('log(D)', fontsize=20)\n",
    "\n",
    "    plt.savefig('{}.png'.format(filename), bbox_inches='tight')\n",
    "    return hist, MSD, total1"
   ]
  },
  {
   "cell_type": "code",
   "execution_count": 40,
   "metadata": {
    "collapsed": false
   },
   "outputs": [],
   "source": [
    "hist, MSD, total = plot_loghistogram(SD2xy, time2, tots, 'Deff (um^2/s)', Hlogplot, 1)\n",
    "plt.show()"
   ]
  },
  {
   "cell_type": "code",
   "execution_count": 41,
   "metadata": {
    "collapsed": false
   },
   "outputs": [
    {
     "data": {
      "text/plain": [
       "masked_array(data = [-- 2.7969946784973675e-07 8.096430907124137e-06 7.85277355503527e-08\n",
       " 6.2129956469624235e-06 6.125519149200454e-07 1.1876010547538611e-07\n",
       " 3.0400661291783476e-06 8.83044188606343e-07 1.5799696060498925e-06\n",
       " 4.016121466491071e-08 2.286132255021998e-08 3.2491270597518737e-07\n",
       " 7.161138346127019e-09 3.94005310521428e-07 1.0810065221997098e-07\n",
       " 2.3499765815632454e-07 2.2326706826470594e-07 2.2982391308251123e-06\n",
       " 6.304106368416386e-08],\n",
       "             mask = [ True False False False False False False False False False False False\n",
       " False False False False False False False False],\n",
       "       fill_value = 0.0)"
      ]
     },
     "execution_count": 41,
     "metadata": {},
     "output_type": "execute_result"
    }
   ],
   "source": [
    "def find_nearest(array, value):\n",
    "    idx = (np.abs(array-value)).argmin()\n",
    "    return array[idx], idx\n",
    "\n",
    "find_nearest(time2, 1)\n",
    "SD2xy[1]"
   ]
  },
  {
   "cell_type": "code",
   "execution_count": 49,
   "metadata": {
    "collapsed": false
   },
   "outputs": [],
   "source": [
    "np.savetxt('geoD2xy_{}.csv'.format(name), geoD2xy, delimiter=',')\n",
    "np.savetxt('arD2xy_{}.csv'.format(name), arD2xy, delimiter=',')\n",
    "np.savetxt('FD2xy_{}.csv'.format(name), FD2xy, delimiter=',')\n",
    "\n",
    "np.savetxt('geoM2xy_{}.csv'.format(name), geoM2xy, delimiter=',')\n",
    "np.savetxt('arM2xy_{}.csv'.format(name), arM2xy, delimiter=',')\n",
    "np.savetxt('FM2xy_{}.csv'.format(name), FM2xy, delimiter=',')\n",
    "\n",
    "np.savetxt('all_time.csv', time, delimiter=',')\n",
    "np.savetxt('time_625.csv', time2, delimiter=',')"
   ]
  },
  {
   "cell_type": "code",
   "execution_count": null,
   "metadata": {
    "collapsed": true
   },
   "outputs": [],
   "source": []
  }
 ],
 "metadata": {
  "kernelspec": {
   "display_name": "Python 3",
   "language": "python",
   "name": "python3"
  },
  "language_info": {
   "codemirror_mode": {
    "name": "ipython",
    "version": 3
   },
   "file_extension": ".py",
   "mimetype": "text/x-python",
   "name": "python",
   "nbconvert_exporter": "python",
   "pygments_lexer": "ipython3",
   "version": "3.5.1"
  }
 },
 "nbformat": 4,
 "nbformat_minor": 0
}
