{
 "cells": [
  {
   "cell_type": "code",
   "execution_count": 1,
   "metadata": {
    "collapsed": false
   },
   "outputs": [],
   "source": [
    "import os\n",
    "import sys\n",
    "module_path = os.path.abspath(os.path.join('..'))\n",
    "if module_path not in sys.path:\n",
    "    sys.path.append(module_path)\n",
    "\n",
    "from trajectory_visualization import plot_trajectory, sidebyside, shift_trajectory, overlay, shift_trajectory3D\n",
    "from trajectory_visualization import plot_trajectories3D, plot_3Doverlay, plot_MSDorDeff, plot_MeanMSDorDeff, randtraj, multrandtraj\n",
    "from trajectory_visualization import randtraj2, plot_Mean2DMSDsorDeff, plot_MSDorDeffLR, LRfor3D2D, fillin, prettify\n",
    "from methods_of_Dcalc import Dpointder, Dlinalg, Dlinalgw\n",
    "from Diffusion_Functions import frame_adjust, MSD_Deff_Calcs, prettify2, fillin2\n",
    "\n",
    "import matplotlib as mpl\n",
    "import matplotlib.pyplot as plt\n",
    "import matplotlib.ticker as mtick\n",
    "import scipy.optimize as opt\n",
    "import scipy.stats as stat\n",
    "from mpl_toolkits.mplot3d import Axes3D\n",
    "from operator import itemgetter\n",
    "import random\n",
    "import numpy as np\n",
    "import numpy.ma as ma\n",
    "import numpy.linalg as la\n",
    "from mpl_toolkits.mplot3d import Axes3D\n",
    "\n",
    "pi = np.pi\n",
    "sin = np.sin\n",
    "cos = np.cos\n",
    "\n",
    "#I found an error that was causing huge problems with the arithmetic mean. There was one particle with a huge jump\n",
    "#That caused the MSDs to be really high (20 um jump? Crazy!).  We need to create some functionality to eliminate those \n",
    "#Obviously fake particles.  I will create a short code to filter particles with huge MSDS. "
   ]
  },
  {
   "cell_type": "code",
   "execution_count": 2,
   "metadata": {
    "collapsed": false
   },
   "outputs": [],
   "source": [
    "#Currently, my code only has capability to do frame-by-frame analysis on 1 video.  Perhaps future functionality will\n",
    "#be able to expand beyond this.  \n",
    "\n",
    "name = 'confocal_1000ms_60x'\n",
    "\n",
    "logplot = '{}_logplot'.format(name)\n",
    "Mplot = '{}_Mplot'.format(name)\n",
    "Dplot = '{}_Dplot'.format(name)\n",
    "Hplot = '{}_Hplot'.format(name)\n",
    "Hlogplot = '{}_Hlogplot'.format(name)\n",
    "Cplot = '{}_Cplot'.format(name)\n",
    "\n",
    "conversion = dict() #First element is the umppx, second is fps\n",
    "\n",
    "conversion[1] = (0.83, 1.02, 1)\n",
    "conversion[2] = (0.83, 1.02, 1)\n",
    "conversion[3] = (0.83, 1.02, 1)\n",
    "# conversion[4] = (0.30, 5.31, 1)\n",
    "# conversion[5] = (0.30, 5.33, 1)\n",
    "# conversion[6] = (0.30, 5.33, 1)\n",
    "# conversion[7] = (0.30, 5.35, 1)\n",
    "\n",
    "trajectory = dict()\n",
    "cut = 5\n",
    "great = 50\n",
    "\n",
    "#Particles that you want manually filtered.\n",
    "filtered = True\n",
    "tofilt = np.array([10, 132, 179, 184, 424, 466, 591, 75, 122, 151, 181, 185, 191, 192, 196, 197, 199, 203, 204, \n",
    "                  209, 212, 229, 270, 282, 414, 432, 447, 586, 592, 593, 595, 615, 621])\n",
    "\n",
    "trajectory[1] = np.genfromtxt('./confocal_1000ms_60x_1.csv',\n",
    "            delimiter =\",\")\n",
    "trajectory[2] = np.genfromtxt('./confocal_1000ms_60x_2.csv',\n",
    "            delimiter =\",\")\n",
    "trajectory[3] = np.genfromtxt('./confocal_1000ms_60x_3.csv',\n",
    "            delimiter =\",\")\n",
    "# trajectory[4] = np.genfromtxt('./CON_40x_2D_130ms_4_T.csv',\n",
    "#             delimiter =\",\")\n",
    "# trajectory[5] = np.genfromtxt('./CON_40x_2D_130ms_5_T.csv',\n",
    "#             delimiter =\",\")\n",
    "# trajectory[6] = np.genfromtxt('./CON_40x_2D_130ms_6_T.csv',\n",
    "#             delimiter =\",\")\n",
    "# trajectory[7] = np.genfromtxt('./CON_40x_2D_130ms_7_T.csv',\n",
    "#             delimiter =\",\")\n",
    "\n",
    "totvids = 3\n",
    "\n",
    "for num in range(1, totvids + 1):\n",
    "    \n",
    "    #Remove titles from columns\n",
    "    #trajectory[num]=np.delete(trajectory[num], 0,0)\n",
    "    #Remove the number column from dataset\n",
    "    trajectory[num]=np.delete(trajectory[num],0,1)\n",
    "\n",
    "#Collect trajectories of separate videos into one array\n",
    "#Comment this section out to make useable for a single trajectory\n",
    "parts = dict()\n",
    "tots = dict()\n",
    "newtots = dict()\n",
    "newtots[0] = 0\n",
    "tlen = dict()\n",
    "tlength = dict()\n",
    "tlength[0] = 0\n",
    "\n",
    "for num in range(1, totvids + 1):\n",
    "    tots[num] = trajectory[num][-1, 0].astype(np.int64)\n",
    "    parts[num] = tots[num]\n",
    "    counter = 1\n",
    "    newtots[num] = newtots[num-1] + tots[num]\n",
    "    \n",
    "    tlen[num] = trajectory[num].shape[0]\n",
    "    tlength[num] = tlength[num-1] + tlen[num]\n",
    "\n",
    "placeholder = np.zeros((tlength[totvids], 11))\n",
    "\n",
    "#     while counter < parts[num]:\n",
    "#         counter = counter + 1\n",
    "#         placeholder = np.append(lehi[num], final[num][counter], axis=0)\n",
    "\n",
    "for num in range(1, totvids + 1):\n",
    "    placeholder[tlength[num-1]:tlength[num], :] = trajectory[num]\n",
    "    placeholder[tlength[num-1]:tlength[num], 0] = placeholder[tlength[num-1]:tlength[num], 0] + newtots[num-1]\n",
    "\n",
    "# trajectory[1] = placeholder\n",
    "\n",
    "# trajectory[2][:,0] = trajectory[2][:,0] + tots[1]\n",
    "# placeholder = np.append(placeholder, trajectory[2], axis=0)\n",
    "# trajectory[3][:,0] = trajectory[3][:,0] + tots[2]\n",
    "# placeholder = np.append(placeholder, trajectory[3], axis=0)"
   ]
  },
  {
   "cell_type": "code",
   "execution_count": 3,
   "metadata": {
    "collapsed": false
   },
   "outputs": [
    {
     "data": {
      "text/plain": [
       "array([ 800.   ,   45.   ,   78.121,  209.394,    0.   ,    0.956,\n",
       "          1.443,    2.627,    5.37 ,   12.139,   78.46 ])"
      ]
     },
     "execution_count": 3,
     "metadata": {},
     "output_type": "execute_result"
    }
   ],
   "source": [
    "placeholder[-1, :]"
   ]
  },
  {
   "cell_type": "code",
   "execution_count": 4,
   "metadata": {
    "collapsed": false
   },
   "outputs": [
    {
     "data": {
      "text/plain": [
       "(6823, 11)"
      ]
     },
     "execution_count": 4,
     "metadata": {},
     "output_type": "execute_result"
    }
   ],
   "source": [
    "trajectory[3].shape"
   ]
  },
  {
   "cell_type": "code",
   "execution_count": 5,
   "metadata": {
    "collapsed": false
   },
   "outputs": [
    {
     "data": {
      "text/plain": [
       "{0: 0, 1: 265, 2: 565, 3: 800}"
      ]
     },
     "execution_count": 5,
     "metadata": {},
     "output_type": "execute_result"
    }
   ],
   "source": [
    "newtots"
   ]
  },
  {
   "cell_type": "code",
   "execution_count": 6,
   "metadata": {
    "collapsed": false
   },
   "outputs": [
    {
     "data": {
      "text/plain": [
       "17666"
      ]
     },
     "execution_count": 6,
     "metadata": {},
     "output_type": "execute_result"
    }
   ],
   "source": [
    "6206+6075+5385"
   ]
  },
  {
   "cell_type": "code",
   "execution_count": 7,
   "metadata": {
    "collapsed": false
   },
   "outputs": [
    {
     "data": {
      "text/plain": [
       "5.414894389572004"
      ]
     },
     "execution_count": 7,
     "metadata": {},
     "output_type": "execute_result"
    }
   ],
   "source": [
    "#Theoretical diffusion calculation using Stokes-Einstein\n",
    "\n",
    "k = 1.380649 * 10**-23\n",
    "TC = 37\n",
    "TK = TC + 273\n",
    "mu1 = 1.002*10**-3; mu2 = 0.798*10**-3; TC1 = 20; TC2 = 30\n",
    "\n",
    "mu = (mu2 - mu1)*(TC - TC1)/(TC2 - TC1) + mu1\n",
    "radius = (128/2) * 10**-9 #m\n",
    "Deff1 = k*TK/(6*np.pi*mu*radius) #m2/s\n",
    "Deff2 = Deff1 * 10**12 #um2/s\n",
    "Deff2"
   ]
  },
  {
   "cell_type": "code",
   "execution_count": 8,
   "metadata": {
    "collapsed": true
   },
   "outputs": [],
   "source": [
    "def fillin2(data):\n",
    "    \"\"\"\n",
    "    Fills in blanks of arrays without shifting frames by the starting frame.  Compare to fillin.\n",
    "    \"\"\"\n",
    "    shap = int(max(data[:, 1])) + 1\n",
    "    shape1 = int(min(data[:, 1]))\n",
    "    newshap = shap - shape1\n",
    "    filledin = np.zeros((newshap, 5))\n",
    "    filledin[0, :] = data[0, :]\n",
    "\n",
    "    count = 0\n",
    "    new = 0\n",
    "    other = 0\n",
    "    tot = 0\n",
    "\n",
    "    for num in range(1, newshap):\n",
    "        if data[num-new, 1]-data[num-new-1, 1] == 1:\n",
    "            count = count + 1\n",
    "            filledin[num, :] = data[num-new, :]\n",
    "        elif data[num - new, 1]-data[num - new - 1, 1] > 1:\n",
    "            new = new + 1\n",
    "            iba = int(data[num - new+1, 1]-data[num - new, 1])\n",
    "            togoin = data[num - new]\n",
    "            togoin[1] = togoin[1] + 1\n",
    "            filledin[num, :] = togoin\n",
    "            # dataset[2] = np.insert(dataset[2], [num + new - 2], togoin, axis=0)\n",
    "\n",
    "        else:\n",
    "            other = other + 1\n",
    "        tot = count + new + other\n",
    "\n",
    "    return filledin"
   ]
  },
  {
   "cell_type": "code",
   "execution_count": 9,
   "metadata": {
    "collapsed": true
   },
   "outputs": [],
   "source": [
    "rawframes = placeholder[:, 1]\n",
    "#frames = np.linspace()\n",
    "frames = np.linspace(min(rawframes),max(rawframes), max(rawframes)+1).astype(np.int64)\n",
    "time = frames / conversion[1][1]\n",
    "\n",
    "x = dict()\n",
    "y = dict()\n",
    "z = dict()\n",
    "M1x = dict()\n",
    "M1y = dict()\n",
    "M1z = dict()\n",
    "M2xy = dict()\n",
    "M2xz = dict()\n",
    "M2yz = dict()\n",
    "M3 = dict()\n",
    "\n",
    "#Shifted dictionaries\n",
    "SM1x = dict()\n",
    "SM1y = dict()\n",
    "SM1z = dict()\n",
    "SM2xy = dict()\n",
    "SM2xz = dict()\n",
    "SM2yz = dict()\n",
    "SM3 = dict()\n",
    "\n",
    "SD1x = dict()\n",
    "SD1y = dict()\n",
    "SD1z = dict()\n",
    "SD2xy = dict()\n",
    "SD2xz = dict()\n",
    "SD2yz = dict()\n",
    "SD3 = dict()"
   ]
  },
  {
   "cell_type": "code",
   "execution_count": 10,
   "metadata": {
    "collapsed": false
   },
   "outputs": [
    {
     "data": {
      "text/plain": [
       "(46,)"
      ]
     },
     "execution_count": 10,
     "metadata": {},
     "output_type": "execute_result"
    }
   ],
   "source": [
    "time.shape"
   ]
  },
  {
   "cell_type": "code",
   "execution_count": 11,
   "metadata": {
    "collapsed": false
   },
   "outputs": [],
   "source": [
    "dataset = dict()\n",
    "\n",
    "rawdataset = np.zeros(placeholder.shape)\n",
    "particles = placeholder[:, 0]\n",
    "total = int(max(particles))\n",
    "total1 = total + 1\n",
    "rawdataset = placeholder[:, :]\n",
    "\n",
    "#Perform conversion on raw dataset\n",
    "# rawdataset[:, 2:4] = conversion[1][0] * rawdataset[:, 2:4]\n",
    "# rawdataset[:, 4] = conversion[1][2] * rawdataset[:, 4]\n",
    "\n",
    "fixed = np.zeros(placeholder.shape)\n",
    "fixed[:, 0:2] = rawdataset[:, 0:2]\n",
    "fixed[:, 2:4] = conversion[1][0] * rawdataset[:, 2:4]\n",
    "fixed[:, 4] = conversion[1][2] * rawdataset[:, 4]\n",
    "\n",
    "# Creates an array for each trajectory containing all xyz data\n",
    "for num in range(1, total1):\n",
    "\n",
    "    hold = np.where(particles == num)\n",
    "    itindex = hold[0]\n",
    "    min1 = min(itindex)\n",
    "    max1 = max(itindex)\n",
    "    dataset[num] = (fixed[min1:max1+1, 0:5])"
   ]
  },
  {
   "cell_type": "code",
   "execution_count": 12,
   "metadata": {
    "collapsed": false
   },
   "outputs": [
    {
     "data": {
      "text/plain": [
       "array([[ 540.     ,   36.     ,   40.92564,   96.40367,    0.     ],\n",
       "       [ 540.     ,   37.     ,   40.43013,   96.4211 ,    0.     ]])"
      ]
     },
     "execution_count": 12,
     "metadata": {},
     "output_type": "execute_result"
    }
   ],
   "source": [
    "dataset[540]"
   ]
  },
  {
   "cell_type": "code",
   "execution_count": 13,
   "metadata": {
    "collapsed": false
   },
   "outputs": [],
   "source": [
    "#I is a set of all nonzero elements in trajectories.\n",
    "I = dict()\n",
    "for num in range(1, total1):\n",
    "    #Construct x, y, z\n",
    "    dataset[num] = fillin2(dataset[num])\n",
    "    x[num] = np.zeros(frames.shape[0])\n",
    "    x[num][int(dataset[num][0,1]):int(dataset[num][-1,1])+1] = dataset[num][:, 2]\n",
    "    y[num] = np.zeros(frames.shape[0])\n",
    "    y[num][int(dataset[num][0,1]):int(dataset[num][-1,1])+1] = dataset[num][:, 3]\n",
    "    z[num] = np.zeros(frames.shape[0])\n",
    "    z[num][int(dataset[num][0,1]):int(dataset[num][-1,1])+1] = dataset[num][:, 4]"
   ]
  },
  {
   "cell_type": "code",
   "execution_count": 14,
   "metadata": {
    "collapsed": false
   },
   "outputs": [
    {
     "data": {
      "text/plain": [
       "46"
      ]
     },
     "execution_count": 14,
     "metadata": {},
     "output_type": "execute_result"
    }
   ],
   "source": [
    "np.count_nonzero(x[300])"
   ]
  },
  {
   "cell_type": "code",
   "execution_count": 15,
   "metadata": {
    "collapsed": false
   },
   "outputs": [],
   "source": [
    "#I wrote a short bit of code to filter out trajectories that are too short to be included.  This also reduces computing\n",
    "#time by cutting down on MSDs that need to be calculated.  \n",
    "\n",
    "cutoff = cut\n",
    "x1 = dict()\n",
    "y1 = dict()\n",
    "z1 = dict()\n",
    "fifties = 0\n",
    "nones = 0\n",
    "\n",
    "for num in range(1, total1):\n",
    "    if np.count_nonzero(x[num]) < cutoff:\n",
    "        nones = nones + 1\n",
    "    else:\n",
    "        fifties = fifties + 1\n",
    "        x1[num - nones] = x[num]\n",
    "        y1[num - nones] = y[num]\n",
    "        z1[num - nones] = z[num]\n",
    "        # I must also redefine the particle numbers to reflect the new set.\n",
    "        #teancum[num - nones][:, 0] = fifties\n",
    "\n",
    "x = x1\n",
    "y = y1\n",
    "z = z1"
   ]
  },
  {
   "cell_type": "code",
   "execution_count": 16,
   "metadata": {
    "collapsed": false
   },
   "outputs": [
    {
     "data": {
      "text/plain": [
       "array([ 1.09062,  1.03916,  1.10722,  1.06655,  1.05244,  1.05493,\n",
       "        1.08813,  1.03335,  1.11303,  1.08398,  1.0707 ,  1.05244,\n",
       "        1.04082,  1.08066,  1.11469,  1.09975,  1.13959,  1.10224,\n",
       "        1.11386,  1.08813,  1.06987,  1.07651,  1.15287,  1.10224,\n",
       "        1.13046,  1.10888,  1.09975,  1.06655,  1.16615,  1.11801,\n",
       "        1.03169,  1.10639,  1.1039 ,  1.12216,  1.14291,  1.15785,\n",
       "        1.12465,  1.11552,  1.07734,  1.1205 ,  1.12133,  1.10141,\n",
       "        1.15121,  1.11303,  1.14457,  1.10307])"
      ]
     },
     "execution_count": 16,
     "metadata": {},
     "output_type": "execute_result"
    }
   ],
   "source": [
    "x[219]"
   ]
  },
  {
   "cell_type": "code",
   "execution_count": 17,
   "metadata": {
    "collapsed": false
   },
   "outputs": [
    {
     "data": {
      "text/plain": [
       "621"
      ]
     },
     "execution_count": 17,
     "metadata": {},
     "output_type": "execute_result"
    }
   ],
   "source": [
    "#fifties is the new total1 after filtering out short trajectories\n",
    "total1 = fifties + 1\n",
    "fifties"
   ]
  },
  {
   "cell_type": "code",
   "execution_count": 18,
   "metadata": {
    "collapsed": false
   },
   "outputs": [],
   "source": [
    "for num in range(1, total1):\n",
    "\n",
    "    #Construct MSD and Deff dictionaries\n",
    "    M1x[num] = np.zeros(frames.shape[0])\n",
    "    M1x[num][0:frames.shape[0]] = 0\n",
    "    M1y[num] = np.zeros(frames.shape[0])\n",
    "    M1y[num][0:frames.shape[0]] = 0\n",
    "    M1z[num] = np.zeros(frames.shape[0])\n",
    "    M1z[num][0:frames.shape[0]] = 0\n",
    "    M2xy[num] = np.zeros(frames.shape[0])\n",
    "    M2xy[num][0:frames.shape[0]] = 0\n",
    "    M2xz[num] = np.zeros(frames.shape[0])\n",
    "    M2xz[num][0:frames.shape[0]] = 0\n",
    "    M2yz[num] = np.zeros(frames.shape[0])\n",
    "    M2yz[num][0:frames.shape[0]] = 0\n",
    "    M3[num] = np.zeros(frames.shape[0])\n",
    "    M3[num][0:frames.shape[0]] = 0\n",
    "    \n",
    "    SM1x[num] = np.zeros(frames.shape[0])\n",
    "    SM1y[num] = np.zeros(frames.shape[0])\n",
    "    SM1z[num] = np.zeros(frames.shape[0])\n",
    "    SM2xy[num] = np.zeros(frames.shape[0])\n",
    "    SM2xz[num] = np.zeros(frames.shape[0])\n",
    "    SM2yz[num] = np.zeros(frames.shape[0])\n",
    "    SM3[num] = np.zeros(frames.shape[0])\n",
    "    \n",
    "    SD1x[num] = np.zeros(frames.shape[0])\n",
    "    SD1y[num] = np.zeros(frames.shape[0])\n",
    "    SD1z[num] = np.zeros(frames.shape[0])\n",
    "    SD2xy[num] = np.zeros(frames.shape[0])\n",
    "    SD2xz[num] = np.zeros(frames.shape[0])\n",
    "    SD2yz[num] = np.zeros(frames.shape[0])\n",
    "    SD3[num] = np.zeros(frames.shape[0])\n",
    "    \n",
    "    #Fill in MSD and Deff dictionaries\n",
    "    I[num] = np.nonzero(x[num])[0]\n",
    "    first = I[num][0]\n",
    "    last = I[num][-1] + 1\n",
    "    startx = x[num][first]\n",
    "    starty = y[num][first]\n",
    "    startz = z[num][first]\n",
    "    \n",
    "    for num1 in range(first, last):\n",
    "        M1x[num][num1] = (x[num][num1] - startx)**2\n",
    "        M1y[num][num1] = (y[num][num1] - starty)**2\n",
    "        M1z[num][num1] = (z[num][num1] - startz)**2\n",
    "        M2xy[num][num1] = (x[num][num1] - startx)**2 + (y[num][num1] - starty)**2\n",
    "        M2xz[num][num1] = (x[num][num1] - startx)**2 + (z[num][num1] - startz)**2\n",
    "        M2yz[num][num1] = (z[num][num1] - startz)**2 + (y[num][num1] - starty)**2\n",
    "        M3[num][num1] = (z[num][num1] - startz)**2 + (y[num][num1] - starty)**2 + (x[num][num1] - startx)**2\n",
    "        \n",
    "#         M1x[num][first] = 'NaN'\n",
    "#         M1y[num][first] = 'NaN'\n",
    "#         M1z[num][first] = 'NaN'\n",
    "#         M2xy[num][first] = 'NaN'\n",
    "#         M2xz[num][first] = 'NaN'\n",
    "#         M2yz[num][first] = 'NaN'\n",
    "#         M3[num][first] = 'NaN'\n",
    "    M1x[num] = ma.masked_equal(M1x[num], 0)\n",
    "    M1y[num] = ma.masked_equal(M1y[num], 0)\n",
    "    M1z[num] = ma.masked_equal(M1z[num], 0)\n",
    "    M2xy[num] = ma.masked_equal(M2xy[num], 0)\n",
    "    M2xz[num] = ma.masked_equal(M2xz[num], 0)\n",
    "    M2yz[num] = ma.masked_equal(M2yz[num], 0)\n",
    "    M3[num] = ma.masked_equal(M3[num], 0)\n",
    "    \n",
    "    M1x[num] = ma.masked_greater(M1x[num], great)\n",
    "    M1y[num] = ma.masked_greater(M1y[num], great)\n",
    "    M1z[num] = ma.masked_greater(M1z[num], great)\n",
    "    M2xy[num] = ma.masked_greater(M2xy[num], great)\n",
    "    M2xz[num] = ma.masked_greater(M2xz[num], great)\n",
    "    M2yz[num] = ma.masked_greater(M2yz[num], great)\n",
    "    M3[num] = ma.masked_greater(M3[num], great)\n",
    "    \n",
    "    #Make shifted MSD arrays for geometric and arithmetic averages.\n",
    "    \n",
    "    if M2xy[num][~M2xy[num].mask].shape[0] != 0:\n",
    "        fir = np.nonzero(M2xy[num])[0][0] - 1\n",
    "        firl = M1x[num][fir:].shape[0]\n",
    "    else:\n",
    "        fir = 0\n",
    "        firl = 46\n",
    "    \n",
    "    SM1x[num][0:firl] = M1x[num][fir:]\n",
    "    SM1y[num][0:firl] = M1y[num][fir:]\n",
    "    SM1z[num][0:firl] = M1z[num][fir:]\n",
    "    SM2xy[num][0:firl] = M2xy[num][fir:]\n",
    "    SM2xz[num][0:firl] = M2xz[num][fir:]\n",
    "    SM2yz[num][0:firl] = M2yz[num][fir:]\n",
    "    SM3[num][0:firl] = M3[num][fir:]\n",
    "\n",
    "    SM1x[num] = ma.masked_greater(SM1x[num], great)\n",
    "    SM1y[num] = ma.masked_greater(SM1y[num], great)\n",
    "    SM1z[num] = ma.masked_greater(SM1z[num], great)\n",
    "    SM2xy[num] = ma.masked_greater(SM2xy[num], great)\n",
    "    SM2xz[num] = ma.masked_greater(SM2xz[num], great)\n",
    "    SM2yz[num] = ma.masked_greater(SM2yz[num], great)\n",
    "    SM3[num] = ma.masked_greater(SM3[num], great)\n",
    "    \n",
    "    SD1x[num][1:] = SM1x[num][1:]/(2*time[1:])\n",
    "    SD1y[num][1:] = SM1y[num][1:]/(2*time[1:])\n",
    "    SD1z[num][1:] = SM1z[num][1:]/(2*time[1:])\n",
    "    SD2xy[num][1:] = SM2xy[num][1:]/(4*time[1:])\n",
    "    SD2xz[num][1:] = SM2xz[num][1:]/(4*time[1:])\n",
    "    SD2yz[num][1:] = SM2yz[num][1:]/(4*time[1:])\n",
    "    SD3[num][1:] = SM3[num][1:]/(6*time[1:])\n",
    "\n",
    "    SM1x[num] = ma.masked_equal(SM1x[num], 0)\n",
    "    SM1y[num] = ma.masked_equal(SM1y[num], 0)\n",
    "    SM1z[num] = ma.masked_equal(SM1z[num], 0)\n",
    "    SM2xy[num] = ma.masked_equal(SM2xy[num], 0)\n",
    "    SM2xz[num] = ma.masked_equal(SM2xz[num], 0)\n",
    "    SM2yz[num] = ma.masked_equal(SM2yz[num], 0)\n",
    "    SM3[num] = ma.masked_equal(SM3[num], 0)\n",
    "\n",
    "    SD1x[num] = ma.masked_equal(SD1x[num], 0)\n",
    "    SD1y[num] = ma.masked_equal(SD1y[num], 0)\n",
    "    SD1z[num] = ma.masked_equal(SD1z[num], 0)\n",
    "    SD2xy[num] = ma.masked_equal(SD2xy[num], 0)\n",
    "    SD2xz[num] = ma.masked_equal(SD2xz[num], 0)\n",
    "    SD2yz[num] = ma.masked_equal(SD2yz[num], 0)\n",
    "    SD3[num] = ma.masked_equal(SD3[num], 0)"
   ]
  },
  {
   "cell_type": "code",
   "execution_count": 19,
   "metadata": {
    "collapsed": false
   },
   "outputs": [],
   "source": [
    "#Manually mask particle trajectories here that seem out of whack.\n",
    "\n",
    "if filtered == True:\n",
    "    for num in range(0, tofilt.shape[0]):\n",
    "        M1x[tofilt[num]] = ma.masked_greater(M1x[tofilt[num]], 0)\n",
    "        M1y[tofilt[num]] = ma.masked_greater(M1y[tofilt[num]], 0)\n",
    "        M1z[tofilt[num]] = ma.masked_greater(M1z[tofilt[num]], 0)\n",
    "        M2xy[tofilt[num]] = ma.masked_greater(M2xy[tofilt[num]], 0)\n",
    "        M2xz[tofilt[num]] = ma.masked_greater(M2xz[tofilt[num]], 0)\n",
    "        M2yz[tofilt[num]] = ma.masked_greater(M2yz[tofilt[num]], 0)\n",
    "        M3[tofilt[num]] = ma.masked_greater(M3[tofilt[num]], 0)\n",
    "    \n",
    "        SM1x[tofilt[num]] = ma.masked_greater(SM1x[tofilt[num]], 0)\n",
    "        SM1y[tofilt[num]] = ma.masked_greater(SM1y[tofilt[num]], 0)\n",
    "        SM1z[tofilt[num]] = ma.masked_greater(SM1z[tofilt[num]], 0)\n",
    "        SM2xy[tofilt[num]] = ma.masked_greater(SM2xy[tofilt[num]], 0)\n",
    "        SM2xz[tofilt[num]] = ma.masked_greater(SM2xz[tofilt[num]], 0)\n",
    "        SM2yz[tofilt[num]] = ma.masked_greater(SM2yz[tofilt[num]], 0)\n",
    "        SM3[tofilt[num]] = ma.masked_greater(SM3[tofilt[num]], 0)\n",
    "    \n",
    "        SD1x[tofilt[num]] = ma.masked_greater(SD1x[tofilt[num]], 0)\n",
    "        SD1y[tofilt[num]] = ma.masked_greater(SD1y[tofilt[num]], 0)\n",
    "        SD1z[tofilt[num]] = ma.masked_greater(SD1z[tofilt[num]], 0)\n",
    "        SD2xy[tofilt[num]] = ma.masked_greater(SD2xy[tofilt[num]], 0)\n",
    "        SD2xz[tofilt[num]] = ma.masked_greater(SD2xz[tofilt[num]], 0)\n",
    "        SD2yz[tofilt[num]] = ma.masked_greater(SD2yz[tofilt[num]], 0)\n",
    "        SD3[tofilt[num]] = ma.masked_greater(SD3[tofilt[num]], 0)"
   ]
  },
  {
   "cell_type": "code",
   "execution_count": 20,
   "metadata": {
    "collapsed": false
   },
   "outputs": [
    {
     "data": {
      "text/plain": [
       "{50: array([  4.40896000e-05,   1.16424100e-04,   1.99092100e-04,\n",
       "          2.23823610e-03,   5.58009000e-05,   1.15804090e-03,\n",
       "          7.05433600e-04,   2.75560000e-06,   8.43902500e-04,\n",
       "          6.62032900e-04,   1.16424100e-04,   2.75560000e-06,\n",
       "          2.16039040e-03,   4.30562500e-04,   1.72225000e-03,\n",
       "          2.23823610e-03,   2.64813160e-03,   2.75560000e-06,\n",
       "          1.10224000e-03,   1.86278560e-03,   4.65696400e-04,\n",
       "          1.04781690e-03,   1.16424100e-04,   4.51987290e-03,\n",
       "          3.67114810e-03,   3.77241640e-03,   4.40896000e-05,\n",
       "          1.10224000e-03,   3.77241640e-03,   2.16039040e-03,\n",
       "          7.50212100e-04,   4.74583210e-03,   2.48004000e-03,\n",
       "          2.56339690e-03,   1.04781690e-03,   2.16039040e-03,\n",
       "          1.86278560e-03,   4.30562500e-04,   5.21428410e-03,\n",
       "          1.27377610e-03,   2.91060250e-03,   2.82173440e-03,\n",
       "          9.43104100e-04,   3.09247210e-03,   7.74048040e-03])}"
      ]
     },
     "execution_count": 20,
     "metadata": {},
     "output_type": "execute_result"
    }
   ],
   "source": [
    "#np.count_nonzero(M1x[495])\n",
    "shift = next((i for i, x in enumerate(M1x[50]) if x), None)\n",
    "sM1x = dict()\n",
    "sM1x[50] = np.zeros(frames.shape[0] - shift)\n",
    "for num in range(0, M1x[50].shape[0] - shift):\n",
    "    sM1x[50][num] = M1x[50][num + shift]\n",
    "sM1x"
   ]
  },
  {
   "cell_type": "code",
   "execution_count": 21,
   "metadata": {
    "collapsed": false
   },
   "outputs": [],
   "source": [
    "#Each entry in yes is an array of particles that are in the given frame.  The frame is given by the index of yes.\n",
    "yes = dict()\n",
    "yessize = dict()\n",
    "for num1 in range(1, frames.shape[0]+1):\n",
    "    count = 0\n",
    "    yes[num1] = np.zeros(total1).astype(np.int64)\n",
    "    for num in range(1, total1):\n",
    "        check = num1 in I[num]\n",
    "        if check == True:\n",
    "            yes[num1][count] = num\n",
    "            count = count + 1\n",
    "    iindex = np.where(yes[num1]==max(yes[num1]))[0][0]\n",
    "    yes[num1] = yes[num1][0:iindex]"
   ]
  },
  {
   "cell_type": "code",
   "execution_count": 22,
   "metadata": {
    "collapsed": false
   },
   "outputs": [
    {
     "name": "stderr",
     "output_type": "stream",
     "text": [
      "C:\\Users\\koolk\\Miniconda3\\lib\\site-packages\\numpy\\ma\\core.py:4085: UserWarning: Warning: converting a masked element to nan.\n",
      "  warnings.warn(\"Warning: converting a masked element to nan.\")\n"
     ]
    }
   ],
   "source": [
    "#And the FBF analyis\n",
    "framed = dict()\n",
    "fM1y = dict()\n",
    "fM1z = dict()\n",
    "fM2xy = dict()\n",
    "fM2xz = dict()\n",
    "fM2yz = dict()\n",
    "fM3 = dict()\n",
    "\n",
    "#Due to some issues with the first frame being a NaN, my for loop is cut one short.  Get funky results otherwise.\n",
    "for num2 in range(1, frames.shape[0]):\n",
    "    framed[num2] = np.zeros(frames.shape[0])\n",
    "    fM1y[num2] = np.zeros(frames.shape[0])\n",
    "    fM1z[num2] = np.zeros(frames.shape[0])\n",
    "    fM2xy[num2] = np.zeros(frames.shape[0])\n",
    "    fM2xz[num2] = np.zeros(frames.shape[0])\n",
    "    fM2yz[num2] = np.zeros(frames.shape[0])\n",
    "    fM3[num2] = np.zeros(frames.shape[0])\n",
    "    \n",
    "    for num1 in range(0, frames.shape[0]):\n",
    "        frame = np.zeros(yes[num2].shape[0])\n",
    "        fmM1y = np.zeros(yes[num2].shape[0])\n",
    "        fmM1z = np.zeros(yes[num2].shape[0])\n",
    "        fmM2xy = np.zeros(yes[num2].shape[0])\n",
    "        fmM2xz = np.zeros(yes[num2].shape[0])\n",
    "        fmM2yz = np.zeros(yes[num2].shape[0])\n",
    "        fmM3 = np.zeros(yes[num2].shape[0])\n",
    "        \n",
    "        for num in range(0, yes[num2].shape[0]):\n",
    "            frame[num] = M1x[yes[num2][num]][num1]\n",
    "            fmM1y[num] = M1y[yes[num2][num]][num1]\n",
    "            fmM1z[num] = M1z[yes[num2][num]][num1]\n",
    "            fmM2xy[num] = M2xy[yes[num2][num]][num1]\n",
    "            fmM2xz[num] = M2xz[yes[num2][num]][num1]\n",
    "            fmM2yz[num] = M2yz[yes[num2][num]][num1]\n",
    "            fmM3[num] = M3[yes[num2][num]][num1]\n",
    "        frame = ma.masked_invalid(frame)\n",
    "        fmM1y = ma.masked_invalid(fmM1y)\n",
    "        fmM1z = ma.masked_invalid(fmM1z)\n",
    "        fmM2xy = ma.masked_invalid(fmM2xy)\n",
    "        fmM2xz = ma.masked_invalid(fmM2xz)\n",
    "        fmM2yz = ma.masked_invalid(fmM2yz)\n",
    "        fmM3 = ma.masked_invalid(fmM3)\n",
    "        \n",
    "        framed[num2][num1] = stat.gmean(frame)\n",
    "        fM1y[num2][num1] = stat.gmean(fmM1y)\n",
    "        fM1z[num2][num1] = stat.gmean(fmM1z)\n",
    "        fM2xy[num2][num1] = stat.gmean(fmM2xy)\n",
    "        fM2xz[num2][num1] = stat.gmean(fmM2xz)\n",
    "        fM2yz[num2][num1] = stat.gmean(fmM2yz)\n",
    "        fM3[num2][num1] = stat.gmean(fmM3)"
   ]
  },
  {
   "cell_type": "code",
   "execution_count": 23,
   "metadata": {
    "collapsed": false
   },
   "outputs": [],
   "source": [
    "#Old way of calculating the FBF averages.\n",
    "\n",
    "# FM1x = np.zeros(frames.shape[0])\n",
    "# FM1y = np.zeros(frames.shape[0])\n",
    "# FM1z = np.zeros(frames.shape[0])\n",
    "# FM2xy = np.zeros(frames.shape[0])\n",
    "# FM2xz = np.zeros(frames.shape[0])\n",
    "# FM2yz = np.zeros(frames.shape[0])\n",
    "# FM3 = np.zeros(frames.shape[0])\n",
    "\n",
    "# for num in range(1, frames.shape[0]):\n",
    "#     FM1x = FM1x + framed[num]\n",
    "#     FM1y = FM1y + fM1y[num]\n",
    "#     FM1z = FM1z + fM1z[num]\n",
    "#     FM2xy = FM2xy + fM2xy[num]\n",
    "#     FM2xz = FM2xz + fM2xz[num]\n",
    "#     FM2yz = FM2yz + fM2yz[num]\n",
    "#     FM3 = FM3 + fM3[num]\n",
    "    \n",
    "# FM1x = FM1x/frames.shape[0]\n",
    "# FM1y = FM1y/frames.shape[0]\n",
    "# FM1z = FM1z/frames.shape[0]\n",
    "# FM2xy = FM2xy/frames.shape[0]\n",
    "# FM2xz = FM2xz/frames.shape[0]\n",
    "# FM2yz = FM2yz/frames.shape[0]\n",
    "# FM3 = FM3/frames.shape[0]\n",
    "\n"
   ]
  },
  {
   "cell_type": "code",
   "execution_count": 24,
   "metadata": {
    "collapsed": false
   },
   "outputs": [],
   "source": [
    "FM1x = np.zeros(frames.shape[0])\n",
    "FM1y = np.zeros(frames.shape[0])\n",
    "FM1z = np.zeros(frames.shape[0])\n",
    "FM2xy = np.zeros(frames.shape[0])\n",
    "FM2xz = np.zeros(frames.shape[0])\n",
    "FM2yz = np.zeros(frames.shape[0])\n",
    "FM3 = np.zeros(frames.shape[0])\n",
    "\n",
    "st_FM1x = np.zeros(frames.shape[0])\n",
    "st_FM1y = np.zeros(frames.shape[0])\n",
    "st_FM1z = np.zeros(frames.shape[0])\n",
    "st_FM2xy = np.zeros(frames.shape[0])\n",
    "st_FM2xz = np.zeros(frames.shape[0])\n",
    "st_FM2yz = np.zeros(frames.shape[0])\n",
    "st_FM3 = np.zeros(frames.shape[0])\n",
    "\n",
    "swframed = dict()\n",
    "swfM1y = dict()\n",
    "swfM1z = dict()\n",
    "swfM2xy = dict()\n",
    "swfM2xz = dict()\n",
    "swfM2yz = dict()\n",
    "swfM3 = dict()\n",
    "\n",
    "for num in range(1, frames.shape[0]+1):\n",
    "    swframed[num] = np.zeros(frames.shape[0]-1)\n",
    "    swfM1y[num] = np.zeros(frames.shape[0]-1)\n",
    "    swfM1z[num] = np.zeros(frames.shape[0]-1)\n",
    "    swfM2xy[num] = np.zeros(frames.shape[0]-1)\n",
    "    swfM2xz[num] = np.zeros(frames.shape[0]-1)\n",
    "    swfM2yz[num] = np.zeros(frames.shape[0]-1)\n",
    "    swfM3[num] = np.zeros(frames.shape[0]-1)\n",
    "    \n",
    "    for num1 in range(1, frames.shape[0]):\n",
    "        swframed[num][num1-1] = framed[num1][num-1]\n",
    "        swfM1y[num][num1-1] = fM1y[num1][num-1]\n",
    "        swfM1z[num][num1-1] = fM1z[num1][num-1]\n",
    "        swfM2xy[num][num1-1] = fM2xy[num1][num-1]\n",
    "        swfM2xz[num][num1-1] = fM2xz[num1][num-1]\n",
    "        swfM2yz[num][num1-1] = fM2yz[num1][num-1]\n",
    "        swfM3[num][num1-1] = fM3[num1][num-1]\n",
    "\n",
    "for num in range(1, frames.shape[0]+1):\n",
    "    FM1x[num-1] = np.mean(swframed[num])\n",
    "    FM1y[num-1] = np.mean(swfM1y[num])\n",
    "    FM1z[num-1] = np.mean(swfM1z[num])\n",
    "    FM2xy[num-1] = np.mean(swfM2xy[num])\n",
    "    FM2xz[num-1] = np.mean(swfM2xz[num])\n",
    "    FM2yz[num-1] = np.mean(swfM2yz[num])\n",
    "    FM3[num-1] = np.mean(swfM3[num])\n",
    "\n",
    "    st_FM1x[num-1] = np.std(swframed[num])\n",
    "    st_FM1y[num-1] = np.std(swfM1y[num])\n",
    "    st_FM1z[num-1] = np.std(swfM1z[num])\n",
    "    st_FM2xy[num-1] = np.std(swfM2xy[num])\n",
    "    st_FM2xz[num-1] = np.std(swfM2xz[num])\n",
    "    st_FM2yz[num-1] = np.std(swfM2yz[num])\n",
    "    st_FM3[num-1] = np.std(swfM3[num])"
   ]
  },
  {
   "cell_type": "code",
   "execution_count": 25,
   "metadata": {
    "collapsed": false
   },
   "outputs": [
    {
     "data": {
      "text/plain": [
       "(45,)"
      ]
     },
     "execution_count": 25,
     "metadata": {},
     "output_type": "execute_result"
    }
   ],
   "source": [
    "ty = dict()\n",
    "\n",
    "for num in range(1, frames.shape[0]):\n",
    "    ty[num] = np.zeros(frames.shape[0]-1)\n",
    "    \n",
    "    for num1 in range(1, frames.shape[0]):\n",
    "        ty[num][num1-1] = framed[num1][num-1]\n",
    "\n",
    "ty[45].shape"
   ]
  },
  {
   "cell_type": "code",
   "execution_count": 26,
   "metadata": {
    "collapsed": false
   },
   "outputs": [
    {
     "data": {
      "text/plain": [
       "array([ 0.0022841 ,  0.0022841 ,  0.0022841 ,  0.0022841 ,  0.0022841 ,\n",
       "        0.00230614,  0.00230614,  0.00231501,  0.00231501,  0.00231501,\n",
       "        0.00235674,  0.00236863,  0.00236863,  0.00236464,  0.00236464,\n",
       "        0.00236464,  0.00236464,  0.00236464,  0.00236464,  0.00236464,\n",
       "        0.00240485,  0.00240485,  0.00244233,  0.0024137 ,  0.0023933 ,\n",
       "        0.0023933 ,  0.00237133,  0.00239244,  0.00239244,  0.00240304,\n",
       "        0.00240304,  0.00240304,  0.00240304,  0.00240304,  0.00240418,\n",
       "        0.00240418,  0.00241983,  0.00246007,  0.00242373,  0.00244508,\n",
       "        0.00246005,  0.00246005,  0.00246005,  0.00246005,  0.00246005])"
      ]
     },
     "execution_count": 26,
     "metadata": {},
     "output_type": "execute_result"
    }
   ],
   "source": [
    "swframed[46]"
   ]
  },
  {
   "cell_type": "code",
   "execution_count": 27,
   "metadata": {
    "collapsed": false
   },
   "outputs": [
    {
     "data": {
      "text/plain": [
       "array([        nan,  0.00116708,  0.00122168,  0.00112926,  0.001566  ,\n",
       "        0.00156653,  0.0012864 ,  0.00136051,  0.00164273,  0.00140781,\n",
       "        0.00159254,  0.00134354,  0.0012512 ,  0.00144019,  0.00175135,\n",
       "        0.00178098,  0.00153605,  0.00160007,  0.00156228,  0.00173251,\n",
       "        0.00157067,  0.00188043,  0.00180191,  0.00166831,  0.00176531,\n",
       "        0.00212963,  0.00218184,  0.00175335,  0.00202979,  0.00217733,\n",
       "        0.00237257,  0.00196868,  0.00210138,  0.00204555,  0.00187796,\n",
       "        0.00200869,  0.00190828,  0.00229165,  0.00239681,  0.00209686,\n",
       "        0.00221687,  0.00245943,  0.00204674,  0.00219302,  0.00248709,\n",
       "        0.00238012])"
      ]
     },
     "execution_count": 27,
     "metadata": {},
     "output_type": "execute_result"
    }
   ],
   "source": [
    "FM1x"
   ]
  },
  {
   "cell_type": "code",
   "execution_count": 28,
   "metadata": {
    "collapsed": false
   },
   "outputs": [
    {
     "data": {
      "text/plain": [
       "(499,)"
      ]
     },
     "execution_count": 28,
     "metadata": {},
     "output_type": "execute_result"
    }
   ],
   "source": [
    "yes[1].shape"
   ]
  },
  {
   "cell_type": "code",
   "execution_count": null,
   "metadata": {
    "collapsed": true
   },
   "outputs": [],
   "source": []
  },
  {
   "cell_type": "code",
   "execution_count": 29,
   "metadata": {
    "collapsed": false
   },
   "outputs": [],
   "source": [
    "FD1x = FM1x/time\n",
    "FD1y = FM1y/time\n",
    "FD1z = FM1z/time\n",
    "FD2xy = FM2xy/time\n",
    "FD2xz = FM2xz/time\n",
    "FD2yz = FM2yz/time\n",
    "FD3 = FM3/time"
   ]
  },
  {
   "cell_type": "code",
   "execution_count": 30,
   "metadata": {
    "collapsed": true
   },
   "outputs": [],
   "source": [
    "def plot_MLOG(M2xy, Mx, My, time, dec1, dec2, datatype, filename, limit1, limit2, tick1, tick2):\n",
    "    \"\"\"\n",
    "    Plots the MSDs or Deffs from a trajectory dataset.\n",
    "\n",
    "    n1: particle numbers (typically 0)\n",
    "    n2: time (typically 1)\n",
    "    n3: MSDs or Deffs (11 or 15 typically)\n",
    "    \"\"\"\n",
    "\n",
    "    M2 = M2xy\n",
    "    Mx = Mx\n",
    "    My = My\n",
    "    t = time\n",
    "    \n",
    "    #I will need to calculate standard deviations eventually\n",
    "#     #Now to calculate the standard dev at each point:\n",
    "#     for num in range (1, total1):\n",
    "#         SDunit = (MSD[num] - MMSD)**2\n",
    "#         SD = SD + SDunit\n",
    "#     SD = np.sqrt(SD/total1)\n",
    "#     SE = SD/np.sqrt(total1)\n",
    "    \n",
    "#     #Linear algebra to find Deff:\n",
    "#     t = time[1][:]\n",
    "#     w = dict()\n",
    "#     line = dict()\n",
    "#     A = np.ones((np.shape(t)[0], 2))\n",
    "#     A[:, 0] = t\n",
    "#     w[0] = np.linalg.lstsq(A, MMSD[:, 0])[0]\n",
    "#     w[1] = np.linalg.lstsq(A, MMSD[:, 1])[0]\n",
    "#     w[2] = np.linalg.lstsq(A, MMSD[:, 2])[0]\n",
    "#     line[0] = w[0][0]*t + w[0][1]\n",
    "#     line[1] = w[1][0]*t + w[1][1]\n",
    "#     line[2] = w[2][0]*t + w[2][1]\n",
    "    \n",
    "#     #Linear algebra for fit on log plot:\n",
    "#     wl = dict()\n",
    "#     linel = dict()\n",
    "#     lt = np.log(t)\n",
    "#     lA = np.ones((np.shape(t)[0], 2))\n",
    "#     lA[:, 0] = lt\n",
    "#     lM = np.log(MMSD)\n",
    "#     wl[0] = np.linalg.lstsq(lA, lM[:, 0])[0]\n",
    "#     wl[1] = np.linalg.lstsq(lA, lM[:, 1])[0]\n",
    "#     wl[2] = np.linalg.lstsq(lA, lM[:, 2])[0]\n",
    "#     linel[0] = np.exp(wl[0][0]*lt + wl[0][1])\n",
    "#     linel[1] = np.exp(wl[1][0]*lt + wl[1][1])\n",
    "#     linel[2] = np.exp(wl[2][0]*lt + wl[2][1])\n",
    "\n",
    "    # Creates figure\n",
    "    fig = plt.figure(figsize=(24, 18), dpi=80)\n",
    "    ax = fig.add_subplot(111)\n",
    "    # ax.set_title('Particle Trajectories', x=0.5, y=1.15)\n",
    "\n",
    "    ax.plot(t, M2, linestyle='', linewidth=10, label='2D', marker='o', ms=10, color='blue')\n",
    "    ax.plot(t, Mx, linestyle='', linewidth=10, label='1D x', marker='o', ms=10, color='red')\n",
    "    ax.plot(t, My, linestyle='', linewidth=10, label='1D x', marker='o', ms=10, color='green')\n",
    "    \n",
    "#     ax.errorbar(t, MMSD[:, 0], yerr=SE[:, 0], fmt='', linestyle='', capsize=7, capthick=2, elinewidth=2, color='blue')\n",
    "#     ax.errorbar(t, MMSD[:, 1], yerr=SE[:, 1], fmt='', linestyle='', capsize=7, capthick=2, elinewidth=2, color='red')\n",
    "#     ax.errorbar(t, MMSD[:, 2], yerr=SE[:, 2], fmt='', linestyle='', capsize=7, capthick=2, elinewidth=2, color='green')\n",
    "    \n",
    "    \n",
    "#     ax.plot(t, linel[0], linewidth=3, color='blue')\n",
    "#     ax.plot(t, linel[1], linewidth=3, color='red')\n",
    "#     ax.plot(t, linel[2], linewidth=3, color='green')\n",
    "    \n",
    "    # A few adjustments to prettify the graph\n",
    "    for item in ([ax.xaxis.label, ax.yaxis.label] +\n",
    "                 ax.get_xticklabels() + ax.get_yticklabels()):\n",
    "        item.set_fontsize(70)\n",
    "\n",
    "    xmajor_ticks = np.arange(0, limit1, tick1)\n",
    "    ymajor_ticks = np.arange(0, limit2, tick2)\n",
    "\n",
    "    hfont = {'fontname':'Arial'}\n",
    "    ax.set_xticks(xmajor_ticks)\n",
    "    ax.set_yticks(ymajor_ticks)\n",
    "    ax.title.set_fontsize(70)\n",
    "    ax.set_xlabel('Time (s)', fontsize=115, **hfont)\n",
    "    ax.set_ylabel(r'MSD ($\\mu$m$^2$)', fontsize=115, **hfont)\n",
    "    ax.tick_params(direction='out', pad=16)\n",
    "    ax.legend(loc=(0.05, 0.61), prop={'size': 70})\n",
    "    plt.gca().xaxis.set_major_formatter(mpl.ticker.FormatStrFormatter('%.{}f'.format(dec1)))\n",
    "    plt.gca().yaxis.set_major_formatter(mpl.ticker.FormatStrFormatter('%.{}f'.format(dec2)))\n",
    "\n",
    "    \n",
    "    plt.yscale('log')\n",
    "    plt.xscale('log')\n",
    "    plt.gca().set_xlim([0.1, limit1])\n",
    "    plt.gca().set_ylim([0.0001, limit2])\n",
    "\n",
    "    # Save your figure\n",
    "    plt.savefig('{}.png'.format(filename), bbox_inches='tight')\n",
    "    return M2, Mx"
   ]
  },
  {
   "cell_type": "code",
   "execution_count": 31,
   "metadata": {
    "collapsed": false
   },
   "outputs": [],
   "source": [
    "one1, bleh = plot_MLOG(FM2xy, FM1x, FM1y, time, 1, 1, 'MSD (um^2)', logplot, 100.1, 0.1, 1, 1)\n",
    "plt.show()"
   ]
  },
  {
   "cell_type": "code",
   "execution_count": 32,
   "metadata": {
    "collapsed": true
   },
   "outputs": [],
   "source": [
    "def plot_M(M2xy, Mx, My, time, dec1, dec2, datatype, filename, limit1, limit2, tick1, tick2):\n",
    "    \"\"\"\n",
    "    Plots the MSDs or Deffs from a trajectory dataset.\n",
    "\n",
    "    n1: particle numbers (typically 0)\n",
    "    n2: time (typically 1)\n",
    "    n3: MSDs or Deffs (11 or 15 typically)\n",
    "    \"\"\"\n",
    "\n",
    "    M2 = M2xy\n",
    "    Mx = Mx\n",
    "    My = My\n",
    "    t = time\n",
    "    \n",
    "#     #Linear algebra to find Deff:\n",
    "#     t = time[1][:]\n",
    "#     w = dict()\n",
    "#     line = dict()\n",
    "#     A = np.ones((np.shape(t)[0], 2))\n",
    "#     A[:, 0] = t\n",
    "#     w[0] = np.linalg.lstsq(A, MMSD[:, 0])[0]\n",
    "#     w[1] = np.linalg.lstsq(A, MMSD[:, 1])[0]\n",
    "#     w[2] = np.linalg.lstsq(A, MMSD[:, 2])[0]\n",
    "#     line[0] = w[0][0]*t + w[0][1]\n",
    "#     line[1] = w[1][0]*t + w[1][1]\n",
    "#     line[2] = w[2][0]*t + w[2][1]\n",
    "    \n",
    "#     #Linear algebra for fit on log plot:\n",
    "#     wl = dict()\n",
    "#     linel = dict()\n",
    "#     lt = np.log(t)\n",
    "#     lA = np.ones((np.shape(t)[0], 2))\n",
    "#     lA[:, 0] = lt\n",
    "#     lM = np.log(MMSD)\n",
    "#     wl[0] = np.linalg.lstsq(lA, lM[:, 0])[0]\n",
    "#     wl[1] = np.linalg.lstsq(lA, lM[:, 1])[0]\n",
    "#     wl[2] = np.linalg.lstsq(lA, lM[:, 2])[0]\n",
    "#     linel[0] = np.exp(wl[0][0]*lt + wl[0][1])\n",
    "#     linel[1] = np.exp(wl[1][0]*lt + wl[1][1])\n",
    "#     linel[2] = np.exp(wl[2][0]*lt + wl[2][1])\n",
    "\n",
    "    # Creates figure\n",
    "    fig = plt.figure(figsize=(24, 18), dpi=80)\n",
    "    ax = fig.add_subplot(111)\n",
    "    # ax.set_title('Particle Trajectories', x=0.5, y=1.15)\n",
    "\n",
    "    ax.plot(t, M2, linestyle='', linewidth=10, label='2D', marker='o', ms=10, color='blue')\n",
    "    ax.plot(t, Mx, linestyle='', linewidth=10, label='1D x', marker='o', ms=10, color='red')\n",
    "    ax.plot(t, My, linestyle='', linewidth=10, label='1D x', marker='o', ms=10, color='green')\n",
    "    \n",
    "#     ax.errorbar(t, MMSD[:, 0], yerr=SE[:, 0], fmt='', linestyle='', capsize=7, capthick=2, elinewidth=2, color='blue')\n",
    "#     ax.errorbar(t, MMSD[:, 1], yerr=SE[:, 1], fmt='', linestyle='', capsize=7, capthick=2, elinewidth=2, color='red')\n",
    "#     ax.errorbar(t, MMSD[:, 2], yerr=SE[:, 2], fmt='', linestyle='', capsize=7, capthick=2, elinewidth=2, color='green')\n",
    "    \n",
    "#     ax.plot(t, line[0], linewidth=3, color='blue')\n",
    "#     ax.plot(t, line[1], linewidth=3, color='red')\n",
    "#     ax.plot(t, line[2], linewidth=3, color='green')\n",
    "    \n",
    "    #ax.plot(t, linel[0], linewidth=3, color='blue')\n",
    "    #ax.plot(t, linel[1], linewidth=3, color='red')\n",
    "    #ax.plot(t, linel[2], linewidth=3, color='green')\n",
    "    \n",
    "    # A few adjustments to prettify the graph\n",
    "    for item in ([ax.xaxis.label, ax.yaxis.label] +\n",
    "                 ax.get_xticklabels() + ax.get_yticklabels()):\n",
    "        item.set_fontsize(70)\n",
    "\n",
    "    xmajor_ticks = np.arange(0, limit1, tick1)\n",
    "    ymajor_ticks = np.arange(0, limit2, tick2)\n",
    "\n",
    "    hfont = {'fontname':'Arial'}\n",
    "    ax.set_xticks(xmajor_ticks)\n",
    "    ax.set_yticks(ymajor_ticks)\n",
    "    ax.title.set_fontsize(70)\n",
    "    ax.set_xlabel('Time (s)', fontsize=115, **hfont)\n",
    "    ax.set_ylabel(r'MSD ($\\mu$m$^2$)', fontsize=115, **hfont)\n",
    "    ax.tick_params(direction='out', pad=16)\n",
    "    ax.legend(loc=(0.05, 0.61), prop={'size': 70})\n",
    "    plt.gca().xaxis.set_major_formatter(mpl.ticker.FormatStrFormatter('%.{}f'.format(dec1)))\n",
    "    plt.gca().yaxis.set_major_formatter(mpl.ticker.FormatStrFormatter('%.{}e'.format(dec2)))\n",
    "\n",
    "    \n",
    "    #plt.yscale('log')\n",
    "    #plt.xscale('log')\n",
    "    plt.gca().set_xlim([0, limit1])\n",
    "    plt.gca().set_ylim([0, limit2])\n",
    "\n",
    "    # Save your figure\n",
    "    plt.savefig('{}.png'.format(filename), bbox_inches='tight')\n",
    "    return M2, Mx"
   ]
  },
  {
   "cell_type": "code",
   "execution_count": 33,
   "metadata": {
    "collapsed": true
   },
   "outputs": [],
   "source": [
    "one1, bleh = plot_M(FM2xy, FM1x, FM1y, time, 0, 0, 'MSD (um^2)', Mplot, 50.1, 0.0101, 10, 0.002)\n",
    "plt.show()"
   ]
  },
  {
   "cell_type": "code",
   "execution_count": 34,
   "metadata": {
    "collapsed": false
   },
   "outputs": [],
   "source": [
    "Deff3 = Deff2*np.ones(time.shape[0])"
   ]
  },
  {
   "cell_type": "code",
   "execution_count": 35,
   "metadata": {
    "collapsed": false
   },
   "outputs": [],
   "source": [
    "def plot_M1(M2xy, Mx, My, Mth, time, dec1, dec2, datatype, filename, limit1, limit2, tick1, tick2):\n",
    "    \"\"\"\n",
    "    Plots the MSDs or Deffs from a trajectory dataset.\n",
    "\n",
    "    n1: particle numbers (typically 0)\n",
    "    n2: time (typically 1)\n",
    "    n3: MSDs or Deffs (11 or 15 typically)\n",
    "    \"\"\"\n",
    "\n",
    "    M2 = M2xy\n",
    "    Mx = Mx\n",
    "    My = My\n",
    "    t = time\n",
    "    \n",
    "#     #Linear algebra to find Deff:\n",
    "#     t = time[1][:]\n",
    "#     w = dict()\n",
    "#     line = dict()\n",
    "#     A = np.ones((np.shape(t)[0], 2))\n",
    "#     A[:, 0] = t\n",
    "#     w[0] = np.linalg.lstsq(A, MMSD[:, 0])[0]\n",
    "#     w[1] = np.linalg.lstsq(A, MMSD[:, 1])[0]\n",
    "#     w[2] = np.linalg.lstsq(A, MMSD[:, 2])[0]\n",
    "#     line[0] = w[0][0]*t + w[0][1]\n",
    "#     line[1] = w[1][0]*t + w[1][1]\n",
    "#     line[2] = w[2][0]*t + w[2][1]\n",
    "    \n",
    "#     #Linear algebra for fit on log plot:\n",
    "#     wl = dict()\n",
    "#     linel = dict()\n",
    "#     lt = np.log(t)\n",
    "#     lA = np.ones((np.shape(t)[0], 2))\n",
    "#     lA[:, 0] = lt\n",
    "#     lM = np.log(MMSD)\n",
    "#     wl[0] = np.linalg.lstsq(lA, lM[:, 0])[0]\n",
    "#     wl[1] = np.linalg.lstsq(lA, lM[:, 1])[0]\n",
    "#     wl[2] = np.linalg.lstsq(lA, lM[:, 2])[0]\n",
    "#     linel[0] = np.exp(wl[0][0]*lt + wl[0][1])\n",
    "#     linel[1] = np.exp(wl[1][0]*lt + wl[1][1])\n",
    "#     linel[2] = np.exp(wl[2][0]*lt + wl[2][1])\n",
    "\n",
    "    # Creates figure\n",
    "    fig = plt.figure(figsize=(24, 18), dpi=80)\n",
    "    ax = fig.add_subplot(111)\n",
    "    # ax.set_title('Particle Trajectories', x=0.5, y=1.15)\n",
    "\n",
    "    ax.plot(t, M2, linewidth=10, label='2D', color='blue')\n",
    "    ax.plot(t, Mx, linewidth=10, label='1D x', color='red')\n",
    "    ax.plot(t, My, linewidth=10, label='1D x', color='green')\n",
    "    ax.plot(t, Mth, '--', linewidth=10, label='theoretical', color='purple')\n",
    "    \n",
    "#     ax.errorbar(t, MMSD[:, 0], yerr=SE[:, 0], fmt='', linestyle='', capsize=7, capthick=2, elinewidth=2, color='blue')\n",
    "#     ax.errorbar(t, MMSD[:, 1], yerr=SE[:, 1], fmt='', linestyle='', capsize=7, capthick=2, elinewidth=2, color='red')\n",
    "#     ax.errorbar(t, MMSD[:, 2], yerr=SE[:, 2], fmt='', linestyle='', capsize=7, capthick=2, elinewidth=2, color='green')\n",
    "    \n",
    "#     ax.plot(t, line[0], linewidth=3, color='blue')\n",
    "#     ax.plot(t, line[1], linewidth=3, color='red')\n",
    "#     ax.plot(t, line[2], linewidth=3, color='green')\n",
    "    \n",
    "    #ax.plot(t, linel[0], linewidth=3, color='blue')\n",
    "    #ax.plot(t, linel[1], linewidth=3, color='red')\n",
    "    #ax.plot(t, linel[2], linewidth=3, color='green')\n",
    "    \n",
    "    # A few adjustments to prettify the graph\n",
    "    for item in ([ax.xaxis.label, ax.yaxis.label] +\n",
    "                 ax.get_xticklabels() + ax.get_yticklabels()):\n",
    "        item.set_fontsize(70)\n",
    "\n",
    "    xmajor_ticks = np.arange(0, limit1, tick1)\n",
    "    ymajor_ticks = np.arange(0, limit2, tick2)\n",
    "\n",
    "    ax.set_xticks(xmajor_ticks)\n",
    "    ax.set_yticks(ymajor_ticks)\n",
    "\n",
    "    hfont = {'fontname':'Arial'}\n",
    "    ax.title.set_fontsize(70)\n",
    "    ax.set_xlabel('Time (s)', fontsize=115, **hfont)\n",
    "    ax.set_ylabel(r'D ($\\mu$m$^2$/s)', fontsize=115, **hfont)\n",
    "    ax.tick_params(direction='out', pad=16)\n",
    "    ax.legend(loc=(0.10, 0.54), prop={'size': 70})\n",
    "    plt.gca().xaxis.set_major_formatter(mpl.ticker.FormatStrFormatter('%.{}f'.format(dec1)))\n",
    "    plt.gca().yaxis.set_major_formatter(mpl.ticker.FormatStrFormatter('%.{}e'.format(dec2)))\n",
    "\n",
    "    \n",
    "    #plt.yscale('log')\n",
    "    #plt.xscale('log')\n",
    "    plt.gca().set_xlim([0, limit1])\n",
    "    plt.gca().set_ylim([0, limit2])\n",
    "\n",
    "    # Save your figure\n",
    "    plt.savefig('{}.png'.format(filename), bbox_inches='tight')\n",
    "    return M2, Mx"
   ]
  },
  {
   "cell_type": "code",
   "execution_count": 36,
   "metadata": {
    "collapsed": false
   },
   "outputs": [],
   "source": [
    "one1, bleh = plot_M1(FD2xy, FD1x, FD1y, Deff3, time, 0, 1, 'MSD (um^2)', Dplot, 50.1, 0.0021, 10, 0.0004)\n",
    "plt.show()"
   ]
  },
  {
   "cell_type": "code",
   "execution_count": 37,
   "metadata": {
    "collapsed": false
   },
   "outputs": [
    {
     "data": {
      "text/plain": [
       "masked_array(data = [-- 0.16307158570000269 0.016702380500000842 0.009772735400001063\n",
       " 0.007195560500000805 0.013254436000000851 0.005270085000000859\n",
       " 0.006261412100000493 0.22795563220000792 0.012172174100000589\n",
       " 0.002354660200000139 0.36949358169999924 0.0019068751999992833\n",
       " 0.23214896650000405 0.01331299250000061 0.013651242399999658\n",
       " 0.004191267600000626 0.009541264999998855 0.003971508499999662\n",
       " 0.008345334600000035 0.0029106025000004546 0.0009761713000004503\n",
       " 0.009402107200000676 0.021694838799999394 0.00026729319999993127\n",
       " 0.007639901000000157 0.017642040099998917 0.006682330000001112\n",
       " 0.009981472099999111 0.004977991399999621 0.0005800538000001\n",
       " 0.0028713352000006853 0.20388271060000068 0.0041092885000003285\n",
       " 0.002703932499999106 0.0006889000000002096 0.1877700285000037\n",
       " 0.004712764900000117 0.01358510800000056 0.03313953449999642\n",
       " 0.033731299599996996 0.21507802449999816 0.003712482099999399\n",
       " 0.0012965097999998979 0.017708174499998997 0.00235121569999971],\n",
       "             mask = [ True False False False False False False False False False False False\n",
       " False False False False False False False False False False False False\n",
       " False False False False False False False False False False False False\n",
       " False False False False False False False False False False],\n",
       "       fill_value = 0.0)"
      ]
     },
     "execution_count": 37,
     "metadata": {},
     "output_type": "execute_result"
    }
   ],
   "source": [
    "SM2xy[34]"
   ]
  },
  {
   "cell_type": "code",
   "execution_count": 38,
   "metadata": {
    "collapsed": true
   },
   "outputs": [],
   "source": [
    "#Now to calculate arithmetic and geometric means.\n",
    "\n",
    "arM1x = np.zeros(SM1x[1].shape[0])\n",
    "arM1y = np.zeros(SM1x[1].shape[0])\n",
    "arM1z = np.zeros(SM1x[1].shape[0])\n",
    "arM2xy = np.zeros(SM1x[1].shape[0])\n",
    "arM2xz = np.zeros(SM1x[1].shape[0])\n",
    "arM2yz = np.zeros(SM1x[1].shape[0])\n",
    "arM3 = np.zeros(SM1x[1].shape[0])\n",
    "\n",
    "arD1x = np.zeros(SM1x[1].shape[0])\n",
    "arD1y = np.zeros(SM1x[1].shape[0])\n",
    "arD1z = np.zeros(SM1x[1].shape[0])\n",
    "arD2xy = np.zeros(SM1x[1].shape[0])\n",
    "arD2xz = np.zeros(SM1x[1].shape[0])\n",
    "arD2yz = np.zeros(SM1x[1].shape[0])\n",
    "arD3 = np.zeros(SM1x[1].shape[0])\n",
    "\n",
    "st_arM1x = np.zeros(SM1x[1].shape[0])\n",
    "st_arM1y = np.zeros(SM1x[1].shape[0])\n",
    "st_arM1z = np.zeros(SM1x[1].shape[0])\n",
    "st_arM2xy = np.zeros(SM1x[1].shape[0])\n",
    "st_arM2xz = np.zeros(SM1x[1].shape[0])\n",
    "st_arM2yz = np.zeros(SM1x[1].shape[0])\n",
    "st_arM3 = np.zeros(SM1x[1].shape[0])\n",
    "\n",
    "st_arD1x = np.zeros(SM1x[1].shape[0])\n",
    "st_arD1y = np.zeros(SM1x[1].shape[0])\n",
    "st_arD1z = np.zeros(SM1x[1].shape[0])\n",
    "st_arD2xy = np.zeros(SM1x[1].shape[0])\n",
    "st_arD2xz = np.zeros(SM1x[1].shape[0])\n",
    "st_arD2yz = np.zeros(SM1x[1].shape[0])\n",
    "st_arD3 = np.zeros(SM1x[1].shape[0])\n",
    "\n",
    "# for num in range(1, tots +1):\n",
    "#     arM1x = arM1x + SM1x[num]\n",
    "#     arM1y = arM1y + SM1y[num]\n",
    "#     arM1z = arM1z + SM1z[num]\n",
    "#     arM2xy = arM2xy + SM2xy[num]\n",
    "#     arM2xz = arM2xz + SM2xz[num]\n",
    "#     arM2yz = arM2yz + SM2yz[num]\n",
    "#     arM3 = arM3 + SM3[num]\n",
    "    \n",
    "#     arD1x = arD1x + SD1x[num]\n",
    "#     arD1y = arD1y + SD1y[num]\n",
    "#     arD1z = arD1z + SD1z[num]\n",
    "#     arD2xy = arD2xy + SD2xy[num]\n",
    "#     arD2xz = arD2xz + SD2xz[num]\n",
    "#     arD2yz = arD2yz + SD2yz[num]\n",
    "#     arD3 = arD3 + SD3[num]\n",
    "    \n",
    "#     arM1x[num2+1] = ma.masked_invalid(gM1x[num2+1])\n",
    "#     gM1y[num2+1] = ma.masked_invalid(gM1y[num2+1])\n",
    "#     gM1z[num2+1] = ma.masked_invalid(gM1z[num2+1])\n",
    "#     gM2xy[num2+1] = ma.masked_invalid(gM2xy[num2+1])\n",
    "#     gM2xz[num2+1] = ma.masked_invalid(gM2xz[num2+1])\n",
    "#     gM2yz[num2+1] = ma.masked_invalid(gM2yz[num2+1])\n",
    "#     gM3[num2+1] = ma.masked_invalid(gM3[num2+1])\n",
    "        \n",
    "#     gD1x[num2+1] = ma.masked_invalid(SD1x[num2+1])\n",
    "#     gD1y[num2+1] = ma.masked_invalid(SD1y[num2+1])\n",
    "#     gD1z[num2+1] = ma.masked_invalid(SD1z[num2+1])\n",
    "#     gD2xy[num2+1] = ma.masked_invalid(SD2xy[num2+1])\n",
    "#     gD2xz[num2+1] = ma.masked_invalid(SD2xz[num2+1])\n",
    "#     gD2yz[num2+1] = ma.masked_invalid(SD2yz[num2+1])\n",
    "#     gD3[num2+1] = ma.masked_invalid(SD3[num2+1])\n",
    "    \n",
    "# arM1x = arM1x/tots\n",
    "# arM1y = arM1y/tots\n",
    "# arM1z = arM1z/tots\n",
    "# arM2xy = arM2xy/tots\n",
    "# arM2xz = arM2xz/tots\n",
    "# arM2yz = arM2yz/tots\n",
    "# arM3 = arM3/tots\n",
    "\n",
    "# arD1x = arD1x/tots\n",
    "# arD1y = arD1y/tots\n",
    "# arD1z = arD1z/tots\n",
    "# arD2xy = arD2xy/tots\n",
    "# arD2xz = arD2xz/tots\n",
    "# arD2yz = arD2yz/tots\n",
    "# arD3 = arD3/tots"
   ]
  },
  {
   "cell_type": "code",
   "execution_count": 39,
   "metadata": {
    "collapsed": false
   },
   "outputs": [
    {
     "name": "stderr",
     "output_type": "stream",
     "text": [
      "C:\\Users\\koolk\\Miniconda3\\lib\\site-packages\\numpy\\ma\\core.py:4085: UserWarning: Warning: converting a masked element to nan.\n",
      "  warnings.warn(\"Warning: converting a masked element to nan.\")\n"
     ]
    }
   ],
   "source": [
    "#Two quick fixes to update new nomenclature from old code.\n",
    "tots = total1 - 1\n",
    "time2 = time\n",
    "\n",
    "gM1x = dict()\n",
    "gM1y = dict()\n",
    "gM1z = dict()\n",
    "gM2xy = dict()\n",
    "gM2xz = dict()\n",
    "gM2yz = dict()\n",
    "gM3 = dict()\n",
    "\n",
    "log_gM1x = dict()\n",
    "log_gM1y = dict()\n",
    "log_gM1z = dict()\n",
    "log_gM2xy = dict()\n",
    "log_gM2xz = dict()\n",
    "log_gM2yz = dict()\n",
    "log_gM3 = dict()\n",
    "\n",
    "# gD1x = dict()\n",
    "# gD1y = dict()\n",
    "# gD1z = dict()\n",
    "# gD2xy = dict()\n",
    "# gD2xz = dict()\n",
    "# gD2yz = dict()\n",
    "# gD3 = dict()\n",
    "\n",
    "geoM1x = np.zeros(SM1x[1].shape[0])\n",
    "geoM1y = np.zeros(SM1x[1].shape[0])\n",
    "geoM1z = np.zeros(SM1x[1].shape[0])\n",
    "geoM2xy = np.zeros(SM1x[1].shape[0])\n",
    "geoM2xz = np.zeros(SM1x[1].shape[0])\n",
    "geoM2yz = np.zeros(SM1x[1].shape[0])\n",
    "geoM3 = np.zeros(SM1x[1].shape[0])\n",
    "\n",
    "st_geoM1x = np.zeros(SM1x[1].shape[0])\n",
    "st_geoM1y = np.zeros(SM1x[1].shape[0])\n",
    "st_geoM1z = np.zeros(SM1x[1].shape[0])\n",
    "st_geoM2xy = np.zeros(SM1x[1].shape[0])\n",
    "st_geoM2xz = np.zeros(SM1x[1].shape[0])\n",
    "st_geoM2yz = np.zeros(SM1x[1].shape[0])\n",
    "st_geoM3 = np.zeros(SM1x[1].shape[0])\n",
    "\n",
    "geoD1x = np.zeros(SM1x[1].shape[0])\n",
    "geoD1y = np.zeros(SM1x[1].shape[0])\n",
    "geoD1z = np.zeros(SM1x[1].shape[0])\n",
    "geoD2xy = np.zeros(SM1x[1].shape[0])\n",
    "geoD2xz = np.zeros(SM1x[1].shape[0])\n",
    "geoD2yz = np.zeros(SM1x[1].shape[0])\n",
    "geoD3 = np.zeros(SM1x[1].shape[0])\n",
    "\n",
    "st_geoD1x = np.zeros(SM1x[1].shape[0])\n",
    "st_geoD1y = np.zeros(SM1x[1].shape[0])\n",
    "st_geoD1z = np.zeros(SM1x[1].shape[0])\n",
    "st_geoD2xy = np.zeros(SM1x[1].shape[0])\n",
    "st_geoD2xz = np.zeros(SM1x[1].shape[0])\n",
    "st_geoD2yz = np.zeros(SM1x[1].shape[0])\n",
    "st_geoD3 = np.zeros(SM1x[1].shape[0])\n",
    "\n",
    "for num2 in range(0, SM1x[1].shape[0]):\n",
    "    gM1x[num2+1] = np.zeros(tots)\n",
    "    gM1y[num2+1] = np.zeros(tots)\n",
    "    gM1z[num2+1] = np.zeros(tots)\n",
    "    gM2xy[num2+1] = np.zeros(tots)\n",
    "    gM2xz[num2+1] = np.zeros(tots)\n",
    "    gM2yz[num2+1] = np.zeros(tots)\n",
    "    gM3[num2+1] = np.zeros(tots)\n",
    "    \n",
    "#     gD1x[num2+1] = np.zeros(tots)\n",
    "#     gD1y[num2+1] = np.zeros(tots)\n",
    "#     gD1z[num2+1] = np.zeros(tots)\n",
    "#     gD2xy[num2+1] = np.zeros(tots)\n",
    "#     gD2xz[num2+1] = np.zeros(tots)\n",
    "#     gD2yz[num2+1] = np.zeros(tots)\n",
    "#     gD3[num2+1] = np.zeros(tots)\n",
    "    \n",
    "    for num in range(1, tots + 1):\n",
    "        gM1x[num2+1][num-1] = SM1x[num][num2]\n",
    "        gM1y[num2+1][num-1] = SM1y[num][num2]\n",
    "        gM1z[num2+1][num-1] = SM1z[num][num2]\n",
    "        gM2xy[num2+1][num-1] = SM2xy[num][num2]\n",
    "        gM2xz[num2+1][num-1] = SM2xz[num][num2]\n",
    "        gM2yz[num2+1][num-1] = SM2yz[num][num2]\n",
    "        gM3[num2+1][num-1] = SM3[num][num2]\n",
    "        \n",
    "#         gD1x[num2+1][num-1] = SD1x[num][num2]\n",
    "#         gD1y[num2+1][num-1] = SD1y[num][num2]\n",
    "#         gD1z[num2+1][num-1] = SD1z[num][num2]\n",
    "#         gD2xy[num2+1][num-1] = SD2xy[num][num2]\n",
    "#         gD2xz[num2+1][num-1] = SD2xz[num][num2]\n",
    "#         gD2yz[num2+1][num-1] = SD2yz[num][num2]\n",
    "#         gD3[num2+1][num-1] = SD3[num][num2]\n",
    "        \n",
    "    gM1x[num2+1] = ma.masked_invalid(gM1x[num2+1])\n",
    "    gM1y[num2+1] = ma.masked_invalid(gM1y[num2+1])\n",
    "    gM1z[num2+1] = ma.masked_invalid(gM1z[num2+1])\n",
    "    gM2xy[num2+1] = ma.masked_invalid(gM2xy[num2+1])\n",
    "    gM2xz[num2+1] = ma.masked_invalid(gM2xz[num2+1])\n",
    "    gM2yz[num2+1] = ma.masked_invalid(gM2yz[num2+1])\n",
    "    gM3[num2+1] = ma.masked_invalid(gM3[num2+1])\n",
    "\n",
    "    #I need to include this, because geometric means can't be calculated on values of 0.\n",
    "    gM1x[num2+1] = ma.masked_equal(gM1x[num2+1], 0)\n",
    "    gM1y[num2+1] = ma.masked_equal(gM1y[num2+1], 0)\n",
    "    gM1z[num2+1] = ma.masked_equal(gM1z[num2+1], 0)\n",
    "    gM2xy[num2+1] = ma.masked_equal(gM2xy[num2+1], 0)\n",
    "    gM2xz[num2+1] = ma.masked_equal(gM2xz[num2+1], 0)\n",
    "    gM2yz[num2+1] = ma.masked_equal(gM2yz[num2+1], 0)\n",
    "    gM3[num2+1] = ma.masked_equal(gM3[num2+1], 0)\n",
    "\n",
    "    log_gM1x[num2+1] = np.log(gM1x[num2+1])\n",
    "    log_gM1y[num2+1] = np.log(gM1y[num2+1])\n",
    "    log_gM1z[num2+1] = np.log(gM1z[num2+1])\n",
    "    log_gM2xy[num2+1] = np.log(gM2xy[num2+1])\n",
    "    log_gM2xz[num2+1] = np.log(gM2xz[num2+1])\n",
    "    log_gM2yz[num2+1] = np.log(gM2yz[num2+1])\n",
    "    log_gM3[num2+1] = np.log(gM3[num2+1])\n",
    "        \n",
    "#     gD1x[num2+1] = ma.masked_invalid(SD1x[num2+1])\n",
    "#     gD1y[num2+1] = ma.masked_invalid(SD1y[num2+1])\n",
    "#     gD1z[num2+1] = ma.masked_invalid(SD1z[num2+1])\n",
    "#     gD2xy[num2+1] = ma.masked_invalid(SD2xy[num2+1])\n",
    "#     gD2xz[num2+1] = ma.masked_invalid(SD2xz[num2+1])\n",
    "#     gD2yz[num2+1] = ma.masked_invalid(SD2yz[num2+1])\n",
    "#     gD3[num2+1] = ma.masked_invalid(SD3[num2+1])\n",
    "        \n",
    "    geoM1x[num2] = stat.gmean(gM1x[num2+1])\n",
    "    geoM1y[num2] = stat.gmean(gM1y[num2+1])\n",
    "    geoM1z[num2] = stat.gmean(gM1z[num2+1])\n",
    "    geoM2xy[num2] = stat.gmean(gM2xy[num2+1])\n",
    "    geoM2xz[num2] = stat.gmean(gM2xz[num2+1])\n",
    "    geoM2yz[num2] = stat.gmean(gM2yz[num2+1])\n",
    "    geoM3[num2] = stat.gmean(gM3[num2+1])\n",
    "    \n",
    "    #(Wiki method) The geometric standard deviation is a function of the mean of the logarithms.\n",
    "#     st_geoM1x[num2] = np.exp(np.sqrt(np.mean((log_gM1x[num2+1] - np.log(geoM1x[num2]))*(log_gM1x[num2+1] - np.log(geoM1x[num2])))))\n",
    "#     st_geoM1y[num2] = np.exp(np.sqrt(np.mean((log_gM1y[num2+1] - np.log(geoM1y[num2]))*(log_gM1y[num2+1] - np.log(geoM1y[num2])))))\n",
    "#     st_geoM1z[num2] = np.exp(np.sqrt(np.mean((log_gM1z[num2+1] - np.log(geoM1z[num2]))*(log_gM1z[num2+1] - np.log(geoM1z[num2])))))\n",
    "#     st_geoM2xy[num2] = np.exp(np.sqrt(np.mean((log_gM2xy[num2+1] - np.log(geoM2xy[num2]))*(log_gM2xy[num2+1] - np.log(geoM2xy[num2])))))\n",
    "#     st_geoM2xz[num2] = np.exp(np.sqrt(np.mean((log_gM2xz[num2+1] - np.log(geoM2xz[num2]))*(log_gM2xz[num2+1] - np.log(geoM2xz[num2])))))\n",
    "#     st_geoM2yz[num2] = np.exp(np.sqrt(np.mean((log_gM2yz[num2+1] - np.log(geoM2yz[num2]))*(log_gM2yz[num2+1] - np.log(geoM2yz[num2])))))\n",
    "#     st_geoM3[num2] = np.exp(np.sqrt(np.mean((log_gM3[num2+1] - np.log(geoM3[num2]))*(log_gM3[num2+1] - np.log(geoM3[num2])))))\n",
    "\n",
    "    #Nance method for standard error or geometric mean.\n",
    "    st_geoM1x[num2] = np.abs(geoM1x[num2]-np.exp(np.mean(np.log(gM1x[num2+1]))-np.std(np.log(gM1x[num2+1]))/np.sqrt(gM1x[num2+1].shape[0])))\n",
    "    st_geoM1y[num2] = np.abs(geoM1y[num2]-np.exp(np.mean(np.log(gM1y[num2+1]))-np.std(np.log(gM1y[num2+1]))/np.sqrt(gM1y[num2+1].shape[0])))\n",
    "    st_geoM1z[num2] = np.abs(geoM1z[num2]-np.exp(np.mean(np.log(gM1z[num2+1]))-np.std(np.log(gM1z[num2+1]))/np.sqrt(gM1z[num2+1].shape[0])))\n",
    "    st_geoM2xy[num2] = np.abs(geoM2xy[num2]-np.exp(np.mean(np.log(gM2xy[num2+1]))-np.std(np.log(gM2xy[num2+1]))/np.sqrt(gM2xy[num2+1].shape[0])))\n",
    "    st_geoM2xz[num2] = np.abs(geoM2xz[num2]-np.exp(np.mean(np.log(gM2xz[num2+1]))-np.std(np.log(gM2xz[num2+1]))/np.sqrt(gM2xz[num2+1].shape[0])))\n",
    "    st_geoM2yz[num2] = np.abs(geoM2yz[num2]-np.exp(np.mean(np.log(gM2yz[num2+1]))-np.std(np.log(gM2yz[num2+1]))/np.sqrt(gM2yz[num2+1].shape[0])))\n",
    "    st_geoM3[num2] = np.abs(geoM3[num2]-np.exp(np.mean(np.log(gM3[num2+1]))-np.std(np.log(gM3[num2+1]))/np.sqrt(gM3[num2+1].shape[0])))\n",
    "\n",
    "#     geoD1x[num2] = stat.gmean(gD1x[num2+1])\n",
    "#     geoD1y[num2] = stat.gmean(gD1y[num2+1])\n",
    "#     geoD1z[num2] = stat.gmean(gD1z[num2+1])\n",
    "#     geoD2xy[num2] = stat.gmean(gD2xy[num2+1])\n",
    "#     geoD2xz[num2] = stat.gmean(gD2xz[num2+1])\n",
    "#     geoD2yz[num2] = stat.gmean(gD2yz[num2+1])\n",
    "#     geoD3[num2] = stat.gmean(gD3[num2+1])\n",
    "\n",
    "    geoD1x[num2] = geoM1x[num2]/time2[num2]\n",
    "    geoD1y[num2] = geoM1y[num2]/time2[num2]\n",
    "    geoD1z[num2] = geoM1z[num2]/time2[num2]\n",
    "    geoD2xy[num2] = geoM2xy[num2]/time2[num2]\n",
    "    geoD2xz[num2] = geoM2xz[num2]/time2[num2]\n",
    "    geoD2yz[num2] = geoM2yz[num2]/time2[num2]\n",
    "    geoD3[num2] = geoM3[num2]/time2[num2]\n",
    "\n",
    "    arM1x[num2] = np.mean(gM1x[num2+1])\n",
    "    arM1y[num2] = np.mean(gM1y[num2+1])\n",
    "    arM1z[num2] = np.mean(gM1z[num2+1])\n",
    "    arM2xy[num2] = np.mean(gM2xy[num2+1])\n",
    "    arM2xz[num2] = np.mean(gM2xz[num2+1])\n",
    "    arM2yz[num2] = np.mean(gM2yz[num2+1])\n",
    "    arM3[num2] = np.mean(gM3[num2+1])\n",
    "    \n",
    "    st_arM1x[num2] = np.std(gM1x[num2+1])\n",
    "    st_arM1y[num2] = np.std(gM1y[num2+1])\n",
    "    st_arM1z[num2] = np.std(gM1z[num2+1])\n",
    "    st_arM2xy[num2] = np.std(gM2xy[num2+1])\n",
    "    st_arM2xz[num2] = np.std(gM2xz[num2+1])\n",
    "    st_arM2yz[num2] = np.std(gM2yz[num2+1])\n",
    "    st_arM3[num2] = np.std(gM3[num2+1])\n",
    "\n",
    "\n",
    "#     arD1x[num2] = np.mean(gD1x[num2+1])\n",
    "#     arD1y[num2] = np.mean(gD1y[num2+1])\n",
    "#     arD1z[num2] = np.mean(gD1z[num2+1])\n",
    "#     arD2xy[num2] = np.mean(gD2xy[num2+1])\n",
    "#     arD2xz[num2] = np.mean(gD2xz[num2+1])\n",
    "#     arD2yz[num2] = np.mean(gD2yz[num2+1])\n",
    "#     arD3[num2] = np.mean(gD3[num2+1])\n",
    "\n",
    "    arD1x[num2] = arM1x[num2]/time2[num2]\n",
    "    arD1y[num2] = arM1y[num2]/time2[num2]\n",
    "    arD1z[num2] = arM1z[num2]/time2[num2]\n",
    "    arD2xy[num2] = arM2xy[num2]/time2[num2]\n",
    "    arD2xz[num2] = arM2xz[num2]/time2[num2]\n",
    "    arD2yz[num2] = arM2yz[num2]/time2[num2]\n",
    "    arD3[num2] = arM3[num2]/time2[num2]\n",
    "\n",
    "    st_arD1x[num2] = st_arM1x[num2]/time2[num2]\n",
    "    st_arD1y[num2] = st_arM1y[num2]/time2[num2]\n",
    "    st_arD1z[num2] = st_arM1z[num2]/time2[num2]\n",
    "    st_arD2xy[num2] = st_arM2xy[num2]/time2[num2]\n",
    "    st_arD2xz[num2] = st_arM2xz[num2]/time2[num2]\n",
    "    st_arD2yz[num2] = st_arM2yz[num2]/time2[num2]\n",
    "    st_arD3[num2] = st_arM3[num2]/time2[num2]"
   ]
  },
  {
   "cell_type": "code",
   "execution_count": 40,
   "metadata": {
    "collapsed": false
   },
   "outputs": [
    {
     "data": {
      "text/plain": [
       "array([        nan,  0.1020501 ,  0.64751869,  2.22120971,  1.94752301,\n",
       "        1.70221353,  2.13696606,  1.71875143,  0.87413342,  0.73266939,\n",
       "        1.02269352,  2.20888014,  0.25659256,  0.41757613,  0.66619817,\n",
       "        0.87665193,  0.94623844,  1.18205376,  1.26787648,  1.27678489,\n",
       "        1.46188726,  1.75991301,  1.81847194,  1.35977409,  1.6557419 ,\n",
       "        2.12852309,  1.6331104 ,  1.51979988,  1.5499524 ,  1.44707624,\n",
       "        1.73954187,  1.35598826,  1.54896636,  1.91571081,  1.51617423,\n",
       "        1.56478444,  1.31020335,  0.77160335,  0.67970796,  0.64277512,\n",
       "        0.69141932,  0.66822206,  0.67539464,  0.69071658,  0.91660507,\n",
       "        0.65329016])"
      ]
     },
     "execution_count": 40,
     "metadata": {},
     "output_type": "execute_result"
    }
   ],
   "source": [
    "st_arM1x"
   ]
  },
  {
   "cell_type": "code",
   "execution_count": 41,
   "metadata": {
    "collapsed": false
   },
   "outputs": [],
   "source": [
    "#np.log(gM1x[1]) - np.log(geoM1x[0])\n",
    "#np.exp(np.sqrt(np.log(gM1x[2])*np.log(gM1x[2])))\n",
    "#st_geoM1x\n",
    "#np.exp(np.sqrt(np.mean((log_gM1x[4+1] - np.log(geoM1x[4]))*(log_gM1x[4+1] - np.log(geoM1x[4])))))"
   ]
  },
  {
   "cell_type": "code",
   "execution_count": 42,
   "metadata": {
    "collapsed": false,
    "scrolled": true
   },
   "outputs": [],
   "source": [
    "#SM1x[1].shape\n",
    "#time2\n",
    "#np.set_printoptions(precision=4, suppress=True)\n",
    "# np.where(gM2xy[4]>200)\n",
    "# gM2xy[20][218]"
   ]
  },
  {
   "cell_type": "code",
   "execution_count": 43,
   "metadata": {
    "collapsed": false
   },
   "outputs": [],
   "source": [
    "#np.exp((np.mean(log_gM1x[4+1] - np.log(geoM1x[4])))*(np.mean(log_gM1x[4+1] - np.log(geoM1x[4]))))"
   ]
  },
  {
   "cell_type": "code",
   "execution_count": 44,
   "metadata": {
    "collapsed": true
   },
   "outputs": [],
   "source": [
    "def plot_Mcomp(Mgeo, Mar, MFBF, t1, t2, dec1, dec2, datatype, filename, limit1, limit2, tick1, tick2):\n",
    "    \"\"\"\n",
    "    Mgeo = Geometric average dataset\n",
    "    Mar = Arithmetic average dataset\n",
    "    MFBF = Frame-by-Frame dataset\n",
    "    \n",
    "    t1 = time array for Mgeo and Mar\n",
    "    t2 time array for MFDF\n",
    "    \"\"\"\n",
    "    \n",
    "#     #Linear algebra to find Deff:\n",
    "#     t = time[1][:]\n",
    "#     w = dict()\n",
    "#     line = dict()\n",
    "#     A = np.ones((np.shape(t)[0], 2))\n",
    "#     A[:, 0] = t\n",
    "#     w[0] = np.linalg.lstsq(A, MMSD[:, 0])[0]\n",
    "#     w[1] = np.linalg.lstsq(A, MMSD[:, 1])[0]\n",
    "#     w[2] = np.linalg.lstsq(A, MMSD[:, 2])[0]\n",
    "#     line[0] = w[0][0]*t + w[0][1]\n",
    "#     line[1] = w[1][0]*t + w[1][1]\n",
    "#     line[2] = w[2][0]*t + w[2][1]\n",
    "    \n",
    "#     #Linear algebra for fit on log plot:\n",
    "#     wl = dict()\n",
    "#     linel = dict()\n",
    "#     lt = np.log(t)\n",
    "#     lA = np.ones((np.shape(t)[0], 2))\n",
    "#     lA[:, 0] = lt\n",
    "#     lM = np.log(MMSD)\n",
    "#     wl[0] = np.linalg.lstsq(lA, lM[:, 0])[0]\n",
    "#     wl[1] = np.linalg.lstsq(lA, lM[:, 1])[0]\n",
    "#     wl[2] = np.linalg.lstsq(lA, lM[:, 2])[0]\n",
    "#     linel[0] = np.exp(wl[0][0]*lt + wl[0][1])\n",
    "#     linel[1] = np.exp(wl[1][0]*lt + wl[1][1])\n",
    "#     linel[2] = np.exp(wl[2][0]*lt + wl[2][1])\n",
    "\n",
    "    # Creates figure\n",
    "    fig = plt.figure(figsize=(24, 18), dpi=80)\n",
    "    ax = fig.add_subplot(111)\n",
    "    # ax.set_title('Particle Trajectories', x=0.5, y=1.15)\n",
    "\n",
    "    ax.plot(t1, Mgeo, linewidth=10, label='Geometric', color='blue')\n",
    "    ax.plot(t1, Mar, linewidth=10, label='Arithmetic', color='red')\n",
    "    ax.plot(t2, MFBF, linewidth=10, label='Frame-by-Frame', color='green')\n",
    "    \n",
    "#     ax.errorbar(t, MMSD[:, 0], yerr=SE[:, 0], fmt='', linestyle='', capsize=7, capthick=2, elinewidth=2, color='blue')\n",
    "#     ax.errorbar(t, MMSD[:, 1], yerr=SE[:, 1], fmt='', linestyle='', capsize=7, capthick=2, elinewidth=2, color='red')\n",
    "#     ax.errorbar(t, MMSD[:, 2], yerr=SE[:, 2], fmt='', linestyle='', capsize=7, capthick=2, elinewidth=2, color='green')\n",
    "    \n",
    "#     ax.plot(t, line[0], linewidth=3, color='blue')\n",
    "#     ax.plot(t, line[1], linewidth=3, color='red')\n",
    "#     ax.plot(t, line[2], linewidth=3, color='green')\n",
    "    \n",
    "    #ax.plot(t, linel[0], linewidth=3, color='blue')\n",
    "    #ax.plot(t, linel[1], linewidth=3, color='red')\n",
    "    #ax.plot(t, linel[2], linewidth=3, color='green')\n",
    "    \n",
    "    # A few adjustments to prettify the graph\n",
    "    for item in ([ax.xaxis.label, ax.yaxis.label] +\n",
    "                 ax.get_xticklabels() + ax.get_yticklabels()):\n",
    "        item.set_fontsize(70)\n",
    "\n",
    "    xmajor_ticks = np.arange(0, limit1, tick1)\n",
    "    ymajor_ticks = np.arange(0, limit2, tick2)\n",
    "\n",
    "    ax.set_xticks(xmajor_ticks)\n",
    "    ax.set_yticks(ymajor_ticks)\n",
    "    ax.title.set_fontsize(70)\n",
    "    ax.set_xlabel('Time (s)', fontsize=95)\n",
    "    ax.set_ylabel(datatype, fontsize=95)\n",
    "    ax.tick_params(direction='out', pad=16)\n",
    "    ax.legend(loc=(0.60, 0.76), prop={'size': 40})\n",
    "    plt.gca().xaxis.set_major_formatter(mpl.ticker.FormatStrFormatter('%.{}f'.format(dec1)))\n",
    "    plt.gca().yaxis.set_major_formatter(mpl.ticker.FormatStrFormatter('%.{}f'.format(dec2)))\n",
    "\n",
    "    \n",
    "    #plt.yscale('log')\n",
    "    #plt.xscale('log')\n",
    "    plt.gca().set_xlim([0, limit1])\n",
    "    plt.gca().set_ylim([0, limit2])\n",
    "\n",
    "    # Save your figure\n",
    "    plt.savefig('{}.png'.format(filename), bbox_inches='tight')\n",
    "    return Mar, Mgeo"
   ]
  },
  {
   "cell_type": "code",
   "execution_count": 58,
   "metadata": {
    "collapsed": false
   },
   "outputs": [],
   "source": [
    "one1, bleh = plot_Mcomp(geoM2xy, arM2xy, FM2xy, time2, time, 0, 2, 'MSD (um^2)', Cplot, 50.1, 0.021, 10, 0.004)\n",
    "plt.show()"
   ]
  },
  {
   "cell_type": "code",
   "execution_count": null,
   "metadata": {
    "collapsed": true
   },
   "outputs": [],
   "source": []
  },
  {
   "cell_type": "code",
   "execution_count": 46,
   "metadata": {
    "collapsed": false
   },
   "outputs": [
    {
     "data": {
      "text/plain": [
       "array([     nan,  0.06124,  0.17182,  0.27124,  0.26243,  0.38162,\n",
       "        0.29878,  0.30698,  0.25122,  0.17969,  0.24644,  0.15877,\n",
       "        0.16832,  0.16198,  0.17973,  0.19139,  0.20714,  0.22824,\n",
       "        0.17854,  0.20397,  0.20736,  0.21813,  0.23014,  0.18562,\n",
       "        0.28895,  0.32544,  0.24601,  0.24278,  0.29103,  0.32086,\n",
       "        0.39011,  0.23941,  0.24058,  0.26973,  0.1856 ,  0.20892,\n",
       "        0.18359,  0.13933,  0.12821,  0.11486,  0.12863,  0.13008,\n",
       "        0.15152,  0.1571 ,  0.19089,  0.10759])"
      ]
     },
     "execution_count": 46,
     "metadata": {},
     "output_type": "execute_result"
    }
   ],
   "source": [
    "np.set_printoptions(precision=5, suppress=True)\n",
    "np.round(arM2xy, 5)"
   ]
  },
  {
   "cell_type": "code",
   "execution_count": 47,
   "metadata": {
    "collapsed": false
   },
   "outputs": [
    {
     "data": {
      "text/plain": [
       "array([     nan,  0.00152,  0.00187,  0.00176,  0.00218,  0.00214,\n",
       "        0.00174,  0.00171,  0.00188,  0.00167,  0.00192,  0.00157,\n",
       "        0.00147,  0.00163,  0.00186,  0.00185,  0.00164,  0.00165,\n",
       "        0.00168,  0.00187,  0.00164,  0.00185,  0.00185,  0.00174,\n",
       "        0.0019 ,  0.0022 ,  0.00218,  0.00175,  0.00198,  0.00222,\n",
       "        0.00239,  0.00201,  0.00199,  0.00206,  0.00174,  0.00192,\n",
       "        0.00187,  0.00231,  0.00226,  0.00205,  0.00218,  0.00232,\n",
       "        0.00191,  0.00209,  0.00236,  0.00226])"
      ]
     },
     "execution_count": 47,
     "metadata": {},
     "output_type": "execute_result"
    }
   ],
   "source": [
    "np.round(geoM1x, 5)"
   ]
  },
  {
   "cell_type": "code",
   "execution_count": 48,
   "metadata": {
    "collapsed": false
   },
   "outputs": [
    {
     "data": {
      "text/plain": [
       "array([     nan,  0.00117,  0.00122,  0.00113,  0.00157,  0.00157,\n",
       "        0.00129,  0.00136,  0.00164,  0.00141,  0.00159,  0.00134,\n",
       "        0.00125,  0.00144,  0.00175,  0.00178,  0.00154,  0.0016 ,\n",
       "        0.00156,  0.00173,  0.00157,  0.00188,  0.0018 ,  0.00167,\n",
       "        0.00177,  0.00213,  0.00218,  0.00175,  0.00203,  0.00218,\n",
       "        0.00237,  0.00197,  0.0021 ,  0.00205,  0.00188,  0.00201,\n",
       "        0.00191,  0.00229,  0.0024 ,  0.0021 ,  0.00222,  0.00246,\n",
       "        0.00205,  0.00219,  0.00249,  0.00238])"
      ]
     },
     "execution_count": 48,
     "metadata": {},
     "output_type": "execute_result"
    }
   ],
   "source": [
    "np.round(FM1x, 5)"
   ]
  },
  {
   "cell_type": "code",
   "execution_count": 49,
   "metadata": {
    "collapsed": false
   },
   "outputs": [
    {
     "data": {
      "text/plain": [
       "array([], dtype=int64)"
      ]
     },
     "execution_count": 49,
     "metadata": {},
     "output_type": "execute_result"
    }
   ],
   "source": [
    "#Check for faulty particle trajectories here.\n",
    "\n",
    "check = np.where(gM2xy[2]>1)[0] + 1\n",
    "# gM1x[2][34]\n",
    "# gM1x[2][218]\n",
    "#M2xy[check[9]]\n",
    "check"
   ]
  },
  {
   "cell_type": "code",
   "execution_count": 50,
   "metadata": {
    "collapsed": true
   },
   "outputs": [],
   "source": [
    "def plot_histogram(M, time, total, datatype, filename, tn):\n",
    "    \"\"\"\n",
    "    Plots the MSDs or Deffs from a trajectory dataset.\n",
    "    \"\"\"\n",
    "    total1 = total\n",
    "    MSD = M\n",
    "\n",
    "    def find_nearest(array, value):\n",
    "        idx = (np.abs(array-value)).argmin()\n",
    "        return array[idx], idx\n",
    "\n",
    "    td, idx = find_nearest(time, tn)\n",
    "    \n",
    "    hist = np.zeros(total1)\n",
    "    for num in range(1, total1):\n",
    "        hist[num] = MSD[num][idx]\n",
    "\n",
    "    hist = [x for x in hist if str(x) != 'nan']\n",
    "    \n",
    "    plot, bins = np.histogram(hist, bins=20)\n",
    "    width = 0.7 * (bins[1] - bins[0])\n",
    "    center = (bins[:-1] + bins[1:])/2\n",
    "    plt.bar(center, plot, align='center', width=width)\n",
    "#     plt.xlabel('D (um2/s)', fontsize=20)\n",
    "\n",
    "    plt.savefig('{}.png'.format(filename), bbox_inches='tight')\n",
    "    return hist, MSD, total1"
   ]
  },
  {
   "cell_type": "code",
   "execution_count": 51,
   "metadata": {
    "collapsed": false
   },
   "outputs": [
    {
     "name": "stdout",
     "output_type": "stream",
     "text": [
      "geometric average at 1s: 0.00658425222149 um2/s with 621 particles\n",
      "arithmetic average at 1s: 0.0624640891658 um2/s with 621 particles\n",
      "frame-by-frame average at 1s: 0.00471949790126 um2/s with 621 particles\n"
     ]
    }
   ],
   "source": [
    "def find_nearest(array, value):\n",
    "    idx = (np.abs(array-value)).argmin()\n",
    "    return array[idx], idx\n",
    "\n",
    "time_a, tindex = find_nearest(time2, 1)\n",
    "geoDat1 = geoD2xy[tindex]\n",
    "arDat1 = arD2xy[tindex]\n",
    "\n",
    "time_a1, tindex1 = find_nearest(time, 1)\n",
    "FDat1 = FD2xy[tindex1]\n",
    "\n",
    "print('geometric average at 1s:', geoDat1, 'um2/s with', tots, 'particles')\n",
    "print('arithmetic average at 1s:', arDat1, 'um2/s with', tots, 'particles')\n",
    "print('frame-by-frame average at 1s:', FDat1, 'um2/s with', fifties, 'particles')"
   ]
  },
  {
   "cell_type": "code",
   "execution_count": 52,
   "metadata": {
    "collapsed": false
   },
   "outputs": [
    {
     "name": "stderr",
     "output_type": "stream",
     "text": [
      "C:\\Users\\koolk\\Miniconda3\\lib\\site-packages\\numpy\\ma\\core.py:4085: UserWarning: Warning: converting a masked element to nan.\n",
      "  warnings.warn(\"Warning: converting a masked element to nan.\")\n"
     ]
    }
   ],
   "source": [
    "a, hist, total= plot_histogram(SD2xy, time2, tots, 'Deff (um^2/s)', Hplot, 1)\n",
    "plt.show()"
   ]
  },
  {
   "cell_type": "code",
   "execution_count": 53,
   "metadata": {
    "collapsed": false
   },
   "outputs": [],
   "source": [
    "def plot_loghistogram(M, time, total, datatype, filename, tn):\n",
    "    \"\"\"\n",
    "    Plots the MSDs or Deffs from a trajectory dataset.\n",
    "    \"\"\"\n",
    "\n",
    "    total1 = total\n",
    "    MSD = M\n",
    "    \n",
    "    def find_nearest(array, value):\n",
    "        idx = (np.abs(array-value)).argmin()\n",
    "        return array[idx], idx\n",
    "\n",
    "    td, idx = find_nearest(time, tn)\n",
    "    \n",
    "    hist = np.zeros(total1)\n",
    "    for num in range(1, total1):\n",
    "        hist[num] = MSD[num][idx]\n",
    "    \n",
    "    z1, z2 = find_nearest(hist[1:], 0)\n",
    "    hist = np.delete(hist[1:], z2)\n",
    "    hist = [x for x in hist if str(x) != 'nan']\n",
    "    loghist = np.log(hist)\n",
    "\n",
    "    plot, bins = np.histogram(loghist, bins=20)\n",
    "    width = 0.7 * (bins[1] - bins[0])\n",
    "    center = (bins[:-1] + bins[1:])/2\n",
    "    plt.bar(center, plot, align='center', width=width)\n",
    "    plt.xlabel('log(D)', fontsize=20)\n",
    "\n",
    "    plt.savefig('{}.png'.format(filename), bbox_inches='tight')\n",
    "    return hist, MSD, total1"
   ]
  },
  {
   "cell_type": "code",
   "execution_count": 54,
   "metadata": {
    "collapsed": false
   },
   "outputs": [
    {
     "name": "stderr",
     "output_type": "stream",
     "text": [
      "C:\\Users\\koolk\\Miniconda3\\lib\\site-packages\\numpy\\ma\\core.py:4085: UserWarning: Warning: converting a masked element to nan.\n",
      "  warnings.warn(\"Warning: converting a masked element to nan.\")\n"
     ]
    }
   ],
   "source": [
    "hist, MSD, total = plot_loghistogram(SD2xy, time2, tots, 'Deff (um^2/s)', Hlogplot, 1)\n",
    "plt.show()"
   ]
  },
  {
   "cell_type": "code",
   "execution_count": 55,
   "metadata": {
    "collapsed": true
   },
   "outputs": [],
   "source": [
    "np.savetxt('geoD2xy_{}.csv'.format(name), geoD2xy, delimiter=',')\n",
    "np.savetxt('arD2xy_{}.csv'.format(name), arD2xy, delimiter=',')\n",
    "np.savetxt('FD2xy_{}.csv'.format(name), FD2xy, delimiter=',')\n",
    "\n",
    "np.savetxt('geoM2xy_{}.csv'.format(name), geoM2xy, delimiter=',')\n",
    "np.savetxt('arM2xy_{}.csv'.format(name), arM2xy, delimiter=',')\n",
    "np.savetxt('FM2xy_{}.csv'.format(name), FM2xy, delimiter=',')"
   ]
  },
  {
   "cell_type": "code",
   "execution_count": 56,
   "metadata": {
    "collapsed": true
   },
   "outputs": [],
   "source": [
    "ex1 = trajectory[1]\n",
    "ex2 = trajectory[1]\n",
    "ex3 = trajectory[1]"
   ]
  },
  {
   "cell_type": "code",
   "execution_count": 57,
   "metadata": {
    "collapsed": false
   },
   "outputs": [
    {
     "data": {
      "text/plain": [
       "masked_array(data = [0.0022382361000023074 0.016550822499998268 0.00019909210000006454\n",
       " 0.0019351201000032015 0.008641561600000937 0.001158040900000091\n",
       " 0.001047816899999095 0.007167315599997511 0.0125552024999992 --\n",
       " 0.002008832399998853 0.0001763584000002348 0.0036711481000023046\n",
       " 0.012003393600003525 5.580090000018045e-05 0.007308540100003656\n",
       " 6.889000000127121e-07 0.0011022399999995802 0.00015500249999932174\n",
       " 0.15217800999999195 1.7222499999963954e-05 5.580089999999468e-05\n",
       " 0.638864504099976 0.0019351201000000757 0.0012737761000011887\n",
       " 0.00030380490000065215 0.05439623289999619 0.0968765625000007\n",
       " 0.1495987684000013 0.0025633968999983765 0.0009431040999999464\n",
       " 0.07231796640000457 0.0009947716000000078 0.15088563360000215\n",
       " 0.0001763584000002348 0.00013502440000051004 0.004632163599998429\n",
       " 0.00027555999999942326 0.02700763560000326 0.01698069610000224\n",
       " 0.0002232036000000019 0.00015500250000002945 0.0012737761000011887\n",
       " 0.004977302499999609 4.40896000000587e-05 0.003279852900001925\n",
       " 5.580089999999468e-05 0.0012152196000001316 -- 4.408959999996434e-05\n",
       " 1.1022400000014675e-05 0.0003644281000002139 0.0023980608999997132\n",
       " 2.7555999999564887e-06 0.0018627856000000267 0.000943104100001692\n",
       " 0.00022320359999987254 0.00019909210000006454 5.580089999975583e-05\n",
       " 0.0167650703999984 0.0004656964000000067 0.0003968064000005283\n",
       " 1.7222500000081905e-05 0.00675190889999848 0.0003038049000001568\n",
       " 0.00959224360000442 0.1633857240999935 0.0003038048999996614\n",
       " 0.0007054335999998069 0.00011642410000030834 0.0013950224999992034\n",
       " 0.00675190889999848 0.00013502439999984951 0.001047816900000015 --\n",
       " 6.20009999997287e-06 0.002238236099999618 0.0006620328999990532\n",
       " 0.0009431040999999464 0.00011642410000030834 0.007595122500001442\n",
       " 0.0006620328999990532 1.1022400000203394e-05 0.00027555999999942326\n",
       " 0.0016540489000004682 0.002317459600001717 8.335690000050021e-05\n",
       " 0.005958296100004642 0.000540097600000719 0.007027468899998635\n",
       " 0.00062000999999941 6.889000000127121e-07 0.007027468900001017\n",
       " 0.02207304490000194 0.00013502439999999916 0.401056224099985\n",
       " 0.5322723848999933 0.009755512899999654 0.00030380490000065215\n",
       " 0.0017918288999999794 4.408959999986998e-05 0.018079491600001142\n",
       " 6.889000000127121e-07 0.03425830810000024 0.012003393599999633\n",
       " 1.7222499999963954e-05 1.7222500000081905e-05 0.0002755600000003669\n",
       " 1.1022400000014675e-05 0.46095952359997694 0.0038750625000042744\n",
       " 0.0055800899999968135 0.009110702499999922 0.0006620328999997844\n",
       " 0.007308540100001227 2.480039999996225e-05 0.4531039968999815\n",
       " 8.335690000001368e-05 0.0007963683999994562 0.00015500250000073713\n",
       " 0.011642410000000167 -- 0.0008928143999994901 5.580089999975583e-05\n",
       " 0.0037724163999997857 0.11921827840000171 0.005958296100000254\n",
       " 0.0009431041000008192 0.005830849599999082 0.000248692900000107\n",
       " 0.0012737761000001743 -- 0.011111268100001312 0.003875062499999409\n",
       " 0.00019909209999966352 8.335689999998123e-05 0.007308540100000011\n",
       " 1.7222500000081905e-05 0.00043056250000086813 0.002398060900000409\n",
       " 0.0004656964000000067 0.009269838400001396 0.29285414560002077\n",
       " 0.006217322499999996 0.010253587599993506 0.0004305625000002784\n",
       " 0.0003968063999999621 0.008641561600000937 0.0005793649000004293\n",
       " 5.580090000018045e-05 -- 0.012929964099996208 0.0005400976000000586\n",
       " 1.7222499999846006e-05 3.375609999963212e-05 0.0005400975999993981\n",
       " 0.0009947715999986352 0.04514775039999972 0.00848793689999428\n",
       " 0.04911099209999925 0.004084488100000897 0.002910602500001575\n",
       " 0.003875062500000736 0.009110702499999922 0.02460819690000824\n",
       " 8.335690000024072e-05 1.1022399999920314e-05 0.013890979599998396\n",
       " 0.0003038048999996614 0.0022382361000000384 4.408959999968126e-05 --\n",
       " 0.002317459600000349 0.0029106024999985083 0.4553415441000021\n",
       " 0.012741894399997714 0.005958296100000254 0.00248003999999764 --\n",
       " 0.0013337103999996997 -- 0.7055328015999844 0.008641561599995653 -- --\n",
       " 0.024608196899999324 0.0458559395999941 0.2691015624999989\n",
       " 0.049479553600002654 0.2471780088999829 -- -- 0.0017222499999987545\n",
       " 0.0004305625000002784 0.012741894399997714 -- -- 0.022569052900006565 --\n",
       " 0.00046569639999878 6.20009999997287e-06 0.03487556250000132 -- --\n",
       " 0.0003644281000002139 0.0109369763999997 0.05285860809999523\n",
       " 0.6139035903999711 -- 0.007595122500001442 0.02866926239999967 --\n",
       " 0.00015500250000002945 9.920159999999053e-05 0.000843902499999885\n",
       " 0.001722249999999934 0.0007963684000002582 0.015294268899997516\n",
       " 0.0026481316000000065 0.005456776899999917 0.0031854736000010327\n",
       " 0.00337560999999954 0.00186278560000248 0.0010478169000009351\n",
       " 0.00408448809999908 0.008035329600000507 0.017635839999997058\n",
       " 0.004519872899995508 -- 0.000135024399999189 0.00022320359999987254\n",
       " 5.580090000018045e-05 0.0009431041000008192 0.00022320360000008485 --\n",
       " 0.00027555999999989505 0.0007054335999994295 1.1022400000014675e-05\n",
       " 0.007740480400000303 0.007167315599997511 0.0017222500000005237\n",
       " 0.0003968064000005283 0.003092472100000166 0.01369602089999994\n",
       " 0.005214284100001811 0.00022320360000008485 2.480039999989148e-05\n",
       " 8.335689999998123e-05 0.000248692900000107 1.7222499999963954e-05\n",
       " 0.0017918289000017841 0.00022320359999987254 0.0022382360999999543\n",
       " 0.00030380490000065215 0.31761114489999837 0.00015500250000002945\n",
       " 0.0008928143999994901 3.375609999963212e-05 5.580089999975583e-05\n",
       " 0.014886440100000746 0.0010478169000009351 0.002480040000000471\n",
       " 0.001047816900000015 0.007595122500001442 0.0025633968999998155\n",
       " 0.2769074883999985 1.7222499999846006e-05 0.0023174595999989806\n",
       " 0.0008439024999999882 -- 0.0007054335999994295 2.7555999999564887e-06\n",
       " 0.003979086400000031 0.00013502439999984951 4.40896000000587e-05\n",
       " 0.003092472100000166 0.02513176090000417 0.02281912359999818\n",
       " 0.0029106024999985083 0.000116424100000155 0.00027555999999989505 --\n",
       " 0.00043056250000086813 0.001102239999999993 0.0006200100000001178\n",
       " 1.7222500000081905e-05 3.375610000029264e-05 0.06966432359998022\n",
       " 6.889000000127121e-07 0.5310619876000235 0.001722249999999934\n",
       " 0.009110702499994495 0.01612646010000162 0.052477646399998246\n",
       " 2.480039999989148e-05 0.6999664895999808 4.408959999986998e-05\n",
       " 0.03395174759999807 0.01025358760000214 1.7222500000081905e-05\n",
       " 0.32893666090000034 6.889000000068147e-07 0.001047816899999095\n",
       " 0.08294976010000811 0.0005400975999993981 0.030961921599996212\n",
       " 0.0015872255999998485 6.20009999997287e-06 0.0013950224999999996\n",
       " 0.011822212899998743 0.0003644281000002139 0.0015872255999998485\n",
       " 0.0016540489000000348 0.009430352100002894 1.1022400000109035e-05\n",
       " 0.0003968064000005283 0.010764062499999586 8.335690000011098e-05\n",
       " 0.003185473600000231 0.001395022500000265 0.0026481316000006006\n",
       " 0.00337560999999954 0.05247764639999174 0.046928556899991675\n",
       " 0.0005022080999990763 8.335689999946225e-05 0.14199331240000698\n",
       " 0.0006200100000001178 0.0003334275999999249 0.000994771600000428\n",
       " 0.00013502440000051004 0.0005400976000020401 0.0044089599999992644\n",
       " 3.375609999996238e-05 0.0003644281000002139 5.580090000018045e-05\n",
       " 0.0026481315999962126 9.920160000013207e-05 0.012369888399994342\n",
       " 0.03009184090000062 2.480039999989148e-05 0.008796564100002381\n",
       " 0.09027621160000918 0.004745832099997508 0.04001200089999926\n",
       " 0.0011022399999995802 0.0006200100000001178 3.375609999996238e-05\n",
       " 0.022320359999999994 0.003092472100000166 0.0007054336000009392\n",
       " 0.0019351201000007009 0.022569052899999893 0.00011642410000030834\n",
       " 0.0005400975999997283 0.0003644281000002139 0.005095104400000697\n",
       " 0.000248692900000107 0.0022382360999982738 0.0030008484000024383\n",
       " 0.35415591210000635 5.580090000002121e-05 0.0004305624999985091\n",
       " 0.01448412250000047 0.017856976900002885 6.888999999891222e-07\n",
       " 1.722250000002293e-05 0.00033342759999940597 0.004408959999998321\n",
       " 0.00027555999999989505 0.021097562499993 0.0003038049000001568\n",
       " 0.003092472099997005 0.0012737760999999208 8.335689999985149e-05\n",
       " 0.021097562500001256 0.00675190889999848 0.0004656964000000067\n",
       " 0.00337560999999954 6.200099999999408e-06 0.00017635839999985737\n",
       " 2.480039999989148e-05 0.000248692900000107 0.0011580409000020253\n",
       " 0.0030008483999993244 0.007167315600000519 0.0007054336000001843\n",
       " 0.00019909209999966352 6.888999999985581e-05 0.005456776899999917\n",
       " 0.012185952100005244 0.0002755600000003669 0.1627154243999988\n",
       " 0.000135024399999189 0.0019351201000007009 0.021339366399995195\n",
       " 0.01408731609999683 0.002008832400001401 0.0002755600000003669\n",
       " 0.00017635839999947993 9.920159999956591e-05 0.00046569640000016\n",
       " 6.889000000127121e-07 0.002238236100000291 0.3895757056000042\n",
       " 0.00015500250000002945 0.004977302500003619 0.061588348899997356\n",
       " 0.3000848400000064 0.009110702499999922 0.002008832400001401\n",
       " 2.480039999989148e-05 0.12797075289999754 -- 0.6165076323999951\n",
       " 0.00036442809999980697 0.006616195600000139 0.0005400975999993981\n",
       " 0.02838888010000188 0.0020839225000001795 0.00046569639999939334\n",
       " 0.001587225599997584 6.888999999985581e-05 -- 0.0012737760999999208\n",
       " 0.003772416400000004 0.0005400976000002237 2.7555999999564887e-06\n",
       " 0.006217322499998193 2.7555999999564887e-06 0.012369888400000664 --\n",
       " 0.28927186560000295 0.5274390624999901 6.888999999950196e-07\n",
       " 0.0011022400000014676 0.39165067239997003 0.17429790010001253\n",
       " 0.11411559610001272 0.005334841600000875 0.009269838400001396\n",
       " 1.7222500000081905e-05 0.0006620329000005157 0.0005022081000003502\n",
       " 0.00186278560000064 0.0017918288999993778 -- 0.0014577124000001774\n",
       " 0.000303804899999166 0.011463984900000047 0.002238236100000963\n",
       " 0.09177870250000596 0.0013337103999996997 0.019443513600002106\n",
       " 0.004191267599999945 0.0001763584000002348 5.5800899999968134e-05 --\n",
       " 0.00027555999999989505 0.013890979600001746 0.0007054335999994295\n",
       " 0.017416080899999745 0.0034727448999970867 0.0007054336000009392\n",
       " 8.335689999991636e-05 -- 0.0032798528999986695 0.0016540488999981565\n",
       " 0.000994771600000428 0.0018627855999988 0.027555999999998942\n",
       " 0.0048608784000025084 0.6035425343999645 0.0037724163999997857\n",
       " 0.00661619559999725 6.888999999891222e-07 0.33852614889999594\n",
       " 0.008184820900001897 0.0004656964000000067 0.0003038048999999091\n",
       " 0.021827107599999666 0.0018627855999994133 0.024869290000001737\n",
       " 0.0004305625000002784 0.001047816900000015 2.4800400000174557e-05\n",
       " 0.005095104400000697 2.7555999999564887e-06 0.0021603903999995737\n",
       " 2.755600000003669e-06 0.003979086400000815 0.0003334275999999249\n",
       " 0.0006200099999997639 0.0023980608999997132 0.008952944400001163\n",
       " 9.920160000013207e-05 0.00019909209999966352 9.9201599999849e-05\n",
       " 0.0001990921000004656 0.0028217343999999826 0.004084488100002713\n",
       " 0.00046569640000062 0.009269838400001396 0.0036711480999988603\n",
       " 0.016980696099998534 0.0011022400000005239 0.000843902499999885\n",
       " 0.0006200100000001178 0.0017918288999993778 0.0042994249000010655\n",
       " 0.002480040000000471 0.0038750624999989666 0.008952944399998473\n",
       " 0.0015217801000014717 0.04765052409999209 0.0006200100000001178\n",
       " 0.021827107599999666 0.0011580408999991238 0.0011022399999995802\n",
       " 0.0006200100000001178 0.0019351200999982005 1.1022399999825955e-05\n",
       " 0.00013502439999984951 0.015500249999995866 0.00013502440000017976\n",
       " 0.00039680640000010366 0.0016540489000004682 0.005214284099997707\n",
       " 0.002008832399998853 0.026195422499995777 0.00011642410000030834\n",
       " 0.00186278560000064 0.006087120399999234 0.0005793648999997452\n",
       " 0.000750212100001388 0.007167315599999917 0.002008832400001401\n",
       " 4.40896000000587e-05 0.0005022081000003502 -- 0.00833568999999942\n",
       " 0.3241935843999947 8.335689999998123e-05 0.0013337104000017757\n",
       " 0.011822212900000288 0.032439612099999675 0.0007502121000002203\n",
       " 0.0006200100000001178 0.009269838399995923 0.00013502440000017976\n",
       " 0.00015500250000002945 0.000275560000000013 9.920160000013207e-05\n",
       " 0.012185952100002105 0.06535180959999982 0.0031854735999994285\n",
       " 0.001395022500000265 2.480039999989148e-05 0.025927440400002482\n",
       " 0.006087120399997017 0.0007963684000002582 0.0071673156000023235\n",
       " 0.0023980608999997132 0.01128693759999993 0.1345862596000228\n",
       " 0.00022320359999987254 0.0007054336000001843 0.0018627855999994133\n",
       " 5.5800899999968134e-05 0.0008439025000007108 0.002083922500002126\n",
       " 0.004745832100001423 0.0037724163999997857 0.5481329295999723\n",
       " 0.003092472100003327 6.888999999994428e-07 0.001273776099999667\n",
       " 0.04984949289999974 9.920160000013207e-05 0.002317459599999665\n",
       " 0.0005793648999997452 0.02158254810000055 0.004632163600000364\n",
       " 0.013696020900003266 0.036760392900002624 -- 0.0016540489000004682\n",
       " 0.26824112640000386 0.00013502440000051004 0.0038750624999971976 -- -- --\n",
       " 0.002160390400001555 -- 0.08633019239999998 0.013502440000004766\n",
       " 0.018303384099999376 0.012741894399997714 0.533484160000046\n",
       " 0.011111268100001312 0.3691291536000079 0.0071673156000023235\n",
       " 0.00015500250000002945 0.0031854736000010327 0.0015217801000000858\n",
       " 0.0006620329000005157 0.012369888400000664 0.0025633968999983765\n",
       " 0.0029106024999985083 0.007027468899999826 0.0020088324000001267\n",
       " 0.02158254809999742 0.1640574016000112 -- 0.00959224360000442\n",
       " 0.00879656409999705 2.755599999991874e-06 9.920160000013207e-05\n",
       " 6.888999999655322e-07 --],\n",
       "             mask = [False False False False False False False False False  True False False\n",
       " False False False False False False False False False False False False\n",
       " False False False False False False False False False False False False\n",
       " False False False False False False False False False False False False\n",
       "  True False False False False False False False False False False False\n",
       " False False False False False False False False False False False False\n",
       " False False  True False False False False False False False False False\n",
       " False False False False False False False False False False False False\n",
       " False False False False False False False False False False False False\n",
       " False False False False False False False False False False False False\n",
       " False  True False False False False False False False False False  True\n",
       " False False False False False False False False False False False False\n",
       " False False False False False False  True False False False False False\n",
       " False False False False False False False False False False False False\n",
       " False False False  True False False False False False False  True False\n",
       "  True False False  True  True False False False False False  True  True\n",
       " False False False  True  True False  True False False False  True  True\n",
       " False False False False  True False False  True False False False False\n",
       " False False False False False False False False False False False False\n",
       "  True False False False False False  True False False False False False\n",
       " False False False False False False False False False False False False\n",
       " False False False False False False False False False False False False\n",
       " False False False False False  True False False False False False False\n",
       " False False False False False  True False False False False False False\n",
       " False False False False False False False False False False False False\n",
       " False False False False False False False False False False False False\n",
       " False False False False False False False False False False False False\n",
       " False False False False False False False False False False False False\n",
       " False False False False False False False False False False False False\n",
       " False False False False False False False False False False False False\n",
       " False False False False False False False False False False False False\n",
       " False False False False False False False False False False False False\n",
       " False False False False False False False False False False False False\n",
       " False False False False False False False False False False False False\n",
       " False False False False False  True False False False False False False\n",
       " False False False  True False False False False False False False  True\n",
       " False False False False False False False False False False False False\n",
       " False False  True False False False False False False False False False\n",
       " False  True False False False False False False False  True False False\n",
       " False False False False False False False False False False False False\n",
       " False False False False False False False False False False False False\n",
       " False False False False False False False False False False False False\n",
       " False False False False False False False False False False False False\n",
       " False False False False False False False False False False False False\n",
       " False False False False False False False False False False False  True\n",
       " False False False False False False False False False False False False\n",
       " False False False False False False False False False False False False\n",
       " False False False False False False False False False False False False\n",
       " False False False False False False False False False  True False False\n",
       " False False  True  True  True False  True False False False False False\n",
       " False False False False False False False False False False False False\n",
       " False False  True False False False False False  True],\n",
       "       fill_value = 0.0)"
      ]
     },
     "execution_count": 57,
     "metadata": {},
     "output_type": "execute_result"
    }
   ],
   "source": [
    "gM1x[2]"
   ]
  },
  {
   "cell_type": "code",
   "execution_count": null,
   "metadata": {
    "collapsed": true
   },
   "outputs": [],
   "source": []
  },
  {
   "cell_type": "code",
   "execution_count": null,
   "metadata": {
    "collapsed": true
   },
   "outputs": [],
   "source": []
  }
 ],
 "metadata": {
  "kernelspec": {
   "display_name": "Python 3",
   "language": "python",
   "name": "python3"
  },
  "language_info": {
   "codemirror_mode": {
    "name": "ipython",
    "version": 3
   },
   "file_extension": ".py",
   "mimetype": "text/x-python",
   "name": "python",
   "nbconvert_exporter": "python",
   "pygments_lexer": "ipython3",
   "version": "3.5.1"
  }
 },
 "nbformat": 4,
 "nbformat_minor": 0
}
