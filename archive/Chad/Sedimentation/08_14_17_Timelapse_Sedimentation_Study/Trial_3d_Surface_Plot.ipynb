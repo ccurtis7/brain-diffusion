{
 "cells": [
  {
   "cell_type": "code",
   "execution_count": 1,
   "metadata": {
    "collapsed": false
   },
   "outputs": [],
   "source": [
    "from mpl_toolkits.mplot3d import Axes3D\n",
    "import matplotlib.pyplot as plt\n",
    "from matplotlib import cm\n",
    "from matplotlib.ticker import LinearLocator, FormatStrFormatter\n",
    "import numpy as np"
   ]
  },
  {
   "cell_type": "code",
   "execution_count": 13,
   "metadata": {
    "collapsed": true
   },
   "outputs": [],
   "source": [
    "fig = plt.figure()\n",
    "ax = fig.gca(projection='3d')\n",
    "\n",
    "#Time data (x)\n",
    "X = np.arange(0, 10, 1)\n",
    "\n",
    "#Concentration data (y)\n",
    "Y = np.array([0.5, 2, 4, 6, 8, 10])\n",
    "\n",
    "X, Y = np.meshgrid(X, Y)\n",
    "\n",
    "#Aggregation data (% covered, z)\n",
    "Z = np.array([[0.10, 0.11, 0.12, 0.13, 0.14, 0.15, 0.15, 0.15, 0.16, 0.16],\n",
    "              [0.15, 0.16, 0.16, 0.16, 0.16, 0.17, 0.17, 0.17, 0.18, 0.18],\n",
    "              [0.18, 0.18, 0.18, 0.19, 0.19, 0.20, 0.21, 0.22, 0.23, 0.24],\n",
    "              [0.60, 0.70, 0.80, 0.81, 0.82, 0.83, 0.84, 0.85, 0.86, 0.87],\n",
    "              [0.70, 0.85, 0.86, 0.87, 0.88, 0.89, 0.90, 0.90, 0.90, 0.95],\n",
    "              [0.90, 0.90, 0.90, 0.90, 0.95, 0.95, 0.96, 0.96, 0.97, 0.97]])"
   ]
  },
  {
   "cell_type": "code",
   "execution_count": 14,
   "metadata": {
    "collapsed": false
   },
   "outputs": [],
   "source": [
    "surf = ax.plot_surface(X, Y, Z, vmin=0, vmax=1, cmap=cm.coolwarm,\n",
    "                       linewidth=1, antialiased=False)\n",
    "#ax.plot_wireframe(X, Y, Z, rcount=50, ccount=50)\n",
    "ax.set_zlim(-0.0, 1.00)\n",
    "ax.zaxis.set_major_locator(LinearLocator(6))\n",
    "ax.zaxis.set_major_formatter(FormatStrFormatter('%.02f'))\n",
    "\n",
    "fig.colorbar(surf, shrink=1, aspect=10)\n",
    "\n",
    "plt.show()"
   ]
  },
  {
   "cell_type": "code",
   "execution_count": null,
   "metadata": {
    "collapsed": false
   },
   "outputs": [],
   "source": [
    "X"
   ]
  },
  {
   "cell_type": "code",
   "execution_count": null,
   "metadata": {
    "collapsed": false
   },
   "outputs": [],
   "source": [
    "Y"
   ]
  },
  {
   "cell_type": "code",
   "execution_count": null,
   "metadata": {
    "collapsed": false
   },
   "outputs": [],
   "source": [
    "Z"
   ]
  },
  {
   "cell_type": "code",
   "execution_count": null,
   "metadata": {
    "collapsed": true
   },
   "outputs": [],
   "source": []
  }
 ],
 "metadata": {
  "kernelspec": {
   "display_name": "Python 3",
   "language": "python",
   "name": "python3"
  },
  "language_info": {
   "codemirror_mode": {
    "name": "ipython",
    "version": 3
   },
   "file_extension": ".py",
   "mimetype": "text/x-python",
   "name": "python",
   "nbconvert_exporter": "python",
   "pygments_lexer": "ipython3",
   "version": "3.5.3"
  }
 },
 "nbformat": 4,
 "nbformat_minor": 0
}
