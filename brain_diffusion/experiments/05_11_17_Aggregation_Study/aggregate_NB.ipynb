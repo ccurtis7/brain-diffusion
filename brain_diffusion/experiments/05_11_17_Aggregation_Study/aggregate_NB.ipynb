{
 "cells": [
  {
   "cell_type": "code",
   "execution_count": 1,
   "metadata": {
    "collapsed": true
   },
   "outputs": [],
   "source": [
    "import os\n",
    "import csv\n",
    "import sys\n",
    "module_path = os.path.abspath(os.path.join('C:\\\\Users\\\\koolk\\\\Desktop\\\\brain-diffusion\\\\Chad_functions_and_unittests'))\n",
    "if module_path not in sys.path:\n",
    "    sys.path.append(module_path)\n",
    "\n",
    "import matplotlib as mpl\n",
    "import matplotlib.pyplot as plt\n",
    "import matplotlib.ticker as mtick\n",
    "import scipy.optimize as opt\n",
    "import scipy.stats as stat\n",
    "from mpl_toolkits.mplot3d import Axes3D\n",
    "from operator import itemgetter\n",
    "import random\n",
    "import numpy as np\n",
    "import numpy.ma as ma\n",
    "import numpy.linalg as la\n",
    "from mpl_toolkits.mplot3d import Axes3D\n",
    "\n",
    "pi = np.pi\n",
    "sin = np.sin\n",
    "cos = np.cos"
   ]
  },
  {
   "cell_type": "code",
   "execution_count": 2,
   "metadata": {
    "collapsed": false
   },
   "outputs": [],
   "source": [
    "#Loading from csv files\n",
    "\n",
    "agg = dict()\n",
    "conc = [1, 10, 100]\n",
    "\n",
    "agg[1] = np.genfromtxt('1_mMaggregates.csv', delimiter = \",\")\n",
    "agg[10] = np.genfromtxt('10mM_aggregates.csv', delimiter = \",\")\n",
    "agg[100] = np.genfromtxt('100mM_aggregates.csv', delimiter = \",\")"
   ]
  },
  {
   "cell_type": "code",
   "execution_count": 34,
   "metadata": {
    "collapsed": false
   },
   "outputs": [],
   "source": [
    "#General parameters\n",
    "total = dict()\n",
    "areas = dict()\n",
    "\n",
    "for num in conc:\n",
    "    total[num] = agg[num][:, 0].shape[0]\n",
    "    areas[num] = agg[num][:, 1]\n",
    "\n",
    "bint = 170"
   ]
  },
  {
   "cell_type": "code",
   "execution_count": 35,
   "metadata": {
    "collapsed": false
   },
   "outputs": [],
   "source": [
    "# Specific plot parameters\n",
    "\n",
    "filename = 'agg_hist'\n",
    "#w_areas = "
   ]
  },
  {
   "cell_type": "code",
   "execution_count": 36,
   "metadata": {
    "collapsed": false
   },
   "outputs": [],
   "source": [
    "#Number-weighted histogram\n",
    "\n",
    "hist = dict()\n",
    "plot = dict()\n",
    "bins = dict()\n",
    "width = dict()\n",
    "center = dict()\n",
    "\n",
    "c = 10\n",
    "\n",
    "for i in conc:\n",
    "    \n",
    "    hist[i] = np.zeros(total[i])\n",
    "    for num in range(0, total[i]):\n",
    "        hist[i][num] = areas[i][num]\n",
    "\n",
    "    hist[i] = [x for x in hist[i] if str(x) != 'nan']\n",
    "\n",
    "#hist = np.multiply(hist, hist)\n",
    "#hist = np.multiply(hist, hist)\n",
    "\n",
    "    plot[i], bins[i] = np.histogram(hist[i], bins=bint)\n",
    "    width[i] = 0.7 * (bins[i][1] - bins[i][0])\n",
    "    center[i] = (bins[i][:-1] + bins[i][1:])/2\n",
    "plt.bar(center[c], plot[c], align='center', width=width[c], alpha = 0.5)\n",
    "plt.bar(center[100], plot[100], align='center', width=width[100], alpha = 0.5)\n",
    "plt.xlabel('particle areas', fontsize=20)\n",
    "\n",
    "plt.savefig('{}.png'.format(filename), bbox_inches='tight')"
   ]
  },
  {
   "cell_type": "code",
   "execution_count": null,
   "metadata": {
    "collapsed": true
   },
   "outputs": [],
   "source": []
  },
  {
   "cell_type": "code",
   "execution_count": 37,
   "metadata": {
    "collapsed": true
   },
   "outputs": [],
   "source": [
    "plt.show()"
   ]
  },
  {
   "cell_type": "code",
   "execution_count": 38,
   "metadata": {
    "collapsed": false
   },
   "outputs": [],
   "source": [
    "percent = dict()\n",
    "bincenters = dict()\n",
    "\n",
    "for num in conc:\n",
    "    percent[num] = plot[num]/sum(plot[num])\n",
    "    bincenters[num] = 0.5*(bins[num][1:]+bins[num][:-1])\n",
    "\n",
    "plt.plot(bincenters[1],percent[1],'r-', linewidth = 9, alpha = 0.5)\n",
    "plt.plot(bincenters[10],percent[10],'b-', linewidth = 9, alpha = 0.5)\n",
    "plt.plot(bincenters[100],percent[100],'g-', linewidth = 9, alpha = 0.5)\n",
    "\n",
    "plt.gca().set_xlim([0, 400])\n",
    "\n",
    "plt.show()"
   ]
  },
  {
   "cell_type": "code",
   "execution_count": null,
   "metadata": {
    "collapsed": false
   },
   "outputs": [],
   "source": [
    "percent.size"
   ]
  },
  {
   "cell_type": "code",
   "execution_count": null,
   "metadata": {
    "collapsed": false
   },
   "outputs": [],
   "source": [
    "bincenters.size"
   ]
  },
  {
   "cell_type": "code",
   "execution_count": null,
   "metadata": {
    "collapsed": false
   },
   "outputs": [],
   "source": [
    "#plot, number in each bin."
   ]
  },
  {
   "cell_type": "code",
   "execution_count": null,
   "metadata": {
    "collapsed": false
   },
   "outputs": [],
   "source": [
    "#Parameters for area-weighted histogram\n",
    "\n",
    "add_plot = np.zeros(bint) #Adding successively numbers in plot.\n",
    "add_plot[0] = plot[0]\n",
    "\n",
    "for num in range(1, bint):\n",
    "    add_plot[num] = add_plot[num - 1] + plot[num]\n",
    "#add_plot\n",
    "\n",
    "s_areas = sorted(areas) #sorted areas in ascending order\n",
    "\n",
    "sub_area = np.zeros(30) #Total area confined in each bin of number distribution\n",
    "sub_area[0] = sum(s_areas[0:int(add_plot[0])])\n",
    "for num in range(1, 30):\n",
    "    sub_area[num] = sum(s_areas[int(add_plot[num - 1]): int(add_plot[num])])\n",
    "#sub_area\n",
    "\n",
    "tot_area = sum(sub_area) #Total area taken up by all aggregates.\n",
    "\n",
    "norm_area = sub_area/tot_area #Normalized sub_area for histograms."
   ]
  },
  {
   "cell_type": "code",
   "execution_count": null,
   "metadata": {
    "collapsed": false
   },
   "outputs": [],
   "source": [
    "norm_area"
   ]
  },
  {
   "cell_type": "code",
   "execution_count": null,
   "metadata": {
    "collapsed": false
   },
   "outputs": [],
   "source": [
    "np.multiply(hist, hist)"
   ]
  },
  {
   "cell_type": "code",
   "execution_count": null,
   "metadata": {
    "collapsed": false
   },
   "outputs": [],
   "source": [
    "xweights = dict()\n",
    "fig, ax = plt.subplots()\n",
    "\n",
    "for num in conc:\n",
    "    xweights[num] = 100 * np.ones_like(areas[num]) / areas[num].size\n",
    "\n",
    "ax.hist(areas[1], weights=xweights[1], color='lightblue', alpha=0.5, bins = bint)\n",
    "ax.hist(areas[10], weights=xweights[10], color='salmon', alpha=0.5, bins = bint)\n",
    "ax.hist(areas[100], weights=xweights[100], color='purple', alpha=0.5, bins = bint)\n",
    "\n",
    "ax.set(title='Histogram Comparison', ylabel='% of Dataset in Bin')\n",
    "ax.margins(0.05)\n",
    "ax.set_ylim(bottom=0)\n",
    "plt.show()"
   ]
  },
  {
   "cell_type": "code",
   "execution_count": null,
   "metadata": {
    "collapsed": true
   },
   "outputs": [],
   "source": []
  }
 ],
 "metadata": {
  "kernelspec": {
   "display_name": "Python 3",
   "language": "python",
   "name": "python3"
  },
  "language_info": {
   "codemirror_mode": {
    "name": "ipython",
    "version": 3
   },
   "file_extension": ".py",
   "mimetype": "text/x-python",
   "name": "python",
   "nbconvert_exporter": "python",
   "pygments_lexer": "ipython3",
   "version": "3.5.3"
  }
 },
 "nbformat": 4,
 "nbformat_minor": 0
}
