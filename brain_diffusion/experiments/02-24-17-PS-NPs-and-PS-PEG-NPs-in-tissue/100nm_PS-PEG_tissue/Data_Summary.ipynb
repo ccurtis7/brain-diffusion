{
 "cells": [
  {
   "cell_type": "code",
   "execution_count": 1,
   "metadata": {
    "collapsed": false
   },
   "outputs": [],
   "source": [
    "import os\n",
    "import csv\n",
    "import sys\n",
    "module_path = os.path.abspath(os.path.join('C:\\\\Users\\\\koolk\\\\Desktop\\\\brain-diffusion\\\\Chad_functions_and_unittests'))\n",
    "if module_path not in sys.path:\n",
    "    sys.path.append(module_path)\n",
    "\n",
    "from trajectory_visualization import plot_trajectory, sidebyside, shift_trajectory, overlay, shift_trajectory3D\n",
    "from trajectory_visualization import plot_trajectories3D, plot_3Doverlay, plot_MSDorDeff, plot_MeanMSDorDeff, randtraj, multrandtraj\n",
    "from trajectory_visualization import randtraj2, plot_Mean2DMSDsorDeff, plot_MSDorDeffLR, LRfor3D2D, fillin, prettify\n",
    "from methods_of_Dcalc import Dpointder, Dlinalg, Dlinalgw\n",
    "\n",
    "import matplotlib as mpl\n",
    "import matplotlib.pyplot as plt\n",
    "import matplotlib.ticker as mtick\n",
    "import scipy.optimize as opt\n",
    "import scipy.stats as stat\n",
    "from mpl_toolkits.mplot3d import Axes3D\n",
    "from operator import itemgetter\n",
    "import random\n",
    "import numpy as np\n",
    "import numpy.ma as ma\n",
    "import numpy.linalg as la\n",
    "from mpl_toolkits.mplot3d import Axes3D\n",
    "\n",
    "pi = np.pi\n",
    "sin = np.sin\n",
    "cos = np.cos"
   ]
  },
  {
   "cell_type": "code",
   "execution_count": 2,
   "metadata": {
    "collapsed": false
   },
   "outputs": [],
   "source": [
    "#The purpose of this book is to compare in one plot the results of varying parameters.\n",
    "\n",
    "geoM2xy_100nm_PS_PEG_in_cortex = np.genfromtxt('./geoM2xy_100nm_PS_PEG_in_cortex.csv',delimiter =\",\")\n",
    "geoM2xy_100nm_PS_PEG_in_hippocampus = np.genfromtxt('./geoM2xy_100nm_PS_PEG_in_hippocampus.csv',delimiter =\",\")\n",
    "geoM2xy_100nm_PS_PEG_in_midbrain = np.genfromtxt('./geoM2xy_100nm_PS_PEG_in_midbrain.csv',delimiter =\",\")\n",
    "\n",
    "geoM2xy_100nm_PS_PEG_in_0_4_agarose = np.genfromtxt('../../02-23-17-PS-NPs-and-PS-PEG-NPs-in-0-4-agarose/100nm_PS-PEG/geoM2xy_100nm_PS_PEG_in_0-4_agarose.csv',delimiter =\",\")\n",
    "# geoM2xy_20nm_PS_in_0_4_agarose = np.genfromtxt('./20nm_PS-NPs/geoM2xy_20nm_PS_in_0-4_agarose',delimiter =\",\")\n",
    "# geoM2xy_20nm_PS_PEG_in_0_4_agarose = np.genfromtxt('./20nm_PS-PEG/geoM2xy_20nm_PS_PEG_in_0-4_agarose',delimiter =\",\")"
   ]
  },
  {
   "cell_type": "code",
   "execution_count": 5,
   "metadata": {
    "collapsed": true
   },
   "outputs": [],
   "source": [
    "geoD2xy_100nm_PS_PEG_in_cortex = np.genfromtxt('./geoD2xy_100nm_PS_PEG_in_cortex.csv',delimiter =\",\")\n",
    "geoD2xy_100nm_PS_PEG_in_hippocampus = np.genfromtxt('./geoD2xy_100nm_PS_PEG_in_hippocampus.csv',delimiter =\",\")\n",
    "geoD2xy_100nm_PS_PEG_in_midbrain = np.genfromtxt('./geoD2xy_100nm_PS_PEG_in_midbrain.csv',delimiter =\",\")"
   ]
  },
  {
   "cell_type": "code",
   "execution_count": 6,
   "metadata": {
    "collapsed": true
   },
   "outputs": [],
   "source": [
    "# geoM2xy_camera_1000ms_60x = np.genfromtxt('./geoM2xy_camera_1000ms_60x.csv',delimiter =\",\")\n",
    "# arM2xy_camera_1000ms_60x = np.genfromtxt('./arM2xy_camera_1000ms_60x.csv',delimiter =\",\")"
   ]
  },
  {
   "cell_type": "code",
   "execution_count": 7,
   "metadata": {
    "collapsed": false
   },
   "outputs": [],
   "source": [
    "f1 = 3.95\n",
    "f2 = 2\n",
    "\n",
    "time1 = np.zeros(geoM2xy_100nm_PS_PEG_in_0_4_agarose.shape[0])\n",
    "time2 = np.zeros(geoM2xy_100nm_PS_PEG_in_cortex.shape[0])\n",
    "\n",
    "for num in range(0, geoM2xy_100nm_PS_PEG_in_cortex.shape[0]):\n",
    "    time1[num] = num/f1\n",
    "\n",
    "for num in range(0, geoM2xy_100nm_PS_PEG_in_cortex.shape[0]):\n",
    "    time2[num] = num/f2"
   ]
  },
  {
   "cell_type": "code",
   "execution_count": 8,
   "metadata": {
    "collapsed": false
   },
   "outputs": [
    {
     "data": {
      "text/plain": [
       "array([  0. ,   0.5,   1. ,   1.5,   2. ,   2.5,   3. ,   3.5,   4. ,\n",
       "         4.5,   5. ,   5.5,   6. ,   6.5,   7. ,   7.5,   8. ,   8.5,\n",
       "         9. ,   9.5,  10. ,  10.5,  11. ,  11.5,  12. ,  12.5,  13. ,\n",
       "        13.5,  14. ,  14.5,  15. ,  15.5,  16. ,  16.5,  17. ,  17.5,\n",
       "        18. ,  18.5,  19. ,  19.5,  20. ,  20.5,  21. ,  21.5,  22. ,\n",
       "        22.5,  23. ,  23.5,  24. ,  24.5,  25. ,  25.5,  26. ,  26.5,\n",
       "        27. ,  27.5,  28. ,  28.5,  29. ,  29.5,  30. ,  30.5,  31. ,\n",
       "        31.5,  32. ,  32.5,  33. ,  33.5,  34. ,  34.5,  35. ,  35.5,\n",
       "        36. ,  36.5,  37. ,  37.5,  38. ,  38.5,  39. ,  39.5,  40. ,\n",
       "        40.5,  41. ,  41.5,  42. ,  42.5,  43. ,  43.5,  44. ,  44.5,\n",
       "        45. ,  45.5,  46. ,  46.5,  47. ,  47.5,  48. ,  48.5,  49. ,\n",
       "        49.5,  50. ,  50.5,  51. ,  51.5,  52. ,  52.5,  53. ,  53.5,\n",
       "        54. ,  54.5,  55. ,  55.5,  56. ,  56.5,  57. ,  57.5,  58. ,\n",
       "        58.5,  59. ,  59.5])"
      ]
     },
     "execution_count": 8,
     "metadata": {},
     "output_type": "execute_result"
    }
   ],
   "source": [
    "time2"
   ]
  },
  {
   "cell_type": "code",
   "execution_count": 13,
   "metadata": {
    "collapsed": false
   },
   "outputs": [
    {
     "data": {
      "text/plain": [
       "array([             nan,   2.67495306e+00,   2.34670420e+00,\n",
       "         1.86836473e+00,   1.52761415e+00,   1.01954350e+00,\n",
       "         6.85044840e-01,   5.41718156e-01,   3.75665498e-01,\n",
       "         3.22268067e-01,   2.42858228e-01,   2.22839436e-01,\n",
       "         2.03243440e-01,   1.24302544e-01,   9.27741008e-02,\n",
       "         7.49078512e-02,   8.68222858e-02,   6.56859784e-02,\n",
       "         5.43454312e-02,   4.38660384e-02,   3.71184600e-02,\n",
       "         3.71835263e-02,   2.13421138e-02,   2.24216722e-02,\n",
       "         2.18246538e-02,   2.18760042e-02,   1.59317079e-02,\n",
       "         1.48777344e-02,   1.46899860e-02,   1.43380203e-02,\n",
       "         1.35413174e-02,   1.31136475e-02,   1.33081281e-02,\n",
       "         1.32620041e-02,   8.81265410e-03,   8.97359161e-03,\n",
       "         8.91555431e-03,   5.40919152e-03,   5.37621304e-03,\n",
       "         5.04228584e-03,   4.85002686e-03,   4.95410902e-03,\n",
       "         4.93350342e-03,   4.73864395e-03,   4.81967062e-03,\n",
       "         5.03293588e-03,   4.61596310e-03,   4.92641499e-03,\n",
       "         4.14675971e-03,   3.84079582e-03,   3.88894879e-03,\n",
       "         3.85541248e-03,   4.02531477e-03,   3.94970492e-03,\n",
       "         3.55335446e-03,   3.74872145e-03,   3.73181488e-03,\n",
       "         3.57753930e-03,   3.61774282e-03,   3.59808055e-03,\n",
       "         3.56993942e-03,   3.47429782e-03,   3.53229054e-03,\n",
       "         3.39473143e-03,   3.13014279e-03,   3.29482719e-03,\n",
       "         3.15265053e-03,   3.14238783e-03,   3.09820934e-03,\n",
       "         3.11692428e-03,   3.16061357e-03,   2.97002850e-03,\n",
       "         3.10351236e-03,   3.15404102e-03,   3.13273643e-03,\n",
       "         3.19235227e-03,   3.14648305e-03,   3.14494006e-03,\n",
       "         3.15751870e-03,   3.15974491e-03,   3.28916430e-03,\n",
       "         3.25874813e-03,   3.29312361e-03,   3.29176954e-03,\n",
       "         3.18089688e-03,   3.14975425e-03,   3.14272569e-03,\n",
       "         3.16056039e-03,   3.20293540e-03,   3.07004391e-03,\n",
       "         2.96195240e-03,   2.96992072e-03,   2.97424749e-03,\n",
       "         2.97786289e-03,   2.82189498e-03,   3.04440466e-03,\n",
       "         2.97425402e-03,   3.10671161e-03,   3.07932188e-03,\n",
       "         3.06571430e-03,   3.27953037e-03,   3.54050034e-03,\n",
       "         3.43865903e-03,   3.26731255e-03,   3.22979067e-03,\n",
       "         3.23005616e-03,   2.99973197e-03,   2.90153812e-03,\n",
       "         3.00734916e-03,   3.01579808e-03,   2.73149294e-03,\n",
       "         3.24607028e-03,   2.80814713e-03,   3.44826912e-03,\n",
       "         3.31148918e-03,   3.40826039e-03,   4.32314948e-03,\n",
       "         4.08640293e-03,   2.83413890e-03,   2.38082813e-03])"
      ]
     },
     "execution_count": 13,
     "metadata": {},
     "output_type": "execute_result"
    }
   ],
   "source": [
    "geoD2xy_100nm_PS_PEG_in_hippocampus"
   ]
  },
  {
   "cell_type": "code",
   "execution_count": 10,
   "metadata": {
    "collapsed": false
   },
   "outputs": [],
   "source": [
    "#Linear algebra to find Deff (PS-PEG-NPs):\n",
    "to_frame1 = 5\n",
    "\n",
    "w = dict()\n",
    "residuals = dict()\n",
    "line = dict()\n",
    "A1 = np.ones((np.shape(time2)[0], 2))\n",
    "A1[:, 0] = time2\n",
    "\n",
    "w[0], residuals[0] = np.linalg.lstsq(A1[1:to_frame1, :], geoM2xy_100nm_PS_PEG_in_cortex[1:to_frame1])[0:2]\n",
    "w[1], residuals[1] = np.linalg.lstsq(A1[1:to_frame1, :], geoM2xy_100nm_PS_PEG_in_hippocampus[1:to_frame1])[0:2]\n",
    "w[2], residuals[2] = np.linalg.lstsq(A1[1:to_frame1, :], geoM2xy_100nm_PS_PEG_in_midbrain[1:to_frame1])[0:2]\n",
    "# w[1] = np.linalg.lstsq(A1[1:to_frame1, :], geoM2xy_20nm_PS_PEG_in_0_4_agarose[1:to_frame1])[0]\n",
    "\n",
    "line[0] = w[0][0]*time2 + w[0][1]\n",
    "line[1] = w[1][0]*time2 + w[1][1]\n",
    "line[2] = w[2][0]*time2 + w[2][1]"
   ]
  },
  {
   "cell_type": "code",
   "execution_count": 14,
   "metadata": {
    "collapsed": false
   },
   "outputs": [
    {
     "name": "stdout",
     "output_type": "stream",
     "text": [
      "Diffusion Coeff (um^2/s): 0.4813585 geoM2xy_100nm_PS_PEG_in_cortex\n",
      "Diffusion Coeff (um^2/s): 0.2804549 geoM2xy_100nm_PS_PEG_in_hippocampus\n",
      "Diffusion Coeff (um^2/s): 0.1881207 geoM2xy_100nm_PS_PEG_in_midbrain\n"
     ]
    }
   ],
   "source": [
    "print('Diffusion Coeff (um^2/s):', np.round(w[0][0]/4, 7), 'geoM2xy_100nm_PS_PEG_in_cortex')\n",
    "print('Diffusion Coeff (um^2/s):', np.round(w[1][0]/4, 7), 'geoM2xy_100nm_PS_PEG_in_hippocampus')\n",
    "print('Diffusion Coeff (um^2/s):', np.round(w[2][0]/4, 7), 'geoM2xy_100nm_PS_PEG_in_midbrain')\n",
    "# print('Diffusion Coeff (um^2/s):', np.round(w[1][0], 7), 'geoM2xy_20nm_PS_PEG_in_0_4_agarose')"
   ]
  },
  {
   "cell_type": "code",
   "execution_count": 15,
   "metadata": {
    "collapsed": false
   },
   "outputs": [
    {
     "data": {
      "text/plain": [
       "array([ 0.00413491])"
      ]
     },
     "execution_count": 15,
     "metadata": {},
     "output_type": "execute_result"
    }
   ],
   "source": [
    "residuals[0]/17"
   ]
  },
  {
   "cell_type": "code",
   "execution_count": 16,
   "metadata": {
    "collapsed": false
   },
   "outputs": [
    {
     "ename": "NameError",
     "evalue": "name 'geoM2xy_100nm_PS_in_0_4_agarose' is not defined",
     "output_type": "error",
     "traceback": [
      "\u001b[1;31m---------------------------------------------------------------------------\u001b[0m",
      "\u001b[1;31mNameError\u001b[0m                                 Traceback (most recent call last)",
      "\u001b[1;32m<ipython-input-16-fb48f8bd3140>\u001b[0m in \u001b[0;36m<module>\u001b[1;34m()\u001b[0m\n\u001b[0;32m      9\u001b[0m \u001b[1;33m\u001b[0m\u001b[0m\n\u001b[0;32m     10\u001b[0m \u001b[1;33m\u001b[0m\u001b[0m\n\u001b[1;32m---> 11\u001b[1;33m \u001b[0mw1\u001b[0m\u001b[1;33m[\u001b[0m\u001b[1;36m0\u001b[0m\u001b[1;33m]\u001b[0m\u001b[1;33m,\u001b[0m \u001b[0mresiduals1\u001b[0m\u001b[1;33m[\u001b[0m\u001b[1;36m0\u001b[0m\u001b[1;33m]\u001b[0m \u001b[1;33m=\u001b[0m \u001b[0mnp\u001b[0m\u001b[1;33m.\u001b[0m\u001b[0mlinalg\u001b[0m\u001b[1;33m.\u001b[0m\u001b[0mlstsq\u001b[0m\u001b[1;33m(\u001b[0m\u001b[0mA2\u001b[0m\u001b[1;33m[\u001b[0m\u001b[1;36m1\u001b[0m\u001b[1;33m:\u001b[0m\u001b[0mto_frame\u001b[0m\u001b[1;33m,\u001b[0m \u001b[1;33m:\u001b[0m\u001b[1;33m]\u001b[0m\u001b[1;33m,\u001b[0m \u001b[0mgeoM2xy_100nm_PS_in_0_4_agarose\u001b[0m\u001b[1;33m[\u001b[0m\u001b[1;36m1\u001b[0m\u001b[1;33m:\u001b[0m\u001b[0mto_frame\u001b[0m\u001b[1;33m]\u001b[0m\u001b[1;33m)\u001b[0m\u001b[1;33m[\u001b[0m\u001b[1;36m0\u001b[0m\u001b[1;33m:\u001b[0m\u001b[1;36m2\u001b[0m\u001b[1;33m]\u001b[0m\u001b[1;33m\u001b[0m\u001b[0m\n\u001b[0m\u001b[0;32m     12\u001b[0m \u001b[1;31m# w1[1] = np.linalg.lstsq(A2[1:to_frame, :], geoM2xy_20nm_PS_in_0_4_agarose[1:to_frame])[0]\u001b[0m\u001b[1;33m\u001b[0m\u001b[1;33m\u001b[0m\u001b[0m\n\u001b[0;32m     13\u001b[0m \u001b[1;33m\u001b[0m\u001b[0m\n",
      "\u001b[1;31mNameError\u001b[0m: name 'geoM2xy_100nm_PS_in_0_4_agarose' is not defined"
     ]
    }
   ],
   "source": [
    "#Linear algebra to find Deff (PS NPs):\n",
    "to_frame = 20\n",
    "\n",
    "w1 = dict()\n",
    "residuals1 = dict()\n",
    "line1 = dict()\n",
    "A2 = np.ones((np.shape(time1)[0], 2))\n",
    "A2[:, 0] = time1\n",
    "\n",
    "\n",
    "w1[0], residuals1[0] = np.linalg.lstsq(A2[1:to_frame, :], geoM2xy_100nm_PS_in_0_4_agarose[1:to_frame])[0:2]\n",
    "# w1[1] = np.linalg.lstsq(A2[1:to_frame, :], geoM2xy_20nm_PS_in_0_4_agarose[1:to_frame])[0]\n",
    "\n",
    "line1[0] = w1[0][0]*time1 + w1[0][1]\n",
    "# line1[1] = w1[1][0]*time1 + w1[1][1]"
   ]
  },
  {
   "cell_type": "code",
   "execution_count": null,
   "metadata": {
    "collapsed": false
   },
   "outputs": [],
   "source": [
    "print('Diffusion Coeff (um^2/s):', np.round(w1[0][0], 7), 'geoM2xy_100nm_PS_in_0_4_agarose')\n",
    "# print('Diffusion Coeff (um^2/s):', np.round(w1[1][0], 7), 'geoM2xy_20nm_PS_in_0_4_agarose')"
   ]
  },
  {
   "cell_type": "code",
   "execution_count": null,
   "metadata": {
    "collapsed": false
   },
   "outputs": [],
   "source": [
    "residuals1[0]/20"
   ]
  },
  {
   "cell_type": "code",
   "execution_count": null,
   "metadata": {
    "collapsed": true
   },
   "outputs": [],
   "source": [
    "# N = 5\n",
    "\n",
    "# ind = np.arange(N)\n",
    "# width = 0.35     \n",
    "\n",
    "# x1 = [1, 2, 3, 4]\n",
    "# x2 = [1, 2, 3, 4]\n",
    "# y1 = [w[0][0], w[1][0], w1[0][0], w1[1][0]]\n",
    "# y2 = [w[2][0], w[3][0], w1[2][0], w1[3][0]]\n",
    "\n",
    "# labels1 = ['FM2xy_camera_1000ms_40x', 'FM2xy_camera_1000ms_60x', 'FM2xy_camera_625ms_40x', 'FM2xy_camera_625ms_60x']\n",
    "# labels2 = ['FM2xy_confocal_1000ms_40x', 'FM2xy_confocal_1000ms_60x', 'FM2xy_confocal_625ms_40x', 'FM2xy_confocal_625ms_60x']"
   ]
  },
  {
   "cell_type": "code",
   "execution_count": null,
   "metadata": {
    "collapsed": false
   },
   "outputs": [],
   "source": [
    "# fig = plt.figure()\n",
    "# ax = fig.add_subplot(111)\n",
    "\n",
    "# ## the data\n",
    "# N = 4\n",
    "\n",
    "# ## necessary variables\n",
    "# ind = np.arange(N)                # the x locations for the groups\n",
    "# width = 0.6                     # the width of the bars\n",
    "\n",
    "# ## the bars\n",
    "# rects1 = ax.bar(ind, y1, width,\n",
    "#                 color='green')\n",
    "\n",
    "# # axes and labels\n",
    "# ax.set_xlim(-width/2,len(ind)+width/2)\n",
    "# ax.set_ylim(0,0.0012)\n",
    "# ax.set_ylabel('Diffusion Coefficient (um^2/s)')\n",
    "# ax.set_title('Diffusion coefficients for camera')\n",
    "# xTickMarks = [labels1[i-1] for i in range(1,5)]\n",
    "# ax.set_xticks(ind+width)\n",
    "# xtickNames = ax.set_xticklabels(xTickMarks)\n",
    "# plt.setp(xtickNames, rotation=45, fontsize=10)\n",
    "\n",
    "# plt.show()"
   ]
  },
  {
   "cell_type": "code",
   "execution_count": null,
   "metadata": {
    "collapsed": true
   },
   "outputs": [],
   "source": [
    "# fig = plt.figure()\n",
    "# ax = fig.add_subplot(111)\n",
    "\n",
    "# ## the data\n",
    "# N = 4\n",
    "\n",
    "# ## necessary variables\n",
    "# ind = np.arange(N)                # the x locations for the groups\n",
    "# width = 0.6                     # the width of the bars\n",
    "\n",
    "# ## the bars\n",
    "# rects1 = ax.bar(ind, y2, width,\n",
    "#                 color='green')\n",
    "\n",
    "# # axes and labels\n",
    "# ax.set_xlim(-width/2,len(ind)+width/2)\n",
    "# ax.set_ylim(0,0.0012)\n",
    "# ax.set_ylabel('Diffusion Coefficient (um^2/s)')\n",
    "# ax.set_title('Diffusion coefficients for confocal')\n",
    "# xTickMarks = [labels2[i-1] for i in range(1,5)]\n",
    "# ax.set_xticks(ind+width)\n",
    "# xtickNames = ax.set_xticklabels(xTickMarks)\n",
    "# plt.setp(xtickNames, rotation=45, fontsize=10)\n",
    "\n",
    "# plt.show()"
   ]
  },
  {
   "cell_type": "code",
   "execution_count": 34,
   "metadata": {
    "collapsed": false
   },
   "outputs": [],
   "source": [
    "#Figure parameters\n",
    "\n",
    "filename = 'geo_comparison.png'\n",
    "\n",
    "limit1=2.1 #x range\n",
    "tick1 = 0.5 #x ticks\n",
    "\n",
    "limit2=7.1 #y range\n",
    "tick2 = round(limit2/5, 0) + 1 #y ticks\n",
    "\n",
    "label=95 #label font size\n",
    "leg=50 #legend font size\n",
    "ylabel=r'<MSD> ($\\mu$m$^2$)'\n",
    "\n",
    "dec1=1 #decimals displayed on x axis\n",
    "dec2=0 #decimals displayed on y axis\n",
    "\n",
    "d1 = 30 #dashed line dash length\n",
    "d2 = 15 #dashed line space length\n",
    "\n",
    "wi = 10 #line width\n",
    "mi = 12 #marker size"
   ]
  },
  {
   "cell_type": "code",
   "execution_count": 18,
   "metadata": {
    "collapsed": true
   },
   "outputs": [],
   "source": [
    "def color_variant(hex_color, brightness_offset=1):\n",
    "    \"\"\" takes a color like #87c95f and produces a lighter or darker variant \"\"\"\n",
    "    if len(hex_color) != 7:\n",
    "        raise Exception(\"Passed %s into color_variant(), needs to be in #87c95f format.\" % hex_color)\n",
    "    rgb_hex = [hex_color[x:x+2] for x in [1, 3, 5]]\n",
    "    new_rgb_int = [int(hex_value, 16) + brightness_offset for hex_value in rgb_hex]\n",
    "    new_rgb_int = [min([255, max([0, i])]) for i in new_rgb_int] # make sure new values are between 0 and 255\n",
    "    # hex() produces \"0x88\", we want just \"88\"\n",
    "    return \"#\" + \"\".join([hex(i)[2:] for i in new_rgb_int])"
   ]
  },
  {
   "cell_type": "code",
   "execution_count": 19,
   "metadata": {
    "collapsed": false
   },
   "outputs": [],
   "source": [
    "# for name, hex in mpl.colors.cnames.items():\n",
    "#     print(name, hex)\n",
    "\n",
    "# g2 = color_variant('#008000', brightness_offset=0)\n",
    "# b2 = color_variant('#0000FF', brightness_offset=0)"
   ]
  },
  {
   "cell_type": "code",
   "execution_count": 20,
   "metadata": {
    "collapsed": true
   },
   "outputs": [],
   "source": [
    "def clamp(val, minimum=0, maximum=255):\n",
    "    if val < minimum:\n",
    "        return minimum\n",
    "    if val > maximum:\n",
    "        return maximum\n",
    "    return val\n",
    "\n",
    "def colorscale(hexstr, scalefactor):\n",
    "    \"\"\"\n",
    "    Scales a hex string by ``scalefactor``. Returns scaled hex string.\n",
    "\n",
    "    To darken the color, use a float value between 0 and 1.\n",
    "    To brighten the color, use a float value greater than 1.\n",
    "\n",
    "    >>> colorscale(\"#DF3C3C\", .5)\n",
    "    #6F1E1E\n",
    "    >>> colorscale(\"#52D24F\", 1.6)\n",
    "    #83FF7E\n",
    "    >>> colorscale(\"#4F75D2\", 1)\n",
    "    #4F75D2\n",
    "    \"\"\"\n",
    "\n",
    "    hexstr = hexstr.strip('#')\n",
    "\n",
    "    if scalefactor < 0 or len(hexstr) != 6:\n",
    "        return hexstr\n",
    "\n",
    "    r, g, b = int(hexstr[:2], 16), int(hexstr[2:4], 16), int(hexstr[4:], 16)\n",
    "\n",
    "    r = round(clamp(r * scalefactor))\n",
    "    g = round(clamp(g * scalefactor))\n",
    "    b = round(clamp(b * scalefactor))\n",
    "\n",
    "    return \"#%02x%02x%02x\" % (r, g, b)"
   ]
  },
  {
   "cell_type": "code",
   "execution_count": 21,
   "metadata": {
    "collapsed": false
   },
   "outputs": [
    {
     "data": {
      "text/plain": [
       "'#008000'"
      ]
     },
     "execution_count": 21,
     "metadata": {},
     "output_type": "execute_result"
    }
   ],
   "source": [
    "g2 = colorscale('#008000', 1)\n",
    "b2 = colorscale('#0000FF', 10)\n",
    "r2 = colorscale('#FF0000', 10)\n",
    "g2"
   ]
  },
  {
   "cell_type": "code",
   "execution_count": 35,
   "metadata": {
    "collapsed": false
   },
   "outputs": [],
   "source": [
    "# Creates figure\n",
    "fig = plt.figure(figsize=(16, 18), dpi=80)\n",
    "ax = fig.add_subplot(111)\n",
    "    # ax.set_title('Particle Trajectories', x=0.5, y=1.15)\n",
    "\n",
    "# ax.plot(time1, geoM2xy_20nm_PS_in_0_4_agarose, 'bo', ms=mi, label='20nm PS NPs')\n",
    "# ax.plot(time2, geoM2xy_20nm_PS_PEG_in_0_4_agarose, 'b--', linewidth=wi, dashes=[d1,d2], label='20 nm PS-PEG NPs')\n",
    "# ax.plot(time1, geoM2xy_100nm_PS_in_0_4_agarose, 'b--', linewidth=wi, dashes=[d1,d2], label='100nm PS NPs')\n",
    "ax.plot(time2[0:], geoM2xy_100nm_PS_PEG_in_cortex[0:], 'g--', linewidth=wi, dashes=[d1,d2], label='cortex')\n",
    "ax.plot(time2[0:], geoM2xy_100nm_PS_PEG_in_hippocampus[0:], 'b--', linewidth=wi, dashes=[d1,d2], label='hippocampus')\n",
    "ax.plot(time2[0:], geoM2xy_100nm_PS_PEG_in_midbrain[0:], 'r--', linewidth=wi, dashes=[d1,d2], label='midbrain')\n",
    "\n",
    "# ax.errorbar(t, MMSD[:, 0], yerr=SE[:, 0], fmt='', linestyle='', capsize=7, capthick=2, elinewidth=2, color='blue')\n",
    "# ax.errorbar(t, MMSD[:, 1], yerr=SE[:, 1], fmt='', linestyle='', capsize=7, capthick=2, elinewidth=2, color='red')\n",
    "# ax.errorbar(t, MMSD[:, 2], yerr=SE[:, 2], fmt='', linestyle='', capsize=7, capthick=2, elinewidth=2, color='green')\n",
    "\n",
    "# ax.plot(time2[1:6], line[0][1:6], linewidth=wi-3, color=g2)\n",
    "# ax.plot(time2[1:6], line[1][1:6], linewidth=wi-3, color=b2)\n",
    "# ax.plot(time2[1:6], line[2][1:6], linewidth=wi-3, color=r2)\n",
    "\n",
    "# ax.plot(time1[1:], line1[0][1:], linewidth=wi-3, color=b2)\n",
    "#ax.plot(t, linel[1], linewidth=3, color='red')\n",
    "#ax.plot(t, linel[2], linewidth=3, color='green')\n",
    "    \n",
    "# A few adjustments to prettify the graph\n",
    "for item in ([ax.xaxis.label, ax.yaxis.label] +\n",
    "             ax.get_xticklabels() + ax.get_yticklabels()):\n",
    "    item.set_fontsize(70)\n",
    "\n",
    "xmajor_ticks = np.arange(0, limit1, tick1)\n",
    "ymajor_ticks = np.arange(0, limit2, tick2)\n",
    "\n",
    "ax.set_xticks(xmajor_ticks)\n",
    "ax.set_yticks(ymajor_ticks)\n",
    "ax.title.set_fontsize(70)\n",
    "ax.set_xlabel('Time (s)', fontsize=label)\n",
    "ax.set_ylabel(ylabel, fontsize=label)\n",
    "ax.tick_params(direction='out', pad=16)\n",
    "ax.legend(loc=(0.02, 0.75), prop={'size': leg})\n",
    "plt.gca().xaxis.set_major_formatter(mpl.ticker.FormatStrFormatter('%.{}f'.format(dec1)))\n",
    "plt.gca().yaxis.set_major_formatter(mpl.ticker.FormatStrFormatter('%.{}f'.format(dec2)))\n",
    "\n",
    "\n",
    "# plt.yscale('log')\n",
    "# plt.xscale('log')\n",
    "plt.gca().set_xlim([0, limit1])\n",
    "plt.gca().set_ylim([0.00001, limit2])\n",
    "\n",
    "# Save your figure\n",
    "plt.savefig('{}'.format(filename), bbox_inches='tight')\n",
    "plt.show()"
   ]
  },
  {
   "cell_type": "code",
   "execution_count": 36,
   "metadata": {
    "collapsed": true
   },
   "outputs": [],
   "source": [
    "#Figure parameters\n",
    "\n",
    "filename = 'geo_comparison1.png'\n",
    "\n",
    "limit1=5.1 #x range\n",
    "tick1 = round(limit1)/5 #x ticks\n",
    "\n",
    "limit2=12.5 #y range\n",
    "tick2 = round(limit2/5, 0)+1 #y ticks\n",
    "\n",
    "label=95 #label font size\n",
    "leg=50 #legend font size\n",
    "ylabel=r'MSD ($\\mu$m$^2$)'\n",
    "\n",
    "dec1=0 #decimals displayed on x axis\n",
    "dec2=0 #decimals displayed on y axis\n",
    "\n",
    "d1 = 30 #dashed line dash length\n",
    "d2 = 15 #dashed line space length\n",
    "\n",
    "wi = 10 #line width\n",
    "mi = 12 #marker size"
   ]
  },
  {
   "cell_type": "code",
   "execution_count": 37,
   "metadata": {
    "collapsed": false
   },
   "outputs": [],
   "source": [
    "# Creates figure\n",
    "fig = plt.figure(figsize=(16, 18), dpi=80)\n",
    "ax = fig.add_subplot(111)\n",
    "    # ax.set_title('Particle Trajectories', x=0.5, y=1.15)\n",
    "\n",
    "# ax.plot(time1, geoM2xy_20nm_PS_in_0_4_agarose, 'bo', ms=mi, label='20nm PS NPs')\n",
    "# ax.plot(time2, geoM2xy_20nm_PS_PEG_in_0_4_agarose, 'b--', linewidth=wi, dashes=[d1,d2], label='20 nm PS-PEG NPs')\n",
    "# ax.plot(time1, geoM2xy_100nm_PS_in_0_4_agarose, 'b--', linewidth=wi, dashes=[d1,d2], label='100nm PS NPs')\n",
    "ax.plot(time2[0:], geoM2xy_100nm_PS_PEG_in_cortex[0:], 'g--', linewidth=wi, dashes=[d1,d2], label='in cortex')\n",
    "ax.plot(time1[0:], geoM2xy_100nm_PS_PEG_in_0_4_agarose[0:], 'b--', linewidth=wi, dashes=[d1,d2], label='in 0.4% agarose')\n",
    "\n",
    "# ax.errorbar(t, MMSD[:, 0], yerr=SE[:, 0], fmt='', linestyle='', capsize=7, capthick=2, elinewidth=2, color='blue')\n",
    "# ax.errorbar(t, MMSD[:, 1], yerr=SE[:, 1], fmt='', linestyle='', capsize=7, capthick=2, elinewidth=2, color='red')\n",
    "# ax.errorbar(t, MMSD[:, 2], yerr=SE[:, 2], fmt='', linestyle='', capsize=7, capthick=2, elinewidth=2, color='green')\n",
    "\n",
    "# ax.plot(time2[1:6], line[0][1:6], linewidth=wi-3, color=g2)\n",
    "# ax.plot(time2[1:6], line[1][1:6], linewidth=wi-3, color=b2)\n",
    "\n",
    "# ax.plot(time1[1:], line1[0][1:], linewidth=wi-3, color=b2)\n",
    "#ax.plot(t, linel[1], linewidth=3, color='red')\n",
    "#ax.plot(t, linel[2], linewidth=3, color='green')\n",
    "    \n",
    "# A few adjustments to prettify the graph\n",
    "for item in ([ax.xaxis.label, ax.yaxis.label] +\n",
    "             ax.get_xticklabels() + ax.get_yticklabels()):\n",
    "    item.set_fontsize(70)\n",
    "\n",
    "xmajor_ticks = np.arange(0, limit1, tick1)\n",
    "ymajor_ticks = np.arange(0, limit2, tick2)\n",
    "\n",
    "ax.set_xticks(xmajor_ticks)\n",
    "ax.set_yticks(ymajor_ticks)\n",
    "ax.title.set_fontsize(70)\n",
    "ax.set_xlabel('Time (s)', fontsize=label)\n",
    "ax.set_ylabel(ylabel, fontsize=label)\n",
    "ax.tick_params(direction='out', pad=16)\n",
    "ax.legend(loc=(0.03, 0.81), prop={'size': leg})\n",
    "plt.gca().xaxis.set_major_formatter(mpl.ticker.FormatStrFormatter('%.{}f'.format(dec1)))\n",
    "plt.gca().yaxis.set_major_formatter(mpl.ticker.FormatStrFormatter('%.{}f'.format(dec2)))\n",
    "\n",
    "\n",
    "# plt.yscale('log')\n",
    "# plt.xscale('log')\n",
    "plt.gca().set_xlim([0, limit1])\n",
    "plt.gca().set_ylim([0.00001, limit2])\n",
    "\n",
    "# Save your figure\n",
    "plt.savefig('{}'.format(filename), bbox_inches='tight')\n",
    "plt.show()"
   ]
  },
  {
   "cell_type": "code",
   "execution_count": null,
   "metadata": {
    "collapsed": false
   },
   "outputs": [],
   "source": [
    "geoM2xy_100nm_PS_PEG_in_0_4_agarose.shape"
   ]
  },
  {
   "cell_type": "code",
   "execution_count": null,
   "metadata": {
    "collapsed": true
   },
   "outputs": [],
   "source": []
  },
  {
   "cell_type": "code",
   "execution_count": null,
   "metadata": {
    "collapsed": false
   },
   "outputs": [],
   "source": [
    "geoM2xy_100nm_PS_PEG_in_0_4_agarose"
   ]
  },
  {
   "cell_type": "code",
   "execution_count": null,
   "metadata": {
    "collapsed": false
   },
   "outputs": [],
   "source": [
    "# #Figure parameters\n",
    "\n",
    "# filename = 'FBF_comparison_60x.png'\n",
    "\n",
    "# limit1=50.1 #x range\n",
    "# tick1 = round(limit1)/5 #x ticks\n",
    "\n",
    "# limit2=0.051 #y range\n",
    "# tick2 = round(limit2, 2)/5 #y ticks\n",
    "\n",
    "# label=95 #label font size\n",
    "# leg=40 #legend font size\n",
    "# ylabel=r'MSD ($\\mu$m$^2$)'\n",
    "\n",
    "# dec1=0 #decimals displayed on x axis\n",
    "# dec2=2 #decimals displayed on y axis\n",
    "\n",
    "# d1 = 30 #dashed line dash length\n",
    "# d2 = 15 #dashed line space length\n",
    "\n",
    "# wi = 10 #line width\n",
    "# mi = 12 #marker size"
   ]
  },
  {
   "cell_type": "code",
   "execution_count": null,
   "metadata": {
    "collapsed": false
   },
   "outputs": [],
   "source": [
    "# # Creates figure\n",
    "# fig = plt.figure(figsize=(24, 18), dpi=80)\n",
    "# ax = fig.add_subplot(111)\n",
    "#     # ax.set_title('Particle Trajectories', x=0.5, y=1.15)\n",
    "\n",
    "# ax.plot(time2, FM2xy_camera_1000ms_60x, 'bo', ms=mi, label='Camera 1000ms 60x')\n",
    "# ax.plot(time1, FM2xy_camera_625ms_60x, 'b--', linewidth=wi, dashes=[d1,d2], label='Camera 625ms 60x')\n",
    "# ax.plot(time2, FM2xy_confocal_1000ms_60x, 'go', ms=mi, label='Confocal 1000ms 60x')\n",
    "# ax.plot(time1, FM2xy_confocal_625ms_60x, 'g--', linewidth=wi, dashes=[d1,d2], label='Confocal 625ms 60x')\n",
    "    \n",
    "# # ax.errorbar(t, MMSD[:, 0], yerr=SE[:, 0], fmt='', linestyle='', capsize=7, capthick=2, elinewidth=2, color='blue')\n",
    "# # ax.errorbar(t, MMSD[:, 1], yerr=SE[:, 1], fmt='', linestyle='', capsize=7, capthick=2, elinewidth=2, color='red')\n",
    "# # ax.errorbar(t, MMSD[:, 2], yerr=SE[:, 2], fmt='', linestyle='', capsize=7, capthick=2, elinewidth=2, color='green')\n",
    "\n",
    "# # ax.plot(t, line[0], linewidth=3, color='blue')\n",
    "# # ax.plot(t, line[1], linewidth=3, color='red')\n",
    "# # ax.plot(t, line[2], linewidth=3, color='green')\n",
    "    \n",
    "# #ax.plot(t, linel[0], linewidth=3, color='blue')\n",
    "# #ax.plot(t, linel[1], linewidth=3, color='red')\n",
    "# #ax.plot(t, linel[2], linewidth=3, color='green')\n",
    "    \n",
    "# # A few adjustments to prettify the graph\n",
    "# for item in ([ax.xaxis.label, ax.yaxis.label] +\n",
    "#              ax.get_xticklabels() + ax.get_yticklabels()):\n",
    "#     item.set_fontsize(70)\n",
    "\n",
    "# xmajor_ticks = np.arange(0, limit1, tick1)\n",
    "# ymajor_ticks = np.arange(0, limit2, tick2)\n",
    "\n",
    "# ax.set_xticks(xmajor_ticks)\n",
    "# ax.set_yticks(ymajor_ticks)\n",
    "# ax.title.set_fontsize(70)\n",
    "# ax.set_xlabel('Time (s)', fontsize=label)\n",
    "# ax.set_ylabel(ylabel, fontsize=label)\n",
    "# ax.tick_params(direction='out', pad=16)\n",
    "# ax.legend(loc=(0.06, 0.66), prop={'size': leg})\n",
    "# plt.gca().xaxis.set_major_formatter(mpl.ticker.FormatStrFormatter('%.{}f'.format(dec1)))\n",
    "# plt.gca().yaxis.set_major_formatter(mpl.ticker.FormatStrFormatter('%.{}f'.format(dec2)))\n",
    "\n",
    "\n",
    "# #plt.yscale('log')\n",
    "# #plt.xscale('log')\n",
    "# plt.gca().set_xlim([0, limit1])\n",
    "# plt.gca().set_ylim([0, limit2])\n",
    "\n",
    "# # Save your figure\n",
    "# plt.savefig('{}.png'.format(filename), bbox_inches='tight')\n",
    "# plt.show()"
   ]
  },
  {
   "cell_type": "code",
   "execution_count": null,
   "metadata": {
    "collapsed": true
   },
   "outputs": [],
   "source": [
    "# #Figure parameters\n",
    "\n",
    "# filename = 'FBF_comparison_625ms.png'\n",
    "\n",
    "# limit1=50.1 #x range\n",
    "# tick1 = round(limit1)/5 #x ticks\n",
    "\n",
    "# limit2=0.051 #y range\n",
    "# tick2 = round(limit2, 2)/5 #y ticks\n",
    "\n",
    "# label=95 #label font size\n",
    "# leg=40 #legend font size\n",
    "# ylabel=r'MSD ($\\mu$m$^2$)'\n",
    "\n",
    "# dec1=0 #decimals displayed on x axis\n",
    "# dec2=2 #decimals displayed on y axis\n",
    "\n",
    "# d1 = 30 #dashed line dash length\n",
    "# d2 = 15 #dashed line space length\n",
    "\n",
    "# wi = 10 #line width\n",
    "# mi = 12 #marker size"
   ]
  },
  {
   "cell_type": "code",
   "execution_count": null,
   "metadata": {
    "collapsed": false
   },
   "outputs": [],
   "source": [
    "# # Creates figure\n",
    "# fig = plt.figure(figsize=(24, 18), dpi=80)\n",
    "# ax = fig.add_subplot(111)\n",
    "#     # ax.set_title('Particle Trajectories', x=0.5, y=1.15)\n",
    "\n",
    "# ax.plot(time1, FM2xy_camera_625ms_40x, 'bo', ms=mi, label='Camera 625ms 40x')\n",
    "# ax.plot(time1, FM2xy_camera_625ms_60x, 'b--', linewidth=wi, dashes=[d1,d2], label='Camera 625ms 60x')\n",
    "# ax.plot(time1, FM2xy_confocal_625ms_40x[:-1], 'go', ms=mi, label='Confocal 625ms 40x')\n",
    "# ax.plot(time1, FM2xy_confocal_625ms_60x, 'g--', linewidth=wi, dashes=[d1,d2], label='Confocal 625ms 60x')\n",
    "    \n",
    "# # ax.errorbar(t, MMSD[:, 0], yerr=SE[:, 0], fmt='', linestyle='', capsize=7, capthick=2, elinewidth=2, color='blue')\n",
    "# # ax.errorbar(t, MMSD[:, 1], yerr=SE[:, 1], fmt='', linestyle='', capsize=7, capthick=2, elinewidth=2, color='red')\n",
    "# # ax.errorbar(t, MMSD[:, 2], yerr=SE[:, 2], fmt='', linestyle='', capsize=7, capthick=2, elinewidth=2, color='green')\n",
    "\n",
    "# # ax.plot(t, line[0], linewidth=3, color='blue')\n",
    "# # ax.plot(t, line[1], linewidth=3, color='red')\n",
    "# # ax.plot(t, line[2], linewidth=3, color='green')\n",
    "    \n",
    "# #ax.plot(t, linel[0], linewidth=3, color='blue')\n",
    "# #ax.plot(t, linel[1], linewidth=3, color='red')\n",
    "# #ax.plot(t, linel[2], linewidth=3, color='green')\n",
    "    \n",
    "# # A few adjustments to prettify the graph\n",
    "# for item in ([ax.xaxis.label, ax.yaxis.label] +\n",
    "#              ax.get_xticklabels() + ax.get_yticklabels()):\n",
    "#     item.set_fontsize(70)\n",
    "\n",
    "# xmajor_ticks = np.arange(0, limit1, tick1)\n",
    "# ymajor_ticks = np.arange(0, limit2, tick2)\n",
    "\n",
    "# ax.set_xticks(xmajor_ticks)\n",
    "# ax.set_yticks(ymajor_ticks)\n",
    "# ax.title.set_fontsize(70)\n",
    "# ax.set_xlabel('Time (s)', fontsize=label)\n",
    "# ax.set_ylabel(ylabel, fontsize=label)\n",
    "# ax.tick_params(direction='out', pad=16)\n",
    "# ax.legend(loc=(0.06, 0.66), prop={'size': leg})\n",
    "# plt.gca().xaxis.set_major_formatter(mpl.ticker.FormatStrFormatter('%.{}f'.format(dec1)))\n",
    "# plt.gca().yaxis.set_major_formatter(mpl.ticker.FormatStrFormatter('%.{}f'.format(dec2)))\n",
    "\n",
    "\n",
    "# #plt.yscale('log')\n",
    "# #plt.xscale('log')\n",
    "# plt.gca().set_xlim([0, limit1])\n",
    "# plt.gca().set_ylim([0, limit2])\n",
    "\n",
    "# # Save your figure\n",
    "# plt.savefig('{}.png'.format(filename), bbox_inches='tight')\n",
    "# plt.show()"
   ]
  },
  {
   "cell_type": "code",
   "execution_count": null,
   "metadata": {
    "collapsed": true
   },
   "outputs": [],
   "source": [
    "# #Figure parameters\n",
    "\n",
    "# filename = 'FBF_comparison_1000ms.png'\n",
    "\n",
    "# limit1=50.1 #x range\n",
    "# tick1 = round(limit1)/5 #x ticks\n",
    "\n",
    "# limit2=0.051 #y range\n",
    "# tick2 = round(limit2, 2)/5 #y ticks\n",
    "\n",
    "# label=95 #label font size\n",
    "# leg=40 #legend font size\n",
    "# ylabel=r'MSD ($\\mu$m$^2$)'\n",
    "\n",
    "# dec1=0 #decimals displayed on x axis\n",
    "# dec2=2 #decimals displayed on y axis\n",
    "\n",
    "# d1 = 30 #dashed line dash length\n",
    "# d2 = 15 #dashed line space length\n",
    "\n",
    "# wi = 10 #line width\n",
    "# mi = 12 #marker size"
   ]
  },
  {
   "cell_type": "code",
   "execution_count": null,
   "metadata": {
    "collapsed": true
   },
   "outputs": [],
   "source": [
    "# # Creates figure\n",
    "# fig = plt.figure(figsize=(24, 18), dpi=80)\n",
    "# ax = fig.add_subplot(111)\n",
    "#     # ax.set_title('Particle Trajectories', x=0.5, y=1.15)\n",
    "\n",
    "# ax.plot(time2, FM2xy_camera_1000ms_40x, 'bo', ms=mi, label='Camera 1000ms 40x')\n",
    "# ax.plot(time2, FM2xy_camera_1000ms_60x, 'b--', linewidth=wi, dashes=[d1,d2], label='Camera 1000ms 60x')\n",
    "# ax.plot(time2, FM2xy_confocal_1000ms_40x, 'go', ms=mi, label='Confocal 1000ms 40x')\n",
    "# ax.plot(time2, FM2xy_confocal_1000ms_60x, 'g--', linewidth=wi, dashes=[d1,d2], label='Confocal 1000ms 60x')\n",
    "    \n",
    "# # ax.errorbar(t, MMSD[:, 0], yerr=SE[:, 0], fmt='', linestyle='', capsize=7, capthick=2, elinewidth=2, color='blue')\n",
    "# # ax.errorbar(t, MMSD[:, 1], yerr=SE[:, 1], fmt='', linestyle='', capsize=7, capthick=2, elinewidth=2, color='red')\n",
    "# # ax.errorbar(t, MMSD[:, 2], yerr=SE[:, 2], fmt='', linestyle='', capsize=7, capthick=2, elinewidth=2, color='green')\n",
    "\n",
    "# # ax.plot(t, line[0], linewidth=3, color='blue')\n",
    "# # ax.plot(t, line[1], linewidth=3, color='red')\n",
    "# # ax.plot(t, line[2], linewidth=3, color='green')\n",
    "    \n",
    "# #ax.plot(t, linel[0], linewidth=3, color='blue')\n",
    "# #ax.plot(t, linel[1], linewidth=3, color='red')\n",
    "# #ax.plot(t, linel[2], linewidth=3, color='green')\n",
    "    \n",
    "# # A few adjustments to prettify the graph\n",
    "# for item in ([ax.xaxis.label, ax.yaxis.label] +\n",
    "#              ax.get_xticklabels() + ax.get_yticklabels()):\n",
    "#     item.set_fontsize(70)\n",
    "\n",
    "# xmajor_ticks = np.arange(0, limit1, tick1)\n",
    "# ymajor_ticks = np.arange(0, limit2, tick2)\n",
    "\n",
    "# ax.set_xticks(xmajor_ticks)\n",
    "# ax.set_yticks(ymajor_ticks)\n",
    "# ax.title.set_fontsize(70)\n",
    "# ax.set_xlabel('Time (s)', fontsize=label)\n",
    "# ax.set_ylabel(ylabel, fontsize=label)\n",
    "# ax.tick_params(direction='out', pad=16)\n",
    "# ax.legend(loc=(0.06, 0.66), prop={'size': leg})\n",
    "# plt.gca().xaxis.set_major_formatter(mpl.ticker.FormatStrFormatter('%.{}f'.format(dec1)))\n",
    "# plt.gca().yaxis.set_major_formatter(mpl.ticker.FormatStrFormatter('%.{}f'.format(dec2)))\n",
    "\n",
    "\n",
    "# #plt.yscale('log')\n",
    "# #plt.xscale('log')\n",
    "# plt.gca().set_xlim([0, limit1])\n",
    "# plt.gca().set_ylim([0, limit2])\n",
    "\n",
    "# # Save your figure\n",
    "# plt.savefig('{}.png'.format(filename), bbox_inches='tight')\n",
    "# plt.show()"
   ]
  },
  {
   "cell_type": "code",
   "execution_count": null,
   "metadata": {
    "collapsed": true
   },
   "outputs": [],
   "source": [
    "# #Figure parameters\n",
    "\n",
    "# filename = 'FBF_comparison_camera.png'\n",
    "\n",
    "# limit1=50.1 #x range\n",
    "# tick1 = round(limit1)/5 #x ticks\n",
    "\n",
    "# limit2=0.051 #y range\n",
    "# tick2 = round(limit2, 2)/5 #y ticks\n",
    "\n",
    "# label=95 #label font size\n",
    "# leg=40 #legend font size\n",
    "# ylabel=r'MSD ($\\mu$m$^2$)'\n",
    "\n",
    "# dec1=0 #decimals displayed on x axis\n",
    "# dec2=2 #decimals displayed on y axis\n",
    "\n",
    "# d1 = 30 #dashed line dash length\n",
    "# d2 = 15 #dashed line space length\n",
    "\n",
    "# wi = 10 #line width\n",
    "# mi = 12 #marker size"
   ]
  },
  {
   "cell_type": "code",
   "execution_count": null,
   "metadata": {
    "collapsed": false
   },
   "outputs": [],
   "source": [
    "# # Creates figure\n",
    "# fig = plt.figure(figsize=(24, 18), dpi=80)\n",
    "# ax = fig.add_subplot(111)\n",
    "#     # ax.set_title('Particle Trajectories', x=0.5, y=1.15)\n",
    "\n",
    "# ax.plot(time2, FM2xy_camera_1000ms_40x, 'bo', ms=mi, label='Camera 1000ms 40x')\n",
    "# ax.plot(time2, FM2xy_camera_1000ms_60x, 'b--', linewidth=wi, dashes=[d1,d2], label='Camera 1000ms 60x')\n",
    "# ax.plot(time1, FM2xy_camera_625ms_40x, 'go', ms=mi, label='Camera 625ms 40x')\n",
    "# ax.plot(time1, FM2xy_camera_625ms_60x, 'g--', linewidth=wi, dashes=[d1,d2], label='Camera 625ms 60x')\n",
    "    \n",
    "# # ax.errorbar(t, MMSD[:, 0], yerr=SE[:, 0], fmt='', linestyle='', capsize=7, capthick=2, elinewidth=2, color='blue')\n",
    "# # ax.errorbar(t, MMSD[:, 1], yerr=SE[:, 1], fmt='', linestyle='', capsize=7, capthick=2, elinewidth=2, color='red')\n",
    "# # ax.errorbar(t, MMSD[:, 2], yerr=SE[:, 2], fmt='', linestyle='', capsize=7, capthick=2, elinewidth=2, color='green')\n",
    "\n",
    "# # ax.plot(t, line[0], linewidth=3, color='blue')\n",
    "# # ax.plot(t, line[1], linewidth=3, color='red')\n",
    "# # ax.plot(t, line[2], linewidth=3, color='green')\n",
    "    \n",
    "# #ax.plot(t, linel[0], linewidth=3, color='blue')\n",
    "# #ax.plot(t, linel[1], linewidth=3, color='red')\n",
    "# #ax.plot(t, linel[2], linewidth=3, color='green')\n",
    "    \n",
    "# # A few adjustments to prettify the graph\n",
    "# for item in ([ax.xaxis.label, ax.yaxis.label] +\n",
    "#              ax.get_xticklabels() + ax.get_yticklabels()):\n",
    "#     item.set_fontsize(70)\n",
    "\n",
    "# xmajor_ticks = np.arange(0, limit1, tick1)\n",
    "# ymajor_ticks = np.arange(0, limit2, tick2)\n",
    "\n",
    "# ax.set_xticks(xmajor_ticks)\n",
    "# ax.set_yticks(ymajor_ticks)\n",
    "# ax.title.set_fontsize(70)\n",
    "# ax.set_xlabel('Time (s)', fontsize=label)\n",
    "# ax.set_ylabel(ylabel, fontsize=label)\n",
    "# ax.tick_params(direction='out', pad=16)\n",
    "# ax.legend(loc=(0.06, 0.66), prop={'size': leg})\n",
    "# plt.gca().xaxis.set_major_formatter(mpl.ticker.FormatStrFormatter('%.{}f'.format(dec1)))\n",
    "# plt.gca().yaxis.set_major_formatter(mpl.ticker.FormatStrFormatter('%.{}f'.format(dec2)))\n",
    "\n",
    "\n",
    "# #plt.yscale('log')\n",
    "# #plt.xscale('log')\n",
    "# plt.gca().set_xlim([0, limit1])\n",
    "# plt.gca().set_ylim([0, limit2])\n",
    "\n",
    "# # Save your figure\n",
    "# plt.savefig('{}.png'.format(filename), bbox_inches='tight')\n",
    "# plt.show()"
   ]
  },
  {
   "cell_type": "code",
   "execution_count": null,
   "metadata": {
    "collapsed": true
   },
   "outputs": [],
   "source": [
    "# #Figure parameters\n",
    "\n",
    "# filename = 'FBF_comparison_confocal.png'\n",
    "\n",
    "# limit1=50.1 #x range\n",
    "# tick1 = round(limit1)/5 #x ticks\n",
    "\n",
    "# limit2=0.051 #y range\n",
    "# tick2 = round(limit2, 2)/5 #y ticks\n",
    "\n",
    "# label=95 #label font size\n",
    "# leg=40 #legend font size\n",
    "# ylabel=r'MSD ($\\mu$m$^2$)'\n",
    "\n",
    "# dec1=0 #decimals displayed on x axis\n",
    "# dec2=2 #decimals displayed on y axis\n",
    "\n",
    "# d1 = 30 #dashed line dash length\n",
    "# d2 = 15 #dashed line space length\n",
    "\n",
    "# wi = 10 #line width\n",
    "# mi = 12 #marker size"
   ]
  },
  {
   "cell_type": "code",
   "execution_count": null,
   "metadata": {
    "collapsed": false
   },
   "outputs": [],
   "source": [
    "# # Creates figure\n",
    "# fig = plt.figure(figsize=(24, 18), dpi=80)\n",
    "# ax = fig.add_subplot(111)\n",
    "#     # ax.set_title('Particle Trajectories', x=0.5, y=1.15)\n",
    "\n",
    "# ax.plot(time2, FM2xy_confocal_1000ms_40x, 'bo', ms=mi, label='Confocal 1000ms 40x')\n",
    "# ax.plot(time2, FM2xy_confocal_1000ms_60x, 'b--', linewidth=wi, dashes=[d1,d2], label='Confocal 1000ms 60x')\n",
    "# ax.plot(time1, FM2xy_confocal_625ms_40x[:-1], 'go', ms=mi, label='Confocal 625ms 40x')\n",
    "# ax.plot(time1, FM2xy_confocal_625ms_60x, 'g--', linewidth=wi, dashes=[d1,d2], label='Confocal 625ms 60x')\n",
    "    \n",
    "# # ax.errorbar(t, MMSD[:, 0], yerr=SE[:, 0], fmt='', linestyle='', capsize=7, capthick=2, elinewidth=2, color='blue')\n",
    "# # ax.errorbar(t, MMSD[:, 1], yerr=SE[:, 1], fmt='', linestyle='', capsize=7, capthick=2, elinewidth=2, color='red')\n",
    "# # ax.errorbar(t, MMSD[:, 2], yerr=SE[:, 2], fmt='', linestyle='', capsize=7, capthick=2, elinewidth=2, color='green')\n",
    "\n",
    "# ax.plot(time2, line[2], linewidth=3, color='purple')\n",
    "# ax.plot(time2, line[3], linewidth=3, color='purple')\n",
    "# ax.plot(time1, line1[2], linewidth=3, color='purple')\n",
    "# ax.plot(time1, line1[3], linewidth=3, color='purple')\n",
    "    \n",
    "# # A few adjustments to prettify the graph\n",
    "# for item in ([ax.xaxis.label, ax.yaxis.label] +\n",
    "#              ax.get_xticklabels() + ax.get_yticklabels()):\n",
    "#     item.set_fontsize(70)\n",
    "\n",
    "# xmajor_ticks = np.arange(0, limit1, tick1)\n",
    "# ymajor_ticks = np.arange(0, limit2, tick2)\n",
    "\n",
    "# ax.set_xticks(xmajor_ticks)\n",
    "# ax.set_yticks(ymajor_ticks)\n",
    "# ax.title.set_fontsize(70)\n",
    "# ax.set_xlabel('Time (s)', fontsize=label)\n",
    "# ax.set_ylabel(ylabel, fontsize=label)\n",
    "# ax.tick_params(direction='out', pad=16)\n",
    "# ax.legend(loc=(0.06, 0.66), prop={'size': leg})\n",
    "# plt.gca().xaxis.set_major_formatter(mpl.ticker.FormatStrFormatter('%.{}f'.format(dec1)))\n",
    "# plt.gca().yaxis.set_major_formatter(mpl.ticker.FormatStrFormatter('%.{}f'.format(dec2)))\n",
    "\n",
    "\n",
    "# #plt.yscale('log')\n",
    "# #plt.xscale('log')\n",
    "# plt.gca().set_xlim([0, limit1])\n",
    "# plt.gca().set_ylim([0, limit2])\n",
    "\n",
    "# # Save your figure\n",
    "# plt.savefig('{}.png'.format(filename), bbox_inches='tight')\n",
    "# plt.show()"
   ]
  },
  {
   "cell_type": "code",
   "execution_count": null,
   "metadata": {
    "collapsed": true
   },
   "outputs": [],
   "source": [
    "# #Figure parameters\n",
    "\n",
    "# filename = 'FBF_geo_ar_comparison.png'\n",
    "\n",
    "# limit1=20.1 #x range\n",
    "# tick1 = round(limit1)/5 #x ticks\n",
    "\n",
    "# limit2=0.0051 #y range\n",
    "# tick2 = round(limit2, 3)/5 #y ticks\n",
    "\n",
    "# label=95 #label font size\n",
    "# leg=40 #legend font size\n",
    "# ylabel=r'MSD ($\\mu$m$^2$)'\n",
    "\n",
    "# dec1=0 #decimals displayed on x axis\n",
    "# dec2=3 #decimals displayed on y axis\n",
    "\n",
    "# d1 = 30 #dashed line dash length\n",
    "# d2 = 15 #dashed line space length\n",
    "\n",
    "# wi = 10 #line width\n",
    "# mi = 12 #marker size"
   ]
  },
  {
   "cell_type": "code",
   "execution_count": null,
   "metadata": {
    "collapsed": false
   },
   "outputs": [],
   "source": [
    "# # Creates figure\n",
    "# fig = plt.figure(figsize=(24, 18), dpi=80)\n",
    "# ax = fig.add_subplot(111)\n",
    "#     # ax.set_title('Particle Trajectories', x=0.5, y=1.15)\n",
    "\n",
    "# ax.plot(time2[0:19], geoM2xy_camera_1000ms_60x[0:-1], 'b--', linewidth=wi, dashes=[d1,d2], label='Geometric')\n",
    "# ax.plot(time2[0:19], arM2xy_camera_1000ms_60x[0:-1], 'g--', linewidth=wi, dashes=[d1,d2], label='Arithmetic')\n",
    "# ax.plot(time2, FM2xy_camera_1000ms_60x, 'r--', linewidth=wi, dashes=[d1,d2], label='Frame-by-frame')\n",
    "    \n",
    "# # ax.errorbar(t, MMSD[:, 0], yerr=SE[:, 0], fmt='', linestyle='', capsize=7, capthick=2, elinewidth=2, color='blue')\n",
    "# # ax.errorbar(t, MMSD[:, 1], yerr=SE[:, 1], fmt='', linestyle='', capsize=7, capthick=2, elinewidth=2, color='red')\n",
    "# # ax.errorbar(t, MMSD[:, 2], yerr=SE[:, 2], fmt='', linestyle='', capsize=7, capthick=2, elinewidth=2, color='green')\n",
    "\n",
    "# # ax.plot(t, line[0], linewidth=3, color='blue')\n",
    "# # ax.plot(t, line[1], linewidth=3, color='red')\n",
    "# # ax.plot(t, line[2], linewidth=3, color='green')\n",
    "    \n",
    "# #ax.plot(t, linel[0], linewidth=3, color='blue')\n",
    "# #ax.plot(t, linel[1], linewidth=3, color='red')\n",
    "# #ax.plot(t, linel[2], linewidth=3, color='green')\n",
    "    \n",
    "# # A few adjustments to prettify the graph\n",
    "# for item in ([ax.xaxis.label, ax.yaxis.label] +\n",
    "#              ax.get_xticklabels() + ax.get_yticklabels()):\n",
    "#     item.set_fontsize(70)\n",
    "\n",
    "# xmajor_ticks = np.arange(0, limit1, tick1)\n",
    "# ymajor_ticks = np.arange(0, limit2, tick2)\n",
    "\n",
    "# ax.set_xticks(xmajor_ticks)\n",
    "# ax.set_yticks(ymajor_ticks)\n",
    "# ax.title.set_fontsize(70)\n",
    "# ax.set_xlabel('Time (s)', fontsize=label)\n",
    "# ax.set_ylabel(ylabel, fontsize=label)\n",
    "# ax.tick_params(direction='out', pad=16)\n",
    "# ax.legend(loc=(0.06, 0.66), prop={'size': leg})\n",
    "# plt.gca().xaxis.set_major_formatter(mpl.ticker.FormatStrFormatter('%.{}f'.format(dec1)))\n",
    "# plt.gca().yaxis.set_major_formatter(mpl.ticker.FormatStrFormatter('%.{}f'.format(dec2)))\n",
    "\n",
    "\n",
    "# #plt.yscale('log')\n",
    "# #plt.xscale('log')\n",
    "# plt.gca().set_xlim([0, limit1])\n",
    "# plt.gca().set_ylim([0, limit2])\n",
    "\n",
    "# # Save your figure\n",
    "# plt.savefig('{}.png'.format(filename), bbox_inches='tight')\n",
    "# plt.show()"
   ]
  },
  {
   "cell_type": "code",
   "execution_count": null,
   "metadata": {
    "collapsed": true
   },
   "outputs": [],
   "source": []
  }
 ],
 "metadata": {
  "kernelspec": {
   "display_name": "Python 3",
   "language": "python",
   "name": "python3"
  },
  "language_info": {
   "codemirror_mode": {
    "name": "ipython",
    "version": 3
   },
   "file_extension": ".py",
   "mimetype": "text/x-python",
   "name": "python",
   "nbconvert_exporter": "python",
   "pygments_lexer": "ipython3",
   "version": "3.5.1"
  }
 },
 "nbformat": 4,
 "nbformat_minor": 0
}
