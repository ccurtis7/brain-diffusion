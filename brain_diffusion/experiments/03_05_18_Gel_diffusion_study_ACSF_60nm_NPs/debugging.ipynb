{
 "cells": [
  {
   "cell_type": "code",
   "execution_count": 1,
   "metadata": {},
   "outputs": [],
   "source": [
    "import brain_diffusion.msd as msd\n",
    "import os\n",
    "import csv\n",
    "import sys\n",
    "import scipy.optimize as opt\n",
    "import scipy.stats as stat\n",
    "from operator import itemgetter\n",
    "import random\n",
    "import numpy as np\n",
    "import numpy.ma as ma\n",
    "import numpy.linalg as la"
   ]
  },
  {
   "cell_type": "code",
   "execution_count": 2,
   "metadata": {},
   "outputs": [],
   "source": [
    "folder = './'\n",
    "DIR = './'\n",
    "sample_name = 'well1_XY1'\n",
    "name = sample_name\n",
    "cut = 0\n",
    "totvids = 4\n",
    "conversion = (0.10, 11.11, 1)\n",
    "frame_m = 70\n",
    "geoM2xy = {}\n",
    "gSEM = {}\n",
    "SM1x = {}\n",
    "SM1y = {}\n",
    "SM2xy = {}"
   ]
  },
  {
   "cell_type": "code",
   "execution_count": null,
   "metadata": {},
   "outputs": [],
   "source": [
    "total1"
   ]
  },
  {
   "cell_type": "code",
   "execution_count": 3,
   "metadata": {},
   "outputs": [],
   "source": [
    "total1, frames, xs_m, ys_m, x_m, ys_m = msd.MSD_iteration(DIR, sample_name, cut, totvids, conversion)"
   ]
  },
  {
   "cell_type": "code",
   "execution_count": 4,
   "metadata": {},
   "outputs": [],
   "source": [
    "geoM2xy[sample_name], gSEM[sample_name], SM1x[sample_name], SM1y[sample_name],\\\n",
    "                        SM2xy[sample_name] = msd.vectorized_MMSD_calcs(frames, total1, xs_m, ys_m)"
   ]
  },
  {
   "cell_type": "code",
   "execution_count": null,
   "metadata": {},
   "outputs": [],
   "source": [
    "SM1x = np.zeros((frames, total1))\n",
    "SM1y = np.zeros((frames, total1))\n",
    "SM2xy = np.zeros((frames, total1))\n",
    "\n",
    "xs_m = ma.masked_equal(xs_m, 0)\n",
    "ys_m = ma.masked_equal(ys_m, 0)\n",
    "\n",
    "geoM1x = np.zeros(frames)\n",
    "geoM1y = np.zeros(frames)"
   ]
  },
  {
   "cell_type": "code",
   "execution_count": null,
   "metadata": {},
   "outputs": [],
   "source": [
    "for frame in range(1, frames):\n",
    "    bx = xs_m[frame:, :]\n",
    "    cx = xs_m[:-frame, :]\n",
    "    Mx = (bx - cx)**2\n",
    "    Mxa = np.mean(Mx, axis=0)\n",
    "\n",
    "    by = ys_m[frame:, :]\n",
    "    cy = ys_m[:-frame, :]\n",
    "    My = (by - cy)**2\n",
    "    Mya = np.mean(My, axis=0)\n",
    "\n",
    "    SM1x[frame, :] = Mxa\n",
    "    SM1y[frame, :] = Mya"
   ]
  },
  {
   "cell_type": "code",
   "execution_count": null,
   "metadata": {},
   "outputs": [],
   "source": [
    "SM1x.shape"
   ]
  },
  {
   "cell_type": "code",
   "execution_count": null,
   "metadata": {},
   "outputs": [],
   "source": [
    "SM2xy = SM1x + SM1y\n",
    "dist = ma.log(ma.masked_equal(SM2xy, 0))\n",
    "\n",
    "geoM2xy = ma.mean(dist, axis=1)\n",
    "gSEM = stat.sem(dist, axis=1)\n",
    "geoM2xy = geoM2xy.data"
   ]
  },
  {
   "cell_type": "code",
   "execution_count": null,
   "metadata": {},
   "outputs": [],
   "source": [
    "total1"
   ]
  },
  {
   "cell_type": "code",
   "execution_count": null,
   "metadata": {},
   "outputs": [],
   "source": []
  }
 ],
 "metadata": {
  "kernelspec": {
   "display_name": "Python 3",
   "language": "python",
   "name": "python3"
  },
  "language_info": {
   "codemirror_mode": {
    "name": "ipython",
    "version": 3
   },
   "file_extension": ".py",
   "mimetype": "text/x-python",
   "name": "python",
   "nbconvert_exporter": "python",
   "pygments_lexer": "ipython3",
   "version": "3.6.4"
  }
 },
 "nbformat": 4,
 "nbformat_minor": 2
}
