{
 "cells": [
  {
   "cell_type": "code",
   "execution_count": 1,
   "metadata": {
    "collapsed": true
   },
   "outputs": [],
   "source": [
    "import numpy as np\n",
    "import numpy.ma as ma\n",
    "import scipy.stats as stat\n",
    "import random"
   ]
  },
  {
   "cell_type": "code",
   "execution_count": 2,
   "metadata": {
    "collapsed": true
   },
   "outputs": [],
   "source": [
    "parameters = {}\n",
    "parameters[\"channels\"] = [\"RED\"]\n",
    "parameters[\"surface functionalities\"] = [\"nPEG\", \"PEG\"]\n",
    "parameters[\"slices\"] = [1, 2, 3, 4]\n",
    "parameters[\"videos\"] = [1, 2, 3, 4, 5]\n",
    "\n",
    "channels = parameters[\"channels\"]\n",
    "surface_functionalities = parameters[\"surface functionalities\"]\n",
    "slices = parameters[\"slices\"]\n",
    "videos = parameters[\"videos\"]\n",
    "\n",
    "geoM2xy = {}\n",
    "gSEM = {}\n",
    "SM1x = {}\n",
    "SM1y = {}\n",
    "SM2xy = {}\n",
    "npar = {}"
   ]
  },
  {
   "cell_type": "code",
   "execution_count": null,
   "metadata": {
    "collapsed": false
   },
   "outputs": [],
   "source": [
    "!ls 0mM/g*"
   ]
  },
  {
   "cell_type": "code",
   "execution_count": 3,
   "metadata": {
    "collapsed": false
   },
   "outputs": [],
   "source": [
    "DIR = \"./3mM/\"\n",
    "\n",
    "for channel in channels:\n",
    "    for surface_functionality in surface_functionalities:\n",
    "        slice_counter = 0\n",
    "        for slic in slices:\n",
    "            for video in videos:\n",
    "                sample_name = \"well{}_XY{}\".format(slic, video)                \n",
    "                #SM2xy[sample_name] = np.genfromtxt('SM2xy_{}.csv'.format(sample_name, delimiter=\",\"))\n",
    "                \n",
    "                #npar[sample_name] = SM2xy[sample_name].shape\n",
    "                geoM2xy[sample_name] = np.genfromtxt(DIR + 'geoM2xy_{}.csv'.format(sample_name, delimiter=\",\"))\n",
    "                gSEM[sample_name] = np.genfromtxt(DIR + 'gSEM_{}.csv'.format(sample_name, delimiter=\",\"))"
   ]
  },
  {
   "cell_type": "code",
   "execution_count": 4,
   "metadata": {
    "collapsed": true
   },
   "outputs": [],
   "source": [
    "geo_slices = {}\n",
    "gSEM_slices = {}\n",
    "w_slices = {}\n",
    "wo_slices = {}"
   ]
  },
  {
   "cell_type": "code",
   "execution_count": 5,
   "metadata": {
    "collapsed": false
   },
   "outputs": [
    {
     "name": "stderr",
     "output_type": "stream",
     "text": [
      "C:\\Users\\koolk\\Miniconda3\\lib\\site-packages\\ipykernel\\__main__.py:16: RuntimeWarning: divide by zero encountered in true_divide\n"
     ]
    }
   ],
   "source": [
    "#Calculate the precision weights over videos\n",
    "#Alternately, can weight by the number of particles in each video\n",
    "nvids = 5\n",
    "nslices = 4\n",
    "frames = 69\n",
    "\n",
    "for channel in channels:\n",
    "    for surface_functionality in surface_functionalities:\n",
    "        slice_counter = 0\n",
    "        for slic in slices:\n",
    "            video_counter = 0\n",
    "            w_holder = np.zeros((nvids, frames))\n",
    "            sample_name = \"well{}\".format(slic)\n",
    "            for key in geoM2xy:\n",
    "                if sample_name in key:\n",
    "                    w_holder[video_counter, :] = 1/(gSEM[key]*gSEM[key])\n",
    "                    video_counter = video_counter + 1\n",
    "            wo_slices[sample_name] = np.sum(w_holder, axis=0)\n",
    "            slice_counter = slice_counter + 1"
   ]
  },
  {
   "cell_type": "code",
   "execution_count": 6,
   "metadata": {
    "collapsed": false
   },
   "outputs": [
    {
     "name": "stderr",
     "output_type": "stream",
     "text": [
      "C:\\Users\\koolk\\Miniconda3\\lib\\site-packages\\ipykernel\\__main__.py:14: RuntimeWarning: divide by zero encountered in true_divide\n",
      "C:\\Users\\koolk\\Miniconda3\\lib\\site-packages\\ipykernel\\__main__.py:14: RuntimeWarning: invalid value encountered in true_divide\n",
      "C:\\Users\\koolk\\Miniconda3\\lib\\site-packages\\ipykernel\\__main__.py:16: RuntimeWarning: divide by zero encountered in true_divide\n"
     ]
    }
   ],
   "source": [
    "#Calculate the weights SEMs and means over videos\n",
    "#Remember to use alternate if not wanting to use precision weights at this level.\n",
    "for channel in channels:\n",
    "    for surface_functionality in surface_functionalities:\n",
    "        slice_counter = 0\n",
    "        for slic in slices:\n",
    "            geo_holder = np.zeros((nvids, frames))\n",
    "            gSEM_holder = np.zeros((nvids, frames))\n",
    "            w_holder = np.zeros((nvids, frames))\n",
    "            video_counter = 0\n",
    "            sample_name = \"well{}\".format(slic)\n",
    "            for key in geoM2xy:\n",
    "                if sample_name in key:\n",
    "                    w_holder[video_counter, :] = (1/(gSEM[key]*gSEM[key]))/wo_slices[sample_name]\n",
    "                    geo_holder[video_counter, :] = w_holder[video_counter, :] * geoM2xy[key]\n",
    "                    gSEM_holder[video_counter, :] = (1/(gSEM[key]*gSEM[key]))\n",
    "                    video_counter = video_counter + 1\n",
    "            geo_slices[sample_name] = np.sum(geo_holder, axis=0)\n",
    "            gSEM_slices[sample_name] = np.sqrt((1/np.sum(gSEM_holder, axis=0)))\n",
    "            slice_counter = slice_counter + 1"
   ]
  },
  {
   "cell_type": "code",
   "execution_count": 7,
   "metadata": {
    "collapsed": false
   },
   "outputs": [],
   "source": [
    "geo = {}\n",
    "gS = {}\n",
    "w_slices = {}\n",
    "wo_slices = {}"
   ]
  },
  {
   "cell_type": "code",
   "execution_count": 8,
   "metadata": {
    "collapsed": false
   },
   "outputs": [
    {
     "name": "stderr",
     "output_type": "stream",
     "text": [
      "C:\\Users\\koolk\\Miniconda3\\lib\\site-packages\\ipykernel\\__main__.py:10: RuntimeWarning: divide by zero encountered in true_divide\n"
     ]
    }
   ],
   "source": [
    "#Calculate the precision weights over slices\n",
    "for channel in channels:\n",
    "    counter = 0\n",
    "    for surface_functionality in surface_functionalities:\n",
    "        w_holder = np.zeros((nslices, frames))\n",
    "        slice_counter = 0\n",
    "        sample_name = \"well\"\n",
    "        for key in geo_slices:\n",
    "            if sample_name in key:\n",
    "                w_holder[slice_counter, :] = 1/(gSEM_slices[key]*gSEM_slices[key])\n",
    "                slice_counter = slice_counter + 1\n",
    "        wo_slices[sample_name] = np.sum(w_holder, axis=0)\n",
    "        counter = counter + 1"
   ]
  },
  {
   "cell_type": "code",
   "execution_count": 9,
   "metadata": {
    "collapsed": false
   },
   "outputs": [
    {
     "name": "stderr",
     "output_type": "stream",
     "text": [
      "C:\\Users\\koolk\\Miniconda3\\lib\\site-packages\\ipykernel\\__main__.py:12: RuntimeWarning: divide by zero encountered in true_divide\n",
      "C:\\Users\\koolk\\Miniconda3\\lib\\site-packages\\ipykernel\\__main__.py:12: RuntimeWarning: invalid value encountered in true_divide\n",
      "C:\\Users\\koolk\\Miniconda3\\lib\\site-packages\\ipykernel\\__main__.py:14: RuntimeWarning: divide by zero encountered in true_divide\n"
     ]
    }
   ],
   "source": [
    "#Calculate the weights SEMs and means over slices\n",
    "for channel in channels:\n",
    "    counter = 0\n",
    "    for surface_functionality in surface_functionalities:\n",
    "        geo_holder = np.zeros((nslices, frames))\n",
    "        gSEM_holder = np.zeros((nslices, frames))\n",
    "        w_holder = np.zeros((nslices, frames))\n",
    "        slice_counter = 0\n",
    "        sample_name = \"well\"\n",
    "        for key in geo_slices:\n",
    "            if sample_name in key:\n",
    "                w_holder[slice_counter, :] = (1/(gSEM_slices[key]*gSEM_slices[key]))/wo_slices[sample_name]\n",
    "                geo_holder[slice_counter, :] = w_holder[slice_counter, :] * geo_slices[key]\n",
    "                gSEM_holder[slice_counter, :] = (1/(gSEM_slices[key]*gSEM_slices[key]))\n",
    "                slice_counter = slice_counter + 1\n",
    "        geo[sample_name] = np.sum(geo_holder, axis=0)\n",
    "        gS[sample_name] = np.sqrt((1/np.sum(gSEM_holder, axis=0)))\n",
    "        counter = counter + 1"
   ]
  },
  {
   "cell_type": "code",
   "execution_count": 10,
   "metadata": {
    "collapsed": false
   },
   "outputs": [
    {
     "data": {
      "text/plain": [
       "array([        nan,  0.00405228,  0.00588618,  0.00635038,  0.00644694,\n",
       "        0.00667509,  0.00695366,  0.00700412,  0.00708108,  0.00736413,\n",
       "        0.00774171,  0.00832964,  0.00895324,  0.00962946,  0.0104997 ,\n",
       "        0.01147661,  0.01297853,  0.01449897,  0.0165643 ,  0.01919505,\n",
       "        0.02219748,  0.02595819,  0.03044135,  0.0363914 ,  0.04342509,\n",
       "        0.05267736,  0.06341753,  0.07778845,  0.09539142,  0.11533717,\n",
       "        0.13903324,  0.16927054,  0.20471697,  0.24574322,  0.2927987 ,\n",
       "        0.34685478,  0.40858866,  0.47478246,  0.55123164,  0.63143628,\n",
       "        0.70560046,  0.77633002,  0.83717167,  0.90485598,  0.96438056,\n",
       "        0.99236305,  1.00978937,  1.00995381,  0.99995961,  0.98973298,\n",
       "        0.95879981,  0.92628497,  0.88243613,  0.83617503,  0.79138841,\n",
       "        0.74315757,  0.6963036 ,  0.64707582,  0.6045505 ,  0.55965563,\n",
       "        0.51840289,  0.47737129,  0.45508721,  0.47435282,  0.54807941,\n",
       "        0.65622025,  0.80531857,  0.96242339,  1.12942422])"
      ]
     },
     "execution_count": 10,
     "metadata": {},
     "output_type": "execute_result"
    }
   ],
   "source": [
    "np.exp(geo['well'])"
   ]
  },
  {
   "cell_type": "code",
   "execution_count": 11,
   "metadata": {
    "collapsed": false
   },
   "outputs": [],
   "source": [
    "for key in geo:\n",
    "    np.savetxt(DIR+'geoM2xy_{}.csv'.format(key), geo[key], delimiter=',')\n",
    "    np.savetxt(DIR+'gSEM_{}.csv'.format(key), gS[key], delimiter=',')"
   ]
  },
  {
   "cell_type": "code",
   "execution_count": null,
   "metadata": {
    "collapsed": true
   },
   "outputs": [],
   "source": []
  }
 ],
 "metadata": {
  "kernelspec": {
   "display_name": "Python 3",
   "language": "python",
   "name": "python3"
  },
  "language_info": {
   "codemirror_mode": {
    "name": "ipython",
    "version": 3
   },
   "file_extension": ".py",
   "mimetype": "text/x-python",
   "name": "python",
   "nbconvert_exporter": "python",
   "pygments_lexer": "ipython3",
   "version": "3.5.3"
  }
 },
 "nbformat": 4,
 "nbformat_minor": 0
}
