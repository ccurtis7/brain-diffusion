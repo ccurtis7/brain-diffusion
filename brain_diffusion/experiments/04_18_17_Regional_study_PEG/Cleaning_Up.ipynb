{
 "cells": [
  {
   "cell_type": "code",
   "execution_count": 2,
   "metadata": {
    "collapsed": false
   },
   "outputs": [],
   "source": [
    "import os\n",
    "import csv\n",
    "import sys\n",
    "module_path = os.path.abspath(os.path.join('C:\\\\Users\\\\koolk\\\\Desktop\\\\brain-diffusion\\\\Chad_functions_and_unittests'))\n",
    "if module_path not in sys.path:\n",
    "    sys.path.append(module_path)\n",
    "\n",
    "import matplotlib as mpl\n",
    "import matplotlib.pyplot as plt\n",
    "import numpy as np\n",
    "import numpy.ma as ma\n",
    "import scipy.stats as stat"
   ]
  },
  {
   "cell_type": "code",
   "execution_count": 3,
   "metadata": {
    "collapsed": false
   },
   "outputs": [],
   "source": [
    "import numpy as np\n",
    "from MSD_utils import get_data_pups, build_time_array, return_average, avg_all, graph_single_variable\n",
    "from MSD_utils import SD_all, return_SD, range_and_ticks, choose_y_axis_params, data_prep_for_plotting_pups\n",
    "from MSD_utils import fill_in_and_split, plot_traj_length_histogram, plot_traj, filter_out_short_traj\n",
    "from MSD_utils import plot_trajectory_overlay, quality_control\n",
    "\n",
    "from MSD_utils import diffusion_coefficient_point_derivative, diffusion_coefficient_linear_regression\n",
    "from MSD_utils import calculate_diffusion_coefficients, diffusion_bar_chart, summary_barcharts\n",
    "from MSD_utils import calculate_MMSDs, plot_general_histogram, plot_MSD_histogram, plot_all_MSD_histograms"
   ]
  },
  {
   "cell_type": "code",
   "execution_count": 6,
   "metadata": {
    "collapsed": false
   },
   "outputs": [],
   "source": [
    "path = \"./{genotype}/geoM2xy_{sample_name}.csv\"\n",
    "frames = 60\n",
    "SD_frames = [1, 7, 14, 15]\n",
    "conversion = (0.5, 1.93, 1)#(0.3, 3.95, 1)\n",
    "to_frame = 59\n",
    "dimension = \"2D\"\n",
    "time_to_calculate = 1\n",
    "\n",
    "parameters = {}\n",
    "parameters[\"channels\"] = [\"RED\"]\n",
    "parameters[\"genotypes\"] = [\"WT\"]\n",
    "parameters[\"pups\"] = [\"P1\", \"P2\", \"P3\"]\n",
    "parameters[\"surface functionalities\"] = [\"PEG\"]\n",
    "parameters[\"slices\"] = [\"S1\", \"S2\", \"S3\"]\n",
    "parameters[\"regions\"] = [\"cortex\"]\n",
    "parameters[\"replicates\"] = [1, 2, 3, 4, 5]\n",
    "\n",
    "parameters[\"slice_suffixes\"] = [\"a\", \"b\", \"c\"]\n",
    "\n",
    "base_name = \"WT\"\n",
    "test_bins = np.linspace(0, 75, 76)\n",
    "\n",
    "cut = 4\n",
    "path2 = \"./{genotype}/{pup}/{region}/{channel}/Traj_{sample_name}.tif.csv\"\n",
    "folder = \"./{genotype}/{pup}/{region}/{channel}/\"\n",
    "\n",
    "size = 16\n",
    "if_localn_error = True"
   ]
  },
  {
   "cell_type": "markdown",
   "metadata": {},
   "source": [
    "# Calculate Mean MSDs"
   ]
  },
  {
   "cell_type": "code",
   "execution_count": 7,
   "metadata": {
    "collapsed": false
   },
   "outputs": [
    {
     "name": "stderr",
     "output_type": "stream",
     "text": [
      "C:\\Users\\koolk\\Desktop\\brain-diffusion\\Chad_functions_and_unittests\\MSD_utils.py:1399: RuntimeWarning: divide by zero encountered in log\n",
      "  log_gM1x[num2+1] = np.log(gM1x[num2+1])\n",
      "C:\\Users\\koolk\\Desktop\\brain-diffusion\\Chad_functions_and_unittests\\MSD_utils.py:1400: RuntimeWarning: divide by zero encountered in log\n",
      "  log_gM1y[num2+1] = np.log(gM1y[num2+1])\n",
      "C:\\Users\\koolk\\Desktop\\brain-diffusion\\Chad_functions_and_unittests\\MSD_utils.py:1401: RuntimeWarning: divide by zero encountered in log\n",
      "  log_gM2xy[num2+1] = np.log(gM2xy[num2+1])\n",
      "C:\\Users\\koolk\\Miniconda3\\lib\\site-packages\\scipy\\stats\\stats.py:314: RuntimeWarning: divide by zero encountered in log\n",
      "  log_a = np.log(a)\n",
      "C:\\Users\\koolk\\Miniconda3\\lib\\site-packages\\numpy\\ma\\core.py:4185: UserWarning: Warning: converting a masked element to nan.\n",
      "  warnings.warn(\"Warning: converting a masked element to nan.\")\n",
      "C:\\Users\\koolk\\Desktop\\brain-diffusion\\Chad_functions_and_unittests\\MSD_utils.py:1408: RuntimeWarning: divide by zero encountered in log\n",
      "  np.log(gM1x[num2+1]))-np.std(np.log(gM1x[num2+1]))/np.sqrt(gM1x[num2+1].shape[0])))\n",
      "C:\\Users\\koolk\\Desktop\\brain-diffusion\\Chad_functions_and_unittests\\MSD_utils.py:1410: RuntimeWarning: divide by zero encountered in log\n",
      "  np.log(gM1y[num2+1]))-np.std(np.log(gM1y[num2+1]))/np.sqrt(gM1y[num2+1].shape[0])))\n",
      "C:\\Users\\koolk\\Desktop\\brain-diffusion\\Chad_functions_and_unittests\\MSD_utils.py:1412: RuntimeWarning: divide by zero encountered in log\n",
      "  gM2xy[num2+1]))-np.std(np.log(gM2xy[num2+1]))/np.sqrt(gM2xy[num2+1].shape[0])))\n",
      "C:\\Users\\koolk\\Miniconda3\\lib\\site-packages\\numpy\\ma\\core.py:867: RuntimeWarning: invalid value encountered in less_equal\n",
      "  return umath.less_equal(x, self.critical_value)\n"
     ]
    }
   ],
   "source": [
    "SM1x, SM1y, SM2xy = calculate_MMSDs(parameters, folder, size)"
   ]
  },
  {
   "cell_type": "code",
   "execution_count": 8,
   "metadata": {
    "collapsed": true
   },
   "outputs": [],
   "source": [
    "data, avg_over_slices, avg_over_pups, names_with_replicates, time, time_SD, average_over_slices, average_over_pups,\\\n",
    "    all_SD_over_slices, all_SD_over_pups = data_prep_for_plotting_pups(path, frames, SD_frames, conversion, to_frame, parameters)"
   ]
  },
  {
   "cell_type": "code",
   "execution_count": null,
   "metadata": {
    "collapsed": false
   },
   "outputs": [],
   "source": [
    "plot_all_MSD_histograms(parameters, folder, SM2xy, time, test_bins, 1, set_y_limit=True, y_range=1000, set_x_limit=True, x_range=60)"
   ]
  },
  {
   "cell_type": "markdown",
   "metadata": {},
   "source": [
    "# MSD Plots"
   ]
  },
  {
   "cell_type": "code",
   "execution_count": 9,
   "metadata": {
    "collapsed": true
   },
   "outputs": [],
   "source": [
    "y_range, ticks_y, dec_y, x_range, ticks_x, dec_x = 20, 2.5, 1, 5, 1, 1"
   ]
  },
  {
   "cell_type": "code",
   "execution_count": 10,
   "metadata": {
    "collapsed": false
   },
   "outputs": [],
   "source": [
    "# #Put dataset with largest y range here.\n",
    "\n",
    "# in_name1 = \"YG\"\n",
    "# in_name2 = \"YG\"\n",
    "\n",
    "# y_range, ticks_y, dec_y, x_range, ticks_x, dec_x = graph_single_variable(average_over_pups, all_SD_over_pups, time, time_SD, SD_frames, in_name1, in_name2, to_frame=to_frame,\n",
    "#                       modify_labels=True, label_identifier=\"PEG_\", base_name=base_name)\n",
    "# plt.show()"
   ]
  },
  {
   "cell_type": "code",
   "execution_count": 11,
   "metadata": {
    "collapsed": false
   },
   "outputs": [],
   "source": [
    "in_name1 = \"WT\"\n",
    "in_name2 = \"RED\"\n",
    "\n",
    "graph_single_variable(average_over_pups, all_SD_over_pups, time, time_SD, SD_frames, in_name1, in_name2, to_frame=to_frame, y_range=y_range,\n",
    "                      ticks_y=ticks_y, dec_y=dec_y, x_range=x_range, ticks_x=ticks_x, dec_x=dec_x,\n",
    "                      modify_labels=True, label_identifier=\"PEG_\", x_manual=True, base_name=base_name)\n",
    "plt.show()"
   ]
  },
  {
   "cell_type": "code",
   "execution_count": null,
   "metadata": {
    "collapsed": false
   },
   "outputs": [],
   "source": [
    "in_name1 = [\"cortex\", \"mid\"]\n",
    "in_name2 = [\"RED\", \"RED\"]\n",
    "\n",
    "for one in in_name1:\n",
    "    for two in in_name2:\n",
    "\n",
    "        graph_single_variable(average_over_slices, all_SD_over_slices, time, time_SD, SD_frames, one, two, to_frame=to_frame, y_range=y_range,\n",
    "                              ticks_y=ticks_y, dec_y=dec_y, x_range=x_range, ticks_x=ticks_x, dec_x=dec_x,\n",
    "                              modify_labels=True, label_identifier=\"PEG_\", x_manual=True, base_name=base_name)\n",
    "plt.show()"
   ]
  },
  {
   "cell_type": "markdown",
   "metadata": {},
   "source": [
    "# Trajectory Plots and Histograms"
   ]
  },
  {
   "cell_type": "code",
   "execution_count": null,
   "metadata": {
    "collapsed": false
   },
   "outputs": [],
   "source": [
    "quality_control(path2, folder, frames, conversion, parameters, cut)"
   ]
  },
  {
   "cell_type": "markdown",
   "metadata": {},
   "source": [
    "# Diffusion Coefficient Bar Charts"
   ]
  },
  {
   "cell_type": "code",
   "execution_count": null,
   "metadata": {
    "collapsed": false
   },
   "outputs": [],
   "source": [
    "p_derivative, lin_fit = calculate_diffusion_coefficients(parameters[\"channels\"], parameters[\"genotypes\"], parameters[\"pups\"],parameters[\"surface functionalities\"], parameters[\"slices\"],\n",
    "                                 parameters[\"regions\"], parameters[\"replicates\"], path, time, time_to_calculate, to_frame, dimension)"
   ]
  },
  {
   "cell_type": "code",
   "execution_count": null,
   "metadata": {
    "collapsed": false
   },
   "outputs": [],
   "source": [
    "summary_barcharts(p_derivative, parameters)\n",
    "\n",
    "from IPython.display import Image\n",
    "Image(filename='diffusion_barchart.png') "
   ]
  },
  {
   "cell_type": "code",
   "execution_count": null,
   "metadata": {
    "collapsed": true
   },
   "outputs": [],
   "source": []
  }
 ],
 "metadata": {
  "kernelspec": {
   "display_name": "Python 3",
   "language": "python",
   "name": "python3"
  },
  "language_info": {
   "codemirror_mode": {
    "name": "ipython",
    "version": 3
   },
   "file_extension": ".py",
   "mimetype": "text/x-python",
   "name": "python",
   "nbconvert_exporter": "python",
   "pygments_lexer": "ipython3",
   "version": "3.5.3"
  }
 },
 "nbformat": 4,
 "nbformat_minor": 0
}
