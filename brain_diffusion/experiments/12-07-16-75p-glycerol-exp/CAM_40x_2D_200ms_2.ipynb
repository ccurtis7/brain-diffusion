{
 "cells": [
  {
   "cell_type": "code",
   "execution_count": 1,
   "metadata": {
    "collapsed": false
   },
   "outputs": [],
   "source": [
    "import os\n",
    "import sys\n",
    "module_path = os.path.abspath(os.path.join('..'))\n",
    "if module_path not in sys.path:\n",
    "    sys.path.append(module_path)\n",
    "\n",
    "from trajectory_visualization import plot_trajectory, sidebyside, shift_trajectory, overlay, shift_trajectory3D\n",
    "from trajectory_visualization import plot_trajectories3D, plot_3Doverlay, plot_MSDorDeff, plot_MeanMSDorDeff, randtraj, multrandtraj\n",
    "from trajectory_visualization import randtraj2, plot_Mean2DMSDsorDeff, plot_MSDorDeffLR, LRfor3D2D, fillin, prettify\n",
    "from methods_of_Dcalc import Dpointder, Dlinalg, Dlinalgw\n",
    "from Diffusion_Functions import frame_adjust, MSD_Deff_Calcs, prettify2, fillin2\n",
    "\n",
    "import matplotlib as mpl\n",
    "import matplotlib.pyplot as plt\n",
    "import matplotlib.ticker as mtick\n",
    "import scipy.optimize as opt\n",
    "import scipy.stats as stat\n",
    "from mpl_toolkits.mplot3d import Axes3D\n",
    "from operator import itemgetter\n",
    "import random\n",
    "import numpy as np\n",
    "import numpy.ma as ma\n",
    "import numpy.linalg as la\n",
    "from mpl_toolkits.mplot3d import Axes3D\n",
    "\n",
    "pi = np.pi\n",
    "sin = np.sin\n",
    "cos = np.cos\n",
    "\n",
    "#I found an error that was causing huge problems with the arithmetic mean. There was one particle with a huge jump\n",
    "#That caused the MSDs to be really high (20 um jump? Crazy!).  We need to create some functionality to eliminate those \n",
    "#Obviously fake particles.  I will create a short code to filter particles with huge MSDS. "
   ]
  },
  {
   "cell_type": "code",
   "execution_count": 2,
   "metadata": {
    "collapsed": false
   },
   "outputs": [],
   "source": [
    "#Currently, my code only has capability to do frame-by-frame analysis on 1 video.  Perhaps future functionality will\n",
    "#be able to expand beyond this.  \n",
    "\n",
    "name = 'CAM_40x_2D_200ms'\n",
    "\n",
    "logplot = '{}_logplot'.format(name)\n",
    "Mplot = '{}_Mplot'.format(name)\n",
    "Dplot = '{}_Dplot'.format(name)\n",
    "Hplot = '{}_Hplot'.format(name)\n",
    "Hlogplot = '{}_Hlogplot'.format(name)\n",
    "Cplot = '{}_Cplot'.format(name)\n",
    "Tplot = '{}_Tplot'.format(name)\n",
    "\n",
    "conversion = dict() #First element is the umppx, second is fps\n",
    "\n",
    "conversion[1] = (0.16, 5.02, 1)\n",
    "#conversion[2] = (0.16, 5.02, 1)\n",
    "#conversion[3] = (0.16, 5.02, 1)\n",
    "# conversion[4] = (0.30, 5.31, 1)\n",
    "# conversion[5] = (0.30, 5.33, 1)\n",
    "# conversion[6] = (0.30, 5.33, 1)\n",
    "# conversion[7] = (0.30, 5.35, 1)\n",
    "\n",
    "trajectory = dict()\n",
    "cut = 5\n",
    "great = 50\n",
    "\n",
    "#Particles that you want manually filtered.\n",
    "filtered = False\n",
    "tofilt = np.array([4,  36,  82,  92, 126, 148, 151, 161, 162, 186, 209, 223, 234,\n",
    "       249, 266, 286, 298, 313, 316, 317, 334, 337, 340, 378, 431, 523,\n",
    "    32,  83, 114, 156, 176, 194, 214, 253, 260, 315, 320, 322, 332,\n",
    "       343, 371, 373, 377, 494])\n",
    "\n",
    "trajectory[1] = np.genfromtxt('../../sample_data/12-07-06-75p-glycerol-exp/CAM_40x_2D_200ms_2_T.csv',\n",
    "            delimiter =\",\")\n",
    "#trajectory[2] = np.genfromtxt('./confocal_1000ms_40x_2.csv',\n",
    "#            delimiter =\",\")\n",
    "#trajectory[3] = np.genfromtxt('./confocal_1000ms_40x_3.csv',\n",
    "#            delimiter =\",\")\n",
    "# trajectory[4] = np.genfromtxt('./CON_40x_2D_130ms_4_T.csv',\n",
    "#             delimiter =\",\")\n",
    "# trajectory[5] = np.genfromtxt('./CON_40x_2D_130ms_5_T.csv',\n",
    "#             delimiter =\",\")\n",
    "# trajectory[6] = np.genfromtxt('./CON_40x_2D_130ms_6_T.csv',\n",
    "#             delimiter =\",\")\n",
    "# trajectory[7] = np.genfromtxt('./CON_40x_2D_130ms_7_T.csv',\n",
    "#             delimiter =\",\")\n",
    "\n",
    "totvids = 1\n",
    "\n",
    "for num in range(1, totvids + 1):\n",
    "    \n",
    "    #Remove titles from columns\n",
    "    #trajectory[num]=np.delete(trajectory[num], 0,0)\n",
    "    #Remove the number column from dataset\n",
    "    trajectory[num]=np.delete(trajectory[num],0,1)\n",
    "\n",
    "#Collect trajectories of separate videos into one array\n",
    "#Comment this section out to make useable for a single trajectory\n",
    "parts = dict()\n",
    "tots = dict()\n",
    "newtots = dict()\n",
    "newtots[0] = 0\n",
    "tlen = dict()\n",
    "tlength = dict()\n",
    "tlength[0] = 0\n",
    "\n",
    "for num in range(1, totvids + 1):\n",
    "    tots[num] = trajectory[num][-1, 0].astype(np.int64)\n",
    "    parts[num] = tots[num]\n",
    "    counter = 1\n",
    "    newtots[num] = newtots[num-1] + tots[num]\n",
    "    \n",
    "    tlen[num] = trajectory[num].shape[0]\n",
    "    tlength[num] = tlength[num-1] + tlen[num]\n",
    "\n",
    "placeholder = np.zeros((tlength[totvids], 11))\n",
    "\n",
    "#     while counter < parts[num]:\n",
    "#         counter = counter + 1\n",
    "#         placeholder = np.append(lehi[num], final[num][counter], axis=0)\n",
    "\n",
    "for num in range(1, totvids + 1):\n",
    "    placeholder[tlength[num-1]:tlength[num], :] = trajectory[num]\n",
    "    placeholder[tlength[num-1]:tlength[num], 0] = placeholder[tlength[num-1]:tlength[num], 0] + newtots[num-1]\n",
    "\n",
    "# trajectory[1] = placeholder\n",
    "\n",
    "# trajectory[2][:,0] = trajectory[2][:,0] + tots[1]\n",
    "# placeholder = np.append(placeholder, trajectory[2], axis=0)\n",
    "# trajectory[3][:,0] = trajectory[3][:,0] + tots[2]\n",
    "# placeholder = np.append(placeholder, trajectory[3], axis=0)"
   ]
  },
  {
   "cell_type": "code",
   "execution_count": 3,
   "metadata": {
    "collapsed": false
   },
   "outputs": [
    {
     "data": {
      "text/plain": [
       "array([  7.44000000e+02,   4.50000000e+01,   9.59650000e+01,\n",
       "         3.75100000e+01,   0.00000000e+00,   5.94000000e-01,\n",
       "         1.04200000e+00,   1.50900000e+00,   2.38600000e+00,\n",
       "         4.06000000e+00,   5.60151000e+02])"
      ]
     },
     "execution_count": 3,
     "metadata": {},
     "output_type": "execute_result"
    }
   ],
   "source": [
    "placeholder[-1, :]"
   ]
  },
  {
   "cell_type": "code",
   "execution_count": 4,
   "metadata": {
    "collapsed": false
   },
   "outputs": [
    {
     "data": {
      "text/plain": [
       "(5385, 11)"
      ]
     },
     "execution_count": 4,
     "metadata": {},
     "output_type": "execute_result"
    }
   ],
   "source": [
    "trajectory[3].shape"
   ]
  },
  {
   "cell_type": "code",
   "execution_count": 5,
   "metadata": {
    "collapsed": false
   },
   "outputs": [
    {
     "data": {
      "text/plain": [
       "{0: 0, 1: 231, 2: 505, 3: 744}"
      ]
     },
     "execution_count": 5,
     "metadata": {},
     "output_type": "execute_result"
    }
   ],
   "source": [
    "newtots"
   ]
  },
  {
   "cell_type": "code",
   "execution_count": 6,
   "metadata": {
    "collapsed": false
   },
   "outputs": [
    {
     "data": {
      "text/plain": [
       "17666"
      ]
     },
     "execution_count": 6,
     "metadata": {},
     "output_type": "execute_result"
    }
   ],
   "source": [
    "6206+6075+5385"
   ]
  },
  {
   "cell_type": "code",
   "execution_count": 7,
   "metadata": {
    "collapsed": false
   },
   "outputs": [
    {
     "data": {
      "text/plain": [
       "5.414894389572004"
      ]
     },
     "execution_count": 7,
     "metadata": {},
     "output_type": "execute_result"
    }
   ],
   "source": [
    "#Theoretical diffusion calculation using Stokes-Einstein\n",
    "\n",
    "k = 1.380649 * 10**-23\n",
    "TC = 37\n",
    "TK = TC + 273\n",
    "mu1 = 1.002*10**-3; mu2 = 0.798*10**-3; TC1 = 20; TC2 = 30\n",
    "\n",
    "mu = (mu2 - mu1)*(TC - TC1)/(TC2 - TC1) + mu1\n",
    "radius = (128/2) * 10**-9 #m\n",
    "Deff1 = k*TK/(6*np.pi*mu*radius) #m2/s\n",
    "Deff2 = Deff1 * 10**12 #um2/s\n",
    "Deff2"
   ]
  },
  {
   "cell_type": "code",
   "execution_count": 8,
   "metadata": {
    "collapsed": true
   },
   "outputs": [],
   "source": [
    "def fillin2(data):\n",
    "    \"\"\"\n",
    "    Fills in blanks of arrays without shifting frames by the starting frame.  Compare to fillin.\n",
    "    \"\"\"\n",
    "    shap = int(max(data[:, 1])) + 1\n",
    "    shape1 = int(min(data[:, 1]))\n",
    "    newshap = shap - shape1\n",
    "    filledin = np.zeros((newshap, 5))\n",
    "    filledin[0, :] = data[0, :]\n",
    "\n",
    "    count = 0\n",
    "    new = 0\n",
    "    other = 0\n",
    "    tot = 0\n",
    "\n",
    "    for num in range(1, newshap):\n",
    "        if data[num-new, 1]-data[num-new-1, 1] == 1:\n",
    "            count = count + 1\n",
    "            filledin[num, :] = data[num-new, :]\n",
    "        elif data[num - new, 1]-data[num - new - 1, 1] > 1:\n",
    "            new = new + 1\n",
    "            iba = int(data[num - new+1, 1]-data[num - new, 1])\n",
    "            togoin = data[num - new]\n",
    "            togoin[1] = togoin[1] + 1\n",
    "            filledin[num, :] = togoin\n",
    "            # dataset[2] = np.insert(dataset[2], [num + new - 2], togoin, axis=0)\n",
    "\n",
    "        else:\n",
    "            other = other + 1\n",
    "        tot = count + new + other\n",
    "\n",
    "    return filledin"
   ]
  },
  {
   "cell_type": "code",
   "execution_count": 9,
   "metadata": {
    "collapsed": true
   },
   "outputs": [],
   "source": [
    "rawframes = placeholder[:, 1]\n",
    "#frames = np.linspace()\n",
    "frames = np.linspace(min(rawframes),max(rawframes), max(rawframes)+1).astype(np.int64)\n",
    "time = frames / conversion[1][1]\n",
    "\n",
    "x = dict()\n",
    "y = dict()\n",
    "z = dict()\n",
    "\n",
    "xs = dict()\n",
    "ys = dict()\n",
    "zs = dict()\n",
    "\n",
    "M1x = dict()\n",
    "M1y = dict()\n",
    "M1z = dict()\n",
    "M2xy = dict()\n",
    "M2xz = dict()\n",
    "M2yz = dict()\n",
    "M3 = dict()\n",
    "\n",
    "#Shifted dictionaries\n",
    "SM1x = dict()\n",
    "SM1y = dict()\n",
    "SM1z = dict()\n",
    "SM2xy = dict()\n",
    "SM2xz = dict()\n",
    "SM2yz = dict()\n",
    "SM3 = dict()\n",
    "\n",
    "SD1x = dict()\n",
    "SD1y = dict()\n",
    "SD1z = dict()\n",
    "SD2xy = dict()\n",
    "SD2xz = dict()\n",
    "SD2yz = dict()\n",
    "SD3 = dict()"
   ]
  },
  {
   "cell_type": "code",
   "execution_count": 10,
   "metadata": {
    "collapsed": false
   },
   "outputs": [
    {
     "data": {
      "text/plain": [
       "(46,)"
      ]
     },
     "execution_count": 10,
     "metadata": {},
     "output_type": "execute_result"
    }
   ],
   "source": [
    "time.shape"
   ]
  },
  {
   "cell_type": "code",
   "execution_count": 11,
   "metadata": {
    "collapsed": false
   },
   "outputs": [],
   "source": [
    "dataset = dict()\n",
    "\n",
    "rawdataset = np.zeros(placeholder.shape)\n",
    "particles = placeholder[:, 0]\n",
    "total = int(max(particles))\n",
    "total1 = total + 1\n",
    "rawdataset = placeholder[:, :]\n",
    "\n",
    "#Perform conversion on raw dataset\n",
    "# rawdataset[:, 2:4] = conversion[1][0] * rawdataset[:, 2:4]\n",
    "# rawdataset[:, 4] = conversion[1][2] * rawdataset[:, 4]\n",
    "\n",
    "fixed = np.zeros(placeholder.shape)\n",
    "fixed[:, 0:2] = rawdataset[:, 0:2]\n",
    "fixed[:, 2:4] = conversion[1][0] * rawdataset[:, 2:4]\n",
    "fixed[:, 4] = conversion[1][2] * rawdataset[:, 4]\n",
    "\n",
    "# Creates an array for each trajectory containing all xyz data\n",
    "for num in range(1, total1):\n",
    "\n",
    "    hold = np.where(particles == num)\n",
    "    itindex = hold[0]\n",
    "    min1 = min(itindex)\n",
    "    max1 = max(itindex)\n",
    "    dataset[num] = (fixed[min1:max1+1, 0:5])"
   ]
  },
  {
   "cell_type": "code",
   "execution_count": 12,
   "metadata": {
    "collapsed": false
   },
   "outputs": [
    {
     "data": {
      "text/plain": [
       "array([[ 540.     ,    0.     ,  294.90796,   26.8646 ,    0.     ],\n",
       "       [ 540.     ,    1.     ,  295.01832,   26.94892,    0.     ],\n",
       "       [ 540.     ,    2.     ,  294.89556,   26.89064,    0.     ],\n",
       "       [ 540.     ,    3.     ,  294.89184,   26.93032,    0.     ],\n",
       "       [ 540.     ,    4.     ,  294.81372,   26.94148,    0.     ],\n",
       "       [ 540.     ,    5.     ,  294.86456,   26.877  ,    0.     ],\n",
       "       [ 540.     ,    6.     ,  294.92284,   26.91792,    0.     ],\n",
       "       [ 540.     ,    7.     ,  294.91788,   26.7778 ,    0.     ],\n",
       "       [ 540.     ,    8.     ,  294.8286 ,   26.91048,    0.     ],\n",
       "       [ 540.     ,    9.     ,  295.01832,   26.86584,    0.     ],\n",
       "       [ 540.     ,   10.     ,  294.90052,   26.92784,    0.     ],\n",
       "       [ 540.     ,   11.     ,  295.00344,   26.9948 ,    0.     ],\n",
       "       [ 540.     ,   12.     ,  294.8968 ,   26.75796,    0.     ],\n",
       "       [ 540.     ,   13.     ,  295.027  ,   26.84352,    0.     ],\n",
       "       [ 540.     ,   14.     ,  294.99104,   26.89436,    0.     ],\n",
       "       [ 540.     ,   15.     ,  294.841  ,   26.86708,    0.     ],\n",
       "       [ 540.     ,   16.     ,  294.96748,   26.97   ,    0.     ],\n",
       "       [ 540.     ,   17.     ,  295.0518 ,   26.82244,    0.     ],\n",
       "       [ 540.     ,   18.     ,  294.83356,   26.9886 ,    0.     ],\n",
       "       [ 540.     ,   19.     ,  294.88192,   26.91048,    0.     ],\n",
       "       [ 540.     ,   20.     ,  294.8782 ,   26.85096,    0.     ],\n",
       "       [ 540.     ,   21.     ,  294.84596,   26.89064,    0.     ],\n",
       "       [ 540.     ,   22.     ,  294.93276,   26.93404,    0.     ],\n",
       "       [ 540.     ,   23.     ,  294.779  ,   26.8708 ,    0.     ],\n",
       "       [ 540.     ,   24.     ,  294.88936,   26.84724,    0.     ],\n",
       "       [ 540.     ,   25.     ,  294.8224 ,   26.94768,    0.     ],\n",
       "       [ 540.     ,   26.     ,  294.79884,   26.90428,    0.     ],\n",
       "       [ 540.     ,   27.     ,  294.96996,   26.80384,    0.     ],\n",
       "       [ 540.     ,   28.     ,  294.87696,   26.877  ,    0.     ],\n",
       "       [ 540.     ,   29.     ,  294.91912,   26.79764,    0.     ],\n",
       "       [ 540.     ,   30.     ,  294.92904,   27.0568 ,    0.     ],\n",
       "       [ 540.     ,   31.     ,  294.74924,   26.9638 ,    0.     ],\n",
       "       [ 540.     ,   32.     ,  294.86456,   26.86708,    0.     ],\n",
       "       [ 540.     ,   33.     ,  294.93772,   26.8336 ,    0.     ],\n",
       "       [ 540.     ,   34.     ,  294.83852,   26.83236,    0.     ],\n",
       "       [ 540.     ,   35.     ,  294.9092 ,   26.84104,    0.     ],\n",
       "       [ 540.     ,   36.     ,  294.85588,   26.8522 ,    0.     ],\n",
       "       [ 540.     ,   37.     ,  294.9464 ,   26.87452,    0.     ],\n",
       "       [ 540.     ,   38.     ,  294.87448,   26.88568,    0.     ],\n",
       "       [ 540.     ,   39.     ,  294.88316,   26.95016,    0.     ],\n",
       "       [ 540.     ,   40.     ,  295.03196,   27.00844,    0.     ],\n",
       "       [ 540.     ,   41.     ,  294.7356 ,   26.78276,    0.     ],\n",
       "       [ 540.     ,   42.     ,  294.84348,   26.9204 ,    0.     ],\n",
       "       [ 540.     ,   43.     ,  294.8782 ,   26.8832 ,    0.     ],\n",
       "       [ 540.     ,   44.     ,  294.91044,   26.87452,    0.     ],\n",
       "       [ 540.     ,   45.     ,  294.86084,   26.81376,    0.     ]])"
      ]
     },
     "execution_count": 12,
     "metadata": {},
     "output_type": "execute_result"
    }
   ],
   "source": [
    "dataset[540]"
   ]
  },
  {
   "cell_type": "code",
   "execution_count": 13,
   "metadata": {
    "collapsed": false
   },
   "outputs": [],
   "source": [
    "#I is a set of all nonzero elements in trajectories.\n",
    "I = dict()\n",
    "for num in range(1, total1):\n",
    "    #Construct x, y, z\n",
    "    dataset[num] = fillin2(dataset[num])\n",
    "    x[num] = np.zeros(frames.shape[0])\n",
    "    x[num][int(dataset[num][0,1]):int(dataset[num][-1,1])+1] = dataset[num][:, 2]\n",
    "    y[num] = np.zeros(frames.shape[0])\n",
    "    y[num][int(dataset[num][0,1]):int(dataset[num][-1,1])+1] = dataset[num][:, 3]\n",
    "    z[num] = np.zeros(frames.shape[0])\n",
    "    z[num][int(dataset[num][0,1]):int(dataset[num][-1,1])+1] = dataset[num][:, 4]\n",
    "    \n",
    "    xs[num] = np.zeros(frames.shape[0])\n",
    "    xs[num][0:int(dataset[num][-1,1])+1-int(dataset[num][0,1])] = dataset[num][:, 2]\n",
    "    ys[num] = np.zeros(frames.shape[0])\n",
    "    ys[num][0:int(dataset[num][-1,1])+1-int(dataset[num][0,1])] = dataset[num][:, 3]\n",
    "    zs[num] = np.zeros(frames.shape[0])\n",
    "    zs[num][0:int(dataset[num][-1,1])+1-int(dataset[num][0,1])] = dataset[num][:, 4]"
   ]
  },
  {
   "cell_type": "code",
   "execution_count": 14,
   "metadata": {
    "collapsed": false
   },
   "outputs": [
    {
     "data": {
      "text/plain": [
       "46"
      ]
     },
     "execution_count": 14,
     "metadata": {},
     "output_type": "execute_result"
    }
   ],
   "source": [
    "np.count_nonzero(x[300])"
   ]
  },
  {
   "cell_type": "code",
   "execution_count": 15,
   "metadata": {
    "collapsed": false
   },
   "outputs": [],
   "source": [
    "#I wrote a short bit of code to filter out trajectories that are too short to be included.  This also reduces computing\n",
    "#time by cutting down on MSDs that need to be calculated.  \n",
    "\n",
    "cutoff = cut\n",
    "x1 = dict()\n",
    "y1 = dict()\n",
    "z1 = dict()\n",
    "\n",
    "xs1 = dict()\n",
    "ys1 = dict()\n",
    "zs1 = dict()\n",
    "\n",
    "fifties = 0\n",
    "nones = 0\n",
    "\n",
    "for num in range(1, total1):\n",
    "    if np.count_nonzero(x[num]) < cutoff:\n",
    "        nones = nones + 1\n",
    "    else:\n",
    "        fifties = fifties + 1\n",
    "        x1[num - nones] = x[num]\n",
    "        y1[num - nones] = y[num]\n",
    "        z1[num - nones] = z[num]\n",
    "        \n",
    "        xs1[num - nones] = xs[num]\n",
    "        ys1[num - nones] = ys[num]\n",
    "        zs1[num - nones] = zs[num]\n",
    "        # I must also redefine the particle numbers to reflect the new set.\n",
    "        #teancum[num - nones][:, 0] = fifties\n",
    "\n",
    "x = x1\n",
    "y = y1\n",
    "z = z1\n",
    "\n",
    "xs = xs1\n",
    "ys = ys1\n",
    "zs = zs1"
   ]
  },
  {
   "cell_type": "code",
   "execution_count": 16,
   "metadata": {
    "collapsed": false
   },
   "outputs": [
    {
     "data": {
      "text/plain": [
       "array([ 284.24768,  284.425  ,  284.3258 ,  284.25884,  284.43864,\n",
       "        284.44856,  284.3134 ,  284.32704,  284.32084,  284.32456,\n",
       "        284.42252,  284.30472,  284.27496,  284.4932 ,  284.36796,\n",
       "        284.239  ,  284.2204 ,  284.44608,  284.30472,  284.19684,\n",
       "        284.2886 ,  284.3878 ,  284.1894 ,  284.15096,  284.394  ,\n",
       "        284.24272,  284.28984,  284.1584 ,  284.19808,  284.20676,\n",
       "        284.27124,  284.26628,  284.14848,  284.22908,  284.30596,\n",
       "        284.4126 ,  284.45848,  284.4002 ,  284.10632,  284.25884,\n",
       "        284.21668,  284.22908,  284.19312,  284.29356,  284.31712,\n",
       "        284.27124])"
      ]
     },
     "execution_count": 16,
     "metadata": {},
     "output_type": "execute_result"
    }
   ],
   "source": [
    "x[219]"
   ]
  },
  {
   "cell_type": "code",
   "execution_count": 17,
   "metadata": {
    "collapsed": false
   },
   "outputs": [
    {
     "data": {
      "text/plain": [
       "542"
      ]
     },
     "execution_count": 17,
     "metadata": {},
     "output_type": "execute_result"
    }
   ],
   "source": [
    "#fifties is the new total1 after filtering out short trajectories\n",
    "total1 = fifties + 1\n",
    "fifties"
   ]
  },
  {
   "cell_type": "code",
   "execution_count": 18,
   "metadata": {
    "collapsed": false
   },
   "outputs": [],
   "source": [
    "xymask = dict()\n",
    "\n",
    "for num in range(1, total1):\n",
    "\n",
    "    #Construct MSD and Deff dictionaries\n",
    "    M1x[num] = np.zeros(frames.shape[0])\n",
    "    M1x[num][0:frames.shape[0]] = 0\n",
    "    M1y[num] = np.zeros(frames.shape[0])\n",
    "    M1y[num][0:frames.shape[0]] = 0\n",
    "    M1z[num] = np.zeros(frames.shape[0])\n",
    "    M1z[num][0:frames.shape[0]] = 0\n",
    "    M2xy[num] = np.zeros(frames.shape[0])\n",
    "    M2xy[num][0:frames.shape[0]] = 0\n",
    "    M2xz[num] = np.zeros(frames.shape[0])\n",
    "    M2xz[num][0:frames.shape[0]] = 0\n",
    "    M2yz[num] = np.zeros(frames.shape[0])\n",
    "    M2yz[num][0:frames.shape[0]] = 0\n",
    "    M3[num] = np.zeros(frames.shape[0])\n",
    "    M3[num][0:frames.shape[0]] = 0\n",
    "    \n",
    "    SM1x[num] = np.zeros(frames.shape[0])\n",
    "    SM1y[num] = np.zeros(frames.shape[0])\n",
    "    SM1z[num] = np.zeros(frames.shape[0])\n",
    "    SM2xy[num] = np.zeros(frames.shape[0])\n",
    "    SM2xz[num] = np.zeros(frames.shape[0])\n",
    "    SM2yz[num] = np.zeros(frames.shape[0])\n",
    "    SM3[num] = np.zeros(frames.shape[0])\n",
    "    \n",
    "    SD1x[num] = np.zeros(frames.shape[0])\n",
    "    SD1y[num] = np.zeros(frames.shape[0])\n",
    "    SD1z[num] = np.zeros(frames.shape[0])\n",
    "    SD2xy[num] = np.zeros(frames.shape[0])\n",
    "    SD2xz[num] = np.zeros(frames.shape[0])\n",
    "    SD2yz[num] = np.zeros(frames.shape[0])\n",
    "    SD3[num] = np.zeros(frames.shape[0])\n",
    "    \n",
    "    #Fill in MSD and Deff dictionaries\n",
    "    I[num] = np.nonzero(x[num])[0]\n",
    "    first = I[num][0]\n",
    "    last = I[num][-1] + 1\n",
    "    startx = x[num][first]\n",
    "    starty = y[num][first]\n",
    "    startz = z[num][first]\n",
    "    \n",
    "    for num1 in range(first, last):\n",
    "        M1x[num][num1] = (x[num][num1] - startx)**2\n",
    "        M1y[num][num1] = (y[num][num1] - starty)**2\n",
    "        M1z[num][num1] = (z[num][num1] - startz)**2\n",
    "        M2xy[num][num1] = (x[num][num1] - startx)**2 + (y[num][num1] - starty)**2\n",
    "        M2xz[num][num1] = (x[num][num1] - startx)**2 + (z[num][num1] - startz)**2\n",
    "        M2yz[num][num1] = (z[num][num1] - startz)**2 + (y[num][num1] - starty)**2\n",
    "        M3[num][num1] = (z[num][num1] - startz)**2 + (y[num][num1] - starty)**2 + (x[num][num1] - startx)**2\n",
    "        \n",
    "#         M1x[num][first] = 'NaN'\n",
    "#         M1y[num][first] = 'NaN'\n",
    "#         M1z[num][first] = 'NaN'\n",
    "#         M2xy[num][first] = 'NaN'\n",
    "#         M2xz[num][first] = 'NaN'\n",
    "#         M2yz[num][first] = 'NaN'\n",
    "#         M3[num][first] = 'NaN'\n",
    "    M1x[num] = ma.masked_equal(M1x[num], 0)\n",
    "    M1y[num] = ma.masked_equal(M1y[num], 0)\n",
    "    M1z[num] = ma.masked_equal(M1z[num], 0)\n",
    "    M2xy[num] = ma.masked_equal(M2xy[num], 0)\n",
    "    M2xz[num] = ma.masked_equal(M2xz[num], 0)\n",
    "    M2yz[num] = ma.masked_equal(M2yz[num], 0)\n",
    "    M3[num] = ma.masked_equal(M3[num], 0)\n",
    "    \n",
    "    M1x[num] = ma.masked_greater(M1x[num], great)\n",
    "    M1y[num] = ma.masked_greater(M1y[num], great)\n",
    "    M1z[num] = ma.masked_greater(M1z[num], great)\n",
    "    M2xy[num] = ma.masked_greater(M2xy[num], great)\n",
    "    M2xz[num] = ma.masked_greater(M2xz[num], great)\n",
    "    M2yz[num] = ma.masked_greater(M2yz[num], great)\n",
    "    M3[num] = ma.masked_greater(M3[num], great)\n",
    "    \n",
    "    #Make shifted MSD arrays for geometric and arithmetic averages.\n",
    "    \n",
    "    if M2xy[num][~M2xy[num].mask].shape[0] != 0:\n",
    "        fir = np.nonzero(M2xy[num])[0][0] - 1\n",
    "        firl = M1x[num][fir:].shape[0]\n",
    "    else:\n",
    "        fir = 0\n",
    "        firl = 46\n",
    "    \n",
    "    SM1x[num][0:firl] = M1x[num][fir:]\n",
    "    SM1y[num][0:firl] = M1y[num][fir:]\n",
    "    SM1z[num][0:firl] = M1z[num][fir:]\n",
    "    SM2xy[num][0:firl] = M2xy[num][fir:]\n",
    "    SM2xz[num][0:firl] = M2xz[num][fir:]\n",
    "    SM2yz[num][0:firl] = M2yz[num][fir:]\n",
    "    SM3[num][0:firl] = M3[num][fir:]\n",
    "\n",
    "    SM1x[num] = ma.masked_greater(SM1x[num], great)\n",
    "    SM1y[num] = ma.masked_greater(SM1y[num], great)\n",
    "    SM1z[num] = ma.masked_greater(SM1z[num], great)\n",
    "    SM2xy[num] = ma.masked_greater(SM2xy[num], great)\n",
    "    SM2xz[num] = ma.masked_greater(SM2xz[num], great)\n",
    "    SM2yz[num] = ma.masked_greater(SM2yz[num], great)\n",
    "    SM3[num] = ma.masked_greater(SM3[num], great)\n",
    "\n",
    "    xymask[num] = SM2xy[num].recordmask\n",
    "    xs[num] = ma.array(xs[num], mask = xymask[num])\n",
    "    ys[num] = ma.array(ys[num], mask = xymask[num])\n",
    "    zs[num] = ma.array(zs[num], mask = xymask[num])\n",
    "    \n",
    "    xs[num] = ma.masked_equal(xs[num], 0)\n",
    "    ys[num] = ma.masked_equal(ys[num], 0)\n",
    "    zs[num] = ma.masked_equal(zs[num], 0)\n",
    "    \n",
    "    \n",
    "    SD1x[num][1:] = SM1x[num][1:]/(2*time[1:])\n",
    "    SD1y[num][1:] = SM1y[num][1:]/(2*time[1:])\n",
    "    SD1z[num][1:] = SM1z[num][1:]/(2*time[1:])\n",
    "    SD2xy[num][1:] = SM2xy[num][1:]/(4*time[1:])\n",
    "    SD2xz[num][1:] = SM2xz[num][1:]/(4*time[1:])\n",
    "    SD2yz[num][1:] = SM2yz[num][1:]/(4*time[1:])\n",
    "    SD3[num][1:] = SM3[num][1:]/(6*time[1:])\n",
    "\n",
    "    SM1x[num] = ma.masked_equal(SM1x[num], 0)\n",
    "    SM1y[num] = ma.masked_equal(SM1y[num], 0)\n",
    "    SM1z[num] = ma.masked_equal(SM1z[num], 0)\n",
    "    SM2xy[num] = ma.masked_equal(SM2xy[num], 0)\n",
    "    SM2xz[num] = ma.masked_equal(SM2xz[num], 0)\n",
    "    SM2yz[num] = ma.masked_equal(SM2yz[num], 0)\n",
    "    SM3[num] = ma.masked_equal(SM3[num], 0)\n",
    "\n",
    "    SD1x[num] = ma.masked_equal(SD1x[num], 0)\n",
    "    SD1y[num] = ma.masked_equal(SD1y[num], 0)\n",
    "    SD1z[num] = ma.masked_equal(SD1z[num], 0)\n",
    "    SD2xy[num] = ma.masked_equal(SD2xy[num], 0)\n",
    "    SD2xz[num] = ma.masked_equal(SD2xz[num], 0)\n",
    "    SD2yz[num] = ma.masked_equal(SD2yz[num], 0)\n",
    "    SD3[num] = ma.masked_equal(SD3[num], 0)"
   ]
  },
  {
   "cell_type": "code",
   "execution_count": 19,
   "metadata": {
    "collapsed": false
   },
   "outputs": [],
   "source": [
    "#Manually mask particle trajectories here that seem out of whack.\n",
    "\n",
    "if filtered == True:\n",
    "    for num in range(0, tofilt.shape[0]):\n",
    "        M1x[tofilt[num]] = ma.masked_greater(M1x[tofilt[num]], 0)\n",
    "        M1y[tofilt[num]] = ma.masked_greater(M1y[tofilt[num]], 0)\n",
    "        M1z[tofilt[num]] = ma.masked_greater(M1z[tofilt[num]], 0)\n",
    "        M2xy[tofilt[num]] = ma.masked_greater(M2xy[tofilt[num]], 0)\n",
    "        M2xz[tofilt[num]] = ma.masked_greater(M2xz[tofilt[num]], 0)\n",
    "        M2yz[tofilt[num]] = ma.masked_greater(M2yz[tofilt[num]], 0)\n",
    "        M3[tofilt[num]] = ma.masked_greater(M3[tofilt[num]], 0)\n",
    "    \n",
    "        SM1x[tofilt[num]] = ma.masked_greater(SM1x[tofilt[num]], 0)\n",
    "        SM1y[tofilt[num]] = ma.masked_greater(SM1y[tofilt[num]], 0)\n",
    "        SM1z[tofilt[num]] = ma.masked_greater(SM1z[tofilt[num]], 0)\n",
    "        SM2xy[tofilt[num]] = ma.masked_greater(SM2xy[tofilt[num]], 0)\n",
    "        SM2xz[tofilt[num]] = ma.masked_greater(SM2xz[tofilt[num]], 0)\n",
    "        SM2yz[tofilt[num]] = ma.masked_greater(SM2yz[tofilt[num]], 0)\n",
    "        SM3[tofilt[num]] = ma.masked_greater(SM3[tofilt[num]], 0)\n",
    "    \n",
    "        SD1x[tofilt[num]] = ma.masked_greater(SD1x[tofilt[num]], 0)\n",
    "        SD1y[tofilt[num]] = ma.masked_greater(SD1y[tofilt[num]], 0)\n",
    "        SD1z[tofilt[num]] = ma.masked_greater(SD1z[tofilt[num]], 0)\n",
    "        SD2xy[tofilt[num]] = ma.masked_greater(SD2xy[tofilt[num]], 0)\n",
    "        SD2xz[tofilt[num]] = ma.masked_greater(SD2xz[tofilt[num]], 0)\n",
    "        SD2yz[tofilt[num]] = ma.masked_greater(SD2yz[tofilt[num]], 0)\n",
    "        SD3[tofilt[num]] = ma.masked_greater(SD3[tofilt[num]], 0)\n",
    "        \n",
    "        xs[tofilt[num]] = ma.masked_greater(xs[tofilt[num]], 0)\n",
    "        ys[tofilt[num]] = ma.masked_greater(ys[tofilt[num]], 0)\n",
    "        zs[tofilt[num]] = ma.masked_greater(zs[tofilt[num]], 0)"
   ]
  },
  {
   "cell_type": "code",
   "execution_count": 20,
   "metadata": {
    "collapsed": false
   },
   "outputs": [
    {
     "data": {
      "text/plain": [
       "{50: array([  4.31911840e-03,   5.91053440e-03,   2.63867536e-02,\n",
       "          3.14423824e-02,   9.11643040e-03,   1.88356000e-03,\n",
       "          5.17248640e-03,   7.75104160e-03,   3.01369600e-04,\n",
       "          1.77746560e-03,   2.71232640e-03,   3.93625600e-04,\n",
       "          1.20547840e-03,   6.90228640e-03,   1.63123984e-02,\n",
       "          1.29312160e-03,   2.47999504e-02,   6.49636000e-03,\n",
       "          1.86049600e-04,   3.39655840e-03,   2.22029440e-03,\n",
       "          1.38768400e-02,   7.53424000e-03,   1.77746560e-03,\n",
       "          1.20547840e-03,   1.63123984e-02,   1.63123984e-02,\n",
       "          3.45960000e-04,   1.00881936e-02,   3.69177760e-03,\n",
       "          7.53424000e-03,   1.99272960e-03,   6.15040000e-06,\n",
       "          6.15040000e-04,   1.53760000e-04,   2.59854400e-04,\n",
       "          7.53424000e-05,   2.58470560e-03,   8.64900000e-03,\n",
       "          1.20547840e-03,   1.57450240e-03,   1.77746560e-03,\n",
       "          2.59854400e-04,   1.16380944e-02,   6.15040000e-06])}"
      ]
     },
     "execution_count": 20,
     "metadata": {},
     "output_type": "execute_result"
    }
   ],
   "source": [
    "#np.count_nonzero(M1x[495])\n",
    "shift = next((i for i, x in enumerate(M1x[50]) if x), None)\n",
    "sM1x = dict()\n",
    "sM1x[50] = np.zeros(frames.shape[0] - shift)\n",
    "for num in range(0, M1x[50].shape[0] - shift):\n",
    "    sM1x[50][num] = M1x[50][num + shift]\n",
    "sM1x"
   ]
  },
  {
   "cell_type": "code",
   "execution_count": 21,
   "metadata": {
    "collapsed": false
   },
   "outputs": [],
   "source": [
    "#Each entry in yes is an array of particles that are in the given frame.  The frame is given by the index of yes.\n",
    "yes = dict()\n",
    "yessize = dict()\n",
    "for num1 in range(1, frames.shape[0]+1):\n",
    "    count = 0\n",
    "    yes[num1] = np.zeros(total1).astype(np.int64)\n",
    "    for num in range(1, total1):\n",
    "        check = num1 in I[num]\n",
    "        if check == True:\n",
    "            yes[num1][count] = num\n",
    "            count = count + 1\n",
    "    iindex = np.where(yes[num1]==max(yes[num1]))[0][0]\n",
    "    yes[num1] = yes[num1][0:iindex]"
   ]
  },
  {
   "cell_type": "code",
   "execution_count": 22,
   "metadata": {
    "collapsed": false
   },
   "outputs": [
    {
     "name": "stderr",
     "output_type": "stream",
     "text": [
      "C:\\Users\\koolk\\Miniconda3\\lib\\site-packages\\numpy\\ma\\core.py:4085: UserWarning: Warning: converting a masked element to nan.\n",
      "  warnings.warn(\"Warning: converting a masked element to nan.\")\n"
     ]
    }
   ],
   "source": [
    "#And the FBF analyis\n",
    "framed = dict()\n",
    "fM1y = dict()\n",
    "fM1z = dict()\n",
    "fM2xy = dict()\n",
    "fM2xz = dict()\n",
    "fM2yz = dict()\n",
    "fM3 = dict()\n",
    "\n",
    "#Due to some issues with the first frame being a NaN, my for loop is cut one short.  Get funky results otherwise.\n",
    "for num2 in range(1, frames.shape[0]):\n",
    "    framed[num2] = np.zeros(frames.shape[0])\n",
    "    fM1y[num2] = np.zeros(frames.shape[0])\n",
    "    fM1z[num2] = np.zeros(frames.shape[0])\n",
    "    fM2xy[num2] = np.zeros(frames.shape[0])\n",
    "    fM2xz[num2] = np.zeros(frames.shape[0])\n",
    "    fM2yz[num2] = np.zeros(frames.shape[0])\n",
    "    fM3[num2] = np.zeros(frames.shape[0])\n",
    "    \n",
    "    for num1 in range(0, frames.shape[0]):\n",
    "        frame = np.zeros(yes[num2].shape[0])\n",
    "        fmM1y = np.zeros(yes[num2].shape[0])\n",
    "        fmM1z = np.zeros(yes[num2].shape[0])\n",
    "        fmM2xy = np.zeros(yes[num2].shape[0])\n",
    "        fmM2xz = np.zeros(yes[num2].shape[0])\n",
    "        fmM2yz = np.zeros(yes[num2].shape[0])\n",
    "        fmM3 = np.zeros(yes[num2].shape[0])\n",
    "        \n",
    "        for num in range(0, yes[num2].shape[0]):\n",
    "            frame[num] = M1x[yes[num2][num]][num1]\n",
    "            fmM1y[num] = M1y[yes[num2][num]][num1]\n",
    "            fmM1z[num] = M1z[yes[num2][num]][num1]\n",
    "            fmM2xy[num] = M2xy[yes[num2][num]][num1]\n",
    "            fmM2xz[num] = M2xz[yes[num2][num]][num1]\n",
    "            fmM2yz[num] = M2yz[yes[num2][num]][num1]\n",
    "            fmM3[num] = M3[yes[num2][num]][num1]\n",
    "        frame = ma.masked_invalid(frame)\n",
    "        fmM1y = ma.masked_invalid(fmM1y)\n",
    "        fmM1z = ma.masked_invalid(fmM1z)\n",
    "        fmM2xy = ma.masked_invalid(fmM2xy)\n",
    "        fmM2xz = ma.masked_invalid(fmM2xz)\n",
    "        fmM2yz = ma.masked_invalid(fmM2yz)\n",
    "        fmM3 = ma.masked_invalid(fmM3)\n",
    "        \n",
    "        framed[num2][num1] = stat.gmean(frame)\n",
    "        fM1y[num2][num1] = stat.gmean(fmM1y)\n",
    "        fM1z[num2][num1] = stat.gmean(fmM1z)\n",
    "        fM2xy[num2][num1] = stat.gmean(fmM2xy)\n",
    "        fM2xz[num2][num1] = stat.gmean(fmM2xz)\n",
    "        fM2yz[num2][num1] = stat.gmean(fmM2yz)\n",
    "        fM3[num2][num1] = stat.gmean(fmM3)"
   ]
  },
  {
   "cell_type": "code",
   "execution_count": 23,
   "metadata": {
    "collapsed": false
   },
   "outputs": [],
   "source": [
    "#Old way of calculating the FBF averages.\n",
    "\n",
    "# FM1x = np.zeros(frames.shape[0])\n",
    "# FM1y = np.zeros(frames.shape[0])\n",
    "# FM1z = np.zeros(frames.shape[0])\n",
    "# FM2xy = np.zeros(frames.shape[0])\n",
    "# FM2xz = np.zeros(frames.shape[0])\n",
    "# FM2yz = np.zeros(frames.shape[0])\n",
    "# FM3 = np.zeros(frames.shape[0])\n",
    "\n",
    "# for num in range(1, frames.shape[0]):\n",
    "#     FM1x = FM1x + framed[num]\n",
    "#     FM1y = FM1y + fM1y[num]\n",
    "#     FM1z = FM1z + fM1z[num]\n",
    "#     FM2xy = FM2xy + fM2xy[num]\n",
    "#     FM2xz = FM2xz + fM2xz[num]\n",
    "#     FM2yz = FM2yz + fM2yz[num]\n",
    "#     FM3 = FM3 + fM3[num]\n",
    "    \n",
    "# FM1x = FM1x/frames.shape[0]\n",
    "# FM1y = FM1y/frames.shape[0]\n",
    "# FM1z = FM1z/frames.shape[0]\n",
    "# FM2xy = FM2xy/frames.shape[0]\n",
    "# FM2xz = FM2xz/frames.shape[0]\n",
    "# FM2yz = FM2yz/frames.shape[0]\n",
    "# FM3 = FM3/frames.shape[0]\n",
    "\n"
   ]
  },
  {
   "cell_type": "code",
   "execution_count": 24,
   "metadata": {
    "collapsed": false
   },
   "outputs": [],
   "source": [
    "FM1x = np.zeros(frames.shape[0])\n",
    "FM1y = np.zeros(frames.shape[0])\n",
    "FM1z = np.zeros(frames.shape[0])\n",
    "FM2xy = np.zeros(frames.shape[0])\n",
    "FM2xz = np.zeros(frames.shape[0])\n",
    "FM2yz = np.zeros(frames.shape[0])\n",
    "FM3 = np.zeros(frames.shape[0])\n",
    "\n",
    "st_FM1x = np.zeros(frames.shape[0])\n",
    "st_FM1y = np.zeros(frames.shape[0])\n",
    "st_FM1z = np.zeros(frames.shape[0])\n",
    "st_FM2xy = np.zeros(frames.shape[0])\n",
    "st_FM2xz = np.zeros(frames.shape[0])\n",
    "st_FM2yz = np.zeros(frames.shape[0])\n",
    "st_FM3 = np.zeros(frames.shape[0])\n",
    "\n",
    "swframed = dict()\n",
    "swfM1y = dict()\n",
    "swfM1z = dict()\n",
    "swfM2xy = dict()\n",
    "swfM2xz = dict()\n",
    "swfM2yz = dict()\n",
    "swfM3 = dict()\n",
    "\n",
    "for num in range(1, frames.shape[0]+1):\n",
    "    swframed[num] = np.zeros(frames.shape[0]-1)\n",
    "    swfM1y[num] = np.zeros(frames.shape[0]-1)\n",
    "    swfM1z[num] = np.zeros(frames.shape[0]-1)\n",
    "    swfM2xy[num] = np.zeros(frames.shape[0]-1)\n",
    "    swfM2xz[num] = np.zeros(frames.shape[0]-1)\n",
    "    swfM2yz[num] = np.zeros(frames.shape[0]-1)\n",
    "    swfM3[num] = np.zeros(frames.shape[0]-1)\n",
    "    \n",
    "    for num1 in range(1, frames.shape[0]):\n",
    "        swframed[num][num1-1] = framed[num1][num-1]\n",
    "        swfM1y[num][num1-1] = fM1y[num1][num-1]\n",
    "        swfM1z[num][num1-1] = fM1z[num1][num-1]\n",
    "        swfM2xy[num][num1-1] = fM2xy[num1][num-1]\n",
    "        swfM2xz[num][num1-1] = fM2xz[num1][num-1]\n",
    "        swfM2yz[num][num1-1] = fM2yz[num1][num-1]\n",
    "        swfM3[num][num1-1] = fM3[num1][num-1]\n",
    "\n",
    "for num in range(1, frames.shape[0]+1):\n",
    "    FM1x[num-1] = np.mean(swframed[num])\n",
    "    FM1y[num-1] = np.mean(swfM1y[num])\n",
    "    FM1z[num-1] = np.mean(swfM1z[num])\n",
    "    FM2xy[num-1] = np.mean(swfM2xy[num])\n",
    "    FM2xz[num-1] = np.mean(swfM2xz[num])\n",
    "    FM2yz[num-1] = np.mean(swfM2yz[num])\n",
    "    FM3[num-1] = np.mean(swfM3[num])\n",
    "\n",
    "    st_FM1x[num-1] = np.std(swframed[num])\n",
    "    st_FM1y[num-1] = np.std(swfM1y[num])\n",
    "    st_FM1z[num-1] = np.std(swfM1z[num])\n",
    "    st_FM2xy[num-1] = np.std(swfM2xy[num])\n",
    "    st_FM2xz[num-1] = np.std(swfM2xz[num])\n",
    "    st_FM2yz[num-1] = np.std(swfM2yz[num])\n",
    "    st_FM3[num-1] = np.std(swfM3[num])"
   ]
  },
  {
   "cell_type": "code",
   "execution_count": 25,
   "metadata": {
    "collapsed": false
   },
   "outputs": [
    {
     "data": {
      "text/plain": [
       "(45,)"
      ]
     },
     "execution_count": 25,
     "metadata": {},
     "output_type": "execute_result"
    }
   ],
   "source": [
    "ty = dict()\n",
    "\n",
    "for num in range(1, frames.shape[0]):\n",
    "    ty[num] = np.zeros(frames.shape[0]-1)\n",
    "    \n",
    "    for num1 in range(1, frames.shape[0]):\n",
    "        ty[num][num1-1] = framed[num1][num-1]\n",
    "\n",
    "ty[45].shape"
   ]
  },
  {
   "cell_type": "code",
   "execution_count": 26,
   "metadata": {
    "collapsed": false
   },
   "outputs": [
    {
     "data": {
      "text/plain": [
       "array([ 0.00480966,  0.00480966,  0.00480966,  0.00480966,  0.00475899,\n",
       "        0.00475899,  0.00475899,  0.00475899,  0.00475899,  0.00475899,\n",
       "        0.00475899,  0.00475899,  0.00473374,  0.00476918,  0.00476918,\n",
       "        0.00476918,  0.00476918,  0.00476918,  0.00477731,  0.00477731,\n",
       "        0.00477731,  0.00479031,  0.00480719,  0.00480719,  0.00480719,\n",
       "        0.00480719,  0.00488113,  0.00493024,  0.00494329,  0.00495766,\n",
       "        0.00499457,  0.00503251,  0.00503251,  0.00499205,  0.00494807,\n",
       "        0.00499139,  0.00502388,  0.00498949,  0.00498949,  0.00502337,\n",
       "        0.00508478,  0.00508478,  0.00508478,  0.00508478,  0.00508478])"
      ]
     },
     "execution_count": 26,
     "metadata": {},
     "output_type": "execute_result"
    }
   ],
   "source": [
    "swframed[46]"
   ]
  },
  {
   "cell_type": "code",
   "execution_count": 27,
   "metadata": {
    "collapsed": false
   },
   "outputs": [
    {
     "data": {
      "text/plain": [
       "array([        nan,  0.00240835,  0.00139966,  0.00189864,  0.0020374 ,\n",
       "        0.00214677,  0.00200484,  0.002061  ,  0.00167364,  0.00192637,\n",
       "        0.00228802,  0.00214348,  0.00218059,  0.00233437,  0.00244532,\n",
       "        0.00229995,  0.00263061,  0.00314033,  0.00246232,  0.00277585,\n",
       "        0.00273753,  0.00280447,  0.00326733,  0.00324396,  0.00378958,\n",
       "        0.00345684,  0.00354039,  0.0035148 ,  0.00323551,  0.00341907,\n",
       "        0.00435647,  0.00409122,  0.00316787,  0.00321058,  0.00378844,\n",
       "        0.00412293,  0.00300384,  0.00378123,  0.00418654,  0.00465427,\n",
       "        0.00439011,  0.00488274,  0.00399087,  0.00449355,  0.00370223,\n",
       "        0.00487544])"
      ]
     },
     "execution_count": 27,
     "metadata": {},
     "output_type": "execute_result"
    }
   ],
   "source": [
    "FM1x"
   ]
  },
  {
   "cell_type": "code",
   "execution_count": 28,
   "metadata": {
    "collapsed": false
   },
   "outputs": [
    {
     "data": {
      "text/plain": [
       "(377,)"
      ]
     },
     "execution_count": 28,
     "metadata": {},
     "output_type": "execute_result"
    }
   ],
   "source": [
    "yes[1].shape"
   ]
  },
  {
   "cell_type": "code",
   "execution_count": null,
   "metadata": {
    "collapsed": true
   },
   "outputs": [],
   "source": []
  },
  {
   "cell_type": "code",
   "execution_count": 29,
   "metadata": {
    "collapsed": false
   },
   "outputs": [],
   "source": [
    "FD1x = FM1x/time\n",
    "FD1y = FM1y/time\n",
    "FD1z = FM1z/time\n",
    "FD2xy = FM2xy/time\n",
    "FD2xz = FM2xz/time\n",
    "FD2yz = FM2yz/time\n",
    "FD3 = FM3/time"
   ]
  },
  {
   "cell_type": "code",
   "execution_count": 30,
   "metadata": {
    "collapsed": true
   },
   "outputs": [],
   "source": [
    "def plot_MLOG(M2xy, Mx, My, time, dec1, dec2, datatype, filename, limit1, limit2, tick1, tick2):\n",
    "    \"\"\"\n",
    "    Plots the MSDs or Deffs from a trajectory dataset.\n",
    "\n",
    "    n1: particle numbers (typically 0)\n",
    "    n2: time (typically 1)\n",
    "    n3: MSDs or Deffs (11 or 15 typically)\n",
    "    \"\"\"\n",
    "\n",
    "    M2 = M2xy\n",
    "    Mx = Mx\n",
    "    My = My\n",
    "    t = time\n",
    "    \n",
    "    #I will need to calculate standard deviations eventually\n",
    "#     #Now to calculate the standard dev at each point:\n",
    "#     for num in range (1, total1):\n",
    "#         SDunit = (MSD[num] - MMSD)**2\n",
    "#         SD = SD + SDunit\n",
    "#     SD = np.sqrt(SD/total1)\n",
    "#     SE = SD/np.sqrt(total1)\n",
    "    \n",
    "#     #Linear algebra to find Deff:\n",
    "#     t = time[1][:]\n",
    "#     w = dict()\n",
    "#     line = dict()\n",
    "#     A = np.ones((np.shape(t)[0], 2))\n",
    "#     A[:, 0] = t\n",
    "#     w[0] = np.linalg.lstsq(A, MMSD[:, 0])[0]\n",
    "#     w[1] = np.linalg.lstsq(A, MMSD[:, 1])[0]\n",
    "#     w[2] = np.linalg.lstsq(A, MMSD[:, 2])[0]\n",
    "#     line[0] = w[0][0]*t + w[0][1]\n",
    "#     line[1] = w[1][0]*t + w[1][1]\n",
    "#     line[2] = w[2][0]*t + w[2][1]\n",
    "    \n",
    "#     #Linear algebra for fit on log plot:\n",
    "#     wl = dict()\n",
    "#     linel = dict()\n",
    "#     lt = np.log(t)\n",
    "#     lA = np.ones((np.shape(t)[0], 2))\n",
    "#     lA[:, 0] = lt\n",
    "#     lM = np.log(MMSD)\n",
    "#     wl[0] = np.linalg.lstsq(lA, lM[:, 0])[0]\n",
    "#     wl[1] = np.linalg.lstsq(lA, lM[:, 1])[0]\n",
    "#     wl[2] = np.linalg.lstsq(lA, lM[:, 2])[0]\n",
    "#     linel[0] = np.exp(wl[0][0]*lt + wl[0][1])\n",
    "#     linel[1] = np.exp(wl[1][0]*lt + wl[1][1])\n",
    "#     linel[2] = np.exp(wl[2][0]*lt + wl[2][1])\n",
    "\n",
    "    # Creates figure\n",
    "    fig = plt.figure(figsize=(24, 18), dpi=80)\n",
    "    ax = fig.add_subplot(111)\n",
    "    # ax.set_title('Particle Trajectories', x=0.5, y=1.15)\n",
    "\n",
    "    ax.plot(t, M2, linestyle='', linewidth=10, label='2D', marker='o', ms=10, color='blue')\n",
    "    ax.plot(t, Mx, linestyle='', linewidth=10, label='1D x', marker='o', ms=10, color='red')\n",
    "    ax.plot(t, My, linestyle='', linewidth=10, label='1D x', marker='o', ms=10, color='green')\n",
    "    \n",
    "#     ax.errorbar(t, MMSD[:, 0], yerr=SE[:, 0], fmt='', linestyle='', capsize=7, capthick=2, elinewidth=2, color='blue')\n",
    "#     ax.errorbar(t, MMSD[:, 1], yerr=SE[:, 1], fmt='', linestyle='', capsize=7, capthick=2, elinewidth=2, color='red')\n",
    "#     ax.errorbar(t, MMSD[:, 2], yerr=SE[:, 2], fmt='', linestyle='', capsize=7, capthick=2, elinewidth=2, color='green')\n",
    "    \n",
    "    \n",
    "#     ax.plot(t, linel[0], linewidth=3, color='blue')\n",
    "#     ax.plot(t, linel[1], linewidth=3, color='red')\n",
    "#     ax.plot(t, linel[2], linewidth=3, color='green')\n",
    "    \n",
    "    # A few adjustments to prettify the graph\n",
    "    for item in ([ax.xaxis.label, ax.yaxis.label] +\n",
    "                 ax.get_xticklabels() + ax.get_yticklabels()):\n",
    "        item.set_fontsize(70)\n",
    "\n",
    "    xmajor_ticks = np.arange(0, limit1, tick1)\n",
    "    ymajor_ticks = np.arange(0, limit2, tick2)\n",
    "\n",
    "    hfont = {'fontname':'Arial'}\n",
    "    ax.set_xticks(xmajor_ticks)\n",
    "    ax.set_yticks(ymajor_ticks)\n",
    "    ax.title.set_fontsize(70)\n",
    "    ax.set_xlabel('Time (s)', fontsize=115, **hfont)\n",
    "    ax.set_ylabel(r'MSD ($\\mu$m$^2$)', fontsize=115, **hfont)\n",
    "    ax.tick_params(direction='out', pad=16)\n",
    "    ax.legend(loc=(0.05, 0.61), prop={'size': 70})\n",
    "    plt.gca().xaxis.set_major_formatter(mpl.ticker.FormatStrFormatter('%.{}f'.format(dec1)))\n",
    "    plt.gca().yaxis.set_major_formatter(mpl.ticker.FormatStrFormatter('%.{}f'.format(dec2)))\n",
    "\n",
    "    \n",
    "    plt.yscale('log')\n",
    "    plt.xscale('log')\n",
    "    plt.gca().set_xlim([0.1, limit1])\n",
    "    plt.gca().set_ylim([0.0001, limit2])\n",
    "\n",
    "    # Save your figure\n",
    "    plt.savefig('{}.png'.format(filename), bbox_inches='tight')\n",
    "    return M2, Mx"
   ]
  },
  {
   "cell_type": "code",
   "execution_count": 31,
   "metadata": {
    "collapsed": false
   },
   "outputs": [],
   "source": [
    "one1, bleh = plot_MLOG(FM2xy, FM1x, FM1y, time, 1, 1, 'MSD (um^2)', logplot, 100.1, 0.1, 1, 1)\n",
    "plt.show()"
   ]
  },
  {
   "cell_type": "code",
   "execution_count": 32,
   "metadata": {
    "collapsed": true
   },
   "outputs": [],
   "source": [
    "def plot_M(M2xy, Mx, My, time, dec1, dec2, datatype, filename, limit1, limit2, tick1, tick2):\n",
    "    \"\"\"\n",
    "    Plots the MSDs or Deffs from a trajectory dataset.\n",
    "\n",
    "    n1: particle numbers (typically 0)\n",
    "    n2: time (typically 1)\n",
    "    n3: MSDs or Deffs (11 or 15 typically)\n",
    "    \"\"\"\n",
    "\n",
    "    M2 = M2xy\n",
    "    Mx = Mx\n",
    "    My = My\n",
    "    t = time\n",
    "    \n",
    "#     #Linear algebra to find Deff:\n",
    "#     t = time[1][:]\n",
    "#     w = dict()\n",
    "#     line = dict()\n",
    "#     A = np.ones((np.shape(t)[0], 2))\n",
    "#     A[:, 0] = t\n",
    "#     w[0] = np.linalg.lstsq(A, MMSD[:, 0])[0]\n",
    "#     w[1] = np.linalg.lstsq(A, MMSD[:, 1])[0]\n",
    "#     w[2] = np.linalg.lstsq(A, MMSD[:, 2])[0]\n",
    "#     line[0] = w[0][0]*t + w[0][1]\n",
    "#     line[1] = w[1][0]*t + w[1][1]\n",
    "#     line[2] = w[2][0]*t + w[2][1]\n",
    "    \n",
    "#     #Linear algebra for fit on log plot:\n",
    "#     wl = dict()\n",
    "#     linel = dict()\n",
    "#     lt = np.log(t)\n",
    "#     lA = np.ones((np.shape(t)[0], 2))\n",
    "#     lA[:, 0] = lt\n",
    "#     lM = np.log(MMSD)\n",
    "#     wl[0] = np.linalg.lstsq(lA, lM[:, 0])[0]\n",
    "#     wl[1] = np.linalg.lstsq(lA, lM[:, 1])[0]\n",
    "#     wl[2] = np.linalg.lstsq(lA, lM[:, 2])[0]\n",
    "#     linel[0] = np.exp(wl[0][0]*lt + wl[0][1])\n",
    "#     linel[1] = np.exp(wl[1][0]*lt + wl[1][1])\n",
    "#     linel[2] = np.exp(wl[2][0]*lt + wl[2][1])\n",
    "\n",
    "    # Creates figure\n",
    "    fig = plt.figure(figsize=(24, 18), dpi=80)\n",
    "    ax = fig.add_subplot(111)\n",
    "    # ax.set_title('Particle Trajectories', x=0.5, y=1.15)\n",
    "\n",
    "    ax.plot(t, M2, linestyle='', linewidth=10, label='2D', marker='o', ms=10, color='blue')\n",
    "    ax.plot(t, Mx, linestyle='', linewidth=10, label='1D x', marker='o', ms=10, color='red')\n",
    "    ax.plot(t, My, linestyle='', linewidth=10, label='1D x', marker='o', ms=10, color='green')\n",
    "    \n",
    "#     ax.errorbar(t, MMSD[:, 0], yerr=SE[:, 0], fmt='', linestyle='', capsize=7, capthick=2, elinewidth=2, color='blue')\n",
    "#     ax.errorbar(t, MMSD[:, 1], yerr=SE[:, 1], fmt='', linestyle='', capsize=7, capthick=2, elinewidth=2, color='red')\n",
    "#     ax.errorbar(t, MMSD[:, 2], yerr=SE[:, 2], fmt='', linestyle='', capsize=7, capthick=2, elinewidth=2, color='green')\n",
    "    \n",
    "#     ax.plot(t, line[0], linewidth=3, color='blue')\n",
    "#     ax.plot(t, line[1], linewidth=3, color='red')\n",
    "#     ax.plot(t, line[2], linewidth=3, color='green')\n",
    "    \n",
    "    #ax.plot(t, linel[0], linewidth=3, color='blue')\n",
    "    #ax.plot(t, linel[1], linewidth=3, color='red')\n",
    "    #ax.plot(t, linel[2], linewidth=3, color='green')\n",
    "    \n",
    "    # A few adjustments to prettify the graph\n",
    "    for item in ([ax.xaxis.label, ax.yaxis.label] +\n",
    "                 ax.get_xticklabels() + ax.get_yticklabels()):\n",
    "        item.set_fontsize(70)\n",
    "\n",
    "    xmajor_ticks = np.arange(0, limit1, tick1)\n",
    "    ymajor_ticks = np.arange(0, limit2, tick2)\n",
    "\n",
    "    hfont = {'fontname':'Arial'}\n",
    "    ax.set_xticks(xmajor_ticks)\n",
    "    ax.set_yticks(ymajor_ticks)\n",
    "    ax.title.set_fontsize(70)\n",
    "    ax.set_xlabel('Time (s)', fontsize=115, **hfont)\n",
    "    ax.set_ylabel(r'MSD ($\\mu$m$^2$)', fontsize=115, **hfont)\n",
    "    ax.tick_params(direction='out', pad=16)\n",
    "    ax.legend(loc=(0.05, 0.61), prop={'size': 70})\n",
    "    plt.gca().xaxis.set_major_formatter(mpl.ticker.FormatStrFormatter('%.{}f'.format(dec1)))\n",
    "    plt.gca().yaxis.set_major_formatter(mpl.ticker.FormatStrFormatter('%.{}e'.format(dec2)))\n",
    "\n",
    "    \n",
    "    #plt.yscale('log')\n",
    "    #plt.xscale('log')\n",
    "    plt.gca().set_xlim([0, limit1])\n",
    "    plt.gca().set_ylim([0, limit2])\n",
    "\n",
    "    # Save your figure\n",
    "    plt.savefig('{}.png'.format(filename), bbox_inches='tight')\n",
    "    return M2, Mx"
   ]
  },
  {
   "cell_type": "code",
   "execution_count": 33,
   "metadata": {
    "collapsed": true
   },
   "outputs": [],
   "source": [
    "one1, bleh = plot_M(FM2xy, FM1x, FM1y, time, 0, 0, 'MSD (um^2)', Mplot, 50.1, 0.0101, 10, 0.002)\n",
    "plt.show()"
   ]
  },
  {
   "cell_type": "code",
   "execution_count": 34,
   "metadata": {
    "collapsed": false
   },
   "outputs": [],
   "source": [
    "Deff3 = Deff2*np.ones(time.shape[0])"
   ]
  },
  {
   "cell_type": "code",
   "execution_count": 35,
   "metadata": {
    "collapsed": false
   },
   "outputs": [],
   "source": [
    "def plot_M1(M2xy, Mx, My, Mth, time, dec1, dec2, datatype, filename, limit1, limit2, tick1, tick2):\n",
    "    \"\"\"\n",
    "    Plots the MSDs or Deffs from a trajectory dataset.\n",
    "\n",
    "    n1: particle numbers (typically 0)\n",
    "    n2: time (typically 1)\n",
    "    n3: MSDs or Deffs (11 or 15 typically)\n",
    "    \"\"\"\n",
    "\n",
    "    M2 = M2xy\n",
    "    Mx = Mx\n",
    "    My = My\n",
    "    t = time\n",
    "    \n",
    "#     #Linear algebra to find Deff:\n",
    "#     t = time[1][:]\n",
    "#     w = dict()\n",
    "#     line = dict()\n",
    "#     A = np.ones((np.shape(t)[0], 2))\n",
    "#     A[:, 0] = t\n",
    "#     w[0] = np.linalg.lstsq(A, MMSD[:, 0])[0]\n",
    "#     w[1] = np.linalg.lstsq(A, MMSD[:, 1])[0]\n",
    "#     w[2] = np.linalg.lstsq(A, MMSD[:, 2])[0]\n",
    "#     line[0] = w[0][0]*t + w[0][1]\n",
    "#     line[1] = w[1][0]*t + w[1][1]\n",
    "#     line[2] = w[2][0]*t + w[2][1]\n",
    "    \n",
    "#     #Linear algebra for fit on log plot:\n",
    "#     wl = dict()\n",
    "#     linel = dict()\n",
    "#     lt = np.log(t)\n",
    "#     lA = np.ones((np.shape(t)[0], 2))\n",
    "#     lA[:, 0] = lt\n",
    "#     lM = np.log(MMSD)\n",
    "#     wl[0] = np.linalg.lstsq(lA, lM[:, 0])[0]\n",
    "#     wl[1] = np.linalg.lstsq(lA, lM[:, 1])[0]\n",
    "#     wl[2] = np.linalg.lstsq(lA, lM[:, 2])[0]\n",
    "#     linel[0] = np.exp(wl[0][0]*lt + wl[0][1])\n",
    "#     linel[1] = np.exp(wl[1][0]*lt + wl[1][1])\n",
    "#     linel[2] = np.exp(wl[2][0]*lt + wl[2][1])\n",
    "\n",
    "    # Creates figure\n",
    "    fig = plt.figure(figsize=(24, 18), dpi=80)\n",
    "    ax = fig.add_subplot(111)\n",
    "    # ax.set_title('Particle Trajectories', x=0.5, y=1.15)\n",
    "\n",
    "    ax.plot(t, M2, linewidth=10, label='2D', color='blue')\n",
    "    ax.plot(t, Mx, linewidth=10, label='1D x', color='red')\n",
    "    ax.plot(t, My, linewidth=10, label='1D x', color='green')\n",
    "    ax.plot(t, Mth, '--', linewidth=10, label='theoretical', color='purple')\n",
    "    \n",
    "#     ax.errorbar(t, MMSD[:, 0], yerr=SE[:, 0], fmt='', linestyle='', capsize=7, capthick=2, elinewidth=2, color='blue')\n",
    "#     ax.errorbar(t, MMSD[:, 1], yerr=SE[:, 1], fmt='', linestyle='', capsize=7, capthick=2, elinewidth=2, color='red')\n",
    "#     ax.errorbar(t, MMSD[:, 2], yerr=SE[:, 2], fmt='', linestyle='', capsize=7, capthick=2, elinewidth=2, color='green')\n",
    "    \n",
    "#     ax.plot(t, line[0], linewidth=3, color='blue')\n",
    "#     ax.plot(t, line[1], linewidth=3, color='red')\n",
    "#     ax.plot(t, line[2], linewidth=3, color='green')\n",
    "    \n",
    "    #ax.plot(t, linel[0], linewidth=3, color='blue')\n",
    "    #ax.plot(t, linel[1], linewidth=3, color='red')\n",
    "    #ax.plot(t, linel[2], linewidth=3, color='green')\n",
    "    \n",
    "    # A few adjustments to prettify the graph\n",
    "    for item in ([ax.xaxis.label, ax.yaxis.label] +\n",
    "                 ax.get_xticklabels() + ax.get_yticklabels()):\n",
    "        item.set_fontsize(70)\n",
    "\n",
    "    xmajor_ticks = np.arange(0, limit1, tick1)\n",
    "    ymajor_ticks = np.arange(0, limit2, tick2)\n",
    "\n",
    "    ax.set_xticks(xmajor_ticks)\n",
    "    ax.set_yticks(ymajor_ticks)\n",
    "\n",
    "    hfont = {'fontname':'Arial'}\n",
    "    ax.title.set_fontsize(70)\n",
    "    ax.set_xlabel('Time (s)', fontsize=115, **hfont)\n",
    "    ax.set_ylabel(r'D ($\\mu$m$^2$/s)', fontsize=115, **hfont)\n",
    "    ax.tick_params(direction='out', pad=16)\n",
    "    ax.legend(loc=(0.10, 0.54), prop={'size': 70})\n",
    "    plt.gca().xaxis.set_major_formatter(mpl.ticker.FormatStrFormatter('%.{}f'.format(dec1)))\n",
    "    plt.gca().yaxis.set_major_formatter(mpl.ticker.FormatStrFormatter('%.{}e'.format(dec2)))\n",
    "\n",
    "    \n",
    "    #plt.yscale('log')\n",
    "    #plt.xscale('log')\n",
    "    plt.gca().set_xlim([0, limit1])\n",
    "    plt.gca().set_ylim([0, limit2])\n",
    "\n",
    "    # Save your figure\n",
    "    plt.savefig('{}.png'.format(filename), bbox_inches='tight')\n",
    "    return M2, Mx"
   ]
  },
  {
   "cell_type": "code",
   "execution_count": 36,
   "metadata": {
    "collapsed": false
   },
   "outputs": [],
   "source": [
    "one1, bleh = plot_M1(FD2xy, FD1x, FD1y, Deff3, time, 0, 1, 'MSD (um^2)', Dplot, 50.1, 0.0021, 10, 0.0004)\n",
    "plt.show()"
   ]
  },
  {
   "cell_type": "code",
   "execution_count": 37,
   "metadata": {
    "collapsed": false
   },
   "outputs": [
    {
     "data": {
      "text/plain": [
       "masked_array(data = [-- 0.0009610000000003665 0.0007411232000004152 0.0005535360000008032\n",
       " 0.0027707551999996247 0.0007395855999989457 0.0016636832000009082\n",
       " 0.0015944912000011072 0.0008918079999998608 0.00015991040000029784\n",
       " 0.00011224479999978342 0.0005320095999999661 0.0008364544000001047\n",
       " 0.0015806528000002873 0.0007903264000024696 0.0007165216000016435\n",
       " 0.0023863552000008875 0.00339809600000224 0.0008272288000007328\n",
       " 0.0008994960000005122 0.0008687440000004442 0.001094771200000564\n",
       " 0.0027138640000018525 0.0010163536000008275 0.004097703999997305\n",
       " 0.0015145360000013812 0.004459040000000291 0.0025216640000005107\n",
       " 0.0047434959999993 0.002853785599999329 0.004997199999998382\n",
       " 0.0007995519999989516 0.001459182400000427 0.0009425487999995785\n",
       " 0.008562894400001783 0.0015145359999993373 0.003779420800000999\n",
       " 0.0013915279999990647 0.008813523200003564 0.0038778272000005963\n",
       " 0.00015529759999962503 0.0021710912000015388 0.0032627872000005735\n",
       " 0.0023448400000010356 0.006288784000002229 0.03871215520000495],\n",
       "             mask = [ True False False False False False False False False False False False\n",
       " False False False False False False False False False False False False\n",
       " False False False False False False False False False False False False\n",
       " False False False False False False False False False False],\n",
       "       fill_value = 0.0)"
      ]
     },
     "execution_count": 37,
     "metadata": {},
     "output_type": "execute_result"
    }
   ],
   "source": [
    "SM2xy[34]"
   ]
  },
  {
   "cell_type": "code",
   "execution_count": 38,
   "metadata": {
    "collapsed": true
   },
   "outputs": [],
   "source": [
    "#Now to calculate arithmetic and geometric means.\n",
    "\n",
    "arM1x = np.zeros(SM1x[1].shape[0])\n",
    "arM1y = np.zeros(SM1x[1].shape[0])\n",
    "arM1z = np.zeros(SM1x[1].shape[0])\n",
    "arM2xy = np.zeros(SM1x[1].shape[0])\n",
    "arM2xz = np.zeros(SM1x[1].shape[0])\n",
    "arM2yz = np.zeros(SM1x[1].shape[0])\n",
    "arM3 = np.zeros(SM1x[1].shape[0])\n",
    "\n",
    "arD1x = np.zeros(SM1x[1].shape[0])\n",
    "arD1y = np.zeros(SM1x[1].shape[0])\n",
    "arD1z = np.zeros(SM1x[1].shape[0])\n",
    "arD2xy = np.zeros(SM1x[1].shape[0])\n",
    "arD2xz = np.zeros(SM1x[1].shape[0])\n",
    "arD2yz = np.zeros(SM1x[1].shape[0])\n",
    "arD3 = np.zeros(SM1x[1].shape[0])\n",
    "\n",
    "st_arM1x = np.zeros(SM1x[1].shape[0])\n",
    "st_arM1y = np.zeros(SM1x[1].shape[0])\n",
    "st_arM1z = np.zeros(SM1x[1].shape[0])\n",
    "st_arM2xy = np.zeros(SM1x[1].shape[0])\n",
    "st_arM2xz = np.zeros(SM1x[1].shape[0])\n",
    "st_arM2yz = np.zeros(SM1x[1].shape[0])\n",
    "st_arM3 = np.zeros(SM1x[1].shape[0])\n",
    "\n",
    "st_arD1x = np.zeros(SM1x[1].shape[0])\n",
    "st_arD1y = np.zeros(SM1x[1].shape[0])\n",
    "st_arD1z = np.zeros(SM1x[1].shape[0])\n",
    "st_arD2xy = np.zeros(SM1x[1].shape[0])\n",
    "st_arD2xz = np.zeros(SM1x[1].shape[0])\n",
    "st_arD2yz = np.zeros(SM1x[1].shape[0])\n",
    "st_arD3 = np.zeros(SM1x[1].shape[0])\n",
    "\n",
    "# for num in range(1, tots +1):\n",
    "#     arM1x = arM1x + SM1x[num]\n",
    "#     arM1y = arM1y + SM1y[num]\n",
    "#     arM1z = arM1z + SM1z[num]\n",
    "#     arM2xy = arM2xy + SM2xy[num]\n",
    "#     arM2xz = arM2xz + SM2xz[num]\n",
    "#     arM2yz = arM2yz + SM2yz[num]\n",
    "#     arM3 = arM3 + SM3[num]\n",
    "    \n",
    "#     arD1x = arD1x + SD1x[num]\n",
    "#     arD1y = arD1y + SD1y[num]\n",
    "#     arD1z = arD1z + SD1z[num]\n",
    "#     arD2xy = arD2xy + SD2xy[num]\n",
    "#     arD2xz = arD2xz + SD2xz[num]\n",
    "#     arD2yz = arD2yz + SD2yz[num]\n",
    "#     arD3 = arD3 + SD3[num]\n",
    "    \n",
    "#     arM1x[num2+1] = ma.masked_invalid(gM1x[num2+1])\n",
    "#     gM1y[num2+1] = ma.masked_invalid(gM1y[num2+1])\n",
    "#     gM1z[num2+1] = ma.masked_invalid(gM1z[num2+1])\n",
    "#     gM2xy[num2+1] = ma.masked_invalid(gM2xy[num2+1])\n",
    "#     gM2xz[num2+1] = ma.masked_invalid(gM2xz[num2+1])\n",
    "#     gM2yz[num2+1] = ma.masked_invalid(gM2yz[num2+1])\n",
    "#     gM3[num2+1] = ma.masked_invalid(gM3[num2+1])\n",
    "        \n",
    "#     gD1x[num2+1] = ma.masked_invalid(SD1x[num2+1])\n",
    "#     gD1y[num2+1] = ma.masked_invalid(SD1y[num2+1])\n",
    "#     gD1z[num2+1] = ma.masked_invalid(SD1z[num2+1])\n",
    "#     gD2xy[num2+1] = ma.masked_invalid(SD2xy[num2+1])\n",
    "#     gD2xz[num2+1] = ma.masked_invalid(SD2xz[num2+1])\n",
    "#     gD2yz[num2+1] = ma.masked_invalid(SD2yz[num2+1])\n",
    "#     gD3[num2+1] = ma.masked_invalid(SD3[num2+1])\n",
    "    \n",
    "# arM1x = arM1x/tots\n",
    "# arM1y = arM1y/tots\n",
    "# arM1z = arM1z/tots\n",
    "# arM2xy = arM2xy/tots\n",
    "# arM2xz = arM2xz/tots\n",
    "# arM2yz = arM2yz/tots\n",
    "# arM3 = arM3/tots\n",
    "\n",
    "# arD1x = arD1x/tots\n",
    "# arD1y = arD1y/tots\n",
    "# arD1z = arD1z/tots\n",
    "# arD2xy = arD2xy/tots\n",
    "# arD2xz = arD2xz/tots\n",
    "# arD2yz = arD2yz/tots\n",
    "# arD3 = arD3/tots"
   ]
  },
  {
   "cell_type": "code",
   "execution_count": 39,
   "metadata": {
    "collapsed": false
   },
   "outputs": [
    {
     "name": "stderr",
     "output_type": "stream",
     "text": [
      "C:\\Users\\koolk\\Miniconda3\\lib\\site-packages\\numpy\\ma\\core.py:4085: UserWarning: Warning: converting a masked element to nan.\n",
      "  warnings.warn(\"Warning: converting a masked element to nan.\")\n"
     ]
    }
   ],
   "source": [
    "#Two quick fixes to update new nomenclature from old code.\n",
    "tots = total1 - 1\n",
    "time2 = time\n",
    "\n",
    "gM1x = dict()\n",
    "gM1y = dict()\n",
    "gM1z = dict()\n",
    "gM2xy = dict()\n",
    "gM2xz = dict()\n",
    "gM2yz = dict()\n",
    "gM3 = dict()\n",
    "\n",
    "log_gM1x = dict()\n",
    "log_gM1y = dict()\n",
    "log_gM1z = dict()\n",
    "log_gM2xy = dict()\n",
    "log_gM2xz = dict()\n",
    "log_gM2yz = dict()\n",
    "log_gM3 = dict()\n",
    "\n",
    "# gD1x = dict()\n",
    "# gD1y = dict()\n",
    "# gD1z = dict()\n",
    "# gD2xy = dict()\n",
    "# gD2xz = dict()\n",
    "# gD2yz = dict()\n",
    "# gD3 = dict()\n",
    "\n",
    "geoM1x = np.zeros(SM1x[1].shape[0])\n",
    "geoM1y = np.zeros(SM1x[1].shape[0])\n",
    "geoM1z = np.zeros(SM1x[1].shape[0])\n",
    "geoM2xy = np.zeros(SM1x[1].shape[0])\n",
    "geoM2xz = np.zeros(SM1x[1].shape[0])\n",
    "geoM2yz = np.zeros(SM1x[1].shape[0])\n",
    "geoM3 = np.zeros(SM1x[1].shape[0])\n",
    "\n",
    "st_geoM1x = np.zeros(SM1x[1].shape[0])\n",
    "st_geoM1y = np.zeros(SM1x[1].shape[0])\n",
    "st_geoM1z = np.zeros(SM1x[1].shape[0])\n",
    "st_geoM2xy = np.zeros(SM1x[1].shape[0])\n",
    "st_geoM2xz = np.zeros(SM1x[1].shape[0])\n",
    "st_geoM2yz = np.zeros(SM1x[1].shape[0])\n",
    "st_geoM3 = np.zeros(SM1x[1].shape[0])\n",
    "\n",
    "geoD1x = np.zeros(SM1x[1].shape[0])\n",
    "geoD1y = np.zeros(SM1x[1].shape[0])\n",
    "geoD1z = np.zeros(SM1x[1].shape[0])\n",
    "geoD2xy = np.zeros(SM1x[1].shape[0])\n",
    "geoD2xz = np.zeros(SM1x[1].shape[0])\n",
    "geoD2yz = np.zeros(SM1x[1].shape[0])\n",
    "geoD3 = np.zeros(SM1x[1].shape[0])\n",
    "\n",
    "st_geoD1x = np.zeros(SM1x[1].shape[0])\n",
    "st_geoD1y = np.zeros(SM1x[1].shape[0])\n",
    "st_geoD1z = np.zeros(SM1x[1].shape[0])\n",
    "st_geoD2xy = np.zeros(SM1x[1].shape[0])\n",
    "st_geoD2xz = np.zeros(SM1x[1].shape[0])\n",
    "st_geoD2yz = np.zeros(SM1x[1].shape[0])\n",
    "st_geoD3 = np.zeros(SM1x[1].shape[0])\n",
    "\n",
    "for num2 in range(0, SM1x[1].shape[0]):\n",
    "    gM1x[num2+1] = np.zeros(tots)\n",
    "    gM1y[num2+1] = np.zeros(tots)\n",
    "    gM1z[num2+1] = np.zeros(tots)\n",
    "    gM2xy[num2+1] = np.zeros(tots)\n",
    "    gM2xz[num2+1] = np.zeros(tots)\n",
    "    gM2yz[num2+1] = np.zeros(tots)\n",
    "    gM3[num2+1] = np.zeros(tots)\n",
    "    \n",
    "#     gD1x[num2+1] = np.zeros(tots)\n",
    "#     gD1y[num2+1] = np.zeros(tots)\n",
    "#     gD1z[num2+1] = np.zeros(tots)\n",
    "#     gD2xy[num2+1] = np.zeros(tots)\n",
    "#     gD2xz[num2+1] = np.zeros(tots)\n",
    "#     gD2yz[num2+1] = np.zeros(tots)\n",
    "#     gD3[num2+1] = np.zeros(tots)\n",
    "    \n",
    "    for num in range(1, tots + 1):\n",
    "        gM1x[num2+1][num-1] = SM1x[num][num2]\n",
    "        gM1y[num2+1][num-1] = SM1y[num][num2]\n",
    "        gM1z[num2+1][num-1] = SM1z[num][num2]\n",
    "        gM2xy[num2+1][num-1] = SM2xy[num][num2]\n",
    "        gM2xz[num2+1][num-1] = SM2xz[num][num2]\n",
    "        gM2yz[num2+1][num-1] = SM2yz[num][num2]\n",
    "        gM3[num2+1][num-1] = SM3[num][num2]\n",
    "        \n",
    "#         gD1x[num2+1][num-1] = SD1x[num][num2]\n",
    "#         gD1y[num2+1][num-1] = SD1y[num][num2]\n",
    "#         gD1z[num2+1][num-1] = SD1z[num][num2]\n",
    "#         gD2xy[num2+1][num-1] = SD2xy[num][num2]\n",
    "#         gD2xz[num2+1][num-1] = SD2xz[num][num2]\n",
    "#         gD2yz[num2+1][num-1] = SD2yz[num][num2]\n",
    "#         gD3[num2+1][num-1] = SD3[num][num2]\n",
    "        \n",
    "    gM1x[num2+1] = ma.masked_invalid(gM1x[num2+1])\n",
    "    gM1y[num2+1] = ma.masked_invalid(gM1y[num2+1])\n",
    "    gM1z[num2+1] = ma.masked_invalid(gM1z[num2+1])\n",
    "    gM2xy[num2+1] = ma.masked_invalid(gM2xy[num2+1])\n",
    "    gM2xz[num2+1] = ma.masked_invalid(gM2xz[num2+1])\n",
    "    gM2yz[num2+1] = ma.masked_invalid(gM2yz[num2+1])\n",
    "    gM3[num2+1] = ma.masked_invalid(gM3[num2+1])\n",
    "\n",
    "    #I need to include this, because geometric means can't be calculated on values of 0.\n",
    "    gM1x[num2+1] = ma.masked_equal(gM1x[num2+1], 0)\n",
    "    gM1y[num2+1] = ma.masked_equal(gM1y[num2+1], 0)\n",
    "    gM1z[num2+1] = ma.masked_equal(gM1z[num2+1], 0)\n",
    "    gM2xy[num2+1] = ma.masked_equal(gM2xy[num2+1], 0)\n",
    "    gM2xz[num2+1] = ma.masked_equal(gM2xz[num2+1], 0)\n",
    "    gM2yz[num2+1] = ma.masked_equal(gM2yz[num2+1], 0)\n",
    "    gM3[num2+1] = ma.masked_equal(gM3[num2+1], 0)\n",
    "\n",
    "    log_gM1x[num2+1] = np.log(gM1x[num2+1])\n",
    "    log_gM1y[num2+1] = np.log(gM1y[num2+1])\n",
    "    log_gM1z[num2+1] = np.log(gM1z[num2+1])\n",
    "    log_gM2xy[num2+1] = np.log(gM2xy[num2+1])\n",
    "    log_gM2xz[num2+1] = np.log(gM2xz[num2+1])\n",
    "    log_gM2yz[num2+1] = np.log(gM2yz[num2+1])\n",
    "    log_gM3[num2+1] = np.log(gM3[num2+1])\n",
    "        \n",
    "#     gD1x[num2+1] = ma.masked_invalid(SD1x[num2+1])\n",
    "#     gD1y[num2+1] = ma.masked_invalid(SD1y[num2+1])\n",
    "#     gD1z[num2+1] = ma.masked_invalid(SD1z[num2+1])\n",
    "#     gD2xy[num2+1] = ma.masked_invalid(SD2xy[num2+1])\n",
    "#     gD2xz[num2+1] = ma.masked_invalid(SD2xz[num2+1])\n",
    "#     gD2yz[num2+1] = ma.masked_invalid(SD2yz[num2+1])\n",
    "#     gD3[num2+1] = ma.masked_invalid(SD3[num2+1])\n",
    "        \n",
    "    geoM1x[num2] = stat.gmean(gM1x[num2+1])\n",
    "    geoM1y[num2] = stat.gmean(gM1y[num2+1])\n",
    "    geoM1z[num2] = stat.gmean(gM1z[num2+1])\n",
    "    geoM2xy[num2] = stat.gmean(gM2xy[num2+1])\n",
    "    geoM2xz[num2] = stat.gmean(gM2xz[num2+1])\n",
    "    geoM2yz[num2] = stat.gmean(gM2yz[num2+1])\n",
    "    geoM3[num2] = stat.gmean(gM3[num2+1])\n",
    "    \n",
    "    #(Wiki method) The geometric standard deviation is a function of the mean of the logarithms.\n",
    "#     st_geoM1x[num2] = np.exp(np.sqrt(np.mean((log_gM1x[num2+1] - np.log(geoM1x[num2]))*(log_gM1x[num2+1] - np.log(geoM1x[num2])))))\n",
    "#     st_geoM1y[num2] = np.exp(np.sqrt(np.mean((log_gM1y[num2+1] - np.log(geoM1y[num2]))*(log_gM1y[num2+1] - np.log(geoM1y[num2])))))\n",
    "#     st_geoM1z[num2] = np.exp(np.sqrt(np.mean((log_gM1z[num2+1] - np.log(geoM1z[num2]))*(log_gM1z[num2+1] - np.log(geoM1z[num2])))))\n",
    "#     st_geoM2xy[num2] = np.exp(np.sqrt(np.mean((log_gM2xy[num2+1] - np.log(geoM2xy[num2]))*(log_gM2xy[num2+1] - np.log(geoM2xy[num2])))))\n",
    "#     st_geoM2xz[num2] = np.exp(np.sqrt(np.mean((log_gM2xz[num2+1] - np.log(geoM2xz[num2]))*(log_gM2xz[num2+1] - np.log(geoM2xz[num2])))))\n",
    "#     st_geoM2yz[num2] = np.exp(np.sqrt(np.mean((log_gM2yz[num2+1] - np.log(geoM2yz[num2]))*(log_gM2yz[num2+1] - np.log(geoM2yz[num2])))))\n",
    "#     st_geoM3[num2] = np.exp(np.sqrt(np.mean((log_gM3[num2+1] - np.log(geoM3[num2]))*(log_gM3[num2+1] - np.log(geoM3[num2])))))\n",
    "\n",
    "    #Nance method for standard error or geometric mean.\n",
    "    st_geoM1x[num2] = np.abs(geoM1x[num2]-np.exp(np.mean(np.log(gM1x[num2+1]))-np.std(np.log(gM1x[num2+1]))/np.sqrt(gM1x[num2+1].shape[0])))\n",
    "    st_geoM1y[num2] = np.abs(geoM1y[num2]-np.exp(np.mean(np.log(gM1y[num2+1]))-np.std(np.log(gM1y[num2+1]))/np.sqrt(gM1y[num2+1].shape[0])))\n",
    "    st_geoM1z[num2] = np.abs(geoM1z[num2]-np.exp(np.mean(np.log(gM1z[num2+1]))-np.std(np.log(gM1z[num2+1]))/np.sqrt(gM1z[num2+1].shape[0])))\n",
    "    st_geoM2xy[num2] = np.abs(geoM2xy[num2]-np.exp(np.mean(np.log(gM2xy[num2+1]))-np.std(np.log(gM2xy[num2+1]))/np.sqrt(gM2xy[num2+1].shape[0])))\n",
    "    st_geoM2xz[num2] = np.abs(geoM2xz[num2]-np.exp(np.mean(np.log(gM2xz[num2+1]))-np.std(np.log(gM2xz[num2+1]))/np.sqrt(gM2xz[num2+1].shape[0])))\n",
    "    st_geoM2yz[num2] = np.abs(geoM2yz[num2]-np.exp(np.mean(np.log(gM2yz[num2+1]))-np.std(np.log(gM2yz[num2+1]))/np.sqrt(gM2yz[num2+1].shape[0])))\n",
    "    st_geoM3[num2] = np.abs(geoM3[num2]-np.exp(np.mean(np.log(gM3[num2+1]))-np.std(np.log(gM3[num2+1]))/np.sqrt(gM3[num2+1].shape[0])))\n",
    "\n",
    "#     geoD1x[num2] = stat.gmean(gD1x[num2+1])\n",
    "#     geoD1y[num2] = stat.gmean(gD1y[num2+1])\n",
    "#     geoD1z[num2] = stat.gmean(gD1z[num2+1])\n",
    "#     geoD2xy[num2] = stat.gmean(gD2xy[num2+1])\n",
    "#     geoD2xz[num2] = stat.gmean(gD2xz[num2+1])\n",
    "#     geoD2yz[num2] = stat.gmean(gD2yz[num2+1])\n",
    "#     geoD3[num2] = stat.gmean(gD3[num2+1])\n",
    "\n",
    "    geoD1x[num2] = geoM1x[num2]/time2[num2]\n",
    "    geoD1y[num2] = geoM1y[num2]/time2[num2]\n",
    "    geoD1z[num2] = geoM1z[num2]/time2[num2]\n",
    "    geoD2xy[num2] = geoM2xy[num2]/time2[num2]\n",
    "    geoD2xz[num2] = geoM2xz[num2]/time2[num2]\n",
    "    geoD2yz[num2] = geoM2yz[num2]/time2[num2]\n",
    "    geoD3[num2] = geoM3[num2]/time2[num2]\n",
    "\n",
    "    arM1x[num2] = np.mean(gM1x[num2+1])\n",
    "    arM1y[num2] = np.mean(gM1y[num2+1])\n",
    "    arM1z[num2] = np.mean(gM1z[num2+1])\n",
    "    arM2xy[num2] = np.mean(gM2xy[num2+1])\n",
    "    arM2xz[num2] = np.mean(gM2xz[num2+1])\n",
    "    arM2yz[num2] = np.mean(gM2yz[num2+1])\n",
    "    arM3[num2] = np.mean(gM3[num2+1])\n",
    "    \n",
    "    st_arM1x[num2] = np.std(gM1x[num2+1])\n",
    "    st_arM1y[num2] = np.std(gM1y[num2+1])\n",
    "    st_arM1z[num2] = np.std(gM1z[num2+1])\n",
    "    st_arM2xy[num2] = np.std(gM2xy[num2+1])\n",
    "    st_arM2xz[num2] = np.std(gM2xz[num2+1])\n",
    "    st_arM2yz[num2] = np.std(gM2yz[num2+1])\n",
    "    st_arM3[num2] = np.std(gM3[num2+1])\n",
    "\n",
    "\n",
    "#     arD1x[num2] = np.mean(gD1x[num2+1])\n",
    "#     arD1y[num2] = np.mean(gD1y[num2+1])\n",
    "#     arD1z[num2] = np.mean(gD1z[num2+1])\n",
    "#     arD2xy[num2] = np.mean(gD2xy[num2+1])\n",
    "#     arD2xz[num2] = np.mean(gD2xz[num2+1])\n",
    "#     arD2yz[num2] = np.mean(gD2yz[num2+1])\n",
    "#     arD3[num2] = np.mean(gD3[num2+1])\n",
    "\n",
    "    arD1x[num2] = arM1x[num2]/time2[num2]\n",
    "    arD1y[num2] = arM1y[num2]/time2[num2]\n",
    "    arD1z[num2] = arM1z[num2]/time2[num2]\n",
    "    arD2xy[num2] = arM2xy[num2]/time2[num2]\n",
    "    arD2xz[num2] = arM2xz[num2]/time2[num2]\n",
    "    arD2yz[num2] = arM2yz[num2]/time2[num2]\n",
    "    arD3[num2] = arM3[num2]/time2[num2]\n",
    "\n",
    "    st_arD1x[num2] = st_arM1x[num2]/time2[num2]\n",
    "    st_arD1y[num2] = st_arM1y[num2]/time2[num2]\n",
    "    st_arD1z[num2] = st_arM1z[num2]/time2[num2]\n",
    "    st_arD2xy[num2] = st_arM2xy[num2]/time2[num2]\n",
    "    st_arD2xz[num2] = st_arM2xz[num2]/time2[num2]\n",
    "    st_arD2yz[num2] = st_arM2yz[num2]/time2[num2]\n",
    "    st_arD3[num2] = st_arM3[num2]/time2[num2]"
   ]
  },
  {
   "cell_type": "code",
   "execution_count": 40,
   "metadata": {
    "collapsed": false
   },
   "outputs": [
    {
     "data": {
      "text/plain": [
       "array([        nan,  0.04384813,  0.04296759,  0.48372214,  0.49231066,\n",
       "        0.52322695,  0.73562886,  0.78806817,  0.78284984,  0.75650666,\n",
       "        0.62553545,  0.72679271,  0.68281826,  0.68434636,  0.65611317,\n",
       "        0.64617514,  0.69542703,  0.64783403,  0.57811291,  0.57958136,\n",
       "        0.57861137,  0.58117285,  0.04710352,  0.0703788 ,  0.55069667,\n",
       "        0.60183129,  0.55841421,  0.59614631,  0.59405415,  0.58028679,\n",
       "        0.61302284,  0.58169943,  0.06003739,  0.08904096,  0.06164975,\n",
       "        0.06012368,  0.06175655,  0.07421179,  0.07853281,  0.06246955,\n",
       "        0.0760194 ,  0.0616067 ,  0.08817082,  0.07414516,  0.07380696,\n",
       "        0.08411842])"
      ]
     },
     "execution_count": 40,
     "metadata": {},
     "output_type": "execute_result"
    }
   ],
   "source": [
    "st_arM1x"
   ]
  },
  {
   "cell_type": "code",
   "execution_count": 41,
   "metadata": {
    "collapsed": false
   },
   "outputs": [],
   "source": [
    "#np.log(gM1x[1]) - np.log(geoM1x[0])\n",
    "#np.exp(np.sqrt(np.log(gM1x[2])*np.log(gM1x[2])))\n",
    "#st_geoM1x\n",
    "#np.exp(np.sqrt(np.mean((log_gM1x[4+1] - np.log(geoM1x[4]))*(log_gM1x[4+1] - np.log(geoM1x[4])))))"
   ]
  },
  {
   "cell_type": "code",
   "execution_count": 42,
   "metadata": {
    "collapsed": false,
    "scrolled": true
   },
   "outputs": [],
   "source": [
    "#SM1x[1].shape\n",
    "#time2\n",
    "#np.set_printoptions(precision=4, suppress=True)\n",
    "# np.where(gM2xy[4]>200)\n",
    "# gM2xy[20][218]"
   ]
  },
  {
   "cell_type": "code",
   "execution_count": 43,
   "metadata": {
    "collapsed": false
   },
   "outputs": [],
   "source": [
    "#np.exp((np.mean(log_gM1x[4+1] - np.log(geoM1x[4])))*(np.mean(log_gM1x[4+1] - np.log(geoM1x[4]))))"
   ]
  },
  {
   "cell_type": "code",
   "execution_count": 88,
   "metadata": {
    "collapsed": true
   },
   "outputs": [],
   "source": [
    "def plot_Mcomp(Mgeo, Mar, MFBF, t1, t2, dec1, dec2, datatype, filename, limit1, limit2, tick1, tick2):\n",
    "    \"\"\"\n",
    "    Mgeo = Geometric average dataset\n",
    "    Mar = Arithmetic average dataset\n",
    "    MFBF = Frame-by-Frame dataset\n",
    "    \n",
    "    t1 = time array for Mgeo and Mar\n",
    "    t2 time array for MFDF\n",
    "    \"\"\"\n",
    "    \n",
    "#     #Linear algebra to find Deff:\n",
    "#     t = time[1][:]\n",
    "#     w = dict()\n",
    "#     line = dict()\n",
    "#     A = np.ones((np.shape(t)[0], 2))\n",
    "#     A[:, 0] = t\n",
    "#     w[0] = np.linalg.lstsq(A, MMSD[:, 0])[0]\n",
    "#     w[1] = np.linalg.lstsq(A, MMSD[:, 1])[0]\n",
    "#     w[2] = np.linalg.lstsq(A, MMSD[:, 2])[0]\n",
    "#     line[0] = w[0][0]*t + w[0][1]\n",
    "#     line[1] = w[1][0]*t + w[1][1]\n",
    "#     line[2] = w[2][0]*t + w[2][1]\n",
    "    \n",
    "#     #Linear algebra for fit on log plot:\n",
    "#     wl = dict()\n",
    "#     linel = dict()\n",
    "#     lt = np.log(t)\n",
    "#     lA = np.ones((np.shape(t)[0], 2))\n",
    "#     lA[:, 0] = lt\n",
    "#     lM = np.log(MMSD)\n",
    "#     wl[0] = np.linalg.lstsq(lA, lM[:, 0])[0]\n",
    "#     wl[1] = np.linalg.lstsq(lA, lM[:, 1])[0]\n",
    "#     wl[2] = np.linalg.lstsq(lA, lM[:, 2])[0]\n",
    "#     linel[0] = np.exp(wl[0][0]*lt + wl[0][1])\n",
    "#     linel[1] = np.exp(wl[1][0]*lt + wl[1][1])\n",
    "#     linel[2] = np.exp(wl[2][0]*lt + wl[2][1])\n",
    "\n",
    "    # Creates figure\n",
    "    fig = plt.figure(figsize=(24, 18), dpi=80)\n",
    "    ax = fig.add_subplot(111)\n",
    "    # ax.set_title('Particle Trajectories', x=0.5, y=1.15)\n",
    "\n",
    "    ax.plot(t1, Mgeo, linewidth=10, label='Geometric', color='blue')\n",
    "    ax.plot(t1, Mar, linewidth=10, label='Arithmetic', color='red')\n",
    "    ax.plot(t2, MFBF, linewidth=10, label='Frame-by-Frame', color='green')\n",
    "    \n",
    "#     ax.errorbar(t, MMSD[:, 0], yerr=SE[:, 0], fmt='', linestyle='', capsize=7, capthick=2, elinewidth=2, color='blue')\n",
    "#     ax.errorbar(t, MMSD[:, 1], yerr=SE[:, 1], fmt='', linestyle='', capsize=7, capthick=2, elinewidth=2, color='red')\n",
    "#     ax.errorbar(t, MMSD[:, 2], yerr=SE[:, 2], fmt='', linestyle='', capsize=7, capthick=2, elinewidth=2, color='green')\n",
    "    \n",
    "#     ax.plot(t, line[0], linewidth=3, color='blue')\n",
    "#     ax.plot(t, line[1], linewidth=3, color='red')\n",
    "#     ax.plot(t, line[2], linewidth=3, color='green')\n",
    "    \n",
    "    #ax.plot(t, linel[0], linewidth=3, color='blue')\n",
    "    #ax.plot(t, linel[1], linewidth=3, color='red')\n",
    "    #ax.plot(t, linel[2], linewidth=3, color='green')\n",
    "    \n",
    "    # A few adjustments to prettify the graph\n",
    "    for item in ([ax.xaxis.label, ax.yaxis.label] +\n",
    "                 ax.get_xticklabels() + ax.get_yticklabels()):\n",
    "        item.set_fontsize(70)\n",
    "\n",
    "    xmajor_ticks = np.arange(0, limit1, tick1)\n",
    "    ymajor_ticks = np.arange(0, limit2, tick2)\n",
    "\n",
    "    ax.set_xticks(xmajor_ticks)\n",
    "    ax.set_yticks(ymajor_ticks)\n",
    "    ax.title.set_fontsize(70)\n",
    "    ax.set_xlabel('Time (s)', fontsize=95)\n",
    "    ax.set_ylabel(datatype, fontsize=95)\n",
    "    ax.tick_params(direction='out', pad=16)\n",
    "    ax.legend(loc=(0.60, 0.76), prop={'size': 40})\n",
    "    plt.gca().xaxis.set_major_formatter(mpl.ticker.FormatStrFormatter('%.{}f'.format(dec1)))\n",
    "    plt.gca().yaxis.set_major_formatter(mpl.ticker.FormatStrFormatter('%.{}f'.format(dec2)))\n",
    "\n",
    "    \n",
    "    #plt.yscale('log')\n",
    "    #plt.xscale('log')\n",
    "    plt.gca().set_xlim([0, limit1])\n",
    "    plt.gca().set_ylim([0, limit2])\n",
    "\n",
    "    # Save your figure\n",
    "    plt.savefig('{}.png'.format(filename), bbox_inches='tight')\n",
    "    return Mar, Mgeo"
   ]
  },
  {
   "cell_type": "code",
   "execution_count": 89,
   "metadata": {
    "collapsed": false
   },
   "outputs": [],
   "source": [
    "one1, bleh = plot_Mcomp(geoM2xy, arM2xy, FM2xy, time2, time, 0, 2, 'MSD (um^2)', Cplot, 50.1, 0.021, 10, 0.004)\n",
    "plt.show()"
   ]
  },
  {
   "cell_type": "code",
   "execution_count": 46,
   "metadata": {
    "collapsed": false
   },
   "outputs": [
    {
     "data": {
      "text/plain": [
       "array([     nan,  0.01964,  0.01961,  0.04202,  0.04369,  0.04388,\n",
       "        0.06905,  0.08258,  0.09612,  0.086  ,  0.06857,  0.08179,\n",
       "        0.06854,  0.06791,  0.0665 ,  0.0648 ,  0.07058,  0.06942,\n",
       "        0.04917,  0.05282,  0.05038,  0.05021,  0.02125,  0.02587,\n",
       "        0.05836,  0.05938,  0.05462,  0.05748,  0.0553 ,  0.05431,\n",
       "        0.06312,  0.05889,  0.02392,  0.02908,  0.02463,  0.0253 ,\n",
       "        0.02549,  0.03285,  0.03049,  0.02999,  0.03103,  0.02662,\n",
       "        0.03318,  0.02873,  0.02749,  0.03223])"
      ]
     },
     "execution_count": 46,
     "metadata": {},
     "output_type": "execute_result"
    }
   ],
   "source": [
    "np.set_printoptions(precision=5, suppress=True)\n",
    "np.round(arM1x, 5)"
   ]
  },
  {
   "cell_type": "code",
   "execution_count": 47,
   "metadata": {
    "collapsed": false
   },
   "outputs": [
    {
     "data": {
      "text/plain": [
       "array([     nan,  0.0032 ,  0.0022 ,  0.00269,  0.00252,  0.00276,\n",
       "        0.00269,  0.00267,  0.00213,  0.00232,  0.00261,  0.00257,\n",
       "        0.00263,  0.00273,  0.00298,  0.00235,  0.00264,  0.00322,\n",
       "        0.00252,  0.00287,  0.00262,  0.00302,  0.00308,  0.00341,\n",
       "        0.00368,  0.00326,  0.00373,  0.00347,  0.0031 ,  0.0032 ,\n",
       "        0.00442,  0.00403,  0.00293,  0.00297,  0.0038 ,  0.00377,\n",
       "        0.003  ,  0.00364,  0.0043 ,  0.00463,  0.00445,  0.00461,\n",
       "        0.00387,  0.00439,  0.0036 ,  0.00465])"
      ]
     },
     "execution_count": 47,
     "metadata": {},
     "output_type": "execute_result"
    }
   ],
   "source": [
    "np.round(geoM1x, 5)"
   ]
  },
  {
   "cell_type": "code",
   "execution_count": 48,
   "metadata": {
    "collapsed": false
   },
   "outputs": [
    {
     "data": {
      "text/plain": [
       "array([     nan,  0.00241,  0.0014 ,  0.0019 ,  0.00204,  0.00215,\n",
       "        0.002  ,  0.00206,  0.00167,  0.00193,  0.00229,  0.00214,\n",
       "        0.00218,  0.00233,  0.00245,  0.0023 ,  0.00263,  0.00314,\n",
       "        0.00246,  0.00278,  0.00274,  0.0028 ,  0.00327,  0.00324,\n",
       "        0.00379,  0.00346,  0.00354,  0.00351,  0.00324,  0.00342,\n",
       "        0.00436,  0.00409,  0.00317,  0.00321,  0.00379,  0.00412,\n",
       "        0.003  ,  0.00378,  0.00419,  0.00465,  0.00439,  0.00488,\n",
       "        0.00399,  0.00449,  0.0037 ,  0.00488])"
      ]
     },
     "execution_count": 48,
     "metadata": {},
     "output_type": "execute_result"
    }
   ],
   "source": [
    "np.round(FM1x, 5)"
   ]
  },
  {
   "cell_type": "code",
   "execution_count": 49,
   "metadata": {
    "collapsed": false
   },
   "outputs": [
    {
     "data": {
      "text/plain": [
       "array([], dtype=int64)"
      ]
     },
     "execution_count": 49,
     "metadata": {},
     "output_type": "execute_result"
    }
   ],
   "source": [
    "#Check for faulty particle trajectories here.\n",
    "\n",
    "at_fault = np.where(gM2xy[3]>0.4)[0] + 1\n",
    "# gM1x[2][34]\n",
    "# gM1x[2][218]\n",
    "at_fault\n",
    "#M2xy[at_fault[1]+1]"
   ]
  },
  {
   "cell_type": "code",
   "execution_count": 50,
   "metadata": {
    "collapsed": true
   },
   "outputs": [],
   "source": [
    "def plot_histogram(M, time, total, datatype, filename, tn):\n",
    "    \"\"\"\n",
    "    Plots the MSDs or Deffs from a trajectory dataset.\n",
    "    \"\"\"\n",
    "    total1 = total\n",
    "    MSD = M\n",
    "\n",
    "    def find_nearest(array, value):\n",
    "        idx = (np.abs(array-value)).argmin()\n",
    "        return array[idx], idx\n",
    "\n",
    "    td, idx = find_nearest(time, tn)\n",
    "    \n",
    "    hist = np.zeros(total1)\n",
    "    for num in range(1, total1):\n",
    "        hist[num] = MSD[num][idx]\n",
    "\n",
    "    hist = [x for x in hist if str(x) != 'nan']\n",
    "    \n",
    "    plot, bins = np.histogram(hist, bins=20)\n",
    "    width = 0.7 * (bins[1] - bins[0])\n",
    "    center = (bins[:-1] + bins[1:])/2\n",
    "    plt.bar(center, plot, align='center', width=width)\n",
    "#     plt.xlabel('D (um2/s)', fontsize=20)\n",
    "\n",
    "    plt.savefig('{}.png'.format(filename), bbox_inches='tight')\n",
    "    return hist, MSD, total1"
   ]
  },
  {
   "cell_type": "code",
   "execution_count": 51,
   "metadata": {
    "collapsed": false
   },
   "outputs": [
    {
     "name": "stdout",
     "output_type": "stream",
     "text": [
      "geometric average at 1s: 0.00937249339625 um2/s with 542 particles\n",
      "arithmetic average at 1s: 0.038038398348 um2/s with 542 particles\n",
      "frame-by-frame average at 1s: 0.00725133184479 um2/s with 542 particles\n"
     ]
    }
   ],
   "source": [
    "def find_nearest(array, value):\n",
    "    idx = (np.abs(array-value)).argmin()\n",
    "    return array[idx], idx\n",
    "\n",
    "time_a, tindex = find_nearest(time2, 1)\n",
    "geoDat1 = geoD2xy[tindex]\n",
    "arDat1 = arD2xy[tindex]\n",
    "\n",
    "time_a1, tindex1 = find_nearest(time, 1)\n",
    "FDat1 = FD2xy[tindex1]\n",
    "\n",
    "print('geometric average at 1s:', geoDat1, 'um2/s with', tots, 'particles')\n",
    "print('arithmetic average at 1s:', arDat1, 'um2/s with', tots, 'particles')\n",
    "print('frame-by-frame average at 1s:', FDat1, 'um2/s with', fifties, 'particles')"
   ]
  },
  {
   "cell_type": "code",
   "execution_count": 52,
   "metadata": {
    "collapsed": false
   },
   "outputs": [
    {
     "name": "stderr",
     "output_type": "stream",
     "text": [
      "C:\\Users\\koolk\\Miniconda3\\lib\\site-packages\\numpy\\ma\\core.py:4085: UserWarning: Warning: converting a masked element to nan.\n",
      "  warnings.warn(\"Warning: converting a masked element to nan.\")\n"
     ]
    }
   ],
   "source": [
    "a, hist, total= plot_histogram(SD2xy, time2, tots, 'Deff (um^2/s)', Hplot, 1)\n",
    "plt.show()"
   ]
  },
  {
   "cell_type": "code",
   "execution_count": 53,
   "metadata": {
    "collapsed": false
   },
   "outputs": [],
   "source": [
    "def plot_loghistogram(M, time, total, datatype, filename, tn):\n",
    "    \"\"\"\n",
    "    Plots the MSDs or Deffs from a trajectory dataset.\n",
    "    \"\"\"\n",
    "\n",
    "    total1 = total\n",
    "    MSD = M\n",
    "    \n",
    "    def find_nearest(array, value):\n",
    "        idx = (np.abs(array-value)).argmin()\n",
    "        return array[idx], idx\n",
    "\n",
    "    td, idx = find_nearest(time, tn)\n",
    "    \n",
    "    hist = np.zeros(total1)\n",
    "    for num in range(1, total1):\n",
    "        hist[num] = MSD[num][idx]\n",
    "    \n",
    "    z1, z2 = find_nearest(hist[1:], 0)\n",
    "    hist = np.delete(hist[1:], z2)\n",
    "    hist = [x for x in hist if str(x) != 'nan']\n",
    "    loghist = np.log(hist)\n",
    "\n",
    "    plot, bins = np.histogram(loghist, bins=20)\n",
    "    width = 0.7 * (bins[1] - bins[0])\n",
    "    center = (bins[:-1] + bins[1:])/2\n",
    "    plt.bar(center, plot, align='center', width=width)\n",
    "    plt.xlabel('log(D)', fontsize=20)\n",
    "\n",
    "    plt.savefig('{}.png'.format(filename), bbox_inches='tight')\n",
    "    return hist, MSD, total1"
   ]
  },
  {
   "cell_type": "code",
   "execution_count": 54,
   "metadata": {
    "collapsed": false
   },
   "outputs": [
    {
     "name": "stderr",
     "output_type": "stream",
     "text": [
      "C:\\Users\\koolk\\Miniconda3\\lib\\site-packages\\numpy\\ma\\core.py:4085: UserWarning: Warning: converting a masked element to nan.\n",
      "  warnings.warn(\"Warning: converting a masked element to nan.\")\n"
     ]
    }
   ],
   "source": [
    "hist, MSD, total = plot_loghistogram(SD2xy, time2, tots, 'Deff (um^2/s)', Hlogplot, 1)\n",
    "plt.show()"
   ]
  },
  {
   "cell_type": "code",
   "execution_count": 55,
   "metadata": {
    "collapsed": true
   },
   "outputs": [],
   "source": [
    "np.savetxt('geoD2xy_{}.csv'.format(name), geoD2xy, delimiter=',')\n",
    "np.savetxt('arD2xy_{}.csv'.format(name), arD2xy, delimiter=',')\n",
    "np.savetxt('FD2xy_{}.csv'.format(name), FD2xy, delimiter=',')\n",
    "\n",
    "np.savetxt('geoM2xy_{}.csv'.format(name), geoM2xy, delimiter=',')\n",
    "np.savetxt('arM2xy_{}.csv'.format(name), arM2xy, delimiter=',')\n",
    "np.savetxt('FM2xy_{}.csv'.format(name), FM2xy, delimiter=',')"
   ]
  },
  {
   "cell_type": "code",
   "execution_count": 56,
   "metadata": {
    "collapsed": true
   },
   "outputs": [],
   "source": [
    "ex1 = trajectory[1]\n",
    "ex2 = trajectory[1]\n",
    "ex3 = trajectory[1]"
   ]
  },
  {
   "cell_type": "code",
   "execution_count": 57,
   "metadata": {
    "collapsed": false
   },
   "outputs": [
    {
     "data": {
      "text/plain": [
       "masked_array(data = [0.0001537600000003406 0.004319118399999854 0.001293121600000207 --\n",
       " 0.001992729600001369 0.00911643040000174 0.001477633600000651\n",
       " 3.844000000008515e-05 7.534239999996953e-05 1.5375999999893086e-06\n",
       " 0.012732865599988435 0.004651240000002549 0.0024601599999998103\n",
       " 0.1393080976000073 0.10797795999997767 0.0007441983999994775\n",
       " 0.00012454560000040276 1.3838399999903778e-05 0.0038439999999944174\n",
       " 0.03144238240000312 3.843999999990893e-05 0.0038439999999944174\n",
       " 0.0006150399999985429 0.0015745024000025855 0.0018835599999992383\n",
       " 0.0002214144000001521 0.0408524944000003 0.00297679359999791\n",
       " 0.0024601599999998103 0.0004981823999990735 0.015375999999998816 --\n",
       " 0.003844000000001466 -- 0.017276473599999415 -- 0.0007441983999979268\n",
       " 0.25345183359998336 0.0005550735999988189 0.00034595999999970903\n",
       " 0.001293121599999185 0.001039417599999645 0.0006780815999997258\n",
       " 0.015070017599992908 0.005172486400004916 0.014767110399994027\n",
       " 0.06780816000001698 0.1584358415999957 0.0016744464000023134\n",
       " 0.004319118399999854 0.0007441984000010281 0.08419282560000012\n",
       " 0.0012054783999995125 0.002843022399998417 0.005721409600003214\n",
       " 0.0027123264000018634 0.030569025600001125 0.0003936255999995186 --\n",
       " 0.00339655839999626 0.00012454560000008555 -- 0.02104820640000209\n",
       " 0.009596161600000095 0.0031136400000005534 0.004319118399999854\n",
       " 0.0049956623999974055 0.0785344576000274 0.00015375999999963573\n",
       " 0.2093611536000008 0.0008856576000001856 0.008881177600007888\n",
       " 0.0019927295999988314 0.0002598544000000258 0.00157450240000033\n",
       " 0.0004981824000000251 0.0033965584000028855 0.01217932960000314\n",
       " 0.006697785599999949 0.00044436639999930676 0.03936256000000825 -- --\n",
       " 0.01245455999999904 0.0008856576000006084 0.0006150400000013624\n",
       " 0.014170521599996202 0.0015745024000025855 0.006697785599999949\n",
       " 0.001477633600002836 0.0192876543999922 -- 0.0038439999999944174\n",
       " 0.010849305600001533 0.00044436639999930676 0.029282054400000663\n",
       " 0.0007441983999994775 1.3838400000115237e-05 0.0004981823999997078\n",
       " 0.018944769600001278 0.1338096399999845 0.0002598544000000258\n",
       " 5.535359999961511e-05 0.004651240000002549 5.5353600000460947e-05\n",
       " 0.01358623359999829 0.00012454560000040276 0.0023386896000002324\n",
       " 0.025985439999993417 0.0027123264000003832 0.0010394176000019359\n",
       " 0.007320513599997734 5.5353600000038026e-05 -- 0.0022202944000006327\n",
       " 0.024799950400006595 0.0010394176000001031 0.0035426304000024337\n",
       " 0.003844000000001466 0.012732865600001265 0.009840639999999241\n",
       " 2.460159999982894e-05 0.03741903359998172 3.844000000008515e-05\n",
       " 0.02479995039998869 -- 0.00297679359999791 1.3838400000115237e-05\n",
       " 0.0013838400000009507 0.003844000000001466 0.0006150399999985429\n",
       " 0.0002214144000001521 0.0022202943999992935 0.010088193599998367\n",
       " 0.011638094399998798 0.007320513599997734 1.3838399999903778e-05\n",
       " 0.16441403039999772 0.013586233600011542 0.006902286399999232\n",
       " 0.008193870399999626 0.01417052160000297 0.006902286399996871\n",
       " 0.00888117760000253 0.0009610000000003665 0.006902286399994509\n",
       " 0.007534240000000653 -- 0.01033882240000325 0.0017774655999996235 --\n",
       " 0.17050292639998804 0.08347476639999439 0.0013838400000009507\n",
       " 0.029282054400000663 -- 0.002843022399998417 0.034596000000002625\n",
       " 0.01358623359999829 0.07307290239998361 -- -- 0.000813390400000829\n",
       " 0.004319118399999854 0.012732865600001265 0.0003013695999988913\n",
       " 0.007320513600002598 0.0001537600000003406 0.005721409599994615\n",
       " 0.00935475839999818 0.0077510416000061595 1.3838400000115237e-05\n",
       " 0.004319118399999854 0.008881177599991817 0.0036917776000002338 --\n",
       " 0.02251200160000125 0.02760914559999693 0.025192038399996255\n",
       " 0.001477633599998466 0.0010394176000001031 7.534239999972282e-05\n",
       " 0.00034596000000076634 -- 0.00935475840000093 -- 0.001477633600000651\n",
       " 0.0005550735999988189 0.007109862399998494 0.02970796960000898\n",
       " 0.001293121599999185 0.002338689599994734 0.0006150399999985429 --\n",
       " 0.021409542400000845 0.0004981824000003422 0.0023386896000002324\n",
       " 3.8440000000437575e-05 0.025985440000011743 0.06336295840000299\n",
       " 0.001883559999999855 1.5375999999893086e-06 0.004319118399999854\n",
       " 0.01446727840000004 -- 0.03838464640001152 0.035993678399997765\n",
       " 0.001039417599999187 -- 0.03936255999999979 0.0017774655999996235\n",
       " 0.00448364160000308 0.0012054784000000058 -- 0.008193870400004771\n",
       " 0.019982649599997657 2.4601600000110882e-05 0.1137577983999759\n",
       " 0.03144238240000312 0.00012454560000040276 0.02441093759999901\n",
       " 0.018604959999994692 -- 0.010592526400008252 0.03459599999999998\n",
       " 0.000498182400001611 0.18835599999997316 0.008881177599999852\n",
       " 0.012454560000002213 0.004157670400000413 0.031004166399999613\n",
       " 9.840639999995013e-05 0.036940839999999885 -- 0.0011209103999998186\n",
       " 0.030136960000002613 0.00517248639999674 0.02104820640000209\n",
       " 0.001293121600000207 0.00753423999999942 0.004319118400001722\n",
       " 0.01137208959999973 0.010592526399996551 1.3838400000115237e-05\n",
       " 0.10155694240000034 0.05376833440000838 0.00753423999999942\n",
       " 0.0008133904000024502 -- 0.008193870399999626 0.005352385600002291\n",
       " 0.0018835599999992383 -- 0.0002598544000000258 0.007970918400000401\n",
       " 0.022141440000002524 0.011638094399999563 0.00629800960000132\n",
       " 0.0017774656000008218 -- 0.0027123264000000133 0.0003013696000003715\n",
       " 0.0341362575999937 0.2843022400000008 0.015376000000005864 --\n",
       " 0.019982649599997657 0.003253561600001695 0.009596161600000095\n",
       " 0.03100416639999461 0.08709581440000252 0.044436639999999576\n",
       " 0.001205478399999759 0.2509609216000063 0.010592526400002402 --\n",
       " 0.003844000000001466 2.4601599999969912e-05 0.013014246400000295\n",
       " 0.008649000000003298 0.0014776335999999682 0.002843022400001448\n",
       " 0.02970796960000898 0.00034595999999970903 0.0008133904000000184 --\n",
       " 0.002220294400003311 1.5376000000069301e-06 0.02885921440000001\n",
       " 0.0021049744000010114 0.001293121599999185 0.00112091040000077\n",
       " 0.003999297600000951 0.006298009600000191 0.026386753600000045\n",
       " 0.05906844159999683 3.843999999990893e-05 -- 0.028859214399997293\n",
       " 7.534239999996953e-05 6.150400000239178e-06 0.0025847055999993675\n",
       " 0.04135528959998988 5.5353600000038026e-05 0.0024601599999998103\n",
       " 0.031883673600001605 0.015070017599998141 0.002976793599991707\n",
       " 0.005910534400002604 0.00012454560000040276 0.007109862399998494\n",
       " 0.018604959999998567 -- 0.0012054784000004991 -- -- -- 0.04339722240000613\n",
       " 0.1171282175999978 -- 0.001293121600001229 -- 0.015685057599990605\n",
       " 0.005910534399998234 0.007970918400000401 0.000444366400000505\n",
       " 0.05609318560000039 0.003691777599995053 0.10797795999999635\n",
       " 0.008419897599993615 0.09079374239999387 -- 0.007320513599997734 --\n",
       " 0.006697785599990645 0.07173826560000361 -- 2.4601600000110882e-05\n",
       " 0.004651239999994796 -- 0.0035426303999990505 0.038872065600004294 --\n",
       " 0.004821913599994103 0.005535359999999574 0.004319118399999854\n",
       " 0.05262436000000573 0.04871731839999688 0.042882126400001996\n",
       " 0.057869113600001014 0.0003459600000002377 0.05093146239999223\n",
       " 0.016952040000000546 0.001674446400000569 0.009840639999999241\n",
       " 0.255955046400032 0.006697785599999949 0.04762869760001618\n",
       " 0.22086240160006715 0.057274062399982666 0.016312398400002738\n",
       " 0.014767110400000935 7.534239999947613e-05 0.0007441983999979268\n",
       " 0.015070017600006863 0.0002214144000001521 0.0003013696000008649\n",
       " 5.5353600000460947e-05 0.004319118399999854 0.0016744463999999874 --\n",
       " 0.036940839999994424 -- 0.01217932960000314 0.2290962496000395\n",
       " 0.2609983743999857 -- -- 0.004821913600005944 3.8440000000008055e-05\n",
       " 0.13746297760000312 0.0023386896000002324 0.0033965583999995726\n",
       " 0.0033965583999995726 0.00012454560000008555 0.0007441984000002528\n",
       " 0.0013838400000000255 0.018604960000002443 0.0009609999999968422\n",
       " 3.844000000026136e-05 0.015685057599997724 0.006496360000009809\n",
       " 0.016952040000000546 0.0002214144000001521 0.013876839999997257\n",
       " 0.003999297599997355 0.0012054784000004991 0.026791142399999798\n",
       " 6.150400000001289e-06 0.0012054784000004991 0.0001537600000003406\n",
       " 2.4601600000110882e-05 -- 0.008193870400002199 0.0018835600000004717\n",
       " 0.0017774655999996235 0.15942451839999225 0.0012054783999995125\n",
       " 0.008881177599997174 0.0007441984000010281 0.05093146239999223\n",
       " 0.013298702399999304 0.0010394176000019359 0.021409542400000845\n",
       " 0.0057214095999989145 0.01217932960000314 0.054344934400006414\n",
       " 0.03505881760001167 0.007970918400000401 0.0011209103999979154\n",
       " 0.05149268640000313 0.0023386896000002324 0.009840639999999241\n",
       " 6.150400000098206e-06 0.0023386896000002324 9.840639999987965e-05\n",
       " 0.015997190400003802 0.009116430399999027 0.0012931216000000153\n",
       " 0.0024601599999998103 -- 5.535359999961511e-05 0.006697785599999949\n",
       " 0.00935475840000093 0.0017774655999996235 0.0007441983999994775\n",
       " 9.840640000044353e-05 0.004483641599999274 0.018604960000002443\n",
       " 9.840640000044353e-05 0.001477633600000651 6.150400000098206e-06\n",
       " 0.0031136400000005534 6.150399999957235e-06 0.0008133904000000184\n",
       " 9.840639999931575e-05 0.09919980159999058 0.00030136959999987813\n",
       " 0.0031136399999989674 0.020689945600003312 6.150400000098206e-06\n",
       " 0.00015375999999998815 0.012179329600000004 0.002712326399998903\n",
       " 0.0008133904000000184 3.843999999990893e-05 0.0023386896000002324\n",
       " 0.006496359999998354 0.06975937439999538 6.150399999992478e-06\n",
       " 7.534240000046293e-05 0.08491396000000588 0.0007441984000010281\n",
       " 0.03144238239999808 0.0014776335999995584 0.014767110399994027\n",
       " 0.01358623359999829 0.0003013696000008649 7.534239999947613e-05\n",
       " 0.01137208959999973 0.0004981824000003422 0.009840639999999241\n",
       " 2.4601600000110882e-05 0.0019927296000001003 0.007534239999996953\n",
       " 0.001574502399999766 0.006902286399999232 0.007109862399998494\n",
       " 0.03985612959999523 0.0006150399999999526 0.0021049743999957955\n",
       " 0.0005550736000001582 0.014467278399988289 0.0013838400000009507\n",
       " 0.0027123263999959428 0.015070017599999886 0.005721409600003214\n",
       " 0.059672718399999915 0.0023386896000002324 0.0022202943999992935\n",
       " 0.003691777599998507 1.3838399999956643e-05 3.844000000008515e-05 --\n",
       " 0.0007441984000010281 0.008649000000003298 5.535359999961511e-05\n",
       " 0.012179329599996866 0.028439449599993977 0.004821913600005944\n",
       " 0.0002214144000001521 0.028859214399992467 0.008881177599997174\n",
       " 0.08133903999998562 0.03552471040001012 0.0003936256000000825\n",
       " 0.001883559999996771 0.0009610000000001463 0.012732865600001265\n",
       " 3.8439999999732715e-05 0.003999297599997355 6.1504000000277204e-06\n",
       " 0.00044436639999930676 0.004157670399999497 0.009840640000000036\n",
       " 0.01245455999999904 0.003253561599996831 0.004821913600000023\n",
       " 0.03100416639999461 0.0006780816000004658 0.018944769599993454\n",
       " 0.06398876159999722 -- 0.4205781903999879 0.028439449600001165\n",
       " 0.009596161600000095 0.010592526399996551 5.5353600000038026e-05\n",
       " 0.047089000000005626 0.03838464640000038 0.03790030240000206\n",
       " 0.0010394176000001031 0.00030136959999987813 0.0003936255999999415\n",
       " 0.0658846224000015 0.06398876160000082 0.003999297599997355\n",
       " 0.0017774655999996235 0.026791142399999798 0.007970918400000401\n",
       " 0.004651239999999642 0.0019927296000001003],\n",
       "             mask = [False False False  True False False False False False False False False\n",
       " False False False False False False False False False False False False\n",
       " False False False False False False False  True False  True False  True\n",
       " False False False False False False False False False False False False\n",
       " False False False False False False False False False False  True False\n",
       " False  True False False False False False False False False False False\n",
       " False False False False False False False False False  True  True False\n",
       " False False False False False False False  True False False False False\n",
       " False False False False False False False False False False False False\n",
       " False False False False False  True False False False False False False\n",
       " False False False False False  True False False False False False False\n",
       " False False False False False False False False False False False False\n",
       " False False False  True False False  True False False False False  True\n",
       " False False False False  True  True False False False False False False\n",
       " False False False False False False False  True False False False False\n",
       " False False False  True False  True False False False False False False\n",
       " False  True False False False False False False False False False False\n",
       "  True False False False  True False False False False  True False False\n",
       " False False False False False False  True False False False False False\n",
       " False False False False False  True False False False False False False\n",
       " False False False False False False False False  True False False False\n",
       "  True False False False False False False  True False False False False\n",
       " False  True False False False False False False False False False  True\n",
       " False False False False False False False False False  True False False\n",
       " False False False False False False False False False  True False False\n",
       " False False False False False False False False False False False False\n",
       "  True False  True  True  True False False  True False  True False False\n",
       " False False False False False False False  True False  True False False\n",
       "  True False False  True False False  True False False False False False\n",
       " False False False False False False False False False False False False\n",
       " False False False False False False False False False False  True False\n",
       "  True False False False  True  True False False False False False False\n",
       " False False False False False False False False False False False False\n",
       " False False False False False False  True False False False False False\n",
       " False False False False False False False False False False False False\n",
       " False False False False False False False False False False  True False\n",
       " False False False False False False False False False False False False\n",
       " False False False False False False False False False False False False\n",
       " False False False False False False False False False False False False\n",
       " False False False False False False False False False False False False\n",
       " False False False False False False False False False False False False\n",
       " False  True False False False False False False False False False False\n",
       " False False False False False False False False False False False False\n",
       " False False False False False False  True False False False False False\n",
       " False False False False False False False False False False False False\n",
       " False False],\n",
       "       fill_value = 0.0)"
      ]
     },
     "execution_count": 57,
     "metadata": {},
     "output_type": "execute_result"
    }
   ],
   "source": [
    "gM1x[2]"
   ]
  },
  {
   "cell_type": "code",
   "execution_count": null,
   "metadata": {
    "collapsed": true
   },
   "outputs": [],
   "source": []
  },
  {
   "cell_type": "code",
   "execution_count": 58,
   "metadata": {
    "collapsed": true
   },
   "outputs": [],
   "source": [
    "Tplot = '{}_Tplot'.format(name)"
   ]
  },
  {
   "cell_type": "code",
   "execution_count": 59,
   "metadata": {
    "collapsed": false
   },
   "outputs": [],
   "source": [
    "maxx = 290\n",
    "minx = 200\n",
    "maxy = 290\n",
    "miny = 200\n",
    "\n",
    "def plot_traj(xmax, xmin, ymax, ymin, xts, yts):\n",
    "    # Creates figure\n",
    "    fig = plt.figure(figsize=(24, 18), dpi=80)\n",
    "    ax = fig.add_subplot(111)\n",
    "    # ax.set_title('Particle Trajectories', x=0.5, y=1.15)\n",
    "\n",
    "    for num in range(1, total1):\n",
    "        ax.plot(xts[num], yts[num], linewidth=10, label='Particle {}'.format(num))\n",
    "\n",
    "\n",
    "    # A few adjustments to prettify the graph\n",
    "    for item in ([ax.xaxis.label, ax.yaxis.label] +\n",
    "                 ax.get_xticklabels() + ax.get_yticklabels()):\n",
    "        item.set_fontsize(70)\n",
    "\n",
    "    xmajor_ticks = np.arange(xmin, xmax + 0.001, 20)\n",
    "    ymajor_ticks = np.arange(ymin, ymax + 0.001, 20)\n",
    "\n",
    "    ax.set_xticks(xmajor_ticks)\n",
    "    ax.set_yticks(ymajor_ticks)\n",
    "    ax.title.set_fontsize(70)\n",
    "    ax.set_xlabel('x (um)', fontsize=95)\n",
    "    ax.set_ylabel('y (um)', fontsize=95)\n",
    "    #ax.tick_params(direction='out', pad=16)\n",
    "    #ax.legend(loc=(0.60, 0.76), prop={'size': 40})\n",
    "    plt.gca().xaxis.set_major_formatter(mpl.ticker.FormatStrFormatter('%.{}f'.format(0)))\n",
    "    plt.gca().yaxis.set_major_formatter(mpl.ticker.FormatStrFormatter('%.{}f'.format(0)))\n",
    "\n",
    "\n",
    "    #plt.yscale('log')\n",
    "    #plt.xscale('log')\n",
    "    plt.gca().set_xlim([xmin, xmax])\n",
    "    plt.gca().set_ylim([ymin, ymax])\n",
    "\n",
    "    # Save your figure\n",
    "    plt.savefig('{}.png'.format(Tplot), bbox_inches='tight')\n",
    "\n",
    "plot_traj(maxx, minx, maxy, miny, xs, ys)\n",
    "plt.show()"
   ]
  },
  {
   "cell_type": "code",
   "execution_count": 75,
   "metadata": {
    "collapsed": false
   },
   "outputs": [],
   "source": [
    "unit = 4\n",
    "\n",
    "maxx = 0.1*unit\n",
    "minx = -0.1*unit\n",
    "maxy = 0.1*unit\n",
    "miny = -0.1*unit\n",
    "ticks = 0.04*unit\n",
    "dec = 4\n",
    "\n",
    "NPs = np.array([1, 10, 20, 30, 40, 50])\n",
    "#NPs = filte\n",
    "#NPs = np.array([30])\n",
    "xc = dict()\n",
    "yc = dict()\n",
    "\n",
    "# Creates figure\n",
    "fig1 = plt.figure(figsize=(24, 18), dpi=80)\n",
    "ax1 = fig1.add_subplot(111)\n",
    "# ax.set_title('Particle Trajectories', x=0.5, y=1.15)\n",
    "\n",
    "for num in range(1, NPs.shape[0]+1):\n",
    "    lowx = min(xs[NPs[num-1]])\n",
    "    highx = max(xs[NPs[num-1]])\n",
    "    lowy = min(ys[NPs[num-1]])\n",
    "    highy = max(ys[NPs[num-1]])\n",
    "    \n",
    "    xc[NPs[num-1]] = np.array([xs[NPs[num-1]] - ((highx+lowx)/2)])\n",
    "    yc[NPs[num-1]] = np.array([ys[NPs[num-1]] - ((highy+lowy)/2)])\n",
    "    \n",
    "    ax1.plot(xc[NPs[num-1]][0, :], yc[NPs[num-1]][0, :], linewidth=10, label='Particle {}'.format(NPs[num-1]))\n",
    "\n",
    "\n",
    "# A few adjustments to prettify the graph\n",
    "for item in ([ax1.xaxis.label, ax1.yaxis.label] +\n",
    "             ax1.get_xticklabels() + ax1.get_yticklabels()):\n",
    "    item.set_fontsize(70)\n",
    "\n",
    "xmajor_ticks = np.arange(minx, maxx + 0.00001, ticks)\n",
    "ymajor_ticks = np.arange(miny, maxy + 0.00001, ticks)\n",
    "\n",
    "ax1.set_xticks(xmajor_ticks)\n",
    "ax1.set_yticks(ymajor_ticks)\n",
    "ax1.title.set_fontsize(70)\n",
    "ax1.set_xlabel('x (um)', fontsize=95)\n",
    "ax1.set_ylabel('y (um)', fontsize=95)\n",
    "ax1.tick_params(direction='out', pad=16)\n",
    "plt.xticks(rotation=-30)\n",
    "#ax1.legend(loc=(0.60, 0.46), prop={'size': 40})\n",
    "plt.gca().xaxis.set_major_formatter(mpl.ticker.FormatStrFormatter('%.{}f'.format(dec)))\n",
    "plt.gca().yaxis.set_major_formatter(mpl.ticker.FormatStrFormatter('%.{}f'.format(dec)))\n",
    "\n",
    "\n",
    "#plt.yscale('log')\n",
    "#plt.xscale('log')\n",
    "plt.gca().set_xlim([minx, maxx])\n",
    "plt.gca().set_ylim([miny, maxy])\n",
    "\n",
    "# Save your figure\n",
    "plt.savefig('{}.png'.format(Tplot), bbox_inches='tight')\n",
    "plt.show()"
   ]
  },
  {
   "cell_type": "code",
   "execution_count": 70,
   "metadata": {
    "collapsed": false
   },
   "outputs": [],
   "source": [
    "#Next, I will make a code to calculate MSD the right way-- as a function of lag time instead of just time.\n",
    "#This block can calculate MSD(tau) for a single particle chosen by the user.\n",
    "\n",
    "yourNP = 20\n",
    "m1x = np.zeros(frames.shape[0])\n",
    "m1xa = dict()\n",
    "\n",
    "for num1 in range(1, frames.shape[0]):\n",
    "\n",
    "    tau = num1\n",
    "    m1xa[num1] = np.zeros(frames.shape[0] - tau)\n",
    "    for num in range(0, frames.shape[0] - tau):\n",
    "        m1xa[num1][num] = (xs[yourNP][num + tau] - xs[yourNP][num])**2 + (ys[yourNP][num + tau] - ys[yourNP][num])**2\n",
    "    \n",
    "    m1xa[num1] = ma.masked_invalid(m1xa[num1])\n",
    "    m1x[num1] = np.mean(m1xa[num1])\n",
    "\n",
    "m1x = ma.masked_invalid(m1x)"
   ]
  },
  {
   "cell_type": "code",
   "execution_count": 83,
   "metadata": {
    "collapsed": false
   },
   "outputs": [],
   "source": [
    "\n",
    "#For normal scaling\n",
    "# maxx = 45\n",
    "# minx = 0\n",
    "# maxy = 0.1\n",
    "# miny = 0\n",
    "# xticks = 10\n",
    "# yticks = 0.02\n",
    "# xdec = 0\n",
    "# ydec = 2\n",
    "\n",
    "#For log scaling\n",
    "maxx = 100\n",
    "minx = 0.1\n",
    "maxy = 1\n",
    "miny = 0.001\n",
    "xticks = 10\n",
    "yticks = 0.02\n",
    "xdec = 0\n",
    "ydec = 2\n",
    "\n",
    "NPs = np.array([1, 10, 20, 30, 40, 50])\n",
    "#NPs = filte\n",
    "#NPs = np.array([30])\n",
    "xc = dict()\n",
    "yc = dict()\n",
    "\n",
    "# Creates figure\n",
    "fig1 = plt.figure(figsize=(24, 18), dpi=80)\n",
    "ax1 = fig1.add_subplot(111)\n",
    "# ax.set_title('Particle Trajectories', x=0.5, y=1.15)\n",
    "    \n",
    "ax1.plot(time[1:], m1x[1:], linewidth=10, label='Particle {}'.format(NPs[num-1]))\n",
    "\n",
    "\n",
    "# A few adjustments to prettify the graph\n",
    "for item in ([ax1.xaxis.label, ax1.yaxis.label] +\n",
    "             ax1.get_xticklabels() + ax1.get_yticklabels()):\n",
    "    item.set_fontsize(70)\n",
    "\n",
    "xmajor_ticks = np.arange(minx, maxx + 0.00001, xticks)\n",
    "ymajor_ticks = np.arange(miny, maxy + 0.00001, yticks)\n",
    "\n",
    "ax1.set_xticks(xmajor_ticks)\n",
    "ax1.set_yticks(ymajor_ticks)\n",
    "ax1.title.set_fontsize(70)\n",
    "ax1.set_xlabel('x (um)', fontsize=95)\n",
    "ax1.set_ylabel('y (um)', fontsize=95)\n",
    "ax1.tick_params(direction='out', pad=16)\n",
    "plt.xticks(rotation=-30)\n",
    "#ax1.legend(loc=(0.60, 0.46), prop={'size': 40})\n",
    "plt.gca().xaxis.set_major_formatter(mpl.ticker.FormatStrFormatter('%.{}f'.format(xdec)))\n",
    "plt.gca().yaxis.set_major_formatter(mpl.ticker.FormatStrFormatter('%.{}f'.format(ydec)))\n",
    "\n",
    "\n",
    "plt.yscale('log')\n",
    "plt.xscale('log')\n",
    "plt.gca().set_xlim([minx, maxx])\n",
    "plt.gca().set_ylim([miny, maxy])\n",
    "\n",
    "# Save your figure\n",
    "plt.savefig('{}.png'.format(Tplot), bbox_inches='tight')\n",
    "plt.show()"
   ]
  },
  {
   "cell_type": "code",
   "execution_count": 65,
   "metadata": {
    "collapsed": false
   },
   "outputs": [
    {
     "name": "stderr",
     "output_type": "stream",
     "text": [
      "C:\\Users\\koolk\\Miniconda3\\lib\\site-packages\\numpy\\ma\\core.py:4085: UserWarning: Warning: converting a masked element to nan.\n",
      "  warnings.warn(\"Warning: converting a masked element to nan.\")\n"
     ]
    }
   ],
   "source": [
    "am1x = dict()\n",
    "\n",
    "m1xa = dict()\n",
    "\n",
    "a1 = np.zeros((total1, frames.shape[0]))\n",
    "\n",
    "for num2 in range(1, total1):\n",
    "\n",
    "    am1x[num2] = np.zeros(frames.shape[0])\n",
    "\n",
    "    for num1 in range(1, frames.shape[0]):\n",
    "\n",
    "        tau = num1\n",
    "        m1xa[num1] = np.zeros(frames.shape[0] - tau)\n",
    "        for num in range(0, frames.shape[0] - tau):\n",
    "            m1xa[num1][num] = (xs[num2][num + tau] - xs[num2][num])**2 + (ys[num2][num + tau] - ys[num2][num])**2\n",
    "            \n",
    "        m1xa[num1] = ma.masked_invalid(m1xa[num1])\n",
    "        am1x[num2][num1] = np.mean(m1xa[num1])\n",
    "\n",
    "    am1x[num2] = ma.masked_invalid(am1x[num2])\n",
    "    a1[num2-1, :] = am1x[num2]\n",
    "\n",
    "a1 = ma.masked_invalid(a1)\n",
    "tot_m1x = np.mean(a1, axis=0)\n",
    "\n"
   ]
  },
  {
   "cell_type": "code",
   "execution_count": 68,
   "metadata": {
    "collapsed": false
   },
   "outputs": [
    {
     "data": {
      "text/plain": [
       "(543, 46)"
      ]
     },
     "execution_count": 68,
     "metadata": {},
     "output_type": "execute_result"
    }
   ],
   "source": [
    "a1.shape"
   ]
  },
  {
   "cell_type": "code",
   "execution_count": 69,
   "metadata": {
    "collapsed": false
   },
   "outputs": [
    {
     "data": {
      "text/plain": [
       "array([], dtype=int64)"
      ]
     },
     "execution_count": 69,
     "metadata": {},
     "output_type": "execute_result"
    }
   ],
   "source": [
    "filte = np.where(a1[:, 5]>0.5)[0]+1\n",
    "filte"
   ]
  },
  {
   "cell_type": "code",
   "execution_count": 94,
   "metadata": {
    "collapsed": true
   },
   "outputs": [],
   "source": [
    "#For normal scaling\n",
    "maxx = 45\n",
    "minx = 0\n",
    "maxy = 0.06\n",
    "miny = 0.03\n",
    "xticks = 10\n",
    "yticks = 0.01\n",
    "xdec = 0\n",
    "ydec = 2\n",
    "\n",
    "#For log scaling\n",
    "# maxx = 100\n",
    "# minx = 1\n",
    "# maxy = 0.1\n",
    "# miny = 0.01\n",
    "# xticks = 10\n",
    "# yticks = 0.02\n",
    "# xdec = 0\n",
    "# ydec = 2\n",
    "\n",
    "NPs = np.array([1, 10, 20, 30, 40, 50])\n",
    "#NPs = filte\n",
    "#NPs = np.array([30])\n",
    "xc = dict()\n",
    "yc = dict()\n",
    "\n",
    "# Creates figure\n",
    "fig1 = plt.figure(figsize=(24, 18), dpi=80)\n",
    "ax1 = fig1.add_subplot(111)\n",
    "# ax.set_title('Particle Trajectories', x=0.5, y=1.15)\n",
    "    \n",
    "ax1.plot(time[1:], tot_m1x[1:], linewidth=10, label='Particle {}'.format(NPs[num-1]))\n",
    "\n",
    "\n",
    "# A few adjustments to prettify the graph\n",
    "for item in ([ax1.xaxis.label, ax1.yaxis.label] +\n",
    "             ax1.get_xticklabels() + ax1.get_yticklabels()):\n",
    "    item.set_fontsize(70)\n",
    "\n",
    "xmajor_ticks = np.arange(minx, maxx + 0.00001, xticks)\n",
    "ymajor_ticks = np.arange(miny, maxy + 0.00001, yticks)\n",
    "\n",
    "ax1.set_xticks(xmajor_ticks)\n",
    "ax1.set_yticks(ymajor_ticks)\n",
    "ax1.title.set_fontsize(70)\n",
    "ax1.set_xlabel('x (um)', fontsize=95)\n",
    "ax1.set_ylabel('y (um)', fontsize=95)\n",
    "ax1.tick_params(direction='out', pad=16)\n",
    "plt.xticks(rotation=-30)\n",
    "#ax1.legend(loc=(0.60, 0.46), prop={'size': 40})\n",
    "plt.gca().xaxis.set_major_formatter(mpl.ticker.FormatStrFormatter('%.{}f'.format(xdec)))\n",
    "plt.gca().yaxis.set_major_formatter(mpl.ticker.FormatStrFormatter('%.{}f'.format(ydec)))\n",
    "\n",
    "\n",
    "# plt.yscale('log')\n",
    "# plt.xscale('log')\n",
    "plt.gca().set_xlim([minx, maxx])\n",
    "plt.gca().set_ylim([miny, maxy])\n",
    "\n",
    "# Save your figure\n",
    "plt.savefig('{}.png'.format(Tplot), bbox_inches='tight')\n",
    "plt.show()"
   ]
  },
  {
   "cell_type": "code",
   "execution_count": null,
   "metadata": {
    "collapsed": true
   },
   "outputs": [],
   "source": []
  }
 ],
 "metadata": {
  "kernelspec": {
   "display_name": "Python 3",
   "language": "python",
   "name": "python3"
  },
  "language_info": {
   "codemirror_mode": {
    "name": "ipython",
    "version": 3
   },
   "file_extension": ".py",
   "mimetype": "text/x-python",
   "name": "python",
   "nbconvert_exporter": "python",
   "pygments_lexer": "ipython3",
   "version": "3.5.1"
  }
 },
 "nbformat": 4,
 "nbformat_minor": 0
}
