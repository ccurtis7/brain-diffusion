{
 "cells": [
  {
   "cell_type": "code",
   "execution_count": 1,
   "metadata": {
    "collapsed": false
   },
   "outputs": [],
   "source": [
    "\"\"\"This Notebook will seek to compare the multiple ways available of calculating diffusion coefficients.  Elizabeth's\n",
    "method looks at the local derivative of the diffusion coefficient.  While interesting in some respects, it can \n",
    "propagate error very quickly.  Additional methods I want to look at include: \n",
    "\n",
    "Unmodified linear regression (doesn't take into account error bars of individual points through covariance matrix)\n",
    "Weighted linear regression (weighs each point by its accuracy, and maybe takes into account errorbars in cov?)\n",
    "\"\"\"\n",
    "\n",
    "import os\n",
    "import sys\n",
    "module_path = os.path.abspath(os.path.join('..'))\n",
    "if module_path not in sys.path:\n",
    "    sys.path.append(module_path)\n",
    "\n",
    "from trajectory_visualization import plot_trajectory, sidebyside, shift_trajectory, overlay, shift_trajectory3D\n",
    "from trajectory_visualization import plot_trajectories3D, plot_3Doverlay, plot_MSDorDeff, plot_MeanMSDorDeff, randtraj, multrandtraj\n",
    "from trajectory_visualization import randtraj2, plot_Mean2DMSDsorDeff, plot_MSDorDeffLR, LRfor3D2D, fillin, prettify\n",
    "\n",
    "import matplotlib as mpl\n",
    "import matplotlib.pyplot as plt\n",
    "import scipy.optimize as opt\n",
    "from mpl_toolkits.mplot3d import Axes3D\n",
    "from operator import itemgetter\n",
    "import random\n",
    "import numpy as np\n",
    "import numpy.linalg as la\n",
    "from mpl_toolkits.mplot3d import Axes3D\n",
    "\n",
    "pi = np.pi\n",
    "sin = np.sin\n",
    "cos = np.cos"
   ]
  },
  {
   "cell_type": "code",
   "execution_count": 2,
   "metadata": {
    "collapsed": false
   },
   "outputs": [],
   "source": [
    "# Type in datasets you would like to combine.  Adjust totvids to reflect the total number of videos. Also type in the\n",
    "# umppx and fps in the conversion dictionary.\n",
    "\n",
    "conversion = dict() #First element is the umppx, second is fps\n",
    "\n",
    "conversion[1] = (0.30, 4.84, 1)\n",
    "conversion[2] = (0.30, 4.84, 1)\n",
    "conversion[3] = (0.30, 5.02, 1)\n",
    "\n",
    "trajectory = dict()\n",
    "\n",
    "trajectory[1] = np.genfromtxt('../../sample_data/12-07-06-75p-glycerol-exp/CON_40x_2D_200ms_2.csv',\n",
    "            delimiter =\",\")\n",
    "trajectory[2] = np.genfromtxt('../../sample_data/12-07-06-75p-glycerol-exp/CON_40x_2D_200ms_3_T.csv',\n",
    "            delimiter =\",\")\n",
    "trajectory[3] = np.genfromtxt('../../sample_data/12-07-06-75p-glycerol-exp/CON_40x_2D_200ms_4_T.csv',\n",
    "            delimiter =\",\")\n",
    "\n",
    "totvids = 3\n",
    "\n",
    "for num in range(1, totvids + 1):\n",
    "    \n",
    "    #Remove titles from columns\n",
    "    #trajectory[num]=np.delete(trajectory[num], 0,0)\n",
    "    #Remove the number column from dataset\n",
    "    trajectory[num]=np.delete(trajectory[num],0,1)\n",
    "\n",
    "#Get rid of trajectories that are too short, as determined by prettify\n",
    "final = dict()\n",
    "tots = dict()\n",
    "\n",
    "for num in range(1, totvids + 1):\n",
    "    (final[num], tots[num]) = prettify(trajectory[num], 40, 40, conversion[num][0], conversion[num][1], conversion[num][2])\n",
    "\n",
    "\n",
    "#Collect trajectories of separate videos into one array\n",
    "parts = dict()\n",
    "lehi = dict()\n",
    "\n",
    "for num in range(1, totvids + 1):\n",
    "    parts[num] = tots[num]\n",
    "    lehi[num] = final[num][1]\n",
    "    counter = 1\n",
    "\n",
    "    while counter < parts[num]:\n",
    "        counter = counter + 1\n",
    "        lehi[num] = np.append(lehi[num], final[num][counter], axis=0)\n",
    "\n",
    "for num in range(2, totvids + 1):\n",
    "    lehi[num][:,0] = lehi[num][:,0] + max(lehi[num-1][:, 0])        \n",
    "        \n",
    "nephi = lehi[1]\n",
    "counter = 1\n",
    "\n",
    "while counter < totvids:\n",
    "    counter = counter + 1\n",
    "    nephi = np.append(nephi, lehi[counter], axis=0)"
   ]
  },
  {
   "cell_type": "code",
   "execution_count": 3,
   "metadata": {
    "collapsed": false
   },
   "outputs": [],
   "source": [
    "def Dpointder(traj, n1, n2, n3, tn, nD):\n",
    "    \"\"\"\n",
    "    Outputs the average diffusion coefficient at a desired timepoint.  User puts in a time.  The code finds the point\n",
    "    closest to that time and gives the diffusion coefficient at that time.\n",
    "    \n",
    "    Note that this code is only for 2D datasets.  I need to modify it slightly for 3D datasets.\n",
    "\n",
    "    n1: particle numbers (typically 0)\n",
    "    n2: time (15 when using prettify)\n",
    "    n3: MSDs or Deffs (9 for MSDs 17 for Deffs)\n",
    "    tn: desired time\n",
    "    nD: Either '2D', '1Dx', or '1Dy'\n",
    "    \n",
    "    Returns the values:\n",
    "    \n",
    "    MMSD: The diffusion coefficient at the desired time\n",
    "    SD: The standard deviation\n",
    "    total1: The number of particles taken into account in the calculation\n",
    "    t: The timepoint at which the diffusion coefficient was calculated\n",
    "    \"\"\"\n",
    "\n",
    "    # Creates an array 'particles' that contains the particle number at each frame.\n",
    "    particles = traj[:, n1]\n",
    "    total = int(max(particles))\n",
    "    total1 = total + 1\n",
    "    rawtime = traj[:, n2]\n",
    "    bow = traj.shape[0]\n",
    "    raw2DMSDs = np.zeros((bow, 4))\n",
    "    raw2DMSDs[:, 0] = traj[:, n3]\n",
    "    raw2DMSDs[:, 1:4] = traj[:, n3 + 3:n3 + 6]\n",
    "    MSD = dict()\n",
    "    time = dict()\n",
    "\n",
    "    # Creates an array for each trajectory containing all xyz data\n",
    "    for num in range(1, total1):\n",
    "\n",
    "        hold = np.where(particles == num)\n",
    "        itindex = hold[0]\n",
    "        min1 = min(itindex)\n",
    "        max1 = max(itindex)\n",
    "        MSD[num] = (raw2DMSDs[min1+2:max1, :])\n",
    "        time[num] = (rawtime[min1+2:max1])\n",
    "\n",
    "    MMSD = MSD[1]\n",
    "    for num in range(2, total1):\n",
    "        MMSD = MMSD + MSD[num]\n",
    "    MMSD = MMSD/total1\n",
    "    SD = np.zeros(np.shape(MMSD))\n",
    "    t = time[1][:]\n",
    "    \n",
    "    #Now to calculate the standard dev at each point:\n",
    "    for num in range (1, total1):\n",
    "        SDunit = (MSD[num] - MMSD)**2\n",
    "        SD = SD + SDunit\n",
    "    SD = np.sqrt(SD/total1)\n",
    "    SE = SD/np.sqrt(total1)\n",
    "    \n",
    "    def find_nearest(array, value):\n",
    "        idx = (np.abs(array-value)).argmin()\n",
    "        return array[idx], idx\n",
    "    \n",
    "    td, idx = find_nearest(t, tn)\n",
    "    \n",
    "    if nD == '2D':  \n",
    "        D = MMSD[idx, 0]\n",
    "        SDd = SD[idx, 0]\n",
    "    elif nD == '1Dx':\n",
    "        D = MMSD[idx, 1]\n",
    "        SDd = SD[idx, 1]\n",
    "    else:\n",
    "        D = MMSD[idx, 2]\n",
    "        SDd = SD[idx, 2]\n",
    "    \n",
    "    return D, SDd, total1, td"
   ]
  },
  {
   "cell_type": "code",
   "execution_count": 8,
   "metadata": {
    "collapsed": false
   },
   "outputs": [],
   "source": [
    "D = dict()\n",
    "SD = dict()\n",
    "total = dict()\n",
    "t = dict()\n",
    "\n",
    "D['pd2D'], SD['pd2D'], total['pd2D'], t['pd2D'] = Dpointder(nephi, 0, 15, 17, 1, '2D')\n",
    "D['pd1Dx'], SD['pd1Dx'], total['pd1Dx'], t['pd1Dx'] = Dpointder(nephi, 0, 15, 17, 1, '1Dx')\n",
    "D['pd1Dy'], SD['pd1Dy'], total['pd1Dy'], t['pd1Dy'] = Dpointder(nephi, 0, 15, 17, 1, '1Dy')"
   ]
  },
  {
   "cell_type": "code",
   "execution_count": 9,
   "metadata": {
    "collapsed": false
   },
   "outputs": [
    {
     "name": "stdout",
     "output_type": "stream",
     "text": [
      "0.124185570706\n",
      "0.104401956486\n",
      "0.143969184927\n"
     ]
    }
   ],
   "source": [
    "print(D['pd2D'])\n",
    "print(D['pd1Dx'])\n",
    "print(D['pd1Dy'])"
   ]
  },
  {
   "cell_type": "code",
   "execution_count": 10,
   "metadata": {
    "collapsed": false
   },
   "outputs": [
    {
     "data": {
      "text/plain": [
       "122"
      ]
     },
     "execution_count": 10,
     "metadata": {},
     "output_type": "execute_result"
    }
   ],
   "source": [
    "total['pd2D']"
   ]
  },
  {
   "cell_type": "code",
   "execution_count": 11,
   "metadata": {
    "collapsed": true
   },
   "outputs": [],
   "source": [
    "def Dlinalg(traj, n1, n2, n3, nD):\n",
    "    \"\"\"\n",
    "    Outputs the average diffusion coefficient at a desired timepoint.  User puts in a time.  The code finds the point\n",
    "    closest to that time and gives the diffusion coefficient at that time.\n",
    "    \n",
    "    Note that this code is only for 2D datasets.  I need to modify it slightly for 3D datasets.\n",
    "\n",
    "    n1: particle numbers (typically 0)\n",
    "    n2: time (15 when using prettify)\n",
    "    n3: MSDs or Deffs (9 for MSDs 17 for Deffs) **MUST be in MSDs in this case, not Deffs**\n",
    "    nD: Either '2D', '1Dx', or '1Dy'\n",
    "    \n",
    "    Returns the values:\n",
    "    \n",
    "    MMSD: The diffusion coefficient at the desired time\n",
    "    SD: The standard deviation\n",
    "    total1: The number of particles taken into account in the calculation\n",
    "    t: The timepoint at which the diffusion coefficient was calculated\n",
    "    \"\"\"\n",
    "\n",
    "    # Creates an array 'particles' that contains the particle number at each frame.\n",
    "    particles = traj[:, n1]\n",
    "    total = int(max(particles))\n",
    "    total1 = total + 1\n",
    "    rawtime = traj[:, n2]\n",
    "    bow = traj.shape[0]\n",
    "    raw2DMSDs = np.zeros((bow, 4))\n",
    "    raw2DMSDs[:, 0] = traj[:, n3]\n",
    "    raw2DMSDs[:, 1:4] = traj[:, n3 + 3:n3 + 6]\n",
    "    MSD = dict()\n",
    "    time = dict()\n",
    "\n",
    "    # Creates an array for each trajectory containing all xyz data\n",
    "    for num in range(1, total1):\n",
    "\n",
    "        hold = np.where(particles == num)\n",
    "        itindex = hold[0]\n",
    "        min1 = min(itindex)\n",
    "        max1 = max(itindex)\n",
    "        MSD[num] = (raw2DMSDs[min1+2:max1, :])\n",
    "        time[num] = (rawtime[min1+2:max1])\n",
    "\n",
    "    MMSD = MSD[1]\n",
    "    for num in range(2, total1):\n",
    "        MMSD = MMSD + MSD[num]\n",
    "    MMSD = MMSD/total1\n",
    "    SD = np.zeros(np.shape(MMSD))\n",
    "    t = time[1][:]\n",
    "    \n",
    "    #Now to calculate the standard dev at each point:\n",
    "    for num in range (1, total1):\n",
    "        SDunit = (MSD[num] - MMSD)**2\n",
    "        SD = SD + SDunit\n",
    "    SD = np.sqrt(SD/total1)\n",
    "    SE = SD/np.sqrt(total1)\n",
    "\n",
    "    w = dict()\n",
    "    cov = dict()\n",
    "    sd = dict()\n",
    "    line = dict()\n",
    "    #A = np.ones((np.shape(t)[0], 2))\n",
    "    #A[:, 0] = t\n",
    "    #w[0] = np.linalg.lstsq(A, MMSD[:, 0])[0]\n",
    "    #w[1] = np.linalg.lstsq(A, MMSD[:, 1])[0]\n",
    "    #w[2] = np.linalg.lstsq(A, MMSD[:, 2])[0]\n",
    "    \n",
    "    w[0], cov[0] = np.polyfit(t, MMSD[:, 0], 1, cov=True)\n",
    "    w[1], cov[1] = np.polyfit(t, MMSD[:, 1], 1, cov=True)\n",
    "    w[2], cov[2] = np.polyfit(t, MMSD[:, 2], 1, cov=True)\n",
    "    \n",
    "    sd[0] = np.sqrt(np.diag(cov[0]))\n",
    "    sd[1] = np.sqrt(np.diag(cov[1]))\n",
    "    sd[2] = np.sqrt(np.diag(cov[2]))\n",
    "    \n",
    "    if nD == '2D':  \n",
    "        D = w[0][0]/4\n",
    "        SDd = sd[0][0]/4\n",
    "    elif nD == '1Dx':\n",
    "        D = w[1][0]/2\n",
    "        SDd = sd[1][0]/2\n",
    "    else:\n",
    "        D = w[2][0]/2\n",
    "        SDd = sd[2][0]/2\n",
    "    \n",
    "    return D, SDd, total1"
   ]
  },
  {
   "cell_type": "code",
   "execution_count": 12,
   "metadata": {
    "collapsed": false
   },
   "outputs": [],
   "source": [
    "D['linalg2D'], SD['linalg2D'], total['linalg2D'] = Dlinalg(lehi[1], 0, 15, 9, '2D')\n",
    "D['linalg1Dx'], SD['linalg1Dx'], total['linalg1Dx'] = Dlinalg(lehi[1], 0, 15, 9, '1Dx')\n",
    "D['linalg1Dy'], SD['linalg1Dy'], total['linalg1Dy'] = Dlinalg(lehi[1], 0, 15, 9, '1Dy')"
   ]
  },
  {
   "cell_type": "code",
   "execution_count": 13,
   "metadata": {
    "collapsed": false
   },
   "outputs": [
    {
     "name": "stdout",
     "output_type": "stream",
     "text": [
      "0.0784968292338\n",
      "0.0687181377712\n",
      "0.0882755206964\n"
     ]
    }
   ],
   "source": [
    "print(D['linalg2D'])\n",
    "print(D['linalg1Dx'])\n",
    "print(D['linalg1Dy'])"
   ]
  },
  {
   "cell_type": "code",
   "execution_count": 14,
   "metadata": {
    "collapsed": true
   },
   "outputs": [],
   "source": [
    "def Dlinalgw(traj, n1, n2, n3, nD):\n",
    "    \"\"\"\n",
    "    Outputs the average diffusion coefficient at a desired timepoint.  User puts in a time.  The code finds the point\n",
    "    closest to that time and gives the diffusion coefficient at that time.\n",
    "    \n",
    "    Note that this code is only for 2D datasets.  I need to modify it slightly for 3D datasets.\n",
    "\n",
    "    n1: particle numbers (typically 0)\n",
    "    n2: time (15 when using prettify)\n",
    "    n3: MSDs or Deffs (9 for MSDs 17 for Deffs) **MUST be in MSDs in this case, not Deffs**\n",
    "    nD: Either '2D', '1Dx', or '1Dy'\n",
    "    \n",
    "    Returns the values:\n",
    "    \n",
    "    MMSD: The diffusion coefficient at the desired time\n",
    "    SD: The standard deviation\n",
    "    total1: The number of particles taken into account in the calculation\n",
    "    t: The timepoint at which the diffusion coefficient was calculated\n",
    "    \"\"\"\n",
    "\n",
    "    # Creates an array 'particles' that contains the particle number at each frame.\n",
    "    particles = traj[:, n1]\n",
    "    total = int(max(particles))\n",
    "    total1 = total + 1\n",
    "    rawtime = traj[:, n2]\n",
    "    bow = traj.shape[0]\n",
    "    raw2DMSDs = np.zeros((bow, 4))\n",
    "    raw2DMSDs[:, 0] = traj[:, n3]\n",
    "    raw2DMSDs[:, 1:4] = traj[:, n3 + 3:n3 + 6]\n",
    "    MSD = dict()\n",
    "    time = dict()\n",
    "\n",
    "    # Creates an array for each trajectory containing all xyz data\n",
    "    for num in range(1, total1):\n",
    "\n",
    "        hold = np.where(particles == num)\n",
    "        itindex = hold[0]\n",
    "        min1 = min(itindex)\n",
    "        max1 = max(itindex)\n",
    "        MSD[num] = (raw2DMSDs[min1+2:max1, :])\n",
    "        time[num] = (rawtime[min1+2:max1])\n",
    "\n",
    "    MMSD = MSD[1]\n",
    "    for num in range(2, total1):\n",
    "        MMSD = MMSD + MSD[num]\n",
    "    MMSD = MMSD/total1\n",
    "    SD = np.zeros(np.shape(MMSD))\n",
    "    t = time[1][:]\n",
    "    \n",
    "    #Now to calculate the standard dev at each point:\n",
    "    for num in range (1, total1):\n",
    "        SDunit = (MSD[num] - MMSD)**2\n",
    "        SD = SD + SDunit\n",
    "    SD = np.sqrt(SD/total1)\n",
    "    SE = SD/np.sqrt(total1)\n",
    "\n",
    "    w = dict()\n",
    "    cov = dict()\n",
    "    sd = dict()\n",
    "    line = dict()\n",
    "    #A = np.ones((np.shape(t)[0], 2))\n",
    "    #A[:, 0] = t\n",
    "    #w[0] = np.linalg.lstsq(A, MMSD[:, 0])[0]\n",
    "    #w[1] = np.linalg.lstsq(A, MMSD[:, 1])[0]\n",
    "    #w[2] = np.linalg.lstsq(A, MMSD[:, 2])[0]\n",
    "    \n",
    "    weight = dict()\n",
    "    weight[0] = [1.0 / ty for ty in SD[:, 0]]\n",
    "    weight[1] = [1.0 / ty for ty in SD[:, 1]]\n",
    "    weight[2] = [1.0 / ty for ty in SD[:, 2]]\n",
    "    \n",
    "    w[0], cov[0] = np.polyfit(t, MMSD[:, 0], 1, w=weight[0], full=False, cov=True)\n",
    "    w[1], cov[1] = np.polyfit(t, MMSD[:, 1], 1, w=weight[1], full=False, cov=True)\n",
    "    w[2], cov[2] = np.polyfit(t, MMSD[:, 2], 1, w=weight[2], full=False, cov=True)\n",
    "    \n",
    "    sd[0] = np.sqrt(np.diag(cov[0]))\n",
    "    sd[1] = np.sqrt(np.diag(cov[1]))\n",
    "    sd[2] = np.sqrt(np.diag(cov[2]))\n",
    "    \n",
    "    if nD == '2D':  \n",
    "        D = w[0][0]/4\n",
    "        SDd = sd[0][0]/4\n",
    "    elif nD == '1Dx':\n",
    "        D = w[1][0]/2\n",
    "        SDd = sd[1][0]/2\n",
    "    else:\n",
    "        D = w[2][0]/2\n",
    "        SDd = sd[2][0]/2\n",
    "    \n",
    "    return D, SDd, total1"
   ]
  },
  {
   "cell_type": "code",
   "execution_count": 15,
   "metadata": {
    "collapsed": true
   },
   "outputs": [],
   "source": [
    "D['linalgw2D'], SD['linalgw2D'], total['linalgw2D'] = Dlinalgw(lehi[1], 0, 15, 9, '2D')\n",
    "D['linalgw1Dx'], SD['linalgw1Dx'], total['linalgw1Dx'] = Dlinalgw(lehi[1], 0, 15, 9, '1Dx')\n",
    "D['linalgw1Dy'], SD['linalgw1Dy'], total['linalgw1Dy'] = Dlinalgw(lehi[1], 0, 15, 9, '1Dy')"
   ]
  },
  {
   "cell_type": "code",
   "execution_count": 16,
   "metadata": {
    "collapsed": false
   },
   "outputs": [
    {
     "name": "stdout",
     "output_type": "stream",
     "text": [
      "0.0804586371016\n",
      "0.0792060002065\n",
      "0.0690870226907\n"
     ]
    }
   ],
   "source": [
    "print(D['linalgw2D'])\n",
    "print(D['linalgw1Dx'])\n",
    "print(D['linalgw1Dy'])"
   ]
  },
  {
   "cell_type": "code",
   "execution_count": null,
   "metadata": {
    "collapsed": false
   },
   "outputs": [],
   "source": [
    "print(SD['linalg2D'])\n",
    "print(SD['linalgw2D'])"
   ]
  },
  {
   "cell_type": "code",
   "execution_count": null,
   "metadata": {
    "collapsed": true
   },
   "outputs": [],
   "source": []
  }
 ],
 "metadata": {
  "kernelspec": {
   "display_name": "Python 3",
   "language": "python",
   "name": "python3"
  },
  "language_info": {
   "codemirror_mode": {
    "name": "ipython",
    "version": 3
   },
   "file_extension": ".py",
   "mimetype": "text/x-python",
   "name": "python",
   "nbconvert_exporter": "python",
   "pygments_lexer": "ipython3",
   "version": "3.5.1"
  }
 },
 "nbformat": 4,
 "nbformat_minor": 0
}
