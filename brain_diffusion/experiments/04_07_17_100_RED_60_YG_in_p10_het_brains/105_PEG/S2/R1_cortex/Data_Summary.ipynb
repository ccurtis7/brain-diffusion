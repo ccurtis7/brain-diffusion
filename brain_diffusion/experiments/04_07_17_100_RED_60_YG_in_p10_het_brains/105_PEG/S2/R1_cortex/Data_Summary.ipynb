{
 "cells": [
  {
   "cell_type": "code",
   "execution_count": 1,
   "metadata": {
    "collapsed": false
   },
   "outputs": [],
   "source": [
    "import os\n",
    "import csv\n",
    "import sys\n",
    "module_path = os.path.abspath(os.path.join('C:\\\\Users\\\\koolk\\\\Desktop\\\\brain-diffusion\\\\Chad_functions_and_unittests'))\n",
    "if module_path not in sys.path:\n",
    "    sys.path.append(module_path)\n",
    "\n",
    "import matplotlib as mpl\n",
    "import matplotlib.pyplot as plt\n",
    "import matplotlib.ticker as mtick\n",
    "import scipy.optimize as opt\n",
    "import scipy.stats as stat\n",
    "from mpl_toolkits.mplot3d import Axes3D\n",
    "from operator import itemgetter\n",
    "import random\n",
    "import numpy as np\n",
    "import numpy.ma as ma\n",
    "import numpy.linalg as la\n",
    "from mpl_toolkits.mplot3d import Axes3D\n",
    "\n",
    "pi = np.pi\n",
    "sin = np.sin\n",
    "cos = np.cos"
   ]
  },
  {
   "cell_type": "code",
   "execution_count": 31,
   "metadata": {
    "collapsed": false
   },
   "outputs": [],
   "source": [
    "#The purpose of this book is to compare in one plot the results of varying parameters.\n",
    "\n",
    "nameRED_cor = '100nm_PEG_in_105_S2_cortex'\n",
    "nameYG_cor = '60nm_PEG_in_105_S2_cortex'\n",
    "\n",
    "nameRED_cor2 = '100nm_PS_PEG_in_cortex'\n",
    "\n",
    "geoRED_cor = np.genfromtxt('./RED/geoM2xy_{}.csv'.format(nameRED_cor), delimiter =\",\")\n",
    "geoYG_cor = np.genfromtxt('./YG/geoM2xy_{}.csv'.format(nameYG_cor), delimiter =\",\")\n",
    "geoRED_cor2 = np.genfromtxt('./RED/geoM2xy_{}.csv'.format(nameRED_cor2), delimiter =\",\")"
   ]
  },
  {
   "cell_type": "code",
   "execution_count": 29,
   "metadata": {
    "collapsed": false
   },
   "outputs": [
    {
     "data": {
      "text/plain": [
       "array([  0. ,   0.5,   1. ,   1.5,   2. ,   2.5,   3. ,   3.5,   4. ,\n",
       "         4.5,   5. ,   5.5,   6. ,   6.5,   7. ,   7.5,   8. ,   8.5,\n",
       "         9. ,   9.5,  10. ,  10.5,  11. ,  11.5,  12. ,  12.5,  13. ,\n",
       "        13.5,  14. ,  14.5,  15. ,  15.5,  16. ,  16.5,  17. ,  17.5,\n",
       "        18. ,  18.5,  19. ,  19.5,  20. ,  20.5,  21. ,  21.5,  22. ,\n",
       "        22.5,  23. ,  23.5,  24. ,  24.5,  25. ,  25.5,  26. ,  26.5,\n",
       "        27. ,  27.5,  28. ,  28.5,  29. ,  29.5,  30. ,  30.5,  31. ,\n",
       "        31.5,  32. ,  32.5,  33. ,  33.5,  34. ,  34.5,  35. ,  35.5,\n",
       "        36. ,  36.5,  37. ,  37.5,  38. ,  38.5,  39. ,  39.5,  40. ,\n",
       "        40.5,  41. ,  41.5,  42. ,  42.5,  43. ,  43.5,  44. ,  44.5,\n",
       "        45. ,  45.5,  46. ,  46.5,  47. ,  47.5,  48. ,  48.5,  49. ,  49.5])"
      ]
     },
     "execution_count": 29,
     "metadata": {},
     "output_type": "execute_result"
    }
   ],
   "source": [
    "conversion = dict()\n",
    "\n",
    "conversion[1] = (0.16, 4.98, 1)\n",
    "\n",
    "frames = 99\n",
    "frames_1 = np.linspace(0, frames, frames+1).astype(np.int64)\n",
    "time = frames_1/conversion[1][1]\n",
    "time2 = frames_1/2"
   ]
  },
  {
   "cell_type": "code",
   "execution_count": 23,
   "metadata": {
    "collapsed": false
   },
   "outputs": [],
   "source": [
    "#Figure parameters\n",
    "\n",
    "filename = 'geo_cor.png'\n",
    "\n",
    "frame_m = 14\n",
    "\n",
    "limit1=3.1 #x range\n",
    "tick1 = 1\n",
    "\n",
    "limit2=24.1 #y range\n",
    "tick2 = 4 #y ticks\n",
    "\n",
    "label=95 #label font size\n",
    "leg=40 #legend font size\n",
    "ylabel=r'MSD ($\\mu$m$^2$)'\n",
    "\n",
    "dec1=0 #decimals displayed on x axis\n",
    "dec2=0 #decimals displayed on y axis\n",
    "\n",
    "d1 = 30 #dashed line dash length\n",
    "d2 = 15 #dashed line space length\n",
    "\n",
    "wi = 10 #line width\n",
    "mi = 12 #marker size"
   ]
  },
  {
   "cell_type": "code",
   "execution_count": 7,
   "metadata": {
    "collapsed": true
   },
   "outputs": [],
   "source": [
    "def color_variant(hex_color, brightness_offset=1):\n",
    "    \"\"\" takes a color like #87c95f and produces a lighter or darker variant \"\"\"\n",
    "    if len(hex_color) != 7:\n",
    "        raise Exception(\"Passed %s into color_variant(), needs to be in #87c95f format.\" % hex_color)\n",
    "    rgb_hex = [hex_color[x:x+2] for x in [1, 3, 5]]\n",
    "    new_rgb_int = [int(hex_value, 16) + brightness_offset for hex_value in rgb_hex]\n",
    "    new_rgb_int = [min([255, max([0, i])]) for i in new_rgb_int] # make sure new values are between 0 and 255\n",
    "    # hex() produces \"0x88\", we want just \"88\"\n",
    "    return \"#\" + \"\".join([hex(i)[2:] for i in new_rgb_int])"
   ]
  },
  {
   "cell_type": "code",
   "execution_count": 8,
   "metadata": {
    "collapsed": false
   },
   "outputs": [],
   "source": [
    "# for name, hex in mpl.colors.cnames.items():\n",
    "#     print(name, hex)\n",
    "\n",
    "# g2 = color_variant('#008000', brightness_offset=0)\n",
    "# b2 = color_variant('#0000FF', brightness_offset=0)"
   ]
  },
  {
   "cell_type": "code",
   "execution_count": 9,
   "metadata": {
    "collapsed": true
   },
   "outputs": [],
   "source": [
    "def clamp(val, minimum=0, maximum=255):\n",
    "    if val < minimum:\n",
    "        return minimum\n",
    "    if val > maximum:\n",
    "        return maximum\n",
    "    return val\n",
    "\n",
    "def colorscale(hexstr, scalefactor):\n",
    "    \"\"\"\n",
    "    Scales a hex string by ``scalefactor``. Returns scaled hex string.\n",
    "\n",
    "    To darken the color, use a float value between 0 and 1.\n",
    "    To brighten the color, use a float value greater than 1.\n",
    "\n",
    "    >>> colorscale(\"#DF3C3C\", .5)\n",
    "    #6F1E1E\n",
    "    >>> colorscale(\"#52D24F\", 1.6)\n",
    "    #83FF7E\n",
    "    >>> colorscale(\"#4F75D2\", 1)\n",
    "    #4F75D2\n",
    "    \"\"\"\n",
    "\n",
    "    hexstr = hexstr.strip('#')\n",
    "\n",
    "    if scalefactor < 0 or len(hexstr) != 6:\n",
    "        return hexstr\n",
    "\n",
    "    r, g, b = int(hexstr[:2], 16), int(hexstr[2:4], 16), int(hexstr[4:], 16)\n",
    "\n",
    "    r = round(clamp(r * scalefactor))\n",
    "    g = round(clamp(g * scalefactor))\n",
    "    b = round(clamp(b * scalefactor))\n",
    "\n",
    "    return \"#%02x%02x%02x\" % (r, g, b)"
   ]
  },
  {
   "cell_type": "code",
   "execution_count": 10,
   "metadata": {
    "collapsed": false
   },
   "outputs": [
    {
     "data": {
      "text/plain": [
       "'#008000'"
      ]
     },
     "execution_count": 10,
     "metadata": {},
     "output_type": "execute_result"
    }
   ],
   "source": [
    "g2 = colorscale('#008000', 1)\n",
    "b2 = colorscale('#0000FF', 10)\n",
    "r2 = colorscale('#FF0000', 10)\n",
    "g2"
   ]
  },
  {
   "cell_type": "code",
   "execution_count": 11,
   "metadata": {
    "collapsed": false
   },
   "outputs": [
    {
     "data": {
      "text/plain": [
       "(99,)"
      ]
     },
     "execution_count": 11,
     "metadata": {},
     "output_type": "execute_result"
    }
   ],
   "source": [
    "time[0:-1].shape"
   ]
  },
  {
   "cell_type": "code",
   "execution_count": 25,
   "metadata": {
    "collapsed": false
   },
   "outputs": [],
   "source": [
    "# Creates figure\n",
    "fig = plt.figure(figsize=(18, 18), dpi=80)\n",
    "ax = fig.add_subplot(111)\n",
    "    # ax.set_title('Particle Trajectories', x=0.5, y=1.15)\n",
    "\n",
    "ax.plot(time[0:frame_m], geoRED_cor[0:frame_m], 'g--', linewidth=wi, dashes=[d1,d2], label='100nm PEG')\n",
    "ax.plot(time[0:frame_m], geoYG_cor[0:frame_m], 'b--', linewidth=wi, dashes=[d1,d2], label='60nm YG')\n",
    "\n",
    "# ax.errorbar(t, MMSD[:, 0], yerr=SE[:, 0], fmt='', linestyle='', capsize=7, capthick=2, elinewidth=2, color='blue')\n",
    "# ax.errorbar(t, MMSD[:, 1], yerr=SE[:, 1], fmt='', linestyle='', capsize=7, capthick=2, elinewidth=2, color='red')\n",
    "# ax.errorbar(t, MMSD[:, 2], yerr=SE[:, 2], fmt='', linestyle='', capsize=7, capthick=2, elinewidth=2, color='green')\n",
    "\n",
    "# ax.plot(time1[1:], line1[0][1:], linewidth=wi-3, color=b2)\n",
    "# ax.plot(time1[1:], line1[1][1:], linewidth=wi-3, color=g2)\n",
    "# ax.plot(time1[1:], line1[2][1:], linewidth=wi-3, color=r2)\n",
    "    \n",
    "# A few adjustments to prettify the graph\n",
    "for item in ([ax.xaxis.label, ax.yaxis.label] +\n",
    "             ax.get_xticklabels() + ax.get_yticklabels()):\n",
    "    item.set_fontsize(70)\n",
    "\n",
    "xmajor_ticks = np.arange(0, limit1, tick1)\n",
    "ymajor_ticks = np.arange(0, limit2, tick2)\n",
    "\n",
    "ax.set_xticks(xmajor_ticks)\n",
    "ax.set_yticks(ymajor_ticks)\n",
    "ax.title.set_fontsize(70)\n",
    "ax.set_xlabel('Time (s)', fontsize=label)\n",
    "ax.set_ylabel(ylabel, fontsize=label)\n",
    "ax.tick_params(direction='out', pad=16)\n",
    "ax.legend(loc=(0.02, 0.80), prop={'size': leg})\n",
    "plt.gca().xaxis.set_major_formatter(mpl.ticker.FormatStrFormatter('%.{}f'.format(dec1)))\n",
    "plt.gca().yaxis.set_major_formatter(mpl.ticker.FormatStrFormatter('%.{}f'.format(dec2)))\n",
    "\n",
    "\n",
    "# plt.yscale('log')\n",
    "# plt.xscale('log')\n",
    "plt.gca().set_xlim([0, limit1])\n",
    "plt.gca().set_ylim([0.00001, limit2])\n",
    "\n",
    "# Save your figure\n",
    "plt.savefig('{}'.format(filename), bbox_inches='tight')\n",
    "plt.show()"
   ]
  },
  {
   "cell_type": "code",
   "execution_count": 28,
   "metadata": {
    "collapsed": true
   },
   "outputs": [],
   "source": [
    "#Figure parameters\n",
    "\n",
    "filename = 'geo_comp_het_WT.png'\n",
    "\n",
    "frame_m = 14\n",
    "\n",
    "limit1=3.1 #x range\n",
    "tick1 = 1\n",
    "\n",
    "limit2=24.1 #y range\n",
    "tick2 = 4 #y ticks\n",
    "\n",
    "label=95 #label font size\n",
    "leg=40 #legend font size\n",
    "ylabel=r'MSD ($\\mu$m$^2$)'\n",
    "\n",
    "dec1=0 #decimals displayed on x axis\n",
    "dec2=0 #decimals displayed on y axis\n",
    "\n",
    "d1 = 30 #dashed line dash length\n",
    "d2 = 15 #dashed line space length\n",
    "\n",
    "wi = 10 #line width\n",
    "mi = 12 #marker size"
   ]
  },
  {
   "cell_type": "code",
   "execution_count": 35,
   "metadata": {
    "collapsed": false
   },
   "outputs": [],
   "source": [
    "# Creates figure\n",
    "fig = plt.figure(figsize=(18, 18), dpi=80)\n",
    "ax = fig.add_subplot(111)\n",
    "    # ax.set_title('Particle Trajectories', x=0.5, y=1.15)\n",
    "\n",
    "ax.plot(time[0:frame_m], geoRED_cor[0:frame_m], 'g--', linewidth=wi, dashes=[d1,d2], label='Het')\n",
    "ax.plot(time2[0:7], geoRED_cor2[0:7], 'b--', linewidth=wi, dashes=[d1,d2], label='WT')\n",
    "\n",
    "# ax.errorbar(t, MMSD[:, 0], yerr=SE[:, 0], fmt='', linestyle='', capsize=7, capthick=2, elinewidth=2, color='blue')\n",
    "# ax.errorbar(t, MMSD[:, 1], yerr=SE[:, 1], fmt='', linestyle='', capsize=7, capthick=2, elinewidth=2, color='red')\n",
    "# ax.errorbar(t, MMSD[:, 2], yerr=SE[:, 2], fmt='', linestyle='', capsize=7, capthick=2, elinewidth=2, color='green')\n",
    "\n",
    "# ax.plot(time1[1:], line1[0][1:], linewidth=wi-3, color=b2)\n",
    "# ax.plot(time1[1:], line1[1][1:], linewidth=wi-3, color=g2)\n",
    "# ax.plot(time1[1:], line1[2][1:], linewidth=wi-3, color=r2)\n",
    "    \n",
    "# A few adjustments to prettify the graph\n",
    "for item in ([ax.xaxis.label, ax.yaxis.label] +\n",
    "             ax.get_xticklabels() + ax.get_yticklabels()):\n",
    "    item.set_fontsize(70)\n",
    "\n",
    "xmajor_ticks = np.arange(0, limit1, tick1)\n",
    "ymajor_ticks = np.arange(0, limit2, tick2)\n",
    "\n",
    "ax.set_xticks(xmajor_ticks)\n",
    "ax.set_yticks(ymajor_ticks)\n",
    "ax.title.set_fontsize(70)\n",
    "ax.set_xlabel('Time (s)', fontsize=label)\n",
    "ax.set_ylabel(ylabel, fontsize=label)\n",
    "ax.tick_params(direction='out', pad=16)\n",
    "ax.legend(loc=(0.02, 0.80), prop={'size': leg})\n",
    "plt.gca().xaxis.set_major_formatter(mpl.ticker.FormatStrFormatter('%.{}f'.format(dec1)))\n",
    "plt.gca().yaxis.set_major_formatter(mpl.ticker.FormatStrFormatter('%.{}f'.format(dec2)))\n",
    "\n",
    "\n",
    "# plt.yscale('log')\n",
    "# plt.xscale('log')\n",
    "plt.gca().set_xlim([0, limit1])\n",
    "plt.gca().set_ylim([0.00001, limit2])\n",
    "\n",
    "# Save your figure\n",
    "plt.savefig('{}'.format(filename), bbox_inches='tight')\n",
    "plt.show()"
   ]
  },
  {
   "cell_type": "code",
   "execution_count": null,
   "metadata": {
    "collapsed": true
   },
   "outputs": [],
   "source": []
  }
 ],
 "metadata": {
  "kernelspec": {
   "display_name": "Python 3",
   "language": "python",
   "name": "python3"
  },
  "language_info": {
   "codemirror_mode": {
    "name": "ipython",
    "version": 3
   },
   "file_extension": ".py",
   "mimetype": "text/x-python",
   "name": "python",
   "nbconvert_exporter": "python",
   "pygments_lexer": "ipython3",
   "version": "3.5.1"
  }
 },
 "nbformat": 4,
 "nbformat_minor": 0
}
