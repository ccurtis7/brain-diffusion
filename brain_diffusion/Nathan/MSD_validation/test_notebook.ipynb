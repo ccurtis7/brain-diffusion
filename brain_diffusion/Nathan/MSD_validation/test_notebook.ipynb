{
 "cells": [
  {
   "cell_type": "code",
   "execution_count": 1,
   "metadata": {
    "collapsed": false
   },
   "outputs": [],
   "source": [
    "import os\n",
    "import csv\n",
    "import sys\n",
    "import scipy.optimize as opt\n",
    "import scipy.stats as stat\n",
    "from operator import itemgetter\n",
    "import random\n",
    "import numpy as np\n",
    "import numpy.ma as ma\n",
    "import numpy.linalg as la\n",
    "\n",
    "pi = np.pi\n",
    "sin = np.sin\n",
    "cos = np.cos"
   ]
  },
  {
   "cell_type": "code",
   "execution_count": 2,
   "metadata": {
    "collapsed": false
   },
   "outputs": [],
   "source": [
    "from basic_utils import fillin2, MSD_iteration, vectorized_MMSD_calcs"
   ]
  },
  {
   "cell_type": "markdown",
   "metadata": {},
   "source": [
    "# Inputs\n",
    "\n",
    "**folder** folder where trajectory csv file is located.\n",
    "\n",
    "**path** path (including folder name) where trajectory csv file is located.\n",
    "\n",
    "**frames** number of frames associated with the video being analyzed.\n",
    "\n",
    "**conversion** list containing the resolution (microns per pixel), frame rate (frames per second), and stack height (microns)\n",
    "\n",
    "**to_frame** don't worry about it right now.  Used to limit analysis to this number of frames.  \n",
    "\n",
    "**dimension** no longer has 3d capabilities, but used to be able to toggle between 2d and 3d\n",
    "\n",
    "**time_to_calculate** used to be used to indicated where to calculate diffusion coefficients in seconds.\n",
    "\n",
    "**cut** exludes trajectories that have less than specified number of frames.  Leave at 1 for now.\n",
    "\n",
    "**totvids** total number of videos to be analyzed.  Only used if using a for loop.\n",
    "\n",
    "**frame_m** redundant for the time being.  Make sure it matches the **frames** variable"
   ]
  },
  {
   "cell_type": "code",
   "execution_count": 3,
   "metadata": {
    "collapsed": true
   },
   "outputs": [],
   "source": [
    "folder = \"./\"\n",
    "path = \"./geoM2xy_{sample_name}.csv\"\n",
    "frames = 401\n",
    "#SD_frames = [10, 20, 50, 80]\n",
    "conversion = (1, 1, 1)  # (0.3, 3.95, 1)\n",
    "to_frame = 60\n",
    "dimension = \"2D\"\n",
    "time_to_calculate = 1\n",
    "\n",
    "# name = 'RED_KO_PEG_P1_S1_cortex'\n",
    "cut = 1\n",
    "totvids = 1\n",
    "frame_m = 401  # atm I can't go lower than the actual value.\n",
    "\n",
    "parameters = {}\n",
    "parameters[\"channels\"] = [\"RED\"]\n",
    "parameters[\"surface functionalities\"] = [\"nPEG\"]\n",
    "parameters[\"slices\"] = [\"S1\", \"S2\"]\n",
    "parameters[\"videos\"] = [1, 2]\n",
    "parameters[\"replicates\"] = [1, 2, 3]\n",
    "\n",
    "\n",
    "channels = parameters[\"channels\"]\n",
    "surface_functionalities = parameters[\"surface functionalities\"]\n",
    "slices = parameters[\"slices\"]\n",
    "videos = parameters[\"videos\"]\n",
    "replicates = parameters[\"replicates\"]\n",
    "\n",
    "geoM2xy = {}\n",
    "gSEM = {}\n",
    "SM1x = {}\n",
    "SM1y = {}\n",
    "SM2xy = {}"
   ]
  },
  {
   "cell_type": "code",
   "execution_count": null,
   "metadata": {
    "collapsed": true
   },
   "outputs": [],
   "source": [
    "#sample_name = \"{}_{}_{}_{}_{}\".format(channel, surface_functionality, '37C_72pH', slic, video)\n",
    "sample_name = \"specify\" #Fill sample name in here\n",
    "DIR = folder\n",
    "\n",
    "total1, xs, ys, x, y = MSD_iteration(DIR, sample_name, cut, totvids, conversion, frame_m)\n",
    "\n",
    "geoM2xy[sample_name], gSEM[sample_name], SM1x[sample_name], SM1y[sample_name],\\\n",
    "    SM2xy[sample_name] = vectorized_MMSD_calcs(frames, total1, xs, ys, x, y, frame_m)\n",
    "np.savetxt(DIR+'geoM2xy_{}.csv'.format(sample_name), geoM2xy[sample_name], delimiter=',')\n",
    "np.savetxt(DIR+'gSEM_{}.csv'.format(sample_name), gSEM[sample_name], delimiter=',')\n",
    "np.savetxt(DIR+'SM2xy_{}.csv'.format(sample_name), SM2xy[sample_name], delimiter=',')\n",
    "\n",
    "#geoM2xy[sample_name] = np.genfromtxt(DIR + 'geoM2xy_{}.csv'.format(sample_name), delimiter=\",\");\n",
    "#SM2xy[sample_name] = np.genfromtxt(DIR + \"SM2xy_{}.csv\".format(sample_name), delimiter=\",\");\n"
   ]
  }
 ],
 "metadata": {
  "kernelspec": {
   "display_name": "Python 3",
   "language": "python",
   "name": "python3"
  },
  "language_info": {
   "codemirror_mode": {
    "name": "ipython",
    "version": 3
   },
   "file_extension": ".py",
   "mimetype": "text/x-python",
   "name": "python",
   "nbconvert_exporter": "python",
   "pygments_lexer": "ipython3",
   "version": "3.5.3"
  }
 },
 "nbformat": 4,
 "nbformat_minor": 0
}
