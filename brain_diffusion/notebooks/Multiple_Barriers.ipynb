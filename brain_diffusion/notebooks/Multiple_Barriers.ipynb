{
 "cells": [
  {
   "cell_type": "code",
   "execution_count": 1,
   "metadata": {
    "collapsed": true
   },
   "outputs": [],
   "source": [
    "import matplotlib as mpl\n",
    "import matplotlib.pyplot as plt\n",
    "import scipy.optimize as opt\n",
    "from mpl_toolkits.mplot3d import Axes3D\n",
    "from trajectory_visualization import plot_trajectory, sidebyside, shift_trajectory, overlay, shift_trajectory3D\n",
    "from trajectory_visualization import plot_trajectories3D, plot_3Doverlay, plot_MSDorDeff, plot_MeanMSDorDeff, randtraj, multrandtraj\n",
    "from trajectory_visualization import randtraj2, plot_Mean2DMSDsorDeff, plot_MSDorDeffLR, LRfor3D2D\n",
    "from operator import itemgetter\n",
    "from random_traj import randaniso, randconv, multrandaniso, multrandconv, randsamp, multrandsamp, randall, multrandall\n",
    "from random_traj import randanisorot, multrandanisorot\n",
    "from ellipsoid import maxtraj, mvee, plot_mvee, plot_mveeoverl, rotmat, rotmat2, plot_mveeoverl2\n",
    "from ellipsoid import ellipsax, MSDS, andiff, plot_anisoMSDS, plot_anisodiff\n",
    "import random\n",
    "import numpy as np\n",
    "import numpy.linalg as la\n",
    "from mpl_toolkits.mplot3d import Axes3D\n",
    "from ellipsoid import extrema, enclosed_MSD\n",
    "\n",
    "from barriers import reflect, inter2planes, linepoint, intersection, quadratic, tangenttosphere, interlinesphere, reflectmod\n",
    "from barriers import randsphere, multrandsphere\n",
    "\n",
    "pi = np.pi\n",
    "sin = np.sin\n",
    "cos = np.cos"
   ]
  },
  {
   "cell_type": "code",
   "execution_count": null,
   "metadata": {
    "collapsed": true
   },
   "outputs": [],
   "source": [
    "#The goal of this notebook is to look at the diffusion of particles in matrices of spheres.  Ideally, I would create a\n",
    "#code that would generate as many spheres as I wanted spaced in a cubic fashion.  As my system relies on multiple if\n",
    "#statements, I don't know how doable this is.  I am going to start with a simple code that looks at diffusion around\n",
    "#two, four, and six spheres."
   ]
  },
  {
   "cell_type": "code",
   "execution_count": null,
   "metadata": {
    "collapsed": true
   },
   "outputs": [],
   "source": [
    "def randoutsphere(b, s, f, p, center, radius):\n",
    "    \"\"\"\n",
    "    Builds a single random trajectory that encounters a sphere centered at \"center\" and of radius \"radius.\" This code\n",
    "    is essentially the same as randsphere, but I had to modify the way the code interacted with the surface, especially\n",
    "    for spheres of large radius.  I may need to go back and modify randsphere as well.\n",
    "\n",
    "    b: base magnitude of single step\n",
    "    s: variation in step size\n",
    "    f: number of frames or steps to Takes\n",
    "    p: particle number (should be 1 for now)\n",
    "    center: point defining center of the sphere (x, y, z)\n",
    "    ppoi: a point that falls on the plane of interest as a 3-element numpy array\n",
    "\n",
    "    Output:\n",
    "    0 particle number\n",
    "    1 time or frames\n",
    "    2 x movement\n",
    "    3 angle 1 (not used)\n",
    "    4 angle 2 (note used)\n",
    "    5 x coordinate\n",
    "    6 y coordinate\n",
    "    7 z coordinate\n",
    "    8 centered x coordinate\n",
    "    9 centered y coordinate\n",
    "    10 centered z coordinate\n",
    "    11 MSD\n",
    "    12 2D xy MSD\n",
    "    13 2D xz MSD\n",
    "    14 2D yz MSD\n",
    "    15 Diffusion Coefficient (Deff)\n",
    "    16 2D xy Deff\n",
    "    17 2D xz Deff\n",
    "    18 2D yz Deff\n",
    "    19 y movement\n",
    "    20 z movement\n",
    "    \"\"\"\n",
    "\n",
    "    base = b\n",
    "    step = s\n",
    "    pi = 3.14159265359\n",
    "    frames = f\n",
    "\n",
    "    ttraject = np.zeros((frames, 22))\n",
    "    ttraject[0, 0] = p\n",
    "\n",
    "    for num in range(1, frames):\n",
    "\n",
    "        # Create particle number\n",
    "        ttraject[num, 0] = p\n",
    "\n",
    "        # Create frame\n",
    "        ttraject[num, 1] = 1 + ttraject[num-1, 1]\n",
    "\n",
    "        # Create magnitude vectors\n",
    "        ttraject[num, 2] = base*(random.random()-0.5)\n",
    "        ttraject[num, 19] = base*(random.random()-0.5)\n",
    "        ttraject[num, 20] = base*(random.random()-0.5)\n",
    "\n",
    "        # Build preliminary trajectories\n",
    "        ttraject[num, 5] = ttraject[num-1, 5] + ttraject[num, 2]\n",
    "        ttraject[num, 6] = ttraject[num-1, 6] + ttraject[num, 19]\n",
    "        ttraject[num, 7] = ttraject[num-1, 7] + ttraject[num, 20]\n",
    "\n",
    "        # Test to see if trajectories cross boundary\n",
    "        p0 = np.array([ttraject[num-1, 5], ttraject[num-1, 6], ttraject[num-1, 7]])\n",
    "        p1 = np.array([ttraject[num, 5], ttraject[num, 6], ttraject[num, 7]])\n",
    "        pc = center\n",
    "\n",
    "        test1 = (p0[0] - pc[0])**2 + (p0[1] - pc[1])**2 + (p0[2] - pc[2])**2 < radius**2\n",
    "        test2 = (p1[0] - pc[0])**2 + (p1[1] - pc[1])**2 + (p1[2] - pc[2])**2 < radius**2\n",
    "        test3 = test2 == test1\n",
    "\n",
    "        if test3 == True:\n",
    "            # In this case, the trajectories remain unmodified\n",
    "            tor = 1\n",
    "        else:\n",
    "            pint = interlinesphere(p0, p1, pc, radius)\n",
    "            pint, v = tangenttosphere(pint, pc, radius)\n",
    "            newp = reflectmod(p0, p1, v, pint)\n",
    "            ttraject[num, 5] = 1.0004*(pint[0] - pc[0]) + pc[0]\n",
    "            ttraject[num, 6] = 1.0004*(pint[1] - pc[1]) + pc[1]\n",
    "            ttraject[num, 7] = 1.0004*(pint[2] - pc[2]) + pc[2]\n",
    "\n",
    "    particle = ttraject[:, 0]\n",
    "    time = ttraject[:, 1]\n",
    "    x = ttraject[:, 5]\n",
    "    y = ttraject[:, 6]\n",
    "    z = ttraject[:, 7]\n",
    "\n",
    "    ttraject[:, 8] = x - ((max(x)+min(x))/2)\n",
    "    cx = ttraject[:, 8]\n",
    "    ttraject[:, 9] = y - ((max(y)+min(y))/2)\n",
    "    cy = ttraject[:, 9]\n",
    "    ttraject[:, 10] = z - ((max(z)+min(z))/2)\n",
    "    cz = ttraject[:, 10]\n",
    "\n",
    "    # Calculate MSDs and Deffs\n",
    "    for num in range(1, frames):\n",
    "\n",
    "        ttraject[num, 11] = ((ttraject[num, 8]-ttraject[0, 8])**2 + (ttraject[num, 9]-ttraject[0, 9])**2 +\n",
    "                             (ttraject[num, 10]-ttraject[0, 10])**2)\n",
    "        ttraject[num, 12] = ((ttraject[num, 8]-ttraject[0, 8])**2 + (ttraject[num, 9]-ttraject[0, 9])**2)\n",
    "        ttraject[num, 13] = ((ttraject[num, 8]-ttraject[0, 8])**2 + (ttraject[num, 10]-ttraject[0, 10])**2)\n",
    "        ttraject[num, 14] = ((ttraject[num, 10]-ttraject[0, 10])**2 + (ttraject[num, 9]-ttraject[0, 9])**2)\n",
    "\n",
    "        ttraject[num, 15] = ttraject[num, 11]/(6*ttraject[num, 1])\n",
    "        ttraject[num, 16] = ttraject[num, 12]/(4*ttraject[num, 1])\n",
    "        ttraject[num, 17] = ttraject[num, 13]/(4*ttraject[num, 1])\n",
    "        ttraject[num, 18] = ttraject[num, 14]/(4*ttraject[num, 1])\n",
    "\n",
    "    MSD = ttraject[:, 11]\n",
    "    MSDxy = ttraject[:, 12]\n",
    "    MSDxz = ttraject[:, 13]\n",
    "    MSDyz = ttraject[:, 14]\n",
    "\n",
    "    Deff = ttraject[:, 15]\n",
    "    Deffxy = ttraject[:, 16]\n",
    "    Deffxz = ttraject[:, 17]\n",
    "    Deffyz = ttraject[:, 18]\n",
    "\n",
    "    return ttraject"
   ]
  },
  {
   "cell_type": "code",
   "execution_count": null,
   "metadata": {
    "collapsed": true
   },
   "outputs": [],
   "source": [
    "def multrandoutsphere(b, s, f, p, center, radius):\n",
    "    \"\"\"\n",
    "    See randoutsphere\n",
    "    \"\"\"\n",
    "\n",
    "    parts = p\n",
    "    one = randoutsphere(b, s, f, 1, center, radius)\n",
    "    counter = 1\n",
    "\n",
    "    while counter < p + 1:\n",
    "        counter = counter + 1\n",
    "        one = np.append(one, randoutsphere(b, s, f, counter, center, radius), axis=0)\n",
    "\n",
    "    return one"
   ]
  },
  {
   "cell_type": "code",
   "execution_count": null,
   "metadata": {
    "collapsed": false
   },
   "outputs": [],
   "source": [
    "#To experiment with the effects of one sphere, I can look at both radius of the sphere at a fixed distance as well as \n",
    "#distance from the sphere with a fixed radius\n",
    "#Test distance with radius 30: 5, 10, 20, 40\n",
    "#Test radius with distance 5: 5, 10, 20, 40\n",
    "\n",
    "c1 = (-70, 0, 0)\n",
    "r1 = 30\n",
    "thr4 = multrandoutsphere(5, 1, 120, 1000, c1, r1)"
   ]
  },
  {
   "cell_type": "code",
   "execution_count": null,
   "metadata": {
    "collapsed": true
   },
   "outputs": [],
   "source": [
    "plot_3Doverlay(thr4, 0, 5, 0, 'sphere_distance4', 40, 40, 40)\n",
    "plt.show()"
   ]
  },
  {
   "cell_type": "code",
   "execution_count": null,
   "metadata": {
    "collapsed": false
   },
   "outputs": [],
   "source": [
    "one = plot_Mean2DMSDsorDeff(thr4, 0, 1, 11, 0, 0, 'MSD (um^2)', 'MSDS_sphere_distance4', 121, 801, 20, 200)\n",
    "plt.show()"
   ]
  },
  {
   "cell_type": "code",
   "execution_count": null,
   "metadata": {
    "collapsed": false
   },
   "outputs": [],
   "source": [
    "one = plot_Mean2DMSDsorDeff(thr4, 0, 1, 15, 0, 1, 'Deff (um^2/s)', 'Deff_sphere_distance4', 121, 1.6, 20, 0.5)\n",
    "plt.show()"
   ]
  },
  {
   "cell_type": "code",
   "execution_count": null,
   "metadata": {
    "collapsed": true
   },
   "outputs": [],
   "source": [
    "def randtwospheres(b, s, f, p, c1, r1, c2, r2):\n",
    "    \"\"\"\n",
    "    Builds a single random trajectory that encounters two spheres or radii r1 and r2 centered at c1 and c2 res-\n",
    "    pectively.  When defining these spheres, make sure they don't overlap.  It could cause the code to malfunction.\n",
    "    Furthermore, note that the particle starts diffusing at (0, 0, 0), and the particle cannot start inside the sphere\n",
    "    or the code will malfunction.\n",
    "\n",
    "    b: base magnitude of single step\n",
    "    s: variation in step size\n",
    "    f: number of frames or steps to Takes\n",
    "    p: particle number (should be 1 for now)\n",
    "    c1: center of the first sphere\n",
    "    c2: center of the second sphere\n",
    "    r1: radius of the first sphere\n",
    "    r2: radius of the second sphere.\n",
    "\n",
    "    Output:\n",
    "    0 particle number\n",
    "    1 time or frames\n",
    "    2 x movement\n",
    "    3 angle 1 (not used)\n",
    "    4 angle 2 (note used)\n",
    "    5 x coordinate\n",
    "    6 y coordinate\n",
    "    7 z coordinate\n",
    "    8 centered x coordinate\n",
    "    9 centered y coordinate\n",
    "    10 centered z coordinate\n",
    "    11 MSD\n",
    "    12 2D xy MSD\n",
    "    13 2D xz MSD\n",
    "    14 2D yz MSD\n",
    "    15 Diffusion Coefficient (Deff)\n",
    "    16 2D xy Deff\n",
    "    17 2D xz Deff\n",
    "    18 2D yz Deff\n",
    "    19 y movement\n",
    "    20 z movement\n",
    "    \"\"\"\n",
    "\n",
    "    base = b\n",
    "    step = s\n",
    "    pi = 3.14159265359\n",
    "    frames = f\n",
    "\n",
    "    ttraject = np.zeros((frames, 22))\n",
    "    ttraject[0, 0] = p\n",
    "    \n",
    "    for num in range(1, frames):\n",
    "\n",
    "        # Create particle number\n",
    "        ttraject[num, 0] = p\n",
    "        \n",
    "        # Create frame\n",
    "        ttraject[num, 1] = 1 + ttraject[num-1, 1]\n",
    "        \n",
    "        # Create magnitude vectors\n",
    "        ttraject[num, 2] = base*(random.random()-0.5)\n",
    "        ttraject[num, 19] = base*(random.random()-0.5)\n",
    "        ttraject[num, 20] = base*(random.random()-0.5)\n",
    "\n",
    "        # Build preliminary trajectories\n",
    "        ttraject[num, 5] = ttraject[num-1, 5] + ttraject[num, 2]\n",
    "        ttraject[num, 6] = ttraject[num-1, 6] + ttraject[num, 19]\n",
    "        ttraject[num, 7] = ttraject[num-1, 7] + ttraject[num, 20]\n",
    "        \n",
    "        # Test to see if trajectories cross boundary\n",
    "        p0 = np.array([ttraject[num-1, 5], ttraject[num-1, 6], ttraject[num-1, 7]])\n",
    "        p1 = np.array([ttraject[num, 5], ttraject[num, 6], ttraject[num, 7]])\n",
    "        \n",
    "        test1 = (p0[0] - c1[0])**2 + (p0[1] - c1[1])**2 + (p0[2] - c1[2])**2 < r1**2\n",
    "        test2 = (p1[0] - c1[0])**2 + (p1[1] - c1[1])**2 + (p1[2] - c1[2])**2 < r1**2\n",
    "        test3 = test2 == test1\n",
    "        \n",
    "        test4 = (p0[0] - c2[0])**2 + (p0[1] - c2[1])**2 + (p0[2] - c2[2])**2 < r2**2\n",
    "        test5 = (p1[0] - c2[0])**2 + (p1[1] - c2[1])**2 + (p1[2] - c2[2])**2 < r2**2\n",
    "        test6 = test5 == test4\n",
    "        \n",
    "        if test3 == False:\n",
    "            pint = interlinesphere(p0, p1, c1, r1)\n",
    "            pint, v = tangenttosphere(pint, c1, r1)\n",
    "            newp = reflectmod(p0, p1, v, pint)\n",
    "            ttraject[num, 5] = 1.0004*(pint[0] - c1[0]) + c1[0]\n",
    "            ttraject[num, 6] = 1.0004*(pint[1] - c1[1]) + c1[1]\n",
    "            ttraject[num, 7] = 1.0004*(pint[2] - c1[2]) + c1[2]\n",
    "            \n",
    "        elif test6 == False:\n",
    "            pint = interlinesphere(p0, p1, c2, r2)\n",
    "            pint, v = tangenttosphere(pint, c2, r2)\n",
    "            newp = reflectmod(p0, p1, v, pint)\n",
    "            ttraject[num, 5] = 1.0004*(pint[0] - c2[0]) + c2[0]\n",
    "            ttraject[num, 6] = 1.0004*(pint[1] - c2[1]) + c2[1]\n",
    "            ttraject[num, 7] = 1.0004*(pint[2] - c2[2]) + c2[2]\n",
    "\n",
    "        else:\n",
    "            #In this case, the trajectories remain unmodified\n",
    "            tor = 1\n",
    "\n",
    "    particle = ttraject[:, 0]\n",
    "    time = ttraject[:, 1]\n",
    "    x = ttraject[:, 5]\n",
    "    y = ttraject[:, 6]\n",
    "    z = ttraject[:, 7]\n",
    "\n",
    "    ttraject[:, 8] = x - ((max(x)+min(x))/2)\n",
    "    cx = ttraject[:, 8]\n",
    "    ttraject[:, 9] = y - ((max(y)+min(y))/2)\n",
    "    cy = ttraject[:, 9]\n",
    "    ttraject[:, 10] = z - ((max(z)+min(z))/2)\n",
    "    cz = ttraject[:, 10]\n",
    "    \n",
    "    # Calculate MSDs and Deffs\n",
    "    for num in range(1, frames):\n",
    "\n",
    "        ttraject[num, 11] = ((ttraject[num, 8]-ttraject[0, 8])**2 + (ttraject[num, 9]-ttraject[0, 9])**2 +\n",
    "                             (ttraject[num, 10]-ttraject[0, 10])**2)\n",
    "        ttraject[num, 12] = ((ttraject[num, 8]-ttraject[0, 8])**2 + (ttraject[num, 9]-ttraject[0, 9])**2)\n",
    "        ttraject[num, 13] = ((ttraject[num, 8]-ttraject[0, 8])**2 + (ttraject[num, 10]-ttraject[0, 10])**2)\n",
    "        ttraject[num, 14] = ((ttraject[num, 10]-ttraject[0, 10])**2 + (ttraject[num, 9]-ttraject[0, 9])**2)\n",
    "\n",
    "        ttraject[num, 15] = ttraject[num, 11]/(6*ttraject[num, 1])\n",
    "        ttraject[num, 16] = ttraject[num, 12]/(4*ttraject[num, 1])\n",
    "        ttraject[num, 17] = ttraject[num, 13]/(4*ttraject[num, 1])\n",
    "        ttraject[num, 18] = ttraject[num, 14]/(4*ttraject[num, 1])\n",
    "\n",
    "    MSD = ttraject[:, 11]\n",
    "    MSDxy = ttraject[:, 12]\n",
    "    MSDxz = ttraject[:, 13]\n",
    "    MSDyz = ttraject[:, 14]\n",
    "\n",
    "    Deff = ttraject[:, 15]\n",
    "    Deffxy = ttraject[:, 16]\n",
    "    Deffxz = ttraject[:, 17]\n",
    "    Deffyz = ttraject[:, 18]\n",
    "\n",
    "    return ttraject"
   ]
  },
  {
   "cell_type": "code",
   "execution_count": null,
   "metadata": {
    "collapsed": true
   },
   "outputs": [],
   "source": [
    "def multrandtwospheres(b, s, f, p, c1, r1, c2, r2):\n",
    "    \"\"\"\n",
    "    See randsphere\n",
    "    \"\"\"\n",
    "\n",
    "    parts = p\n",
    "    one = randtwospheres(b, s, f, 1, c1, r1, c2, r2)\n",
    "    counter = 1\n",
    "\n",
    "    while counter < p + 1:\n",
    "        counter = counter + 1\n",
    "        one = np.append(one, randtwospheres(b, s, f, counter, c1, r1, c2, r2), axis=0)\n",
    "\n",
    "    return one"
   ]
  },
  {
   "cell_type": "code",
   "execution_count": null,
   "metadata": {
    "collapsed": false
   },
   "outputs": [],
   "source": [
    "#Test distance with radius 30: 5, 10, 20, 40\n",
    "#Test radius with distance 5: 5, 10, 20, 40\n",
    "\n",
    "c1 = (-45, 0, 0)\n",
    "c2 = (-45, 0, 0)\n",
    "r1 = 40\n",
    "r2 = 40\n",
    "\n",
    "\n",
    "thr5 = multrandtwospheres(5, 1, 120, 1000, c1, r1, c2, r2)\n",
    "plot_3Doverlay(thr5, 0, 5, 0, 'twosphere_radius4', 50, 50, 50)\n",
    "plt.show()"
   ]
  },
  {
   "cell_type": "code",
   "execution_count": null,
   "metadata": {
    "collapsed": true
   },
   "outputs": [],
   "source": [
    "one = plot_Mean2DMSDsorDeff(thr5, 0, 1, 11, 0, 0, 'MSD (um^2)', 'MSDS_twosphere_radius4', 121, 601, 20, 200)\n",
    "plt.show()"
   ]
  },
  {
   "cell_type": "code",
   "execution_count": null,
   "metadata": {
    "collapsed": true
   },
   "outputs": [],
   "source": [
    "one = plot_Mean2DMSDsorDeff(thr5, 0, 1, 15, 0, 1, 'Deff (um^2/s)', 'Deff_twosphere_radius4', 121, 1.2, 20, 0.5)\n",
    "plt.show()"
   ]
  },
  {
   "cell_type": "code",
   "execution_count": null,
   "metadata": {
    "collapsed": true
   },
   "outputs": [],
   "source": [
    "#I need to write a code to generate a dictionary of centerpoints of spheres.  You will be able to put in number\n",
    "#along one axis e.g. inputting 3 will yield 27 spheres.  However, since particles start diffusing at 0, odd numbers are\n",
    "#out.  Only even numbers.  You should also be able to determine the spacing.\n",
    "\n",
    "def centers(rows, spaces):\n",
    "    "
   ]
  },
  {
   "cell_type": "code",
   "execution_count": null,
   "metadata": {
    "collapsed": false
   },
   "outputs": [],
   "source": [
    "nx, ny, nz = (4, 4, 4)\n",
    "x = np.linspace(-1, 1, nx)\n",
    "y = np.linspace(-1, 1, ny)\n",
    "z = np.linspace(-1, 1, nz)\n",
    "\n",
    "x"
   ]
  },
  {
   "cell_type": "code",
   "execution_count": null,
   "metadata": {
    "collapsed": false
   },
   "outputs": [],
   "source": [
    "x = np.arange(-5, 5, 0.1)\n",
    "y = np.arange(-5, 5, 0.1)\n",
    "xx, yy = np.meshgrid(x, y, sparse=True)\n",
    "z = np.sin(xx**2 + yy**2)/(xx**2 + yy**2)\n",
    "h = plt.contourf(x, y, z)\n",
    "plt.show()"
   ]
  },
  {
   "cell_type": "code",
   "execution_count": null,
   "metadata": {
    "collapsed": false
   },
   "outputs": [],
   "source": [
    "X, Y = np.mgrid[-5:5.1:0.5, -5:5.1:0.5]\n",
    "X"
   ]
  },
  {
   "cell_type": "code",
   "execution_count": null,
   "metadata": {
    "collapsed": false
   },
   "outputs": [],
   "source": [
    "xyz = np.mgrid[-10:10.1:20, -10:10.1:20, -10:10.1:20].reshape(3, -1).T"
   ]
  },
  {
   "cell_type": "code",
   "execution_count": 4,
   "metadata": {
    "collapsed": false
   },
   "outputs": [],
   "source": [
    "def grid(spaces, number):\n",
    "    x = spaces\n",
    "    y = x + 0.1\n",
    "    xn = number\n",
    "    xn2 = 2 * x / (xn-1)\n",
    "    \n",
    "    xyz = np.mgrid[-x:y:xn2, -x:y:xn2, -x:y:xn2].reshape(3, -1).T\n",
    "    return xyz"
   ]
  },
  {
   "cell_type": "code",
   "execution_count": 16,
   "metadata": {
    "collapsed": false
   },
   "outputs": [],
   "source": [
    "def randmultspheres(b, s, f, p, c, r):\n",
    "    \"\"\"\n",
    "    Builds a single random trajectory that encounters two spheres or radii r1 and r2 centered at c1 and c2 res-\n",
    "    pectively.  When defining these spheres, make sure they don't overlap.  It could cause the code to malfunction.\n",
    "    Furthermore, note that the particle starts diffusing at (0, 0, 0), and the particle cannot start inside the sphere\n",
    "    or the code will malfunction.\n",
    "\n",
    "    b: base magnitude of single step\n",
    "    s: variation in step size\n",
    "    f: number of frames or steps to Takes\n",
    "    p: particle number (should be 1 for now)\n",
    "    c: array of xyz coordinates of spheres to be included\n",
    "    r: radius of spheres\n",
    "\n",
    "    Output:\n",
    "    0 particle number\n",
    "    1 time or frames\n",
    "    2 x movement\n",
    "    3 angle 1 (not used)\n",
    "    4 angle 2 (note used)\n",
    "    5 x coordinate\n",
    "    6 y coordinate\n",
    "    7 z coordinate\n",
    "    8 centered x coordinate\n",
    "    9 centered y coordinate\n",
    "    10 centered z coordinate\n",
    "    11 MSD\n",
    "    12 2D xy MSD\n",
    "    13 2D xz MSD\n",
    "    14 2D yz MSD\n",
    "    15 Diffusion Coefficient (Deff)\n",
    "    16 2D xy Deff\n",
    "    17 2D xz Deff\n",
    "    18 2D yz Deff\n",
    "    19 y movement\n",
    "    20 z movement\n",
    "    \"\"\"\n",
    "\n",
    "    base = b\n",
    "    step = s\n",
    "    pi = 3.14159265359\n",
    "    frames = f\n",
    "\n",
    "    ttraject = np.zeros((frames, 22))\n",
    "    ttraject[0, 0] = p\n",
    "    \n",
    "    for num in range(1, frames):\n",
    "\n",
    "        # Create particle number\n",
    "        ttraject[num, 0] = p\n",
    "        \n",
    "        # Create frame\n",
    "        ttraject[num, 1] = 1 + ttraject[num-1, 1]\n",
    "        \n",
    "        # Create magnitude vectors\n",
    "        ttraject[num, 2] = base*(random.random()-0.5)\n",
    "        ttraject[num, 19] = base*(random.random()-0.5)\n",
    "        ttraject[num, 20] = base*(random.random()-0.5)\n",
    "\n",
    "        # Build preliminary trajectories\n",
    "        ttraject[num, 5] = ttraject[num-1, 5] + ttraject[num, 2]\n",
    "        ttraject[num, 6] = ttraject[num-1, 6] + ttraject[num, 19]\n",
    "        ttraject[num, 7] = ttraject[num-1, 7] + ttraject[num, 20]\n",
    "        \n",
    "        # Test to see if trajectories cross boundary\n",
    "        p0 = np.array([ttraject[num-1, 5], ttraject[num-1, 6], ttraject[num-1, 7]])\n",
    "        p1 = np.array([ttraject[num, 5], ttraject[num, 6], ttraject[num, 7]])\n",
    "        \n",
    "        co = 0\n",
    "        centers = np.shape(c)[0] - 1\n",
    "        test1 = dict()\n",
    "        test2 = dict()\n",
    "        test3 = dict()\n",
    "        \n",
    "        while co <= centers:\n",
    "            test1[co] = (p0[0] - c[co][0])**2 + (p0[1] - c[co][1])**2 + (p0[2] - c[co][2])**2 < r**2\n",
    "            test2[co] = (p1[0] - c[co][0])**2 + (p1[1] - c[co][1])**2 + (p1[2] - c[co][2])**2 < r**2\n",
    "            test3[co] = test2[co] == test1[co]\n",
    "            co = co + 1\n",
    "        \n",
    "        co = 0\n",
    "        \n",
    "        while co <= centers:\n",
    "        \n",
    "            if test3[co] == False:\n",
    "                pint = interlinesphere(p0, p1, c[co], r)\n",
    "                pint, v = tangenttosphere(pint, c[co], r)\n",
    "                ttraject[num, 5] = 1.00004*(pint[0] - c[co][0]) + c[co][0]\n",
    "                ttraject[num, 6] = 1.00004*(pint[1] - c[co][1]) + c[co][1]\n",
    "                ttraject[num, 7] = 1.00004*(pint[2] - c[co][2]) + c[co][2]\n",
    "\n",
    "            co = co + 1\n",
    "\n",
    "    particle = ttraject[:, 0]\n",
    "    time = ttraject[:, 1]\n",
    "    x = ttraject[:, 5]\n",
    "    y = ttraject[:, 6]\n",
    "    z = ttraject[:, 7]\n",
    "\n",
    "    ttraject[:, 8] = x - ((max(x)+min(x))/2)\n",
    "    cx = ttraject[:, 8]\n",
    "    ttraject[:, 9] = y - ((max(y)+min(y))/2)\n",
    "    cy = ttraject[:, 9]\n",
    "    ttraject[:, 10] = z - ((max(z)+min(z))/2)\n",
    "    cz = ttraject[:, 10]\n",
    "    \n",
    "    # Calculate MSDs and Deffs\n",
    "    for num in range(1, frames):\n",
    "\n",
    "        ttraject[num, 11] = ((ttraject[num, 8]-ttraject[0, 8])**2 + (ttraject[num, 9]-ttraject[0, 9])**2 +\n",
    "                             (ttraject[num, 10]-ttraject[0, 10])**2)\n",
    "        ttraject[num, 12] = ((ttraject[num, 8]-ttraject[0, 8])**2 + (ttraject[num, 9]-ttraject[0, 9])**2)\n",
    "        ttraject[num, 13] = ((ttraject[num, 8]-ttraject[0, 8])**2 + (ttraject[num, 10]-ttraject[0, 10])**2)\n",
    "        ttraject[num, 14] = ((ttraject[num, 10]-ttraject[0, 10])**2 + (ttraject[num, 9]-ttraject[0, 9])**2)\n",
    "\n",
    "        ttraject[num, 15] = ttraject[num, 11]/(6*ttraject[num, 1])\n",
    "        ttraject[num, 16] = ttraject[num, 12]/(4*ttraject[num, 1])\n",
    "        ttraject[num, 17] = ttraject[num, 13]/(4*ttraject[num, 1])\n",
    "        ttraject[num, 18] = ttraject[num, 14]/(4*ttraject[num, 1])\n",
    "\n",
    "    MSD = ttraject[:, 11]\n",
    "    MSDxy = ttraject[:, 12]\n",
    "    MSDxz = ttraject[:, 13]\n",
    "    MSDyz = ttraject[:, 14]\n",
    "\n",
    "    Deff = ttraject[:, 15]\n",
    "    Deffxy = ttraject[:, 16]\n",
    "    Deffxz = ttraject[:, 17]\n",
    "    Deffyz = ttraject[:, 18]\n",
    "\n",
    "    return ttraject"
   ]
  },
  {
   "cell_type": "code",
   "execution_count": 17,
   "metadata": {
    "collapsed": false
   },
   "outputs": [],
   "source": [
    "def multrandmultspheres(b, s, f, p, c, r):\n",
    "    \"\"\"\n",
    "    See randmultspheres\n",
    "    \"\"\"\n",
    "\n",
    "    parts = p\n",
    "    one = randmultspheres(b, s, f, 1, c, r)\n",
    "    counter = 1\n",
    "\n",
    "    while counter < p + 1:\n",
    "        counter = counter + 1\n",
    "        one = np.append(one, randmultspheres(b, s, f, counter, c, r), axis=0)\n",
    "\n",
    "    return one"
   ]
  },
  {
   "cell_type": "code",
   "execution_count": 71,
   "metadata": {
    "collapsed": false
   },
   "outputs": [
    {
     "data": {
      "text/plain": [
       "array([[-300., -300., -300.],\n",
       "       [-300., -300., -292.],\n",
       "       [-300., -300., -284.],\n",
       "       [-300., -300., -276.],\n",
       "       [-300., -300., -268.],\n",
       "       [-300., -300., -260.],\n",
       "       [-300., -300., -252.],\n",
       "       [-300., -300., -244.],\n",
       "       [-300., -300., -236.],\n",
       "       [-300., -300., -228.],\n",
       "       [-300., -300., -220.],\n",
       "       [-300., -300., -212.],\n",
       "       [-300., -300., -204.],\n",
       "       [-300., -300., -196.],\n",
       "       [-300., -300., -188.],\n",
       "       [-300., -300., -180.],\n",
       "       [-300., -300., -172.],\n",
       "       [-300., -300., -164.],\n",
       "       [-300., -300., -156.],\n",
       "       [-300., -300., -148.],\n",
       "       [-300., -300., -140.],\n",
       "       [-300., -300., -132.],\n",
       "       [-300., -300., -124.],\n",
       "       [-300., -300., -116.],\n",
       "       [-300., -300., -108.],\n",
       "       [-300., -300., -100.],\n",
       "       [-300., -300.,  -92.],\n",
       "       [-300., -300.,  -84.],\n",
       "       [-300., -300.,  -76.],\n",
       "       [-300., -300.,  -68.],\n",
       "       [-300., -300.,  -60.],\n",
       "       [-300., -300.,  -52.],\n",
       "       [-300., -300.,  -44.],\n",
       "       [-300., -300.,  -36.],\n",
       "       [-300., -300.,  -28.],\n",
       "       [-300., -300.,  -20.],\n",
       "       [-300., -300.,  -12.],\n",
       "       [-300., -300.,   -4.],\n",
       "       [-300., -300.,    4.],\n",
       "       [-300., -300.,   12.],\n",
       "       [-300., -300.,   20.],\n",
       "       [-300., -300.,   28.],\n",
       "       [-300., -300.,   36.],\n",
       "       [-300., -300.,   44.],\n",
       "       [-300., -300.,   52.],\n",
       "       [-300., -300.,   60.],\n",
       "       [-300., -300.,   68.],\n",
       "       [-300., -300.,   76.],\n",
       "       [-300., -300.,   84.],\n",
       "       [-300., -300.,   92.],\n",
       "       [-300., -300.,  100.],\n",
       "       [-300., -300.,  108.],\n",
       "       [-300., -300.,  116.],\n",
       "       [-300., -300.,  124.],\n",
       "       [-300., -300.,  132.],\n",
       "       [-300., -300.,  140.],\n",
       "       [-300., -300.,  148.],\n",
       "       [-300., -300.,  156.],\n",
       "       [-300., -300.,  164.],\n",
       "       [-300., -300.,  172.],\n",
       "       [-300., -300.,  180.],\n",
       "       [-300., -300.,  188.],\n",
       "       [-300., -300.,  196.],\n",
       "       [-300., -300.,  204.],\n",
       "       [-300., -300.,  212.],\n",
       "       [-300., -300.,  220.],\n",
       "       [-300., -300.,  228.],\n",
       "       [-300., -300.,  236.],\n",
       "       [-300., -300.,  244.],\n",
       "       [-300., -300.,  252.],\n",
       "       [-300., -300.,  260.],\n",
       "       [-300., -300.,  268.],\n",
       "       [-300., -300.,  276.],\n",
       "       [-300., -300.,  284.],\n",
       "       [-300., -300.,  292.],\n",
       "       [-300., -300.,  300.],\n",
       "       [-300., -292., -300.],\n",
       "       [-300., -292., -292.],\n",
       "       [-300., -292., -284.],\n",
       "       [-300., -292., -276.],\n",
       "       [-300., -292., -268.],\n",
       "       [-300., -292., -260.],\n",
       "       [-300., -292., -252.],\n",
       "       [-300., -292., -244.],\n",
       "       [-300., -292., -236.],\n",
       "       [-300., -292., -228.],\n",
       "       [-300., -292., -220.],\n",
       "       [-300., -292., -212.],\n",
       "       [-300., -292., -204.],\n",
       "       [-300., -292., -196.],\n",
       "       [-300., -292., -188.],\n",
       "       [-300., -292., -180.],\n",
       "       [-300., -292., -172.],\n",
       "       [-300., -292., -164.],\n",
       "       [-300., -292., -156.],\n",
       "       [-300., -292., -148.],\n",
       "       [-300., -292., -140.],\n",
       "       [-300., -292., -132.],\n",
       "       [-300., -292., -124.],\n",
       "       [-300., -292., -116.]])"
      ]
     },
     "execution_count": 71,
     "metadata": {},
     "output_type": "execute_result"
    }
   ],
   "source": [
    "xyz = grid(300, 76)\n",
    "xyz[0:100, :]"
   ]
  },
  {
   "cell_type": "code",
   "execution_count": 39,
   "metadata": {
    "collapsed": false
   },
   "outputs": [],
   "source": [
    "thr5 = multrandmultspheres(40, 1, 100, 1000, xyz[0:108, :], 43)\n",
    "plot_3Doverlay(thr5, 0, 5, 0, 'multspheres3_3', 400, 400, 400)\n",
    "plt.show()"
   ]
  },
  {
   "cell_type": "code",
   "execution_count": null,
   "metadata": {
    "collapsed": false
   },
   "outputs": [],
   "source": [
    "plot_3Doverlay(thr5, 0, 5, 0, 'multspheres1_5', 400, 400, 400)\n",
    "plt.show()"
   ]
  },
  {
   "cell_type": "code",
   "execution_count": 40,
   "metadata": {
    "collapsed": true
   },
   "outputs": [],
   "source": [
    "one = plot_Mean2DMSDsorDeff(thr5, 0, 1, 11, 0, 0, 'MSD (um^2)', 'MSDS_multspheres3_3', 101, 40001, 20, 8000)\n",
    "plt.show()"
   ]
  },
  {
   "cell_type": "code",
   "execution_count": 41,
   "metadata": {
    "collapsed": true
   },
   "outputs": [],
   "source": [
    "one = plot_Mean2DMSDsorDeff(thr5, 0, 1, 15, 0, 1, 'Deff (um^2/s)', 'Deff_multspheres3_3', 101, 100, 20, 20)\n",
    "plt.show()"
   ]
  },
  {
   "cell_type": "code",
   "execution_count": null,
   "metadata": {
    "collapsed": true
   },
   "outputs": [],
   "source": [
    "#Compare with isotropic behavior:\n",
    "thr = multrandanisorot(40, 1, 100, 1000, 1, 1, 1, 0, 0, 0)\n",
    "plot_3Doverlay(thr, 0, 5, 0, 'iso_3Dplot', 400, 400, 400)\n",
    "plt.show()"
   ]
  },
  {
   "cell_type": "code",
   "execution_count": null,
   "metadata": {
    "collapsed": true
   },
   "outputs": [],
   "source": [
    "one = plot_Mean2DMSDsorDeff(thr5, 0, 1, 11, 0, 0, 'MSD (um^2)', 'MSDS_iso1', 101, 40001, 20, 8000)\n",
    "plt.show()"
   ]
  },
  {
   "cell_type": "code",
   "execution_count": null,
   "metadata": {
    "collapsed": true
   },
   "outputs": [],
   "source": [
    "one = plot_Mean2DMSDsorDeff(thr5, 0, 1, 15, 0, 1, 'Deff (um^2/s)', 'Deff_iso1', 101, 100, 20, 20)\n",
    "plt.show()"
   ]
  },
  {
   "cell_type": "code",
   "execution_count": null,
   "metadata": {
    "collapsed": true
   },
   "outputs": [],
   "source": []
  }
 ],
 "metadata": {
  "kernelspec": {
   "display_name": "Python 3",
   "language": "python",
   "name": "python3"
  },
  "language_info": {
   "codemirror_mode": {
    "name": "ipython",
    "version": 3
   },
   "file_extension": ".py",
   "mimetype": "text/x-python",
   "name": "python",
   "nbconvert_exporter": "python",
   "pygments_lexer": "ipython3",
   "version": "3.5.1"
  }
 },
 "nbformat": 4,
 "nbformat_minor": 0
}
