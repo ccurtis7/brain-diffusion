{
 "cells": [
  {
   "cell_type": "code",
   "execution_count": 1,
   "metadata": {
    "collapsed": false
   },
   "outputs": [],
   "source": [
    "import matplotlib as mpl\n",
    "import matplotlib.pyplot as plt\n",
    "import scipy.optimize as opt\n",
    "from mpl_toolkits.mplot3d import Axes3D\n",
    "from trajectory_visualization import plot_trajectory, sidebyside, shift_trajectory, overlay, shift_trajectory3D\n",
    "from trajectory_visualization import plot_trajectories3D, plot_3Doverlay, plot_MSDorDeff, plot_MeanMSDorDeff, randtraj, multrandtraj\n",
    "from trajectory_visualization import randtraj2, plot_Mean2DMSDsorDeff, plot_MSDorDeffLR, LRfor3D2D\n",
    "from operator import itemgetter\n",
    "from random_traj import randaniso, randconv, multrandaniso, multrandconv, randsamp, multrandsamp, randall, multrandall\n",
    "import numpy as np\n",
    "import random"
   ]
  },
  {
   "cell_type": "code",
   "execution_count": null,
   "metadata": {
    "collapsed": false
   },
   "outputs": [],
   "source": [
    "trajectory = np.genfromtxt('../sample_data/Slice3_Video2_Trajectories.csv',\n",
    "            delimiter =\",\")\n",
    "trajectory=np.delete(trajectory, 0,0)\n"
   ]
  },
  {
   "cell_type": "code",
   "execution_count": null,
   "metadata": {
    "collapsed": false
   },
   "outputs": [],
   "source": [
    "plot_3Doverlay(trajectory, 0, 8, 2, 'Slice3_Video1_Traj', 100, 100, 100)\n",
    "plt.show()"
   ]
  },
  {
   "cell_type": "code",
   "execution_count": null,
   "metadata": {
    "collapsed": false
   },
   "outputs": [],
   "source": [
    "plot_MeanMSDorDeff(three, 0,1,15, 2, 'Deff', 'Deff_100NPs')\n",
    "plt.show()"
   ]
  },
  {
   "cell_type": "code",
   "execution_count": null,
   "metadata": {
    "collapsed": false
   },
   "outputs": [],
   "source": [
    "three = multrandtraj(5, 1, 150, 3000)"
   ]
  },
  {
   "cell_type": "code",
   "execution_count": null,
   "metadata": {
    "collapsed": true
   },
   "outputs": [],
   "source": [
    "plot_3Doverlay(three, 0, 5, 2, 'practice')\n",
    "plt.show()"
   ]
  },
  {
   "cell_type": "code",
   "execution_count": null,
   "metadata": {
    "collapsed": false
   },
   "outputs": [],
   "source": [
    "three[:,0]"
   ]
  },
  {
   "cell_type": "code",
   "execution_count": null,
   "metadata": {
    "collapsed": true
   },
   "outputs": [],
   "source": [
    "plot_MSDorDeff(trajectory, 1, 4, 29, 2, 'MSDs', 'practice')\n",
    "plt.show()"
   ]
  },
  {
   "cell_type": "code",
   "execution_count": null,
   "metadata": {
    "collapsed": false
   },
   "outputs": [],
   "source": [
    "plot_MSDorDeffLR(trajectory, 1, 4, 44, 2, 'MSDs', 'Slice3_Video1_MSDs')\n",
    "plt.show()"
   ]
  },
  {
   "cell_type": "code",
   "execution_count": null,
   "metadata": {
    "collapsed": false
   },
   "outputs": [],
   "source": [
    "LRfor3D2D(trajectory, 1, 4, 29, 33, 40, 45, 2, 'Deff', 'Slice3_Video1_Deff')\n",
    "plt.show()"
   ]
  },
  {
   "cell_type": "code",
   "execution_count": null,
   "metadata": {
    "collapsed": true
   },
   "outputs": [],
   "source": [
    "six = plot_Mean2DMSDsorDeff(thr, 0,1,15, 2, 'Deff', '3D2DDeff_1000NPs_all4')\n",
    "plt.show()"
   ]
  },
  {
   "cell_type": "code",
   "execution_count": null,
   "metadata": {
    "collapsed": false
   },
   "outputs": [],
   "source": [
    "thr = multrandaniso(5, 1, 120, 1000, 1.25, 10, 5)\n",
    "#plot_3Doverlay(thr, 0, 5, 2, 'traj_100NPs_aniso_1')\n",
    "#plt.show()"
   ]
  },
  {
   "cell_type": "code",
   "execution_count": null,
   "metadata": {
    "collapsed": false
   },
   "outputs": [],
   "source": [
    "two = plot_Mean2DMSDsorDeff(three, 0,1,11, 2, 'Deff', '3D2DDeff_1000NPs_aniso_4')\n",
    "plt.show()"
   ]
  },
  {
   "cell_type": "code",
   "execution_count": null,
   "metadata": {
    "collapsed": false
   },
   "outputs": [],
   "source": [
    "thr = multrandconv(5, 1, 120, 1000, 1.5, 1, 0.75)\n",
    "#plot_3Doverlay(thr, 0, 5, 2, 'traj_100NPs_conv')\n",
    "#plt.show()"
   ]
  },
  {
   "cell_type": "code",
   "execution_count": null,
   "metadata": {
    "collapsed": false
   },
   "outputs": [],
   "source": [
    "two = plot_Mean2DMSDsorDeff(thr, 0,1,15, 2, 'Deff', '3D2DDeff_1000NPs_conv4')\n",
    "plt.show()"
   ]
  },
  {
   "cell_type": "code",
   "execution_count": 8,
   "metadata": {
    "collapsed": false
   },
   "outputs": [],
   "source": [
    "four = multrandsamp(5, 2, 120, 1000, 5)\n",
    "plot_3Doverlay(four, 0, 5, 2, 'practice', 50, 50, 50)\n",
    "plt.show()"
   ]
  },
  {
   "cell_type": "code",
   "execution_count": 9,
   "metadata": {
    "collapsed": true
   },
   "outputs": [],
   "source": [
    "four1 = plot_Mean2DMSDsorDeff(four, 0,1,15, 2, 'Deff', 'practice1')\n",
    "plt.show()"
   ]
  },
  {
   "cell_type": "code",
   "execution_count": null,
   "metadata": {
    "collapsed": false
   },
   "outputs": [],
   "source": [
    "thr = multrandall(5, 1, 200, 50, 0, 0, 0, 1, 3, 1, 10)\n",
    "#plot_3Doverlay(thr, 0, 5, 2, 'traj_100NPs_all')\n",
    "#plt.show()"
   ]
  },
  {
   "cell_type": "code",
   "execution_count": null,
   "metadata": {
    "collapsed": false
   },
   "outputs": [],
   "source": [
    "five = plot_Mean2DMSDsorDeff(thr, 0,1,15, 2, 'Deff', '3D2DDeff_1000NPs_all4')\n",
    "plt.show()"
   ]
  },
  {
   "cell_type": "code",
   "execution_count": null,
   "metadata": {
    "collapsed": false
   },
   "outputs": [],
   "source": [
    "xdata = three.sort(key=itemgetter(11))\n",
    "xdata"
   ]
  },
  {
   "cell_type": "code",
   "execution_count": null,
   "metadata": {
    "collapsed": false
   },
   "outputs": [],
   "source": [
    "lst = [[1, 2], [3, 4], [5, 6]]\n",
    "lst.sort(key=itemgetter(1), reverse=True)\n",
    "lst"
   ]
  },
  {
   "cell_type": "code",
   "execution_count": null,
   "metadata": {
    "collapsed": false
   },
   "outputs": [],
   "source": [
    "three.sort(key=lambda x:x[1])"
   ]
  },
  {
   "cell_type": "code",
   "execution_count": null,
   "metadata": {
    "collapsed": false
   },
   "outputs": [],
   "source": [
    "a=np.array([[1,2,3],[4,5,6],[0,0,1]])\n",
    "a[np.argsort(a[:,0])[::-1]]"
   ]
  },
  {
   "cell_type": "code",
   "execution_count": null,
   "metadata": {
    "collapsed": false
   },
   "outputs": [],
   "source": [
    "new = three[np.argsort(three[:,11])[::-1]][0:100,:]\n",
    "new"
   ]
  },
  {
   "cell_type": "code",
   "execution_count": null,
   "metadata": {
    "collapsed": false
   },
   "outputs": [],
   "source": [
    "plot_3Doverlay(new, 0, 5, 2, 'practice')\n",
    "plt.show()"
   ]
  },
  {
   "cell_type": "code",
   "execution_count": null,
   "metadata": {
    "collapsed": false
   },
   "outputs": [],
   "source": [
    "new = three[149>three[:,1]][0:5000,:]"
   ]
  },
  {
   "cell_type": "code",
   "execution_count": null,
   "metadata": {
    "collapsed": false
   },
   "outputs": [],
   "source": [
    "fig = plt.figure(figsize=(24, 18), dpi=80)\n",
    "ax = fig.add_subplot(111, projection='3d')\n",
    "ax.set_title('Particle Trajectories', x=0.5, y=1.15)\n",
    "\n",
    "ax.scatter(new[:,5], new[:,6], new[:,7])\n",
    "plt.show()"
   ]
  },
  {
   "cell_type": "code",
   "execution_count": null,
   "metadata": {
    "collapsed": false
   },
   "outputs": [],
   "source": [
    "new"
   ]
  },
  {
   "cell_type": "code",
   "execution_count": null,
   "metadata": {
    "collapsed": true
   },
   "outputs": [],
   "source": []
  }
 ],
 "metadata": {
  "kernelspec": {
   "display_name": "Python 3",
   "language": "python",
   "name": "python3"
  },
  "language_info": {
   "codemirror_mode": {
    "name": "ipython",
    "version": 3
   },
   "file_extension": ".py",
   "mimetype": "text/x-python",
   "name": "python",
   "nbconvert_exporter": "python",
   "pygments_lexer": "ipython3",
   "version": "3.5.1"
  }
 },
 "nbformat": 4,
 "nbformat_minor": 0
}
