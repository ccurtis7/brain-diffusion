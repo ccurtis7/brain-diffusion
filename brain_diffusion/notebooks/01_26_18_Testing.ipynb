{
 "cells": [
  {
   "cell_type": "code",
   "execution_count": 1,
   "metadata": {
    "collapsed": true
   },
   "outputs": [],
   "source": [
    "import sys"
   ]
  },
  {
   "cell_type": "code",
   "execution_count": 2,
   "metadata": {
    "collapsed": false
   },
   "outputs": [
    {
     "data": {
      "text/plain": [
       "['',\n",
       " 'C:\\\\Users\\\\koolk\\\\Miniconda3\\\\python35.zip',\n",
       " 'C:\\\\Users\\\\koolk\\\\Miniconda3\\\\DLLs',\n",
       " 'C:\\\\Users\\\\koolk\\\\Miniconda3\\\\lib',\n",
       " 'C:\\\\Users\\\\koolk\\\\Miniconda3',\n",
       " 'C:\\\\Users\\\\koolk\\\\Miniconda3\\\\lib\\\\site-packages',\n",
       " 'C:\\\\Users\\\\koolk\\\\Miniconda3\\\\lib\\\\site-packages\\\\Sphinx-1.3.5-py3.5.egg',\n",
       " 'c:\\\\users\\\\koolk\\\\desktop\\\\diff-classifier',\n",
       " 'C:\\\\Users\\\\koolk\\\\Miniconda3\\\\lib\\\\site-packages\\\\fijibin-0.3.0-py3.5.egg',\n",
       " 'C:\\\\Users\\\\koolk\\\\Miniconda3\\\\lib\\\\site-packages\\\\pydebug-1.0.3-py3.5.egg',\n",
       " 'C:\\\\Users\\\\koolk\\\\Miniconda3\\\\lib\\\\site-packages\\\\win32',\n",
       " 'C:\\\\Users\\\\koolk\\\\Miniconda3\\\\lib\\\\site-packages\\\\win32\\\\lib',\n",
       " 'C:\\\\Users\\\\koolk\\\\Miniconda3\\\\lib\\\\site-packages\\\\Pythonwin',\n",
       " 'C:\\\\Users\\\\koolk\\\\Miniconda3\\\\lib\\\\site-packages\\\\setuptools-27.2.0-py3.5.egg',\n",
       " 'C:\\\\Users\\\\koolk\\\\Miniconda3\\\\lib\\\\site-packages\\\\IPython\\\\extensions',\n",
       " 'C:\\\\Users\\\\koolk\\\\.ipython']"
      ]
     },
     "execution_count": 2,
     "metadata": {},
     "output_type": "execute_result"
    }
   ],
   "source": [
    "sys.path"
   ]
  },
  {
   "cell_type": "code",
   "execution_count": null,
   "metadata": {
    "collapsed": true
   },
   "outputs": [],
   "source": []
  }
 ],
 "metadata": {
  "kernelspec": {
   "display_name": "Python 3",
   "language": "python",
   "name": "python3"
  },
  "language_info": {
   "codemirror_mode": {
    "name": "ipython",
    "version": 3
   },
   "file_extension": ".py",
   "mimetype": "text/x-python",
   "name": "python",
   "nbconvert_exporter": "python",
   "pygments_lexer": "ipython3",
   "version": "3.5.3"
  }
 },
 "nbformat": 4,
 "nbformat_minor": 0
}
