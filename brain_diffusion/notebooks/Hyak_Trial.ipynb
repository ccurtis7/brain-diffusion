{
 "cells": [
  {
   "cell_type": "code",
   "execution_count": null,
   "metadata": {
    "collapsed": true
   },
   "outputs": [],
   "source": [
    "xz = dict()\n",
    "\n",
    "xz[1] = grid(300, 4)\n",
    "xz[2] = grid(300, 6)\n",
    "xz[3] = grid(300, 16)\n",
    "xz[4] = grid(300, 26)\n",
    "xz[5] = grid(300, 76)"
   ]
  },
  {
   "cell_type": "code",
   "execution_count": null,
   "metadata": {
    "collapsed": true
   },
   "outputs": [],
   "source": [
    "thr1 = dict()\n",
    "thr2 = dict()\n",
    "thr3 = dict()\n",
    "thr4 = dict()\n",
    "\n",
    "thr1[1] = multrandmultspheres(40, 1, 150, 4000, xz[1], 95)\n",
    "thr1[2] = multrandmultspheres(40, 1, 150, 4000, xz[1], 75)\n",
    "thr1[3] = multrandmultspheres(40, 1, 150, 4000, xz[1], 50)\n",
    "thr1[4] = multrandmultspheres(40, 1, 150, 4000, xz[1], 25)\n",
    "thr1[5] = multrandmultspheres(40, 1, 150, 4000, xz[1], 10)\n",
    "\n",
    "thr2[1] = multrandmultspheres(40, 1, 150, 4000, xz[2], 55)\n",
    "thr2[2] = multrandmultspheres(40, 1, 150, 4000, xz[2], 50)\n",
    "thr2[3] = multrandmultspheres(40, 1, 150, 4000, xz[2], 25)\n",
    "thr2[4] = multrandmultspheres(40, 1, 150, 4000, xz[2], 10)\n",
    "\n",
    "thr3[1] = multrandmultspheres(40, 1, 150, 4000, xz[3], 19)\n",
    "thr3[2] = multrandmultspheres(40, 1, 150, 4000, xz[3], 15)\n",
    "thr3[3] = multrandmultspheres(40, 1, 150, 4000, xz[3], 10)\n",
    "thr3[4] = multrandmultspheres(40, 1, 150, 4000, xz[3], 5)\n",
    "\n",
    "thr4[1] = multrandmultspheres(40, 1, 150, 4000, xz[4], 10)\n",
    "thr4[2] = multrandmultspheres(40, 1, 150, 4000, xz[4], 5)\n",
    "\n",
    "thr5[1] = multrandmultspheres(40, 1, 150, 4000, xz[5], 2)"
   ]
  },
  {
   "cell_type": "code",
   "execution_count": null,
   "metadata": {
    "collapsed": true
   },
   "outputs": [],
   "source": [
    "one = dict()\n",
    "\n",
    "one[1] = plot_Mean2DMSDsorDeff(thr1[1], 0, 1, 11, 0, 0, 'MSD (um^2)', 'MSDS_ms_11', 151, 80001, 30, 8000)"
   ]
  },
  {
   "cell_type": "code",
   "execution_count": null,
   "metadata": {
    "collapsed": true
   },
   "outputs": [],
   "source": [
    "two = plot_Mean2DMSDsorDeff(thr1[1], 0, 1, 15, 0, 1, 'Deff (um^2/s)', 'Deff_ms_11', 151, 100, 30, 20)"
   ]
  }
 ],
 "metadata": {
  "kernelspec": {
   "display_name": "Python 3",
   "language": "python",
   "name": "python3"
  },
  "language_info": {
   "codemirror_mode": {
    "name": "ipython",
    "version": 3
   },
   "file_extension": ".py",
   "mimetype": "text/x-python",
   "name": "python",
   "nbconvert_exporter": "python",
   "pygments_lexer": "ipython3",
   "version": "3.5.1"
  }
 },
 "nbformat": 4,
 "nbformat_minor": 0
}
