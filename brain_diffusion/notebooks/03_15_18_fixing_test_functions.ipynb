{
 "cells": [
  {
   "cell_type": "code",
   "execution_count": 2,
   "metadata": {
    "collapsed": true
   },
   "outputs": [],
   "source": [
    "import os\n",
    "import csv\n",
    "import sys\n",
    "import scipy.optimize as opt\n",
    "import scipy.stats as stat\n",
    "from operator import itemgetter\n",
    "import random\n",
    "import numpy as np\n",
    "import numpy.ma as ma\n",
    "import numpy.linalg as la\n",
    "import numpy.testing as npt\n",
    "\n",
    "from brain_diffusion.msd import fillin2, MSD_iteration, vectorized_MMSD_calcs"
   ]
  },
  {
   "cell_type": "code",
   "execution_count": 17,
   "metadata": {
    "collapsed": false
   },
   "outputs": [],
   "source": [
    "n = 6\n",
    "p = 2\n",
    "df = np.zeros((p*n, 12))\n",
    "for i in range(1, p+1):\n",
    "    df[(i-1)*n:i*n, 0] = np.ones(n) + i - 1\n",
    "    df[(i-1)*n:i*n, 1] = np.ones(n) + i - 1\n",
    "    df[(i-1)*n:i*n, 2] = np.linspace(0, 10, n) + 2 + i\n",
    "    df[(i-1)*n:i*n, 3] = np.linspace(0, 10, n) + i\n",
    "    df[(i-1)*n:i*n, 4] = np.linspace(0, 10, n) + 3 + i\n",
    "    df[(i-1)*n:i*n, 5] = np.zeros(n)\n",
    "    df[(i-1)*n:i*n, 6:13] = np.zeros((n, 6))\n",
    "np.savetxt(\"../Traj_test_data_1.tif.csv\", df, delimiter=\",\")\n",
    "folder = '../'\n",
    "name = 'test_data'\n",
    "total1, frames, xs_m, ys_m, x_m, y_m = MSD_iteration(folder, name)"
   ]
  },
  {
   "cell_type": "code",
   "execution_count": 32,
   "metadata": {
    "collapsed": false
   },
   "outputs": [
    {
     "data": {
      "text/plain": [
       "True"
      ]
     },
     "execution_count": 32,
     "metadata": {},
     "output_type": "execute_result"
    }
   ],
   "source": [
    "total1 == p"
   ]
  },
  {
   "cell_type": "code",
   "execution_count": 27,
   "metadata": {
    "collapsed": false
   },
   "outputs": [
    {
     "data": {
      "text/plain": [
       "array([  1.,   3.,   5.,   7.,   9.,  11.,   2.,   4.,   6.,   8.,  10.,\n",
       "        12.])"
      ]
     },
     "execution_count": 27,
     "metadata": {},
     "output_type": "execute_result"
    }
   ],
   "source": [
    "df[:, 3]"
   ]
  },
  {
   "cell_type": "code",
   "execution_count": 33,
   "metadata": {
    "collapsed": true
   },
   "outputs": [],
   "source": [
    "n = 6\n",
    "p = 2\n",
    "df = np.zeros((p*n, 12))\n",
    "for i in range(1, p+1):\n",
    "    df[(i-1)*n:i*n, 0] = np.ones(n) + i - 1\n",
    "    df[(i-1)*n:i*n, 1] = np.ones(n) + i - 1\n",
    "    df[(i-1)*n:i*n, 2] = np.linspace(0, 10, n) + 2 + i\n",
    "    df[(i-1)*n:i*n, 3] = np.linspace(0, 10, n) + i\n",
    "    df[(i-1)*n:i*n, 4] = np.linspace(0, 10, n) + 3 + i\n",
    "    df[(i-1)*n:i*n, 5] = np.zeros(n)\n",
    "    df[(i-1)*n:i*n, 6:12] = np.zeros((n, 6))\n",
    "np.savetxt(\"../Traj_test_data_1.tif.csv\", df, delimiter=\",\")\n",
    "folder = '../'\n",
    "name = 'test_data'\n",
    "total1, frames, xs_m, ys_m, x_m, y_m = MSD_iteration(folder, name)\n",
    "geoM2xy, gSEM, SM1x, SM1y, SM2xy = vectorized_MMSD_calcs(frames, total1, xs_m, ys_m)\n",
    "\n",
    "test1 = np.array([0.,  1.38629436, 2.07944154, 2.99573227, 3.4657359,\n",
    "                  3.95124372, 4.27666612, 4.60517019, 4.85203026, 5.09986643,\n",
    "                  5.29831737,  0.,  0.,  0.])\n",
    "\n",
    "test2 = np.array([ 0., 0., 0., 0., 0., 0.,  0.,  0.,  0.,  2.54993321, 2.64915868, 0., 0., 0.])\n",
    "\n",
    "test3 = np.array([[0.,    0.],\n",
    "                  [2.,    2.],\n",
    "                  [4.,    4.],\n",
    "                  [10.,   10.],\n",
    "                  [16.,   16.],\n",
    "                  [26.,   26.],\n",
    "                  [36.,   36.],\n",
    "                  [50.,   50.],\n",
    "                  [64.,   64.],\n",
    "                  [0.,   82.],\n",
    "                  [0.,  100.],\n",
    "                  [0.,    0.],\n",
    "                  [0.,    0.],\n",
    "                  [0.,    0.]])"
   ]
  },
  {
   "cell_type": "code",
   "execution_count": 46,
   "metadata": {
    "collapsed": false
   },
   "outputs": [],
   "source": [
    "dist = ma.log(ma.masked_equal(SM2xy, 0))\n",
    "\n",
    "geoM2xy = ma.mean(dist, axis=1)\n",
    "gSEM = stat.sem(dist, axis=1)"
   ]
  },
  {
   "cell_type": "code",
   "execution_count": 47,
   "metadata": {
    "collapsed": false
   },
   "outputs": [
    {
     "data": {
      "text/plain": [
       "masked_array(data =\n",
       " [[-- --]\n",
       " [1.3862943611198906 1.3862943611198906]\n",
       " [2.0794415416798357 2.0794415416798357]\n",
       " [2.995732273553991 2.995732273553991]\n",
       " [3.4657359027997265 3.4657359027997265]\n",
       " [3.9512437185814275 3.9512437185814275]\n",
       " [4.276666119016055 4.276666119016055]\n",
       " [4.605170185988092 4.605170185988092]\n",
       " [4.852030263919617 4.852030263919617]\n",
       " [-- 5.099866427824199]\n",
       " [-- 5.298317366548036]\n",
       " [-- --]\n",
       " [-- --]\n",
       " [-- --]],\n",
       "             mask =\n",
       " [[ True  True]\n",
       " [False False]\n",
       " [False False]\n",
       " [False False]\n",
       " [False False]\n",
       " [False False]\n",
       " [False False]\n",
       " [False False]\n",
       " [False False]\n",
       " [ True False]\n",
       " [ True False]\n",
       " [ True  True]\n",
       " [ True  True]\n",
       " [ True  True]],\n",
       "       fill_value = 0.0)"
      ]
     },
     "execution_count": 47,
     "metadata": {},
     "output_type": "execute_result"
    }
   ],
   "source": [
    "g"
   ]
  },
  {
   "cell_type": "code",
   "execution_count": 48,
   "metadata": {
    "collapsed": false
   },
   "outputs": [
    {
     "data": {
      "text/plain": [
       "array([ 0.        ,  0.        ,  0.        ,  0.        ,  0.        ,\n",
       "        0.        ,  0.        ,  0.        ,  0.        ,  2.54993321,\n",
       "        2.64915868,  0.        ,  0.        ,  0.        ])"
      ]
     },
     "execution_count": 48,
     "metadata": {},
     "output_type": "execute_result"
    }
   ],
   "source": [
    "gSEM"
   ]
  },
  {
   "cell_type": "code",
   "execution_count": null,
   "metadata": {
    "collapsed": true
   },
   "outputs": [],
   "source": []
  }
 ],
 "metadata": {
  "kernelspec": {
   "display_name": "Python 3",
   "language": "python",
   "name": "python3"
  },
  "language_info": {
   "codemirror_mode": {
    "name": "ipython",
    "version": 3
   },
   "file_extension": ".py",
   "mimetype": "text/x-python",
   "name": "python",
   "nbconvert_exporter": "python",
   "pygments_lexer": "ipython3",
   "version": "3.5.3"
  }
 },
 "nbformat": 4,
 "nbformat_minor": 0
}
