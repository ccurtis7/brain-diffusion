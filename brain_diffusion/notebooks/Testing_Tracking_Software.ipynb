{
 "cells": [
  {
   "cell_type": "code",
   "execution_count": null,
   "metadata": {
    "collapsed": true
   },
   "outputs": [],
   "source": [
    "# This code was rather difficult to operate, because I had to modify my clunky Excel spreadsheet every time\n",
    "# I generated a new dataset from either Ben's code or the MOSAIC program.  I decided to write a new set of\n",
    "# code in Ben_MOSAIC_Comparison in order to modify direct outputs from either code into an easily manageable\n",
    "# dataset similar to the random trajectory Numpy arrays I already generate."
   ]
  },
  {
   "cell_type": "code",
   "execution_count": 1,
   "metadata": {
    "collapsed": true
   },
   "outputs": [],
   "source": [
    "import matplotlib as mpl\n",
    "import matplotlib.pyplot as plt\n",
    "import scipy.optimize as opt\n",
    "from mpl_toolkits.mplot3d import Axes3D\n",
    "from trajectory_visualization import plot_trajectory, sidebyside, shift_trajectory, overlay, shift_trajectory3D\n",
    "from trajectory_visualization import plot_trajectories3D, plot_3Doverlay, plot_MSDorDeff, plot_MeanMSDorDeff, randtraj, multrandtraj\n",
    "from trajectory_visualization import randtraj2, plot_Mean2DMSDsorDeff, plot_MSDorDeffLR, LRfor3D2D\n",
    "from operator import itemgetter\n",
    "from random_traj import randaniso, randconv, multrandaniso, multrandconv, randsamp, multrandsamp, randall, multrandall\n",
    "from random_traj import randanisorot, multrandanisorot\n",
    "from ellipsoid import maxtraj, mvee, plot_mvee, plot_mveeoverl, rotmat, rotmat2, plot_mveeoverl2\n",
    "from ellipsoid import ellipsax, MSDS, andiff, plot_anisoMSDS, plot_anisodiff\n",
    "import random\n",
    "import numpy as np\n",
    "import numpy.linalg as la\n",
    "from mpl_toolkits.mplot3d import Axes3D\n",
    "from ellipsoid import extrema, enclosed_MSD\n",
    "\n",
    "pi = np.pi\n",
    "sin = np.sin\n",
    "cos = np.cos"
   ]
  },
  {
   "cell_type": "code",
   "execution_count": 3,
   "metadata": {
    "collapsed": false
   },
   "outputs": [],
   "source": [
    "trajectory = np.genfromtxt('../sample_data/Prelim_MOSAIC_2DData.csv',\n",
    "            delimiter =\",\")\n",
    "trajectory=np.delete(trajectory, np.s_[0:10],0)\n",
    "\n",
    "trajectory1 = np.genfromtxt('../sample_data/Prelim_BenProgram_2DDatab.csv',\n",
    "            delimiter =\",\")\n",
    "trajectory1=np.delete(trajectory1, 0,0)"
   ]
  },
  {
   "cell_type": "code",
   "execution_count": null,
   "metadata": {
    "collapsed": false
   },
   "outputs": [],
   "source": [
    "plot_3Doverlay(trajectory, 1, 24, 1, 'practice', 50, 50, 50)\n",
    "plt.show()"
   ]
  },
  {
   "cell_type": "code",
   "execution_count": null,
   "metadata": {
    "collapsed": false
   },
   "outputs": [],
   "source": [
    "help(plot_3Doverlay)"
   ]
  },
  {
   "cell_type": "code",
   "execution_count": 10,
   "metadata": {
    "collapsed": false
   },
   "outputs": [
    {
     "data": {
      "text/plain": [
       "array([  0.        ,  25.3279067 ,  25.3279067 ,  25.3279067 ,\n",
       "        51.42772748,  24.95821786,  10.45675768,   4.2060074 ,\n",
       "         5.83955297,   6.12970809])"
      ]
     },
     "execution_count": 10,
     "metadata": {},
     "output_type": "execute_result"
    }
   ],
   "source": [
    "trajectory1[0:10,32]"
   ]
  },
  {
   "cell_type": "code",
   "execution_count": 28,
   "metadata": {
    "collapsed": false
   },
   "outputs": [],
   "source": [
    "\n",
    "\"\"\"\n",
    "A modified version of plot_3Doverlay to do 2D plots for 2D datasets. May be a little clunky.\n",
    "Uses all the same variables.\n",
    "\"\"\"\n",
    "\n",
    "# Creates an array 'particles' that contains the particle number at each frame.\n",
    "particles = trajectory[:, 1]\n",
    "position = trajectory[:, 24:24+4]\n",
    "total = int(max(particles))\n",
    "total1 = total + 1\n",
    "path = dict()\n",
    "\n",
    "# Creates an array for each trajectory containing all xyz data\n",
    "for num in range(1, total1):\n",
    "\n",
    "    hold = np.where(particles == num)\n",
    "    itindex = hold[0]\n",
    "    min1 = min(itindex)\n",
    "    max1 = max(itindex)\n",
    "    path[num] = (position[min1:max1, :])\n",
    "\n",
    "# Creates figure\n",
    "fig = plt.figure(figsize=(24, 18), dpi=80)\n",
    "ax = fig.add_subplot(111)\n",
    "# ax.set_title('Particle Trajectories', x=0.5, y=1.15)\n",
    "\n",
    "# Plots individual trajectories\n",
    "for num in range(1, total1):\n",
    "\n",
    "    ax.plot(path[num][:, 0], path[num][:, 1], label='Particle {}'.format(num))\n",
    "\n",
    "axbox = ax.get_position()\n",
    "\n",
    "legunit = max(trajectory[:,1])\n",
    "ax.legend(loc=(0.85, 0.96-0.0273*legunit), prop={'size': 20})\n",
    "ax.locator_params(nbins=6)\n",
    "\n",
    "# A few adjustments to prettify the graph\n",
    "for item in ([ax.xaxis.label, ax.yaxis.label] +\n",
    "             ax.get_xticklabels() + ax.get_yticklabels()):\n",
    "    item.set_fontsize(20)\n",
    "\n",
    "ax.title.set_fontsize(35)\n",
    "ax.tick_params(direction='out', pad=3)\n",
    "plt.gca().xaxis.set_major_formatter(mpl.ticker.FormatStrFormatter('%.{}f um'.format(1)))\n",
    "plt.gca().yaxis.set_major_formatter(mpl.ticker.FormatStrFormatter('%.{}f um'.format(1)))\n",
    "plt.gca().set_xlim([-40, 40])\n",
    "plt.gca().set_ylim([-40, 40])\n",
    "\n",
    "# Save your figure\n",
    "plt.savefig('{}.png'.format('Prelim_MosaicTraj'), bbox_inches='tight')\n",
    "\n",
    "plt.show()"
   ]
  },
  {
   "cell_type": "code",
   "execution_count": 29,
   "metadata": {
    "collapsed": true
   },
   "outputs": [],
   "source": [
    "\"\"\"\n",
    "A modified version of plot_3Doverlay to do 2D plots for 2D datasets. May be a little clunky.\n",
    "Uses all the same variables.\n",
    "\"\"\"\n",
    "\n",
    "# Creates an array 'particles' that contains the particle number at each frame.\n",
    "particles = trajectory1[:, 1]\n",
    "position = trajectory1[:, 23:23+4]\n",
    "total = int(max(particles))\n",
    "total1 = total + 1\n",
    "path = dict()\n",
    "\n",
    "# Creates an array for each trajectory containing all xyz data\n",
    "for num in range(1, total1):\n",
    "\n",
    "    hold = np.where(particles == num)\n",
    "    itindex = hold[0]\n",
    "    min1 = min(itindex)\n",
    "    max1 = max(itindex)\n",
    "    path[num] = (position[min1:max1, :])\n",
    "\n",
    "# Creates figure\n",
    "fig = plt.figure(figsize=(24, 18), dpi=80)\n",
    "ax = fig.add_subplot(111)\n",
    "# ax.set_title('Particle Trajectories', x=0.5, y=1.15)\n",
    "\n",
    "# Plots individual trajectories\n",
    "for num in range(1, total1):\n",
    "\n",
    "    ax.plot(path[num][:, 0], path[num][:, 1], label='Particle {}'.format(num))\n",
    "\n",
    "axbox = ax.get_position()\n",
    "\n",
    "legunit = max(trajectory1[:,1])\n",
    "ax.legend(loc=(0.85, 0.96-0.0273*legunit), prop={'size': 20})\n",
    "ax.locator_params(nbins=6)\n",
    "\n",
    "# A few adjustments to prettify the graph\n",
    "for item in ([ax.xaxis.label, ax.yaxis.label] +\n",
    "             ax.get_xticklabels() + ax.get_yticklabels()):\n",
    "    item.set_fontsize(20)\n",
    "\n",
    "ax.title.set_fontsize(35)\n",
    "ax.tick_params(direction='out', pad=3)\n",
    "plt.gca().xaxis.set_major_formatter(mpl.ticker.FormatStrFormatter('%.{}f um'.format(1)))\n",
    "plt.gca().yaxis.set_major_formatter(mpl.ticker.FormatStrFormatter('%.{}f um'.format(1)))\n",
    "plt.gca().set_xlim([-40, 40])\n",
    "plt.gca().set_ylim([-40, 40])\n",
    "\n",
    "# Save your figure\n",
    "plt.savefig('{}.png'.format('Prelim_BenTraj'), bbox_inches='tight')\n",
    "\n",
    "plt.show()"
   ]
  },
  {
   "cell_type": "code",
   "execution_count": 30,
   "metadata": {
    "collapsed": false
   },
   "outputs": [],
   "source": [
    "\"\"\"\n",
    "A modified version of plot_MSDorDeff in order to compare the 2D xy MSDs or Deffs \n",
    "from Bens code and the MOSIAC code.\n",
    "\"\"\"\n",
    "\n",
    "# Creates an array 'particles' that contains the particle number at each frame.\n",
    "particles = trajectory[:, 1]\n",
    "total = int(max(particles))\n",
    "total1 = total + 1\n",
    "rawtime = trajectory[:, 4]\n",
    "rawMSD = trajectory[:, 34]\n",
    "MSD = dict()\n",
    "time = dict()\n",
    "\n",
    "particles1 = trajectory1[:, 1]\n",
    "totala = int(max(particles1))\n",
    "total1a = totala + 1\n",
    "rawtime1 = trajectory1[:, 4]\n",
    "rawMSD1 = trajectory1[:, 33]\n",
    "MSD1 = dict()\n",
    "time1 = dict()\n",
    "\n",
    "# Creates an array for each trajectory containing all xyz data\n",
    "for num in range(1, total1):\n",
    "\n",
    "    hold = np.where(particles == num)\n",
    "    itindex = hold[0]\n",
    "    min1 = min(itindex)\n",
    "    max1 = max(itindex)\n",
    "    MSD[num] = (rawMSD[min1+1:min1+50])\n",
    "    time[num] = (rawtime[min1+1:min1+50])\n",
    "\n",
    "MMSD = MSD[1]\n",
    "for num in range(2, total1):\n",
    "    MMSD = MMSD + MSD[num]\n",
    "\n",
    "MMSD = MMSD/total1\n",
    "\n",
    "for num in range(1, total1a):\n",
    "\n",
    "    hold1 = np.where(particles1 == num)\n",
    "    itindex1 = hold1[0]\n",
    "    min1a = min(itindex1)\n",
    "    max1a = max(itindex1)\n",
    "    MSD1[num] = (rawMSD1[min1a+1:min1a+60])\n",
    "    time1[num] = (rawtime1[min1a+1:min1a+60])\n",
    "\n",
    "MMSD1 = MSD1[1]\n",
    "for num in range(2, total1a):\n",
    "    MMSD1 = MMSD1 + MSD1[num]\n",
    "\n",
    "MMSD1 = MMSD1/total1a\n",
    "\n",
    "# Creates figure\n",
    "fig = plt.figure(figsize=(24, 18), dpi=80)\n",
    "ax = fig.add_subplot(111)\n",
    "# ax.set_title('Particle Trajectories', x=0.5, y=1.15)\n",
    "\n",
    "ax.plot(time[1][:], MMSD[:], label='MOSAIC')\n",
    "ax.plot(time1[1][:], MMSD1[:], label='Ben')\n",
    "\n",
    "ax.legend(loc=(0.85, 0.85), prop={'size': 20})\n",
    "\n",
    "# A few adjustments to prettify the graph\n",
    "for item in ([ax.xaxis.label, ax.yaxis.label] +\n",
    "              ax.get_xticklabels() + ax.get_yticklabels()):\n",
    "    item.set_fontsize(30)\n",
    "\n",
    "ax.title.set_fontsize(55)\n",
    "ax.set_xlabel('Time (s)')\n",
    "ax.set_ylabel('MSD')\n",
    "ax.tick_params(direction='out', pad=5)\n",
    "plt.gca().xaxis.set_major_formatter(mpl.ticker.FormatStrFormatter('%.{}f'.format(1)))\n",
    "plt.gca().yaxis.set_major_formatter(mpl.ticker.FormatStrFormatter('%.{}f'.format(1)))\n",
    "\n",
    "# Save your figure\n",
    "plt.savefig('{}.png'.format('Prelim_CompareMSDSBenMOSAIC'), bbox_inches='tight')\n",
    "\n",
    "plt.show()"
   ]
  },
  {
   "cell_type": "code",
   "execution_count": 20,
   "metadata": {
    "collapsed": false
   },
   "outputs": [
    {
     "name": "stdout",
     "output_type": "stream",
     "text": [
      "Help on function delete in module numpy.lib.function_base:\n",
      "\n",
      "delete(arr, obj, axis=None)\n",
      "    Return a new array with sub-arrays along an axis deleted. For a one\n",
      "    dimensional array, this returns those entries not returned by\n",
      "    `arr[obj]`.\n",
      "    \n",
      "    Parameters\n",
      "    ----------\n",
      "    arr : array_like\n",
      "      Input array.\n",
      "    obj : slice, int or array of ints\n",
      "      Indicate which sub-arrays to remove.\n",
      "    axis : int, optional\n",
      "      The axis along which to delete the subarray defined by `obj`.\n",
      "      If `axis` is None, `obj` is applied to the flattened array.\n",
      "    \n",
      "    Returns\n",
      "    -------\n",
      "    out : ndarray\n",
      "        A copy of `arr` with the elements specified by `obj` removed. Note\n",
      "        that `delete` does not occur in-place. If `axis` is None, `out` is\n",
      "        a flattened array.\n",
      "    \n",
      "    See Also\n",
      "    --------\n",
      "    insert : Insert elements into an array.\n",
      "    append : Append elements at the end of an array.\n",
      "    \n",
      "    Notes\n",
      "    -----\n",
      "    Often it is preferable to use a boolean mask. For example:\n",
      "    \n",
      "    >>> mask = np.ones(len(arr), dtype=bool)\n",
      "    >>> mask[[0,2,4]] = False\n",
      "    >>> result = arr[mask,...]\n",
      "    \n",
      "    Is equivalent to `np.delete(arr, [0,2,4], axis=0)`, but allows further\n",
      "    use of `mask`.\n",
      "    \n",
      "    Examples\n",
      "    --------\n",
      "    >>> arr = np.array([[1,2,3,4], [5,6,7,8], [9,10,11,12]])\n",
      "    >>> arr\n",
      "    array([[ 1,  2,  3,  4],\n",
      "           [ 5,  6,  7,  8],\n",
      "           [ 9, 10, 11, 12]])\n",
      "    >>> np.delete(arr, 1, 0)\n",
      "    array([[ 1,  2,  3,  4],\n",
      "           [ 9, 10, 11, 12]])\n",
      "    \n",
      "    >>> np.delete(arr, np.s_[::2], 1)\n",
      "    array([[ 2,  4],\n",
      "           [ 6,  8],\n",
      "           [10, 12]])\n",
      "    >>> np.delete(arr, [1,3,5], None)\n",
      "    array([ 1,  3,  5,  7,  8,  9, 10, 11, 12])\n",
      "\n"
     ]
    }
   ],
   "source": [
    "help(np.delete)"
   ]
  },
  {
   "cell_type": "code",
   "execution_count": 16,
   "metadata": {
    "collapsed": false
   },
   "outputs": [
    {
     "data": {
      "text/plain": [
       "array([  1.58299417,   1.58299417,   1.58299417,   3.21423297,\n",
       "         1.55988862,   0.65354736,   0.26287546,   0.36497206,\n",
       "         0.38310676,   1.46509774,   4.26621392,   5.49519527,\n",
       "         5.49519527,   5.49519527,   5.49519527,   9.57086834,\n",
       "        12.45742191,  13.38951496,  15.13655128,  15.13655128,\n",
       "        19.18036384,  18.38188416,  31.98403658,  31.98403658,\n",
       "        34.9274445 ,  36.56794593,  50.91581209,  50.91581209,\n",
       "        47.84875071,  51.32974456,  49.14499332,  32.5510616 ,\n",
       "        32.5510616 ,  27.98904373,  22.99587932,  18.73207547,\n",
       "        19.71979404,  14.14521239,   9.78745215,  19.51473293,\n",
       "        16.78444109,  12.40908872,  12.40908872,  12.40908872,\n",
       "        10.54749248,  10.63940764,   6.08408977,   9.62162549,  15.0594293 ])"
      ]
     },
     "execution_count": 16,
     "metadata": {},
     "output_type": "execute_result"
    }
   ],
   "source": [
    "MMSD1"
   ]
  },
  {
   "cell_type": "code",
   "execution_count": null,
   "metadata": {
    "collapsed": true
   },
   "outputs": [],
   "source": []
  }
 ],
 "metadata": {
  "kernelspec": {
   "display_name": "Python 3",
   "language": "python",
   "name": "python3"
  },
  "language_info": {
   "codemirror_mode": {
    "name": "ipython",
    "version": 3
   },
   "file_extension": ".py",
   "mimetype": "text/x-python",
   "name": "python",
   "nbconvert_exporter": "python",
   "pygments_lexer": "ipython3",
   "version": "3.5.1"
  }
 },
 "nbformat": 4,
 "nbformat_minor": 0
}
