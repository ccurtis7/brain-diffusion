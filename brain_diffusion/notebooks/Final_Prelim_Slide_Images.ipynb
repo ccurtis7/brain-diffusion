{
 "cells": [
  {
   "cell_type": "code",
   "execution_count": 1,
   "metadata": {
    "collapsed": false
   },
   "outputs": [],
   "source": [
    "import matplotlib as mpl\n",
    "import matplotlib.pyplot as plt\n",
    "import scipy.optimize as opt\n",
    "from mpl_toolkits.mplot3d import Axes3D\n",
    "from trajectory_visualization import plot_trajectory, sidebyside, shift_trajectory, overlay, shift_trajectory3D\n",
    "from trajectory_visualization import plot_trajectories3D, plot_3Doverlay, plot_MSDorDeff, plot_MeanMSDorDeff, randtraj, multrandtraj\n",
    "from trajectory_visualization import randtraj2, plot_Mean2DMSDsorDeff, plot_MSDorDeffLR, LRfor3D2D\n",
    "from operator import itemgetter\n",
    "from random_traj import randaniso, randconv, multrandaniso, multrandconv, randsamp, multrandsamp, randall, multrandall\n",
    "from random_traj import randanisorot, multrandanisorot\n",
    "from ellipsoid import maxtraj, mvee, plot_mvee, plot_mveeoverl, rotmat, rotmat2, plot_mveeoverl2\n",
    "from ellipsoid import ellipsax, MSDS, andiff, plot_anisoMSDS, plot_anisodiff\n",
    "import random\n",
    "import numpy as np\n",
    "import numpy.linalg as la\n",
    "from mpl_toolkits.mplot3d import Axes3D\n",
    "from ellipsoid import extrema, enclosed_MSD\n",
    "\n",
    "pi = np.pi\n",
    "sin = np.sin\n",
    "cos = np.cos"
   ]
  },
  {
   "cell_type": "code",
   "execution_count": 2,
   "metadata": {
    "collapsed": false
   },
   "outputs": [],
   "source": [
    "three = multrandall(5, 1, 200, 50, 0, 0, 0, 3, 8, 1, 1)\n",
    "enclosed = three[:,8:11]\n",
    "enclosed\n",
    "new = extrema(three, 0, 8, 200)\n",
    "but = enclosed_MSD(three, 0, 1, 11, 200)"
   ]
  },
  {
   "cell_type": "code",
   "execution_count": 3,
   "metadata": {
    "collapsed": false
   },
   "outputs": [],
   "source": [
    "thr = multrandanisorot(5, 1, 80, 1000, 5, 1, 1, pi/6, -pi/6, -pi/4)\n",
    "#thr = rotmat2(thr, 0, 8, 0.7, 0)"
   ]
  },
  {
   "cell_type": "code",
   "execution_count": 4,
   "metadata": {
    "collapsed": true
   },
   "outputs": [],
   "source": [
    "# thr = multrandconv(5, 1, 120, 1000, 1, 0, 0)\n",
    "thr = multrandsamp(5, 1, 120, 1000, 20)"
   ]
  },
  {
   "cell_type": "code",
   "execution_count": 5,
   "metadata": {
    "collapsed": true
   },
   "outputs": [],
   "source": [
    "plot_3Doverlay(thr, 0, 8, 2, 'practice2', 200, 200, 200)\n",
    "plt.show()"
   ]
  },
  {
   "cell_type": "code",
   "execution_count": 6,
   "metadata": {
    "collapsed": false
   },
   "outputs": [],
   "source": [
    "plot_3Doverlay(thr, 0, 8, 2, 'practice2', 400, 400, 400)\n",
    "plt.show()"
   ]
  },
  {
   "cell_type": "code",
   "execution_count": 7,
   "metadata": {
    "collapsed": false
   },
   "outputs": [
    {
     "ename": "TypeError",
     "evalue": "plot_Mean2DMSDsorDeff() missing 5 required positional arguments: 'filename', 'limit1', 'limit2', 'tick1', and 'tick2'",
     "output_type": "error",
     "traceback": [
      "\u001b[1;31m---------------------------------------------------------------------------\u001b[0m",
      "\u001b[1;31mTypeError\u001b[0m                                 Traceback (most recent call last)",
      "\u001b[1;32m<ipython-input-7-583d1f6a093a>\u001b[0m in \u001b[0;36m<module>\u001b[1;34m()\u001b[0m\n\u001b[1;32m----> 1\u001b[1;33m \u001b[0mone\u001b[0m \u001b[1;33m=\u001b[0m \u001b[0mplot_Mean2DMSDsorDeff\u001b[0m\u001b[1;33m(\u001b[0m\u001b[0mthr\u001b[0m\u001b[1;33m,\u001b[0m \u001b[1;36m0\u001b[0m\u001b[1;33m,\u001b[0m \u001b[1;36m1\u001b[0m\u001b[1;33m,\u001b[0m \u001b[1;36m11\u001b[0m\u001b[1;33m,\u001b[0m \u001b[1;36m1\u001b[0m\u001b[1;33m,\u001b[0m \u001b[1;34m'MSD'\u001b[0m\u001b[1;33m,\u001b[0m \u001b[1;34m'MSDS_rot1'\u001b[0m\u001b[1;33m)\u001b[0m\u001b[1;33m\u001b[0m\u001b[0m\n\u001b[0m\u001b[0;32m      2\u001b[0m \u001b[0mplt\u001b[0m\u001b[1;33m.\u001b[0m\u001b[0mshow\u001b[0m\u001b[1;33m(\u001b[0m\u001b[1;33m)\u001b[0m\u001b[1;33m\u001b[0m\u001b[0m\n",
      "\u001b[1;31mTypeError\u001b[0m: plot_Mean2DMSDsorDeff() missing 5 required positional arguments: 'filename', 'limit1', 'limit2', 'tick1', and 'tick2'"
     ]
    }
   ],
   "source": [
    "one = plot_Mean2DMSDsorDeff(thr, 0, 1, 11, 1, 'MSD', 'MSDS_rot1')\n",
    "plt.show()"
   ]
  },
  {
   "cell_type": "code",
   "execution_count": null,
   "metadata": {
    "collapsed": false
   },
   "outputs": [],
   "source": [
    "but = maxtraj(thr,0,8, 0.7, 0.1)"
   ]
  },
  {
   "cell_type": "code",
   "execution_count": null,
   "metadata": {
    "collapsed": false
   },
   "outputs": [],
   "source": [
    "plot_mveeoverl(thr, 0, 8, 0.7, 0, 1, 1, 'MVEE_rerot2', 140)\n",
    "plt.show()"
   ]
  },
  {
   "cell_type": "code",
   "execution_count": null,
   "metadata": {
    "collapsed": false
   },
   "outputs": [],
   "source": [
    "thr[:,8]"
   ]
  },
  {
   "cell_type": "code",
   "execution_count": null,
   "metadata": {
    "collapsed": false
   },
   "outputs": [],
   "source": [
    "trajectory = np.genfromtxt('../sample_data/Slice3_Video1_Trajectories2a.csv',\n",
    "            delimiter =\",\")\n",
    "trajectory=np.delete(trajectory, 0,0)"
   ]
  },
  {
   "cell_type": "code",
   "execution_count": null,
   "metadata": {
    "collapsed": false
   },
   "outputs": [],
   "source": [
    "plot_3Doverlay(trajectory, 1, 23, 2, 'practice', 15, 15, 15)\n",
    "plt.show()"
   ]
  },
  {
   "cell_type": "code",
   "execution_count": null,
   "metadata": {
    "collapsed": false
   },
   "outputs": [],
   "source": [
    "plot_mveeoverl2(trajectory, 1, 23, 1, 0, 1, 1, 'picture', 10)"
   ]
  },
  {
   "cell_type": "code",
   "execution_count": null,
   "metadata": {
    "collapsed": false
   },
   "outputs": [],
   "source": [
    "lines = trajectory[:,23:26]\n",
    "plot_mvee(lines, 2, 15, 'practice')"
   ]
  },
  {
   "cell_type": "code",
   "execution_count": null,
   "metadata": {
    "collapsed": false
   },
   "outputs": [],
   "source": [
    "lines[0:5, :]"
   ]
  },
  {
   "cell_type": "code",
   "execution_count": null,
   "metadata": {
    "collapsed": true
   },
   "outputs": [],
   "source": [
    "trajectory=rotmat2(trajectory, 1, 23, 1, 0.01)"
   ]
  },
  {
   "cell_type": "code",
   "execution_count": null,
   "metadata": {
    "collapsed": false
   },
   "outputs": [],
   "source": [
    "mush1, fra = MSDS(thr, 0, 8, 1)\n",
    "mush2, fra2 = andiff(mush1, fra)"
   ]
  },
  {
   "cell_type": "code",
   "execution_count": null,
   "metadata": {
    "collapsed": false
   },
   "outputs": [],
   "source": [
    "plot_anisoMSDS(mush1, fra, 0, 'practice', 0, 1000)\n",
    "# plt.show()"
   ]
  },
  {
   "cell_type": "code",
   "execution_count": null,
   "metadata": {
    "collapsed": false
   },
   "outputs": [],
   "source": [
    "mush = plot_anisodiff(mush2, fra2, 2, 'practice1', 0, 100)\n",
    "# plt.show()"
   ]
  },
  {
   "cell_type": "code",
   "execution_count": null,
   "metadata": {
    "collapsed": false
   },
   "outputs": [],
   "source": [
    "mush"
   ]
  },
  {
   "cell_type": "code",
   "execution_count": null,
   "metadata": {
    "collapsed": false
   },
   "outputs": [],
   "source": [
    "#Finalized Code for Generating Images for Prelim Exam\n",
    "#Isotropic Effects on 2D Diffusion Coefficients\n",
    "thr = multrandanisorot(5, 1, 80, 1000, 1, 1, 1, 0, 0, 0)\n",
    "plot_3Doverlay(thr, 0, 5, 0, 'iso_3Dplot', 50, 50, 50)\n",
    "#plt.show()"
   ]
  },
  {
   "cell_type": "code",
   "execution_count": null,
   "metadata": {
    "collapsed": false
   },
   "outputs": [],
   "source": [
    "one = plot_Mean2DMSDsorDeff(thr, 0, 1, 11, 0, 0, 'MSD (um^2)', 'iso_MSDSplot', 81, 501, 20, 100)\n",
    "#plt.show()"
   ]
  },
  {
   "cell_type": "code",
   "execution_count": null,
   "metadata": {
    "collapsed": true
   },
   "outputs": [],
   "source": [
    "one = plot_Mean2DMSDsorDeff(thr, 0, 1, 15, 0, 1, 'Deff (um^2/s)', 'iso_Deffplot', 81, 2.1, 20, 0.5)\n",
    "#plt.show()"
   ]
  },
  {
   "cell_type": "code",
   "execution_count": null,
   "metadata": {
    "collapsed": false
   },
   "outputs": [],
   "source": [
    "help(multrandconv)"
   ]
  },
  {
   "cell_type": "code",
   "execution_count": null,
   "metadata": {
    "collapsed": false
   },
   "outputs": [],
   "source": [
    "#We varied the convection term at 0.5, 5, and 10\n",
    "thr1 = multrandconv(5, 1, 120, 1000, 0.5, 0, 0)\n",
    "plot_3Doverlay(thr1, 0, 5, 0, 'conv_3Dplot', 1000, 1000, 1000)\n",
    "#plt.show()"
   ]
  },
  {
   "cell_type": "code",
   "execution_count": null,
   "metadata": {
    "collapsed": false
   },
   "outputs": [],
   "source": [
    "one = plot_Mean2DMSDsorDeff(thr1, 0, 1, 11, 0, 0, 'MSD (um^2)', 'conv_MSDSplots', 121, 5001, 30, 1000)\n",
    "#plt.show()"
   ]
  },
  {
   "cell_type": "code",
   "execution_count": null,
   "metadata": {
    "collapsed": false
   },
   "outputs": [],
   "source": [
    "one = plot_Mean2DMSDsorDeff(thr1, 0, 1, 15, 0, 0, 'Deff (um^2/s)', 'conv_Deffplots', 121, 101, 30, 20)\n",
    "#plt.show()"
   ]
  },
  {
   "cell_type": "code",
   "execution_count": null,
   "metadata": {
    "collapsed": true
   },
   "outputs": [],
   "source": [
    "#For sampling data, we sampled at 20, 10, 5, and 2\n",
    "thr2 = multrandsamp(5, 1, 120, 1000, 2)\n",
    "plot_3Doverlay(thr2, 0, 5, 0, 'samp_3Dplot', 50, 50, 50)\n",
    "#plt.show()"
   ]
  },
  {
   "cell_type": "code",
   "execution_count": null,
   "metadata": {
    "collapsed": true
   },
   "outputs": [],
   "source": [
    "one = plot_Mean2DMSDsorDeff(thr2, 0, 1, 11, 0, 1, 'MSD (um^2)', 'samp_MSDS', 121, 801, 30, 200)\n",
    "#plt.show()"
   ]
  },
  {
   "cell_type": "code",
   "execution_count": null,
   "metadata": {
    "collapsed": true
   },
   "outputs": [],
   "source": [
    "one = plot_Mean2DMSDsorDeff(thr2, 0, 1, 15, 0, 1, 'Deff (um^2/s)', 'samp_Deff', 121, 2.1, 30, 0.5)\n",
    "#plt.show()"
   ]
  },
  {
   "cell_type": "code",
   "execution_count": null,
   "metadata": {
    "collapsed": false
   },
   "outputs": [],
   "source": [
    "#For anisotropic datasets, I did (1,2,1), (1,5,1), and (1,3.333,2)\n",
    "thr3 = multrandanisorot(5, 1, 120, 1000, 1, 2, 1, 0, 0, 0)\n",
    "plot_3Doverlay(thr3, 0, 5, 0, 'aniso_3Dplot', 200, 200, 200)\n",
    "#plt.show()"
   ]
  },
  {
   "cell_type": "code",
   "execution_count": null,
   "metadata": {
    "collapsed": false
   },
   "outputs": [],
   "source": [
    "one = plot_Mean2DMSDsorDeff(thr3, 0, 1, 11, 0, 0, 'MSD (um^2)', 'aniso_MSDS', 121, 7001, 30, 1000)\n",
    "#plt.show()"
   ]
  },
  {
   "cell_type": "code",
   "execution_count": null,
   "metadata": {
    "collapsed": false
   },
   "outputs": [],
   "source": [
    "one = plot_Mean2DMSDsorDeff(thr3, 0, 1, 15, 0, 1, 'Deff (um^2/s)', 'aniso_Deff', 121, 16, 30, 5)\n",
    "#plt.show()"
   ]
  },
  {
   "cell_type": "code",
   "execution_count": null,
   "metadata": {
    "collapsed": false
   },
   "outputs": [],
   "source": [
    "#For rotated anisotropic datasets, I did (0, 0, 0), (0, -pi/4, 0), and (pi/3, -pi/4, pi/4)\n",
    "thr4 = multrandanisorot(5, 1, 120, 1000, 1, 1, 5, pi/3, -pi/4, pi/4)\n",
    "plot_3Doverlay(thr4, 0, 8, 2, 'rot_3Dplot', 200, 200, 200)\n",
    "#plt.show()"
   ]
  },
  {
   "cell_type": "code",
   "execution_count": null,
   "metadata": {
    "collapsed": false
   },
   "outputs": [],
   "source": [
    "one = plot_Mean2DMSDsorDeff(thr4, 0, 1, 11, 0, 0, 'MSD', 'rot_MSDS', 121, 7001, 30, 1000)\n",
    "#plt.show()"
   ]
  },
  {
   "cell_type": "code",
   "execution_count": null,
   "metadata": {
    "collapsed": true
   },
   "outputs": [],
   "source": [
    "one = plot_Mean2DMSDsorDeff(thr4, 0, 1, 15, 0, 1, 'Deff', 'rot_Deff', 121, 16, 30, 5)\n",
    "#plt.show()"
   ]
  },
  {
   "cell_type": "code",
   "execution_count": null,
   "metadata": {
    "collapsed": false
   },
   "outputs": [],
   "source": [
    "thr2 = randsamp(5, 1, 15, 1, 5)\n",
    "thr2[:, 0:3]"
   ]
  },
  {
   "cell_type": "code",
   "execution_count": null,
   "metadata": {
    "collapsed": false
   },
   "outputs": [],
   "source": [
    "thr2[-1, 0:3]"
   ]
  },
  {
   "cell_type": "code",
   "execution_count": null,
   "metadata": {
    "collapsed": false
   },
   "outputs": [],
   "source": [
    "new = np.append(thr2, thr2[-1,:], axis=0)"
   ]
  },
  {
   "cell_type": "code",
   "execution_count": null,
   "metadata": {
    "collapsed": false
   },
   "outputs": [],
   "source": [
    "new[:, 0:3]"
   ]
  },
  {
   "cell_type": "code",
   "execution_count": null,
   "metadata": {
    "collapsed": false
   },
   "outputs": [],
   "source": [
    "new = np.vstack([thr2, thr2[-1,:]])\n",
    "new"
   ]
  },
  {
   "cell_type": "code",
   "execution_count": null,
   "metadata": {
    "collapsed": false
   },
   "outputs": [],
   "source": [
    "new[:, 0:3]"
   ]
  },
  {
   "cell_type": "code",
   "execution_count": null,
   "metadata": {
    "collapsed": true
   },
   "outputs": [],
   "source": []
  }
 ],
 "metadata": {
  "kernelspec": {
   "display_name": "Python 3",
   "language": "python",
   "name": "python3"
  },
  "language_info": {
   "codemirror_mode": {
    "name": "ipython",
    "version": 3
   },
   "file_extension": ".py",
   "mimetype": "text/x-python",
   "name": "python",
   "nbconvert_exporter": "python",
   "pygments_lexer": "ipython3",
   "version": "3.5.1"
  }
 },
 "nbformat": 4,
 "nbformat_minor": 0
}
