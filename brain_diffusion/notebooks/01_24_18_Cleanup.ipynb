{
 "cells": [
  {
   "cell_type": "code",
   "execution_count": 2,
   "metadata": {
    "collapsed": true
   },
   "outputs": [],
   "source": [
    "import os\n",
    "import csv\n",
    "import sys\n",
    "import scipy.optimize as opt\n",
    "import scipy.stats as stat\n",
    "from operator import itemgetter\n",
    "import random\n",
    "import numpy as np\n",
    "import numpy.ma as ma\n",
    "import numpy.linalg as la"
   ]
  },
  {
   "cell_type": "code",
   "execution_count": 5,
   "metadata": {
    "collapsed": false
   },
   "outputs": [],
   "source": [
    "modulef = 'C:/Users/koolk/Desktop/brain_diffusion/brain_diffusion/'\n",
    "sys.path.insert(0, modulef)\n",
    "from msd import fillin2, MSD_iteration, vectorized_MMSD_calcs"
   ]
  },
  {
   "cell_type": "code",
   "execution_count": 3,
   "metadata": {
    "collapsed": true
   },
   "outputs": [],
   "source": [
    "df = np.genfromtxt('../sample_data.csv', delimiter=\",\")\n",
    "df = np.delete(df, 0, 1)[:, 0:5]"
   ]
  },
  {
   "cell_type": "code",
   "execution_count": 6,
   "metadata": {
    "collapsed": false
   },
   "outputs": [],
   "source": [
    "#generating a sample dataset\n",
    "\n",
    "n = 6\n",
    "p = 2\n",
    "df = np.zeros((p*n, 12))\n",
    "for i in range(1, p+1):\n",
    "    df[(i-1)*n:i*n, 0] = np.ones(n) + i - 1\n",
    "    df[(i-1)*n:i*n, 1] = np.ones(n) + i - 1\n",
    "    df[(i-1)*n:i*n, 2] = np.linspace(0, 10, n) + 2 + i\n",
    "    df[(i-1)*n:i*n, 3] = np.linspace(0, 10, n) + i\n",
    "    df[(i-1)*n:i*n, 4] = np.linspace(0, 10, n) + 3 + i\n",
    "    df[(i-1)*n:i*n, 5] = np.zeros(n)\n",
    "    df[(i-1)*n:i*n, 6:12] = np.zeros((n, 6))"
   ]
  },
  {
   "cell_type": "code",
   "execution_count": 19,
   "metadata": {
    "collapsed": false
   },
   "outputs": [
    {
     "data": {
      "text/plain": [
       "array([[  1.,   3.,   1.,   4.],\n",
       "       [  1.,   5.,   3.,   6.],\n",
       "       [  1.,   7.,   5.,   8.],\n",
       "       [  1.,   9.,   7.,  10.],\n",
       "       [  1.,  11.,   9.,  12.],\n",
       "       [  1.,  13.,  11.,  14.],\n",
       "       [  2.,   4.,   2.,   5.],\n",
       "       [  2.,   6.,   4.,   7.],\n",
       "       [  2.,   8.,   6.,   9.],\n",
       "       [  2.,  10.,   8.,  11.],\n",
       "       [  2.,  12.,  10.,  13.],\n",
       "       [  2.,  14.,  12.,  15.]])"
      ]
     },
     "execution_count": 19,
     "metadata": {},
     "output_type": "execute_result"
    }
   ],
   "source": [
    "df[:, 1:5]"
   ]
  },
  {
   "cell_type": "code",
   "execution_count": 7,
   "metadata": {
    "collapsed": false
   },
   "outputs": [],
   "source": [
    "np.savetxt(\"../Traj_test_data_1.tif.csv\", df, delimiter=\",\")"
   ]
  },
  {
   "cell_type": "code",
   "execution_count": 8,
   "metadata": {
    "collapsed": false
   },
   "outputs": [],
   "source": [
    "folder = '../'\n",
    "name = 'test_data'\n",
    "cut = 1\n",
    "totvids = 1\n",
    "conversion = (1, 1, 1)"
   ]
  },
  {
   "cell_type": "code",
   "execution_count": 9,
   "metadata": {
    "collapsed": false
   },
   "outputs": [],
   "source": [
    "total1, frames, xs_m, ys_m, x_m, y_m = MSD_iteration(folder, name)"
   ]
  },
  {
   "cell_type": "code",
   "execution_count": 21,
   "metadata": {
    "collapsed": false
   },
   "outputs": [],
   "source": [
    "geoM2xy, gSEM, SM1x, SM1y, SM2xy = vectorized_MMSD_calcs(frames, total1, xs_m, ys_m)"
   ]
  },
  {
   "cell_type": "code",
   "execution_count": 29,
   "metadata": {
    "collapsed": false
   },
   "outputs": [
    {
     "data": {
      "text/plain": [
       "array([ 0.        ,  1.38629436,  2.07944154,  2.99573227,  3.4657359 ,\n",
       "        3.95124372,  4.27666612,  4.60517019,  4.85203026,  5.09986643,\n",
       "        5.29831737,  0.        ,  0.        ,  0.        ])"
      ]
     },
     "execution_count": 29,
     "metadata": {},
     "output_type": "execute_result"
    }
   ],
   "source": [
    "geoM2xy"
   ]
  },
  {
   "cell_type": "code",
   "execution_count": 26,
   "metadata": {
    "collapsed": false
   },
   "outputs": [
    {
     "data": {
      "text/plain": [
       "array([[   0.,    0.],\n",
       "       [   2.,    2.],\n",
       "       [   4.,    4.],\n",
       "       [  10.,   10.],\n",
       "       [  16.,   16.],\n",
       "       [  26.,   26.],\n",
       "       [  36.,   36.],\n",
       "       [  50.,   50.],\n",
       "       [  64.,   64.],\n",
       "       [  82.,   82.],\n",
       "       [ 100.,  100.],\n",
       "       [   0.,    0.],\n",
       "       [   0.,    0.],\n",
       "       [   0.,    0.]])"
      ]
     },
     "execution_count": 26,
     "metadata": {},
     "output_type": "execute_result"
    }
   ],
   "source": [
    "SM1y"
   ]
  },
  {
   "cell_type": "code",
   "execution_count": 28,
   "metadata": {
    "collapsed": false
   },
   "outputs": [
    {
     "data": {
      "text/plain": [
       "array([[   0.,    0.],\n",
       "       [   4.,    4.],\n",
       "       [   8.,    8.],\n",
       "       [  20.,   20.],\n",
       "       [  32.,   32.],\n",
       "       [  52.,   52.],\n",
       "       [  72.,   72.],\n",
       "       [ 100.,  100.],\n",
       "       [ 128.,  128.],\n",
       "       [ 164.,  164.],\n",
       "       [ 200.,  200.],\n",
       "       [   0.,    0.],\n",
       "       [   0.,    0.],\n",
       "       [   0.,    0.]])"
      ]
     },
     "execution_count": 28,
     "metadata": {},
     "output_type": "execute_result"
    }
   ],
   "source": [
    "SM2xy"
   ]
  },
  {
   "cell_type": "code",
   "execution_count": null,
   "metadata": {
    "collapsed": true
   },
   "outputs": [],
   "source": []
  }
 ],
 "metadata": {
  "kernelspec": {
   "display_name": "Python 3",
   "language": "python",
   "name": "python3"
  },
  "language_info": {
   "codemirror_mode": {
    "name": "ipython",
    "version": 3
   },
   "file_extension": ".py",
   "mimetype": "text/x-python",
   "name": "python",
   "nbconvert_exporter": "python",
   "pygments_lexer": "ipython3",
   "version": "3.5.3"
  }
 },
 "nbformat": 4,
 "nbformat_minor": 0
}
