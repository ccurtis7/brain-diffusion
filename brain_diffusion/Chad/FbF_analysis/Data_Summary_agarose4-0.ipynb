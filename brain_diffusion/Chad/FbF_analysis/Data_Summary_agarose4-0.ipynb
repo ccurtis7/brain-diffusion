{
 "cells": [
  {
   "cell_type": "code",
   "execution_count": 1,
   "metadata": {
    "collapsed": true
   },
   "outputs": [],
   "source": [
    "import os\n",
    "import csv\n",
    "import sys\n",
    "module_path = os.path.abspath(os.path.join('..'))\n",
    "if module_path not in sys.path:\n",
    "    sys.path.append(module_path)\n",
    "\n",
    "from trajectory_visualization import plot_trajectory, sidebyside, shift_trajectory, overlay, shift_trajectory3D\n",
    "from trajectory_visualization import plot_trajectories3D, plot_3Doverlay, plot_MSDorDeff, plot_MeanMSDorDeff, randtraj, multrandtraj\n",
    "from trajectory_visualization import randtraj2, plot_Mean2DMSDsorDeff, plot_MSDorDeffLR, LRfor3D2D, fillin, prettify\n",
    "from methods_of_Dcalc import Dpointder, Dlinalg, Dlinalgw\n",
    "\n",
    "import matplotlib as mpl\n",
    "import matplotlib.pyplot as plt\n",
    "import matplotlib.ticker as mtick\n",
    "import scipy.optimize as opt\n",
    "import scipy.stats as stat\n",
    "from mpl_toolkits.mplot3d import Axes3D\n",
    "from operator import itemgetter\n",
    "import random\n",
    "import numpy as np\n",
    "import numpy.ma as ma\n",
    "import numpy.linalg as la\n",
    "from mpl_toolkits.mplot3d import Axes3D\n",
    "\n",
    "pi = np.pi\n",
    "sin = np.sin\n",
    "cos = np.cos"
   ]
  },
  {
   "cell_type": "code",
   "execution_count": 2,
   "metadata": {
    "collapsed": false
   },
   "outputs": [],
   "source": [
    "#The purpose of this book is to compare in one plot the results of varying parameters.\n",
    "\n",
    "FM2xy_camera_1000ms_40x = np.genfromtxt('./FM2xy_camera_1000ms_40x.csv',delimiter =\",\")\n",
    "FM2xy_camera_1000ms_60x = np.genfromtxt('./FM2xy_camera_1000ms_60x.csv',delimiter =\",\")\n",
    "FM2xy_camera_625ms_40x = np.genfromtxt('./FM2xy_camera_625ms_40x.csv',delimiter =\",\")\n",
    "FM2xy_camera_625ms_60x = np.genfromtxt('./FM2xy_camera_625ms_60x.csv',delimiter =\",\")\n",
    "\n",
    "FM2xy_confocal_1000ms_40x = np.genfromtxt('./FM2xy_confocal_1000ms_40x.csv',delimiter =\",\")\n",
    "FM2xy_confocal_1000ms_60x = np.genfromtxt('./FM2xy_confocal_1000ms_60x.csv',delimiter =\",\")\n",
    "FM2xy_confocal_625ms_40x = np.genfromtxt('./FM2xy_confocal_625ms_40x.csv',delimiter =\",\")\n",
    "FM2xy_confocal_625ms_60x = np.genfromtxt('./FM2xy_confocal_625ms_60x.csv',delimiter =\",\")[0:-1]"
   ]
  },
  {
   "cell_type": "code",
   "execution_count": 3,
   "metadata": {
    "collapsed": true
   },
   "outputs": [],
   "source": [
    "# geoM2xy_camera_1000ms_60x = np.genfromtxt('./geoM2xy_camera_1000ms_60x.csv',delimiter =\",\")\n",
    "# arM2xy_camera_1000ms_60x = np.genfromtxt('./arM2xy_camera_1000ms_60x.csv',delimiter =\",\")"
   ]
  },
  {
   "cell_type": "code",
   "execution_count": 4,
   "metadata": {
    "collapsed": false
   },
   "outputs": [],
   "source": [
    "f1 = 1.62\n",
    "f2 = 1.02\n",
    "\n",
    "time1 = np.zeros(FM2xy_confocal_625ms_60x.shape[0])\n",
    "time2 = np.zeros(FM2xy_confocal_1000ms_60x.shape[0])\n",
    "\n",
    "for num in range(0, FM2xy_confocal_625ms_60x.shape[0]):\n",
    "    time1[num] = num/f1\n",
    "\n",
    "for num in range(0, FM2xy_confocal_1000ms_60x.shape[0]):\n",
    "    time2[num] = num/f2"
   ]
  },
  {
   "cell_type": "code",
   "execution_count": 5,
   "metadata": {
    "collapsed": true
   },
   "outputs": [],
   "source": [
    "#Linear algebra to find Deff (1000ms):\n",
    "to_frame1 = 48\n",
    "\n",
    "w = dict()\n",
    "line = dict()\n",
    "A1 = np.ones((np.shape(time2)[0], 2))\n",
    "A1[:, 0] = time2\n",
    "\n",
    "w[0] = np.linalg.lstsq(A1[1:to_frame1, :], FM2xy_camera_1000ms_40x[1:to_frame1])[0]\n",
    "w[1] = np.linalg.lstsq(A1[1:to_frame1, :], FM2xy_camera_1000ms_60x[1:to_frame1])[0]\n",
    "w[2] = np.linalg.lstsq(A1[1:to_frame1, :], FM2xy_confocal_1000ms_40x[1:to_frame1])[0]\n",
    "w[3] = np.linalg.lstsq(A1[1:to_frame1, :], FM2xy_confocal_1000ms_60x[1:to_frame1])[0]\n",
    "\n",
    "line[0] = w[0][0]*time2 + w[0][1]\n",
    "line[1] = w[1][0]*time2 + w[1][1]\n",
    "line[2] = w[2][0]*time2 + w[2][1]\n",
    "line[3] = w[3][0]*time2 + w[3][1]"
   ]
  },
  {
   "cell_type": "code",
   "execution_count": 6,
   "metadata": {
    "collapsed": false
   },
   "outputs": [
    {
     "name": "stdout",
     "output_type": "stream",
     "text": [
      "Diffusion Coeff (um^2/s): 4e-06 FM2xy_camera_1000ms_40x\n",
      "Diffusion Coeff (um^2/s): 0.0001785 FM2xy_camera_1000ms_60x\n",
      "Diffusion Coeff (um^2/s): 0.0001317 FM2xy_confocal_1000ms_40x\n",
      "Diffusion Coeff (um^2/s): 9.76e-05 FM2xy_confocal_1000ms_60x\n"
     ]
    }
   ],
   "source": [
    "print('Diffusion Coeff (um^2/s):', np.round(w[0][0], 7), 'FM2xy_camera_1000ms_40x')\n",
    "print('Diffusion Coeff (um^2/s):', np.round(w[1][0], 7), 'FM2xy_camera_1000ms_60x')\n",
    "print('Diffusion Coeff (um^2/s):', np.round(w[2][0], 7), 'FM2xy_confocal_1000ms_40x')\n",
    "print('Diffusion Coeff (um^2/s):', np.round(w[3][0], 7), 'FM2xy_confocal_1000ms_60x')"
   ]
  },
  {
   "cell_type": "code",
   "execution_count": 7,
   "metadata": {
    "collapsed": false
   },
   "outputs": [],
   "source": [
    "#Linear algebra to find Deff (1000ms):\n",
    "to_frame = 67\n",
    "\n",
    "w1 = dict()\n",
    "line1 = dict()\n",
    "A2 = np.ones((np.shape(time1)[0], 2))\n",
    "A2[:, 0] = time1\n",
    "\n",
    "\n",
    "w1[0] = np.linalg.lstsq(A2[1:to_frame, :], FM2xy_camera_625ms_40x[1:to_frame])[0]\n",
    "w1[1] = np.linalg.lstsq(A2[1:to_frame, :], FM2xy_camera_625ms_60x[1:to_frame])[0]\n",
    "w1[2] = np.linalg.lstsq(A2[1:to_frame, :], FM2xy_confocal_625ms_40x[1:to_frame])[0]\n",
    "w1[3] = np.linalg.lstsq(A2[1:to_frame, :], FM2xy_confocal_625ms_60x[1:to_frame])[0]\n",
    "\n",
    "line1[0] = w1[0][0]*time1 + w1[0][1]\n",
    "line1[1] = w1[1][0]*time1 + w1[1][1]\n",
    "line1[2] = w1[2][0]*time1 + w1[2][1]\n",
    "line1[3] = w1[3][0]*time1 + w1[3][1]"
   ]
  },
  {
   "cell_type": "code",
   "execution_count": 8,
   "metadata": {
    "collapsed": false
   },
   "outputs": [
    {
     "name": "stdout",
     "output_type": "stream",
     "text": [
      "Diffusion Coeff (um^2/s): 4.28e-05 FM2xy_camera_625ms_40x\n",
      "Diffusion Coeff (um^2/s): 0.0001556 FM2xy_camera_625ms_60x\n",
      "Diffusion Coeff (um^2/s): 0.0010982 FM2xy_confocal_625ms_40x\n",
      "Diffusion Coeff (um^2/s): 0.0005591 FM2xy_confocal_625ms_60x\n"
     ]
    }
   ],
   "source": [
    "print('Diffusion Coeff (um^2/s):', np.round(w1[0][0], 7), 'FM2xy_camera_625ms_40x')\n",
    "print('Diffusion Coeff (um^2/s):', np.round(w1[1][0], 7), 'FM2xy_camera_625ms_60x')\n",
    "print('Diffusion Coeff (um^2/s):', np.round(w1[2][0], 7), 'FM2xy_confocal_625ms_40x')\n",
    "print('Diffusion Coeff (um^2/s):', np.round(w1[3][0], 7), 'FM2xy_confocal_625ms_60x')"
   ]
  },
  {
   "cell_type": "code",
   "execution_count": 41,
   "metadata": {
    "collapsed": false
   },
   "outputs": [],
   "source": [
    "fig = plt.figure()\n",
    "ax = fig.add_subplot(111)\n",
    "\n",
    "## the data\n",
    "N = 4\n",
    "\n",
    "## necessary variables\n",
    "ind = np.arange(N)                # the x locations for the groups\n",
    "width = 0.6                     # the width of the bars\n",
    "\n",
    "## the bars\n",
    "rects1 = ax.bar(ind, y1, width,\n",
    "                color='green')\n",
    "\n",
    "# axes and labels\n",
    "ax.set_xlim(-width/2,len(ind)+width/2)\n",
    "ax.set_ylim(0,0.0012)\n",
    "ax.set_ylabel('Diffusion Coefficient (um^2/s)')\n",
    "ax.set_title('Diffusion coefficients for camera')\n",
    "xTickMarks = [labels1[i-1] for i in range(1,5)]\n",
    "ax.set_xticks(ind+width)\n",
    "xtickNames = ax.set_xticklabels(xTickMarks)\n",
    "plt.setp(xtickNames, rotation=45, fontsize=10)\n",
    "\n",
    "plt.show()"
   ]
  },
  {
   "cell_type": "code",
   "execution_count": 42,
   "metadata": {
    "collapsed": true
   },
   "outputs": [],
   "source": [
    "fig = plt.figure()\n",
    "ax = fig.add_subplot(111)\n",
    "\n",
    "## the data\n",
    "N = 4\n",
    "\n",
    "## necessary variables\n",
    "ind = np.arange(N)                # the x locations for the groups\n",
    "width = 0.6                     # the width of the bars\n",
    "\n",
    "## the bars\n",
    "rects1 = ax.bar(ind, y2, width,\n",
    "                color='green')\n",
    "\n",
    "# axes and labels\n",
    "ax.set_xlim(-width/2,len(ind)+width/2)\n",
    "ax.set_ylim(0,0.0012)\n",
    "ax.set_ylabel('Diffusion Coefficient (um^2/s)')\n",
    "ax.set_title('Diffusion coefficients for confocal')\n",
    "xTickMarks = [labels2[i-1] for i in range(1,5)]\n",
    "ax.set_xticks(ind+width)\n",
    "xtickNames = ax.set_xticklabels(xTickMarks)\n",
    "plt.setp(xtickNames, rotation=45, fontsize=10)\n",
    "\n",
    "plt.show()"
   ]
  },
  {
   "cell_type": "code",
   "execution_count": 13,
   "metadata": {
    "collapsed": false
   },
   "outputs": [],
   "source": [
    "N = 5\n",
    "\n",
    "ind = np.arange(N)\n",
    "width = 0.35     \n",
    "\n",
    "x1 = [1, 2, 3, 4]\n",
    "x2 = [1, 2, 3, 4]\n",
    "y1 = [w[0][0], w[1][0], w1[0][0], w1[1][0]]\n",
    "y2 = [w[2][0], w[3][0], w1[2][0], w1[3][0]]\n",
    "\n",
    "labels1 = ['FM2xy_camera_1000ms_40x', 'FM2xy_camera_1000ms_60x', 'FM2xy_camera_625ms_40x', 'FM2xy_camera_625ms_60x']\n",
    "labels2 = ['FM2xy_confocal_1000ms_40x', 'FM2xy_confocal_1000ms_60x', 'FM2xy_confocal_625ms_40x', 'FM2xy_confocal_625ms_60x']"
   ]
  },
  {
   "cell_type": "code",
   "execution_count": null,
   "metadata": {
    "collapsed": false
   },
   "outputs": [],
   "source": [
    "FM2xy_confocal_625ms_60x"
   ]
  },
  {
   "cell_type": "code",
   "execution_count": null,
   "metadata": {
    "collapsed": false
   },
   "outputs": [],
   "source": [
    "time2"
   ]
  },
  {
   "cell_type": "code",
   "execution_count": null,
   "metadata": {
    "collapsed": false
   },
   "outputs": [],
   "source": [
    "#Figure parameters\n",
    "\n",
    "filename = 'FBF_comparison_40x.png'\n",
    "\n",
    "limit1=50.1 #x range\n",
    "tick1 = round(limit1)/5 #x ticks\n",
    "\n",
    "limit2=0.051 #y range\n",
    "tick2 = round(limit2, 2)/5 #y ticks\n",
    "\n",
    "label=95 #label font size\n",
    "leg=40 #legend font size\n",
    "ylabel=r'MSD ($\\mu$m$^2$)'\n",
    "\n",
    "dec1=0 #decimals displayed on x axis\n",
    "dec2=2 #decimals displayed on y axis\n",
    "\n",
    "d1 = 30 #dashed line dash length\n",
    "d2 = 15 #dashed line space length\n",
    "\n",
    "wi = 10 #line width\n",
    "mi = 12 #marker size"
   ]
  },
  {
   "cell_type": "code",
   "execution_count": null,
   "metadata": {
    "collapsed": false
   },
   "outputs": [],
   "source": [
    "# Creates figure\n",
    "fig = plt.figure(figsize=(24, 18), dpi=80)\n",
    "ax = fig.add_subplot(111)\n",
    "    # ax.set_title('Particle Trajectories', x=0.5, y=1.15)\n",
    "\n",
    "ax.plot(time2, FM2xy_camera_1000ms_40x, 'bo', ms=mi, label='Camera 1000ms 40x')\n",
    "ax.plot(time1, FM2xy_camera_625ms_40x, 'b--', linewidth=wi, dashes=[d1,d2], label='Camera 625ms 40x')\n",
    "ax.plot(time2, FM2xy_confocal_1000ms_40x, 'go', ms=mi, label='Confocal 1000ms 40x')\n",
    "ax.plot(time1, FM2xy_confocal_625ms_40x[:-1], 'g--', linewidth=wi, dashes=[d1,d2], label='Confocal 625ms 40x')\n",
    "    \n",
    "# ax.errorbar(t, MMSD[:, 0], yerr=SE[:, 0], fmt='', linestyle='', capsize=7, capthick=2, elinewidth=2, color='blue')\n",
    "# ax.errorbar(t, MMSD[:, 1], yerr=SE[:, 1], fmt='', linestyle='', capsize=7, capthick=2, elinewidth=2, color='red')\n",
    "# ax.errorbar(t, MMSD[:, 2], yerr=SE[:, 2], fmt='', linestyle='', capsize=7, capthick=2, elinewidth=2, color='green')\n",
    "\n",
    "# ax.plot(t, line[0], linewidth=3, color='blue')\n",
    "# ax.plot(t, line[1], linewidth=3, color='red')\n",
    "# ax.plot(t, line[2], linewidth=3, color='green')\n",
    "    \n",
    "#ax.plot(t, linel[0], linewidth=3, color='blue')\n",
    "#ax.plot(t, linel[1], linewidth=3, color='red')\n",
    "#ax.plot(t, linel[2], linewidth=3, color='green')\n",
    "    \n",
    "# A few adjustments to prettify the graph\n",
    "for item in ([ax.xaxis.label, ax.yaxis.label] +\n",
    "             ax.get_xticklabels() + ax.get_yticklabels()):\n",
    "    item.set_fontsize(70)\n",
    "\n",
    "xmajor_ticks = np.arange(0, limit1, tick1)\n",
    "ymajor_ticks = np.arange(0, limit2, tick2)\n",
    "\n",
    "ax.set_xticks(xmajor_ticks)\n",
    "ax.set_yticks(ymajor_ticks)\n",
    "ax.title.set_fontsize(70)\n",
    "ax.set_xlabel('Time (s)', fontsize=label)\n",
    "ax.set_ylabel(ylabel, fontsize=label)\n",
    "ax.tick_params(direction='out', pad=16)\n",
    "ax.legend(loc=(0.06, 0.66), prop={'size': leg})\n",
    "plt.gca().xaxis.set_major_formatter(mpl.ticker.FormatStrFormatter('%.{}f'.format(dec1)))\n",
    "plt.gca().yaxis.set_major_formatter(mpl.ticker.FormatStrFormatter('%.{}f'.format(dec2)))\n",
    "\n",
    "\n",
    "#plt.yscale('log')\n",
    "#plt.xscale('log')\n",
    "plt.gca().set_xlim([0, limit1])\n",
    "plt.gca().set_ylim([0, limit2])\n",
    "\n",
    "# Save your figure\n",
    "plt.savefig('{}.png'.format(filename), bbox_inches='tight')\n",
    "plt.show()"
   ]
  },
  {
   "cell_type": "code",
   "execution_count": null,
   "metadata": {
    "collapsed": false
   },
   "outputs": [],
   "source": [
    "time1.shape"
   ]
  },
  {
   "cell_type": "code",
   "execution_count": null,
   "metadata": {
    "collapsed": false
   },
   "outputs": [],
   "source": [
    "#Figure parameters\n",
    "\n",
    "filename = 'FBF_comparison_60x.png'\n",
    "\n",
    "limit1=50.1 #x range\n",
    "tick1 = round(limit1)/5 #x ticks\n",
    "\n",
    "limit2=0.051 #y range\n",
    "tick2 = round(limit2, 2)/5 #y ticks\n",
    "\n",
    "label=95 #label font size\n",
    "leg=40 #legend font size\n",
    "ylabel=r'MSD ($\\mu$m$^2$)'\n",
    "\n",
    "dec1=0 #decimals displayed on x axis\n",
    "dec2=2 #decimals displayed on y axis\n",
    "\n",
    "d1 = 30 #dashed line dash length\n",
    "d2 = 15 #dashed line space length\n",
    "\n",
    "wi = 10 #line width\n",
    "mi = 12 #marker size"
   ]
  },
  {
   "cell_type": "code",
   "execution_count": null,
   "metadata": {
    "collapsed": false
   },
   "outputs": [],
   "source": [
    "# Creates figure\n",
    "fig = plt.figure(figsize=(24, 18), dpi=80)\n",
    "ax = fig.add_subplot(111)\n",
    "    # ax.set_title('Particle Trajectories', x=0.5, y=1.15)\n",
    "\n",
    "ax.plot(time2, FM2xy_camera_1000ms_60x, 'bo', ms=mi, label='Camera 1000ms 60x')\n",
    "ax.plot(time1, FM2xy_camera_625ms_60x, 'b--', linewidth=wi, dashes=[d1,d2], label='Camera 625ms 60x')\n",
    "ax.plot(time2, FM2xy_confocal_1000ms_60x, 'go', ms=mi, label='Confocal 1000ms 60x')\n",
    "ax.plot(time1, FM2xy_confocal_625ms_60x, 'g--', linewidth=wi, dashes=[d1,d2], label='Confocal 625ms 60x')\n",
    "    \n",
    "# ax.errorbar(t, MMSD[:, 0], yerr=SE[:, 0], fmt='', linestyle='', capsize=7, capthick=2, elinewidth=2, color='blue')\n",
    "# ax.errorbar(t, MMSD[:, 1], yerr=SE[:, 1], fmt='', linestyle='', capsize=7, capthick=2, elinewidth=2, color='red')\n",
    "# ax.errorbar(t, MMSD[:, 2], yerr=SE[:, 2], fmt='', linestyle='', capsize=7, capthick=2, elinewidth=2, color='green')\n",
    "\n",
    "# ax.plot(t, line[0], linewidth=3, color='blue')\n",
    "# ax.plot(t, line[1], linewidth=3, color='red')\n",
    "# ax.plot(t, line[2], linewidth=3, color='green')\n",
    "    \n",
    "#ax.plot(t, linel[0], linewidth=3, color='blue')\n",
    "#ax.plot(t, linel[1], linewidth=3, color='red')\n",
    "#ax.plot(t, linel[2], linewidth=3, color='green')\n",
    "    \n",
    "# A few adjustments to prettify the graph\n",
    "for item in ([ax.xaxis.label, ax.yaxis.label] +\n",
    "             ax.get_xticklabels() + ax.get_yticklabels()):\n",
    "    item.set_fontsize(70)\n",
    "\n",
    "xmajor_ticks = np.arange(0, limit1, tick1)\n",
    "ymajor_ticks = np.arange(0, limit2, tick2)\n",
    "\n",
    "ax.set_xticks(xmajor_ticks)\n",
    "ax.set_yticks(ymajor_ticks)\n",
    "ax.title.set_fontsize(70)\n",
    "ax.set_xlabel('Time (s)', fontsize=label)\n",
    "ax.set_ylabel(ylabel, fontsize=label)\n",
    "ax.tick_params(direction='out', pad=16)\n",
    "ax.legend(loc=(0.06, 0.66), prop={'size': leg})\n",
    "plt.gca().xaxis.set_major_formatter(mpl.ticker.FormatStrFormatter('%.{}f'.format(dec1)))\n",
    "plt.gca().yaxis.set_major_formatter(mpl.ticker.FormatStrFormatter('%.{}f'.format(dec2)))\n",
    "\n",
    "\n",
    "#plt.yscale('log')\n",
    "#plt.xscale('log')\n",
    "plt.gca().set_xlim([0, limit1])\n",
    "plt.gca().set_ylim([0, limit2])\n",
    "\n",
    "# Save your figure\n",
    "plt.savefig('{}.png'.format(filename), bbox_inches='tight')\n",
    "plt.show()"
   ]
  },
  {
   "cell_type": "code",
   "execution_count": null,
   "metadata": {
    "collapsed": true
   },
   "outputs": [],
   "source": [
    "#Figure parameters\n",
    "\n",
    "filename = 'FBF_comparison_625ms.png'\n",
    "\n",
    "limit1=50.1 #x range\n",
    "tick1 = round(limit1)/5 #x ticks\n",
    "\n",
    "limit2=0.051 #y range\n",
    "tick2 = round(limit2, 2)/5 #y ticks\n",
    "\n",
    "label=95 #label font size\n",
    "leg=40 #legend font size\n",
    "ylabel=r'MSD ($\\mu$m$^2$)'\n",
    "\n",
    "dec1=0 #decimals displayed on x axis\n",
    "dec2=2 #decimals displayed on y axis\n",
    "\n",
    "d1 = 30 #dashed line dash length\n",
    "d2 = 15 #dashed line space length\n",
    "\n",
    "wi = 10 #line width\n",
    "mi = 12 #marker size"
   ]
  },
  {
   "cell_type": "code",
   "execution_count": null,
   "metadata": {
    "collapsed": false
   },
   "outputs": [],
   "source": [
    "# Creates figure\n",
    "fig = plt.figure(figsize=(24, 18), dpi=80)\n",
    "ax = fig.add_subplot(111)\n",
    "    # ax.set_title('Particle Trajectories', x=0.5, y=1.15)\n",
    "\n",
    "ax.plot(time1, FM2xy_camera_625ms_40x, 'bo', ms=mi, label='Camera 625ms 40x')\n",
    "ax.plot(time1, FM2xy_camera_625ms_60x, 'b--', linewidth=wi, dashes=[d1,d2], label='Camera 625ms 60x')\n",
    "ax.plot(time1, FM2xy_confocal_625ms_40x[:-1], 'go', ms=mi, label='Confocal 625ms 40x')\n",
    "ax.plot(time1, FM2xy_confocal_625ms_60x, 'g--', linewidth=wi, dashes=[d1,d2], label='Confocal 625ms 60x')\n",
    "    \n",
    "# ax.errorbar(t, MMSD[:, 0], yerr=SE[:, 0], fmt='', linestyle='', capsize=7, capthick=2, elinewidth=2, color='blue')\n",
    "# ax.errorbar(t, MMSD[:, 1], yerr=SE[:, 1], fmt='', linestyle='', capsize=7, capthick=2, elinewidth=2, color='red')\n",
    "# ax.errorbar(t, MMSD[:, 2], yerr=SE[:, 2], fmt='', linestyle='', capsize=7, capthick=2, elinewidth=2, color='green')\n",
    "\n",
    "# ax.plot(t, line[0], linewidth=3, color='blue')\n",
    "# ax.plot(t, line[1], linewidth=3, color='red')\n",
    "# ax.plot(t, line[2], linewidth=3, color='green')\n",
    "    \n",
    "#ax.plot(t, linel[0], linewidth=3, color='blue')\n",
    "#ax.plot(t, linel[1], linewidth=3, color='red')\n",
    "#ax.plot(t, linel[2], linewidth=3, color='green')\n",
    "    \n",
    "# A few adjustments to prettify the graph\n",
    "for item in ([ax.xaxis.label, ax.yaxis.label] +\n",
    "             ax.get_xticklabels() + ax.get_yticklabels()):\n",
    "    item.set_fontsize(70)\n",
    "\n",
    "xmajor_ticks = np.arange(0, limit1, tick1)\n",
    "ymajor_ticks = np.arange(0, limit2, tick2)\n",
    "\n",
    "ax.set_xticks(xmajor_ticks)\n",
    "ax.set_yticks(ymajor_ticks)\n",
    "ax.title.set_fontsize(70)\n",
    "ax.set_xlabel('Time (s)', fontsize=label)\n",
    "ax.set_ylabel(ylabel, fontsize=label)\n",
    "ax.tick_params(direction='out', pad=16)\n",
    "ax.legend(loc=(0.06, 0.66), prop={'size': leg})\n",
    "plt.gca().xaxis.set_major_formatter(mpl.ticker.FormatStrFormatter('%.{}f'.format(dec1)))\n",
    "plt.gca().yaxis.set_major_formatter(mpl.ticker.FormatStrFormatter('%.{}f'.format(dec2)))\n",
    "\n",
    "\n",
    "#plt.yscale('log')\n",
    "#plt.xscale('log')\n",
    "plt.gca().set_xlim([0, limit1])\n",
    "plt.gca().set_ylim([0, limit2])\n",
    "\n",
    "# Save your figure\n",
    "plt.savefig('{}.png'.format(filename), bbox_inches='tight')\n",
    "plt.show()"
   ]
  },
  {
   "cell_type": "code",
   "execution_count": null,
   "metadata": {
    "collapsed": true
   },
   "outputs": [],
   "source": [
    "#Figure parameters\n",
    "\n",
    "filename = 'FBF_comparison_1000ms.png'\n",
    "\n",
    "limit1=50.1 #x range\n",
    "tick1 = round(limit1)/5 #x ticks\n",
    "\n",
    "limit2=0.051 #y range\n",
    "tick2 = round(limit2, 2)/5 #y ticks\n",
    "\n",
    "label=95 #label font size\n",
    "leg=40 #legend font size\n",
    "ylabel=r'MSD ($\\mu$m$^2$)'\n",
    "\n",
    "dec1=0 #decimals displayed on x axis\n",
    "dec2=2 #decimals displayed on y axis\n",
    "\n",
    "d1 = 30 #dashed line dash length\n",
    "d2 = 15 #dashed line space length\n",
    "\n",
    "wi = 10 #line width\n",
    "mi = 12 #marker size"
   ]
  },
  {
   "cell_type": "code",
   "execution_count": null,
   "metadata": {
    "collapsed": true
   },
   "outputs": [],
   "source": [
    "# Creates figure\n",
    "fig = plt.figure(figsize=(24, 18), dpi=80)\n",
    "ax = fig.add_subplot(111)\n",
    "    # ax.set_title('Particle Trajectories', x=0.5, y=1.15)\n",
    "\n",
    "ax.plot(time2, FM2xy_camera_1000ms_40x, 'bo', ms=mi, label='Camera 1000ms 40x')\n",
    "ax.plot(time2, FM2xy_camera_1000ms_60x, 'b--', linewidth=wi, dashes=[d1,d2], label='Camera 1000ms 60x')\n",
    "ax.plot(time2, FM2xy_confocal_1000ms_40x, 'go', ms=mi, label='Confocal 1000ms 40x')\n",
    "ax.plot(time2, FM2xy_confocal_1000ms_60x, 'g--', linewidth=wi, dashes=[d1,d2], label='Confocal 1000ms 60x')\n",
    "    \n",
    "# ax.errorbar(t, MMSD[:, 0], yerr=SE[:, 0], fmt='', linestyle='', capsize=7, capthick=2, elinewidth=2, color='blue')\n",
    "# ax.errorbar(t, MMSD[:, 1], yerr=SE[:, 1], fmt='', linestyle='', capsize=7, capthick=2, elinewidth=2, color='red')\n",
    "# ax.errorbar(t, MMSD[:, 2], yerr=SE[:, 2], fmt='', linestyle='', capsize=7, capthick=2, elinewidth=2, color='green')\n",
    "\n",
    "# ax.plot(t, line[0], linewidth=3, color='blue')\n",
    "# ax.plot(t, line[1], linewidth=3, color='red')\n",
    "# ax.plot(t, line[2], linewidth=3, color='green')\n",
    "    \n",
    "#ax.plot(t, linel[0], linewidth=3, color='blue')\n",
    "#ax.plot(t, linel[1], linewidth=3, color='red')\n",
    "#ax.plot(t, linel[2], linewidth=3, color='green')\n",
    "    \n",
    "# A few adjustments to prettify the graph\n",
    "for item in ([ax.xaxis.label, ax.yaxis.label] +\n",
    "             ax.get_xticklabels() + ax.get_yticklabels()):\n",
    "    item.set_fontsize(70)\n",
    "\n",
    "xmajor_ticks = np.arange(0, limit1, tick1)\n",
    "ymajor_ticks = np.arange(0, limit2, tick2)\n",
    "\n",
    "ax.set_xticks(xmajor_ticks)\n",
    "ax.set_yticks(ymajor_ticks)\n",
    "ax.title.set_fontsize(70)\n",
    "ax.set_xlabel('Time (s)', fontsize=label)\n",
    "ax.set_ylabel(ylabel, fontsize=label)\n",
    "ax.tick_params(direction='out', pad=16)\n",
    "ax.legend(loc=(0.06, 0.66), prop={'size': leg})\n",
    "plt.gca().xaxis.set_major_formatter(mpl.ticker.FormatStrFormatter('%.{}f'.format(dec1)))\n",
    "plt.gca().yaxis.set_major_formatter(mpl.ticker.FormatStrFormatter('%.{}f'.format(dec2)))\n",
    "\n",
    "\n",
    "#plt.yscale('log')\n",
    "#plt.xscale('log')\n",
    "plt.gca().set_xlim([0, limit1])\n",
    "plt.gca().set_ylim([0, limit2])\n",
    "\n",
    "# Save your figure\n",
    "plt.savefig('{}.png'.format(filename), bbox_inches='tight')\n",
    "plt.show()"
   ]
  },
  {
   "cell_type": "code",
   "execution_count": null,
   "metadata": {
    "collapsed": true
   },
   "outputs": [],
   "source": [
    "#Figure parameters\n",
    "\n",
    "filename = 'FBF_comparison_camera.png'\n",
    "\n",
    "limit1=50.1 #x range\n",
    "tick1 = round(limit1)/5 #x ticks\n",
    "\n",
    "limit2=0.051 #y range\n",
    "tick2 = round(limit2, 2)/5 #y ticks\n",
    "\n",
    "label=95 #label font size\n",
    "leg=40 #legend font size\n",
    "ylabel=r'MSD ($\\mu$m$^2$)'\n",
    "\n",
    "dec1=0 #decimals displayed on x axis\n",
    "dec2=2 #decimals displayed on y axis\n",
    "\n",
    "d1 = 30 #dashed line dash length\n",
    "d2 = 15 #dashed line space length\n",
    "\n",
    "wi = 10 #line width\n",
    "mi = 12 #marker size"
   ]
  },
  {
   "cell_type": "code",
   "execution_count": null,
   "metadata": {
    "collapsed": false
   },
   "outputs": [],
   "source": [
    "# Creates figure\n",
    "fig = plt.figure(figsize=(24, 18), dpi=80)\n",
    "ax = fig.add_subplot(111)\n",
    "    # ax.set_title('Particle Trajectories', x=0.5, y=1.15)\n",
    "\n",
    "ax.plot(time2, FM2xy_camera_1000ms_40x, 'bo', ms=mi, label='Camera 1000ms 40x')\n",
    "ax.plot(time2, FM2xy_camera_1000ms_60x, 'b--', linewidth=wi, dashes=[d1,d2], label='Camera 1000ms 60x')\n",
    "ax.plot(time1, FM2xy_camera_625ms_40x, 'go', ms=mi, label='Camera 625ms 40x')\n",
    "ax.plot(time1, FM2xy_camera_625ms_60x, 'g--', linewidth=wi, dashes=[d1,d2], label='Camera 625ms 60x')\n",
    "    \n",
    "# ax.errorbar(t, MMSD[:, 0], yerr=SE[:, 0], fmt='', linestyle='', capsize=7, capthick=2, elinewidth=2, color='blue')\n",
    "# ax.errorbar(t, MMSD[:, 1], yerr=SE[:, 1], fmt='', linestyle='', capsize=7, capthick=2, elinewidth=2, color='red')\n",
    "# ax.errorbar(t, MMSD[:, 2], yerr=SE[:, 2], fmt='', linestyle='', capsize=7, capthick=2, elinewidth=2, color='green')\n",
    "\n",
    "# ax.plot(t, line[0], linewidth=3, color='blue')\n",
    "# ax.plot(t, line[1], linewidth=3, color='red')\n",
    "# ax.plot(t, line[2], linewidth=3, color='green')\n",
    "    \n",
    "#ax.plot(t, linel[0], linewidth=3, color='blue')\n",
    "#ax.plot(t, linel[1], linewidth=3, color='red')\n",
    "#ax.plot(t, linel[2], linewidth=3, color='green')\n",
    "    \n",
    "# A few adjustments to prettify the graph\n",
    "for item in ([ax.xaxis.label, ax.yaxis.label] +\n",
    "             ax.get_xticklabels() + ax.get_yticklabels()):\n",
    "    item.set_fontsize(70)\n",
    "\n",
    "xmajor_ticks = np.arange(0, limit1, tick1)\n",
    "ymajor_ticks = np.arange(0, limit2, tick2)\n",
    "\n",
    "ax.set_xticks(xmajor_ticks)\n",
    "ax.set_yticks(ymajor_ticks)\n",
    "ax.title.set_fontsize(70)\n",
    "ax.set_xlabel('Time (s)', fontsize=label)\n",
    "ax.set_ylabel(ylabel, fontsize=label)\n",
    "ax.tick_params(direction='out', pad=16)\n",
    "ax.legend(loc=(0.06, 0.66), prop={'size': leg})\n",
    "plt.gca().xaxis.set_major_formatter(mpl.ticker.FormatStrFormatter('%.{}f'.format(dec1)))\n",
    "plt.gca().yaxis.set_major_formatter(mpl.ticker.FormatStrFormatter('%.{}f'.format(dec2)))\n",
    "\n",
    "\n",
    "#plt.yscale('log')\n",
    "#plt.xscale('log')\n",
    "plt.gca().set_xlim([0, limit1])\n",
    "plt.gca().set_ylim([0, limit2])\n",
    "\n",
    "# Save your figure\n",
    "plt.savefig('{}.png'.format(filename), bbox_inches='tight')\n",
    "plt.show()"
   ]
  },
  {
   "cell_type": "code",
   "execution_count": null,
   "metadata": {
    "collapsed": true
   },
   "outputs": [],
   "source": [
    "#Figure parameters\n",
    "\n",
    "filename = 'FBF_comparison_confocal.png'\n",
    "\n",
    "limit1=50.1 #x range\n",
    "tick1 = round(limit1)/5 #x ticks\n",
    "\n",
    "limit2=0.051 #y range\n",
    "tick2 = round(limit2, 2)/5 #y ticks\n",
    "\n",
    "label=95 #label font size\n",
    "leg=40 #legend font size\n",
    "ylabel=r'MSD ($\\mu$m$^2$)'\n",
    "\n",
    "dec1=0 #decimals displayed on x axis\n",
    "dec2=2 #decimals displayed on y axis\n",
    "\n",
    "d1 = 30 #dashed line dash length\n",
    "d2 = 15 #dashed line space length\n",
    "\n",
    "wi = 10 #line width\n",
    "mi = 12 #marker size"
   ]
  },
  {
   "cell_type": "code",
   "execution_count": null,
   "metadata": {
    "collapsed": false
   },
   "outputs": [],
   "source": [
    "# Creates figure\n",
    "fig = plt.figure(figsize=(24, 18), dpi=80)\n",
    "ax = fig.add_subplot(111)\n",
    "    # ax.set_title('Particle Trajectories', x=0.5, y=1.15)\n",
    "\n",
    "ax.plot(time2, FM2xy_confocal_1000ms_40x, 'bo', ms=mi, label='Confocal 1000ms 40x')\n",
    "ax.plot(time2, FM2xy_confocal_1000ms_60x, 'b--', linewidth=wi, dashes=[d1,d2], label='Confocal 1000ms 60x')\n",
    "ax.plot(time1, FM2xy_confocal_625ms_40x[:-1], 'go', ms=mi, label='Confocal 625ms 40x')\n",
    "ax.plot(time1, FM2xy_confocal_625ms_60x, 'g--', linewidth=wi, dashes=[d1,d2], label='Confocal 625ms 60x')\n",
    "    \n",
    "# ax.errorbar(t, MMSD[:, 0], yerr=SE[:, 0], fmt='', linestyle='', capsize=7, capthick=2, elinewidth=2, color='blue')\n",
    "# ax.errorbar(t, MMSD[:, 1], yerr=SE[:, 1], fmt='', linestyle='', capsize=7, capthick=2, elinewidth=2, color='red')\n",
    "# ax.errorbar(t, MMSD[:, 2], yerr=SE[:, 2], fmt='', linestyle='', capsize=7, capthick=2, elinewidth=2, color='green')\n",
    "\n",
    "ax.plot(time2, line[2], linewidth=3, color='purple')\n",
    "ax.plot(time2, line[3], linewidth=3, color='purple')\n",
    "ax.plot(time1, line1[2], linewidth=3, color='purple')\n",
    "ax.plot(time1, line1[3], linewidth=3, color='purple')\n",
    "    \n",
    "# A few adjustments to prettify the graph\n",
    "for item in ([ax.xaxis.label, ax.yaxis.label] +\n",
    "             ax.get_xticklabels() + ax.get_yticklabels()):\n",
    "    item.set_fontsize(70)\n",
    "\n",
    "xmajor_ticks = np.arange(0, limit1, tick1)\n",
    "ymajor_ticks = np.arange(0, limit2, tick2)\n",
    "\n",
    "ax.set_xticks(xmajor_ticks)\n",
    "ax.set_yticks(ymajor_ticks)\n",
    "ax.title.set_fontsize(70)\n",
    "ax.set_xlabel('Time (s)', fontsize=label)\n",
    "ax.set_ylabel(ylabel, fontsize=label)\n",
    "ax.tick_params(direction='out', pad=16)\n",
    "ax.legend(loc=(0.06, 0.66), prop={'size': leg})\n",
    "plt.gca().xaxis.set_major_formatter(mpl.ticker.FormatStrFormatter('%.{}f'.format(dec1)))\n",
    "plt.gca().yaxis.set_major_formatter(mpl.ticker.FormatStrFormatter('%.{}f'.format(dec2)))\n",
    "\n",
    "\n",
    "#plt.yscale('log')\n",
    "#plt.xscale('log')\n",
    "plt.gca().set_xlim([0, limit1])\n",
    "plt.gca().set_ylim([0, limit2])\n",
    "\n",
    "# Save your figure\n",
    "plt.savefig('{}.png'.format(filename), bbox_inches='tight')\n",
    "plt.show()"
   ]
  },
  {
   "cell_type": "code",
   "execution_count": null,
   "metadata": {
    "collapsed": true
   },
   "outputs": [],
   "source": [
    "#Figure parameters\n",
    "\n",
    "filename = 'FBF_geo_ar_comparison.png'\n",
    "\n",
    "limit1=20.1 #x range\n",
    "tick1 = round(limit1)/5 #x ticks\n",
    "\n",
    "limit2=0.0051 #y range\n",
    "tick2 = round(limit2, 3)/5 #y ticks\n",
    "\n",
    "label=95 #label font size\n",
    "leg=40 #legend font size\n",
    "ylabel=r'MSD ($\\mu$m$^2$)'\n",
    "\n",
    "dec1=0 #decimals displayed on x axis\n",
    "dec2=3 #decimals displayed on y axis\n",
    "\n",
    "d1 = 30 #dashed line dash length\n",
    "d2 = 15 #dashed line space length\n",
    "\n",
    "wi = 10 #line width\n",
    "mi = 12 #marker size"
   ]
  },
  {
   "cell_type": "code",
   "execution_count": null,
   "metadata": {
    "collapsed": false
   },
   "outputs": [],
   "source": [
    "# Creates figure\n",
    "fig = plt.figure(figsize=(24, 18), dpi=80)\n",
    "ax = fig.add_subplot(111)\n",
    "    # ax.set_title('Particle Trajectories', x=0.5, y=1.15)\n",
    "\n",
    "ax.plot(time2[0:19], geoM2xy_camera_1000ms_60x[0:-1], 'b--', linewidth=wi, dashes=[d1,d2], label='Geometric')\n",
    "ax.plot(time2[0:19], arM2xy_camera_1000ms_60x[0:-1], 'g--', linewidth=wi, dashes=[d1,d2], label='Arithmetic')\n",
    "ax.plot(time2, FM2xy_camera_1000ms_60x, 'r--', linewidth=wi, dashes=[d1,d2], label='Frame-by-frame')\n",
    "    \n",
    "# ax.errorbar(t, MMSD[:, 0], yerr=SE[:, 0], fmt='', linestyle='', capsize=7, capthick=2, elinewidth=2, color='blue')\n",
    "# ax.errorbar(t, MMSD[:, 1], yerr=SE[:, 1], fmt='', linestyle='', capsize=7, capthick=2, elinewidth=2, color='red')\n",
    "# ax.errorbar(t, MMSD[:, 2], yerr=SE[:, 2], fmt='', linestyle='', capsize=7, capthick=2, elinewidth=2, color='green')\n",
    "\n",
    "# ax.plot(t, line[0], linewidth=3, color='blue')\n",
    "# ax.plot(t, line[1], linewidth=3, color='red')\n",
    "# ax.plot(t, line[2], linewidth=3, color='green')\n",
    "    \n",
    "#ax.plot(t, linel[0], linewidth=3, color='blue')\n",
    "#ax.plot(t, linel[1], linewidth=3, color='red')\n",
    "#ax.plot(t, linel[2], linewidth=3, color='green')\n",
    "    \n",
    "# A few adjustments to prettify the graph\n",
    "for item in ([ax.xaxis.label, ax.yaxis.label] +\n",
    "             ax.get_xticklabels() + ax.get_yticklabels()):\n",
    "    item.set_fontsize(70)\n",
    "\n",
    "xmajor_ticks = np.arange(0, limit1, tick1)\n",
    "ymajor_ticks = np.arange(0, limit2, tick2)\n",
    "\n",
    "ax.set_xticks(xmajor_ticks)\n",
    "ax.set_yticks(ymajor_ticks)\n",
    "ax.title.set_fontsize(70)\n",
    "ax.set_xlabel('Time (s)', fontsize=label)\n",
    "ax.set_ylabel(ylabel, fontsize=label)\n",
    "ax.tick_params(direction='out', pad=16)\n",
    "ax.legend(loc=(0.06, 0.66), prop={'size': leg})\n",
    "plt.gca().xaxis.set_major_formatter(mpl.ticker.FormatStrFormatter('%.{}f'.format(dec1)))\n",
    "plt.gca().yaxis.set_major_formatter(mpl.ticker.FormatStrFormatter('%.{}f'.format(dec2)))\n",
    "\n",
    "\n",
    "#plt.yscale('log')\n",
    "#plt.xscale('log')\n",
    "plt.gca().set_xlim([0, limit1])\n",
    "plt.gca().set_ylim([0, limit2])\n",
    "\n",
    "# Save your figure\n",
    "plt.savefig('{}.png'.format(filename), bbox_inches='tight')\n",
    "plt.show()"
   ]
  },
  {
   "cell_type": "code",
   "execution_count": null,
   "metadata": {
    "collapsed": false
   },
   "outputs": [],
   "source": [
    "geoM2xy_camera_1000ms_60x.shape"
   ]
  },
  {
   "cell_type": "code",
   "execution_count": null,
   "metadata": {
    "collapsed": true
   },
   "outputs": [],
   "source": []
  }
 ],
 "metadata": {
  "kernelspec": {
   "display_name": "Python 3",
   "language": "python",
   "name": "python3"
  },
  "language_info": {
   "codemirror_mode": {
    "name": "ipython",
    "version": 3
   },
   "file_extension": ".py",
   "mimetype": "text/x-python",
   "name": "python",
   "nbconvert_exporter": "python",
   "pygments_lexer": "ipython3",
   "version": "3.5.1"
  }
 },
 "nbformat": 4,
 "nbformat_minor": 0
}
