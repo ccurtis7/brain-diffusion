{
 "cells": [
  {
   "cell_type": "code",
   "execution_count": 1,
   "metadata": {
    "collapsed": true
   },
   "outputs": [],
   "source": [
    "import os\n",
    "import sys\n",
    "module_path = os.path.abspath(os.path.join('..'))\n",
    "if module_path not in sys.path:\n",
    "    sys.path.append(module_path)\n",
    "\n",
    "from trajectory_visualization import plot_trajectory, sidebyside, shift_trajectory, overlay, shift_trajectory3D\n",
    "from trajectory_visualization import plot_trajectories3D, plot_3Doverlay, plot_MSDorDeff, plot_MeanMSDorDeff, randtraj, multrandtraj\n",
    "from trajectory_visualization import randtraj2, plot_Mean2DMSDsorDeff, plot_MSDorDeffLR, LRfor3D2D, fillin, prettify\n",
    "from methods_of_Dcalc import Dpointder, Dlinalg, Dlinalgw\n",
    "\n",
    "import matplotlib as mpl\n",
    "import matplotlib.pyplot as plt\n",
    "import scipy.optimize as opt\n",
    "import scipy.stats as stat\n",
    "from mpl_toolkits.mplot3d import Axes3D\n",
    "from operator import itemgetter\n",
    "import random\n",
    "import numpy as np\n",
    "import numpy.ma as ma\n",
    "import numpy.linalg as la\n",
    "from mpl_toolkits.mplot3d import Axes3D\n",
    "\n",
    "pi = np.pi\n",
    "sin = np.sin\n",
    "cos = np.cos"
   ]
  },
  {
   "cell_type": "code",
   "execution_count": 2,
   "metadata": {
    "collapsed": true
   },
   "outputs": [],
   "source": [
    "# Type in datasets you would like to combine.  Adjust totvids to reflect the total number of videos. Also type in the\n",
    "# umppx and fps in the conversion dictionary.\n",
    "\n",
    "logplot = 'CON_40x_2D_130ms_logplot'\n",
    "Mplot = 'CON_40x_2D_130ms_Mplot'\n",
    "Dplot = 'CON_40x_2D_130ms_Dplot'\n",
    "Hplot = 'CON_40x_2D_130ms_Hplot'\n",
    "Hlogplot = 'CON_40x_2D_130ms_Hlogplot'\n",
    "\n",
    "conversion = dict() #First element is the umppx, second is fps\n",
    "\n",
    "conversion[1] = (0.30, 5.33, 1)\n",
    "conversion[2] = (0.30, 5.37, 1)\n",
    "conversion[3] = (0.30, 5.37, 1)\n",
    "conversion[4] = (0.30, 5.31, 1)\n",
    "conversion[5] = (0.30, 5.33, 1)\n",
    "conversion[6] = (0.30, 5.33, 1)\n",
    "conversion[7] = (0.30, 5.35, 1)\n",
    "\n",
    "trajectory = dict()\n",
    "\n",
    "trajectory[1] = np.genfromtxt('./CON_40x_2D_130ms_1_T.csv',\n",
    "            delimiter =\",\")\n",
    "# trajectory[2] = np.genfromtxt('./CON_40x_2D_130ms_2_T.csv',\n",
    "#             delimiter =\",\")\n",
    "# trajectory[3] = np.genfromtxt('./CON_40x_2D_130ms_3_T.csv',\n",
    "#             delimiter =\",\")\n",
    "# trajectory[4] = np.genfromtxt('./CON_40x_2D_130ms_4_T.csv',\n",
    "#             delimiter =\",\")\n",
    "# trajectory[5] = np.genfromtxt('./CON_40x_2D_130ms_5_T.csv',\n",
    "#             delimiter =\",\")\n",
    "# trajectory[6] = np.genfromtxt('./CON_40x_2D_130ms_6_T.csv',\n",
    "#             delimiter =\",\")\n",
    "# trajectory[7] = np.genfromtxt('./CON_40x_2D_130ms_7_T.csv',\n",
    "#             delimiter =\",\")\n",
    "\n",
    "totvids = 1\n",
    "\n",
    "for num in range(1, totvids + 1):\n",
    "    \n",
    "    #Remove titles from columns\n",
    "    #trajectory[num]=np.delete(trajectory[num], 0,0)\n",
    "    #Remove the number column from dataset\n",
    "    trajectory[num]=np.delete(trajectory[num],0,1)"
   ]
  },
  {
   "cell_type": "code",
   "execution_count": 3,
   "metadata": {
    "collapsed": false
   },
   "outputs": [
    {
     "data": {
      "text/plain": [
       "array([[   1.   ,    0.   ,   54.333, ...,    3.393,    6.428,  142.317],\n",
       "       [   1.   ,    1.   ,   52.425, ...,    3.971,    8.314,   57.37 ],\n",
       "       [   2.   ,    0.   ,   86.485, ...,   11.053,   31.076,   21.372],\n",
       "       ..., \n",
       "       [ 911.   ,  158.   ,   82.252, ...,    2.543,    4.411,  133.151],\n",
       "       [ 912.   ,  157.   ,   52.384, ...,    2.854,    5.177,  105.6  ],\n",
       "       [ 912.   ,  158.   ,   51.58 , ...,    2.373,    4.002,  126.118]])"
      ]
     },
     "execution_count": 3,
     "metadata": {},
     "output_type": "execute_result"
    }
   ],
   "source": [
    "trajectory[1]"
   ]
  },
  {
   "cell_type": "code",
   "execution_count": 4,
   "metadata": {
    "collapsed": false
   },
   "outputs": [],
   "source": [
    "rawframes = trajectory[1][:, 1]\n",
    "#frames = np.linspace()\n",
    "frames = np.linspace(min(rawframes),max(rawframes), max(rawframes)+1).astype(np.int64)\n",
    "\n",
    "x = dict()\n",
    "y = dict()\n",
    "z = dict()\n",
    "M1x = dict()\n",
    "M1y = dict()\n",
    "M1z = dict()\n",
    "M2xy = dict()\n",
    "M2xz = dict()\n",
    "M2yz = dict()\n",
    "M3 = dict()\n",
    "\n",
    "#trajectory"
   ]
  },
  {
   "cell_type": "code",
   "execution_count": 5,
   "metadata": {
    "collapsed": true
   },
   "outputs": [],
   "source": [
    "dataset = dict()\n",
    "\n",
    "particles = trajectory[1][:, 0]\n",
    "total = int(max(particles))\n",
    "total1 = total + 1\n",
    "rawdataset = trajectory[1][:, :]\n",
    "rawdataset[:, 2:4] = conversion[1][0] * rawdataset[:, 2:4]\n",
    "rawdataset[:, 4] = conversion[1][2] * rawdataset[:, 4]\n",
    "\n",
    "# Creates an array for each trajectory containing all xyz data\n",
    "for num in range(1, total1):\n",
    "\n",
    "    hold = np.where(particles == num)\n",
    "    itindex = hold[0]\n",
    "    min1 = min(itindex)\n",
    "    max1 = max(itindex)\n",
    "    dataset[num] = (rawdataset[min1:max1+1, 0:5])"
   ]
  },
  {
   "cell_type": "code",
   "execution_count": 6,
   "metadata": {
    "collapsed": true
   },
   "outputs": [],
   "source": [
    "#I need to first create code that will fill in the blanks in my arrays.  I need to decide how to fill them in as well.\n",
    "def fillin2(data):\n",
    "\n",
    "    shap = int(max(data[:, 1])) + 1\n",
    "    shape1 = int(min(data[:, 1]))\n",
    "    newshap = shap - shape1\n",
    "    filledin = np.zeros((newshap, 5))\n",
    "    filledin[0, :] = data[0, :]\n",
    "\n",
    "    count = 0\n",
    "    new = 0\n",
    "    other = 0\n",
    "    tot = 0\n",
    "\n",
    "    for num in range(1, newshap):\n",
    "        if data[num-new, 1]-data[num-new-1, 1] == 1:\n",
    "            count = count + 1\n",
    "            filledin[num, :] = data[num-new, :]\n",
    "        elif data[num - new, 1]-data[num - new - 1, 1] > 1:\n",
    "            new = new + 1\n",
    "            iba = int(data[num - new+1, 1]-data[num - new, 1])\n",
    "            togoin = data[num - new]\n",
    "            togoin[1] = togoin[1] + 1\n",
    "            filledin[num, :] = togoin\n",
    "            # dataset[2] = np.insert(dataset[2], [num + new - 2], togoin, axis=0)\n",
    "\n",
    "        else:\n",
    "            other = other + 1\n",
    "        tot = count + new + other\n",
    "\n",
    "    return filledin"
   ]
  },
  {
   "cell_type": "code",
   "execution_count": 7,
   "metadata": {
    "collapsed": false
   },
   "outputs": [],
   "source": [
    "for num in range(1, total1):\n",
    "    dataset[num] = fillin2(dataset[num])\n",
    "    x[num] = np.zeros(frames.shape[0])\n",
    "    x[num][int(dataset[num][0,1]):int(dataset[num][-1,1])+1] = dataset[num][:, 2]\n",
    "    y[num] = np.zeros(frames.shape[0])\n",
    "    y[num][int(dataset[num][0,1]):int(dataset[num][-1,1])+1] = dataset[num][:, 3]\n",
    "    z[num] = np.zeros(frames.shape[0])\n",
    "    z[num][int(dataset[num][0,1]):int(dataset[num][-1,1])+1] = dataset[num][:, 4]"
   ]
  },
  {
   "cell_type": "code",
   "execution_count": 8,
   "metadata": {
    "collapsed": true
   },
   "outputs": [],
   "source": [
    "for num in range(1, total1):\n",
    "    dataset[num] = fillin2(dataset[num])\n",
    "    M1x[num] = np.zeros(frames.shape[0])\n",
    "    M1x[num][0:frames.shape[0]] = 0\n",
    "    M1y[num] = np.zeros(frames.shape[0])\n",
    "    M1y[num][0:frames.shape[0]] = 0\n",
    "    M1z[num] = np.zeros(frames.shape[0])\n",
    "    M1z[num][0:frames.shape[0]] = 0\n",
    "    M2xy[num] = np.zeros(frames.shape[0])\n",
    "    M2xy[num][0:frames.shape[0]] = 0\n",
    "    M2xz[num] = np.zeros(frames.shape[0])\n",
    "    M2xz[num][0:frames.shape[0]] = 0\n",
    "    M2yz[num] = np.zeros(frames.shape[0])\n",
    "    M2yz[num][0:frames.shape[0]] = 0\n",
    "    M3[num] = np.zeros(frames.shape[0])\n",
    "    M3[num][0:frames.shape[0]] = 0"
   ]
  },
  {
   "cell_type": "code",
   "execution_count": 9,
   "metadata": {
    "collapsed": false
   },
   "outputs": [],
   "source": [
    "I = dict()\n",
    "for num in range(1, total1):\n",
    "\n",
    "    I[num] = np.nonzero(x[num])[0]\n",
    "    first = I[num][0]\n",
    "    last = I[num][-1] + 1\n",
    "    startx = x[num][first]\n",
    "    starty = y[num][first]\n",
    "    startz = z[num][first]\n",
    "\n",
    "\n",
    "    for num1 in range(first, last):\n",
    "        M1x[num][num1] = (x[num][num1] - startx)**2\n",
    "        M1y[num][num1] = (y[num][num1] - starty)**2\n",
    "        M1z[num][num1] = (z[num][num1] - startz)**2\n",
    "        M2xy[num][num1] = (x[num][num1] - startx)**2 + (y[num][num1] - starty)**2\n",
    "        M2xz[num][num1] = (x[num][num1] - startx)**2 + (z[num][num1] - startz)**2\n",
    "        M2yz[num][num1] = (z[num][num1] - startz)**2 + (y[num][num1] - starty)**2\n",
    "        M3[num][num1] = (z[num][num1] - startz)**2 + (y[num][num1] - starty)**2 + (x[num][num1] - startx)**2\n",
    "        \n",
    "#         M1x[num][first] = 'NaN'\n",
    "#         M1y[num][first] = 'NaN'\n",
    "#         M1z[num][first] = 'NaN'\n",
    "#         M2xy[num][first] = 'NaN'\n",
    "#         M2xz[num][first] = 'NaN'\n",
    "#         M2yz[num][first] = 'NaN'\n",
    "#         M3[num][first] = 'NaN'\n",
    "    M1x[num] = ma.masked_equal(M1x[num], 0)\n",
    "    M1y[num] = ma.masked_equal(M1y[num], 0)\n",
    "    M1z[num] = ma.masked_equal(M1z[num], 0)\n",
    "    M2xy[num] = ma.masked_equal(M2xy[num], 0)\n",
    "    M2xz[num] = ma.masked_equal(M2xz[num], 0)\n",
    "    M2yz[num] = ma.masked_equal(M2yz[num], 0)\n",
    "    M3[num] = ma.masked_equal(M3[num], 0)"
   ]
  },
  {
   "cell_type": "code",
   "execution_count": 10,
   "metadata": {
    "collapsed": false
   },
   "outputs": [
    {
     "data": {
      "text/plain": [
       "masked_array(data = [-- -- -- -- -- -- -- -- -- -- -- -- -- -- -- -- -- -- -- -- -- -- -- -- --\n",
       " -- -- -- -- -- -- -- -- -- -- -- -- -- -- -- -- -- -- -- -- -- -- -- --\n",
       " 0.10949480999999749 1.1335860900000043 1.1335860900000043\n",
       " 13.992836490000029 8.634782250000027 3.2996722500000177 -- -- -- -- -- --\n",
       " -- -- -- -- -- -- -- -- -- -- -- -- -- -- -- -- -- -- -- -- -- -- -- -- --\n",
       " -- -- -- -- -- -- -- -- -- -- -- -- -- -- -- -- -- -- -- -- -- -- -- -- --\n",
       " -- -- -- -- -- -- -- -- -- -- -- -- -- -- -- -- -- -- -- -- -- -- -- -- --\n",
       " -- -- -- -- -- -- -- -- -- -- -- -- -- -- -- -- -- -- -- -- -- -- --],\n",
       "             mask = [ True  True  True  True  True  True  True  True  True  True  True  True\n",
       "  True  True  True  True  True  True  True  True  True  True  True  True\n",
       "  True  True  True  True  True  True  True  True  True  True  True  True\n",
       "  True  True  True  True  True  True  True  True  True  True  True  True\n",
       "  True False False False False False False  True  True  True  True  True\n",
       "  True  True  True  True  True  True  True  True  True  True  True  True\n",
       "  True  True  True  True  True  True  True  True  True  True  True  True\n",
       "  True  True  True  True  True  True  True  True  True  True  True  True\n",
       "  True  True  True  True  True  True  True  True  True  True  True  True\n",
       "  True  True  True  True  True  True  True  True  True  True  True  True\n",
       "  True  True  True  True  True  True  True  True  True  True  True  True\n",
       "  True  True  True  True  True  True  True  True  True  True  True  True\n",
       "  True  True  True  True  True  True  True  True  True  True  True  True\n",
       "  True  True  True],\n",
       "       fill_value = 0.0)"
      ]
     },
     "execution_count": 10,
     "metadata": {},
     "output_type": "execute_result"
    }
   ],
   "source": [
    "M1x[300]"
   ]
  },
  {
   "cell_type": "code",
   "execution_count": 11,
   "metadata": {
    "collapsed": false
   },
   "outputs": [
    {
     "data": {
      "text/plain": [
       "1.4142135623730949"
      ]
     },
     "execution_count": 11,
     "metadata": {},
     "output_type": "execute_result"
    }
   ],
   "source": [
    "stat.gmean([1, 2])"
   ]
  },
  {
   "cell_type": "code",
   "execution_count": 12,
   "metadata": {
    "collapsed": false
   },
   "outputs": [],
   "source": [
    "#Each entry in yes is an array of particles that are in the given frame.  The frame is given by the index of yes.\n",
    "yes = dict()\n",
    "yessize = dict()\n",
    "for num1 in range(1, frames.shape[0]):\n",
    "    count = 0\n",
    "    yes[num1] = np.zeros(frames.shape[0]).astype(np.int64)\n",
    "    for num in range(1, total1):\n",
    "        check = num1 in I[num]\n",
    "        if check == True:\n",
    "            yes[num1][count] = num\n",
    "            count = count + 1\n",
    "    iindex = np.where(yes[num1]==max(yes[num1]))[0][0]\n",
    "    yes[num1] = yes[num1][0:iindex]\n",
    "    "
   ]
  },
  {
   "cell_type": "code",
   "execution_count": 13,
   "metadata": {
    "collapsed": false
   },
   "outputs": [
    {
     "data": {
      "text/plain": [
       "array([ 32, 226, 416, 572, 683, 758, 781, 787, 805, 825, 828, 839, 846,\n",
       "       850, 856, 858, 861, 863, 866, 874, 875, 877, 880, 882, 883, 888,\n",
       "       891, 892, 893, 897, 898, 899, 900, 901, 903, 904, 905, 906, 907,\n",
       "       908, 909, 910, 911], dtype=int64)"
      ]
     },
     "execution_count": 13,
     "metadata": {},
     "output_type": "execute_result"
    }
   ],
   "source": [
    "yes[158]"
   ]
  },
  {
   "cell_type": "code",
   "execution_count": null,
   "metadata": {
    "collapsed": false
   },
   "outputs": [],
   "source": [
    "#M1x: first index is particle number, second index is frame\n",
    "frame[0] = M1x[32][158]\n",
    "frame[1] = M1x[226][158]"
   ]
  },
  {
   "cell_type": "code",
   "execution_count": 14,
   "metadata": {
    "collapsed": false
   },
   "outputs": [
    {
     "data": {
      "text/plain": [
       "43"
      ]
     },
     "execution_count": 14,
     "metadata": {},
     "output_type": "execute_result"
    }
   ],
   "source": [
    "yes[158].shape[0]"
   ]
  },
  {
   "cell_type": "code",
   "execution_count": 34,
   "metadata": {
    "collapsed": false
   },
   "outputs": [
    {
     "name": "stderr",
     "output_type": "stream",
     "text": [
      "C:\\Users\\koolk\\Miniconda3\\lib\\site-packages\\numpy\\ma\\core.py:4085: UserWarning: Warning: converting a masked element to nan.\n",
      "  warnings.warn(\"Warning: converting a masked element to nan.\")\n"
     ]
    },
    {
     "data": {
      "text/plain": [
       "0.21483045282018554"
      ]
     },
     "execution_count": 34,
     "metadata": {},
     "output_type": "execute_result"
    }
   ],
   "source": [
    "#Here is my prototype for the frame-by-frame analysis.  I need to expand it in both directions.\n",
    "frame = np.zeros(yes[158].shape[0])\n",
    "for num1 in range(0, yes[158].shape[0]):\n",
    "    frame[num1] = M1x[yes[158][num1]][155]\n",
    "frame = ma.masked_invalid(frame)\n",
    "stat.gmean(frame)"
   ]
  },
  {
   "cell_type": "code",
   "execution_count": 37,
   "metadata": {
    "collapsed": false
   },
   "outputs": [
    {
     "name": "stderr",
     "output_type": "stream",
     "text": [
      "C:\\Users\\koolk\\Miniconda3\\lib\\site-packages\\numpy\\ma\\core.py:4085: UserWarning: Warning: converting a masked element to nan.\n",
      "  warnings.warn(\"Warning: converting a masked element to nan.\")\n"
     ]
    },
    {
     "data": {
      "text/plain": [
       "array([             nan,   1.01002500e-02,   6.22521000e-03,\n",
       "         6.75684000e-03,   5.58009000e-03,   2.45025000e-03,\n",
       "         5.40225000e-03,   5.18400000e-03,   6.20010000e-04,\n",
       "         7.62129000e-03,   1.91844000e-03,   1.31769000e-03,\n",
       "         6.27264000e-03,   3.56409000e-03,   1.71644490e-01,\n",
       "         5.76081000e-03,   2.75625000e-03,   2.54016000e-03,\n",
       "         4.31649000e-03,   2.78784000e-03,   3.18096000e-03,\n",
       "         7.56900000e-03,   2.94849000e-03,   2.02500000e-03,\n",
       "         3.85641000e-03,   2.48004000e-03,   4.59684000e-03,\n",
       "         4.84416000e-03,   4.55625000e-03,   7.25904000e-03,\n",
       "         1.90440000e-04,   1.58760000e-04,   8.29440000e-04,\n",
       "         3.18096000e-03,   1.60821000e-03,   1.35864000e-03,\n",
       "         2.25792000e-03,   2.70900000e-05,   1.40085000e-03,\n",
       "         3.79890000e-03,   2.77920000e-04,   2.47050000e-04,\n",
       "         3.45870000e-03,   1.92177000e-02,   2.93985000e-03,\n",
       "         2.40570000e-04,   1.05300000e-03,   5.22900000e-03,\n",
       "         4.34700000e-04,   4.04982000e-03,   1.44450000e-03,\n",
       "         3.59100000e-04,   1.88325000e-03,   2.81232000e-03,\n",
       "         1.15335000e-03,   7.47360000e-04,   1.67049000e-03,\n",
       "         2.00700000e-05,   8.17938000e-03,   1.67400000e-04,\n",
       "         4.65075000e-03,   3.15000000e-03,   6.20100000e-04,\n",
       "         4.91724000e-03,   2.29149000e-03,   3.60000000e-05,\n",
       "         4.09734000e-03,   3.45600000e-05,   4.66560000e-04,\n",
       "         1.10565000e-02,   1.09926000e-03,   3.11689592e-03,\n",
       "         1.72886677e-03,   1.26593748e-03,   3.23268540e-03,\n",
       "         1.76786874e-03,   2.53599573e-04,   3.75513256e-03,\n",
       "         2.08529261e-03,   6.59695080e-05,   1.01499415e-02,\n",
       "         9.00484587e-03,   3.68111478e-03,   2.23771025e-03,\n",
       "         3.37786454e-03,   5.44824424e-03,   2.66386868e-03,\n",
       "         5.22797902e-04,   9.17425127e-04,   5.81099231e-04,\n",
       "         3.40479172e-03,   4.66619998e-04,   1.11220050e-03,\n",
       "         8.04002886e-03,   3.16362508e-03,   4.58456419e-03,\n",
       "         5.88330246e-04,   2.04292200e-03,   3.70450323e-03,\n",
       "         1.91101253e-03,   4.29940849e-03,   1.00528137e-02,\n",
       "         3.54248838e-03,   5.82503517e-03,   8.86477559e-03,\n",
       "         2.45247090e-03,   5.76240259e-03,   2.70576266e-02,\n",
       "         3.44047564e-02,   1.15202983e-02,   1.25479283e-02,\n",
       "         2.12481514e-02,   6.76918406e-02,   3.72873670e-02,\n",
       "         1.57408540e-02,   9.03172883e-03,   8.74829452e-03,\n",
       "         4.52262615e-02,   5.95797498e-03,   3.57252777e-02,\n",
       "         1.74058871e-02,   1.96252876e-02,   5.94101127e-03,\n",
       "         1.69408109e-02,   1.16187198e-02,   4.05888130e-02,\n",
       "         3.20663355e-02,   6.88225414e-02,   6.15437702e-02,\n",
       "         3.10941745e-02,   1.42322735e-02,   6.91688708e-03,\n",
       "         3.62741032e-02,   4.38938949e-02,   1.76985102e-02,\n",
       "         1.67771728e-02,   1.39907564e-02,   4.76113543e-02,\n",
       "         2.68086831e-02,   1.61310230e-02,   5.96542202e-03,\n",
       "         3.58704611e-02,   3.17332713e-02,   2.64667716e-02,\n",
       "         1.30840789e-01,   1.12014336e-01,   1.66748295e-01,\n",
       "         1.84609644e-01,   1.23129543e-01,   2.25361348e-01,\n",
       "         3.56837384e-01,   2.44596464e-01,   3.21404723e-01,\n",
       "         3.19128950e-01,   2.45632292e-01,   2.14830453e-01,\n",
       "         2.12664112e-01,   2.21931163e-01,   2.85982686e-01])"
      ]
     },
     "execution_count": 37,
     "metadata": {},
     "output_type": "execute_result"
    }
   ],
   "source": [
    "#First to make an array of datapoints based on the particles found in frame 158\n",
    "frameM = np.zeros(frames.shape[0])\n",
    "for num1 in range(0, frames.shape[0]):\n",
    "    frame = np.zeros(yes[158].shape[0])\n",
    "    for num in range(0, yes[158].shape[0]):\n",
    "        frame[num] = M1x[yes[158][num]][num1]\n",
    "    frame = ma.masked_invalid(frame)\n",
    "    frameM[num1] = stat.gmean(frame)\n",
    "frameM"
   ]
  },
  {
   "cell_type": "code",
   "execution_count": 53,
   "metadata": {
    "collapsed": false
   },
   "outputs": [
    {
     "name": "stderr",
     "output_type": "stream",
     "text": [
      "C:\\Users\\koolk\\Miniconda3\\lib\\site-packages\\numpy\\ma\\core.py:4085: UserWarning: Warning: converting a masked element to nan.\n",
      "  warnings.warn(\"Warning: converting a masked element to nan.\")\n"
     ]
    }
   ],
   "source": [
    "#Now do do that same thing, but create an array for each frame\n",
    "#First to make an array of datapoints based on the particles found in frame 158\n",
    "framed = dict()\n",
    "for num2 in range(1, frames.shape[0]):\n",
    "    framed[num2] = np.zeros(frames.shape[0])\n",
    "    for num1 in range(0, frames.shape[0]):\n",
    "        frame = np.zeros(yes[num2].shape[0])\n",
    "        for num in range(0, yes[num2].shape[0]):\n",
    "            frame[num] = M1x[yes[num2][num]][num1]\n",
    "        frame = ma.masked_invalid(frame)\n",
    "        framed[num2][num1] = stat.gmean(frame)"
   ]
  },
  {
   "cell_type": "code",
   "execution_count": 31,
   "metadata": {
    "collapsed": false
   },
   "outputs": [
    {
     "data": {
      "text/plain": [
       "159"
      ]
     },
     "execution_count": 31,
     "metadata": {},
     "output_type": "execute_result"
    }
   ],
   "source": [
    "frames.shape[0]"
   ]
  },
  {
   "cell_type": "code",
   "execution_count": 54,
   "metadata": {
    "collapsed": false
   },
   "outputs": [
    {
     "data": {
      "text/plain": [
       "array([             nan,   1.01002500e-02,   6.22521000e-03,\n",
       "         6.75684000e-03,   5.58009000e-03,   2.45025000e-03,\n",
       "         5.40225000e-03,   5.18400000e-03,   6.20010000e-04,\n",
       "         7.62129000e-03,   1.91844000e-03,   1.31769000e-03,\n",
       "         6.27264000e-03,   3.56409000e-03,   1.71644490e-01,\n",
       "         5.76081000e-03,   2.75625000e-03,   2.54016000e-03,\n",
       "         4.31649000e-03,   2.78784000e-03,   3.18096000e-03,\n",
       "         7.56900000e-03,   2.94849000e-03,   2.02500000e-03,\n",
       "         3.85641000e-03,   2.48004000e-03,   4.59684000e-03,\n",
       "         4.84416000e-03,   4.55625000e-03,   7.25904000e-03,\n",
       "         1.90440000e-04,   1.58760000e-04,   8.29440000e-04,\n",
       "         3.18096000e-03,   1.60821000e-03,   1.35864000e-03,\n",
       "         2.25792000e-03,   2.70900000e-05,   1.40085000e-03,\n",
       "         3.79890000e-03,   2.77920000e-04,   2.47050000e-04,\n",
       "         3.45870000e-03,   1.92177000e-02,   2.93985000e-03,\n",
       "         2.40570000e-04,   1.05300000e-03,   5.22900000e-03,\n",
       "         4.34700000e-04,   4.04982000e-03,   1.44450000e-03,\n",
       "         3.59100000e-04,   3.64182625e-03,   4.75799222e-03,\n",
       "         1.15253270e-02,   1.25837636e-02,   9.66082048e-02,\n",
       "         8.73082499e-03,   2.41109261e-02,   1.89959864e-02,\n",
       "         1.19654816e-01,   1.52038122e-01,   5.21058314e-02,\n",
       "         2.86546496e-01,   8.64761751e-02,   1.40416659e-02,\n",
       "         1.76723692e-01,   7.70832959e-03,   2.43825616e-02,\n",
       "         2.88413183e-01,   4.83330188e-02,   1.20353491e-01,\n",
       "         5.07054140e-02,   6.43437023e-02,   1.64949824e-01,\n",
       "         7.50902883e-02,   1.26099494e-02,   2.86674996e-02,\n",
       "         1.15535497e-01,   1.70460623e-02,   1.26166364e-01,\n",
       "         2.64453442e-01,   1.93197790e-01,   1.78343624e-01,\n",
       "         5.15336600e-01,   5.17045086e-01,   2.50972828e-01,\n",
       "         1.24763066e-01,   1.86170244e-01,   2.41454577e-01,\n",
       "         2.61027357e-01,   1.31187029e-01,   2.09619728e-01,\n",
       "         3.53161305e-01,   4.32508113e-01,   4.38436520e-01,\n",
       "         1.69772133e-01,   4.17249247e-01,   3.97320442e-01,\n",
       "         3.30390783e-01,   4.30328838e-01,   4.34621758e-01,\n",
       "         4.43976190e-01,   7.85165426e-01,   8.35393762e-01,\n",
       "         8.66009582e-01,   8.92154547e-01,   1.16902301e+00,\n",
       "         4.72243509e-01,   4.98662106e-01,   5.53286341e-01,\n",
       "         6.52469058e-01,   8.22887758e-01,   6.43528875e-01,\n",
       "         3.84081985e-01,   3.24198787e-01,   9.57765953e-02,\n",
       "         9.09458983e-02,   1.97443667e-01,   5.07903490e-01,\n",
       "         3.12407317e-01,   1.73807726e-01,   7.41681535e-02,\n",
       "         1.15646292e-01,   1.58223018e-01,   2.12826248e-01,\n",
       "         1.22771045e-01,   1.27311996e-01,   1.83030463e-01,\n",
       "         2.56982709e-01,   2.20937138e-01,   5.83888051e-02,\n",
       "         9.53027053e-02,   5.06064959e-02,   6.06639754e-02,\n",
       "         1.46969979e-01,   1.01802099e-01,   6.76570760e-02,\n",
       "         5.34355538e-02,   3.04204166e-02,   4.05261987e-02,\n",
       "         2.77757747e-02,   2.97601095e-02,   2.62968271e-02,\n",
       "         7.36628090e-02,   6.61262791e-02,   7.03036668e-02,\n",
       "         5.38646853e-02,   1.47151390e-02,   2.95359848e-02,\n",
       "         5.86717583e-02,   2.26453224e-02,   1.82492035e-02,\n",
       "         1.02645285e-02,   3.26304333e-02,   1.41022798e-02,\n",
       "         9.91550307e-03,   7.00097489e-02,   1.28543147e-02])"
      ]
     },
     "execution_count": 54,
     "metadata": {},
     "output_type": "execute_result"
    }
   ],
   "source": [
    "framed[100]"
   ]
  },
  {
   "cell_type": "code",
   "execution_count": 58,
   "metadata": {
    "collapsed": false
   },
   "outputs": [
    {
     "data": {
      "text/plain": [
       "array([        nan,  0.02344454,  0.0540113 ,  0.07073489,  0.07522175,\n",
       "        0.07331645,  0.09934608,  0.11890895,  0.07427568,  0.06078597,\n",
       "        0.17434901,  0.24546088,  0.21120871,  0.33885929,  0.57341307,\n",
       "        0.30526762,  0.23738198,  0.3452757 ,  0.40527176,  0.55168773,\n",
       "        0.50239997,  0.5532829 ,  0.38871113,  0.14050326,  0.29724513,\n",
       "        0.3299363 ,  0.40727068,  0.41940459,  0.52770232,  0.65135369,\n",
       "        0.42997818,  0.57479683,  0.70653469,  0.86448717,  0.56868615,\n",
       "        0.57828449,  0.71923266,  0.95746174,  0.63995627,  1.47569351,\n",
       "        1.65010601,  1.80278606,  2.14923815,  1.3825686 ,  1.06879997,\n",
       "        1.25184115,  1.1248684 ,  1.15685803,  0.89266553,  0.73652749,\n",
       "        1.19974833,  0.87655649,  0.46588898,  0.72646006,  0.9805555 ,\n",
       "        0.41665662,  0.56973023,  0.30228163,  0.39222177,  0.4430344 ,\n",
       "        0.60605015,  0.47073451,  0.39804895,  0.49389472,  0.28481669,\n",
       "        0.25459043,  0.46072468,  0.07952266,  0.17946819,  0.51203361,\n",
       "        0.19506116,  0.28120426,  0.22577493,  0.25199891,  0.31445699,\n",
       "        0.18279682,  0.12322804,  0.13997727,  0.1621656 ,  0.07222377,\n",
       "        0.14519057,  0.302654  ,  0.25756846,  0.28587596,  0.43193671,\n",
       "        0.313961  ,  0.24689726,  0.12561094,  0.1374761 ,  0.12679198,\n",
       "        0.16731681,  0.09545634,  0.10111843,  0.1707273 ,  0.20072872,\n",
       "        0.1852965 ,  0.07320493,  0.11239075,  0.13594771,  0.10329558,\n",
       "        0.09795874,  0.15228526,  0.13006793,  0.17015567,  0.17412226,\n",
       "        0.12634548,  0.15120616,  0.20958193,  0.14879557,  0.10393667,\n",
       "        0.13575767,  0.17829049,  0.30384684,  0.21484106,  0.17395173,\n",
       "        0.15131264,  0.0979967 ,  0.08488673,  0.10259993,  0.18344991,\n",
       "        0.17649139,  0.11620674,  0.07178642,  0.11587586,  0.13301512,\n",
       "        0.24633603,  0.12879621,  0.11928535,  0.16473107,  0.11388726,\n",
       "        0.13765105,  0.08599432,  0.12036135,  0.09999598,  0.09581244,\n",
       "        0.1139509 ,  0.1073248 ,  0.05891931,  0.060708  ,  0.05737086,\n",
       "        0.05457871,  0.08613623,  0.07271342,  0.04997978,  0.11998679,\n",
       "        0.11188674,  0.15679158,  0.1712108 ,  0.0888143 ,  0.09043586,\n",
       "        0.09324637,  0.06253593,  0.07500285,  0.05688865,  0.06027561,\n",
       "        0.0374988 ,  0.03936838,  0.06675669,  0.04369029])"
      ]
     },
     "execution_count": 58,
     "metadata": {},
     "output_type": "execute_result"
    }
   ],
   "source": [
    "FBF = np.zeros(frames.shape[0])\n",
    "for num in range(1, frames.shape[0]):\n",
    "    FBF = FBF + framed[num]\n",
    "FBF = FBF/frames.shape[0]\n",
    "FBF"
   ]
  },
  {
   "cell_type": "code",
   "execution_count": 60,
   "metadata": {
    "collapsed": false
   },
   "outputs": [
    {
     "data": {
      "text/plain": [
       "array([  0,   1,   2,   3,   4,   5,   6,   7,   8,   9,  10,  11,  12,\n",
       "        13,  14,  15,  16,  17,  18,  19,  20,  21,  22,  23,  24,  25,\n",
       "        26,  27,  28,  29,  30,  31,  32,  33,  34,  35,  36,  37,  38,\n",
       "        39,  40,  41,  42,  43,  44,  45,  46,  47,  48,  49,  50,  51,\n",
       "        52,  53,  54,  55,  56,  57,  58,  59,  60,  61,  62,  63,  64,\n",
       "        65,  66,  67,  68,  69,  70,  71,  72,  73,  74,  75,  76,  77,\n",
       "        78,  79,  80,  81,  82,  83,  84,  85,  86,  87,  88,  89,  90,\n",
       "        91,  92,  93,  94,  95,  96,  97,  98,  99, 100, 101, 102, 103,\n",
       "       104, 105, 106, 107, 108, 109, 110, 111, 112, 113, 114, 115, 116,\n",
       "       117, 118, 119, 120, 121, 122, 123, 124, 125, 126, 127, 128, 129,\n",
       "       130, 131, 132, 133, 134, 135, 136, 137, 138, 139, 140, 141, 142,\n",
       "       143, 144, 145, 146, 147, 148, 149, 150, 151, 152, 153, 154, 155,\n",
       "       156, 157, 158], dtype=int64)"
      ]
     },
     "execution_count": 60,
     "metadata": {},
     "output_type": "execute_result"
    }
   ],
   "source": [
    "frames"
   ]
  },
  {
   "cell_type": "code",
   "execution_count": null,
   "metadata": {
    "collapsed": true
   },
   "outputs": [],
   "source": []
  }
 ],
 "metadata": {
  "kernelspec": {
   "display_name": "Python 3",
   "language": "python",
   "name": "python3"
  },
  "language_info": {
   "codemirror_mode": {
    "name": "ipython",
    "version": 3
   },
   "file_extension": ".py",
   "mimetype": "text/x-python",
   "name": "python",
   "nbconvert_exporter": "python",
   "pygments_lexer": "ipython3",
   "version": "3.5.1"
  }
 },
 "nbformat": 4,
 "nbformat_minor": 0
}
