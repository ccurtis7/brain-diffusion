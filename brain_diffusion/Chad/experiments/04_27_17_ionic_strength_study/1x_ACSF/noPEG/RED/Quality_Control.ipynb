{
 "cells": [
  {
   "cell_type": "code",
   "execution_count": 1,
   "metadata": {
    "collapsed": false
   },
   "outputs": [],
   "source": [
    "import os\n",
    "import matplotlib as mpl\n",
    "import matplotlib.pyplot as plt\n",
    "import matplotlib.ticker as mtick\n",
    "import scipy.optimize as opt\n",
    "import scipy.stats as stat\n",
    "from mpl_toolkits.mplot3d import Axes3D\n",
    "from operator import itemgetter\n",
    "import random\n",
    "import numpy as np\n",
    "import numpy.ma as ma\n",
    "import numpy.linalg as la\n",
    "from mpl_toolkits.mplot3d import Axes3D\n",
    "\n",
    "pi = np.pi\n",
    "sin = np.sin\n",
    "cos = np.cos"
   ]
  },
  {
   "cell_type": "code",
   "execution_count": 2,
   "metadata": {
    "collapsed": false
   },
   "outputs": [],
   "source": [
    "name = 'RED_nPEG_in_agarose_1x_S4'\n",
    "\n",
    "logplot = '{}_logplot'.format(name)\n",
    "Mplot = '{}_Mplot'.format(name)\n",
    "Dplot = '{}_Dplot'.format(name)\n",
    "Hplot = '{}_Hplot'.format(name)\n",
    "Hlogplot = '{}_Hlogplot'.format(name)\n",
    "Cplot = '{}_Cplot'.format(name)\n",
    "Tplot = '{}_Tplot'.format(name)\n",
    "T2plot = '{}_T2plot'.format(name)\n",
    "\n",
    "\n",
    "conversion = dict()\n",
    "trajectory = dict()\n",
    "\n",
    "cut = 4\n",
    "great = 10000\n",
    "filtered = False\n",
    "new_method = True\n",
    "totvids = 6\n",
    "tofilt = np.array([])\n",
    "\n",
    "tau_m = 88\n",
    "frame_m = 90 #atm I can't go lower than the actual value.\n",
    "\n",
    "for num in range(1, totvids + 1):\n",
    "    conversion[num] = (0.16, 9.89, 1)\n",
    "    trajectory[num] = np.genfromtxt('./Traj_{}_{}.csv'.format(name, num), delimiter =\",\")\n",
    "    trajectory[num]=np.delete(trajectory[num],0,1)\n",
    "\n",
    "parts = dict()\n",
    "tots = dict()\n",
    "newtots = dict()\n",
    "newtots[0] = 0\n",
    "tlen = dict()\n",
    "tlength = dict()\n",
    "tlength[0] = 0\n",
    "\n",
    "for num in range(1, totvids + 1):\n",
    "    tots[num] = trajectory[num][-1, 0].astype(np.int64)\n",
    "    parts[num] = tots[num]\n",
    "    counter = 1\n",
    "    newtots[num] = newtots[num-1] + tots[num]\n",
    "\n",
    "    tlen[num] = trajectory[num].shape[0]\n",
    "    tlength[num] = tlength[num-1] + tlen[num]\n",
    "\n",
    "placeholder = np.zeros((tlength[totvids], 11))\n",
    "\n",
    "for num in range(1, totvids + 1):\n",
    "    placeholder[tlength[num-1]:tlength[num], :] = trajectory[num]\n",
    "    placeholder[tlength[num-1]:tlength[num], 0] = placeholder[tlength[num-1]:tlength[num], 0] + newtots[num-1]"
   ]
  },
  {
   "cell_type": "code",
   "execution_count": 3,
   "metadata": {
    "collapsed": false
   },
   "outputs": [],
   "source": [
    "p_by_vid = dict()\n",
    "p_by_vid[0] = 0\n",
    "\n",
    "for num in range(1, totvids + 1):\n",
    "    p_by_vid[num] = int(p_by_vid[num-1] + max(trajectory[num][:, 0]))\n",
    "    \n",
    "p_by_vid[0] = 1"
   ]
  },
  {
   "cell_type": "code",
   "execution_count": 4,
   "metadata": {
    "collapsed": true
   },
   "outputs": [],
   "source": [
    "def fillin2(data):\n",
    "    \"\"\"\n",
    "    Fills in blanks of arrays without shifting frames by the starting frame.  Compare to fillin.\n",
    "\n",
    "    Input: trajectory dataset from MOSAIC tracking software read into a numpy array\n",
    "    Output: modified numpy array with missing frames filled in.\n",
    "    \"\"\"\n",
    "\n",
    "    shap = int(max(data[:, 1])) + 1\n",
    "    shape1 = int(min(data[:, 1]))\n",
    "    newshap = shap - shape1\n",
    "    filledin = np.zeros((newshap, 5))\n",
    "    filledin[0, :] = data[0, :]\n",
    "\n",
    "    count = 0\n",
    "    new = 0\n",
    "    other = 0\n",
    "    tot = 0\n",
    "\n",
    "    for num in range(1, newshap):\n",
    "        if data[num-new, 1]-data[num-new-1, 1] == 1:\n",
    "            count = count + 1\n",
    "            filledin[num, :] = data[num-new, :]\n",
    "        elif data[num - new, 1]-data[num - new - 1, 1] > 1:\n",
    "            new = new + 1\n",
    "            iba = int(data[num - new+1, 1]-data[num - new, 1])\n",
    "            togoin = data[num - new]\n",
    "            togoin[1] = togoin[1] + 1\n",
    "            filledin[num, :] = togoin\n",
    "            # dataset[2] = np.insert(dataset[2], [num + new - 2], togoin, axis=0)\n",
    "\n",
    "        else:\n",
    "            other = other + 1\n",
    "        tot = count + new + other\n",
    "\n",
    "    return filledin"
   ]
  },
  {
   "cell_type": "code",
   "execution_count": 5,
   "metadata": {
    "collapsed": true
   },
   "outputs": [],
   "source": [
    "rawframes = placeholder[:, 1]\n",
    "frames = np.linspace(min(rawframes),max(rawframes), max(rawframes)+1).astype(np.int64)\n",
    "time = frames / conversion[1][1]\n",
    "\n",
    "x = dict()\n",
    "y = dict()\n",
    "\n",
    "xs = dict()\n",
    "ys = dict()\n",
    "\n",
    "dataset = dict()\n",
    "rawdataset = np.zeros(placeholder.shape)\n",
    "particles = placeholder[:, 0]\n",
    "total = int(max(particles))\n",
    "total1 = total + 1\n",
    "rawdataset = placeholder[:, :]\n",
    "\n",
    "fixed = np.zeros(placeholder.shape)\n",
    "fixed[:, 0:2] = rawdataset[:, 0:2]\n",
    "fixed[:, 2:4] = conversion[1][0] * rawdataset[:, 2:4]\n",
    "fixed[:, 4] = conversion[1][2] * rawdataset[:, 4]\n",
    "\n",
    "for num in range(1, total1):\n",
    "\n",
    "    hold = np.where(particles == num)\n",
    "    itindex = hold[0]\n",
    "    min1 = min(itindex)\n",
    "    max1 = max(itindex)\n",
    "    dataset[num] = (fixed[min1:max1+1, 0:5])\n",
    "\n",
    "I = dict()\n",
    "\n",
    "for num in range(1, total1):\n",
    "    #Construct x, y, z\n",
    "    dataset[num] = fillin2(dataset[num])\n",
    "    x[num] = np.zeros(frames.shape[0])\n",
    "    x[num][int(dataset[num][0,1]):int(dataset[num][-1,1])+1] = dataset[num][:, 2]\n",
    "    y[num] = np.zeros(frames.shape[0])\n",
    "    y[num][int(dataset[num][0,1]):int(dataset[num][-1,1])+1] = dataset[num][:, 3]\n",
    "\n",
    "    xs[num] = np.zeros(frames.shape[0])\n",
    "    xs[num][0:int(dataset[num][-1,1])+1-int(dataset[num][0,1])] = dataset[num][:, 2]\n",
    "    ys[num] = np.zeros(frames.shape[0])\n",
    "    ys[num][0:int(dataset[num][-1,1])+1-int(dataset[num][0,1])] = dataset[num][:, 3]"
   ]
  },
  {
   "cell_type": "code",
   "execution_count": 6,
   "metadata": {
    "collapsed": true
   },
   "outputs": [],
   "source": [
    "pretotal = total1"
   ]
  },
  {
   "cell_type": "code",
   "execution_count": 7,
   "metadata": {
    "collapsed": true
   },
   "outputs": [],
   "source": [
    "# #Comment out to exclude filter.\n",
    "\n",
    "# cutoff = cut\n",
    "\n",
    "# x1 = dict()\n",
    "# y1 = dict()\n",
    "\n",
    "# xs1 = dict()\n",
    "# ys1 = dict()\n",
    "\n",
    "# fifties = 0\n",
    "# nones = 0\n",
    "\n",
    "# for num in range(1, total1):\n",
    "#     if np.count_nonzero(x[num]) < cutoff:\n",
    "#         nones = nones + 1\n",
    "#     else:\n",
    "#         fifties = fifties + 1\n",
    "#         x1[num - nones] = x[num]\n",
    "#         y1[num - nones] = y[num]\n",
    "\n",
    "#         xs1[num - nones] = xs[num]\n",
    "#         ys1[num - nones] = ys[num]\n",
    "\n",
    "# x = x1\n",
    "# y = y1\n",
    "\n",
    "# xs = xs1\n",
    "# ys = ys1"
   ]
  },
  {
   "cell_type": "code",
   "execution_count": 8,
   "metadata": {
    "collapsed": false
   },
   "outputs": [],
   "source": [
    "if pretotal == total1:\n",
    "    for num in range(1, total1):\n",
    "        xs[num] = ma.masked_equal(xs[num], 0)\n",
    "        ys[num] = ma.masked_equal(ys[num], 0)\n",
    "\n",
    "        x[num] = ma.masked_equal(x[num], 0)\n",
    "        y[num] = ma.masked_equal(y[num], 0)\n",
    "\n",
    "else:\n",
    "    for num in range(1, fifties):\n",
    "        xs[num] = ma.masked_equal(xs[num], 0)\n",
    "        ys[num] = ma.masked_equal(ys[num], 0)\n",
    "\n",
    "        x[num] = ma.masked_equal(x[num], 0)\n",
    "        y[num] = ma.masked_equal(y[num], 0)\n",
    "\n",
    "    total1 = fifties + 1"
   ]
  },
  {
   "cell_type": "code",
   "execution_count": 9,
   "metadata": {
    "collapsed": false
   },
   "outputs": [
    {
     "data": {
      "text/plain": [
       "2041"
      ]
     },
     "execution_count": 9,
     "metadata": {},
     "output_type": "execute_result"
    }
   ],
   "source": [
    "total1"
   ]
  },
  {
   "cell_type": "code",
   "execution_count": 10,
   "metadata": {
    "collapsed": false
   },
   "outputs": [
    {
     "data": {
      "text/plain": [
       "masked_array(data = [22.052 22.31488 -- -- -- -- -- -- -- -- -- -- -- -- -- -- -- -- -- -- --\n",
       " -- -- -- -- -- -- -- -- -- -- -- -- -- -- -- -- -- -- -- -- -- -- -- -- --\n",
       " -- -- -- -- -- -- -- -- -- -- -- -- -- -- -- -- -- -- -- -- -- -- -- -- --\n",
       " -- -- -- -- -- -- -- -- -- -- -- -- -- -- -- -- -- -- --],\n",
       "             mask = [False False  True  True  True  True  True  True  True  True  True  True\n",
       "  True  True  True  True  True  True  True  True  True  True  True  True\n",
       "  True  True  True  True  True  True  True  True  True  True  True  True\n",
       "  True  True  True  True  True  True  True  True  True  True  True  True\n",
       "  True  True  True  True  True  True  True  True  True  True  True  True\n",
       "  True  True  True  True  True  True  True  True  True  True  True  True\n",
       "  True  True  True  True  True  True  True  True  True  True  True  True\n",
       "  True  True  True  True  True  True],\n",
       "       fill_value = 0.0)"
      ]
     },
     "execution_count": 10,
     "metadata": {},
     "output_type": "execute_result"
    }
   ],
   "source": [
    "(xs[3])"
   ]
  },
  {
   "cell_type": "code",
   "execution_count": 11,
   "metadata": {
    "collapsed": false
   },
   "outputs": [],
   "source": [
    "tlength = np.zeros(total1)\n",
    "if pretotal == total1:\n",
    "    for num in range(1, total1):\n",
    "        tlength[num - 1] = ma.count(xs[num])\n",
    "else:\n",
    "    for num in range(1, total1):\n",
    "        tlength[num - 1] = ma.count(xs[num])"
   ]
  },
  {
   "cell_type": "code",
   "execution_count": 12,
   "metadata": {
    "collapsed": false
   },
   "outputs": [
    {
     "data": {
      "text/plain": [
       "array([ 90.,   3.,   2.,  90.,   2.,  90.,  90.,  90.,   2.,  90.,   2.,\n",
       "        90.,   2.,  90.,  69.,  90.,   2.,  90.,   4.,  90.,  90.,   4.,\n",
       "        90.,  90.,   3.,   3.,  90.,   2.,   2.,   2.,   2.,   2.,   2.,\n",
       "         2.,  11.,   2.,   2.,  88.,   2.,   2.,   2.,   2.,   2.,   2.,\n",
       "         2.,  87.,   2.,   2.,   2.,   2.,   2.,   4.,   2.,   8.,   3.,\n",
       "         5.,   2.,   2.,   2.,   3.,   2.,  11.,   2.,   2.,   2.,   3.,\n",
       "         3.,   2.,   2.,   2.,   2.,   2.,   5.,   3.,   4.,   2.,   5.,\n",
       "         2.,   2.,   2.,   2.,   2.,   2.,   3.,   2.,   2.,   2.,   4.,\n",
       "         2.,   7.,   2.,   2.,   2.,   3.,   6.,   3.,   4.,   9.,   2.,\n",
       "         3.])"
      ]
     },
     "execution_count": 12,
     "metadata": {},
     "output_type": "execute_result"
    }
   ],
   "source": [
    "tlength[0:100]"
   ]
  },
  {
   "cell_type": "code",
   "execution_count": 13,
   "metadata": {
    "collapsed": true
   },
   "outputs": [],
   "source": [
    "lenplot = '{}_lenplot'.format(name)"
   ]
  },
  {
   "cell_type": "code",
   "execution_count": 14,
   "metadata": {
    "collapsed": false
   },
   "outputs": [],
   "source": [
    "def plot_histogram(length, total, filename):\n",
    "    \n",
    "    total1 = total\n",
    "    hist = length\n",
    "\n",
    "    hist = [x for x in hist if str(x) != 'nan']\n",
    "    \n",
    "    plot, bins = np.histogram(hist, bins=total1)\n",
    "    width = 1 * (bins[1] - bins[0])\n",
    "    center = (bins[:-1] + bins[1:])/2\n",
    "    plt.bar(center, plot, align='center', width=width)\n",
    "    plt.xlabel('Trajectory lengths', fontsize=20)\n",
    "\n",
    "    plt.savefig('{}.png'.format(filename), bbox_inches='tight')\n",
    "    return hist, total1"
   ]
  },
  {
   "cell_type": "code",
   "execution_count": 15,
   "metadata": {
    "collapsed": false
   },
   "outputs": [],
   "source": [
    "hist, total= plot_histogram(tlength, total1, lenplot)\n",
    "plt.show()"
   ]
  },
  {
   "cell_type": "code",
   "execution_count": 16,
   "metadata": {
    "collapsed": false
   },
   "outputs": [],
   "source": [
    "\"\"\"\n",
    "This block plots all trajectories without centering.  The user can adjust the range of x and y directly below.\n",
    "\"\"\"\n",
    "\n",
    "center_zoom = 0\n",
    "edge = 41\n",
    "bottom = 0\n",
    "maxx = edge - center_zoom\n",
    "minx = bottom + center_zoom\n",
    "maxy = edge - center_zoom\n",
    "miny = bottom + center_zoom\n",
    "vid_to_plot = 2\n",
    "\n",
    "def plot_traj(xmax, xmin, ymax, ymin, xts, yts):\n",
    "    # Creates figure\n",
    "    fig = plt.figure(figsize=(24, 18), dpi=80)\n",
    "    ax = fig.add_subplot(111)\n",
    "    # ax.set_title('Particle Trajectories', x=0.5, y=1.15)\n",
    "\n",
    "    for num in range(p_by_vid[vid_to_plot - 1], p_by_vid[vid_to_plot] + 1):\n",
    "        ax.plot(xts[num], yts[num], linewidth=1, label='Particle {}'.format(num))\n",
    "\n",
    "\n",
    "    # A few adjustments to prettify the graph\n",
    "    for item in ([ax.xaxis.label, ax.yaxis.label] +\n",
    "                 ax.get_xticklabels() + ax.get_yticklabels()):\n",
    "        item.set_fontsize(70)\n",
    "\n",
    "    xmajor_ticks = np.arange(xmin, xmax + 0.001, 20)\n",
    "    ymajor_ticks = np.arange(ymin, ymax + 0.001, 20)\n",
    "\n",
    "    ax.set_xticks(xmajor_ticks)\n",
    "    ax.set_yticks(ymajor_ticks)\n",
    "    ax.title.set_fontsize(70)\n",
    "    ax.set_xlabel(r'x ($\\mu$m)', fontsize=95)\n",
    "    ax.set_ylabel(r'x ($\\mu$m)', fontsize=95)\n",
    "    #ax.tick_params(direction='out', pad=16)\n",
    "    #ax.legend(loc=(0.60, 0.76), prop={'size': 40})\n",
    "    plt.gca().xaxis.set_major_formatter(mpl.ticker.FormatStrFormatter('%.{}f'.format(0)))\n",
    "    plt.gca().yaxis.set_major_formatter(mpl.ticker.FormatStrFormatter('%.{}f'.format(0)))\n",
    "\n",
    "\n",
    "    #plt.yscale('log')\n",
    "    #plt.xscale('log')\n",
    "    plt.gca().set_xlim([xmin, xmax])\n",
    "    plt.gca().set_ylim([ymin, ymax])\n",
    "\n",
    "    # Save your figure\n",
    "    plt.savefig('{}.png'.format(T2plot), bbox_inches='tight')\n",
    "\n",
    "plot_traj(maxx, minx, maxy, miny, xs, ys)\n",
    "plt.show()"
   ]
  },
  {
   "cell_type": "code",
   "execution_count": 17,
   "metadata": {
    "collapsed": true
   },
   "outputs": [],
   "source": [
    "#Comment out to exclude filter.\n",
    "\n",
    "cutoff = cut\n",
    "\n",
    "x1 = dict()\n",
    "y1 = dict()\n",
    "\n",
    "xs1 = dict()\n",
    "ys1 = dict()\n",
    "\n",
    "fifties = 0\n",
    "nones = 0\n",
    "\n",
    "for num in range(1, total1):\n",
    "    if np.count_nonzero(x[num]) < cutoff:\n",
    "        nones = nones + 1\n",
    "    else:\n",
    "        fifties = fifties + 1\n",
    "        x1[num - nones] = x[num]\n",
    "        y1[num - nones] = y[num]\n",
    "\n",
    "        xs1[num - nones] = xs[num]\n",
    "        ys1[num - nones] = ys[num]\n",
    "\n",
    "for num in range(1, fifties):\n",
    "    xs1[num] = ma.masked_equal(xs1[num], 0)\n",
    "    ys1[num] = ma.masked_equal(ys1[num], 0)\n",
    "\n",
    "    x1[num] = ma.masked_equal(x1[num], 0)\n",
    "    y1[num] = ma.masked_equal(y1[num], 0)"
   ]
  },
  {
   "cell_type": "code",
   "execution_count": 18,
   "metadata": {
    "collapsed": true
   },
   "outputs": [],
   "source": [
    "\"\"\"\n",
    "This block plots user-defined trajectories, defined by their particle numbers.  The user can also adjust the window by\n",
    "using the unit block scaling all axes.\n",
    "\"\"\"\n",
    "\n",
    "unit = 61\n",
    "NPs = np.array([1, 10, 20, 30, 40, 50, 60, 70, 80, 90, 100, 110, 120, 130, 140, 150]) + 2\n",
    "#NPs = filte\n",
    "\n",
    "maxx = 0.101*unit\n",
    "minx = -0.101*unit\n",
    "maxy = 0.101*unit\n",
    "miny = -0.101*unit\n",
    "ticks = 0.05*unit\n",
    "dec = 0\n",
    "\n",
    "\n",
    "#NPs = filte\n",
    "#NPs = np.array([30])\n",
    "xc = dict()\n",
    "yc = dict()\n",
    "xcmask = dict()\n",
    "\n",
    "# Creates figure\n",
    "fig1 = plt.figure(figsize=(24, 18), dpi=80)\n",
    "ax1 = fig1.add_subplot(111)\n",
    "# ax.set_title('Particle Trajectories', x=0.5, y=1.15)\n",
    "\n",
    "for num in range(1, NPs.shape[0]+1):\n",
    "    lowx = ma.min(xs1[NPs[num-1]])\n",
    "    highx = ma.max(xs1[NPs[num-1]])\n",
    "    lowy = ma.min(ys1[NPs[num-1]])\n",
    "    highy = ma.max(ys1[NPs[num-1]])\n",
    "    \n",
    "    xc[NPs[num-1]] = np.array([xs1[NPs[num-1]] - ((highx+lowx)/2)])\n",
    "    yc[NPs[num-1]] = np.array([ys1[NPs[num-1]] - ((highy+lowy)/2)])\n",
    "    \n",
    "    xcmask[NPs[num-1]] = xs1[NPs[num-1]].recordmask\n",
    "    xc[NPs[num-1]] = ma.array(xc[NPs[num-1]], mask = xcmask[NPs[num-1]])\n",
    "    yc[NPs[num-1]] = ma.array(yc[NPs[num-1]], mask = xcmask[NPs[num-1]])\n",
    "    \n",
    "    ax1.plot(xc[NPs[num-1]][0, :], yc[NPs[num-1]][0, :], linewidth=10, label='Particle {}'.format(NPs[num-1]))\n",
    "\n",
    "\n",
    "# A few adjustments to prettify the graph\n",
    "for item in ([ax1.xaxis.label, ax1.yaxis.label] +\n",
    "             ax1.get_xticklabels() + ax1.get_yticklabels()):\n",
    "    item.set_fontsize(70)\n",
    "\n",
    "xmajor_ticks = np.arange(minx, maxx + 0.00001, ticks)\n",
    "ymajor_ticks = np.arange(miny, maxy + 0.00001, ticks)\n",
    "\n",
    "ax1.set_xticks(xmajor_ticks)\n",
    "ax1.set_yticks(ymajor_ticks)\n",
    "ax1.title.set_fontsize(70)\n",
    "ax1.set_xlabel(r'x ($\\mu$m)', fontsize=95)\n",
    "ax1.set_ylabel(r'y ($\\mu$m)', fontsize=95)\n",
    "ax1.tick_params(direction='out', pad=16)\n",
    "plt.xticks(rotation=-30)\n",
    "# ax1.legend(loc=(0.60, 0.46), prop={'size': 40})\n",
    "plt.gca().xaxis.set_major_formatter(mpl.ticker.FormatStrFormatter('%.{}f'.format(dec)))\n",
    "plt.gca().yaxis.set_major_formatter(mpl.ticker.FormatStrFormatter('%.{}f'.format(dec)))\n",
    "\n",
    "\n",
    "#plt.yscale('log')\n",
    "#plt.xscale('log')\n",
    "plt.gca().set_xlim([minx, maxx])\n",
    "plt.gca().set_ylim([miny, maxy])\n",
    "\n",
    "# Save your figure\n",
    "plt.savefig('{}.png'.format(Tplot), bbox_inches='tight')\n",
    "plt.show()"
   ]
  },
  {
   "cell_type": "code",
   "execution_count": null,
   "metadata": {
    "collapsed": true
   },
   "outputs": [],
   "source": []
  }
 ],
 "metadata": {
  "kernelspec": {
   "display_name": "Python 3",
   "language": "python",
   "name": "python3"
  },
  "language_info": {
   "codemirror_mode": {
    "name": "ipython",
    "version": 3
   },
   "file_extension": ".py",
   "mimetype": "text/x-python",
   "name": "python",
   "nbconvert_exporter": "python",
   "pygments_lexer": "ipython3",
   "version": "3.5.3"
  }
 },
 "nbformat": 4,
 "nbformat_minor": 0
}
