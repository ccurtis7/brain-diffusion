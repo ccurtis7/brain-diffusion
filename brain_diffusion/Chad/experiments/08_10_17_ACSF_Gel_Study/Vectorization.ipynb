{
 "cells": [
  {
   "cell_type": "markdown",
   "metadata": {},
   "source": [
    "# Unpack Packages"
   ]
  },
  {
   "cell_type": "code",
   "execution_count": 1,
   "metadata": {
    "collapsed": false
   },
   "outputs": [],
   "source": [
    "import os\n",
    "import csv\n",
    "import sys\n",
    "module_path = os.path.abspath(os.path.join('C:\\\\Users\\\\koolk\\\\Desktop\\\\brain-diffusion\\\\Chad_functions_and_unittests'))\n",
    "if module_path not in sys.path:\n",
    "    sys.path.append(module_path)\n",
    "import matplotlib as mpl\n",
    "import matplotlib.pyplot as plt\n",
    "import matplotlib.ticker as mtick\n",
    "import scipy.optimize as opt\n",
    "import scipy.stats as stat\n",
    "from operator import itemgetter\n",
    "import random\n",
    "import numpy as np\n",
    "import numpy.ma as ma\n",
    "import numpy.linalg as la\n",
    "\n",
    "pi = np.pi\n",
    "sin = np.sin\n",
    "cos = np.cos"
   ]
  },
  {
   "cell_type": "code",
   "execution_count": 2,
   "metadata": {
    "collapsed": false
   },
   "outputs": [],
   "source": [
    "from MSD_utils import get_data_pups, build_time_array, return_average, avg_all, graph_single_variable\n",
    "from MSD_utils import SD_all, return_SD, range_and_ticks, choose_y_axis_params, data_prep_for_plotting_pups\n",
    "from MSD_utils import fill_in_and_split, plot_traj_length_histogram, plot_traj, filter_out_short_traj\n",
    "from MSD_utils import plot_trajectory_overlay, quality_control\n",
    "\n",
    "from MSD_utils import diffusion_coefficient_point_derivative, diffusion_coefficient_linear_regression\n",
    "from MSD_utils import calculate_diffusion_coefficients, diffusion_bar_chart, summary_barcharts\n",
    "from MSD_utils import calculate_MMSDs, plot_general_histogram, plot_MSD_histogram, plot_all_MSD_histograms\n",
    "from MSD_utils import fillin2, MSD_iteration, vectorized_MMSD_calcs\n",
    "from MSD_utils import get_data_gels, data_prep_for_plotting_gels, plot_all_MSD_histograms_gels, quality_control_gels\n",
    "from MSD_utils import calculate_diffusion_coefficients_gels"
   ]
  },
  {
   "cell_type": "code",
   "execution_count": 3,
   "metadata": {
    "collapsed": true
   },
   "outputs": [],
   "source": [
    "folder = \"./{functionality}/{slic}/\"\n",
    "path = \"./{functionality}/{slic}/geoM2xy_{sample_name}.csv\"\n",
    "path2 = \"./{functionality}/{slic}/Traj_{sample_name}.tif.csv\"\n",
    "\n",
    "frames = 480\n",
    "SD_frames = [1, 10, 19, 28]\n",
    "conversion = (0.16, 9.91, 1)#(0.3, 3.95, 1)\n",
    "to_frame = 60\n",
    "dimension = \"2D\"\n",
    "time_to_calculate = 1\n",
    "\n",
    "base = \"0-4p_agarose\"\n",
    "base_name = \"RED\"\n",
    "test_bins = np.linspace(0, 75, 76)\n",
    "\n",
    "# name = 'RED_KO_PEG_P1_S1_cortex'\n",
    "cut = 4\n",
    "totvids = 1\n",
    "frame_m = 480  # atm I can't go lower than the actual value.\n",
    "conversion = (0.16, 9.91, 1)\n",
    "\n",
    "parameters = {}\n",
    "parameters[\"channels\"] = [\"RED\"]\n",
    "#parameters[\"genotypes\"] = [\"WT\"]\n",
    "#parameters[\"pups\"] = [\"P1\", \"P2\", \"P3\"]\n",
    "parameters[\"surface functionalities\"] = [\"PEG\", \"nPEG\"]\n",
    "parameters[\"slices\"] = [\"1\", \"2\", \"3\", \"4\", \"5\", \"6\", \"7\", \"8\"]\n",
    "parameters[\"regions\"] = [\"cortex\"]\n",
    "parameters[\"replicates\"] = [1, 2, 3, 4, 5, 6, 7, 8, 9, 10]\n",
    "parameters[\"slice suffixes\"] = ['a', 'b', 'c', 'd', 'e', 'f', 'g', 'h']\n",
    "\n",
    "\n",
    "channels = parameters[\"channels\"]\n",
    "#genotypes = parameters[\"genotypes\"]\n",
    "#pups = parameters[\"pups\"]\n",
    "surface_functionalities = parameters[\"surface functionalities\"]\n",
    "slices = parameters[\"slices\"]\n",
    "#regions = parameters[\"regions\"]\n",
    "replicates = parameters[\"replicates\"]\n",
    "suffixes = parameters[\"slice suffixes\"]\n",
    "\n",
    "y_range, ticks_y, dec_y, x_range, ticks_x, dec_x = 8, 2, 1, 3, 1, 1\n",
    "frames = 480\n",
    "interv = 50"
   ]
  },
  {
   "cell_type": "code",
   "execution_count": null,
   "metadata": {
    "collapsed": true
   },
   "outputs": [],
   "source": [
    "def MSD_iteration(folder, name, cut, totvids, conversion, frames):\n",
    "    \"\"\"\n",
    "    Cleans up data for MSD analysis from csv files.  Outputs in form of\n",
    "    dictionaries.\n",
    "    \"\"\"\n",
    "\n",
    "    trajectory = dict()\n",
    "    tots = dict()  # Total particles in each video\n",
    "    newtots = dict()  # Cumulative total particles.\n",
    "    newtots[0] = 0\n",
    "    tlen = dict()\n",
    "    tlength = dict()\n",
    "    tlength[0] = 0\n",
    "\n",
    "    for num in range(1, totvids + 1):\n",
    "        trajectory[num] = np.genfromtxt(folder+'Traj_{}_{}.tif.csv'.format(name, num), delimiter=\",\")\n",
    "        trajectory[num] = np.delete(trajectory[num], 0, 1)\n",
    "\n",
    "        tots[num] = trajectory[num][-1, 0].astype(np.int64)\n",
    "        newtots[num] = newtots[num-1] + tots[num]\n",
    "\n",
    "        tlen[num] = trajectory[num].shape[0]\n",
    "        tlength[num] = tlength[num-1] + tlen[num]\n",
    "\n",
    "    placeholder = np.zeros((tlength[totvids], 11))\n",
    "\n",
    "    for num in range(1, totvids + 1):\n",
    "        placeholder[tlength[num-1]:tlength[num], :] = trajectory[num]\n",
    "        placeholder[tlength[num-1]:tlength[num], 0] = placeholder[tlength[num-1]:tlength[num], 0] + newtots[num-1]\n",
    "\n",
    "    dataset = dict()\n",
    "    rawdataset = np.zeros(placeholder.shape)\n",
    "    particles = placeholder[:, 0]\n",
    "    total = int(max(particles))\n",
    "    total1 = total + 1\n",
    "    rawdataset = placeholder[:, :]\n",
    "\n",
    "    fixed = np.zeros(placeholder.shape)\n",
    "    fixed[:, 0:2] = rawdataset[:, 0:2]\n",
    "    fixed[:, 2:4] = conversion[0] * rawdataset[:, 2:4]\n",
    "    fixed[:, 4] = conversion[2] * rawdataset[:, 4]\n",
    "\n",
    "    x = np.zeros((frames, total1 - 1))\n",
    "    y = np.zeros((frames, total1 - 1))\n",
    "    xs = np.zeros((frames, total1 - 1))\n",
    "    ys = np.zeros((frames, total1 - 1))\n",
    "    \n",
    "    nones = 0\n",
    "    cutoff = cut\n",
    "    for num in range(1, total1):\n",
    "\n",
    "        hold = np.where(particles == num)\n",
    "        itindex = hold[0]\n",
    "        min1 = min(itindex)\n",
    "        max1 = max(itindex)\n",
    "        \n",
    "        if max1 - min1 < cutoff:\n",
    "            nones = nones + 1\n",
    "        else:\n",
    "            holdplease = fillin2(fixed[min1:max1+1, 0:5])\n",
    "            x[int(holdplease[0, 1]):int(holdplease[-1, 1])+1, num - nones - 1] = holdplease[:, 2]\n",
    "            y[int(holdplease[0, 1]):int(holdplease[-1, 1])+1, num - nones - 1] = holdplease[:, 3]\n",
    "\n",
    "            xs[0:int(holdplease[-1, 1])+1-int(holdplease[0, 1]), num - nones - 1] = holdplease[:, 2]\n",
    "            ys[0:int(holdplease[-1, 1])+1-int(holdplease[0, 1]), num - nones - 1] = holdplease[:, 3]\n",
    "\n",
    "\n",
    "    total1 = total1 - nones - 1\n",
    "    x_m = x[:, :total1-1]\n",
    "    y_m = y[:, :total1-1]\n",
    "    xs_m = xs[:, :total1-1]\n",
    "    ys_m = ys[:, :total1-1]\n",
    "    \n",
    "\n",
    "    print('Total particles after merging datasets and filtering short trajectories:', total1)\n",
    "    return total1, xs_m, ys_m, x_m, y_m"
   ]
  },
  {
   "cell_type": "code",
   "execution_count": null,
   "metadata": {
    "collapsed": true
   },
   "outputs": [],
   "source": [
    "def vectorized_MMSD_calcs(frames, total1, xs_m, ys_m, x_m, y_m, frame_m):\n",
    "\n",
    "    SM1x = np.zeros((frames, total1-1))\n",
    "    SM1y = np.zeros((frames, total1-1))\n",
    "    SM2xy = np.zeros((frames, total1-1))\n",
    "\n",
    "    xs_m = ma.masked_equal(xs_m, 0)\n",
    "    ys_m = ma.masked_equal(ys_m, 0)\n",
    "\n",
    "    x_m = ma.masked_equal(x_m, 0)\n",
    "    y_m = ma.masked_equal(y_m, 0)\n",
    "\n",
    "    geoM1x = np.zeros(frame_m)\n",
    "    geoM1y = np.zeros(frame_m)\n",
    "\n",
    "    for frame in range(1, frame_m):\n",
    "        bx = xs_m[frame, :]\n",
    "        cx = xs_m[:-frame, :]\n",
    "        Mx = (bx - cx)**2\n",
    "\n",
    "        Mxa = np.mean(Mx, axis=0)\n",
    "        Mxab = stat.gmean(Mxa, axis=0)\n",
    "\n",
    "        geoM1x[frame] = Mxab\n",
    "\n",
    "        by = ys_m[frame, :]\n",
    "        cy = ys_m[:-frame, :]\n",
    "        My = (by - cy)**2\n",
    "\n",
    "        Mya = np.mean(My, axis=0)\n",
    "        Myab = stat.gmean(Mya, axis=0)\n",
    "\n",
    "        geoM1y[frame] = Myab\n",
    "        SM1x[frame, :] = Mxa\n",
    "        SM1y[frame, :] = Mya\n",
    "\n",
    "    geoM2xy = geoM1x + geoM1y\n",
    "    SM2xy = SM1x + SM1y\n",
    "\n",
    "    return geoM1x, geoM1y, geoM2xy, SM1x, SM1y, SM2xy"
   ]
  },
  {
   "cell_type": "code",
   "execution_count": 6,
   "metadata": {
    "collapsed": false
   },
   "outputs": [
    {
     "name": "stdout",
     "output_type": "stream",
     "text": [
      "Total particles after merging datasets and filtering short trajectories: 787\n"
     ]
    }
   ],
   "source": [
    "total1, xs_m, ys_m, x_m, y_m = MSD_iteration(DIR, sample_name, 20, totvids, conversion, frames)"
   ]
  },
  {
   "cell_type": "code",
   "execution_count": 7,
   "metadata": {
    "collapsed": false
   },
   "outputs": [
    {
     "name": "stderr",
     "output_type": "stream",
     "text": [
      "C:\\Users\\koolk\\Miniconda3\\lib\\site-packages\\scipy\\stats\\stats.py:314: RuntimeWarning: divide by zero encountered in log\n",
      "  log_a = np.log(a)\n"
     ]
    }
   ],
   "source": [
    "geoM1x, geoM1y, geoM2xy20, SM1x, SM1y, SM2xy = vectorized_MMSD_calcs(frames, total1, xs_m, ys_m, x_m, y_m, frame_m)"
   ]
  },
  {
   "cell_type": "code",
   "execution_count": 8,
   "metadata": {
    "collapsed": false
   },
   "outputs": [
    {
     "data": {
      "text/plain": [
       "array([[ 14.2184 ,  35.87504,  25.73984,  31.5776 ,  27.00608],\n",
       "       [ 13.8632 ,  35.84   ,  25.77648,  30.98896,  27.75824],\n",
       "       [ 13.8632 ,  35.76448,  25.69584,  30.52384,  27.54032],\n",
       "       [ 14.27872,  35.76112,  25.72912,  30.97344,  27.60432],\n",
       "       [ 14.24048,  35.85296,  25.70032,  31.30144,  27.76816],\n",
       "       [ 14.116  ,  35.52608,  25.71904,  31.49296,  28.54016],\n",
       "       [ 14.1232 ,  35.7392 ,  25.60688,  31.44576,  28.54016],\n",
       "       [ 14.09072,  35.70096,  25.57968,  31.40272,  29.11664],\n",
       "       [ 14.01296,  35.69088,  25.55536,  31.43088,  28.73232],\n",
       "       [ 14.0448 ,  35.81056,  25.58848,  31.43296,  28.2992 ],\n",
       "       [ 14.00288,  35.6912 ,  25.5616 ,  31.45536,  28.67168],\n",
       "       [ 14.     ,  35.72032,  25.5376 ,  31.43504,  27.77712],\n",
       "       [ 14.01408,  35.74816,  25.5328 ,  31.43616,  27.74448],\n",
       "       [ 14.0488 ,  35.73776,  25.60432,  31.47696,  27.74448],\n",
       "       [ 14.0064 ,  35.71552,  25.55888,  31.42768,  28.964  ],\n",
       "       [ 14.04608,  35.71824,  25.5608 ,  31.45264,  28.964  ],\n",
       "       [ 14.09168,  35.74784,  25.56128,  31.46176,  29.49056],\n",
       "       [ 13.99968,  35.74512,  25.66208,  31.43008,  29.59392],\n",
       "       [ 14.15776,  35.69056,  25.53904,  31.45984,  29.88816],\n",
       "       [ 13.83008,  35.74896,  25.52288,  31.42768,  29.056  ],\n",
       "       [ 13.81408,  35.70576,  25.58976,  31.43696,  29.75424],\n",
       "       [ 13.86992,  35.71984,  25.5768 ,  31.4768 ,  29.88464],\n",
       "       [ 13.97904,  35.7496 ,  25.18816,  31.496  ,  30.25488],\n",
       "       [ 13.96864,  35.76224,  25.01712,  31.39296,  29.92368],\n",
       "       [ 14.20448,  35.728  ,  24.00928,  31.27744,  29.92368],\n",
       "       [ 13.92656,  35.73792,  24.06   ,  31.39232,  30.61456],\n",
       "       [ 14.12176,  35.79104,  24.28832,  31.31232,  30.82176],\n",
       "       [ 13.99072,  35.79856,  24.20192,  31.44656,  30.79568],\n",
       "       [ 14.18592,  35.76528,  23.99648,  31.50912,  30.85904],\n",
       "       [ 14.00704,  35.7488 ,  24.73376,  31.45344,  30.8384 ],\n",
       "       [ 14.00304,  35.77344,  24.73264,  31.43856,  30.83392],\n",
       "       [ 13.9808 ,  35.75328,  24.4888 ,  31.48912,  30.84656],\n",
       "       [ 14.0696 ,  35.764  ,  25.62816,  31.48144,  30.85248],\n",
       "       [ 14.01984,  35.73632,  25.60256,  31.4808 ,  30.828  ],\n",
       "       [ 13.95488,  35.75568,  25.62448,  31.44336,  30.8704 ],\n",
       "       [ 13.93872,  35.78144,  25.60272,  31.4576 ,  30.7648 ],\n",
       "       [ 13.95424,  35.76   ,  25.58544,  31.43488,  30.88512],\n",
       "       [ 14.02608,  35.87056,  25.596  ,  31.44208,  30.98592],\n",
       "       [ 13.67088,  35.79456,  25.57312,  31.45392,  30.8616 ],\n",
       "       [ 13.91248,  35.7944 ,  25.57488,  31.53984,  30.86656],\n",
       "       [ 14.00816,  35.77392,  25.56528,  31.50816,  30.82816],\n",
       "       [ 13.99296,  35.76224,  25.55376,  31.61008,  30.8296 ],\n",
       "       [ 14.00928,  35.86736,  25.54272,  31.484  ,  30.88336],\n",
       "       [ 14.08096,  35.87232,  25.61568,  31.47616,  30.94656],\n",
       "       [ 14.03616,  35.68384,  25.53248,  31.51296,  30.88512],\n",
       "       [ 14.08464,  35.79248,  25.52496,  31.40048,  30.86976],\n",
       "       [ 14.07216,  35.7728 ,  25.49968,  31.42608,  30.84768],\n",
       "       [ 14.04192,  35.75296,  25.45024,  31.47376,  30.80752],\n",
       "       [ 14.04544,  35.75952,  25.68944,  31.45104,  30.82464],\n",
       "       [ 14.0344 ,   0.     ,  25.70592,  31.44352,  30.81824]])"
      ]
     },
     "execution_count": 8,
     "metadata": {},
     "output_type": "execute_result"
    }
   ],
   "source": [
    "yes = 40\n",
    "\n",
    "xs_m[0:50, 5+yes:10+yes]"
   ]
  },
  {
   "cell_type": "code",
   "execution_count": null,
   "metadata": {
    "collapsed": false
   },
   "outputs": [],
   "source": [
    "plt.plot(geoM2xy)\n",
    "plt.plot(geoM2xy6)\n",
    "plt.plot(geoM2xy8)\n",
    "plt.plot(geoM2xy10)\n",
    "plt.gca().set_xlim([0, 12])\n",
    "plt.gca().set_ylim([0, 4])\n",
    "plt.show()\n"
   ]
  },
  {
   "cell_type": "code",
   "execution_count": null,
   "metadata": {
    "collapsed": false
   },
   "outputs": [],
   "source": [
    "geoM2xy10"
   ]
  },
  {
   "cell_type": "code",
   "execution_count": null,
   "metadata": {
    "collapsed": false
   },
   "outputs": [],
   "source": [
    "plt.plot(geoM1y)\n",
    "plt.show()\n",
    "plt.gca().set_xlim([0, 40])\n",
    "plt.gca().set_ylim([0, 6])"
   ]
  },
  {
   "cell_type": "code",
   "execution_count": 5,
   "metadata": {
    "collapsed": false
   },
   "outputs": [
    {
     "name": "stdout",
     "output_type": "stream",
     "text": [
      "Total particles after merging datasets and filtering short trajectories: 2938\n",
      "Total particles after merging datasets and filtering short trajectories:"
     ]
    },
    {
     "name": "stderr",
     "output_type": "stream",
     "text": [
      "C:\\Users\\koolk\\Miniconda3\\lib\\site-packages\\scipy\\stats\\stats.py:314: RuntimeWarning: divide by zero encountered in log\n",
      "  log_a = np.log(a)\n",
      "C:\\Users\\koolk\\Miniconda3\\lib\\site-packages\\numpy\\ma\\core.py:4185: UserWarning: Warning: converting a masked element to nan.\n",
      "  warnings.warn(\"Warning: converting a masked element to nan.\")\n"
     ]
    },
    {
     "name": "stdout",
     "output_type": "stream",
     "text": [
      " 5814\n",
      "Total particles after merging datasets and filtering short trajectories: 886\n",
      "Total particles after merging datasets and filtering short trajectories: 3349\n",
      "Total particles after merging datasets and filtering short trajectories: 2650\n",
      "Total particles after merging datasets and filtering short trajectories: 2933\n",
      "Total particles after merging datasets and filtering short trajectories: 3765\n",
      "Total particles after merging datasets and filtering short trajectories: 2411\n",
      "Total particles after merging datasets and filtering short trajectories: 192\n",
      "Total particles after merging datasets and filtering short trajectories: 4518\n",
      "Total particles after merging datasets and filtering short trajectories: 946\n",
      "Total particles after merging datasets and filtering short trajectories: 2226\n",
      "Total particles after merging datasets and filtering short trajectories: 995\n",
      "Total particles after merging datasets and filtering short trajectories: 5025\n",
      "Total particles after merging datasets and filtering short trajectories: 5523\n",
      "Total particles after merging datasets and filtering short trajectories: 3765\n"
     ]
    }
   ],
   "source": [
    "geoM1x = {}\n",
    "geoM1y = {}\n",
    "geoM2xy = {}\n",
    "SM1x = {}\n",
    "SM1y = {}\n",
    "SM2xy = {}\n",
    "\n",
    "for channel in channels:\n",
    "    for surface_functionality in surface_functionalities:\n",
    "        slice_counter = 0\n",
    "        for slic in slices:\n",
    "            suffix = suffixes[slice_counter]\n",
    "            sample_name = \"{}_{}_0-4p_agarose_{}\".format(channel, surface_functionality, slic)\n",
    "            DIR = folder.format(functionality = surface_functionality, slic = slic)\n",
    "            total1, xs, ys, x, y = MSD_iteration(DIR, sample_name, cut, totvids, conversion, frames)\n",
    "            geoM1x[sample_name], geoM1y[sample_name], geoM2xy[sample_name], SM1x[sample_name], SM1y[sample_name],\\\n",
    "                SM2xy[sample_name] = vectorized_MMSD_calcs(frames, total1, xs, ys, x, y, frame_m)\n",
    "            np.savetxt(DIR+'geoM2xy_{}.csv'.format(sample_name), geoM2xy[sample_name], delimiter=',')\n",
    "            np.savetxt(DIR+'SM2xy_{}.csv'.format(sample_name), SM2xy[sample_name], delimiter=',')\n",
    "\n",
    "            slice_counter = slice_counter + 1"
   ]
  },
  {
   "cell_type": "code",
   "execution_count": null,
   "metadata": {
    "collapsed": false
   },
   "outputs": [],
   "source": [
    "sample_name"
   ]
  },
  {
   "cell_type": "code",
   "execution_count": null,
   "metadata": {
    "collapsed": false,
    "scrolled": true
   },
   "outputs": [],
   "source": [
    "frames = 480\n",
    "\n",
    "data, avg_over_slices, time, time_SD, average_over_slices, all_SD_over_slices = \\\n",
    "    data_prep_for_plotting_gels(path, frames, SD_frames, conversion, to_frame, parameters, base);"
   ]
  },
  {
   "cell_type": "code",
   "execution_count": null,
   "metadata": {
    "collapsed": false
   },
   "outputs": [],
   "source": [
    "plot_all_MSD_histograms_gels(parameters, base, folder, SM2xy, time, test_bins, 1, set_y_limit=True, y_range=5000, set_x_limit=True, x_range=60)"
   ]
  },
  {
   "cell_type": "code",
   "execution_count": null,
   "metadata": {
    "collapsed": false
   },
   "outputs": [],
   "source": [
    "\n",
    "\n",
    "quality_control_gels(path2, folder, frames, conversion, parameters, base, interv, cut)"
   ]
  },
  {
   "cell_type": "markdown",
   "metadata": {},
   "source": [
    "# Plot Datasets Together"
   ]
  },
  {
   "cell_type": "markdown",
   "metadata": {},
   "source": [
    "Because my PEG and nPEG datasets had different framerates, I had to analyze the datasets separately.  My code requires all datasets to have the same framerate, and thus they can't be plotted together."
   ]
  },
  {
   "cell_type": "code",
   "execution_count": null,
   "metadata": {
    "collapsed": false
   },
   "outputs": [],
   "source": [
    "for keys in all_SD_over_slices:\n",
    "    all_SD_over_slices[keys] = all_SD_over_slices[keys]/np.sqrt(8)"
   ]
  },
  {
   "cell_type": "code",
   "execution_count": null,
   "metadata": {
    "collapsed": false
   },
   "outputs": [],
   "source": [
    "in_name1 = \"agarose\"\n",
    "in_name2 = \"RED\"\n",
    "\n",
    "graph_single_variable(average_over_slices, all_SD_over_slices, time, time_SD, SD_frames, in_name1, in_name2, to_frame=to_frame, y_range=y_range,\n",
    "                      ticks_y=ticks_y, dec_y=dec_y, x_range=x_range, ticks_x=ticks_x, dec_x=dec_x,\n",
    "                      modify_labels=False, label_identifier=\"RED_\", x_manual=True, base_name=base_name)\n",
    "plt.show()"
   ]
  },
  {
   "cell_type": "code",
   "execution_count": null,
   "metadata": {
    "collapsed": true
   },
   "outputs": [],
   "source": []
  },
  {
   "cell_type": "code",
   "execution_count": null,
   "metadata": {
    "collapsed": false
   },
   "outputs": [],
   "source": [
    "# Creates figure\n",
    "\n",
    "line_colors=['g', 'r', 'b', 'c', 'm', 'k']\n",
    "line_kind='-'\n",
    "labels = ['PEG', 'nPEG']\n",
    "label_size=95\n",
    "legend_size=40 \n",
    "tick_size=50\n",
    "line_width=10\n",
    "fig_size=(20, 18)\n",
    "filename = 'test.png'\n",
    "\n",
    "to_graph = {}\n",
    "counter = 0\n",
    "for keys in average_over_slices:\n",
    "    to_graph[counter] = keys\n",
    "    counter = counter + 1\n",
    "for keys in average_over_slices2:\n",
    "    to_graph[counter] = keys\n",
    "    counter = counter + 1\n",
    "\n",
    "fig = plt.figure(figsize=fig_size, dpi=80)\n",
    "ax = fig.add_subplot(111)\n",
    "\n",
    "line_type = [s + line_kind for s in line_colors]\n",
    "ax.plot(time[0:to_frame], average_over_slices[to_graph[0]][0:to_frame], line_type[0], linewidth=line_width, label=labels[0])\n",
    "ax.errorbar(time_SD, average_over_slices[to_graph[0]][SD_frames], all_SD_over_slices[to_graph[0]], fmt='', linestyle='',\n",
    "            capsize=7, capthick=2, elinewidth=2, color=line_colors[0])\n",
    "\n",
    "ax.plot(time2[0:to_frame], average_over_slices2[to_graph[1]][0:to_frame], line_type[1], linewidth=line_width, label=labels[1])\n",
    "ax.errorbar(time_SD2, average_over_slices2[to_graph[1]][SD_frames2], all_SD_over_slices2[to_graph[1]], fmt='', linestyle='',\n",
    "            capsize=7, capthick=2, elinewidth=2, color=line_colors[1])\n",
    "\n",
    "# A few adjustments to prettify the graph\n",
    "for item in ([ax.xaxis.label, ax.yaxis.label] +\n",
    "             ax.get_xticklabels() + ax.get_yticklabels()):\n",
    "    item.set_fontsize(tick_size)\n",
    "\n",
    "xmajor_ticks = np.arange(0, x_range+0.0001, ticks_x)\n",
    "ymajor_ticks = np.arange(0, y_range+0.0001, ticks_y)\n",
    "\n",
    "ax.set_xticks(xmajor_ticks)\n",
    "plt.xticks(rotation=-30)\n",
    "ax.set_yticks(ymajor_ticks)\n",
    "ax.title.set_fontsize(tick_size)\n",
    "ax.set_xlabel('Time (s)', fontsize=label_size)\n",
    "ax.set_ylabel(r'MSD ($\\mu$m$^2$)', fontsize=label_size)\n",
    "ax.tick_params(direction='out', pad=16)\n",
    "ax.legend(loc=(0.02, 0.75), prop={'size': legend_size})\n",
    "plt.gca().xaxis.set_major_formatter(mpl.ticker.FormatStrFormatter('%.{}f'.format(dec_x)))\n",
    "plt.gca().yaxis.set_major_formatter(mpl.ticker.FormatStrFormatter('%.{}f'.format(dec_y)))\n",
    "\n",
    "# plt.yscale('log')\n",
    "# plt.xscale('log')\n",
    "plt.gca().set_xlim([0, x_range+0.0001])\n",
    "plt.gca().set_ylim([0, y_range+0.0001])\n",
    "\n",
    "# Save your figure\n",
    "plt.savefig('{}'.format(filename), bbox_inches='tight')\n",
    "plt.show()"
   ]
  },
  {
   "cell_type": "code",
   "execution_count": null,
   "metadata": {
    "collapsed": true
   },
   "outputs": [],
   "source": [
    "def calculate_diffusion_coefficients_gels(channels, surface_functionalities, slices, path, time, time_to_calculate, to_frame, dimension):\n",
    "\n",
    "    \"\"\"\n",
    "    Loads data from csv files and outputs a dictionary following a specified\n",
    "        sample naming convection determined by the input\n",
    "\n",
    "    Parameters:\n",
    "    channels, surface functionalities, media, and concentrations, and replicates\n",
    "        can take ranges or lists.\n",
    "    path is string with substition placeholders for concentration and sample\n",
    "        name (built from channels, surface_functionalities, media,\n",
    "        concentrations, and replicates).\n",
    "\n",
    "    Example:\n",
    "    path = \"./{genotype}/{pup}/{region}/{channel}/geoM2xy_{sample_name}.csv\";\n",
    "    get_data([\"RED\", \"YG\"], [\"WT\", \"KO\", \"HET\"], [\"P1\", \"P2\", \"P3\", \"P4\"],\n",
    "    [\"PEG\", \"noPEG\"], [\"S1\", \"S2\", \"S3\", \"S4\"], [\"cortex\", \"hipp\", \"mid\"],\n",
    "    [1, 2, 3, 4, 5], path)\n",
    "    \"\"\"\n",
    "\n",
    "    data = {}\n",
    "    avg_over_slices_raw = {}\n",
    "    avg_over_pups_raw = {}\n",
    "    names_with_replicates = {}\n",
    "    counter = 0\n",
    "    counter2 = 0\n",
    "\n",
    "    diffusion_coef_point_derivative = {}\n",
    "    diffusion_coef_linear_fit = {}\n",
    "\n",
    "    for channel in channels:\n",
    "        for surface_functionality in surface_functionalities:\n",
    "            for slic in slices:\n",
    "                test_value = \"{}_{}_0-4p_agarose_{}\".format(channel, surface_functionality, slic)\n",
    "                avg_over_slices_raw[counter] = test_value\n",
    "                counter = counter + 1\n",
    "                sample_name = test_value\n",
    "                for replicate in replicates:\n",
    "                    sample_name_long = test_value + \"_{}\".format(replicate)\n",
    "                    names_with_replicates[counter2] = sample_name_long\n",
    "                    counter2 = counter2 + 1\n",
    "                filename = path.format(functionality = surface_functionality, slic = slic, sample_name=sample_name)\n",
    "                data[sample_name] = np.genfromtxt(filename, delimiter=\",\")\n",
    "\n",
    "                diffusion_coef_point_derivative[sample_name] =\\\n",
    "                    diffusion_coefficient_point_derivative(data[sample_name], time, time_to_calculate, dimension)\n",
    "                diffusion_coef_linear_fit[sample_name] =\\\n",
    "                    diffusion_coefficient_linear_regression(data[sample_name], time, to_frame, dimension)\n",
    "\n",
    "    return diffusion_coef_point_derivative, diffusion_coef_linear_fit"
   ]
  },
  {
   "cell_type": "code",
   "execution_count": null,
   "metadata": {
    "collapsed": false
   },
   "outputs": [],
   "source": [
    "calculate_diffusion_coefficients_gels(channels, surface_functionalities, slices, path, time, time_to_calculate, to_frame, dimension)"
   ]
  },
  {
   "cell_type": "code",
   "execution_count": null,
   "metadata": {
    "collapsed": true
   },
   "outputs": [],
   "source": []
  }
 ],
 "metadata": {
  "kernelspec": {
   "display_name": "Python 3",
   "language": "python",
   "name": "python3"
  },
  "language_info": {
   "codemirror_mode": {
    "name": "ipython",
    "version": 3
   },
   "file_extension": ".py",
   "mimetype": "text/x-python",
   "name": "python",
   "nbconvert_exporter": "python",
   "pygments_lexer": "ipython3",
   "version": "3.5.3"
  }
 },
 "nbformat": 4,
 "nbformat_minor": 0
}
