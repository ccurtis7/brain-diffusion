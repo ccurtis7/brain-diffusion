{
 "cells": [
  {
   "cell_type": "code",
   "execution_count": 1,
   "metadata": {
    "collapsed": false
   },
   "outputs": [],
   "source": [
    "import os\n",
    "import csv\n",
    "import sys\n",
    "module_path = os.path.abspath(os.path.join('C:\\\\Users\\\\koolk\\\\Desktop\\\\brain-diffusion\\\\Chad_functions_and_unittests'))\n",
    "if module_path not in sys.path:\n",
    "    sys.path.append(module_path)\n",
    "\n",
    "import matplotlib as mpl\n",
    "import matplotlib.pyplot as plt\n",
    "import matplotlib.ticker as mtick\n",
    "import scipy.optimize as opt\n",
    "import scipy.stats as stat\n",
    "from mpl_toolkits.mplot3d import Axes3D\n",
    "from operator import itemgetter\n",
    "import random\n",
    "import numpy as np\n",
    "import numpy.ma as ma\n",
    "import numpy.linalg as la\n",
    "from mpl_toolkits.mplot3d import Axes3D\n",
    "\n",
    "pi = np.pi\n",
    "sin = np.sin\n",
    "cos = np.cos"
   ]
  },
  {
   "cell_type": "code",
   "execution_count": 2,
   "metadata": {
    "collapsed": false
   },
   "outputs": [],
   "source": [
    "#The purpose of this book is to compare in one plot the results of varying parameters.\n",
    "\n",
    "\n",
    "\n",
    "RED_pH6_1 = 'RED_PEG_in_agarose_pH6_1'\n",
    "RED_pH6_2 = 'RED_PEG_in_agarose_pH6_2'\n",
    "RED_pH6_3 = 'RED_PEG_in_agarose_pH6_3'\n",
    "\n",
    "RED_pH7_1 = 'RED_PEG_in_agarose_pH7_1'\n",
    "RED_pH7_2 = 'RED_PEG_in_agarose_pH7_2'\n",
    "RED_pH7_3 = 'RED_PEG_in_agarose_pH7_3'\n",
    "\n",
    "RED_pH8_1 = 'RED_PEG_in_agarose_pH8_1'\n",
    "RED_pH8_2 = 'RED_PEG_in_agarose_pH8_2'\n",
    "RED_pH8_3 = 'RED_PEG_in_agarose_pH8_3'\n",
    "\n",
    "YG_pH6_1 = 'YG_PEG_in_agarose_pH6_1'\n",
    "YG_pH6_2 = 'YG_PEG_in_agarose_pH6_2'\n",
    "YG_pH6_3 = 'YG_PEG_in_agarose_pH6_3'\n",
    "\n",
    "YG_pH7_1 = 'YG_PEG_in_agarose_pH7_1'\n",
    "YG_pH7_2 = 'YG_PEG_in_agarose_pH7_2'\n",
    "YG_pH7_3 = 'YG_PEG_in_agarose_pH7_3'\n",
    "\n",
    "YG_pH8_1 = 'YG_PEG_in_agarose_pH8_1'\n",
    "YG_pH8_2 = 'YG_PEG_in_agarose_pH8_2'\n",
    "YG_pH8_3 = 'YG_PEG_in_agarose_pH8_3'\n",
    "\n",
    "geoRED_pH6_1 = np.genfromtxt('geoM2xy_{}.csv'.format(RED_pH6_1), delimiter =\",\")\n",
    "geoRED_pH6_2 = np.genfromtxt('geoM2xy_{}.csv'.format(RED_pH6_2), delimiter =\",\")\n",
    "geoRED_pH6_3 = np.genfromtxt('geoM2xy_{}.csv'.format(RED_pH6_3), delimiter =\",\")\n",
    "\n",
    "geoRED_pH7_1 = np.genfromtxt('geoM2xy_{}.csv'.format(RED_pH7_1), delimiter =\",\")\n",
    "geoRED_pH7_2 = np.genfromtxt('geoM2xy_{}.csv'.format(RED_pH7_2), delimiter =\",\")\n",
    "geoRED_pH7_3 = np.genfromtxt('geoM2xy_{}.csv'.format(RED_pH7_3), delimiter =\",\")\n",
    "\n",
    "geoRED_pH8_1 = np.genfromtxt('geoM2xy_{}.csv'.format(RED_pH8_1), delimiter =\",\")\n",
    "geoRED_pH8_2 = np.genfromtxt('geoM2xy_{}.csv'.format(RED_pH8_2), delimiter =\",\")\n",
    "geoRED_pH8_3 = np.genfromtxt('geoM2xy_{}.csv'.format(RED_pH8_3), delimiter =\",\")\n",
    "\n",
    "geoYG_pH6_1 = np.genfromtxt('geoM2xy_{}.csv'.format(YG_pH6_1), delimiter =\",\")\n",
    "geoYG_pH6_2 = np.genfromtxt('geoM2xy_{}.csv'.format(YG_pH6_2), delimiter =\",\")\n",
    "geoYG_pH6_3 = np.genfromtxt('geoM2xy_{}.csv'.format(YG_pH6_3), delimiter =\",\")\n",
    "\n",
    "geoYG_pH7_1 = np.genfromtxt('geoM2xy_{}.csv'.format(YG_pH7_1), delimiter =\",\")\n",
    "geoYG_pH7_2 = np.genfromtxt('geoM2xy_{}.csv'.format(YG_pH7_2), delimiter =\",\")\n",
    "geoYG_pH7_3 = np.genfromtxt('geoM2xy_{}.csv'.format(YG_pH7_3), delimiter =\",\")\n",
    "\n",
    "geoYG_pH8_1 = np.genfromtxt('geoM2xy_{}.csv'.format(YG_pH8_1), delimiter =\",\")\n",
    "geoYG_pH8_2 = np.genfromtxt('geoM2xy_{}.csv'.format(YG_pH8_2), delimiter =\",\")\n",
    "geoYG_pH8_3 = np.genfromtxt('geoM2xy_{}.csv'.format(YG_pH8_3), delimiter =\",\")\n"
   ]
  },
  {
   "cell_type": "code",
   "execution_count": 3,
   "metadata": {
    "collapsed": false
   },
   "outputs": [],
   "source": [
    "conversion = dict()\n",
    "\n",
    "conversion[1] = (0.16, 9.9, 1)\n",
    "\n",
    "frames = 120\n",
    "SD_frames = [1, 10, 20]\n",
    "frames_1 = np.linspace(0, frames, frames+1).astype(np.int64)\n",
    "time = frames_1/conversion[1][1]\n",
    "\n",
    "time_SD = np.zeros(3)\n",
    "for i in range(0, 3):\n",
    "    time_SD[i] = time[SD_frames[i]]"
   ]
  },
  {
   "cell_type": "code",
   "execution_count": 4,
   "metadata": {
    "collapsed": false
   },
   "outputs": [],
   "source": [
    "def return_average(n1, n2, n3):\n",
    "\n",
    "    f1 = np.zeros((frames, 3))\n",
    "\n",
    "    for i in range(0, frames):\n",
    "        f1[i, 0] = n1[i]\n",
    "        f1[i, 1] = n2[i]\n",
    "        f1[i, 2] = n3[i]\n",
    "\n",
    "    answer = np.mean(f1, axis=1)\n",
    "    return answer"
   ]
  },
  {
   "cell_type": "code",
   "execution_count": 5,
   "metadata": {
    "collapsed": false
   },
   "outputs": [],
   "source": [
    "geoRED_pH6 = return_average(geoRED_pH6_1, geoRED_pH6_2, geoRED_pH6_3)\n",
    "geoRED_pH7 = return_average(geoRED_pH7_1, geoRED_pH7_2, geoRED_pH7_3)\n",
    "geoRED_pH8 = return_average(geoRED_pH8_1, geoRED_pH8_2, geoRED_pH8_3)\n",
    "\n",
    "geo_err1 = np.zeros(3)\n",
    "geo_err2 = np.zeros(3)\n",
    "geo_err3 = np.zeros(3)\n",
    "\n",
    "for i in range(0,3):\n",
    "    geo_err1[i] = geoRED_pH6[SD_frames[i]]\n",
    "    geo_err2[i] = geoRED_pH7[SD_frames[i]]\n",
    "    geo_err3[i] = geoRED_pH8[SD_frames[i]]\n",
    "    \n",
    "geoYG_pH6 = return_average(geoYG_pH6_1, geoYG_pH6_2, geoYG_pH6_3)\n",
    "geoYG_pH7 = return_average(geoYG_pH7_1, geoYG_pH7_2, geoYG_pH7_3)\n",
    "geoYG_pH8 = return_average(geoYG_pH8_1, geoYG_pH8_2, geoYG_pH8_3)\n",
    "\n",
    "geo_err1a = np.zeros(3)\n",
    "geo_err2a = np.zeros(3)\n",
    "geo_err3a = np.zeros(3)\n",
    "\n",
    "for i in range(0,3):\n",
    "    geo_err1a[i] = geoYG_pH6[SD_frames[i]]\n",
    "    geo_err2a[i] = geoYG_pH7[SD_frames[i]]\n",
    "    geo_err3a[i] = geoYG_pH8[SD_frames[i]]"
   ]
  },
  {
   "cell_type": "code",
   "execution_count": 6,
   "metadata": {
    "collapsed": false
   },
   "outputs": [],
   "source": [
    "def return_SD(n1, n2, n3):\n",
    "    f1 = np.zeros((frames, 3))\n",
    "\n",
    "    for i in range(0, frames):\n",
    "        f1[i, 0] = n1[i]\n",
    "        f1[i, 1] = n2[i]\n",
    "        f1[i, 2] = n3[i]\n",
    "\n",
    "    answer1 = np.std(f1, axis=1)\n",
    "    answer = np.zeros(3)\n",
    "    for i in range(0, 3):\n",
    "        answer[i] = answer1[SD_frames[i]]\n",
    "    return answer"
   ]
  },
  {
   "cell_type": "code",
   "execution_count": 7,
   "metadata": {
    "collapsed": true
   },
   "outputs": [],
   "source": [
    "stdRED_pH6 = return_SD(geoRED_pH6_1, geoRED_pH6_2, geoRED_pH6_3)\n",
    "stdRED_pH7 = return_SD(geoRED_pH7_1, geoRED_pH7_2, geoRED_pH7_3)\n",
    "stdRED_pH8 = return_SD(geoRED_pH8_1, geoRED_pH8_2, geoRED_pH8_3)\n",
    "\n",
    "stdYG_pH6 = return_SD(geoYG_pH6_1, geoYG_pH6_2, geoYG_pH6_3)\n",
    "stdYG_pH7 = return_SD(geoYG_pH7_1, geoYG_pH7_2, geoYG_pH7_3)\n",
    "stdYG_pH8 = return_SD(geoYG_pH8_1, geoYG_pH8_2, geoYG_pH8_3)"
   ]
  },
  {
   "cell_type": "code",
   "execution_count": 8,
   "metadata": {
    "collapsed": false
   },
   "outputs": [],
   "source": [
    "#Figure parameters\n",
    "\n",
    "filename = 'RED_pH.png'\n",
    "\n",
    "frame_m = 21\n",
    "\n",
    "limit1=2.1 #x range\n",
    "tick1 = 0.5\n",
    "\n",
    "limit2=16.1 #y range\n",
    "tick2 = 4 #y ticks\n",
    "\n",
    "label=95 #label font size\n",
    "leg=40 #legend font size\n",
    "ylabel=r'MSD ($\\mu$m$^2$)'\n",
    "\n",
    "dec1=1 #decimals displayed on x axis\n",
    "dec2=0 #decimals displayed on y axis\n",
    "\n",
    "d1 = 30 #dashed line dash length\n",
    "d2 = 15 #dashed line space length\n",
    "\n",
    "wi = 10 #line width\n",
    "mi = 12 #marker size"
   ]
  },
  {
   "cell_type": "code",
   "execution_count": 9,
   "metadata": {
    "collapsed": false
   },
   "outputs": [],
   "source": [
    "# Creates figure\n",
    "fig = plt.figure(figsize=(18, 18), dpi=80)\n",
    "ax = fig.add_subplot(111)\n",
    "    # ax.set_title('Particle Trajectories', x=0.5, y=1.15)\n",
    "\n",
    "ax.plot(time[0:frame_m], geoRED_pH6[0:frame_m], 'g--', linewidth=wi, dashes=[d1,d2], label='pH6')\n",
    "ax.plot(time[0:frame_m], geoRED_pH7[0:frame_m], 'b--', linewidth=wi, dashes=[d1,d2], label='pH7')\n",
    "ax.plot(time[0:frame_m], geoRED_pH8[0:frame_m], 'r--', linewidth=wi, dashes=[d1,d2], label='pH8')\n",
    "\n",
    "ax.errorbar(time_SD, geo_err1, yerr=stdRED_pH6, fmt='', linestyle='', capsize=7, capthick=2, elinewidth=2, color='green')\n",
    "ax.errorbar(time_SD, geo_err2, yerr=stdRED_pH7, fmt='', linestyle='', capsize=7, capthick=2, elinewidth=2, color='blue')\n",
    "ax.errorbar(time_SD, geo_err3, yerr=stdRED_pH8, fmt='', linestyle='', capsize=7, capthick=2, elinewidth=2, color='red')\n",
    "\n",
    "# ax.plot(time1[1:], line1[0][1:], linewidth=wi-3, color=b2)\n",
    "# ax.plot(time1[1:], line1[1][1:], linewidth=wi-3, color=g2)\n",
    "# ax.plot(time1[1:], line1[2][1:], linewidth=wi-3, color=r2)\n",
    "    \n",
    "# A few adjustments to prettify the graph\n",
    "for item in ([ax.xaxis.label, ax.yaxis.label] +\n",
    "             ax.get_xticklabels() + ax.get_yticklabels()):\n",
    "    item.set_fontsize(70)\n",
    "\n",
    "xmajor_ticks = np.arange(0, limit1, tick1)\n",
    "ymajor_ticks = np.arange(0, limit2, tick2)\n",
    "\n",
    "ax.set_xticks(xmajor_ticks)\n",
    "ax.set_yticks(ymajor_ticks)\n",
    "ax.title.set_fontsize(70)\n",
    "ax.set_xlabel('Time (s)', fontsize=label)\n",
    "ax.set_ylabel(ylabel, fontsize=label)\n",
    "ax.tick_params(direction='out', pad=16)\n",
    "ax.legend(loc=(0.02, 0.80), prop={'size': leg})\n",
    "plt.gca().xaxis.set_major_formatter(mpl.ticker.FormatStrFormatter('%.{}f'.format(dec1)))\n",
    "plt.gca().yaxis.set_major_formatter(mpl.ticker.FormatStrFormatter('%.{}f'.format(dec2)))\n",
    "\n",
    "\n",
    "# plt.yscale('log')\n",
    "# plt.xscale('log')\n",
    "plt.gca().set_xlim([0, limit1])\n",
    "plt.gca().set_ylim([0.00001, limit2])\n",
    "\n",
    "# Save your figure\n",
    "plt.savefig('{}'.format(filename), bbox_inches='tight')\n",
    "plt.show()"
   ]
  },
  {
   "cell_type": "code",
   "execution_count": 10,
   "metadata": {
    "collapsed": true
   },
   "outputs": [],
   "source": [
    "#Figure parameters\n",
    "\n",
    "filename = 'YG_pH.png'\n",
    "\n",
    "frame_m = 21\n",
    "\n",
    "limit1=2.1 #x range\n",
    "tick1 = 0.5\n",
    "\n",
    "limit2=120.1 #y range\n",
    "tick2 = 30 #y ticks\n",
    "\n",
    "label=95 #label font size\n",
    "leg=40 #legend font size\n",
    "ylabel=r'MSD ($\\mu$m$^2$)'\n",
    "\n",
    "dec1=1 #decimals displayed on x axis\n",
    "dec2=0 #decimals displayed on y axis\n",
    "\n",
    "d1 = 30 #dashed line dash length\n",
    "d2 = 15 #dashed line space length\n",
    "\n",
    "wi = 10 #line width\n",
    "mi = 12 #marker size"
   ]
  },
  {
   "cell_type": "code",
   "execution_count": 11,
   "metadata": {
    "collapsed": true
   },
   "outputs": [],
   "source": [
    "# Creates figure\n",
    "fig = plt.figure(figsize=(18, 18), dpi=80)\n",
    "ax = fig.add_subplot(111)\n",
    "    # ax.set_title('Particle Trajectories', x=0.5, y=1.15)\n",
    "\n",
    "ax.plot(time[0:frame_m], geoYG_pH6[0:frame_m], 'g--', linewidth=wi, dashes=[d1,d2], label='pH6')\n",
    "ax.plot(time[0:frame_m], geoYG_pH7[0:frame_m], 'b--', linewidth=wi, dashes=[d1,d2], label='pH7')\n",
    "ax.plot(time[0:frame_m], geoYG_pH8[0:frame_m], 'r--', linewidth=wi, dashes=[d1,d2], label='pH8')\n",
    "\n",
    "ax.errorbar(time_SD, geo_err1a, yerr=stdYG_pH6, fmt='', linestyle='', capsize=7, capthick=2, elinewidth=2, color='green')\n",
    "ax.errorbar(time_SD, geo_err2a, yerr=stdYG_pH7, fmt='', linestyle='', capsize=7, capthick=2, elinewidth=2, color='blue')\n",
    "ax.errorbar(time_SD, geo_err3a, yerr=stdYG_pH8, fmt='', linestyle='', capsize=7, capthick=2, elinewidth=2, color='red')\n",
    "\n",
    "# ax.plot(time1[1:], line1[0][1:], linewidth=wi-3, color=b2)\n",
    "# ax.plot(time1[1:], line1[1][1:], linewidth=wi-3, color=g2)\n",
    "# ax.plot(time1[1:], line1[2][1:], linewidth=wi-3, color=r2)\n",
    "    \n",
    "# A few adjustments to prettify the graph\n",
    "for item in ([ax.xaxis.label, ax.yaxis.label] +\n",
    "             ax.get_xticklabels() + ax.get_yticklabels()):\n",
    "    item.set_fontsize(70)\n",
    "\n",
    "xmajor_ticks = np.arange(0, limit1, tick1)\n",
    "ymajor_ticks = np.arange(0, limit2, tick2)\n",
    "\n",
    "ax.set_xticks(xmajor_ticks)\n",
    "ax.set_yticks(ymajor_ticks)\n",
    "ax.title.set_fontsize(70)\n",
    "ax.set_xlabel('Time (s)', fontsize=label)\n",
    "ax.set_ylabel(ylabel, fontsize=label)\n",
    "ax.tick_params(direction='out', pad=16)\n",
    "ax.legend(loc=(0.02, 0.80), prop={'size': leg})\n",
    "plt.gca().xaxis.set_major_formatter(mpl.ticker.FormatStrFormatter('%.{}f'.format(dec1)))\n",
    "plt.gca().yaxis.set_major_formatter(mpl.ticker.FormatStrFormatter('%.{}f'.format(dec2)))\n",
    "\n",
    "\n",
    "# plt.yscale('log')\n",
    "# plt.xscale('log')\n",
    "plt.gca().set_xlim([0, limit1])\n",
    "plt.gca().set_ylim([0.00001, limit2])\n",
    "\n",
    "# Save your figure\n",
    "plt.savefig('{}'.format(filename), bbox_inches='tight')\n",
    "plt.show()"
   ]
  },
  {
   "cell_type": "code",
   "execution_count": null,
   "metadata": {
    "collapsed": true
   },
   "outputs": [],
   "source": [
    "#Repeat for x data\n",
    "\n",
    "xgeoRED_pH6_1 = np.genfromtxt('geoM1x_{}.csv'.format(RED_pH6_1), delimiter =\",\")\n",
    "xgeoRED_pH6_2 = np.genfromtxt('geoM1x_{}.csv'.format(RED_pH6_2), delimiter =\",\")\n",
    "xgeoRED_pH6_3 = np.genfromtxt('geoM1x_{}.csv'.format(RED_pH6_3), delimiter =\",\")\n",
    "\n",
    "xgeoRED_pH7_1 = np.genfromtxt('geoM1x_{}.csv'.format(RED_pH7_1), delimiter =\",\")\n",
    "xgeoRED_pH7_2 = np.genfromtxt('geoM1x_{}.csv'.format(RED_pH7_2), delimiter =\",\")\n",
    "xgeoRED_pH7_3 = np.genfromtxt('geoM1x_{}.csv'.format(RED_pH7_3), delimiter =\",\")\n",
    "\n",
    "xgeoRED_pH8_1 = np.genfromtxt('geoM1x_{}.csv'.format(RED_pH8_1), delimiter =\",\")\n",
    "xgeoRED_pH8_2 = np.genfromtxt('geoM1x_{}.csv'.format(RED_pH8_2), delimiter =\",\")\n",
    "xgeoRED_pH8_3 = np.genfromtxt('geoM1x_{}.csv'.format(RED_pH8_3), delimiter =\",\")\n",
    "\n",
    "xgeoYG_pH6_1 = np.genfromtxt('geoM1x_{}.csv'.format(YG_pH6_1), delimiter =\",\")\n",
    "xgeoYG_pH6_2 = np.genfromtxt('geoM1x_{}.csv'.format(YG_pH6_2), delimiter =\",\")\n",
    "xgeoYG_pH6_3 = np.genfromtxt('geoM1x_{}.csv'.format(YG_pH6_3), delimiter =\",\")\n",
    "\n",
    "xgeoYG_pH7_1 = np.genfromtxt('geoM1x_{}.csv'.format(YG_pH7_1), delimiter =\",\")\n",
    "xgeoYG_pH7_2 = np.genfromtxt('geoM1x_{}.csv'.format(YG_pH7_2), delimiter =\",\")\n",
    "xgeoYG_pH7_3 = np.genfromtxt('geoM1x_{}.csv'.format(YG_pH7_3), delimiter =\",\")\n",
    "\n",
    "xgeoYG_pH8_1 = np.genfromtxt('geoM1x_{}.csv'.format(YG_pH8_1), delimiter =\",\")\n",
    "xgeoYG_pH8_2 = np.genfromtxt('geoM1x_{}.csv'.format(YG_pH8_2), delimiter =\",\")\n",
    "xgeoYG_pH8_3 = np.genfromtxt('geoM1x_{}.csv'.format(YG_pH8_3), delimiter =\",\")"
   ]
  },
  {
   "cell_type": "code",
   "execution_count": null,
   "metadata": {
    "collapsed": true
   },
   "outputs": [],
   "source": [
    "#Repeat for x data\n",
    "\n",
    "ygeoRED_pH6_1 = np.genfromtxt('geoM1y_{}.csv'.format(RED_pH6_1), delimiter =\",\")\n",
    "ygeoRED_pH6_2 = np.genfromtxt('geoM1y_{}.csv'.format(RED_pH6_2), delimiter =\",\")\n",
    "ygeoRED_pH6_3 = np.genfromtxt('geoM1y_{}.csv'.format(RED_pH6_3), delimiter =\",\")\n",
    "\n",
    "ygeoRED_pH7_1 = np.genfromtxt('geoM1y_{}.csv'.format(RED_pH7_1), delimiter =\",\")\n",
    "ygeoRED_pH7_2 = np.genfromtxt('geoM1y_{}.csv'.format(RED_pH7_2), delimiter =\",\")\n",
    "ygeoRED_pH7_3 = np.genfromtxt('geoM1y_{}.csv'.format(RED_pH7_3), delimiter =\",\")\n",
    "\n",
    "ygeoRED_pH8_1 = np.genfromtxt('geoM1y_{}.csv'.format(RED_pH8_1), delimiter =\",\")\n",
    "ygeoRED_pH8_2 = np.genfromtxt('geoM1y_{}.csv'.format(RED_pH8_2), delimiter =\",\")\n",
    "ygeoRED_pH8_3 = np.genfromtxt('geoM1y_{}.csv'.format(RED_pH8_3), delimiter =\",\")\n",
    "\n",
    "ygeoYG_pH6_1 = np.genfromtxt('geoM1y_{}.csv'.format(YG_pH6_1), delimiter =\",\")\n",
    "ygeoYG_pH6_2 = np.genfromtxt('geoM1y_{}.csv'.format(YG_pH6_2), delimiter =\",\")\n",
    "ygeoYG_pH6_3 = np.genfromtxt('geoM1y_{}.csv'.format(YG_pH6_3), delimiter =\",\")\n",
    "\n",
    "ygeoYG_pH7_1 = np.genfromtxt('geoM1y_{}.csv'.format(YG_pH7_1), delimiter =\",\")\n",
    "ygeoYG_pH7_2 = np.genfromtxt('geoM1y_{}.csv'.format(YG_pH7_2), delimiter =\",\")\n",
    "ygeoYG_pH7_3 = np.genfromtxt('geoM1y_{}.csv'.format(YG_pH7_3), delimiter =\",\")\n",
    "\n",
    "ygeoYG_pH8_1 = np.genfromtxt('geoM1y_{}.csv'.format(YG_pH8_1), delimiter =\",\")\n",
    "ygeoYG_pH8_2 = np.genfromtxt('geoM1y_{}.csv'.format(YG_pH8_2), delimiter =\",\")\n",
    "ygeoYG_pH8_3 = np.genfromtxt('geoM1y_{}.csv'.format(YG_pH8_3), delimiter =\",\")"
   ]
  },
  {
   "cell_type": "code",
   "execution_count": null,
   "metadata": {
    "collapsed": true
   },
   "outputs": [],
   "source": [
    "#Linear algebra to find Deff:\n",
    "geoM2xy = geoYG_pH8_3\n",
    "geoM1x = xgeoYG_pH8_3\n",
    "geoM1y = ygeoYG_pH8_3\n",
    "\n",
    "w = dict()\n",
    "residuals = dict()\n",
    "line = dict()\n",
    "A1 = np.ones((np.shape(time[1:frame_m])[0], 2))\n",
    "A1[:, 0] = time[1:frame_m]\n",
    "\n",
    "w[0], residuals[0] = np.linalg.lstsq(A1[:, :], geoM2xy[1:frame_m])[0:2]\n",
    "w[1], residuals[1] = np.linalg.lstsq(A1[:, :], geoM1x[1:frame_m])[0:2]\n",
    "w[2], residuals[2] = np.linalg.lstsq(A1[:, :], geoM1y[1:frame_m])[0:2]\n",
    "\n",
    "\n",
    "line[0] = w[0][0]*time + w[0][1]"
   ]
  },
  {
   "cell_type": "code",
   "execution_count": null,
   "metadata": {
    "collapsed": false
   },
   "outputs": [],
   "source": [
    "print('2D Diffusion Coeff (um^2/s):', np.round(w[0][0]/4, 5), 'geoM2xy')\n",
    "print('1Dx Diffusion Coeff (um^2/s):', np.round(w[1][0]/2, 5), 'geoM1x')\n",
    "print('1Dy Diffusion Coeff (um^2/s):', np.round(w[2][0]/2, 5), 'geoM1y')"
   ]
  },
  {
   "cell_type": "code",
   "execution_count": null,
   "metadata": {
    "collapsed": true
   },
   "outputs": [],
   "source": []
  }
 ],
 "metadata": {
  "kernelspec": {
   "display_name": "Python 3",
   "language": "python",
   "name": "python3"
  },
  "language_info": {
   "codemirror_mode": {
    "name": "ipython",
    "version": 3
   },
   "file_extension": ".py",
   "mimetype": "text/x-python",
   "name": "python",
   "nbconvert_exporter": "python",
   "pygments_lexer": "ipython3",
   "version": "3.5.3"
  }
 },
 "nbformat": 4,
 "nbformat_minor": 0
}
