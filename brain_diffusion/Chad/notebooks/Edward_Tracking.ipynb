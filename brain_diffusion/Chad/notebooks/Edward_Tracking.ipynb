{
 "cells": [
  {
   "cell_type": "code",
   "execution_count": 1,
   "metadata": {
    "collapsed": true
   },
   "outputs": [],
   "source": [
    "import matplotlib as mpl\n",
    "import matplotlib.pyplot as plt\n",
    "import scipy.optimize as opt\n",
    "from mpl_toolkits.mplot3d import Axes3D\n",
    "from trajectory_visualization import plot_trajectory, sidebyside, shift_trajectory, overlay, shift_trajectory3D\n",
    "from trajectory_visualization import plot_trajectories3D, plot_3Doverlay, plot_MSDorDeff, plot_MeanMSDorDeff, randtraj, multrandtraj\n",
    "from trajectory_visualization import randtraj2, plot_Mean2DMSDsorDeff, plot_MSDorDeffLR, LRfor3D2D, fillin, prettify\n",
    "from operator import itemgetter\n",
    "from random_traj import randaniso, randconv, multrandaniso, multrandconv, randsamp, multrandsamp, randall, multrandall\n",
    "from random_traj import randanisorot, multrandanisorot\n",
    "from ellipsoid import maxtraj, mvee, plot_mvee, plot_mveeoverl, rotmat, rotmat2, plot_mveeoverl2\n",
    "from ellipsoid import ellipsax, MSDS, andiff, plot_anisoMSDS, plot_anisodiff\n",
    "import random\n",
    "import numpy as np\n",
    "import numpy.linalg as la\n",
    "from mpl_toolkits.mplot3d import Axes3D\n",
    "from ellipsoid import extrema, enclosed_MSD\n",
    "\n",
    "pi = np.pi\n",
    "sin = np.sin\n",
    "cos = np.cos"
   ]
  },
  {
   "cell_type": "code",
   "execution_count": 2,
   "metadata": {
    "collapsed": false
   },
   "outputs": [],
   "source": [
    "# Type in datasets you would like to combine.  Adjust totvids to reflect the total number of videos. Also type in the\n",
    "# umppx and fps in the conversion dictionary.\n",
    "\n",
    "conversion = dict() #First element is the umppx, second is fps\n",
    "\n",
    "conversion[1] = (0.16, 7.89)\n",
    "conversion[2] = (0.16, 7.89)\n",
    "conversion[3] = (0.16, 7.89)\n",
    "\n",
    "trajectory = dict()\n",
    "\n",
    "trajectory[1] = np.genfromtxt('../sample_data/2DVideo_1.csv',\n",
    "            delimiter =\",\")\n",
    "trajectory[2] = np.genfromtxt('../sample_data/2DVideo_2.csv',\n",
    "            delimiter =\",\")\n",
    "trajectory[3] = np.genfromtxt('../sample_data/2DVideo_3.csv',\n",
    "            delimiter =\",\")\n",
    "\n",
    "totvids = 3\n",
    "\n",
    "for num in range(1, totvids + 1):\n",
    "    \n",
    "    #Remove titles from columns\n",
    "    #trajectory[num]=np.delete(trajectory[num], 0,0)\n",
    "    #Remove the number column from dataset\n",
    "    trajectory[num]=np.delete(trajectory[num],0,1)"
   ]
  },
  {
   "cell_type": "code",
   "execution_count": 3,
   "metadata": {
    "collapsed": false
   },
   "outputs": [],
   "source": [
    "final = dict()\n",
    "tots = dict()\n",
    "\n",
    "for num in range(1, totvids + 1):\n",
    "    (final[num], tots[num]) = prettify(trajectory[num], 30, 30, conversion[num][0], conversion[num][1])\n",
    "    "
   ]
  },
  {
   "cell_type": "code",
   "execution_count": 4,
   "metadata": {
    "collapsed": false
   },
   "outputs": [],
   "source": [
    "parts = dict()\n",
    "lehi = dict()\n",
    "\n",
    "for num in range(1, totvids + 1):\n",
    "    parts[num] = tots[num]\n",
    "    lehi[num] = final[num][1]\n",
    "    counter = 1\n",
    "\n",
    "    while counter < parts[num]:\n",
    "        counter = counter + 1\n",
    "        lehi[num] = np.append(lehi[num], final[num][counter], axis=0)\n",
    "\n",
    "for num in range(2, totvids + 1):\n",
    "    lehi[num][:,0] = lehi[num][:,0] + max(lehi[num-1][:, 0])        \n",
    "        \n",
    "nephi = lehi[1]\n",
    "counter = 1\n",
    "\n",
    "while counter < totvids:\n",
    "    counter = counter + 1\n",
    "    nephi = np.append(nephi, lehi[counter], axis=0)"
   ]
  },
  {
   "cell_type": "code",
   "execution_count": null,
   "metadata": {
    "collapsed": true
   },
   "outputs": [],
   "source": [
    "# Now for a plotting function, as modified from Testing_Tracking_Software\n",
    "\n",
    "# Creates an array 'particles' that contains the particle number at each frame.\n",
    "particles = nephi[:, 0]\n",
    "position = nephi[:, 5:5+4]\n",
    "total = int(max(particles))\n",
    "total1 = total + 1\n",
    "path = dict()\n",
    "\n",
    "# Creates an array for each trajectory containing all xyz data\n",
    "for num in range(1, total1):\n",
    "\n",
    "    hold = np.where(particles == num)\n",
    "    itindex = hold[0]\n",
    "    min1 = min(itindex)\n",
    "    max1 = max(itindex)\n",
    "    path[num] = (position[min1:max1, :])\n",
    "\n",
    "# Creates figure\n",
    "fig = plt.figure(figsize=(24, 18), dpi=80)\n",
    "ax = fig.add_subplot(111)\n",
    "# ax.set_title('Particle Trajectories', x=0.5, y=1.15)\n",
    "\n",
    "# Plots individual trajectories\n",
    "for num in range(1, total1):\n",
    "\n",
    "    ax.plot(path[num][:, 0], path[num][:, 1], label='Particle {}'.format(num), linewidth=5)\n",
    "\n",
    "axbox = ax.get_position()\n",
    "\n",
    "legunit = max(nephi[:,0])\n",
    "#ax.legend(loc=(0.85, 0.96-0.0273*legunit), prop={'size': 20})\n",
    "ax.locator_params(nbins=6)\n",
    "\n",
    "# A few adjustments to prettify the graph\n",
    "for item in ([ax.xaxis.label, ax.yaxis.label] +\n",
    "             ax.get_xticklabels() + ax.get_yticklabels()):\n",
    "    item.set_fontsize(20)\n",
    "\n",
    "ax.title.set_fontsize(35)\n",
    "ax.tick_params(direction='out', pad=3)\n",
    "plt.gca().xaxis.set_major_formatter(mpl.ticker.FormatStrFormatter('%.{}f um'.format(1)))\n",
    "plt.gca().yaxis.set_major_formatter(mpl.ticker.FormatStrFormatter('%.{}f um'.format(1)))\n",
    "\n",
    "dim = 2\n",
    "plt.gca().set_xlim([-dim, dim])\n",
    "plt.gca().set_ylim([-dim, dim])\n",
    "\n",
    "# Save your figure\n",
    "plt.savefig('{}.png'.format('Edward_trajectories'), bbox_inches='tight')\n",
    "\n",
    "plt.show()"
   ]
  },
  {
   "cell_type": "code",
   "execution_count": 23,
   "metadata": {
    "collapsed": false
   },
   "outputs": [
    {
     "data": {
      "text/plain": [
       "array([  1.,   1.,   1., ...,  86.,  86.,  86.])"
      ]
     },
     "execution_count": 23,
     "metadata": {},
     "output_type": "execute_result"
    }
   ],
   "source": [
    "nephi[:, 0]"
   ]
  },
  {
   "cell_type": "code",
   "execution_count": 6,
   "metadata": {
    "collapsed": true
   },
   "outputs": [],
   "source": [
    "def plot_Mean1DMSDsorDeff(traj, n1, n2, n3, dec1, dec2, datatype, filename, limit1, limit2, tick1, tick2):\n",
    "    \"\"\"\n",
    "    Plots the MSDs or Deffs from a trajectory dataset.\n",
    "\n",
    "    n1: particle numbers (typically 0)\n",
    "    n2: time (typically 1)\n",
    "    n3: MSDs or Deffs (11 or 15 typically)\n",
    "    \"\"\"\n",
    "\n",
    "    # Creates an array 'particles' that contains the particle number at each frame.\n",
    "    particles = traj[:, n1]\n",
    "    total = int(max(particles))\n",
    "    total1 = total + 1\n",
    "    rawtime = traj[:, n2]\n",
    "    bow = traj.shape[0]\n",
    "    raw2DMSDs = np.zeros((bow, 4))\n",
    "    raw2DMSDs[:, 0] = traj[:, n3]\n",
    "    raw2DMSDs[:, 1:4] = traj[:, n3 + 3:n3 + 6]\n",
    "    MSD = dict()\n",
    "    time = dict()\n",
    "\n",
    "    # Creates an array for each trajectory containing all xyz data\n",
    "    for num in range(1, total1):\n",
    "\n",
    "        hold = np.where(particles == num)\n",
    "        itindex = hold[0]\n",
    "        min1 = min(itindex)\n",
    "        max1 = max(itindex)\n",
    "        MSD[num] = (raw2DMSDs[min1+2:max1, :])\n",
    "        time[num] = (rawtime[min1+2:max1])\n",
    "\n",
    "    MMSD = MSD[1]\n",
    "    for num in range(2, total1):\n",
    "        MMSD = MMSD + MSD[num]\n",
    "    MMSD = MMSD/total1\n",
    "\n",
    "    # Creates figure\n",
    "    fig = plt.figure(figsize=(24, 18), dpi=80)\n",
    "    ax = fig.add_subplot(111)\n",
    "    # ax.set_title('Particle Trajectories', x=0.5, y=1.15)\n",
    "\n",
    "    ax.plot(time[1][:], MMSD[:, 0], linewidth=10, label='2D')\n",
    "    ax.plot(time[1][:], MMSD[:, 1], linewidth=10, label='1D x')\n",
    "    ax.plot(time[1][:], MMSD[:, 2], linewidth=10, label='1D y')\n",
    "\n",
    "    # A few adjustments to prettify the graph\n",
    "    for item in ([ax.xaxis.label, ax.yaxis.label] +\n",
    "                 ax.get_xticklabels() + ax.get_yticklabels()):\n",
    "        item.set_fontsize(70)\n",
    "\n",
    "    xmajor_ticks = np.arange(0, limit1, tick1)\n",
    "    ymajor_ticks = np.arange(0, limit2, tick2)\n",
    "\n",
    "    ax.set_xticks(xmajor_ticks)\n",
    "    ax.set_yticks(ymajor_ticks)\n",
    "    ax.title.set_fontsize(70)\n",
    "    ax.set_xlabel('Time (s)', fontsize=95)\n",
    "    ax.set_ylabel(datatype, fontsize=95)\n",
    "    ax.tick_params(direction='out', pad=16)\n",
    "    ax.legend(loc=(0.65, 0.05), prop={'size': 70})\n",
    "    plt.gca().xaxis.set_major_formatter(mpl.ticker.FormatStrFormatter('%.{}f'.format(dec1)))\n",
    "    plt.gca().yaxis.set_major_formatter(mpl.ticker.FormatStrFormatter('%.{}f'.format(dec2)))\n",
    "\n",
    "    plt.gca().set_xlim([0, limit1])\n",
    "    plt.gca().set_ylim([0, limit2])\n",
    "\n",
    "    # Save your figure\n",
    "    plt.savefig('{}.png'.format(filename), bbox_inches='tight')\n",
    "    return MMSD"
   ]
  },
  {
   "cell_type": "code",
   "execution_count": 16,
   "metadata": {
    "collapsed": true
   },
   "outputs": [],
   "source": [
    "one1 = plot_Mean1DMSDsorDeff(nephi, 0, 15, 9, 0, 2, 'MSD (um^2)', 'Edward_MSD_1', 4, 0.16, 1, 0.03)\n",
    "plt.show()"
   ]
  },
  {
   "cell_type": "code",
   "execution_count": 17,
   "metadata": {
    "collapsed": true
   },
   "outputs": [],
   "source": [
    "one2 = plot_Mean1DMSDsorDeff(nephi, 0, 15, 17, 0, 2, 'Deff (um^2/s)', 'Edward_Deff_1', 4, 0.031, 1, 0.01)\n",
    "plt.show()"
   ]
  },
  {
   "cell_type": "code",
   "execution_count": 18,
   "metadata": {
    "collapsed": false
   },
   "outputs": [
    {
     "data": {
      "text/plain": [
       "array([[ 0.01137818,  0.00947728,  0.01327908,  0.        ],\n",
       "       [ 0.01509228,  0.01042011,  0.01976445,  0.        ],\n",
       "       [ 0.02397458,  0.02694949,  0.02099967,  0.        ],\n",
       "       [ 0.01890184,  0.02000005,  0.01780363,  0.        ],\n",
       "       [ 0.01688218,  0.01802938,  0.01573498,  0.        ],\n",
       "       [ 0.01713554,  0.01803254,  0.01623854,  0.        ],\n",
       "       [ 0.01547482,  0.01560101,  0.01534863,  0.        ],\n",
       "       [ 0.01483042,  0.01483705,  0.01482379,  0.        ],\n",
       "       [ 0.01522841,  0.01528013,  0.0151767 ,  0.        ],\n",
       "       [ 0.01461841,  0.01450827,  0.01472854,  0.        ],\n",
       "       [ 0.01465201,  0.01376033,  0.0155437 ,  0.        ],\n",
       "       [ 0.0151866 ,  0.01472842,  0.01564478,  0.        ],\n",
       "       [ 0.01403778,  0.01331406,  0.01476149,  0.        ],\n",
       "       [ 0.01324656,  0.01303787,  0.01345524,  0.        ],\n",
       "       [ 0.01392855,  0.01354696,  0.01431014,  0.        ],\n",
       "       [ 0.01290633,  0.01250327,  0.0133094 ,  0.        ],\n",
       "       [ 0.013049  ,  0.01211282,  0.01398518,  0.        ],\n",
       "       [ 0.01254664,  0.01198535,  0.01310793,  0.        ],\n",
       "       [ 0.01180245,  0.01161461,  0.01199029,  0.        ],\n",
       "       [ 0.01176461,  0.01132387,  0.01220536,  0.        ],\n",
       "       [ 0.01153582,  0.01125144,  0.0118202 ,  0.        ],\n",
       "       [ 0.01120396,  0.01121426,  0.01119367,  0.        ],\n",
       "       [ 0.01062322,  0.01043932,  0.01080712,  0.        ],\n",
       "       [ 0.01108229,  0.01065627,  0.01150832,  0.        ],\n",
       "       [ 0.01101858,  0.00998626,  0.0120509 ,  0.        ],\n",
       "       [ 0.0105339 ,  0.01012447,  0.01094333,  0.        ],\n",
       "       [ 0.01127217,  0.01080951,  0.01173483,  0.        ]])"
      ]
     },
     "execution_count": 18,
     "metadata": {},
     "output_type": "execute_result"
    }
   ],
   "source": [
    "#This cell gives the user the ability to find the calculated Deff at whatever time they need (1s preferably)\n",
    "\n",
    "one2"
   ]
  },
  {
   "cell_type": "code",
   "execution_count": 24,
   "metadata": {
    "collapsed": false
   },
   "outputs": [
    {
     "data": {
      "text/plain": [
       "array([  1.26742712e-01,   2.53485425e-01,   3.80228137e-01,\n",
       "         5.06970849e-01,   6.33713561e-01,   7.60456274e-01,\n",
       "         8.87198986e-01,   1.01394170e+00,   1.14068441e+00,\n",
       "         1.26742712e+00,   1.39416984e+00,   1.52091255e+00,\n",
       "         1.64765526e+00,   1.77439797e+00,   1.90114068e+00,\n",
       "         2.02788340e+00,   2.15462611e+00,   2.28136882e+00,\n",
       "         2.40811153e+00,   2.53485425e+00,   2.66159696e+00,\n",
       "         2.78833967e+00,   2.91508238e+00,   3.04182510e+00,\n",
       "         3.16856781e+00,   3.29531052e+00,   3.42205323e+00,\n",
       "         3.54879594e+00,   3.67553866e+00,   1.00000000e-10,\n",
       "         1.26742712e-01,   2.53485425e-01,   3.80228137e-01,\n",
       "         5.06970849e-01,   6.33713561e-01,   7.60456274e-01,\n",
       "         8.87198986e-01,   1.01394170e+00,   1.14068441e+00,\n",
       "         1.26742712e+00,   1.39416984e+00,   1.52091255e+00,\n",
       "         1.64765526e+00,   1.77439797e+00,   1.90114068e+00,\n",
       "         2.02788340e+00,   2.15462611e+00,   2.28136882e+00,\n",
       "         2.40811153e+00,   2.53485425e+00,   2.66159696e+00,\n",
       "         2.78833967e+00,   2.91508238e+00,   3.04182510e+00,\n",
       "         3.16856781e+00,   3.29531052e+00,   3.42205323e+00,\n",
       "         3.54879594e+00,   3.67553866e+00,   1.00000000e-10,\n",
       "         1.26742712e-01,   2.53485425e-01,   3.80228137e-01,\n",
       "         5.06970849e-01,   6.33713561e-01,   7.60456274e-01,\n",
       "         8.87198986e-01,   1.01394170e+00,   1.14068441e+00,\n",
       "         1.26742712e+00,   1.39416984e+00,   1.52091255e+00,\n",
       "         1.64765526e+00,   1.77439797e+00,   1.90114068e+00,\n",
       "         2.02788340e+00,   2.15462611e+00,   2.28136882e+00,\n",
       "         2.40811153e+00,   2.53485425e+00,   2.66159696e+00,\n",
       "         2.78833967e+00,   2.91508238e+00,   3.04182510e+00,\n",
       "         3.16856781e+00,   3.29531052e+00,   3.42205323e+00,\n",
       "         3.54879594e+00,   3.67553866e+00,   1.00000000e-10,\n",
       "         1.26742712e-01,   2.53485425e-01,   3.80228137e-01,\n",
       "         5.06970849e-01,   6.33713561e-01,   7.60456274e-01,\n",
       "         8.87198986e-01,   1.01394170e+00,   1.14068441e+00])"
      ]
     },
     "execution_count": 24,
     "metadata": {},
     "output_type": "execute_result"
    }
   ],
   "source": [
    "#My one1 matrix doesn't contain time data, so I need to find the timepoint that corresponds to the above MSD data.\n",
    "\n",
    "nephi[1:100:, 15]"
   ]
  },
  {
   "cell_type": "code",
   "execution_count": null,
   "metadata": {
    "collapsed": true
   },
   "outputs": [],
   "source": []
  }
 ],
 "metadata": {
  "kernelspec": {
   "display_name": "Python 3",
   "language": "python",
   "name": "python3"
  },
  "language_info": {
   "codemirror_mode": {
    "name": "ipython",
    "version": 3
   },
   "file_extension": ".py",
   "mimetype": "text/x-python",
   "name": "python",
   "nbconvert_exporter": "python",
   "pygments_lexer": "ipython3",
   "version": "3.5.1"
  }
 },
 "nbformat": 4,
 "nbformat_minor": 0
}
