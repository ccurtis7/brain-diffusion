{
 "cells": [
  {
   "cell_type": "code",
   "execution_count": 1,
   "metadata": {
    "collapsed": true
   },
   "outputs": [],
   "source": [
    "import matplotlib as mpl\n",
    "import matplotlib.pyplot as plt\n",
    "import scipy.optimize as opt\n",
    "from mpl_toolkits.mplot3d import Axes3D\n",
    "from trajectory_visualization import plot_trajectory, sidebyside, shift_trajectory, overlay, shift_trajectory3D\n",
    "from trajectory_visualization import plot_trajectories3D, plot_3Doverlay, plot_MSDorDeff, plot_MeanMSDorDeff, randtraj, multrandtraj\n",
    "from trajectory_visualization import randtraj2, plot_Mean2DMSDsorDeff, plot_MSDorDeffLR, LRfor3D2D\n",
    "from operator import itemgetter\n",
    "from random_traj import randaniso, randconv, multrandaniso, multrandconv, randsamp, multrandsamp, randall, multrandall\n",
    "from random_traj import randanisorot, multrandanisorot\n",
    "from ellipsoid import maxtraj, mvee, plot_mvee, plot_mveeoverl, rotmat, rotmat2, plot_mveeoverl2\n",
    "from ellipsoid import ellipsax, MSDS, andiff, plot_anisoMSDS, plot_anisodiff\n",
    "import random\n",
    "import numpy as np\n",
    "import numpy.linalg as la\n",
    "from mpl_toolkits.mplot3d import Axes3D\n",
    "from ellipsoid import extrema, enclosed_MSD\n",
    "\n",
    "pi = np.pi\n",
    "sin = np.sin\n",
    "cos = np.cos"
   ]
  },
  {
   "cell_type": "code",
   "execution_count": 23,
   "metadata": {
    "collapsed": false
   },
   "outputs": [],
   "source": [
    "trajectory = np.genfromtxt('../sample_data/Slice2_2DVideo_4_22.csv',\n",
    "            delimiter =\",\")\n",
    "\n",
    "#Remove titles from columns\n",
    "trajectory=np.delete(trajectory, 0,0)\n",
    "#Remove the number column from dataset\n",
    "trajectory=np.delete(trajectory,0,1)"
   ]
  },
  {
   "cell_type": "code",
   "execution_count": 24,
   "metadata": {
    "collapsed": false
   },
   "outputs": [
    {
     "data": {
      "text/plain": [
       "'\\nOutput:\\n0 particle number\\n1 frames\\n2 x coordinate\\n3 y coordinate\\n4 z coordinate\\n5 centered x coordinate\\n6 centered y coordinate\\n7 centered z coordinate\\n8 3D MSD \\n9 2D xy MSD\\n10 2D xz MSD\\n11 2D yz MSD\\n12 1D x MSD\\n13 1D y MSD\\n14 1D z MSD\\n15 time\\n16 3D Deff\\n17 2D xy Deff\\n18 2D xz Deff\\n19 2D yz Deff\\n20 1D x Deff\\n21 1D y Deff\\n22 1D z Deff\\n'"
      ]
     },
     "execution_count": 24,
     "metadata": {},
     "output_type": "execute_result"
    }
   ],
   "source": [
    "    \"\"\"\n",
    "    Output:\n",
    "    0 particle number\n",
    "    1 frames\n",
    "    2 x coordinate\n",
    "    3 y coordinate\n",
    "    4 z coordinate\n",
    "    5 centered x coordinate\n",
    "    6 centered y coordinate\n",
    "    7 centered z coordinate\n",
    "    8 3D MSD \n",
    "    9 2D xy MSD\n",
    "    10 2D xz MSD\n",
    "    11 2D yz MSD\n",
    "    12 1D x MSD\n",
    "    13 1D y MSD\n",
    "    14 1D z MSD\n",
    "    15 time\n",
    "    16 3D Deff\n",
    "    17 2D xy Deff\n",
    "    18 2D xz Deff\n",
    "    19 2D yz Deff\n",
    "    20 1D x Deff\n",
    "    21 1D y Deff\n",
    "    22 1D z Deff\n",
    "    \"\"\""
   ]
  },
  {
   "cell_type": "code",
   "execution_count": 25,
   "metadata": {
    "collapsed": false
   },
   "outputs": [
    {
     "data": {
      "text/plain": [
       "'\\n# Creating a function to fill in blanks\\nx = dict()\\ny = dict()\\nz = dict()\\n\\nxc = dict()\\nyc = dict()\\nzc = dict()\\n\\nparticles = ttraject[:, 0]\\ntotal = int(max(particles))\\ntotal1 = total + 1\\nrawx = ttraject[:, 5]\\nrawy = ttraject[:, 6]\\nrawz = ttraject[:, 7]\\n\\n# Creates an array for each trajectory containing all xyz data\\nfor num in range(1, total1):\\n\\n    hold = np.where(particles == num)\\n    itindex = hold[0]\\n    min1 = min(itindex)\\n    max1 = max(itindex)\\n    x[num] = (rawx[min1:max1])\\n    y[num] = (rawy[min1:max1])\\n    z[num] = (rawz[min1:max1])\\n    \\n    xc[num] = x[num] - ((max(x[num])+min(x[num]))/2)\\n    yc[num] = y[num] - ((max(y[num])+min(y[num]))/2)\\n    zc[num] = z[num] - ((max(z[num])+min(z[num]))/2)\\n'"
      ]
     },
     "execution_count": 25,
     "metadata": {},
     "output_type": "execute_result"
    }
   ],
   "source": [
    "\"\"\"\n",
    "# Creating a function to fill in blanks\n",
    "x = dict()\n",
    "y = dict()\n",
    "z = dict()\n",
    "\n",
    "xc = dict()\n",
    "yc = dict()\n",
    "zc = dict()\n",
    "\n",
    "particles = ttraject[:, 0]\n",
    "total = int(max(particles))\n",
    "total1 = total + 1\n",
    "rawx = ttraject[:, 5]\n",
    "rawy = ttraject[:, 6]\n",
    "rawz = ttraject[:, 7]\n",
    "\n",
    "# Creates an array for each trajectory containing all xyz data\n",
    "for num in range(1, total1):\n",
    "\n",
    "    hold = np.where(particles == num)\n",
    "    itindex = hold[0]\n",
    "    min1 = min(itindex)\n",
    "    max1 = max(itindex)\n",
    "    x[num] = (rawx[min1:max1])\n",
    "    y[num] = (rawy[min1:max1])\n",
    "    z[num] = (rawz[min1:max1])\n",
    "    \n",
    "    xc[num] = x[num] - ((max(x[num])+min(x[num]))/2)\n",
    "    yc[num] = y[num] - ((max(y[num])+min(y[num]))/2)\n",
    "    zc[num] = z[num] - ((max(z[num])+min(z[num]))/2)\n",
    "\"\"\""
   ]
  },
  {
   "cell_type": "code",
   "execution_count": 26,
   "metadata": {
    "collapsed": false
   },
   "outputs": [
    {
     "data": {
      "text/plain": [
       "'\\ndataset = dict()\\n\\nparticles = trajectory[:, 0]\\ntotal = int(max(particles))\\ntotal1 = total + 1\\nrawdataset = trajectory[:, :]\\n\\n# Creates an array for each trajectory containing all xyz data\\nfor num in range(1, total1):\\n\\n    hold = np.where(particles == num)\\n    itindex = hold[0]\\n    min1 = min(itindex)\\n    max1 = max(itindex)\\n    dataset[num] = (rawdataset[min1:max1, 0:5])\\n'"
      ]
     },
     "execution_count": 26,
     "metadata": {},
     "output_type": "execute_result"
    }
   ],
   "source": [
    "\"\"\"\n",
    "dataset = dict()\n",
    "\n",
    "particles = trajectory[:, 0]\n",
    "total = int(max(particles))\n",
    "total1 = total + 1\n",
    "rawdataset = trajectory[:, :]\n",
    "\n",
    "# Creates an array for each trajectory containing all xyz data\n",
    "for num in range(1, total1):\n",
    "\n",
    "    hold = np.where(particles == num)\n",
    "    itindex = hold[0]\n",
    "    min1 = min(itindex)\n",
    "    max1 = max(itindex)\n",
    "    dataset[num] = (rawdataset[min1:max1, 0:5])\n",
    "\"\"\""
   ]
  },
  {
   "cell_type": "code",
   "execution_count": 27,
   "metadata": {
    "collapsed": false
   },
   "outputs": [
    {
     "data": {
      "text/plain": [
       "'\\nshap = int(max(dataset[2][:,1])) +1 \\nfilledin = np.zeros((shap,5))\\nfilledin[0,:] = dataset[2][0,:]\\n\\ncount = 0\\nnew = 0 \\nother = 0\\ntot = 0\\n\\nfor num in range(1, shap):\\n    if dataset[2][num-new,1]-dataset[2][num-new-1,1]==1:\\n        count = count + 1\\n        filledin[num, :] = dataset[2][num-new, :]\\n    elif dataset[2][num - new,1]-dataset[2][num - new -1,1]>1:\\n        new = new + 1\\n        iba = int(dataset[2][num - new+1,1]-dataset[2][num - new,1])\\n        togoin = dataset[2][num - new]\\n        togoin[1] = togoin[1] + 1\\n        filledin[num, :] = togoin\\n        #dataset[2] = np.insert(dataset[2], [num + new - 2], togoin, axis=0)\\n        \\n    else:\\n        other = other + 1\\n    tot = count + new + other\\n    \\ndataset[2] = filledin\\n'"
      ]
     },
     "execution_count": 27,
     "metadata": {},
     "output_type": "execute_result"
    }
   ],
   "source": [
    "#Original code.  Changed to a function below.\n",
    "\n",
    "#I will now try to build a separate array from dataset rather than filling in missing pieces.\n",
    "#This piece now works.  I will eventually build this into a function to do this for all datasets.  \n",
    "#This works on datasets from the MOSAIC code.\n",
    "\n",
    "\"\"\"\n",
    "shap = int(max(dataset[2][:,1])) +1 \n",
    "filledin = np.zeros((shap,5))\n",
    "filledin[0,:] = dataset[2][0,:]\n",
    "\n",
    "count = 0\n",
    "new = 0 \n",
    "other = 0\n",
    "tot = 0\n",
    "\n",
    "for num in range(1, shap):\n",
    "    if dataset[2][num-new,1]-dataset[2][num-new-1,1]==1:\n",
    "        count = count + 1\n",
    "        filledin[num, :] = dataset[2][num-new, :]\n",
    "    elif dataset[2][num - new,1]-dataset[2][num - new -1,1]>1:\n",
    "        new = new + 1\n",
    "        iba = int(dataset[2][num - new+1,1]-dataset[2][num - new,1])\n",
    "        togoin = dataset[2][num - new]\n",
    "        togoin[1] = togoin[1] + 1\n",
    "        filledin[num, :] = togoin\n",
    "        #dataset[2] = np.insert(dataset[2], [num + new - 2], togoin, axis=0)\n",
    "        \n",
    "    else:\n",
    "        other = other + 1\n",
    "    tot = count + new + other\n",
    "    \n",
    "dataset[2] = filledin\n",
    "\"\"\""
   ]
  },
  {
   "cell_type": "code",
   "execution_count": 28,
   "metadata": {
    "collapsed": true
   },
   "outputs": [],
   "source": [
    "def fillin(data):\n",
    "    \"\"\"\n",
    "    This function is perfect.  It shifts the frames by the startframe and fills in any blank frames.\n",
    "    \"\"\"\n",
    "    def startshift(data1):\n",
    "        startframe = data1[0, 1]\n",
    "        data1[:, 1] = data1[:, 1] - startframe\n",
    "        return data1\n",
    "    \n",
    "    data = startshift(data)\n",
    "\n",
    "    shap = int(max(data[:,1])) +1 \n",
    "    filledin = np.zeros((shap,5))\n",
    "    filledin[0,:] = data[0,:]\n",
    "\n",
    "    count = 0\n",
    "    new = 0 \n",
    "    other = 0\n",
    "    tot = 0\n",
    "\n",
    "    for num in range(1, shap):\n",
    "        if data[num-new,1]-data[num-new-1,1]==1:\n",
    "            count = count + 1\n",
    "            filledin[num, :] = data[num-new, :]\n",
    "        elif data[num - new,1]-data[num - new -1,1]>1:\n",
    "            new = new + 1\n",
    "            iba = int(data[num - new+1,1]-data[num - new,1])\n",
    "            togoin = data[num - new]\n",
    "            togoin[1] = togoin[1] + 1\n",
    "            filledin[num, :] = togoin\n",
    "            #dataset[2] = np.insert(dataset[2], [num + new - 2], togoin, axis=0)\n",
    "        \n",
    "        else:\n",
    "            other = other + 1\n",
    "        tot = count + new + other\n",
    "    \n",
    "    return filledin"
   ]
  },
  {
   "cell_type": "code",
   "execution_count": 29,
   "metadata": {
    "collapsed": false
   },
   "outputs": [
    {
     "data": {
      "text/plain": [
       "'\\ndef startshift(data1):\\n    startframe = data1[0, 1]\\n    data1[:, 1] = data1[:, 1] - startframe\\n'"
      ]
     },
     "execution_count": 29,
     "metadata": {},
     "output_type": "execute_result"
    }
   ],
   "source": [
    "#I realized I also will need a function to shift the datasets for those datasets that don't start at frame 0.\n",
    "\n",
    "\"\"\"\n",
    "def startshift(data1):\n",
    "    startframe = data1[0, 1]\n",
    "    data1[:, 1] = data1[:, 1] - startframe\n",
    "\"\"\"   "
   ]
  },
  {
   "cell_type": "code",
   "execution_count": 30,
   "metadata": {
    "collapsed": false
   },
   "outputs": [
    {
     "data": {
      "text/plain": [
       "'\\nxmax = max(two[:, 2])\\nxmin = min(two[:, 2])\\nymax = max(two[:, 3])\\nymin = min(two[:, 3])\\nzmax = max(two[:, 4])\\nzmin = min(two[:, 4])\\n\\n\\nxc = np.array([two[:, 2] - ((xmax+xmin)/2)])\\nyc = np.array([two[:, 3] - ((ymax+ymin)/2)])\\nzc = np.array([two[:, 4] - ((zmax+zmin)/2)])\\n\\nxstart = xc[0, 0]\\nystart = yc[0, 0]\\nzstart = zc[0, ]\\n'"
      ]
     },
     "execution_count": 30,
     "metadata": {},
     "output_type": "execute_result"
    }
   ],
   "source": [
    "\"\"\"\n",
    "xmax = max(two[:, 2])\n",
    "xmin = min(two[:, 2])\n",
    "ymax = max(two[:, 3])\n",
    "ymin = min(two[:, 3])\n",
    "zmax = max(two[:, 4])\n",
    "zmin = min(two[:, 4])\n",
    "\n",
    "\n",
    "xc = np.array([two[:, 2] - ((xmax+xmin)/2)])\n",
    "yc = np.array([two[:, 3] - ((ymax+ymin)/2)])\n",
    "zc = np.array([two[:, 4] - ((zmax+zmin)/2)])\n",
    "\n",
    "xstart = xc[0, 0]\n",
    "ystart = yc[0, 0]\n",
    "zstart = zc[0, ]\n",
    "\"\"\""
   ]
  },
  {
   "cell_type": "code",
   "execution_count": 31,
   "metadata": {
    "collapsed": false
   },
   "outputs": [
    {
     "data": {
      "text/plain": [
       "'\\ntwo = np.append(two, xc.T, axis=1)\\ntwo = np.append(two, yc.T, axis=1)\\ntwo = np.append(two, zc.T, axis=1)\\ntwo\\n'"
      ]
     },
     "execution_count": 31,
     "metadata": {},
     "output_type": "execute_result"
    }
   ],
   "source": [
    "\"\"\"\n",
    "two = np.append(two, xc.T, axis=1)\n",
    "two = np.append(two, yc.T, axis=1)\n",
    "two = np.append(two, zc.T, axis=1)\n",
    "two\n",
    "\"\"\""
   ]
  },
  {
   "cell_type": "code",
   "execution_count": 32,
   "metadata": {
    "collapsed": false
   },
   "outputs": [
    {
     "data": {
      "text/plain": [
       "'\\nthe = two.shape[0]\\nMSD3 = np.zeros((the,1))\\nM2xy = np.zeros((the,1))\\nM2xz = np.zeros((the,1))\\nM2yz = np.zeros((the,1))\\nM1x = np.zeros((the,1))\\nM1y = np.zeros((the,1))\\nM1z = np.zeros((the,1))\\n\\ntime = 0.25 * two[:, 1]\\ntime[0] = 0.0000000001\\ntime1 = np.array([time]).T\\n\\nD3 = np.zeros((the,1))\\nD2xy = np.zeros((the,1))\\nD2xz = np.zeros((the,1))\\nD2yz = np.zeros((the,1))\\nD1x = np.zeros((the,1))\\nD1y = np.zeros((the,1))\\nD1z = np.zeros((the,1))\\n\\nfor num in range(0, the):\\n    MSD3[num, 0] = (xc[0, num] - xstart)**2 + (yc[0, num] - ystart)**2 + (zc[0, num] - zstart)**2\\n    M2xy[num, 0] = (xc[0, num] - xstart)**2 + (yc[0, num] - ystart)**2\\n    M2xz[num, 0] = (xc[0, num] - xstart)**2 + (zc[0, num] - zstart)**2\\n    M2yz[num, 0] = (yc[0, num] - ystart)**2 + (zc[0, num] - zstart)**2\\n    M1x[num, 0] = (xc[0, num] - xstart)**2\\n    M1y[num, 0] = (yc[0, num] - ystart)**2\\n    M1z[num, 0] = (zc[0, num] - zstart)**2\\n    \\n    D3[num, 0] = MSD3[num, 0]/(6*time[num])\\n    D2xy[num, 0] = M2xy[num, 0]/(4*time[num])\\n    D2xz[num, 0] = M2xz[num, 0]/(4*time[num])\\n    D2yz[num, 0] = M2yz[num, 0]/(4*time[num])\\n    D1x[num, 0] = M1x[num, 0]/(2*time[num])\\n    D1y[num, 0] = M1y[num, 0]/(2*time[num])\\n    D1z[num, 0] = M1z[num, 0]/(2*time[num])\\n'"
      ]
     },
     "execution_count": 32,
     "metadata": {},
     "output_type": "execute_result"
    }
   ],
   "source": [
    "\"\"\"\n",
    "the = two.shape[0]\n",
    "MSD3 = np.zeros((the,1))\n",
    "M2xy = np.zeros((the,1))\n",
    "M2xz = np.zeros((the,1))\n",
    "M2yz = np.zeros((the,1))\n",
    "M1x = np.zeros((the,1))\n",
    "M1y = np.zeros((the,1))\n",
    "M1z = np.zeros((the,1))\n",
    "\n",
    "time = 0.25 * two[:, 1]\n",
    "time[0] = 0.0000000001\n",
    "time1 = np.array([time]).T\n",
    "\n",
    "D3 = np.zeros((the,1))\n",
    "D2xy = np.zeros((the,1))\n",
    "D2xz = np.zeros((the,1))\n",
    "D2yz = np.zeros((the,1))\n",
    "D1x = np.zeros((the,1))\n",
    "D1y = np.zeros((the,1))\n",
    "D1z = np.zeros((the,1))\n",
    "\n",
    "for num in range(0, the):\n",
    "    MSD3[num, 0] = (xc[0, num] - xstart)**2 + (yc[0, num] - ystart)**2 + (zc[0, num] - zstart)**2\n",
    "    M2xy[num, 0] = (xc[0, num] - xstart)**2 + (yc[0, num] - ystart)**2\n",
    "    M2xz[num, 0] = (xc[0, num] - xstart)**2 + (zc[0, num] - zstart)**2\n",
    "    M2yz[num, 0] = (yc[0, num] - ystart)**2 + (zc[0, num] - zstart)**2\n",
    "    M1x[num, 0] = (xc[0, num] - xstart)**2\n",
    "    M1y[num, 0] = (yc[0, num] - ystart)**2\n",
    "    M1z[num, 0] = (zc[0, num] - zstart)**2\n",
    "    \n",
    "    D3[num, 0] = MSD3[num, 0]/(6*time[num])\n",
    "    D2xy[num, 0] = M2xy[num, 0]/(4*time[num])\n",
    "    D2xz[num, 0] = M2xz[num, 0]/(4*time[num])\n",
    "    D2yz[num, 0] = M2yz[num, 0]/(4*time[num])\n",
    "    D1x[num, 0] = M1x[num, 0]/(2*time[num])\n",
    "    D1y[num, 0] = M1y[num, 0]/(2*time[num])\n",
    "    D1z[num, 0] = M1z[num, 0]/(2*time[num])\n",
    "\"\"\""
   ]
  },
  {
   "cell_type": "code",
   "execution_count": 33,
   "metadata": {
    "collapsed": false
   },
   "outputs": [
    {
     "data": {
      "text/plain": [
       "'two = np.append(two, MSD3, axis=1)\\ntwo = np.append(two, M2xy, axis=1)\\ntwo = np.append(two, M2xz, axis=1)\\ntwo = np.append(two, M2yz, axis=1)\\ntwo = np.append(two, M1x, axis=1)\\ntwo = np.append(two, M1y, axis=1)\\ntwo = np.append(two, M1z, axis=1)\\ntwo = np.append(two, MSD3, axis=1)\\ntwo = np.append(two, time1, axis=1)\\ntwo = np.append(two, D3, axis=1)\\ntwo = np.append(two, D2xy, axis=1)\\ntwo = np.append(two, D2xz, axis=1)\\ntwo = np.append(two, D2yz, axis=1)\\ntwo = np.append(two, D1x, axis=1)\\ntwo = np.append(two, D1y, axis=1)\\ntwo = np.append(two, D1z, axis=1)\\n'"
      ]
     },
     "execution_count": 33,
     "metadata": {},
     "output_type": "execute_result"
    }
   ],
   "source": [
    "\"\"\"two = np.append(two, MSD3, axis=1)\n",
    "two = np.append(two, M2xy, axis=1)\n",
    "two = np.append(two, M2xz, axis=1)\n",
    "two = np.append(two, M2yz, axis=1)\n",
    "two = np.append(two, M1x, axis=1)\n",
    "two = np.append(two, M1y, axis=1)\n",
    "two = np.append(two, M1z, axis=1)\n",
    "two = np.append(two, MSD3, axis=1)\n",
    "two = np.append(two, time1, axis=1)\n",
    "two = np.append(two, D3, axis=1)\n",
    "two = np.append(two, D2xy, axis=1)\n",
    "two = np.append(two, D2xz, axis=1)\n",
    "two = np.append(two, D2yz, axis=1)\n",
    "two = np.append(two, D1x, axis=1)\n",
    "two = np.append(two, D1y, axis=1)\n",
    "two = np.append(two, D1z, axis=1)\n",
    "\"\"\""
   ]
  },
  {
   "cell_type": "code",
   "execution_count": 34,
   "metadata": {
    "collapsed": false
   },
   "outputs": [
    {
     "data": {
      "text/plain": [
       "'\\nflee = dict()\\nfor num in range(1, total1):\\n    flee[num] = fillin(dataset[num])\\n    \\n    xmax = max(flee[num][:, 2])\\n    xmin = min(flee[num][:, 2])\\n    ymax = max(flee[num][:, 3])\\n    ymin = min(flee[num][:, 3])\\n    zmax = max(flee[num][:, 4])\\n    zmin = min(flee[num][:, 4])\\n\\n\\n    xc = np.array([flee[num][:, 2] - ((xmax+xmin)/2)])\\n    yc = np.array([flee[num][:, 3] - ((ymax+ymin)/2)])\\n    zc = np.array([flee[num][:, 4] - ((zmax+zmin)/2)])\\n\\n    xstart = xc[0, 0]\\n    ystart = yc[0, 0]\\n    zstart = zc[0, 0]\\n    \\n    flee[num] = np.append(flee[num], xc.T, axis=1)\\n    flee[num] = np.append(flee[num], yc.T, axis=1)\\n    flee[num] = np.append(flee[num], zc.T, axis=1)\\n    \\n    the = flee[num].shape[0]\\n    MSD3 = np.zeros((the,1))\\n    M2xy = np.zeros((the,1))\\n    M2xz = np.zeros((the,1))\\n    M2yz = np.zeros((the,1))\\n    M1x = np.zeros((the,1))\\n    M1y = np.zeros((the,1))\\n    M1z = np.zeros((the,1))\\n\\n    time = 0.25 * flee[num][:, 1]\\n    time[0] = 0.0000000001\\n    time1 = np.array([time]).T\\n\\n    D3 = np.zeros((the,1))\\n    D2xy = np.zeros((the,1))\\n    D2xz = np.zeros((the,1))\\n    D2yz = np.zeros((the,1))\\n    D1x = np.zeros((the,1))\\n    D1y = np.zeros((the,1))\\n    D1z = np.zeros((the,1))\\n\\n    for bum in range(0, the):\\n        MSD3[bum, 0] = (xc[0, bum] - xstart)**2 + (yc[0, bum] - ystart)**2 + (zc[0, bum] - zstart)**2\\n        M2xy[bum, 0] = (xc[0, bum] - xstart)**2 + (yc[0, bum] - ystart)**2\\n        M2xz[bum, 0] = (xc[0, bum] - xstart)**2 + (zc[0, bum] - zstart)**2\\n        M2yz[bum, 0] = (yc[0, bum] - ystart)**2 + (zc[0, bum] - zstart)**2\\n        M1x[bum, 0] = (xc[0, bum] - xstart)**2\\n        M1y[bum, 0] = (yc[0, bum] - ystart)**2\\n        M1z[bum, 0] = (zc[0, bum] - zstart)**2\\n    \\n        D3[bum, 0] = MSD3[bum, 0]/(6*time[bum])\\n        D2xy[bum, 0] = M2xy[bum, 0]/(4*time[bum])\\n        D2xz[bum, 0] = M2xz[bum, 0]/(4*time[bum])\\n        D2yz[bum, 0] = M2yz[bum, 0]/(4*time[bum])\\n        D1x[bum, 0] = M1x[bum, 0]/(2*time[bum])\\n        D1y[bum, 0] = M1y[bum, 0]/(2*time[bum])\\n        D1z[bum, 0] = M1z[bum, 0]/(2*time[bum])\\n    \\n    flee[num] = np.append(flee[num], MSD3, axis=1)\\n    flee[num] = np.append(flee[num], M2xy, axis=1)\\n    flee[num] = np.append(flee[num], M2xz, axis=1)\\n    flee[num] = np.append(flee[num], M2yz, axis=1)\\n    flee[num] = np.append(flee[num], M1x, axis=1)\\n    flee[num] = np.append(flee[num], M1y, axis=1)\\n    flee[num] = np.append(flee[num], M1z, axis=1)\\n    flee[num] = np.append(flee[num], time1, axis=1)\\n    flee[num] = np.append(flee[num], D3, axis=1)\\n    flee[num] = np.append(flee[num], D2xy, axis=1)\\n    flee[num] = np.append(flee[num], D2xz, axis=1)\\n    flee[num] = np.append(flee[num], D2yz, axis=1)\\n    flee[num] = np.append(flee[num], D1x, axis=1)\\n    flee[num] = np.append(flee[num], D1y, axis=1)\\n    flee[num] = np.append(flee[num], D1z, axis=1)\\n'"
      ]
     },
     "execution_count": 34,
     "metadata": {},
     "output_type": "execute_result"
    }
   ],
   "source": [
    "#Builds a new dictionary based on the dictionary defined above (dataset).  Dataset itself\n",
    "#is defined by the input csv file from the MOSIAC package and breaks down the dataset by\n",
    "# particle.  This code builds MSDs and Deffs onto the datasets.  \n",
    "\n",
    "\"\"\"\n",
    "flee = dict()\n",
    "for num in range(1, total1):\n",
    "    flee[num] = fillin(dataset[num])\n",
    "    \n",
    "    xmax = max(flee[num][:, 2])\n",
    "    xmin = min(flee[num][:, 2])\n",
    "    ymax = max(flee[num][:, 3])\n",
    "    ymin = min(flee[num][:, 3])\n",
    "    zmax = max(flee[num][:, 4])\n",
    "    zmin = min(flee[num][:, 4])\n",
    "\n",
    "\n",
    "    xc = np.array([flee[num][:, 2] - ((xmax+xmin)/2)])\n",
    "    yc = np.array([flee[num][:, 3] - ((ymax+ymin)/2)])\n",
    "    zc = np.array([flee[num][:, 4] - ((zmax+zmin)/2)])\n",
    "\n",
    "    xstart = xc[0, 0]\n",
    "    ystart = yc[0, 0]\n",
    "    zstart = zc[0, 0]\n",
    "    \n",
    "    flee[num] = np.append(flee[num], xc.T, axis=1)\n",
    "    flee[num] = np.append(flee[num], yc.T, axis=1)\n",
    "    flee[num] = np.append(flee[num], zc.T, axis=1)\n",
    "    \n",
    "    the = flee[num].shape[0]\n",
    "    MSD3 = np.zeros((the,1))\n",
    "    M2xy = np.zeros((the,1))\n",
    "    M2xz = np.zeros((the,1))\n",
    "    M2yz = np.zeros((the,1))\n",
    "    M1x = np.zeros((the,1))\n",
    "    M1y = np.zeros((the,1))\n",
    "    M1z = np.zeros((the,1))\n",
    "\n",
    "    time = 0.25 * flee[num][:, 1]\n",
    "    time[0] = 0.0000000001\n",
    "    time1 = np.array([time]).T\n",
    "\n",
    "    D3 = np.zeros((the,1))\n",
    "    D2xy = np.zeros((the,1))\n",
    "    D2xz = np.zeros((the,1))\n",
    "    D2yz = np.zeros((the,1))\n",
    "    D1x = np.zeros((the,1))\n",
    "    D1y = np.zeros((the,1))\n",
    "    D1z = np.zeros((the,1))\n",
    "\n",
    "    for bum in range(0, the):\n",
    "        MSD3[bum, 0] = (xc[0, bum] - xstart)**2 + (yc[0, bum] - ystart)**2 + (zc[0, bum] - zstart)**2\n",
    "        M2xy[bum, 0] = (xc[0, bum] - xstart)**2 + (yc[0, bum] - ystart)**2\n",
    "        M2xz[bum, 0] = (xc[0, bum] - xstart)**2 + (zc[0, bum] - zstart)**2\n",
    "        M2yz[bum, 0] = (yc[0, bum] - ystart)**2 + (zc[0, bum] - zstart)**2\n",
    "        M1x[bum, 0] = (xc[0, bum] - xstart)**2\n",
    "        M1y[bum, 0] = (yc[0, bum] - ystart)**2\n",
    "        M1z[bum, 0] = (zc[0, bum] - zstart)**2\n",
    "    \n",
    "        D3[bum, 0] = MSD3[bum, 0]/(6*time[bum])\n",
    "        D2xy[bum, 0] = M2xy[bum, 0]/(4*time[bum])\n",
    "        D2xz[bum, 0] = M2xz[bum, 0]/(4*time[bum])\n",
    "        D2yz[bum, 0] = M2yz[bum, 0]/(4*time[bum])\n",
    "        D1x[bum, 0] = M1x[bum, 0]/(2*time[bum])\n",
    "        D1y[bum, 0] = M1y[bum, 0]/(2*time[bum])\n",
    "        D1z[bum, 0] = M1z[bum, 0]/(2*time[bum])\n",
    "    \n",
    "    flee[num] = np.append(flee[num], MSD3, axis=1)\n",
    "    flee[num] = np.append(flee[num], M2xy, axis=1)\n",
    "    flee[num] = np.append(flee[num], M2xz, axis=1)\n",
    "    flee[num] = np.append(flee[num], M2yz, axis=1)\n",
    "    flee[num] = np.append(flee[num], M1x, axis=1)\n",
    "    flee[num] = np.append(flee[num], M1y, axis=1)\n",
    "    flee[num] = np.append(flee[num], M1z, axis=1)\n",
    "    flee[num] = np.append(flee[num], time1, axis=1)\n",
    "    flee[num] = np.append(flee[num], D3, axis=1)\n",
    "    flee[num] = np.append(flee[num], D2xy, axis=1)\n",
    "    flee[num] = np.append(flee[num], D2xz, axis=1)\n",
    "    flee[num] = np.append(flee[num], D2yz, axis=1)\n",
    "    flee[num] = np.append(flee[num], D1x, axis=1)\n",
    "    flee[num] = np.append(flee[num], D1y, axis=1)\n",
    "    flee[num] = np.append(flee[num], D1z, axis=1)\n",
    "\"\"\""
   ]
  },
  {
   "cell_type": "code",
   "execution_count": 35,
   "metadata": {
    "collapsed": false
   },
   "outputs": [
    {
     "data": {
      "text/plain": [
       "'\\nteancum = dict()\\nfifties = 0\\nnones = 0\\ncutoff = 50\\n\\nfor num in range(1, total1):\\n    if flee[num].shape[0] < cutoff:\\n        nones = nones + 1\\n    else:\\n        fifties = fifties + 1\\n        teancum[num - nones] = flee[num]\\n        # I must also redefine the particle numbers to reflect the new set.\\n        teancum[num - nones][:, 0] = fifties\\n'"
      ]
     },
     "execution_count": 35,
     "metadata": {},
     "output_type": "execute_result"
    }
   ],
   "source": [
    "#Now I will build two separate functions to act on the dictionary flee defined above.\n",
    "# I will make one function to filter out any entries less than a specified number\n",
    "# of columns (say, 50).  I will also build another function to cut down datasets\n",
    "# so they are all the same length-- say, 50.  \n",
    "\n",
    "\"\"\"\n",
    "teancum = dict()\n",
    "fifties = 0\n",
    "nones = 0\n",
    "cutoff = 50\n",
    "\n",
    "for num in range(1, total1):\n",
    "    if flee[num].shape[0] < cutoff:\n",
    "        nones = nones + 1\n",
    "    else:\n",
    "        fifties = fifties + 1\n",
    "        teancum[num - nones] = flee[num]\n",
    "        # I must also redefine the particle numbers to reflect the new set.\n",
    "        teancum[num - nones][:, 0] = fifties\n",
    "\"\"\""
   ]
  },
  {
   "cell_type": "code",
   "execution_count": 36,
   "metadata": {
    "collapsed": false
   },
   "outputs": [
    {
     "data": {
      "text/plain": [
       "'\\nmoroni = dict()\\nlimit = 50\\n\\nfor num in range(1, fifties):\\n    moroni[num] = teancum[num][0:limit, :]\\n'"
      ]
     },
     "execution_count": 36,
     "metadata": {},
     "output_type": "execute_result"
    }
   ],
   "source": [
    "# Now for the second function: cutting down datasets to a specified value.\n",
    "\n",
    "\"\"\"\n",
    "moroni = dict()\n",
    "limit = 50\n",
    "\n",
    "for num in range(1, fifties):\n",
    "    moroni[num] = teancum[num][0:limit, :]\n",
    "\"\"\""
   ]
  },
  {
   "cell_type": "code",
   "execution_count": 37,
   "metadata": {
    "collapsed": false
   },
   "outputs": [],
   "source": [
    "#Now to build all this into a single function?\n",
    "\n",
    "def prettify(traj, cut, lim):\n",
    "    \"\"\"\n",
    "    traj: a dataset from the MOSAIC code with the top row and first column removed.\n",
    "    cut: the minimum number of frames required to be included in final dataset\n",
    "    lim: the specified number of frames to be included in final dataset (often the same as cut)\n",
    "    \"\"\"\n",
    "    \n",
    "    dataset = dict()\n",
    "\n",
    "    particles = traj[:, 0]\n",
    "    total = int(max(particles))\n",
    "    total1 = total + 1\n",
    "    rawdataset = traj[:, :]\n",
    "\n",
    "    # Creates an array for each trajectory containing all xyz data\n",
    "    for num in range(1, total1):\n",
    "\n",
    "        hold = np.where(particles == num)\n",
    "        itindex = hold[0]\n",
    "        min1 = min(itindex)\n",
    "        max1 = max(itindex)\n",
    "        dataset[num] = (rawdataset[min1:max1, 0:5])\n",
    "    \n",
    "    flee = dict()\n",
    "    for num in range(1, total1):\n",
    "        flee[num] = fillin(dataset[num])\n",
    "    \n",
    "        xmax = max(flee[num][:, 2])\n",
    "        xmin = min(flee[num][:, 2])\n",
    "        ymax = max(flee[num][:, 3])\n",
    "        ymin = min(flee[num][:, 3])\n",
    "        zmax = max(flee[num][:, 4])\n",
    "        zmin = min(flee[num][:, 4])\n",
    "\n",
    "\n",
    "        xc = np.array([flee[num][:, 2] - ((xmax+xmin)/2)])\n",
    "        yc = np.array([flee[num][:, 3] - ((ymax+ymin)/2)])\n",
    "        zc = np.array([flee[num][:, 4] - ((zmax+zmin)/2)])\n",
    "\n",
    "        xstart = xc[0, 0]\n",
    "        ystart = yc[0, 0]\n",
    "        zstart = zc[0, 0]\n",
    "    \n",
    "        flee[num] = np.append(flee[num], xc.T, axis=1)\n",
    "        flee[num] = np.append(flee[num], yc.T, axis=1)\n",
    "        flee[num] = np.append(flee[num], zc.T, axis=1)\n",
    "    \n",
    "        the = flee[num].shape[0]\n",
    "        MSD3 = np.zeros((the,1))\n",
    "        M2xy = np.zeros((the,1))\n",
    "        M2xz = np.zeros((the,1))\n",
    "        M2yz = np.zeros((the,1))\n",
    "        M1x = np.zeros((the,1))\n",
    "        M1y = np.zeros((the,1))\n",
    "        M1z = np.zeros((the,1))\n",
    "        \n",
    "        #This defines the units of time.  This is more approrpriately an input to the function.  Will fix.\n",
    "        time = 0.25 * flee[num][:, 1]\n",
    "        time[0] = 0.0000000001\n",
    "        time1 = np.array([time]).T\n",
    "\n",
    "        D3 = np.zeros((the,1))\n",
    "        D2xy = np.zeros((the,1))\n",
    "        D2xz = np.zeros((the,1))\n",
    "        D2yz = np.zeros((the,1))\n",
    "        D1x = np.zeros((the,1))\n",
    "        D1y = np.zeros((the,1))\n",
    "        D1z = np.zeros((the,1))\n",
    "\n",
    "        for bum in range(0, the):\n",
    "            MSD3[bum, 0] = (xc[0, bum] - xstart)**2 + (yc[0, bum] - ystart)**2 + (zc[0, bum] - zstart)**2\n",
    "            M2xy[bum, 0] = (xc[0, bum] - xstart)**2 + (yc[0, bum] - ystart)**2\n",
    "            M2xz[bum, 0] = (xc[0, bum] - xstart)**2 + (zc[0, bum] - zstart)**2\n",
    "            M2yz[bum, 0] = (yc[0, bum] - ystart)**2 + (zc[0, bum] - zstart)**2\n",
    "            M1x[bum, 0] = (xc[0, bum] - xstart)**2\n",
    "            M1y[bum, 0] = (yc[0, bum] - ystart)**2\n",
    "            M1z[bum, 0] = (zc[0, bum] - zstart)**2\n",
    "    \n",
    "            D3[bum, 0] = MSD3[bum, 0]/(6*time[bum])\n",
    "            D2xy[bum, 0] = M2xy[bum, 0]/(4*time[bum])\n",
    "            D2xz[bum, 0] = M2xz[bum, 0]/(4*time[bum])\n",
    "            D2yz[bum, 0] = M2yz[bum, 0]/(4*time[bum])\n",
    "            D1x[bum, 0] = M1x[bum, 0]/(2*time[bum])\n",
    "            D1y[bum, 0] = M1y[bum, 0]/(2*time[bum])\n",
    "            D1z[bum, 0] = M1z[bum, 0]/(2*time[bum])\n",
    "    \n",
    "        flee[num] = np.append(flee[num], MSD3, axis=1)\n",
    "        flee[num] = np.append(flee[num], M2xy, axis=1)\n",
    "        flee[num] = np.append(flee[num], M2xz, axis=1)\n",
    "        flee[num] = np.append(flee[num], M2yz, axis=1)\n",
    "        flee[num] = np.append(flee[num], M1x, axis=1)\n",
    "        flee[num] = np.append(flee[num], M1y, axis=1)\n",
    "        flee[num] = np.append(flee[num], M1z, axis=1)\n",
    "        flee[num] = np.append(flee[num], time1, axis=1)\n",
    "        flee[num] = np.append(flee[num], D3, axis=1)\n",
    "        flee[num] = np.append(flee[num], D2xy, axis=1)\n",
    "        flee[num] = np.append(flee[num], D2xz, axis=1)\n",
    "        flee[num] = np.append(flee[num], D2yz, axis=1)\n",
    "        flee[num] = np.append(flee[num], D1x, axis=1)\n",
    "        flee[num] = np.append(flee[num], D1y, axis=1)\n",
    "        flee[num] = np.append(flee[num], D1z, axis=1)\n",
    "    \n",
    "    teancum = dict()\n",
    "    fifties = 0\n",
    "    nones = 0\n",
    "    cutoff = cut\n",
    "\n",
    "    for num in range(1, total1):\n",
    "        if flee[num].shape[0] < cutoff:\n",
    "            nones = nones + 1\n",
    "        else:\n",
    "            fifties = fifties + 1\n",
    "            teancum[num - nones] = flee[num]\n",
    "            # I must also redefine the particle numbers to reflect the new set.\n",
    "            teancum[num - nones][:, 0] = fifties\n",
    "    \n",
    "    moroni = dict()\n",
    "    limit = lim\n",
    "\n",
    "    for num in range(1, fifties):\n",
    "        moroni[num] = teancum[num][0:limit, :]\n",
    "    \n",
    "    return (moroni, fifties)"
   ]
  },
  {
   "cell_type": "code",
   "execution_count": 38,
   "metadata": {
    "collapsed": false
   },
   "outputs": [
    {
     "data": {
      "text/plain": [
       "20"
      ]
     },
     "execution_count": 38,
     "metadata": {},
     "output_type": "execute_result"
    }
   ],
   "source": [
    "(final, tots) = prettify(trajectory, 100, 100)\n",
    "tots"
   ]
  },
  {
   "cell_type": "code",
   "execution_count": 39,
   "metadata": {
    "collapsed": false
   },
   "outputs": [],
   "source": [
    "#It seems counterintuitive, but this is the way my code works.  Now that I built datasets for separate trajectories,\n",
    "# I need to merge them into a single array to use in the code I developed for plotting.\n",
    "# I based this code off of multrandtraj.\n",
    "\n",
    "parts = tots - 1\n",
    "lehi = final[1]\n",
    "counter = 1\n",
    "\n",
    "while counter < parts:\n",
    "    counter = counter + 1\n",
    "    lehi = np.append(lehi, final[counter], axis=0)\n"
   ]
  },
  {
   "cell_type": "code",
   "execution_count": 41,
   "metadata": {
    "collapsed": false
   },
   "outputs": [],
   "source": [
    "# Now for a plotting function, as modified from Testing_Tracking_Software\n",
    "\n",
    "# Creates an array 'particles' that contains the particle number at each frame.\n",
    "particles = lehi[:, 0]\n",
    "position = lehi[:, 5:5+4]\n",
    "total = int(max(particles))\n",
    "total1 = total + 1\n",
    "path = dict()\n",
    "\n",
    "# Creates an array for each trajectory containing all xyz data\n",
    "for num in range(1, total1):\n",
    "\n",
    "    hold = np.where(particles == num)\n",
    "    itindex = hold[0]\n",
    "    min1 = min(itindex)\n",
    "    max1 = max(itindex)\n",
    "    path[num] = (position[min1:max1, :])\n",
    "\n",
    "# Creates figure\n",
    "fig = plt.figure(figsize=(24, 18), dpi=80)\n",
    "ax = fig.add_subplot(111)\n",
    "# ax.set_title('Particle Trajectories', x=0.5, y=1.15)\n",
    "\n",
    "# Plots individual trajectories\n",
    "for num in range(1, total1):\n",
    "\n",
    "    ax.plot(path[num][:, 0], path[num][:, 1], label='Particle {}'.format(num))\n",
    "\n",
    "axbox = ax.get_position()\n",
    "\n",
    "legunit = max(lehi[:,0])\n",
    "ax.legend(loc=(0.85, 0.96-0.0273*legunit), prop={'size': 20})\n",
    "ax.locator_params(nbins=6)\n",
    "\n",
    "# A few adjustments to prettify the graph\n",
    "for item in ([ax.xaxis.label, ax.yaxis.label] +\n",
    "             ax.get_xticklabels() + ax.get_yticklabels()):\n",
    "    item.set_fontsize(20)\n",
    "\n",
    "ax.title.set_fontsize(35)\n",
    "ax.tick_params(direction='out', pad=3)\n",
    "plt.gca().xaxis.set_major_formatter(mpl.ticker.FormatStrFormatter('%.{}f um'.format(1)))\n",
    "plt.gca().yaxis.set_major_formatter(mpl.ticker.FormatStrFormatter('%.{}f um'.format(1)))\n",
    "plt.gca().set_xlim([-2, 2])\n",
    "plt.gca().set_ylim([-2, 2])\n",
    "\n",
    "# Save your figure\n",
    "plt.savefig('{}.png'.format('Prelim_MOSAICTraj'), bbox_inches='tight')\n",
    "\n",
    "plt.show()"
   ]
  },
  {
   "cell_type": "code",
   "execution_count": 42,
   "metadata": {
    "collapsed": true
   },
   "outputs": [],
   "source": [
    "# Now I need to do a similar process for Ben's data.  It shouldn't be that different that the above code.\n",
    "# In fact, all I modified was the actual Excel spreadsheet.  I came up with a simple if statement to fill\n",
    "# in the blank cells in his dataset, the changed the particle numbers to be sequential.  That's that!\n",
    "\n",
    "trajectory1 = np.genfromtxt('../sample_data/Prelim_Ben_2DData.csv',\n",
    "            delimiter =\",\")"
   ]
  },
  {
   "cell_type": "code",
   "execution_count": 43,
   "metadata": {
    "collapsed": false
   },
   "outputs": [
    {
     "data": {
      "text/plain": [
       "array([  10.        ,  315.        ,    4.69439127,   12.97648608,    0.        ])"
      ]
     },
     "execution_count": 43,
     "metadata": {},
     "output_type": "execute_result"
    }
   ],
   "source": [
    "trajectory1[1300, :]"
   ]
  },
  {
   "cell_type": "code",
   "execution_count": 44,
   "metadata": {
    "collapsed": false
   },
   "outputs": [],
   "source": [
    "(final1, tots1) = prettify(trajectory1, 60, 60)\n",
    "tots1\n",
    "\n",
    "parts = tots1 - 1\n",
    "ammon = final1[1]\n",
    "counter = 1\n",
    "\n",
    "while counter < parts:\n",
    "    counter = counter + 1\n",
    "    ammon = np.append(ammon, final1[counter], axis=0)"
   ]
  },
  {
   "cell_type": "code",
   "execution_count": 45,
   "metadata": {
    "collapsed": true
   },
   "outputs": [],
   "source": [
    "# Now for a plotting function, as modified from Testing_Tracking_Software\n",
    "\n",
    "# Creates an array 'particles' that contains the particle number at each frame.\n",
    "particles = ammon[:, 0]\n",
    "position = ammon[:, 5:5+4]\n",
    "total = int(max(particles))\n",
    "total1 = total + 1\n",
    "path = dict()\n",
    "\n",
    "# Creates an array for each trajectory containing all xyz data\n",
    "for num in range(1, total1):\n",
    "\n",
    "    hold = np.where(particles == num)\n",
    "    itindex = hold[0]\n",
    "    min1 = min(itindex)\n",
    "    max1 = max(itindex)\n",
    "    path[num] = (position[min1:max1, :])\n",
    "\n",
    "# Creates figure\n",
    "fig = plt.figure(figsize=(24, 18), dpi=80)\n",
    "ax = fig.add_subplot(111)\n",
    "# ax.set_title('Particle Trajectories', x=0.5, y=1.15)\n",
    "\n",
    "# Plots individual trajectories\n",
    "for num in range(1, total1):\n",
    "\n",
    "    ax.plot(path[num][:, 0], path[num][:, 1], label='Particle {}'.format(num))\n",
    "\n",
    "axbox = ax.get_position()\n",
    "\n",
    "legunit = max(ammon[:,0])\n",
    "ax.legend(loc=(0.85, 0.96-0.0273*legunit), prop={'size': 20})\n",
    "ax.locator_params(nbins=6)\n",
    "\n",
    "# A few adjustments to prettify the graph\n",
    "for item in ([ax.xaxis.label, ax.yaxis.label] +\n",
    "             ax.get_xticklabels() + ax.get_yticklabels()):\n",
    "    item.set_fontsize(20)\n",
    "\n",
    "ax.title.set_fontsize(35)\n",
    "ax.tick_params(direction='out', pad=3)\n",
    "plt.gca().xaxis.set_major_formatter(mpl.ticker.FormatStrFormatter('%.{}f um'.format(1)))\n",
    "plt.gca().yaxis.set_major_formatter(mpl.ticker.FormatStrFormatter('%.{}f um'.format(1)))\n",
    "plt.gca().set_xlim([-30, 30])\n",
    "plt.gca().set_ylim([-30, 30])\n",
    "\n",
    "# Save your figure\n",
    "plt.savefig('{}.png'.format('Prelim_BenTraj'), bbox_inches='tight')\n",
    "\n",
    "plt.show()"
   ]
  },
  {
   "cell_type": "code",
   "execution_count": null,
   "metadata": {
    "collapsed": true
   },
   "outputs": [],
   "source": [
    "# And a final function to comapare their MSDs\n",
    "\n",
    "# Creates an array 'particles' that contains the particle number at each frame.\n",
    "particles = lehi[:, 0]\n",
    "total = int(max(particles))\n",
    "total1 = total + 1\n",
    "rawtime = lehi[:, 15]\n",
    "rawMSD = lehi[:, 17] #17 or 9\n",
    "MSD = dict()\n",
    "time = dict()\n",
    "\n",
    "particles1 = ammon[:, 0]\n",
    "totala = int(max(particles1))\n",
    "total1a = totala + 1\n",
    "rawtime1 = ammon[:, 15]\n",
    "rawMSD1 = ammon[:, 17] #17 or 9\n",
    "MSD1 = dict()\n",
    "time1 = dict()\n",
    "\n",
    "tr = 60\n",
    "\n",
    "# Creates an array for each trajectory containing all xyz data\n",
    "for num in range(1, total1):\n",
    "\n",
    "    hold = np.where(particles == num)\n",
    "    itindex = hold[0]\n",
    "    min1 = min(itindex)\n",
    "    max1 = max(itindex)\n",
    "    MSD[num] = (rawMSD[min1+1:min1+tr])\n",
    "    time[num] = (rawtime[min1+1:min1+tr])\n",
    "\n",
    "MMSD = MSD[1]\n",
    "for num in range(2, total1):\n",
    "    MMSD = MMSD + MSD[num]\n",
    "\n",
    "MMSD = MMSD/total1\n",
    "\n",
    "for num in range(1, total1a):\n",
    "\n",
    "    hold1 = np.where(particles1 == num)\n",
    "    itindex1 = hold1[0]\n",
    "    min1a = min(itindex1)\n",
    "    max1a = max(itindex1)\n",
    "    MSD1[num] = (rawMSD1[min1a+1:min1a+tr])\n",
    "    time1[num] = (rawtime1[min1a+1:min1a+tr])\n",
    "\n",
    "MMSD1 = MSD1[1]\n",
    "for num in range(2, total1a):\n",
    "    MMSD1 = MMSD1 + MSD1[num]\n",
    "\n",
    "MMSD1 = MMSD1/total1a\n",
    "\n",
    "# Creates figure\n",
    "fig = plt.figure(figsize=(24, 18), dpi=80)\n",
    "ax = fig.add_subplot(111)\n",
    "# ax.set_title('Particle Trajectories', x=0.5, y=1.15)\n",
    "\n",
    "ax.plot(time[1][:], MMSD[:], label='MOSAIC')\n",
    "ax.plot(time1[1][:], MMSD1[:], label='Ben')\n",
    "\n",
    "ax.legend(loc=(0.85, 0.85), prop={'size': 20})\n",
    "\n",
    "# A few adjustments to prettify the graph\n",
    "for item in ([ax.xaxis.label, ax.yaxis.label] +\n",
    "              ax.get_xticklabels() + ax.get_yticklabels()):\n",
    "    item.set_fontsize(30)\n",
    "\n",
    "ax.title.set_fontsize(55)\n",
    "ax.set_xlabel('Time (s)')\n",
    "ax.set_ylabel('Deff')\n",
    "ax.tick_params(direction='out', pad=5)\n",
    "plt.gca().xaxis.set_major_formatter(mpl.ticker.FormatStrFormatter('%.{}f'.format(1)))\n",
    "plt.gca().yaxis.set_major_formatter(mpl.ticker.FormatStrFormatter('%.{}f'.format(1)))\n",
    "\n",
    "# Save your figure\n",
    "plt.savefig('{}.png'.format('Prelim_CompareDeffBenMOSAIC'), bbox_inches='tight')\n",
    "\n",
    "plt.show()"
   ]
  },
  {
   "cell_type": "code",
   "execution_count": null,
   "metadata": {
    "collapsed": true
   },
   "outputs": [],
   "source": [
    "# A couple issues that arose.  First, why do Ben's dataset and the MOSIAC dataset not end at the same point, when I\n",
    "# defined them in my code to be the same? Frustrating.  Secondly, I will need to include some functionality to adjust\n",
    "# units.  Right now the units for MSD are in pixels rather than microns.\n",
    "\n",
    "# The plotting to different endpoints was a simple fix.  I define the range inside this code.  This would preferable be\n",
    "# an input to a function.  I will make a variable for now."
   ]
  },
  {
   "cell_type": "code",
   "execution_count": null,
   "metadata": {
    "collapsed": false
   },
   "outputs": [],
   "source": [
    "ammon[0:61, 15]"
   ]
  },
  {
   "cell_type": "code",
   "execution_count": null,
   "metadata": {
    "collapsed": false
   },
   "outputs": [],
   "source": [
    "lehi[0:61, 15]"
   ]
  },
  {
   "cell_type": "code",
   "execution_count": null,
   "metadata": {
    "collapsed": true
   },
   "outputs": [],
   "source": []
  }
 ],
 "metadata": {
  "kernelspec": {
   "display_name": "Python 3",
   "language": "python",
   "name": "python3"
  },
  "language_info": {
   "codemirror_mode": {
    "name": "ipython",
    "version": 3
   },
   "file_extension": ".py",
   "mimetype": "text/x-python",
   "name": "python",
   "nbconvert_exporter": "python",
   "pygments_lexer": "ipython3",
   "version": "3.5.1"
  }
 },
 "nbformat": 4,
 "nbformat_minor": 0
}
