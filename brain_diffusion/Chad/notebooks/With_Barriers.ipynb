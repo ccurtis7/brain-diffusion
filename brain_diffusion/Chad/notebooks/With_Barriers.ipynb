{
 "cells": [
  {
   "cell_type": "code",
   "execution_count": 1,
   "metadata": {
    "collapsed": true
   },
   "outputs": [],
   "source": [
    "import matplotlib as mpl\n",
    "import matplotlib.pyplot as plt\n",
    "import scipy.optimize as opt\n",
    "from mpl_toolkits.mplot3d import Axes3D\n",
    "from trajectory_visualization import plot_trajectory, sidebyside, shift_trajectory, overlay, shift_trajectory3D\n",
    "from trajectory_visualization import plot_trajectories3D, plot_3Doverlay, plot_MSDorDeff, plot_MeanMSDorDeff, randtraj, multrandtraj\n",
    "from trajectory_visualization import randtraj2, plot_Mean2DMSDsorDeff, plot_MSDorDeffLR, LRfor3D2D\n",
    "from operator import itemgetter\n",
    "from random_traj import randaniso, randconv, multrandaniso, multrandconv, randsamp, multrandsamp, randall, multrandall\n",
    "from random_traj import randanisorot, multrandanisorot\n",
    "from ellipsoid import maxtraj, mvee, plot_mvee, plot_mveeoverl, rotmat, rotmat2, plot_mveeoverl2\n",
    "from ellipsoid import ellipsax, MSDS, andiff, plot_anisoMSDS, plot_anisodiff\n",
    "import random\n",
    "import numpy as np\n",
    "import numpy.linalg as la\n",
    "from mpl_toolkits.mplot3d import Axes3D\n",
    "from ellipsoid import extrema, enclosed_MSD\n",
    "\n",
    "pi = np.pi\n",
    "sin = np.sin\n",
    "cos = np.cos"
   ]
  },
  {
   "cell_type": "code",
   "execution_count": null,
   "metadata": {
    "collapsed": true
   },
   "outputs": [],
   "source": [
    "#import numpy as np\n",
    "#import matplotlib.pyplot as plt\n",
    "#from mpl_toolkits.mplot3d import Axes3D"
   ]
  },
  {
   "cell_type": "code",
   "execution_count": null,
   "metadata": {
    "collapsed": true
   },
   "outputs": [],
   "source": [
    "#Written code to plot a plane\n",
    "\n",
    "#point = np.array([1, 2, 3])\n",
    "#normal = np.array([1, 1, 2])\n",
    "\n",
    "#d = -point.dot(normal)"
   ]
  },
  {
   "cell_type": "code",
   "execution_count": null,
   "metadata": {
    "collapsed": false
   },
   "outputs": [],
   "source": [
    "#xx, yy = np.meshgrid(range(10), range(10))\n",
    "\n",
    "#z = (-normal[0] * xx - normal[1] * yy - d) * 1./normal[2]"
   ]
  },
  {
   "cell_type": "code",
   "execution_count": null,
   "metadata": {
    "collapsed": true
   },
   "outputs": [],
   "source": [
    "#plt3d = plt.figure().gca(projection='3d')\n",
    "#plt3d.plot_surface(xx, yy, z)\n",
    "#plt.show()"
   ]
  },
  {
   "cell_type": "code",
   "execution_count": null,
   "metadata": {
    "collapsed": true
   },
   "outputs": [],
   "source": [
    "import numpy as np\n",
    "import os\n",
    "import csv\n",
    "import random\n",
    "import matplotlib as mpl\n",
    "import matplotlib.pyplot as plt\n",
    "from mpl_toolkits.mplot3d import Axes3D\n",
    "import scipy.optimize as opt"
   ]
  },
  {
   "cell_type": "code",
   "execution_count": null,
   "metadata": {
    "collapsed": true
   },
   "outputs": [],
   "source": [
    "def randconv(b, s, f, p, xc, yc, zc):\n",
    "    \"\"\"\n",
    "    Builds a single random trajectory with a convection term. Magnitude of the\n",
    "    convection term is determined by xc, yc, and zc. Default is 0.\n",
    "\n",
    "    b: base magnitude of single step\n",
    "    s: variation in step size\n",
    "    f: number of frames or steps to Takes\n",
    "    p: particle number (should be 1 for now)\n",
    "    xc: x convection\n",
    "    yc: y convection\n",
    "    zc: z convection\n",
    "\n",
    "    Output:\n",
    "    0 particle number\n",
    "    1 time or frames\n",
    "    2 x movement\n",
    "    3 angle 1 (not used)\n",
    "    4 angle 2 (note used)\n",
    "    5 x coordinate\n",
    "    6 y coordinate\n",
    "    7 z coordinate\n",
    "    8 centered x coordinate\n",
    "    9 centered y coordinate\n",
    "    10 centered z coordinate\n",
    "    11 MSD\n",
    "    12 2D xy MSD\n",
    "    13 2D xz MSD\n",
    "    14 2D yz MSD\n",
    "    15 Diffusion Coefficient (Deff)\n",
    "    16 2D xy Deff\n",
    "    17 2D xz Deff\n",
    "    18 2D yz Deff\n",
    "    19 y movement\n",
    "    20 z movement\n",
    "    \"\"\"\n",
    "\n",
    "    base = b\n",
    "    step = s\n",
    "    pi = 3.14159265359\n",
    "    frames = f\n",
    "\n",
    "    ttraject = np.zeros((frames, 22))\n",
    "\n",
    "    for num in range(1, frames):\n",
    "\n",
    "        # Create particle number\n",
    "        ttraject[num, 0] = p\n",
    "        ttraject[num-1, 0] = p\n",
    "        # Create frame\n",
    "        ttraject[num, 1] = 1 + ttraject[num-1, 1]\n",
    "        # Create magnitude vectors\n",
    "        ttraject[num, 2] = base*(random.random()-0.5)\n",
    "        ttraject[num, 19] = base*(random.random()-0.5)\n",
    "        ttraject[num, 20] = base*(random.random()-0.5)\n",
    "        # Create Angle Vectors\n",
    "        # ttraject[num, 3] = 2 * pi * random.random()\n",
    "        # ttraject[num, 4] = pi * random.random()\n",
    "        # Build trajectories\n",
    "        ttraject[num, 5] = ttraject[num-1, 5] + ttraject[num, 2] + xc\n",
    "        ttraject[num, 6] = ttraject[num-1, 6] + ttraject[num, 19] + yc\n",
    "        ttraject[num, 7] = ttraject[num-1, 7] + ttraject[num, 20] + zc\n",
    "\n",
    "    particle = ttraject[:, 0]\n",
    "    time = ttraject[:, 1]\n",
    "    x = ttraject[:, 5]\n",
    "    y = ttraject[:, 6]\n",
    "    z = ttraject[:, 7]\n",
    "\n",
    "    ttraject[:, 8] = x - ((max(x)+min(x))/2)\n",
    "    cx = ttraject[:, 8]\n",
    "    ttraject[:, 9] = y - ((max(y)+min(y))/2)\n",
    "    cy = ttraject[:, 9]\n",
    "    ttraject[:, 10] = z - ((max(z)+min(z))/2)\n",
    "    cz = ttraject[:, 10]\n",
    "\n",
    "    # Calculate MSDs and Deffs\n",
    "    for num in range(1, frames):\n",
    "\n",
    "        ttraject[num, 11] = ((ttraject[num, 8]-ttraject[0, 8])**2 + (ttraject[num, 9]-ttraject[0, 9])**2 +\n",
    "                             (ttraject[num, 10]-ttraject[0, 10])**2)\n",
    "        ttraject[num, 12] = ((ttraject[num, 8]-ttraject[0, 8])**2 + (ttraject[num, 9]-ttraject[0, 9])**2)\n",
    "        ttraject[num, 13] = ((ttraject[num, 8]-ttraject[0, 8])**2 + (ttraject[num, 10]-ttraject[0, 10])**2)\n",
    "        ttraject[num, 14] = ((ttraject[num, 10]-ttraject[0, 10])**2 + (ttraject[num, 9]-ttraject[0, 9])**2)\n",
    "\n",
    "        ttraject[num, 15] = ttraject[num, 11]/(6*ttraject[num, 1])\n",
    "        ttraject[num, 16] = ttraject[num, 12]/(4*ttraject[num, 1])\n",
    "        ttraject[num, 17] = ttraject[num, 13]/(4*ttraject[num, 1])\n",
    "        ttraject[num, 18] = ttraject[num, 14]/(4*ttraject[num, 1])\n",
    "\n",
    "    MSD = ttraject[:, 11]\n",
    "    MSDxy = ttraject[:, 12]\n",
    "    MSDxz = ttraject[:, 13]\n",
    "    MSDyz = ttraject[:, 14]\n",
    "\n",
    "    Deff = ttraject[:, 15]\n",
    "    Deffxy = ttraject[:, 16]\n",
    "    Deffxz = ttraject[:, 17]\n",
    "    Deffyz = ttraject[:, 18]\n",
    "\n",
    "    return ttraject\n"
   ]
  },
  {
   "cell_type": "code",
   "execution_count": null,
   "metadata": {
    "collapsed": false
   },
   "outputs": [],
   "source": [
    "#I'm going to build the plane function from scratch, since it requires two iterations to build a trajectory.\n",
    "#This may be rather difficult!\n",
    "\n",
    "def randplane(b, s, f, p, pnor, ppoi):\n",
    "    \"\"\"\n",
    "    Builds a single random trajectory with a convection term. Magnitude of the\n",
    "    convection term is determined by xc, yc, and zc. Default is 0.\n",
    "\n",
    "    b: base magnitude of single step\n",
    "    s: variation in step size\n",
    "    f: number of frames or steps to Takes\n",
    "    p: particle number (should be 1 for now)\n",
    "    pnor: the normal defining the plane of interest as a 3-element numpy array\n",
    "    ppoi: a point that falls on the plane of interest as a 3-element numpy array\n",
    "\n",
    "    Output:\n",
    "    0 particle number\n",
    "    1 time or frames\n",
    "    2 x movement\n",
    "    3 angle 1 (not used)\n",
    "    4 angle 2 (note used)\n",
    "    5 x coordinate\n",
    "    6 y coordinate\n",
    "    7 z coordinate\n",
    "    8 centered x coordinate\n",
    "    9 centered y coordinate\n",
    "    10 centered z coordinate\n",
    "    11 MSD\n",
    "    12 2D xy MSD\n",
    "    13 2D xz MSD\n",
    "    14 2D yz MSD\n",
    "    15 Diffusion Coefficient (Deff)\n",
    "    16 2D xy Deff\n",
    "    17 2D xz Deff\n",
    "    18 2D yz Deff\n",
    "    19 y movement\n",
    "    20 z movement\n",
    "    \"\"\"\n",
    "\n",
    "    base = b\n",
    "    step = s\n",
    "    pi = 3.14159265359\n",
    "    frames = f\n",
    "    \n",
    "    # Define a plane\n",
    "    nor = pnor\n",
    "    poi = ppoi\n",
    "\n",
    "    ttraject = np.zeros((frames, 22))\n",
    "    ttraject[0, 0] = p\n",
    "    \n",
    "    for num in range(1, frames):\n",
    "\n",
    "        # Create particle number\n",
    "        ttraject[num, 0] = p\n",
    "        \n",
    "        # Create frame\n",
    "        ttraject[num, 1] = 1 + ttraject[num-1, 1]\n",
    "        \n",
    "        # Create magnitude vectors\n",
    "        ttraject[num, 2] = base*(random.random()-0.5)\n",
    "        ttraject[num, 19] = base*(random.random()-0.5)\n",
    "        ttraject[num, 20] = base*(random.random()-0.5)\n",
    "\n",
    "        # Build preliminary trajectories\n",
    "        ttraject[num, 5] = ttraject[num-1, 5] + ttraject[num, 2]\n",
    "        ttraject[num, 6] = ttraject[num-1, 6] + ttraject[num, 19]\n",
    "        ttraject[num, 7] = ttraject[num-1, 7] + ttraject[num, 20]\n",
    "        \n",
    "        # Test to see if trajectories cross boundary\n",
    "        p0 = np.array([ttraject[num-1, 5], ttraject[num-1, 6], ttraject[num-1, 7]])\n",
    "        p1 = np.array([ttraject[num, 5], ttraject[num, 6], ttraject[num, 7]])\n",
    "        \n",
    "        test1 = np.dot(nor, p0) > np.dot(nor, poi)\n",
    "        test2 = np.dot(nor, p1) > np.dot(nor, poi)\n",
    "        test3 = test2 == test1\n",
    "        \n",
    "        if test3 == True:\n",
    "            #In this case, the trajectories remain unmodified\n",
    "            tor = 1\n",
    "        else:\n",
    "            newp = reflect(p0, p1, nor, poi)\n",
    "            ttraject[num, 5] = newp[0]\n",
    "            ttraject[num, 6] = newp[1]\n",
    "            ttraject[num, 7] = newp[2]\n",
    "\n",
    "    particle = ttraject[:, 0]\n",
    "    time = ttraject[:, 1]\n",
    "    x = ttraject[:, 5]\n",
    "    y = ttraject[:, 6]\n",
    "    z = ttraject[:, 7]\n",
    "\n",
    "    ttraject[:, 8] = x - ((max(x)+min(x))/2)\n",
    "    cx = ttraject[:, 8]\n",
    "    ttraject[:, 9] = y - ((max(y)+min(y))/2)\n",
    "    cy = ttraject[:, 9]\n",
    "    ttraject[:, 10] = z - ((max(z)+min(z))/2)\n",
    "    cz = ttraject[:, 10]\n",
    "    \n",
    "    # Calculate MSDs and Deffs\n",
    "    for num in range(1, frames):\n",
    "\n",
    "        ttraject[num, 11] = ((ttraject[num, 8]-ttraject[0, 8])**2 + (ttraject[num, 9]-ttraject[0, 9])**2 +\n",
    "                             (ttraject[num, 10]-ttraject[0, 10])**2)\n",
    "        ttraject[num, 12] = ((ttraject[num, 8]-ttraject[0, 8])**2 + (ttraject[num, 9]-ttraject[0, 9])**2)\n",
    "        ttraject[num, 13] = ((ttraject[num, 8]-ttraject[0, 8])**2 + (ttraject[num, 10]-ttraject[0, 10])**2)\n",
    "        ttraject[num, 14] = ((ttraject[num, 10]-ttraject[0, 10])**2 + (ttraject[num, 9]-ttraject[0, 9])**2)\n",
    "\n",
    "        ttraject[num, 15] = ttraject[num, 11]/(6*ttraject[num, 1])\n",
    "        ttraject[num, 16] = ttraject[num, 12]/(4*ttraject[num, 1])\n",
    "        ttraject[num, 17] = ttraject[num, 13]/(4*ttraject[num, 1])\n",
    "        ttraject[num, 18] = ttraject[num, 14]/(4*ttraject[num, 1])\n",
    "\n",
    "    MSD = ttraject[:, 11]\n",
    "    MSDxy = ttraject[:, 12]\n",
    "    MSDxz = ttraject[:, 13]\n",
    "    MSDyz = ttraject[:, 14]\n",
    "\n",
    "    Deff = ttraject[:, 15]\n",
    "    Deffxy = ttraject[:, 16]\n",
    "    Deffxz = ttraject[:, 17]\n",
    "    Deffyz = ttraject[:, 18]\n",
    "\n",
    "    return ttraject"
   ]
  },
  {
   "cell_type": "code",
   "execution_count": null,
   "metadata": {
    "collapsed": false
   },
   "outputs": [],
   "source": [
    "#Define line\n",
    "p0 = np.array([1, 0, 1])\n",
    "p1 = np.array([13, -8, 5])\n",
    "d = p1 - p0\n",
    "\n",
    "#Define plane\n",
    "n = np.array([1, 1, 1])\n",
    "an = np.array([1, 1, 4])\n",
    "\n",
    "# Normalize normal of plane\n",
    "mag = np.linalg.norm(n)\n",
    "nn = n/mag\n",
    "\n",
    "# Define reflected vector\n",
    "r = d - 2 * np.dot(d, nn) * nn"
   ]
  },
  {
   "cell_type": "code",
   "execution_count": null,
   "metadata": {
    "collapsed": false
   },
   "outputs": [],
   "source": [
    "# Find intersection point\n",
    "par = (np.dot(n, an) - np.dot(n, p0))/np.dot(n, d)\n",
    "inter = p0 + par * d\n",
    "inter"
   ]
  },
  {
   "cell_type": "code",
   "execution_count": null,
   "metadata": {
    "collapsed": false
   },
   "outputs": [],
   "source": [
    "# Calculate new point after reflection across plane\n",
    "rem = np.linalg.norm(p1 - inter)\n",
    "p1new = (rem/np.linalg.norm(r)) * r + inter\n",
    "p1new"
   ]
  },
  {
   "cell_type": "code",
   "execution_count": 80,
   "metadata": {
    "collapsed": false
   },
   "outputs": [],
   "source": [
    "def reflect(p0, p1, n, an):\n",
    "    \"\"\"\n",
    "    This function takes a line defined by points p0 and p1 and reflects it about the plane defined by the normal n\n",
    "    and the point an.  The output is a new point p1new where the particle would be if it \"bounced\" off the plane.\n",
    "    \n",
    "    Note: the inputs should be defined as numpy arrays.  Ideally, the plane should fall in between p0 and p1.  I will\n",
    "    need to come up with a test for this in the future.\n",
    "    \"\"\"\n",
    "    \n",
    "    d = p1 - p0\n",
    "    \n",
    "    mag = np.linalg.norm(n)\n",
    "    nn = n/mag\n",
    "    r = d - 2 * np.dot(d, nn) * nn\n",
    "    \n",
    "    par = (np.dot(n, an) - np.dot(n, p0))/np.dot(n, d)\n",
    "    inter = p0 + par * d\n",
    "    \n",
    "    rem = np.linalg.norm(p1 - inter)\n",
    "    p1new = (rem/np.linalg.norm(r)) * r + inter\n",
    "    \n",
    "    return p1new"
   ]
  },
  {
   "cell_type": "code",
   "execution_count": null,
   "metadata": {
    "collapsed": false
   },
   "outputs": [],
   "source": [
    "# This is the test that needs to be carried out before performing reflect on the two trajectories!!\n",
    "# This little bit of code should work!\n",
    "\n",
    "test1 = np.dot(n, p0) > np.dot(n, an)\n",
    "test2 = np.dot(n, p1) > np.dot(n, an)\n",
    "test3 = test1 == test2\n",
    "test3"
   ]
  },
  {
   "cell_type": "code",
   "execution_count": null,
   "metadata": {
    "collapsed": true
   },
   "outputs": [],
   "source": [
    "def multrandplane(b, s, f, p, pnor, ppoi):\n",
    "    \"\"\"\n",
    "    See randplane\n",
    "    \"\"\"\n",
    "\n",
    "    parts = p\n",
    "    one = randplane(b, s, f, 1, pnor, ppoi)\n",
    "    counter = 1\n",
    "\n",
    "    while counter < p + 1:\n",
    "        counter = counter + 1\n",
    "        one = np.append(one, randplane(b, s, f, counter, pnor, ppoi), axis=0)\n",
    "\n",
    "    return one"
   ]
  },
  {
   "cell_type": "code",
   "execution_count": null,
   "metadata": {
    "collapsed": false
   },
   "outputs": [],
   "source": [
    "p1new[1]"
   ]
  },
  {
   "cell_type": "code",
   "execution_count": null,
   "metadata": {
    "collapsed": true
   },
   "outputs": [],
   "source": [
    "n = np.array([1, 0, 0])\n",
    "an = np.array([-2, 0, 0])\n",
    "\n",
    "thr = multrandplane(5, 1, 120, 1000, n, an)"
   ]
  },
  {
   "cell_type": "code",
   "execution_count": null,
   "metadata": {
    "collapsed": true
   },
   "outputs": [],
   "source": [
    "plot_3Doverlay(thr, 0, 5, 2, 'practice2', 40, 40, 40)\n",
    "plt.show()"
   ]
  },
  {
   "cell_type": "code",
   "execution_count": null,
   "metadata": {
    "collapsed": true
   },
   "outputs": [],
   "source": [
    "one = plot_Mean2DMSDsorDeff(thr, 0, 1, 11, 0, 0, 'MSD', 'plane_MSDS', 121, 601, 30, 100)\n",
    "plt.show()"
   ]
  },
  {
   "cell_type": "code",
   "execution_count": null,
   "metadata": {
    "collapsed": false
   },
   "outputs": [],
   "source": [
    "#I'm going to build the plane function from scratch, since it requires two iterations to build a trajectory.\n",
    "#This may be rather difficult!\n",
    "\n",
    "def rand2planes(b, s, f, p, pnor1, ppoi1, pnor2, ppoi2):\n",
    "    \"\"\"\n",
    "    Builds a single random trajectory with a convection term. Magnitude of the\n",
    "    convection term is determined by xc, yc, and zc. Default is 0.\n",
    "\n",
    "    b: base magnitude of single step\n",
    "    s: variation in step size\n",
    "    f: number of frames or steps to Takes\n",
    "    p: particle number (should be 1 for now)\n",
    "    pnor: the normal defining the plane of interest as a 3-element numpy array\n",
    "    ppoi: a point that falls on the plane of interest as a 3-element numpy array\n",
    "\n",
    "    Output:\n",
    "    0 particle number\n",
    "    1 time or frames\n",
    "    2 x movement\n",
    "    3 angle 1 (not used)\n",
    "    4 angle 2 (note used)\n",
    "    5 x coordinate\n",
    "    6 y coordinate\n",
    "    7 z coordinate\n",
    "    8 centered x coordinate\n",
    "    9 centered y coordinate\n",
    "    10 centered z coordinate\n",
    "    11 MSD\n",
    "    12 2D xy MSD\n",
    "    13 2D xz MSD\n",
    "    14 2D yz MSD\n",
    "    15 Diffusion Coefficient (Deff)\n",
    "    16 2D xy Deff\n",
    "    17 2D xz Deff\n",
    "    18 2D yz Deff\n",
    "    19 y movement\n",
    "    20 z movement\n",
    "    \"\"\"\n",
    "\n",
    "    base = b\n",
    "    step = s\n",
    "    pi = 3.14159265359\n",
    "    frames = f\n",
    "    \n",
    "    # Define a plane\n",
    "    nor = pnor1\n",
    "    poi = ppoi1\n",
    "    \n",
    "    nor1 = pnor2\n",
    "    poi1 = ppoi2\n",
    "\n",
    "    ttraject = np.zeros((frames, 22))\n",
    "    ttraject[0, 0] = p\n",
    "    \n",
    "    for num in range(1, frames):\n",
    "\n",
    "        # Create particle number\n",
    "        ttraject[num, 0] = p\n",
    "        \n",
    "        # Create frame\n",
    "        ttraject[num, 1] = 1 + ttraject[num-1, 1]\n",
    "        \n",
    "        # Create magnitude vectors\n",
    "        ttraject[num, 2] = base*(random.random()-0.5)\n",
    "        ttraject[num, 19] = base*(random.random()-0.5)\n",
    "        ttraject[num, 20] = base*(random.random()-0.5)\n",
    "\n",
    "        # Build preliminary trajectories\n",
    "        ttraject[num, 5] = ttraject[num-1, 5] + ttraject[num, 2]\n",
    "        ttraject[num, 6] = ttraject[num-1, 6] + ttraject[num, 19]\n",
    "        ttraject[num, 7] = ttraject[num-1, 7] + ttraject[num, 20]\n",
    "        \n",
    "        # Test to see if trajectories cross boundaries\n",
    "        p0 = np.array([ttraject[num-1, 5], ttraject[num-1, 6], ttraject[num-1, 7]])\n",
    "        p1 = np.array([ttraject[num, 5], ttraject[num, 6], ttraject[num, 7]])\n",
    "        \n",
    "        test1 = np.dot(nor, p0) > np.dot(nor, poi)\n",
    "        test2 = np.dot(nor, p1) > np.dot(nor, poi)\n",
    "        test3 = test2 == test1\n",
    "\n",
    "        test4 = np.dot(nor1, p0) > np.dot(nor1, poi1)\n",
    "        test5 = np.dot(nor1, p1) > np.dot(nor1, poi1)\n",
    "        test6 = test4 == test5\n",
    "        \n",
    "        \n",
    "        if test3 == False and test6 == False:\n",
    "            (g, h) = inter2planes(nor, poi, nor1, poi1)\n",
    "            point = (intersection(p0, p1, nor, poi) + intersection(p0, p1, nor1, poi1))/2\n",
    "            onpoint = linepoint(g, h, point)\n",
    "            ttraject[num, 5] = 0.95*onpoint[0]\n",
    "            ttraject[num, 6] = 0.95*onpoint[1]\n",
    "            ttraject[num, 7] = 0.95*onpoint[2]\n",
    "        elif test3 == False:\n",
    "            #In this case, the trajectories remain unmodified\n",
    "            newp = reflect(p0, p1, nor, poi)\n",
    "            ttraject[num, 5] = newp[0]\n",
    "            ttraject[num, 6] = newp[1]\n",
    "            ttraject[num, 7] = newp[2]\n",
    "            \n",
    "        elif test6 == False:\n",
    "            newp1 = reflect(p0, p1, nor1, poi1)\n",
    "            ttraject[num, 5] = newp1[0]\n",
    "            ttraject[num, 6] = newp1[1]\n",
    "            ttraject[num, 7] = newp1[2]\n",
    "        else:\n",
    "            tor = 2\n",
    "\n",
    "    particle = ttraject[:, 0]\n",
    "    time = ttraject[:, 1]\n",
    "    x = ttraject[:, 5]\n",
    "    y = ttraject[:, 6]\n",
    "    z = ttraject[:, 7]\n",
    "\n",
    "    ttraject[:, 8] = x - ((max(x)+min(x))/2)\n",
    "    cx = ttraject[:, 8]\n",
    "    ttraject[:, 9] = y - ((max(y)+min(y))/2)\n",
    "    cy = ttraject[:, 9]\n",
    "    ttraject[:, 10] = z - ((max(z)+min(z))/2)\n",
    "    cz = ttraject[:, 10]\n",
    "    \n",
    "    # Calculate MSDs and Deffs\n",
    "    for num in range(1, frames):\n",
    "\n",
    "        ttraject[num, 11] = ((ttraject[num, 8]-ttraject[0, 8])**2 + (ttraject[num, 9]-ttraject[0, 9])**2 +\n",
    "                             (ttraject[num, 10]-ttraject[0, 10])**2)\n",
    "        ttraject[num, 12] = ((ttraject[num, 8]-ttraject[0, 8])**2 + (ttraject[num, 9]-ttraject[0, 9])**2)\n",
    "        ttraject[num, 13] = ((ttraject[num, 8]-ttraject[0, 8])**2 + (ttraject[num, 10]-ttraject[0, 10])**2)\n",
    "        ttraject[num, 14] = ((ttraject[num, 10]-ttraject[0, 10])**2 + (ttraject[num, 9]-ttraject[0, 9])**2)\n",
    "\n",
    "        ttraject[num, 15] = ttraject[num, 11]/(6*ttraject[num, 1])\n",
    "        ttraject[num, 16] = ttraject[num, 12]/(4*ttraject[num, 1])\n",
    "        ttraject[num, 17] = ttraject[num, 13]/(4*ttraject[num, 1])\n",
    "        ttraject[num, 18] = ttraject[num, 14]/(4*ttraject[num, 1])\n",
    "\n",
    "    MSD = ttraject[:, 11]\n",
    "    MSDxy = ttraject[:, 12]\n",
    "    MSDxz = ttraject[:, 13]\n",
    "    MSDyz = ttraject[:, 14]\n",
    "\n",
    "    Deff = ttraject[:, 15]\n",
    "    Deffxy = ttraject[:, 16]\n",
    "    Deffxz = ttraject[:, 17]\n",
    "    Deffyz = ttraject[:, 18]\n",
    "\n",
    "    return ttraject"
   ]
  },
  {
   "cell_type": "code",
   "execution_count": null,
   "metadata": {
    "collapsed": true
   },
   "outputs": [],
   "source": [
    "def multrand2planes(b, s, f, p, pnor, ppoi, pnor2, ppoi2):\n",
    "    \"\"\"\n",
    "    See rand2planes\n",
    "    \"\"\"\n",
    "\n",
    "    parts = p\n",
    "    one = rand2planes(b, s, f, 1, pnor, ppoi, pnor2, ppoi2)\n",
    "    counter = 1\n",
    "\n",
    "    while counter < p + 1:\n",
    "        counter = counter + 1\n",
    "        one = np.append(one, rand2planes(b, s, f, counter, pnor, ppoi, pnor2, ppoi2), axis=0)\n",
    "\n",
    "    return one"
   ]
  },
  {
   "cell_type": "code",
   "execution_count": null,
   "metadata": {
    "collapsed": false
   },
   "outputs": [],
   "source": [
    "n = np.array([0, 0, 1])\n",
    "an = np.array([0, 0, -2])\n",
    "\n",
    "n1 = np.array([0, 0, 1])\n",
    "an1 = np.array([0, 0, 2])\n",
    "\n",
    "thr1 = multrand2planes(5, 1, 300, 1000, n, an, n1, an1)"
   ]
  },
  {
   "cell_type": "code",
   "execution_count": null,
   "metadata": {
    "collapsed": true
   },
   "outputs": [],
   "source": [
    "plot_3Doverlay(thr1, 0, 5, 2, 'practice2', 100, 100, 100)\n",
    "plt.show()"
   ]
  },
  {
   "cell_type": "code",
   "execution_count": null,
   "metadata": {
    "collapsed": true
   },
   "outputs": [],
   "source": [
    "one = plot_Mean2DMSDsorDeff(thr1, 0, 1, 11, 0, 0, 'MSD', 'plane_MSDS', 301, 1001, 60, 200)\n",
    "plt.show()"
   ]
  },
  {
   "cell_type": "code",
   "execution_count": null,
   "metadata": {
    "collapsed": true
   },
   "outputs": [],
   "source": [
    "n = np.array([0, 1, 0])\n",
    "an = np.array([0, -10, 0])\n",
    "\n",
    "n1 = np.array([1, 0, 0])\n",
    "an1 = np.array([-10, 0, 0])\n",
    "\n",
    "thr3 = multrand2planes(5, 1, 120, 1000, n, an, n1, an1)"
   ]
  },
  {
   "cell_type": "code",
   "execution_count": null,
   "metadata": {
    "collapsed": false
   },
   "outputs": [],
   "source": [
    "plot_3Doverlay(thr3, 0, 5, 0, 'practice2', 50, 50, 50)\n",
    "plt.show()"
   ]
  },
  {
   "cell_type": "code",
   "execution_count": null,
   "metadata": {
    "collapsed": false
   },
   "outputs": [],
   "source": [
    "one = plot_Mean2DMSDsorDeff(thr3, 0, 1, 11, 0, 0, 'MSD', 'plane_MSDS', 121, 501, 30, 100)\n",
    "plt.show()"
   ]
  },
  {
   "cell_type": "code",
   "execution_count": null,
   "metadata": {
    "collapsed": false
   },
   "outputs": [],
   "source": [
    "def inter2planes(n0, an0, n1, an1):\n",
    "    \"\"\"\n",
    "    Outputs a line in parametric format that results from the intersection of two planes.  Note that the planes\n",
    "    cannot be parallel.\n",
    "    \n",
    "    The output is two vectors such that line = vector1 + vector2 * t\n",
    "    \"\"\"\n",
    "    \n",
    "    nnew = np.cross(n0, n1)\n",
    "    a = np.array([[n0[0], n0[1]], [n1[0], n1[1]]])\n",
    "    b = np.array([np.dot(n0, an0), np.dot(n1, an1)])\n",
    "    x = np.linalg.solve(a, b)\n",
    "    xn = np.array([x[0], x[1], 0])\n",
    "    \n",
    "    return (xn, nnew)\n",
    "    "
   ]
  },
  {
   "cell_type": "code",
   "execution_count": null,
   "metadata": {
    "collapsed": false
   },
   "outputs": [],
   "source": [
    "cros = np.cross(n, n1)\n",
    "a = np.array([[n[0], n[1]], [n1[0], n1[1]]])\n",
    "b = np.array([np.dot(n, an), np.dot(n1, an1)])\n",
    "x = np.linalg.solve(a, b)\n",
    "xn = np.array([x[0], x[1], 0])\n",
    "x1 = (cros, xn)\n",
    "x1[0]"
   ]
  },
  {
   "cell_type": "code",
   "execution_count": null,
   "metadata": {
    "collapsed": false
   },
   "outputs": [],
   "source": [
    "(g, h) = inter2planes(n, an, n1, an1)\n",
    "point = (1, 2, -5)\n",
    "\n",
    "para = np.dot((g - point), h)/(np.linalg.norm(h)**2)\n",
    "\n",
    "insn = g + para * h\n",
    "insn"
   ]
  },
  {
   "cell_type": "code",
   "execution_count": null,
   "metadata": {
    "collapsed": false
   },
   "outputs": [],
   "source": [
    "def linepoint(anchor, vector, p):\n",
    "    \"\"\"\n",
    "    This function takes a parametric line defined by anchor and vector (line = anchor + vector * t) and finds the point\n",
    "    on the line that is the closest to the point p.  \n",
    "    \"\"\"\n",
    "    \n",
    "    para = np.dot((anchor - p), vector)/(np.linalg.norm(vector)**2)\n",
    "    insn = anchor + para * vector\n",
    "    return insn"
   ]
  },
  {
   "cell_type": "code",
   "execution_count": 81,
   "metadata": {
    "collapsed": false
   },
   "outputs": [],
   "source": [
    "def intersection(p0, p1, n, an):\n",
    "    \"\"\"\n",
    "    This has the same functionality as reflect, but returns the intersection point rather than the reflected point.\n",
    "    \"\"\"\n",
    "    \n",
    "    d = p1 - p0\n",
    "    \n",
    "    mag = np.linalg.norm(n)\n",
    "    nn = n/mag\n",
    "    r = d - 2 * np.dot(d, nn) * nn\n",
    "    \n",
    "    par = (np.dot(n, an) - np.dot(n, p0))/np.dot(n, d)\n",
    "    inter = p0 + par * d\n",
    "    \n",
    "    rem = np.linalg.norm(p1 - inter)\n",
    "    p1new = (rem/np.linalg.norm(r)) * r + inter\n",
    "    \n",
    "    return inter"
   ]
  },
  {
   "cell_type": "code",
   "execution_count": null,
   "metadata": {
    "collapsed": true
   },
   "outputs": [],
   "source": [
    "#############################################################"
   ]
  },
  {
   "cell_type": "code",
   "execution_count": null,
   "metadata": {
    "collapsed": true
   },
   "outputs": [],
   "source": [
    "# Starting to build equations to look at the effects of spherical barriers.  I can try looking at both particles\n",
    "# Stuck in spheres as well as particles bumping into spheres."
   ]
  },
  {
   "cell_type": "code",
   "execution_count": 82,
   "metadata": {
    "collapsed": false
   },
   "outputs": [],
   "source": [
    "def interlinesphere(point1, point2, center, radius):\n",
    "    \"\"\"\n",
    "    This equation finds the intersection points of a line with a sphere and will output the intersection point closest\n",
    "    to point2.  \n",
    "    \"\"\"\n",
    "    \n",
    "    x0 = point1[0]; y0 = point1[1]; z0 = point1[2]\n",
    "    x1 = point2[0]; y1 = point2[1]; z1 = point2[2]\n",
    "    xc = center[0]; yc = center[1]; zc = center[2]\n",
    "    R = radius\n",
    "    \n",
    "    A = (x0 - xc)**2 + (y0 - yc)**2 + (z0 - zc)**2 - R**2\n",
    "    C = (x1 - x0)**2 + (y1 - y0)**2 + (z1 - z0)**2\n",
    "    B = (x1 - xc)**2 + (y1 - yc)**2 + (z1 - zc)**2 - A - C - R**2\n",
    "    \n",
    "    t = quadratic(C, B, A)\n",
    "    \n",
    "    xi1 = x0*(1-t[0]) + t[0]*x1; yi1 = y0*(1-t[0]) + t[0]*y1; zi1 = z0*(1-t[0]) + t[0]*z1\n",
    "    xi2 = x0*(1-t[1]) + t[1]*x1; yi2 = y0*(1-t[1]) + t[1]*y1; zi2 = z0*(1-t[1]) + t[1]*z1\n",
    "    \n",
    "    short1 = (x1 - xi1)**2 + (y1 - yi1)**2 + (z1 - zi1)**2\n",
    "    short2 = (x1 - xi2)**2 + (y1 - yi2)**2 + (z1 - zi2)**2\n",
    "    \n",
    "    if short1 < short2:\n",
    "        (xi, yi, zi) = (xi1, yi1, zi1)\n",
    "    else:\n",
    "        (xi, yi, zi) = (xi2, yi2, zi2)\n",
    "    \n",
    "    \n",
    "    return (xi, yi, zi)"
   ]
  },
  {
   "cell_type": "code",
   "execution_count": 69,
   "metadata": {
    "collapsed": true
   },
   "outputs": [],
   "source": [
    "def tangenttosphere(point, center, radius):\n",
    "    \"\"\"\n",
    "    Outputs a point p and a vector v that define a plane tangent to the sphere at point p.\n",
    "    \"\"\"\n",
    "    x = point[0]; y = point[1]; z = point[2]\n",
    "    v1 = np.array([2*x, 2*y, 2*z])\n",
    "    \n",
    "    mag = np.linalg.norm(v1)\n",
    "    v = v1/mag\n",
    "    \n",
    "    return point, v"
   ]
  },
  {
   "cell_type": "code",
   "execution_count": 27,
   "metadata": {
    "collapsed": false
   },
   "outputs": [],
   "source": [
    "def quadratic(a, b, c):\n",
    "    #Solves the quadtratic equation.\n",
    "    \n",
    "    d = np.sqrt(b**2 - 4*a*c)\n",
    "    \n",
    "    x1 = (-b + d)/(2*a)\n",
    "    x2 = (-b - d)/(2*a)\n",
    "    \n",
    "    return (x1, x2)"
   ]
  },
  {
   "cell_type": "code",
   "execution_count": 73,
   "metadata": {
    "collapsed": false
   },
   "outputs": [
    {
     "data": {
      "text/plain": [
       "0.0"
      ]
     },
     "execution_count": 73,
     "metadata": {},
     "output_type": "execute_result"
    }
   ],
   "source": [
    "point = (4, 0, 0)\n",
    "center = (0, 0, 0)\n",
    "x, y = tangenttosphere(point, center, 4)\n",
    "y[1]"
   ]
  },
  {
   "cell_type": "code",
   "execution_count": 123,
   "metadata": {
    "collapsed": true
   },
   "outputs": [],
   "source": [
    "#I'm going to build the plane function from scratch, since it requires two iterations to build a trajectory.\n",
    "#This may be rather difficult!\n",
    "\n",
    "def randsphere(b, s, f, p, center, radius):\n",
    "    \"\"\"\n",
    "    Builds a single random trajectory bounded by sphere centered at point 0 and of radius \"radius.\"\n",
    "\n",
    "    b: base magnitude of single step\n",
    "    s: variation in step size\n",
    "    f: number of frames or steps to Takes\n",
    "    p: particle number (should be 1 for now)\n",
    "    center: point defining center of the sphere (x, y, z)\n",
    "    ppoi: a point that falls on the plane of interest as a 3-element numpy array\n",
    "\n",
    "    Output:\n",
    "    0 particle number\n",
    "    1 time or frames\n",
    "    2 x movement\n",
    "    3 angle 1 (not used)\n",
    "    4 angle 2 (note used)\n",
    "    5 x coordinate\n",
    "    6 y coordinate\n",
    "    7 z coordinate\n",
    "    8 centered x coordinate\n",
    "    9 centered y coordinate\n",
    "    10 centered z coordinate\n",
    "    11 MSD\n",
    "    12 2D xy MSD\n",
    "    13 2D xz MSD\n",
    "    14 2D yz MSD\n",
    "    15 Diffusion Coefficient (Deff)\n",
    "    16 2D xy Deff\n",
    "    17 2D xz Deff\n",
    "    18 2D yz Deff\n",
    "    19 y movement\n",
    "    20 z movement\n",
    "    \"\"\"\n",
    "\n",
    "    base = b\n",
    "    step = s\n",
    "    pi = 3.14159265359\n",
    "    frames = f\n",
    "\n",
    "    ttraject = np.zeros((frames, 22))\n",
    "    ttraject[0, 0] = p\n",
    "    \n",
    "    for num in range(1, frames):\n",
    "\n",
    "        # Create particle number\n",
    "        ttraject[num, 0] = p\n",
    "        \n",
    "        # Create frame\n",
    "        ttraject[num, 1] = 1 + ttraject[num-1, 1]\n",
    "        \n",
    "        # Create magnitude vectors\n",
    "        ttraject[num, 2] = base*(random.random()-0.5)\n",
    "        ttraject[num, 19] = base*(random.random()-0.5)\n",
    "        ttraject[num, 20] = base*(random.random()-0.5)\n",
    "\n",
    "        # Build preliminary trajectories\n",
    "        ttraject[num, 5] = ttraject[num-1, 5] + ttraject[num, 2]\n",
    "        ttraject[num, 6] = ttraject[num-1, 6] + ttraject[num, 19]\n",
    "        ttraject[num, 7] = ttraject[num-1, 7] + ttraject[num, 20]\n",
    "        \n",
    "        # Test to see if trajectories cross boundary\n",
    "        p0 = np.array([ttraject[num-1, 5], ttraject[num-1, 6], ttraject[num-1, 7]])\n",
    "        p1 = np.array([ttraject[num, 5], ttraject[num, 6], ttraject[num, 7]])\n",
    "        pc = center\n",
    "        \n",
    "        test1 = (p0[0] - pc[0])**2 + (p0[1] - pc[1])**2 + (p0[2] - pc[2])**2 < radius**2\n",
    "        test2 = (p1[0] - pc[0])**2 + (p1[1] - pc[1])**2 + (p1[2] - pc[2])**2 < radius**2\n",
    "        test3 = test2 == test1\n",
    "        \n",
    "        if test3 == True:\n",
    "            #In this case, the trajectories remain unmodified\n",
    "            tor = 1\n",
    "        else:\n",
    "            pint = interlinesphere(p0, p1, pc, radius)\n",
    "            pint, v = tangenttosphere(pint, pc, radius)\n",
    "            newp = reflectmod(p0, p1, v, pint)\n",
    "            ttraject[num, 5] = 0.97*(pint[0] - pc[0]) + pc[0]\n",
    "            ttraject[num, 6] = 0.97*(pint[1] - pc[1]) + pc[1]\n",
    "            ttraject[num, 7] = 0.97*(pint[2] - pc[2]) + pc[2]\n",
    "\n",
    "    particle = ttraject[:, 0]\n",
    "    time = ttraject[:, 1]\n",
    "    x = ttraject[:, 5]\n",
    "    y = ttraject[:, 6]\n",
    "    z = ttraject[:, 7]\n",
    "\n",
    "    ttraject[:, 8] = x - ((max(x)+min(x))/2)\n",
    "    cx = ttraject[:, 8]\n",
    "    ttraject[:, 9] = y - ((max(y)+min(y))/2)\n",
    "    cy = ttraject[:, 9]\n",
    "    ttraject[:, 10] = z - ((max(z)+min(z))/2)\n",
    "    cz = ttraject[:, 10]\n",
    "    \n",
    "    # Calculate MSDs and Deffs\n",
    "    for num in range(1, frames):\n",
    "\n",
    "        ttraject[num, 11] = ((ttraject[num, 8]-ttraject[0, 8])**2 + (ttraject[num, 9]-ttraject[0, 9])**2 +\n",
    "                             (ttraject[num, 10]-ttraject[0, 10])**2)\n",
    "        ttraject[num, 12] = ((ttraject[num, 8]-ttraject[0, 8])**2 + (ttraject[num, 9]-ttraject[0, 9])**2)\n",
    "        ttraject[num, 13] = ((ttraject[num, 8]-ttraject[0, 8])**2 + (ttraject[num, 10]-ttraject[0, 10])**2)\n",
    "        ttraject[num, 14] = ((ttraject[num, 10]-ttraject[0, 10])**2 + (ttraject[num, 9]-ttraject[0, 9])**2)\n",
    "\n",
    "        ttraject[num, 15] = ttraject[num, 11]/(6*ttraject[num, 1])\n",
    "        ttraject[num, 16] = ttraject[num, 12]/(4*ttraject[num, 1])\n",
    "        ttraject[num, 17] = ttraject[num, 13]/(4*ttraject[num, 1])\n",
    "        ttraject[num, 18] = ttraject[num, 14]/(4*ttraject[num, 1])\n",
    "\n",
    "    MSD = ttraject[:, 11]\n",
    "    MSDxy = ttraject[:, 12]\n",
    "    MSDxz = ttraject[:, 13]\n",
    "    MSDyz = ttraject[:, 14]\n",
    "\n",
    "    Deff = ttraject[:, 15]\n",
    "    Deffxy = ttraject[:, 16]\n",
    "    Deffxz = ttraject[:, 17]\n",
    "    Deffyz = ttraject[:, 18]\n",
    "\n",
    "    return ttraject"
   ]
  },
  {
   "cell_type": "code",
   "execution_count": 84,
   "metadata": {
    "collapsed": true
   },
   "outputs": [],
   "source": [
    "def multrandsphere(b, s, f, p, center, radius):\n",
    "    \"\"\"\n",
    "    See randsphere\n",
    "    \"\"\"\n",
    "\n",
    "    parts = p\n",
    "    one = randsphere(b, s, f, 1, center, radius)\n",
    "    counter = 1\n",
    "\n",
    "    while counter < p + 1:\n",
    "        counter = counter + 1\n",
    "        one = np.append(one, randsphere(b, s, f, counter, center, radius), axis=0)\n",
    "\n",
    "    return one"
   ]
  },
  {
   "cell_type": "code",
   "execution_count": 124,
   "metadata": {
    "collapsed": false
   },
   "outputs": [],
   "source": [
    "center = (0, 0, 0)\n",
    "\n",
    "\n",
    "thr3 = multrandsphere(5, 1, 120, 1000, center, 30)"
   ]
  },
  {
   "cell_type": "code",
   "execution_count": 125,
   "metadata": {
    "collapsed": true
   },
   "outputs": [],
   "source": [
    "plot_3Doverlay(thr3, 0, 5, 0, 'practice2', 50, 50, 50)\n",
    "plt.show()"
   ]
  },
  {
   "cell_type": "code",
   "execution_count": 102,
   "metadata": {
    "collapsed": true
   },
   "outputs": [],
   "source": [
    "def reflectmod(p0, p1, n, an):\n",
    "    \"\"\"\n",
    "    Modified to make the magnitude of the reflected vector smaller.\n",
    "    \n",
    "    This function takes a line defined by points p0 and p1 and reflects it about the plane defined by the normal n\n",
    "    and the point an.  The output is a new point p1new where the particle would be if it \"bounced\" off the plane.\n",
    "    \n",
    "    Note: the inputs should be defined as numpy arrays.  Ideally, the plane should fall in between p0 and p1.  I will\n",
    "    need to come up with a test for this in the future.\n",
    "    \"\"\"\n",
    "    \n",
    "    d = p1 - p0\n",
    "    \n",
    "    mag = np.linalg.norm(n)\n",
    "    nn = n/mag\n",
    "    r = d - 2 * np.dot(d, nn) * nn\n",
    "    \n",
    "    par = (np.dot(n, an) - np.dot(n, p0))/np.dot(n, d)\n",
    "    inter = p0 + par * d\n",
    "    \n",
    "    rem = 0.15*np.linalg.norm(p1 - inter)\n",
    "    p1new = (rem/np.linalg.norm(r)) * r + inter\n",
    "    \n",
    "    return p1new"
   ]
  },
  {
   "cell_type": "code",
   "execution_count": null,
   "metadata": {
    "collapsed": true
   },
   "outputs": [],
   "source": []
  }
 ],
 "metadata": {
  "kernelspec": {
   "display_name": "Python 3",
   "language": "python",
   "name": "python3"
  },
  "language_info": {
   "codemirror_mode": {
    "name": "ipython",
    "version": 3
   },
   "file_extension": ".py",
   "mimetype": "text/x-python",
   "name": "python",
   "nbconvert_exporter": "python",
   "pygments_lexer": "ipython3",
   "version": "3.5.1"
  }
 },
 "nbformat": 4,
 "nbformat_minor": 0
}
