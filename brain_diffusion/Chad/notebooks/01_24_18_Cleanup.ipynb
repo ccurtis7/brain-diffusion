{
 "cells": [
  {
   "cell_type": "code",
   "execution_count": 1,
   "metadata": {
    "collapsed": true
   },
   "outputs": [],
   "source": [
    "import os\n",
    "import csv\n",
    "import sys\n",
    "import scipy.optimize as opt\n",
    "import scipy.stats as stat\n",
    "from operator import itemgetter\n",
    "import random\n",
    "import numpy as np\n",
    "import numpy.ma as ma\n",
    "import numpy.linalg as la"
   ]
  },
  {
   "cell_type": "code",
   "execution_count": 2,
   "metadata": {
    "collapsed": false
   },
   "outputs": [],
   "source": [
    "modulef = 'C:/Users/koolk/Desktop/brain-diffusion/brain_diffusion/Chad/'\n",
    "sys.path.insert(0, modulef)\n",
    "from msd import fillin2, MSD_iteration"
   ]
  },
  {
   "cell_type": "code",
   "execution_count": null,
   "metadata": {
    "collapsed": true
   },
   "outputs": [],
   "source": [
    "df = np.genfromtxt('../sample_data.csv', delimiter=\",\")\n",
    "df = np.delete(df, 0, 1)[:, 0:5]"
   ]
  },
  {
   "cell_type": "code",
   "execution_count": 24,
   "metadata": {
    "collapsed": false
   },
   "outputs": [],
   "source": [
    "#generating a sample dataset\n",
    "\n",
    "n = 6\n",
    "p = 2\n",
    "df = np.zeros((p*n, 12))\n",
    "for i in range(1, p+1):\n",
    "    df[(i-1)*n:i*n, 0] = np.ones(n) + i - 1\n",
    "    df[(i-1)*n:i*n, 1] = np.ones(n) + i - 1\n",
    "    df[(i-1)*n:i*n, 2] = np.linspace(0, 10, n) + 2 + i\n",
    "    df[(i-1)*n:i*n, 3] = np.linspace(0, 10, n) + i\n",
    "    df[(i-1)*n:i*n, 4] = np.linspace(0, 10, n)\n",
    "    df[(i-1)*n:i*n, 5] = np.zeros(n)\n",
    "    df[(i-1)*n:i*n, 6:12] = np.zeros((n, 6))"
   ]
  },
  {
   "cell_type": "code",
   "execution_count": 25,
   "metadata": {
    "collapsed": false
   },
   "outputs": [],
   "source": [
    "np.savetxt(\"../Traj_test_data_1.tif.csv\", df, delimiter=\",\")"
   ]
  },
  {
   "cell_type": "code",
   "execution_count": 26,
   "metadata": {
    "collapsed": false
   },
   "outputs": [],
   "source": [
    "folder = '../'\n",
    "name = 'test_data'\n",
    "cut = 1\n",
    "totvids = 1\n",
    "conversion = (1, 1, 1)"
   ]
  },
  {
   "cell_type": "code",
   "execution_count": 31,
   "metadata": {
    "collapsed": false
   },
   "outputs": [],
   "source": [
    "def MSD_iteration(folder, name, cut=1, totvids=1, conversion=(1, 1, 1)):\n",
    "    \"\"\"\n",
    "    Cleans up data for MSD analysis from csv files.  Outputs in form of\n",
    "    dictionaries.\n",
    "    \"\"\"\n",
    "    frames = 0\n",
    "    trajectory = dict()\n",
    "    tots = dict()  # Total particles in each video\n",
    "    newtots = dict()  # Cumulative total particles.\n",
    "    newtots[0] = 0\n",
    "    tlen = dict()\n",
    "    tlength = dict()\n",
    "    tlength[0] = 0\n",
    "\n",
    "    for num in range(1, totvids + 1):\n",
    "        trajectory[num] = np.genfromtxt(folder+'Traj_{}_{}.tif.csv'.format(name, num), delimiter=\",\")\n",
    "        trajectory[num] = np.delete(trajectory[num], 0, 1)\n",
    "\n",
    "        tots[num] = trajectory[num][-1, 0].astype(np.int64)\n",
    "        newtots[num] = newtots[num-1] + tots[num]\n",
    "\n",
    "        tlen[num] = trajectory[num].shape[0]\n",
    "        tlength[num] = tlength[num-1] + tlen[num]\n",
    "\n",
    "        if np.max(trajectory[num][:, 1]) > frames:\n",
    "            frames = int(np.max(trajectory[num][:, 1]))\n",
    "\n",
    "    placeholder = np.zeros((tlength[totvids], 11))\n",
    "\n",
    "    for num in range(1, totvids + 1):\n",
    "        placeholder[tlength[num-1]:tlength[num], :] = trajectory[num]\n",
    "        placeholder[tlength[num-1]:tlength[num], 0] = placeholder[tlength[num-1]:tlength[num], 0] + newtots[num-1]\n",
    "\n",
    "    dataset = dict()\n",
    "    rawdataset = np.zeros(placeholder.shape)\n",
    "    particles = placeholder[:, 0]\n",
    "    total = int(max(particles))\n",
    "    total1 = total + 1\n",
    "    rawdataset = placeholder[:, :]\n",
    "\n",
    "    fixed = np.zeros(placeholder.shape)\n",
    "    fixed[:, 0:2] = rawdataset[:, 0:2]\n",
    "    fixed[:, 2:4] = conversion[0] * rawdataset[:, 2:4]\n",
    "    fixed[:, 4] = conversion[2] * rawdataset[:, 4]\n",
    "\n",
    "    x = np.zeros((frames+1, total1))\n",
    "    y = np.zeros((frames+1, total1))\n",
    "    xs = np.zeros((frames+1, total1))\n",
    "    ys = np.zeros((frames+1, total1))\n",
    "\n",
    "    nones = 0\n",
    "    cutoff = cut\n",
    "    for num in range(1, total1):\n",
    "\n",
    "        hold = np.where(particles == num)\n",
    "        itindex = hold[0]\n",
    "        min1 = min(itindex)\n",
    "        max1 = max(itindex)\n",
    "\n",
    "        if max1 - min1 < cutoff:\n",
    "            nones = nones + 1\n",
    "        else:\n",
    "            holdplease = fillin2(fixed[min1:max1+1, 0:5])\n",
    "            x[int(holdplease[0, 1]):int(holdplease[-1, 1])+1, num - nones - 1] = holdplease[:, 2]\n",
    "            y[int(holdplease[0, 1]):int(holdplease[-1, 1])+1, num - nones - 1] = holdplease[:, 3]\n",
    "\n",
    "            xs[0:int(holdplease[-1, 1])+1-int(holdplease[0, 1]), num - nones - 1] = holdplease[:, 2]\n",
    "            ys[0:int(holdplease[-1, 1])+1-int(holdplease[0, 1]), num - nones - 1] = holdplease[:, 3]\n",
    "\n",
    "    total1 = total1 - nones - 1\n",
    "    x_m = x[:, :total1]\n",
    "    y_m = y[:, :total1]\n",
    "    xs_m = xs[:, :total1]\n",
    "    ys_m = ys[:, :total1]\n",
    "\n",
    "    return total1, xs_m, ys_m, x_m, y_m"
   ]
  },
  {
   "cell_type": "code",
   "execution_count": 35,
   "metadata": {
    "collapsed": false
   },
   "outputs": [
    {
     "data": {
      "text/plain": [
       "(2, array([[  1.,   2.],\n",
       "        [  1.,   2.],\n",
       "        [  3.,   4.],\n",
       "        [  3.,   4.],\n",
       "        [  5.,   6.],\n",
       "        [  5.,   6.],\n",
       "        [  7.,   8.],\n",
       "        [  7.,   8.],\n",
       "        [  9.,  10.],\n",
       "        [  9.,  10.],\n",
       "        [ 11.,  12.],\n",
       "        [  0.,   0.],\n",
       "        [  0.,   0.],\n",
       "        [  0.,   0.],\n",
       "        [  0.,   0.]]), array([[  0.,   0.],\n",
       "        [  0.,   0.],\n",
       "        [  2.,   2.],\n",
       "        [  2.,   2.],\n",
       "        [  4.,   4.],\n",
       "        [  4.,   4.],\n",
       "        [  6.,   6.],\n",
       "        [  6.,   6.],\n",
       "        [  8.,   8.],\n",
       "        [  8.,   8.],\n",
       "        [ 10.,  10.],\n",
       "        [  0.,   0.],\n",
       "        [  0.,   0.],\n",
       "        [  0.,   0.],\n",
       "        [  0.,   0.]]), array([[  0.,   0.],\n",
       "        [  0.,   0.],\n",
       "        [  0.,   0.],\n",
       "        [  1.,   0.],\n",
       "        [  1.,   2.],\n",
       "        [  3.,   2.],\n",
       "        [  3.,   4.],\n",
       "        [  5.,   4.],\n",
       "        [  5.,   6.],\n",
       "        [  7.,   6.],\n",
       "        [  7.,   8.],\n",
       "        [  9.,   8.],\n",
       "        [  9.,  10.],\n",
       "        [ 11.,  10.],\n",
       "        [  0.,  12.]]), array([[  0.,   0.],\n",
       "        [  0.,   0.],\n",
       "        [  0.,   0.],\n",
       "        [  0.,   0.],\n",
       "        [  0.,   0.],\n",
       "        [  2.,   0.],\n",
       "        [  2.,   2.],\n",
       "        [  4.,   2.],\n",
       "        [  4.,   4.],\n",
       "        [  6.,   4.],\n",
       "        [  6.,   6.],\n",
       "        [  8.,   6.],\n",
       "        [  8.,   8.],\n",
       "        [ 10.,   8.],\n",
       "        [  0.,  10.]]))"
      ]
     },
     "execution_count": 35,
     "metadata": {},
     "output_type": "execute_result"
    }
   ],
   "source": [
    "MSD_iteration(folder, name)"
   ]
  },
  {
   "cell_type": "code",
   "execution_count": 30,
   "metadata": {
    "collapsed": false
   },
   "outputs": [
    {
     "data": {
      "text/plain": [
       "int"
      ]
     },
     "execution_count": 30,
     "metadata": {},
     "output_type": "execute_result"
    }
   ],
   "source": [
    "type(total1)"
   ]
  },
  {
   "cell_type": "code",
   "execution_count": 34,
   "metadata": {
    "collapsed": false
   },
   "outputs": [
    {
     "data": {
      "text/plain": [
       "(15, 2)"
      ]
     },
     "execution_count": 34,
     "metadata": {},
     "output_type": "execute_result"
    }
   ],
   "source": [
    "x_m.shape"
   ]
  },
  {
   "cell_type": "code",
   "execution_count": 36,
   "metadata": {
    "collapsed": true
   },
   "outputs": [],
   "source": [
    "np.any?"
   ]
  },
  {
   "cell_type": "code",
   "execution_count": null,
   "metadata": {
    "collapsed": true
   },
   "outputs": [],
   "source": []
  }
 ],
 "metadata": {
  "kernelspec": {
   "display_name": "Python 3",
   "language": "python",
   "name": "python3"
  },
  "language_info": {
   "codemirror_mode": {
    "name": "ipython",
    "version": 3
   },
   "file_extension": ".py",
   "mimetype": "text/x-python",
   "name": "python",
   "nbconvert_exporter": "python",
   "pygments_lexer": "ipython3",
   "version": "3.5.3"
  }
 },
 "nbformat": 4,
 "nbformat_minor": 0
}
