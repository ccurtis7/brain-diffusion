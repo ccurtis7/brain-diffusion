{
 "cells": [
  {
   "cell_type": "code",
   "execution_count": 1,
   "metadata": {
    "collapsed": true
   },
   "outputs": [],
   "source": [
    "import os\n",
    "import csv\n",
    "import sys\n",
    "import scipy.optimize as opt\n",
    "import scipy.stats as stat\n",
    "from operator import itemgetter\n",
    "import random\n",
    "import numpy as np\n",
    "import numpy.ma as ma\n",
    "import numpy.linalg as la"
   ]
  },
  {
   "cell_type": "code",
   "execution_count": 2,
   "metadata": {
    "collapsed": false
   },
   "outputs": [],
   "source": [
    "modulef = 'C:/Users/koolk/Desktop/brain-diffusion/brain_diffusion/Chad/'\n",
    "sys.path.insert(0, modulef)\n",
    "from msd import fillin2, MSD_iteration, vectorized_MMSD_calcs"
   ]
  },
  {
   "cell_type": "code",
   "execution_count": null,
   "metadata": {
    "collapsed": true
   },
   "outputs": [],
   "source": [
    "df = np.genfromtxt('../sample_data.csv', delimiter=\",\")\n",
    "df = np.delete(df, 0, 1)[:, 0:5]"
   ]
  },
  {
   "cell_type": "code",
   "execution_count": 3,
   "metadata": {
    "collapsed": false
   },
   "outputs": [],
   "source": [
    "#generating a sample dataset\n",
    "\n",
    "n = 6\n",
    "p = 2\n",
    "df = np.zeros((p*n, 12))\n",
    "for i in range(1, p+1):\n",
    "    df[(i-1)*n:i*n, 0] = np.ones(n) + i - 1\n",
    "    df[(i-1)*n:i*n, 1] = np.ones(n) + i - 1\n",
    "    df[(i-1)*n:i*n, 2] = np.linspace(0, 10, n) + 2 + i\n",
    "    df[(i-1)*n:i*n, 3] = np.linspace(0, 10, n) + i\n",
    "    df[(i-1)*n:i*n, 4] = np.linspace(0, 10, n) + 3 + i\n",
    "    df[(i-1)*n:i*n, 5] = np.zeros(n)\n",
    "    df[(i-1)*n:i*n, 6:12] = np.zeros((n, 6))"
   ]
  },
  {
   "cell_type": "code",
   "execution_count": 4,
   "metadata": {
    "collapsed": false
   },
   "outputs": [],
   "source": [
    "np.savetxt(\"../Traj_test_data_1.tif.csv\", df, delimiter=\",\")"
   ]
  },
  {
   "cell_type": "code",
   "execution_count": 5,
   "metadata": {
    "collapsed": false
   },
   "outputs": [],
   "source": [
    "folder = '../'\n",
    "name = 'test_data'\n",
    "cut = 1\n",
    "totvids = 1\n",
    "conversion = (1, 1, 1)"
   ]
  },
  {
   "cell_type": "code",
   "execution_count": 6,
   "metadata": {
    "collapsed": false
   },
   "outputs": [],
   "source": [
    "total1, frames, xs_m, ys_m, x_m, y_m = MSD_iteration(folder, name)"
   ]
  },
  {
   "cell_type": "code",
   "execution_count": 8,
   "metadata": {
    "collapsed": false
   },
   "outputs": [],
   "source": [
    "geoM2xy, gSEM, SM1x, SM1y, SM2xy = vectorized_MMSD_calcs(frames, total1, xs_m, ys_m)"
   ]
  },
  {
   "cell_type": "code",
   "execution_count": 13,
   "metadata": {
    "collapsed": false
   },
   "outputs": [
    {
     "data": {
      "text/plain": [
       "3"
      ]
     },
     "execution_count": 13,
     "metadata": {},
     "output_type": "execute_result"
    }
   ],
   "source": [
    "len([1, 2, 3])"
   ]
  },
  {
   "cell_type": "code",
   "execution_count": null,
   "metadata": {
    "collapsed": true
   },
   "outputs": [],
   "source": []
  }
 ],
 "metadata": {
  "kernelspec": {
   "display_name": "Python 3",
   "language": "python",
   "name": "python3"
  },
  "language_info": {
   "codemirror_mode": {
    "name": "ipython",
    "version": 3
   },
   "file_extension": ".py",
   "mimetype": "text/x-python",
   "name": "python",
   "nbconvert_exporter": "python",
   "pygments_lexer": "ipython3",
   "version": "3.5.3"
  }
 },
 "nbformat": 4,
 "nbformat_minor": 0
}
