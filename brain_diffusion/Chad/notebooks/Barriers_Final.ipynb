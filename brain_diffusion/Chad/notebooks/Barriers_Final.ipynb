{
 "cells": [
  {
   "cell_type": "code",
   "execution_count": 1,
   "metadata": {
    "collapsed": true
   },
   "outputs": [],
   "source": [
    "import matplotlib as mpl\n",
    "import matplotlib.pyplot as plt\n",
    "import scipy.optimize as opt\n",
    "\n",
    "from mpl_toolkits.mplot3d import Axes3D\n",
    "from trajectory_visualization import plot_trajectory, sidebyside, shift_trajectory, overlay, shift_trajectory3D\n",
    "from trajectory_visualization import plot_trajectories3D, plot_3Doverlay, plot_MSDorDeff, plot_MeanMSDorDeff, randtraj, multrandtraj\n",
    "from trajectory_visualization import randtraj2, plot_Mean2DMSDsorDeff, plot_MSDorDeffLR, LRfor3D2D\n",
    "from operator import itemgetter\n",
    "from random_traj import randaniso, randconv, multrandaniso, multrandconv, randsamp, multrandsamp, randall, multrandall\n",
    "from random_traj import randanisorot, multrandanisorot\n",
    "from ellipsoid import maxtraj, mvee, plot_mvee, plot_mveeoverl, rotmat, rotmat2, plot_mveeoverl2\n",
    "from ellipsoid import ellipsax, MSDS, andiff, plot_anisoMSDS, plot_anisodiff\n",
    "import random\n",
    "import numpy as np\n",
    "import numpy.linalg as la\n",
    "from mpl_toolkits.mplot3d import Axes3D\n",
    "from ellipsoid import extrema, enclosed_MSD\n",
    "\n",
    "pi = np.pi\n",
    "sin = np.sin\n",
    "cos = np.cos\n",
    "\n",
    "from barriers import randplane, reflect, multrandplane, rand2planes, multrand2planes, inter2planes, linepoint\n",
    "from barriers import intersection, quadratic, tangenttosphere, interlinesphere, reflectmod\n",
    "from barriers import randsphere, multrandsphere"
   ]
  },
  {
   "cell_type": "code",
   "execution_count": null,
   "metadata": {
    "collapsed": false
   },
   "outputs": [],
   "source": [
    "#Exploring the effects of a single planar barrier.\n",
    "#I looked at barriers at a distance of 2, 5, 10, and 40.\n",
    "\n",
    "n = np.array([1, 0, 0])\n",
    "an = np.array([-40, 0, 0])\n",
    "thr = multrandplane(5, 1, 120, 1000, n, an)\n",
    "\n",
    "plot_3Doverlay(thr, 0, 5, 2, 'barrier_4', 50, 50, 50)\n",
    "plt.show()"
   ]
  },
  {
   "cell_type": "code",
   "execution_count": null,
   "metadata": {
    "collapsed": true
   },
   "outputs": [],
   "source": [
    "one = plot_Mean2DMSDsorDeff(thr, 0, 1, 11, 0, 0, 'MSD', 'MSDS_barrier_4', 121, 601, 30, 100)\n",
    "plt.show()"
   ]
  },
  {
   "cell_type": "code",
   "execution_count": null,
   "metadata": {
    "collapsed": true
   },
   "outputs": [],
   "source": [
    "one = plot_Mean2DMSDsorDeff(thr, 0, 1, 15, 0, 1, 'Deff', 'Deff_barrier_4', 121, 1.6, 30, 0.5)\n",
    "plt.show()"
   ]
  },
  {
   "cell_type": "code",
   "execution_count": null,
   "metadata": {
    "collapsed": false
   },
   "outputs": [],
   "source": [
    "#Exploring the effects of two parallel planar barriers\n",
    "#I looked at (-2, 2), (-5, 5), (-10, 10), (-40, 40), (-2, 8), (-5, 15)\n",
    "\n",
    "n = np.array([0, 0, 1])\n",
    "an = np.array([0, 0, -5])\n",
    "\n",
    "n1 = np.array([0, 0, 1])\n",
    "an1 = np.array([0, 0, 15])\n",
    "\n",
    "thr1 = multrand2planes(5, 1, 120, 1000, n, an, n1, an1)\n",
    "plot_3Doverlay(thr1, 0, 5, 2, 'pplates_7', 40, 40, 40)\n",
    "plt.show()"
   ]
  },
  {
   "cell_type": "code",
   "execution_count": null,
   "metadata": {
    "collapsed": true
   },
   "outputs": [],
   "source": [
    "one = plot_Mean2DMSDsorDeff(thr1, 0, 1, 11, 0, 0, 'MSD', 'MSDS_pplates_7', 121, 501, 30, 100)\n",
    "plt.show()"
   ]
  },
  {
   "cell_type": "code",
   "execution_count": null,
   "metadata": {
    "collapsed": true
   },
   "outputs": [],
   "source": [
    "one = plot_Mean2DMSDsorDeff(thr1, 0, 1, 15, 0, 1, 'Deff', 'Deff_pplates_7', 121, 1.6, 30, 0.5)\n",
    "plt.show()"
   ]
  },
  {
   "cell_type": "code",
   "execution_count": null,
   "metadata": {
    "collapsed": true
   },
   "outputs": [],
   "source": [
    "#Exploring the effects of a corner\n",
    "#I looked at (-2, 2), (-5, 5), (-10, 10), (-20, 20), (-2, 8), (-5, 15)\n",
    "\n",
    "n = np.array([0, 1, 0])\n",
    "an = np.array([0, -5, 0])\n",
    "\n",
    "n1 = np.array([1, 0, 0])\n",
    "an1 = np.array([-15, 0, 0])\n",
    "\n",
    "thr3 = multrand2planes(5, 1, 120, 1000, n, an, n1, an1)\n",
    "plot_3Doverlay(thr3, 0, 5, 2, 'corner_6', 50, 50, 50)\n",
    "plt.show()"
   ]
  },
  {
   "cell_type": "code",
   "execution_count": null,
   "metadata": {
    "collapsed": true
   },
   "outputs": [],
   "source": [
    "one = plot_Mean2DMSDsorDeff(thr3, 0, 1, 11, 0, 0, 'MSD', 'MSDS_corner_6', 121, 501, 30, 100)\n",
    "plt.show()"
   ]
  },
  {
   "cell_type": "code",
   "execution_count": null,
   "metadata": {
    "collapsed": true
   },
   "outputs": [],
   "source": [
    "one = plot_Mean2DMSDsorDeff(thr3, 0, 1, 15, 0, 1, 'Deff', 'Deff_corner_6', 121, 1.6, 30, 0.5)\n",
    "plt.show()"
   ]
  },
  {
   "cell_type": "code",
   "execution_count": 19,
   "metadata": {
    "collapsed": false
   },
   "outputs": [],
   "source": [
    "#Exploring the effects of a spherical barrier, effects of radius.\n",
    "#I looked at radii of 5, 10, 20, 30, 40, 50\n",
    "\n",
    "center = (0, 0, 0)\n",
    "\n",
    "thr4 = multrandsphere(5, 1, 120, 1000, center, 5)\n",
    "plot_3Doverlay(thr4, 0, 5, 0, 'radius_6', 50, 50, 50)\n",
    "plt.show()"
   ]
  },
  {
   "cell_type": "code",
   "execution_count": 20,
   "metadata": {
    "collapsed": true
   },
   "outputs": [],
   "source": [
    "one = plot_Mean2DMSDsorDeff(thr4, 0, 1, 11, 0, 0, 'MSD', 'MSDS_radius_6', 121, 501, 30, 100)\n",
    "plt.show()"
   ]
  },
  {
   "cell_type": "code",
   "execution_count": 21,
   "metadata": {
    "collapsed": true
   },
   "outputs": [],
   "source": [
    "one = plot_Mean2DMSDsorDeff(thr4, 0, 1, 15, 0, 1, 'Deff', 'Deff_radius_6', 121, 1.6, 30, 0.5)\n",
    "plt.show()"
   ]
  },
  {
   "cell_type": "code",
   "execution_count": 28,
   "metadata": {
    "collapsed": true
   },
   "outputs": [],
   "source": [
    "#Exploring the effects of a shift in the center of the sphere.\n",
    "#I looked at shifts of 1, 2, 5, 10, and 19 with a radius of 20.\n",
    "\n",
    "center = (0, 0, 5)\n",
    "\n",
    "thr4 = multrandsphere(5, 1, 120, 1000, center, 20)\n",
    "plot_3Doverlay(thr4, 0, 5, 0, 'center_3', 50, 50, 50)\n",
    "plt.show()"
   ]
  },
  {
   "cell_type": "code",
   "execution_count": 29,
   "metadata": {
    "collapsed": true
   },
   "outputs": [],
   "source": [
    "one = plot_Mean2DMSDsorDeff(thr4, 0, 1, 11, 0, 0, 'MSD', 'MSDS_center_3', 121, 501, 30, 100)\n",
    "plt.show()"
   ]
  },
  {
   "cell_type": "code",
   "execution_count": 30,
   "metadata": {
    "collapsed": true
   },
   "outputs": [],
   "source": [
    "one = plot_Mean2DMSDsorDeff(thr4, 0, 1, 15, 0, 1, 'Deff', 'Deff_center_3', 121, 1.6, 30, 0.5)\n",
    "plt.show()"
   ]
  },
  {
   "cell_type": "code",
   "execution_count": null,
   "metadata": {
    "collapsed": true
   },
   "outputs": [],
   "source": []
  }
 ],
 "metadata": {
  "kernelspec": {
   "display_name": "Python 3",
   "language": "python",
   "name": "python3"
  },
  "language_info": {
   "codemirror_mode": {
    "name": "ipython",
    "version": 3
   },
   "file_extension": ".py",
   "mimetype": "text/x-python",
   "name": "python",
   "nbconvert_exporter": "python",
   "pygments_lexer": "ipython3",
   "version": "3.5.1"
  }
 },
 "nbformat": 4,
 "nbformat_minor": 0
}
