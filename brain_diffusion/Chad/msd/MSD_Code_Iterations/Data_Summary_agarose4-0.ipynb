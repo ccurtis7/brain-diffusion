{
 "cells": [
  {
   "cell_type": "code",
   "execution_count": 1,
   "metadata": {
    "collapsed": true
   },
   "outputs": [],
   "source": [
    "import os\n",
    "import csv\n",
    "import sys\n",
    "module_path = os.path.abspath(os.path.join('..'))\n",
    "if module_path not in sys.path:\n",
    "    sys.path.append(module_path)\n",
    "\n",
    "from trajectory_visualization import plot_trajectory, sidebyside, shift_trajectory, overlay, shift_trajectory3D\n",
    "from trajectory_visualization import plot_trajectories3D, plot_3Doverlay, plot_MSDorDeff, plot_MeanMSDorDeff, randtraj, multrandtraj\n",
    "from trajectory_visualization import randtraj2, plot_Mean2DMSDsorDeff, plot_MSDorDeffLR, LRfor3D2D, fillin, prettify\n",
    "from methods_of_Dcalc import Dpointder, Dlinalg, Dlinalgw\n",
    "\n",
    "import matplotlib as mpl\n",
    "import matplotlib.pyplot as plt\n",
    "import matplotlib.ticker as mtick\n",
    "import scipy.optimize as opt\n",
    "import scipy.stats as stat\n",
    "from mpl_toolkits.mplot3d import Axes3D\n",
    "from operator import itemgetter\n",
    "import random\n",
    "import numpy as np\n",
    "import numpy.ma as ma\n",
    "import numpy.linalg as la\n",
    "from mpl_toolkits.mplot3d import Axes3D\n",
    "\n",
    "pi = np.pi\n",
    "sin = np.sin\n",
    "cos = np.cos"
   ]
  },
  {
   "cell_type": "code",
   "execution_count": 2,
   "metadata": {
    "collapsed": false
   },
   "outputs": [],
   "source": [
    "#The purpose of this book is to compare in one plot the results of varying parameters.\n",
    "\n",
    "geoM2xy_100nm_PS_in_0_4_agarose = np.genfromtxt('./100nm_PS-NPs/geoM2xy_100nm_PS_in_0-4_agarose.csv',delimiter =\",\")\n",
    "geoM2xy_100nm_PS_PEG_in_0_4_agarose = np.genfromtxt('./100nm_PS-PEG/geoM2xy_100nm_PS_PEG_in_0-4_agarose.csv',delimiter =\",\")\n",
    "# geoM2xy_20nm_PS_in_0_4_agarose = np.genfromtxt('./20nm_PS-NPs/geoM2xy_20nm_PS_in_0-4_agarose',delimiter =\",\")\n",
    "# geoM2xy_20nm_PS_PEG_in_0_4_agarose = np.genfromtxt('./20nm_PS-PEG/geoM2xy_20nm_PS_PEG_in_0-4_agarose',delimiter =\",\")"
   ]
  },
  {
   "cell_type": "code",
   "execution_count": 43,
   "metadata": {
    "collapsed": true
   },
   "outputs": [],
   "source": [
    "geoD2xy_100nm_PS_in_0_4_agarose = np.genfromtxt('./100nm_PS-NPs/geoD2xy_100nm_PS_in_0-4_agarose.csv',delimiter =\",\")\n",
    "geoD2xy_100nm_PS_PEG_in_0_4_agarose = np.genfromtxt('./100nm_PS-PEG/geoD2xy_100nm_PS_PEG_in_0-4_agarose.csv',delimiter =\",\")"
   ]
  },
  {
   "cell_type": "code",
   "execution_count": 3,
   "metadata": {
    "collapsed": true
   },
   "outputs": [],
   "source": [
    "# geoM2xy_camera_1000ms_60x = np.genfromtxt('./geoM2xy_camera_1000ms_60x.csv',delimiter =\",\")\n",
    "# arM2xy_camera_1000ms_60x = np.genfromtxt('./arM2xy_camera_1000ms_60x.csv',delimiter =\",\")"
   ]
  },
  {
   "cell_type": "code",
   "execution_count": 4,
   "metadata": {
    "collapsed": false
   },
   "outputs": [],
   "source": [
    "f1 = 0.5\n",
    "f2 = 3.95\n",
    "\n",
    "time1 = np.zeros(geoM2xy_100nm_PS_in_0_4_agarose.shape[0])\n",
    "time2 = np.zeros(geoM2xy_100nm_PS_PEG_in_0_4_agarose.shape[0])\n",
    "\n",
    "for num in range(0, geoM2xy_100nm_PS_in_0_4_agarose.shape[0]):\n",
    "    time1[num] = num/f1\n",
    "\n",
    "for num in range(0, geoM2xy_100nm_PS_PEG_in_0_4_agarose.shape[0]):\n",
    "    time2[num] = num/f2"
   ]
  },
  {
   "cell_type": "code",
   "execution_count": 46,
   "metadata": {
    "collapsed": false
   },
   "outputs": [
    {
     "data": {
      "text/plain": [
       "array([  0.        ,   0.25316456,   0.50632911,   0.75949367,\n",
       "         1.01265823,   1.26582278,   1.51898734,   1.7721519 ,\n",
       "         2.02531646,   2.27848101,   2.53164557,   2.78481013,\n",
       "         3.03797468,   3.29113924,   3.5443038 ,   3.79746835,\n",
       "         4.05063291,   4.30379747,   4.55696203,   4.81012658,\n",
       "         5.06329114,   5.3164557 ,   5.56962025,   5.82278481,\n",
       "         6.07594937,   6.32911392,   6.58227848,   6.83544304,\n",
       "         7.08860759,   7.34177215,   7.59493671,   7.84810127,\n",
       "         8.10126582,   8.35443038,   8.60759494,   8.86075949,\n",
       "         9.11392405,   9.36708861,   9.62025316,   9.87341772,\n",
       "        10.12658228,  10.37974684,  10.63291139,  10.88607595,\n",
       "        11.13924051,  11.39240506,  11.64556962,  11.89873418,\n",
       "        12.15189873,  12.40506329,  12.65822785,  12.91139241,\n",
       "        13.16455696,  13.41772152,  13.67088608,  13.92405063,\n",
       "        14.17721519,  14.43037975,  14.6835443 ,  14.93670886,\n",
       "        15.18987342,  15.44303797,  15.69620253,  15.94936709,\n",
       "        16.20253165,  16.4556962 ,  16.70886076,  16.96202532,\n",
       "        17.21518987,  17.46835443,  17.72151899,  17.97468354,\n",
       "        18.2278481 ,  18.48101266,  18.73417722,  18.98734177,\n",
       "        19.24050633,  19.49367089,  19.74683544,  20.        ,\n",
       "        20.25316456,  20.50632911,  20.75949367,  21.01265823,\n",
       "        21.26582278,  21.51898734,  21.7721519 ,  22.02531646,\n",
       "        22.27848101,  22.53164557,  22.78481013,  23.03797468,\n",
       "        23.29113924,  23.5443038 ,  23.79746835,  24.05063291,\n",
       "        24.30379747,  24.55696203,  24.81012658,  25.06329114,\n",
       "        25.3164557 ,  25.56962025,  25.82278481,  26.07594937,\n",
       "        26.32911392,  26.58227848,  26.83544304,  27.08860759,\n",
       "        27.34177215,  27.59493671,  27.84810127,  28.10126582,\n",
       "        28.35443038,  28.60759494,  28.86075949,  29.11392405,\n",
       "        29.36708861,  29.62025316,  29.87341772,  30.12658228,\n",
       "        30.37974684,  30.63291139,  30.88607595,  31.13924051,\n",
       "        31.39240506,  31.64556962,  31.89873418,  32.15189873,\n",
       "        32.40506329,  32.65822785,  32.91139241,  33.16455696,\n",
       "        33.41772152,  33.67088608,  33.92405063,  34.17721519,\n",
       "        34.43037975,  34.6835443 ,  34.93670886,  35.18987342,\n",
       "        35.44303797,  35.69620253,  35.94936709,  36.20253165,\n",
       "        36.4556962 ,  36.70886076,  36.96202532,  37.21518987,\n",
       "        37.46835443,  37.72151899,  37.97468354,  38.2278481 ,\n",
       "        38.48101266,  38.73417722,  38.98734177,  39.24050633,\n",
       "        39.49367089,  39.74683544,  40.        ,  40.25316456,\n",
       "        40.50632911,  40.75949367,  41.01265823,  41.26582278,\n",
       "        41.51898734,  41.7721519 ,  42.02531646,  42.27848101,\n",
       "        42.53164557,  42.78481013,  43.03797468,  43.29113924,\n",
       "        43.5443038 ,  43.79746835,  44.05063291,  44.30379747,\n",
       "        44.55696203,  44.81012658,  45.06329114,  45.3164557 ,\n",
       "        45.56962025,  45.82278481,  46.07594937,  46.32911392,\n",
       "        46.58227848,  46.83544304,  47.08860759,  47.34177215,\n",
       "        47.59493671,  47.84810127,  48.10126582,  48.35443038,\n",
       "        48.60759494,  48.86075949,  49.11392405,  49.36708861,\n",
       "        49.62025316,  49.87341772,  50.12658228,  50.37974684,\n",
       "        50.63291139,  50.88607595,  51.13924051,  51.39240506,\n",
       "        51.64556962,  51.89873418,  52.15189873,  52.40506329,\n",
       "        52.65822785,  52.91139241,  53.16455696,  53.41772152,\n",
       "        53.67088608,  53.92405063,  54.17721519,  54.43037975,\n",
       "        54.6835443 ,  54.93670886,  55.18987342,  55.44303797,\n",
       "        55.69620253,  55.94936709,  56.20253165,  56.4556962 ,\n",
       "        56.70886076,  56.96202532,  57.21518987,  57.46835443,\n",
       "        57.72151899,  57.97468354,  58.2278481 ,  58.48101266,\n",
       "        58.73417722,  58.98734177,  59.24050633,  59.49367089,  59.74683544])"
      ]
     },
     "execution_count": 46,
     "metadata": {},
     "output_type": "execute_result"
    }
   ],
   "source": [
    "time2"
   ]
  },
  {
   "cell_type": "code",
   "execution_count": 45,
   "metadata": {
    "collapsed": false
   },
   "outputs": [
    {
     "data": {
      "text/plain": [
       "array([         nan,   5.81344562,   5.61276853,   5.27161267,\n",
       "         4.91161979,   4.45350733,   4.40961589,   4.29199192,\n",
       "         4.25395254,   4.22844102,   4.24340597,   4.19525438,\n",
       "         4.17695695,   4.16170802,   4.09717313,   4.01649121,\n",
       "         3.92095056,   3.95203222,   3.73298069,   3.70485137,\n",
       "         3.5795085 ,   3.53361355,   3.45978495,   3.3441739 ,\n",
       "         3.2708956 ,   3.31492936,   3.28883084,   3.37009337,\n",
       "         3.36039668,   3.31492408,   3.41478373,   3.47899024,\n",
       "         3.3298594 ,   3.18953492,   3.18189888,   3.04863592,\n",
       "         3.02114645,   3.06722662,   3.13230882,   3.1198247 ,\n",
       "         2.88558663,   2.73407971,   2.62329584,   2.46465693,\n",
       "         2.29135856,   2.27652205,   2.41836314,   2.44196207,\n",
       "         2.39600848,   2.19264144,   2.07984528,   2.03981153,\n",
       "         1.64571258,   1.7264948 ,   1.67741171,   1.46009924,\n",
       "         1.6226996 ,   1.43779368,   1.3930014 ,   1.35142722,\n",
       "         1.31627064,   1.31168505,   1.13254159,   1.16268455,\n",
       "         1.13849176,   1.08274036,   1.09526436,   1.01044296,\n",
       "         0.86115814,   0.80357972,   0.82959164,   0.81549521,\n",
       "         0.80407613,   0.83488277,   0.81426317,   0.62629772,\n",
       "         0.63597478,   0.60567314,   0.51456512,   0.33400852,\n",
       "         0.2648181 ,   0.27460779,   0.27318098,   0.27216927,\n",
       "         0.27943568,   0.41737091,   0.4168136 ,   0.40430889,\n",
       "         0.39969892,   0.37644958,   0.27807284,   0.18958123,\n",
       "         0.19183257,   0.19434651,   0.19077845,   0.19204724,\n",
       "         0.19160999,   0.19026674,   0.19272633,   0.19508564,\n",
       "         0.18748234,   0.17282907,   0.15261414,   0.1513812 ,\n",
       "         0.15283191,   0.15075433,   0.1580166 ,   0.15352194,\n",
       "         0.15180839,   0.16091733,   0.14502111,   0.30866538,\n",
       "         0.31151515,   0.31834181,   0.30612563,   0.26924358,\n",
       "         0.21367177,   0.14700668,   0.43799032,   0.43366799,\n",
       "         0.43227604,   0.43412416,   0.43578447,   0.43817152,\n",
       "         0.43883926,   0.44224501,   0.44453389,   0.44665893,\n",
       "         0.45043137,   0.45489891,   0.45612152,   0.4577126 ,\n",
       "         0.45925672,   0.46366089,   0.46580586,   0.46574407,\n",
       "         0.46569389,   0.46386046,   0.46055325,   0.45836902,\n",
       "         0.44925809,   0.43043352,   0.41546111,   0.37571266,\n",
       "         0.37306021,   0.35694698,   0.36483024,   0.360161  ,\n",
       "         0.36417756,   0.36057649,   0.37707287,   0.38589439,\n",
       "         0.39109657,   0.40565236,   0.4231304 ,   0.44373961,\n",
       "         0.44131369,   0.45564721,   0.47787457,   0.46631801,\n",
       "         0.49081083,   0.52367267,   0.54966422,   0.59046556,\n",
       "         0.63256823,   0.80560502,   0.82564056,   0.83485772,\n",
       "         0.84805704,   0.83768805,   0.82537187,   0.86193872,\n",
       "         0.87445735,   1.0374683 ,   1.04226077,   1.05085903,\n",
       "         1.06220589,   1.07316658,   1.09067782,   1.1053017 ,\n",
       "         1.10578486,   1.10439497,   1.11521566,   1.12112888,\n",
       "         1.13606401,   1.15330102,   1.17053725,   1.1969185 ,\n",
       "         1.24031527,   1.27446831,   1.34846713,   1.35669546,\n",
       "         1.42319556,   1.49348977,   1.53553467,   1.61996625,\n",
       "         1.65790433,   1.75948701,   1.87275624,   2.00545791,\n",
       "         2.20573661,   2.23558474,   2.30344696,   3.93012595,\n",
       "        16.41996075,  16.85048411,  17.30961099,  17.80018934,\n",
       "        18.32546018,  18.88912778,  19.49544547,  20.14932114,\n",
       "        20.85644826,  21.62346944,  22.45818281,  23.36980461,\n",
       "        24.36930683,  25.46985617,  26.68739155,  28.04139416,\n",
       "        29.55592936,  31.26107913,  33.19494768,  35.40652652,\n",
       "        37.9598818 ,  40.94043548,  44.46467248,  48.69567215,\n",
       "        53.86899405,  60.33797805,  68.65787316,  79.75409509,\n",
       "        79.07499493,  78.7483419 ,  78.2650807 ,  78.50820032,  78.80068719])"
      ]
     },
     "execution_count": 45,
     "metadata": {},
     "output_type": "execute_result"
    }
   ],
   "source": [
    "geoD2xy_100nm_PS_PEG_in_0_4_agarose"
   ]
  },
  {
   "cell_type": "code",
   "execution_count": 6,
   "metadata": {
    "collapsed": false
   },
   "outputs": [],
   "source": [
    "#Linear algebra to find Deff (PS-PEG-NPs):\n",
    "to_frame1 = 17\n",
    "\n",
    "w = dict()\n",
    "residuals = dict()\n",
    "line = dict()\n",
    "A1 = np.ones((np.shape(time2)[0], 2))\n",
    "A1[:, 0] = time2\n",
    "\n",
    "w[0], residuals[0] = np.linalg.lstsq(A1[1:to_frame1, :], geoM2xy_100nm_PS_PEG_in_0_4_agarose[1:to_frame1])[0:2]\n",
    "# w[1] = np.linalg.lstsq(A1[1:to_frame1, :], geoM2xy_20nm_PS_PEG_in_0_4_agarose[1:to_frame1])[0]\n",
    "\n",
    "line[0] = w[0][0]*time2 + w[0][1]\n",
    "# line[1] = w[1][0]*time2 + w[1][1]"
   ]
  },
  {
   "cell_type": "code",
   "execution_count": 7,
   "metadata": {
    "collapsed": false
   },
   "outputs": [
    {
     "name": "stdout",
     "output_type": "stream",
     "text": [
      "Diffusion Coeff (um^2/s): 3.8130148 geoM2xy_100nm_PS_PEG_in_0_4_agarose\n"
     ]
    }
   ],
   "source": [
    "print('Diffusion Coeff (um^2/s):', np.round(w[0][0], 7), 'geoM2xy_100nm_PS_PEG_in_0_4_agarose')\n",
    "# print('Diffusion Coeff (um^2/s):', np.round(w[1][0], 7), 'geoM2xy_20nm_PS_PEG_in_0_4_agarose')"
   ]
  },
  {
   "cell_type": "code",
   "execution_count": 8,
   "metadata": {
    "collapsed": false
   },
   "outputs": [
    {
     "data": {
      "text/plain": [
       "array([ 0.03883351])"
      ]
     },
     "execution_count": 8,
     "metadata": {},
     "output_type": "execute_result"
    }
   ],
   "source": [
    "residuals[0]/17"
   ]
  },
  {
   "cell_type": "code",
   "execution_count": 9,
   "metadata": {
    "collapsed": false
   },
   "outputs": [],
   "source": [
    "#Linear algebra to find Deff (PS NPs):\n",
    "to_frame = 20\n",
    "\n",
    "w1 = dict()\n",
    "residuals1 = dict()\n",
    "line1 = dict()\n",
    "A2 = np.ones((np.shape(time1)[0], 2))\n",
    "A2[:, 0] = time1\n",
    "\n",
    "\n",
    "w1[0], residuals1[0] = np.linalg.lstsq(A2[1:to_frame, :], geoM2xy_100nm_PS_in_0_4_agarose[1:to_frame])[0:2]\n",
    "# w1[1] = np.linalg.lstsq(A2[1:to_frame, :], geoM2xy_20nm_PS_in_0_4_agarose[1:to_frame])[0]\n",
    "\n",
    "line1[0] = w1[0][0]*time1 + w1[0][1]\n",
    "# line1[1] = w1[1][0]*time1 + w1[1][1]"
   ]
  },
  {
   "cell_type": "code",
   "execution_count": 10,
   "metadata": {
    "collapsed": false
   },
   "outputs": [
    {
     "name": "stdout",
     "output_type": "stream",
     "text": [
      "Diffusion Coeff (um^2/s): 1.57e-05 geoM2xy_100nm_PS_in_0_4_agarose\n"
     ]
    }
   ],
   "source": [
    "print('Diffusion Coeff (um^2/s):', np.round(w1[0][0], 7), 'geoM2xy_100nm_PS_in_0_4_agarose')\n",
    "# print('Diffusion Coeff (um^2/s):', np.round(w1[1][0], 7), 'geoM2xy_20nm_PS_in_0_4_agarose')"
   ]
  },
  {
   "cell_type": "code",
   "execution_count": 11,
   "metadata": {
    "collapsed": false
   },
   "outputs": [
    {
     "data": {
      "text/plain": [
       "array([  8.60502435e-10])"
      ]
     },
     "execution_count": 11,
     "metadata": {},
     "output_type": "execute_result"
    }
   ],
   "source": [
    "residuals1[0]/20"
   ]
  },
  {
   "cell_type": "code",
   "execution_count": 12,
   "metadata": {
    "collapsed": true
   },
   "outputs": [],
   "source": [
    "# N = 5\n",
    "\n",
    "# ind = np.arange(N)\n",
    "# width = 0.35     \n",
    "\n",
    "# x1 = [1, 2, 3, 4]\n",
    "# x2 = [1, 2, 3, 4]\n",
    "# y1 = [w[0][0], w[1][0], w1[0][0], w1[1][0]]\n",
    "# y2 = [w[2][0], w[3][0], w1[2][0], w1[3][0]]\n",
    "\n",
    "# labels1 = ['FM2xy_camera_1000ms_40x', 'FM2xy_camera_1000ms_60x', 'FM2xy_camera_625ms_40x', 'FM2xy_camera_625ms_60x']\n",
    "# labels2 = ['FM2xy_confocal_1000ms_40x', 'FM2xy_confocal_1000ms_60x', 'FM2xy_confocal_625ms_40x', 'FM2xy_confocal_625ms_60x']"
   ]
  },
  {
   "cell_type": "code",
   "execution_count": 13,
   "metadata": {
    "collapsed": false
   },
   "outputs": [],
   "source": [
    "# fig = plt.figure()\n",
    "# ax = fig.add_subplot(111)\n",
    "\n",
    "# ## the data\n",
    "# N = 4\n",
    "\n",
    "# ## necessary variables\n",
    "# ind = np.arange(N)                # the x locations for the groups\n",
    "# width = 0.6                     # the width of the bars\n",
    "\n",
    "# ## the bars\n",
    "# rects1 = ax.bar(ind, y1, width,\n",
    "#                 color='green')\n",
    "\n",
    "# # axes and labels\n",
    "# ax.set_xlim(-width/2,len(ind)+width/2)\n",
    "# ax.set_ylim(0,0.0012)\n",
    "# ax.set_ylabel('Diffusion Coefficient (um^2/s)')\n",
    "# ax.set_title('Diffusion coefficients for camera')\n",
    "# xTickMarks = [labels1[i-1] for i in range(1,5)]\n",
    "# ax.set_xticks(ind+width)\n",
    "# xtickNames = ax.set_xticklabels(xTickMarks)\n",
    "# plt.setp(xtickNames, rotation=45, fontsize=10)\n",
    "\n",
    "# plt.show()"
   ]
  },
  {
   "cell_type": "code",
   "execution_count": 14,
   "metadata": {
    "collapsed": true
   },
   "outputs": [],
   "source": [
    "# fig = plt.figure()\n",
    "# ax = fig.add_subplot(111)\n",
    "\n",
    "# ## the data\n",
    "# N = 4\n",
    "\n",
    "# ## necessary variables\n",
    "# ind = np.arange(N)                # the x locations for the groups\n",
    "# width = 0.6                     # the width of the bars\n",
    "\n",
    "# ## the bars\n",
    "# rects1 = ax.bar(ind, y2, width,\n",
    "#                 color='green')\n",
    "\n",
    "# # axes and labels\n",
    "# ax.set_xlim(-width/2,len(ind)+width/2)\n",
    "# ax.set_ylim(0,0.0012)\n",
    "# ax.set_ylabel('Diffusion Coefficient (um^2/s)')\n",
    "# ax.set_title('Diffusion coefficients for confocal')\n",
    "# xTickMarks = [labels2[i-1] for i in range(1,5)]\n",
    "# ax.set_xticks(ind+width)\n",
    "# xtickNames = ax.set_xticklabels(xTickMarks)\n",
    "# plt.setp(xtickNames, rotation=45, fontsize=10)\n",
    "\n",
    "# plt.show()"
   ]
  },
  {
   "cell_type": "code",
   "execution_count": 40,
   "metadata": {
    "collapsed": false
   },
   "outputs": [],
   "source": [
    "#Figure parameters\n",
    "\n",
    "filename = 'geo_comparison.png'\n",
    "\n",
    "limit1=8.1 #x range\n",
    "tick1 = round(limit1)/5 #x ticks\n",
    "\n",
    "limit2=20.1 #y range\n",
    "tick2 = round(limit2, 2)/5 #y ticks\n",
    "\n",
    "label=95 #label font size\n",
    "leg=40 #legend font size\n",
    "ylabel=r'<MSD> ($\\mu$m$^2$)'\n",
    "\n",
    "dec1=0 #decimals displayed on x axis\n",
    "dec2=0 #decimals displayed on y axis\n",
    "\n",
    "d1 = 30 #dashed line dash length\n",
    "d2 = 15 #dashed line space length\n",
    "\n",
    "wi = 10 #line width\n",
    "mi = 12 #marker size"
   ]
  },
  {
   "cell_type": "code",
   "execution_count": 16,
   "metadata": {
    "collapsed": true
   },
   "outputs": [],
   "source": [
    "def color_variant(hex_color, brightness_offset=1):\n",
    "    \"\"\" takes a color like #87c95f and produces a lighter or darker variant \"\"\"\n",
    "    if len(hex_color) != 7:\n",
    "        raise Exception(\"Passed %s into color_variant(), needs to be in #87c95f format.\" % hex_color)\n",
    "    rgb_hex = [hex_color[x:x+2] for x in [1, 3, 5]]\n",
    "    new_rgb_int = [int(hex_value, 16) + brightness_offset for hex_value in rgb_hex]\n",
    "    new_rgb_int = [min([255, max([0, i])]) for i in new_rgb_int] # make sure new values are between 0 and 255\n",
    "    # hex() produces \"0x88\", we want just \"88\"\n",
    "    return \"#\" + \"\".join([hex(i)[2:] for i in new_rgb_int])"
   ]
  },
  {
   "cell_type": "code",
   "execution_count": 17,
   "metadata": {
    "collapsed": false
   },
   "outputs": [],
   "source": [
    "# for name, hex in mpl.colors.cnames.items():\n",
    "#     print(name, hex)\n",
    "\n",
    "g2 = color_variant('#008000', brightness_offset=0)\n",
    "b2 = color_variant('#0000FF', brightness_offset=0)"
   ]
  },
  {
   "cell_type": "code",
   "execution_count": 18,
   "metadata": {
    "collapsed": true
   },
   "outputs": [],
   "source": [
    "def clamp(val, minimum=0, maximum=255):\n",
    "    if val < minimum:\n",
    "        return minimum\n",
    "    if val > maximum:\n",
    "        return maximum\n",
    "    return val\n",
    "\n",
    "def colorscale(hexstr, scalefactor):\n",
    "    \"\"\"\n",
    "    Scales a hex string by ``scalefactor``. Returns scaled hex string.\n",
    "\n",
    "    To darken the color, use a float value between 0 and 1.\n",
    "    To brighten the color, use a float value greater than 1.\n",
    "\n",
    "    >>> colorscale(\"#DF3C3C\", .5)\n",
    "    #6F1E1E\n",
    "    >>> colorscale(\"#52D24F\", 1.6)\n",
    "    #83FF7E\n",
    "    >>> colorscale(\"#4F75D2\", 1)\n",
    "    #4F75D2\n",
    "    \"\"\"\n",
    "\n",
    "    hexstr = hexstr.strip('#')\n",
    "\n",
    "    if scalefactor < 0 or len(hexstr) != 6:\n",
    "        return hexstr\n",
    "\n",
    "    r, g, b = int(hexstr[:2], 16), int(hexstr[2:4], 16), int(hexstr[4:], 16)\n",
    "\n",
    "    r = round(clamp(r * scalefactor))\n",
    "    g = round(clamp(g * scalefactor))\n",
    "    b = round(clamp(b * scalefactor))\n",
    "\n",
    "    return \"#%02x%02x%02x\" % (r, g, b)"
   ]
  },
  {
   "cell_type": "code",
   "execution_count": 19,
   "metadata": {
    "collapsed": false
   },
   "outputs": [
    {
     "data": {
      "text/plain": [
       "'#00c000'"
      ]
     },
     "execution_count": 19,
     "metadata": {},
     "output_type": "execute_result"
    }
   ],
   "source": [
    "g2 = colorscale('#008000', 1.5)\n",
    "b2 = colorscale('#0000FF', 1.5)\n",
    "# round(clamp(255*0.1))\n",
    "g2"
   ]
  },
  {
   "cell_type": "code",
   "execution_count": 42,
   "metadata": {
    "collapsed": false
   },
   "outputs": [],
   "source": [
    "# Creates figure\n",
    "fig = plt.figure(figsize=(18, 18), dpi=80)\n",
    "ax = fig.add_subplot(111)\n",
    "    # ax.set_title('Particle Trajectories', x=0.5, y=1.15)\n",
    "\n",
    "# ax.plot(time1, geoM2xy_20nm_PS_in_0_4_agarose, 'bo', ms=mi, label='20nm PS NPs')\n",
    "# ax.plot(time2, geoM2xy_20nm_PS_PEG_in_0_4_agarose, 'b--', linewidth=wi, dashes=[d1,d2], label='20 nm PS-PEG NPs')\n",
    "ax.plot(time1, geoM2xy_100nm_PS_in_0_4_agarose, 'b--', linewidth=wi, dashes=[d1,d2], label='100nm PS')\n",
    "ax.plot(time2[0:55], geoM2xy_100nm_PS_PEG_in_0_4_agarose[0:55], 'g--', linewidth=wi, dashes=[d1,d2], label='100nm PS-PEG')\n",
    "    \n",
    "# ax.errorbar(t, MMSD[:, 0], yerr=SE[:, 0], fmt='', linestyle='', capsize=7, capthick=2, elinewidth=2, color='blue')\n",
    "# ax.errorbar(t, MMSD[:, 1], yerr=SE[:, 1], fmt='', linestyle='', capsize=7, capthick=2, elinewidth=2, color='red')\n",
    "# ax.errorbar(t, MMSD[:, 2], yerr=SE[:, 2], fmt='', linestyle='', capsize=7, capthick=2, elinewidth=2, color='green')\n",
    "\n",
    "# ax.plot(time2[1:55], line[0][1:55], linewidth=wi-3, color=g2)\n",
    "# ax.plot(t, line[1], linewidth=3, color='red')\n",
    "# ax.plot(t, line[2], linewidth=3, color='green')\n",
    "    \n",
    "# ax.plot(time1[1:], line1[0][1:], linewidth=wi-3, color=b2)\n",
    "#ax.plot(t, linel[1], linewidth=3, color='red')\n",
    "#ax.plot(t, linel[2], linewidth=3, color='green')\n",
    "    \n",
    "# A few adjustments to prettify the graph\n",
    "for item in ([ax.xaxis.label, ax.yaxis.label] +\n",
    "             ax.get_xticklabels() + ax.get_yticklabels()):\n",
    "    item.set_fontsize(70)\n",
    "\n",
    "xmajor_ticks = np.arange(0, limit1, tick1)\n",
    "ymajor_ticks = np.arange(0, limit2, tick2)\n",
    "\n",
    "ax.set_xticks(xmajor_ticks)\n",
    "ax.set_yticks(ymajor_ticks)\n",
    "ax.title.set_fontsize(70)\n",
    "ax.set_xlabel('Time (s)', fontsize=label)\n",
    "ax.set_ylabel(ylabel, fontsize=label)\n",
    "ax.tick_params(direction='out', pad=16)\n",
    "ax.legend(loc=(0.01, 0.86), prop={'size': leg})\n",
    "plt.gca().xaxis.set_major_formatter(mpl.ticker.FormatStrFormatter('%.{}f'.format(dec1)))\n",
    "plt.gca().yaxis.set_major_formatter(mpl.ticker.FormatStrFormatter('%.{}f'.format(dec2)))\n",
    "\n",
    "\n",
    "# plt.yscale('log')\n",
    "# plt.xscale('log')\n",
    "plt.gca().set_xlim([0, limit1])\n",
    "plt.gca().set_ylim([0.00001, limit2])\n",
    "\n",
    "# Save your figure\n",
    "plt.savefig('{}'.format(filename), bbox_inches='tight')\n",
    "plt.show()"
   ]
  },
  {
   "cell_type": "code",
   "execution_count": null,
   "metadata": {
    "collapsed": true
   },
   "outputs": [],
   "source": []
  },
  {
   "cell_type": "code",
   "execution_count": 21,
   "metadata": {
    "collapsed": false
   },
   "outputs": [
    {
     "data": {
      "text/plain": [
       "array([ 0.00078031,  0.00081163,  0.00084295,  0.00087428,  0.0009056 ,\n",
       "        0.00093692,  0.00096824,  0.00099956,  0.00103088,  0.0010622 ,\n",
       "        0.00109352,  0.00112485,  0.00115617,  0.00118749,  0.00121881,\n",
       "        0.00125013,  0.00128145,  0.00131277,  0.0013441 ,  0.00137542,\n",
       "        0.00140674,  0.00143806,  0.00146938,  0.0015007 ,  0.00153202,\n",
       "        0.00156335,  0.00159467,  0.00162599,  0.00165731,  0.00168863,\n",
       "        0.00171995,  0.00175127,  0.0017826 ,  0.00181392,  0.00184524,\n",
       "        0.00187656,  0.00190788,  0.0019392 ,  0.00197052,  0.00200184,\n",
       "        0.00203317,  0.00206449,  0.00209581,  0.00212713,  0.00215845,\n",
       "        0.00218977,  0.00222109,  0.00225242,  0.00228374,  0.00231506,\n",
       "        0.00234638,  0.0023777 ,  0.00240902,  0.00244034,  0.00247167,\n",
       "        0.00250299,  0.00253431,  0.00256563,  0.00259695,  0.00262827,\n",
       "        0.00265959,  0.00269092,  0.00272224,  0.00275356,  0.00278488,\n",
       "        0.0028162 ,  0.00284752,  0.00287884,  0.00291017,  0.00294149,\n",
       "        0.00297281,  0.00300413,  0.00303545,  0.00306677,  0.00309809,\n",
       "        0.00312941,  0.00316074,  0.00319206,  0.00322338,  0.0032547 ,\n",
       "        0.00328602,  0.00331734,  0.00334866,  0.00337999,  0.00341131,\n",
       "        0.00344263,  0.00347395,  0.00350527,  0.00353659,  0.00356791,\n",
       "        0.00359924])"
      ]
     },
     "execution_count": 21,
     "metadata": {},
     "output_type": "execute_result"
    }
   ],
   "source": [
    "line1[0]"
   ]
  },
  {
   "cell_type": "code",
   "execution_count": 22,
   "metadata": {
    "collapsed": false
   },
   "outputs": [
    {
     "data": {
      "text/plain": [
       "array([             nan,   1.47175839e+00,   2.84190812e+00,\n",
       "         4.00375646e+00,   4.97379219e+00,   5.63735105e+00,\n",
       "         6.69815072e+00,   7.60606163e+00,   8.61560008e+00,\n",
       "         9.63442257e+00,   1.07427999e+01,   1.16829869e+01,\n",
       "         1.26894895e+01,   1.36967606e+01,   1.45216263e+01,\n",
       "         1.52524983e+01,   1.58823314e+01,   1.70087463e+01,\n",
       "         1.70110513e+01,   1.78208040e+01,   1.81240937e+01,\n",
       "         1.87862999e+01,   1.92696883e+01,   1.94724050e+01,\n",
       "         1.98737960e+01,   2.09805656e+01,   2.16480005e+01,\n",
       "         2.30360813e+01,   2.38205334e+01,   2.43374173e+01,\n",
       "         2.59350663e+01,   2.73034677e+01,   2.69760761e+01,\n",
       "         2.66467475e+01,   2.73884967e+01,   2.70132297e+01,\n",
       "         2.75344993e+01,   2.87309836e+01,   3.01336038e+01,\n",
       "         3.08033325e+01,   2.92211305e+01,   2.83790553e+01,\n",
       "         2.78932723e+01,   2.68304425e+01,   2.55239941e+01,\n",
       "         2.59350613e+01,   2.81632163e+01,   2.90562575e+01,\n",
       "         2.91160525e+01,   2.71998559e+01,   2.63271555e+01,\n",
       "         2.63368071e+01,   2.16650770e+01,   2.31656265e+01,\n",
       "         2.29317044e+01,   2.03304958e+01,   2.30053614e+01,\n",
       "         2.07479088e+01,   2.04541978e+01,   2.01858749e+01,\n",
       "         1.99939844e+01,   2.02564020e+01,   1.77766021e+01,\n",
       "         1.85440826e+01,   1.84464487e+01,   1.78172464e+01,\n",
       "         1.83006196e+01,   1.71391590e+01,   1.48250009e+01,\n",
       "         1.40372153e+01,   1.47016240e+01,   1.46582683e+01,\n",
       "         1.46565776e+01,   1.54294790e+01,   1.52545505e+01,\n",
       "         1.18917290e+01,   1.22364767e+01,   1.18067929e+01,\n",
       "         1.01610327e+01,   6.68017039e+00,   5.36340464e+00,\n",
       "         5.63119769e+00,   5.67109892e+00,   5.71899978e+00,\n",
       "         5.94242967e+00,   8.98139936e+00,   9.07492901e+00,\n",
       "         8.90503125e+00,   8.90468485e+00,   8.48202855e+00,\n",
       "         6.33583678e+00,   4.36756766e+00,   4.46799914e+00,\n",
       "         4.57575327e+00,   4.54004416e+00,   4.61885777e+00,\n",
       "         4.65685031e+00,   4.67237306e+00,   4.78156461e+00,\n",
       "         4.88948819e+00,   4.74638839e+00,   4.41917358e+00,\n",
       "         3.94092203e+00,   3.94740859e+00,   4.02392884e+00,\n",
       "         4.00739345e+00,   4.24044542e+00,   4.15869566e+00,\n",
       "         4.15071031e+00,   4.44050355e+00,   4.03856266e+00,\n",
       "         8.67388792e+00,   8.83283469e+00,   9.10699343e+00,\n",
       "         8.83501811e+00,   7.83873724e+00,   6.27491768e+00,\n",
       "         4.35437503e+00,   1.30842677e+01,   1.30649343e+01,\n",
       "         1.31324367e+01,   1.32984870e+01,   1.34596721e+01,\n",
       "         1.36443283e+01,   1.37762198e+01,   1.39950953e+01,\n",
       "         1.41800683e+01,   1.43609328e+01,   1.45962570e+01,\n",
       "         1.48561921e+01,   1.50115944e+01,   1.51798357e+01,\n",
       "         1.53473130e+01,   1.56118731e+01,   1.58020215e+01,\n",
       "         1.59178354e+01,   1.60340175e+01,   1.60883248e+01,\n",
       "         1.60902147e+01,   1.61299478e+01,   1.59230717e+01,\n",
       "         1.53648422e+01,   1.49355640e+01,   1.36017496e+01,\n",
       "         1.36001697e+01,   1.31031169e+01,   1.34848646e+01,\n",
       "         1.34034599e+01,   1.36451338e+01,   1.36014931e+01,\n",
       "         1.43192231e+01,   1.47519121e+01,   1.50497919e+01,\n",
       "         1.57126105e+01,   1.64967295e+01,   1.74125670e+01,\n",
       "         1.74290976e+01,   1.81105348e+01,   1.91149829e+01,\n",
       "         1.87707757e+01,   1.98809450e+01,   2.13446329e+01,\n",
       "         2.25431906e+01,   2.43660473e+01,   2.62635923e+01,\n",
       "         3.36518552e+01,   3.46978059e+01,   3.52965163e+01,\n",
       "         3.60692614e+01,   3.58403243e+01,   3.55223338e+01,\n",
       "         3.73143090e+01,   3.80776363e+01,   4.54384851e+01,\n",
       "         4.59122465e+01,   4.65570455e+01,   4.73286676e+01,\n",
       "         4.80887302e+01,   4.91495321e+01,   5.00883555e+01,\n",
       "         5.03901961e+01,   5.06064532e+01,   5.13846205e+01,\n",
       "         5.19409078e+01,   5.29204501e+01,   5.40153640e+01,\n",
       "         5.51189693e+01,   5.66642428e+01,   5.90327270e+01,\n",
       "         6.09808889e+01,   6.48629760e+01,   6.56022359e+01,\n",
       "         6.91781135e+01,   7.29730446e+01,   7.54161333e+01,\n",
       "         7.99730173e+01,   8.22656327e+01,   8.77516307e+01,\n",
       "         9.38748696e+01,   1.01034462e+02,   1.11682866e+02,\n",
       "         1.13760135e+02,   1.17796528e+02,   2.01978625e+02,\n",
       "         8.48018226e+02,   8.74518796e+02,   9.02729080e+02,\n",
       "         9.32820049e+02,   9.64986257e+02,   9.99450052e+02,\n",
       "         1.03646672e+03,   1.07633083e+03,   1.11938406e+03,\n",
       "         1.16602506e+03,   1.21672180e+03,   1.27202734e+03,\n",
       "         1.33260007e+03,   1.39923007e+03,   1.47287376e+03,\n",
       "         1.55470008e+03,   1.64615303e+03,   1.74903759e+03,\n",
       "         1.86564010e+03,   1.99890010e+03,   2.15266165e+03,\n",
       "         2.33205012e+03,   2.54405468e+03,   2.79846015e+03,\n",
       "         3.10940016e+03,   3.49807518e+03,   3.99780021e+03,\n",
       "         4.66410024e+03,   4.64440477e+03,   4.64515536e+03,\n",
       "         4.63646301e+03,   4.67074103e+03,   4.70809169e+03])"
      ]
     },
     "execution_count": 22,
     "metadata": {},
     "output_type": "execute_result"
    }
   ],
   "source": [
    "geoM2xy_100nm_PS_PEG_in_0_4_agarose"
   ]
  },
  {
   "cell_type": "code",
   "execution_count": 23,
   "metadata": {
    "collapsed": false
   },
   "outputs": [],
   "source": [
    "# #Figure parameters\n",
    "\n",
    "# filename = 'FBF_comparison_60x.png'\n",
    "\n",
    "# limit1=50.1 #x range\n",
    "# tick1 = round(limit1)/5 #x ticks\n",
    "\n",
    "# limit2=0.051 #y range\n",
    "# tick2 = round(limit2, 2)/5 #y ticks\n",
    "\n",
    "# label=95 #label font size\n",
    "# leg=40 #legend font size\n",
    "# ylabel=r'MSD ($\\mu$m$^2$)'\n",
    "\n",
    "# dec1=0 #decimals displayed on x axis\n",
    "# dec2=2 #decimals displayed on y axis\n",
    "\n",
    "# d1 = 30 #dashed line dash length\n",
    "# d2 = 15 #dashed line space length\n",
    "\n",
    "# wi = 10 #line width\n",
    "# mi = 12 #marker size"
   ]
  },
  {
   "cell_type": "code",
   "execution_count": 24,
   "metadata": {
    "collapsed": false
   },
   "outputs": [],
   "source": [
    "# # Creates figure\n",
    "# fig = plt.figure(figsize=(24, 18), dpi=80)\n",
    "# ax = fig.add_subplot(111)\n",
    "#     # ax.set_title('Particle Trajectories', x=0.5, y=1.15)\n",
    "\n",
    "# ax.plot(time2, FM2xy_camera_1000ms_60x, 'bo', ms=mi, label='Camera 1000ms 60x')\n",
    "# ax.plot(time1, FM2xy_camera_625ms_60x, 'b--', linewidth=wi, dashes=[d1,d2], label='Camera 625ms 60x')\n",
    "# ax.plot(time2, FM2xy_confocal_1000ms_60x, 'go', ms=mi, label='Confocal 1000ms 60x')\n",
    "# ax.plot(time1, FM2xy_confocal_625ms_60x, 'g--', linewidth=wi, dashes=[d1,d2], label='Confocal 625ms 60x')\n",
    "    \n",
    "# # ax.errorbar(t, MMSD[:, 0], yerr=SE[:, 0], fmt='', linestyle='', capsize=7, capthick=2, elinewidth=2, color='blue')\n",
    "# # ax.errorbar(t, MMSD[:, 1], yerr=SE[:, 1], fmt='', linestyle='', capsize=7, capthick=2, elinewidth=2, color='red')\n",
    "# # ax.errorbar(t, MMSD[:, 2], yerr=SE[:, 2], fmt='', linestyle='', capsize=7, capthick=2, elinewidth=2, color='green')\n",
    "\n",
    "# # ax.plot(t, line[0], linewidth=3, color='blue')\n",
    "# # ax.plot(t, line[1], linewidth=3, color='red')\n",
    "# # ax.plot(t, line[2], linewidth=3, color='green')\n",
    "    \n",
    "# #ax.plot(t, linel[0], linewidth=3, color='blue')\n",
    "# #ax.plot(t, linel[1], linewidth=3, color='red')\n",
    "# #ax.plot(t, linel[2], linewidth=3, color='green')\n",
    "    \n",
    "# # A few adjustments to prettify the graph\n",
    "# for item in ([ax.xaxis.label, ax.yaxis.label] +\n",
    "#              ax.get_xticklabels() + ax.get_yticklabels()):\n",
    "#     item.set_fontsize(70)\n",
    "\n",
    "# xmajor_ticks = np.arange(0, limit1, tick1)\n",
    "# ymajor_ticks = np.arange(0, limit2, tick2)\n",
    "\n",
    "# ax.set_xticks(xmajor_ticks)\n",
    "# ax.set_yticks(ymajor_ticks)\n",
    "# ax.title.set_fontsize(70)\n",
    "# ax.set_xlabel('Time (s)', fontsize=label)\n",
    "# ax.set_ylabel(ylabel, fontsize=label)\n",
    "# ax.tick_params(direction='out', pad=16)\n",
    "# ax.legend(loc=(0.06, 0.66), prop={'size': leg})\n",
    "# plt.gca().xaxis.set_major_formatter(mpl.ticker.FormatStrFormatter('%.{}f'.format(dec1)))\n",
    "# plt.gca().yaxis.set_major_formatter(mpl.ticker.FormatStrFormatter('%.{}f'.format(dec2)))\n",
    "\n",
    "\n",
    "# #plt.yscale('log')\n",
    "# #plt.xscale('log')\n",
    "# plt.gca().set_xlim([0, limit1])\n",
    "# plt.gca().set_ylim([0, limit2])\n",
    "\n",
    "# # Save your figure\n",
    "# plt.savefig('{}.png'.format(filename), bbox_inches='tight')\n",
    "# plt.show()"
   ]
  },
  {
   "cell_type": "code",
   "execution_count": 25,
   "metadata": {
    "collapsed": true
   },
   "outputs": [],
   "source": [
    "# #Figure parameters\n",
    "\n",
    "# filename = 'FBF_comparison_625ms.png'\n",
    "\n",
    "# limit1=50.1 #x range\n",
    "# tick1 = round(limit1)/5 #x ticks\n",
    "\n",
    "# limit2=0.051 #y range\n",
    "# tick2 = round(limit2, 2)/5 #y ticks\n",
    "\n",
    "# label=95 #label font size\n",
    "# leg=40 #legend font size\n",
    "# ylabel=r'MSD ($\\mu$m$^2$)'\n",
    "\n",
    "# dec1=0 #decimals displayed on x axis\n",
    "# dec2=2 #decimals displayed on y axis\n",
    "\n",
    "# d1 = 30 #dashed line dash length\n",
    "# d2 = 15 #dashed line space length\n",
    "\n",
    "# wi = 10 #line width\n",
    "# mi = 12 #marker size"
   ]
  },
  {
   "cell_type": "code",
   "execution_count": 26,
   "metadata": {
    "collapsed": false
   },
   "outputs": [],
   "source": [
    "# # Creates figure\n",
    "# fig = plt.figure(figsize=(24, 18), dpi=80)\n",
    "# ax = fig.add_subplot(111)\n",
    "#     # ax.set_title('Particle Trajectories', x=0.5, y=1.15)\n",
    "\n",
    "# ax.plot(time1, FM2xy_camera_625ms_40x, 'bo', ms=mi, label='Camera 625ms 40x')\n",
    "# ax.plot(time1, FM2xy_camera_625ms_60x, 'b--', linewidth=wi, dashes=[d1,d2], label='Camera 625ms 60x')\n",
    "# ax.plot(time1, FM2xy_confocal_625ms_40x[:-1], 'go', ms=mi, label='Confocal 625ms 40x')\n",
    "# ax.plot(time1, FM2xy_confocal_625ms_60x, 'g--', linewidth=wi, dashes=[d1,d2], label='Confocal 625ms 60x')\n",
    "    \n",
    "# # ax.errorbar(t, MMSD[:, 0], yerr=SE[:, 0], fmt='', linestyle='', capsize=7, capthick=2, elinewidth=2, color='blue')\n",
    "# # ax.errorbar(t, MMSD[:, 1], yerr=SE[:, 1], fmt='', linestyle='', capsize=7, capthick=2, elinewidth=2, color='red')\n",
    "# # ax.errorbar(t, MMSD[:, 2], yerr=SE[:, 2], fmt='', linestyle='', capsize=7, capthick=2, elinewidth=2, color='green')\n",
    "\n",
    "# # ax.plot(t, line[0], linewidth=3, color='blue')\n",
    "# # ax.plot(t, line[1], linewidth=3, color='red')\n",
    "# # ax.plot(t, line[2], linewidth=3, color='green')\n",
    "    \n",
    "# #ax.plot(t, linel[0], linewidth=3, color='blue')\n",
    "# #ax.plot(t, linel[1], linewidth=3, color='red')\n",
    "# #ax.plot(t, linel[2], linewidth=3, color='green')\n",
    "    \n",
    "# # A few adjustments to prettify the graph\n",
    "# for item in ([ax.xaxis.label, ax.yaxis.label] +\n",
    "#              ax.get_xticklabels() + ax.get_yticklabels()):\n",
    "#     item.set_fontsize(70)\n",
    "\n",
    "# xmajor_ticks = np.arange(0, limit1, tick1)\n",
    "# ymajor_ticks = np.arange(0, limit2, tick2)\n",
    "\n",
    "# ax.set_xticks(xmajor_ticks)\n",
    "# ax.set_yticks(ymajor_ticks)\n",
    "# ax.title.set_fontsize(70)\n",
    "# ax.set_xlabel('Time (s)', fontsize=label)\n",
    "# ax.set_ylabel(ylabel, fontsize=label)\n",
    "# ax.tick_params(direction='out', pad=16)\n",
    "# ax.legend(loc=(0.06, 0.66), prop={'size': leg})\n",
    "# plt.gca().xaxis.set_major_formatter(mpl.ticker.FormatStrFormatter('%.{}f'.format(dec1)))\n",
    "# plt.gca().yaxis.set_major_formatter(mpl.ticker.FormatStrFormatter('%.{}f'.format(dec2)))\n",
    "\n",
    "\n",
    "# #plt.yscale('log')\n",
    "# #plt.xscale('log')\n",
    "# plt.gca().set_xlim([0, limit1])\n",
    "# plt.gca().set_ylim([0, limit2])\n",
    "\n",
    "# # Save your figure\n",
    "# plt.savefig('{}.png'.format(filename), bbox_inches='tight')\n",
    "# plt.show()"
   ]
  },
  {
   "cell_type": "code",
   "execution_count": 27,
   "metadata": {
    "collapsed": true
   },
   "outputs": [],
   "source": [
    "# #Figure parameters\n",
    "\n",
    "# filename = 'FBF_comparison_1000ms.png'\n",
    "\n",
    "# limit1=50.1 #x range\n",
    "# tick1 = round(limit1)/5 #x ticks\n",
    "\n",
    "# limit2=0.051 #y range\n",
    "# tick2 = round(limit2, 2)/5 #y ticks\n",
    "\n",
    "# label=95 #label font size\n",
    "# leg=40 #legend font size\n",
    "# ylabel=r'MSD ($\\mu$m$^2$)'\n",
    "\n",
    "# dec1=0 #decimals displayed on x axis\n",
    "# dec2=2 #decimals displayed on y axis\n",
    "\n",
    "# d1 = 30 #dashed line dash length\n",
    "# d2 = 15 #dashed line space length\n",
    "\n",
    "# wi = 10 #line width\n",
    "# mi = 12 #marker size"
   ]
  },
  {
   "cell_type": "code",
   "execution_count": 28,
   "metadata": {
    "collapsed": true
   },
   "outputs": [],
   "source": [
    "# # Creates figure\n",
    "# fig = plt.figure(figsize=(24, 18), dpi=80)\n",
    "# ax = fig.add_subplot(111)\n",
    "#     # ax.set_title('Particle Trajectories', x=0.5, y=1.15)\n",
    "\n",
    "# ax.plot(time2, FM2xy_camera_1000ms_40x, 'bo', ms=mi, label='Camera 1000ms 40x')\n",
    "# ax.plot(time2, FM2xy_camera_1000ms_60x, 'b--', linewidth=wi, dashes=[d1,d2], label='Camera 1000ms 60x')\n",
    "# ax.plot(time2, FM2xy_confocal_1000ms_40x, 'go', ms=mi, label='Confocal 1000ms 40x')\n",
    "# ax.plot(time2, FM2xy_confocal_1000ms_60x, 'g--', linewidth=wi, dashes=[d1,d2], label='Confocal 1000ms 60x')\n",
    "    \n",
    "# # ax.errorbar(t, MMSD[:, 0], yerr=SE[:, 0], fmt='', linestyle='', capsize=7, capthick=2, elinewidth=2, color='blue')\n",
    "# # ax.errorbar(t, MMSD[:, 1], yerr=SE[:, 1], fmt='', linestyle='', capsize=7, capthick=2, elinewidth=2, color='red')\n",
    "# # ax.errorbar(t, MMSD[:, 2], yerr=SE[:, 2], fmt='', linestyle='', capsize=7, capthick=2, elinewidth=2, color='green')\n",
    "\n",
    "# # ax.plot(t, line[0], linewidth=3, color='blue')\n",
    "# # ax.plot(t, line[1], linewidth=3, color='red')\n",
    "# # ax.plot(t, line[2], linewidth=3, color='green')\n",
    "    \n",
    "# #ax.plot(t, linel[0], linewidth=3, color='blue')\n",
    "# #ax.plot(t, linel[1], linewidth=3, color='red')\n",
    "# #ax.plot(t, linel[2], linewidth=3, color='green')\n",
    "    \n",
    "# # A few adjustments to prettify the graph\n",
    "# for item in ([ax.xaxis.label, ax.yaxis.label] +\n",
    "#              ax.get_xticklabels() + ax.get_yticklabels()):\n",
    "#     item.set_fontsize(70)\n",
    "\n",
    "# xmajor_ticks = np.arange(0, limit1, tick1)\n",
    "# ymajor_ticks = np.arange(0, limit2, tick2)\n",
    "\n",
    "# ax.set_xticks(xmajor_ticks)\n",
    "# ax.set_yticks(ymajor_ticks)\n",
    "# ax.title.set_fontsize(70)\n",
    "# ax.set_xlabel('Time (s)', fontsize=label)\n",
    "# ax.set_ylabel(ylabel, fontsize=label)\n",
    "# ax.tick_params(direction='out', pad=16)\n",
    "# ax.legend(loc=(0.06, 0.66), prop={'size': leg})\n",
    "# plt.gca().xaxis.set_major_formatter(mpl.ticker.FormatStrFormatter('%.{}f'.format(dec1)))\n",
    "# plt.gca().yaxis.set_major_formatter(mpl.ticker.FormatStrFormatter('%.{}f'.format(dec2)))\n",
    "\n",
    "\n",
    "# #plt.yscale('log')\n",
    "# #plt.xscale('log')\n",
    "# plt.gca().set_xlim([0, limit1])\n",
    "# plt.gca().set_ylim([0, limit2])\n",
    "\n",
    "# # Save your figure\n",
    "# plt.savefig('{}.png'.format(filename), bbox_inches='tight')\n",
    "# plt.show()"
   ]
  },
  {
   "cell_type": "code",
   "execution_count": 29,
   "metadata": {
    "collapsed": true
   },
   "outputs": [],
   "source": [
    "# #Figure parameters\n",
    "\n",
    "# filename = 'FBF_comparison_camera.png'\n",
    "\n",
    "# limit1=50.1 #x range\n",
    "# tick1 = round(limit1)/5 #x ticks\n",
    "\n",
    "# limit2=0.051 #y range\n",
    "# tick2 = round(limit2, 2)/5 #y ticks\n",
    "\n",
    "# label=95 #label font size\n",
    "# leg=40 #legend font size\n",
    "# ylabel=r'MSD ($\\mu$m$^2$)'\n",
    "\n",
    "# dec1=0 #decimals displayed on x axis\n",
    "# dec2=2 #decimals displayed on y axis\n",
    "\n",
    "# d1 = 30 #dashed line dash length\n",
    "# d2 = 15 #dashed line space length\n",
    "\n",
    "# wi = 10 #line width\n",
    "# mi = 12 #marker size"
   ]
  },
  {
   "cell_type": "code",
   "execution_count": 30,
   "metadata": {
    "collapsed": false
   },
   "outputs": [],
   "source": [
    "# # Creates figure\n",
    "# fig = plt.figure(figsize=(24, 18), dpi=80)\n",
    "# ax = fig.add_subplot(111)\n",
    "#     # ax.set_title('Particle Trajectories', x=0.5, y=1.15)\n",
    "\n",
    "# ax.plot(time2, FM2xy_camera_1000ms_40x, 'bo', ms=mi, label='Camera 1000ms 40x')\n",
    "# ax.plot(time2, FM2xy_camera_1000ms_60x, 'b--', linewidth=wi, dashes=[d1,d2], label='Camera 1000ms 60x')\n",
    "# ax.plot(time1, FM2xy_camera_625ms_40x, 'go', ms=mi, label='Camera 625ms 40x')\n",
    "# ax.plot(time1, FM2xy_camera_625ms_60x, 'g--', linewidth=wi, dashes=[d1,d2], label='Camera 625ms 60x')\n",
    "    \n",
    "# # ax.errorbar(t, MMSD[:, 0], yerr=SE[:, 0], fmt='', linestyle='', capsize=7, capthick=2, elinewidth=2, color='blue')\n",
    "# # ax.errorbar(t, MMSD[:, 1], yerr=SE[:, 1], fmt='', linestyle='', capsize=7, capthick=2, elinewidth=2, color='red')\n",
    "# # ax.errorbar(t, MMSD[:, 2], yerr=SE[:, 2], fmt='', linestyle='', capsize=7, capthick=2, elinewidth=2, color='green')\n",
    "\n",
    "# # ax.plot(t, line[0], linewidth=3, color='blue')\n",
    "# # ax.plot(t, line[1], linewidth=3, color='red')\n",
    "# # ax.plot(t, line[2], linewidth=3, color='green')\n",
    "    \n",
    "# #ax.plot(t, linel[0], linewidth=3, color='blue')\n",
    "# #ax.plot(t, linel[1], linewidth=3, color='red')\n",
    "# #ax.plot(t, linel[2], linewidth=3, color='green')\n",
    "    \n",
    "# # A few adjustments to prettify the graph\n",
    "# for item in ([ax.xaxis.label, ax.yaxis.label] +\n",
    "#              ax.get_xticklabels() + ax.get_yticklabels()):\n",
    "#     item.set_fontsize(70)\n",
    "\n",
    "# xmajor_ticks = np.arange(0, limit1, tick1)\n",
    "# ymajor_ticks = np.arange(0, limit2, tick2)\n",
    "\n",
    "# ax.set_xticks(xmajor_ticks)\n",
    "# ax.set_yticks(ymajor_ticks)\n",
    "# ax.title.set_fontsize(70)\n",
    "# ax.set_xlabel('Time (s)', fontsize=label)\n",
    "# ax.set_ylabel(ylabel, fontsize=label)\n",
    "# ax.tick_params(direction='out', pad=16)\n",
    "# ax.legend(loc=(0.06, 0.66), prop={'size': leg})\n",
    "# plt.gca().xaxis.set_major_formatter(mpl.ticker.FormatStrFormatter('%.{}f'.format(dec1)))\n",
    "# plt.gca().yaxis.set_major_formatter(mpl.ticker.FormatStrFormatter('%.{}f'.format(dec2)))\n",
    "\n",
    "\n",
    "# #plt.yscale('log')\n",
    "# #plt.xscale('log')\n",
    "# plt.gca().set_xlim([0, limit1])\n",
    "# plt.gca().set_ylim([0, limit2])\n",
    "\n",
    "# # Save your figure\n",
    "# plt.savefig('{}.png'.format(filename), bbox_inches='tight')\n",
    "# plt.show()"
   ]
  },
  {
   "cell_type": "code",
   "execution_count": 31,
   "metadata": {
    "collapsed": true
   },
   "outputs": [],
   "source": [
    "# #Figure parameters\n",
    "\n",
    "# filename = 'FBF_comparison_confocal.png'\n",
    "\n",
    "# limit1=50.1 #x range\n",
    "# tick1 = round(limit1)/5 #x ticks\n",
    "\n",
    "# limit2=0.051 #y range\n",
    "# tick2 = round(limit2, 2)/5 #y ticks\n",
    "\n",
    "# label=95 #label font size\n",
    "# leg=40 #legend font size\n",
    "# ylabel=r'MSD ($\\mu$m$^2$)'\n",
    "\n",
    "# dec1=0 #decimals displayed on x axis\n",
    "# dec2=2 #decimals displayed on y axis\n",
    "\n",
    "# d1 = 30 #dashed line dash length\n",
    "# d2 = 15 #dashed line space length\n",
    "\n",
    "# wi = 10 #line width\n",
    "# mi = 12 #marker size"
   ]
  },
  {
   "cell_type": "code",
   "execution_count": 32,
   "metadata": {
    "collapsed": false
   },
   "outputs": [],
   "source": [
    "# # Creates figure\n",
    "# fig = plt.figure(figsize=(24, 18), dpi=80)\n",
    "# ax = fig.add_subplot(111)\n",
    "#     # ax.set_title('Particle Trajectories', x=0.5, y=1.15)\n",
    "\n",
    "# ax.plot(time2, FM2xy_confocal_1000ms_40x, 'bo', ms=mi, label='Confocal 1000ms 40x')\n",
    "# ax.plot(time2, FM2xy_confocal_1000ms_60x, 'b--', linewidth=wi, dashes=[d1,d2], label='Confocal 1000ms 60x')\n",
    "# ax.plot(time1, FM2xy_confocal_625ms_40x[:-1], 'go', ms=mi, label='Confocal 625ms 40x')\n",
    "# ax.plot(time1, FM2xy_confocal_625ms_60x, 'g--', linewidth=wi, dashes=[d1,d2], label='Confocal 625ms 60x')\n",
    "    \n",
    "# # ax.errorbar(t, MMSD[:, 0], yerr=SE[:, 0], fmt='', linestyle='', capsize=7, capthick=2, elinewidth=2, color='blue')\n",
    "# # ax.errorbar(t, MMSD[:, 1], yerr=SE[:, 1], fmt='', linestyle='', capsize=7, capthick=2, elinewidth=2, color='red')\n",
    "# # ax.errorbar(t, MMSD[:, 2], yerr=SE[:, 2], fmt='', linestyle='', capsize=7, capthick=2, elinewidth=2, color='green')\n",
    "\n",
    "# ax.plot(time2, line[2], linewidth=3, color='purple')\n",
    "# ax.plot(time2, line[3], linewidth=3, color='purple')\n",
    "# ax.plot(time1, line1[2], linewidth=3, color='purple')\n",
    "# ax.plot(time1, line1[3], linewidth=3, color='purple')\n",
    "    \n",
    "# # A few adjustments to prettify the graph\n",
    "# for item in ([ax.xaxis.label, ax.yaxis.label] +\n",
    "#              ax.get_xticklabels() + ax.get_yticklabels()):\n",
    "#     item.set_fontsize(70)\n",
    "\n",
    "# xmajor_ticks = np.arange(0, limit1, tick1)\n",
    "# ymajor_ticks = np.arange(0, limit2, tick2)\n",
    "\n",
    "# ax.set_xticks(xmajor_ticks)\n",
    "# ax.set_yticks(ymajor_ticks)\n",
    "# ax.title.set_fontsize(70)\n",
    "# ax.set_xlabel('Time (s)', fontsize=label)\n",
    "# ax.set_ylabel(ylabel, fontsize=label)\n",
    "# ax.tick_params(direction='out', pad=16)\n",
    "# ax.legend(loc=(0.06, 0.66), prop={'size': leg})\n",
    "# plt.gca().xaxis.set_major_formatter(mpl.ticker.FormatStrFormatter('%.{}f'.format(dec1)))\n",
    "# plt.gca().yaxis.set_major_formatter(mpl.ticker.FormatStrFormatter('%.{}f'.format(dec2)))\n",
    "\n",
    "\n",
    "# #plt.yscale('log')\n",
    "# #plt.xscale('log')\n",
    "# plt.gca().set_xlim([0, limit1])\n",
    "# plt.gca().set_ylim([0, limit2])\n",
    "\n",
    "# # Save your figure\n",
    "# plt.savefig('{}.png'.format(filename), bbox_inches='tight')\n",
    "# plt.show()"
   ]
  },
  {
   "cell_type": "code",
   "execution_count": 33,
   "metadata": {
    "collapsed": true
   },
   "outputs": [],
   "source": [
    "# #Figure parameters\n",
    "\n",
    "# filename = 'FBF_geo_ar_comparison.png'\n",
    "\n",
    "# limit1=20.1 #x range\n",
    "# tick1 = round(limit1)/5 #x ticks\n",
    "\n",
    "# limit2=0.0051 #y range\n",
    "# tick2 = round(limit2, 3)/5 #y ticks\n",
    "\n",
    "# label=95 #label font size\n",
    "# leg=40 #legend font size\n",
    "# ylabel=r'MSD ($\\mu$m$^2$)'\n",
    "\n",
    "# dec1=0 #decimals displayed on x axis\n",
    "# dec2=3 #decimals displayed on y axis\n",
    "\n",
    "# d1 = 30 #dashed line dash length\n",
    "# d2 = 15 #dashed line space length\n",
    "\n",
    "# wi = 10 #line width\n",
    "# mi = 12 #marker size"
   ]
  },
  {
   "cell_type": "code",
   "execution_count": 34,
   "metadata": {
    "collapsed": false
   },
   "outputs": [],
   "source": [
    "# # Creates figure\n",
    "# fig = plt.figure(figsize=(24, 18), dpi=80)\n",
    "# ax = fig.add_subplot(111)\n",
    "#     # ax.set_title('Particle Trajectories', x=0.5, y=1.15)\n",
    "\n",
    "# ax.plot(time2[0:19], geoM2xy_camera_1000ms_60x[0:-1], 'b--', linewidth=wi, dashes=[d1,d2], label='Geometric')\n",
    "# ax.plot(time2[0:19], arM2xy_camera_1000ms_60x[0:-1], 'g--', linewidth=wi, dashes=[d1,d2], label='Arithmetic')\n",
    "# ax.plot(time2, FM2xy_camera_1000ms_60x, 'r--', linewidth=wi, dashes=[d1,d2], label='Frame-by-frame')\n",
    "    \n",
    "# # ax.errorbar(t, MMSD[:, 0], yerr=SE[:, 0], fmt='', linestyle='', capsize=7, capthick=2, elinewidth=2, color='blue')\n",
    "# # ax.errorbar(t, MMSD[:, 1], yerr=SE[:, 1], fmt='', linestyle='', capsize=7, capthick=2, elinewidth=2, color='red')\n",
    "# # ax.errorbar(t, MMSD[:, 2], yerr=SE[:, 2], fmt='', linestyle='', capsize=7, capthick=2, elinewidth=2, color='green')\n",
    "\n",
    "# # ax.plot(t, line[0], linewidth=3, color='blue')\n",
    "# # ax.plot(t, line[1], linewidth=3, color='red')\n",
    "# # ax.plot(t, line[2], linewidth=3, color='green')\n",
    "    \n",
    "# #ax.plot(t, linel[0], linewidth=3, color='blue')\n",
    "# #ax.plot(t, linel[1], linewidth=3, color='red')\n",
    "# #ax.plot(t, linel[2], linewidth=3, color='green')\n",
    "    \n",
    "# # A few adjustments to prettify the graph\n",
    "# for item in ([ax.xaxis.label, ax.yaxis.label] +\n",
    "#              ax.get_xticklabels() + ax.get_yticklabels()):\n",
    "#     item.set_fontsize(70)\n",
    "\n",
    "# xmajor_ticks = np.arange(0, limit1, tick1)\n",
    "# ymajor_ticks = np.arange(0, limit2, tick2)\n",
    "\n",
    "# ax.set_xticks(xmajor_ticks)\n",
    "# ax.set_yticks(ymajor_ticks)\n",
    "# ax.title.set_fontsize(70)\n",
    "# ax.set_xlabel('Time (s)', fontsize=label)\n",
    "# ax.set_ylabel(ylabel, fontsize=label)\n",
    "# ax.tick_params(direction='out', pad=16)\n",
    "# ax.legend(loc=(0.06, 0.66), prop={'size': leg})\n",
    "# plt.gca().xaxis.set_major_formatter(mpl.ticker.FormatStrFormatter('%.{}f'.format(dec1)))\n",
    "# plt.gca().yaxis.set_major_formatter(mpl.ticker.FormatStrFormatter('%.{}f'.format(dec2)))\n",
    "\n",
    "\n",
    "# #plt.yscale('log')\n",
    "# #plt.xscale('log')\n",
    "# plt.gca().set_xlim([0, limit1])\n",
    "# plt.gca().set_ylim([0, limit2])\n",
    "\n",
    "# # Save your figure\n",
    "# plt.savefig('{}.png'.format(filename), bbox_inches='tight')\n",
    "# plt.show()"
   ]
  },
  {
   "cell_type": "code",
   "execution_count": null,
   "metadata": {
    "collapsed": true
   },
   "outputs": [],
   "source": []
  }
 ],
 "metadata": {
  "kernelspec": {
   "display_name": "Python 3",
   "language": "python",
   "name": "python3"
  },
  "language_info": {
   "codemirror_mode": {
    "name": "ipython",
    "version": 3
   },
   "file_extension": ".py",
   "mimetype": "text/x-python",
   "name": "python",
   "nbconvert_exporter": "python",
   "pygments_lexer": "ipython3",
   "version": "3.5.3"
  }
 },
 "nbformat": 4,
 "nbformat_minor": 0
}
