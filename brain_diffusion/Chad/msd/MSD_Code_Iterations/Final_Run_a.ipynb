{
 "cells": [
  {
   "cell_type": "code",
   "execution_count": 1,
   "metadata": {
    "collapsed": false
   },
   "outputs": [],
   "source": [
    "import os\n",
    "import sys\n",
    "module_path = os.path.abspath(os.path.join('C:\\\\Users\\\\koolk\\\\Desktop\\\\brain-diffusion\\\\Chad_functions_and_unittests'))\n",
    "if module_path not in sys.path:\n",
    "    sys.path.append(module_path)\n",
    "\n",
    "from trajectory_visualization import plot_trajectory, sidebyside, shift_trajectory, overlay, shift_trajectory3D\n",
    "from trajectory_visualization import plot_trajectories3D, plot_3Doverlay, plot_MSDorDeff, plot_MeanMSDorDeff, randtraj, multrandtraj\n",
    "from trajectory_visualization import randtraj2, plot_Mean2DMSDsorDeff, plot_MSDorDeffLR, LRfor3D2D, fillin, prettify\n",
    "from methods_of_Dcalc import Dpointder, Dlinalg, Dlinalgw\n",
    "from Diffusion_Functions import frame_adjust, MSD_Deff_Calcs, prettify2, fillin2\n",
    "\n",
    "import matplotlib as mpl\n",
    "import matplotlib.pyplot as plt\n",
    "import matplotlib.ticker as mtick\n",
    "import scipy.optimize as opt\n",
    "import scipy.stats as stat\n",
    "from mpl_toolkits.mplot3d import Axes3D\n",
    "from operator import itemgetter\n",
    "import random\n",
    "import numpy as np\n",
    "import numpy.ma as ma\n",
    "import numpy.linalg as la\n",
    "from mpl_toolkits.mplot3d import Axes3D\n",
    "\n",
    "pi = np.pi\n",
    "sin = np.sin\n",
    "cos = np.cos"
   ]
  },
  {
   "cell_type": "code",
   "execution_count": 2,
   "metadata": {
    "collapsed": false
   },
   "outputs": [],
   "source": [
    "name = '100nm_RED_PEG_NPs_in_1_2p_agarose'\n",
    "\n",
    "logplot = '{}_logplot'.format(name)\n",
    "Mplot = '{}_Mplot'.format(name)\n",
    "Dplot = '{}_Dplot'.format(name)\n",
    "Hplot = '{}_Hplot'.format(name)\n",
    "Hlogplot = '{}_Hlogplot'.format(name)\n",
    "Cplot = '{}_Cplot'.format(name)\n",
    "Tplot = '{}_Tplot'.format(name)\n",
    "T2plot = '{}_T2plot'.format(name)\n",
    "\n",
    "conversion = dict()\n",
    "\n",
    "conversion[1] = (0.10, 9.91, 1)\n",
    "\n",
    "frames = 446\n",
    "frames_1 = np.linspace(0, frames, frames+1).astype(np.int64)\n",
    "time = frames_1/conversion[1][1]"
   ]
  },
  {
   "cell_type": "code",
   "execution_count": 3,
   "metadata": {
    "collapsed": false
   },
   "outputs": [
    {
     "data": {
      "text/plain": [
       "(446, 1928)"
      ]
     },
     "execution_count": 3,
     "metadata": {},
     "output_type": "execute_result"
    }
   ],
   "source": [
    "with open('pM1x_0.csv', \"rb\") as f_handle:\n",
    "    interim = np.genfromtxt(f_handle, delimiter=\",\")\n",
    "\n",
    "interim.shape"
   ]
  },
  {
   "cell_type": "code",
   "execution_count": 4,
   "metadata": {
    "collapsed": false
   },
   "outputs": [],
   "source": [
    "SM1x = dict()\n",
    "SM1y = dict()\n",
    "SM2xy = dict()\n",
    "\n",
    "size = 16\n",
    "local_n = 1928\n",
    "\n",
    "for num in range(0, size):\n",
    "    with open('pM1x_{}.csv'.format(num), \"rb\") as f_handle:\n",
    "        interim = np.genfromtxt(f_handle, delimiter=\",\")\n",
    "    for i in range(1, local_n+1):\n",
    "        current = local_n*num + i\n",
    "        SM1x[current] = interim[:, i-1]\n",
    "    with open('pM1y_{}.csv'.format(num), \"rb\") as f_handle:\n",
    "        interim1 = np.genfromtxt(f_handle, delimiter=\",\")\n",
    "    for i in range(1, local_n+1):\n",
    "        current = local_n*num + i\n",
    "        SM1y[current] = interim1[:, i-1]\n",
    "    with open('pM2xy_{}.csv'.format(num), \"rb\") as f_handle:\n",
    "        interim2 = np.genfromtxt(f_handle, delimiter=\",\")\n",
    "    for i in range(1, local_n+1):\n",
    "        current = local_n*num + i\n",
    "        SM2xy[current] = interim2[:, i-1]"
   ]
  },
  {
   "cell_type": "code",
   "execution_count": 5,
   "metadata": {
    "collapsed": false
   },
   "outputs": [
    {
     "name": "stderr",
     "output_type": "stream",
     "text": [
      "C:\\Users\\koolk\\Miniconda3\\lib\\site-packages\\numpy\\ma\\core.py:4085: UserWarning: Warning: converting a masked element to nan.\n",
      "  warnings.warn(\"Warning: converting a masked element to nan.\")\n"
     ]
    }
   ],
   "source": [
    "total_check = local_n*size\n",
    "\n",
    "arM1x = np.zeros(SM1x[1].shape[0])\n",
    "arM1y = np.zeros(SM1x[1].shape[0])\n",
    "arM2xy = np.zeros(SM1x[1].shape[0])\n",
    "\n",
    "arD1x = np.zeros(SM1x[1].shape[0])\n",
    "arD1y = np.zeros(SM1x[1].shape[0])\n",
    "arD2xy = np.zeros(SM1x[1].shape[0])\n",
    "\n",
    "st_arM1x = np.zeros(SM1x[1].shape[0])\n",
    "st_arM1y = np.zeros(SM1x[1].shape[0])\n",
    "st_arM2xy = np.zeros(SM1x[1].shape[0])\n",
    "\n",
    "st_arD1x = np.zeros(SM1x[1].shape[0])\n",
    "st_arD1y = np.zeros(SM1x[1].shape[0])\n",
    "st_arD2xy = np.zeros(SM1x[1].shape[0])\n",
    "\n",
    "tots = total_check\n",
    "time2 = time\n",
    "\n",
    "gM1x = dict()\n",
    "gM1y = dict()\n",
    "gM2xy = dict()\n",
    "\n",
    "log_gM1x = dict()\n",
    "log_gM1y = dict()\n",
    "log_gM2xy = dict()\n",
    "\n",
    "geoM1x = np.zeros(SM1x[1].shape[0])\n",
    "geoM1y = np.zeros(SM1x[1].shape[0])\n",
    "geoM2xy = np.zeros(SM1x[1].shape[0])\n",
    "\n",
    "st_geoM1x = np.zeros(SM1x[1].shape[0])\n",
    "st_geoM1y = np.zeros(SM1x[1].shape[0])\n",
    "st_geoM2xy = np.zeros(SM1x[1].shape[0])\n",
    "\n",
    "geoD1x = np.zeros(SM1x[1].shape[0])\n",
    "geoD1y = np.zeros(SM1x[1].shape[0])\n",
    "geoD2xy = np.zeros(SM1x[1].shape[0])\n",
    "\n",
    "st_geoD1x = np.zeros(SM1x[1].shape[0])\n",
    "st_geoD1y = np.zeros(SM1x[1].shape[0])\n",
    "st_geoD2xy = np.zeros(SM1x[1].shape[0])\n",
    "\n",
    "for num2 in range(0, SM1x[1].shape[0]):\n",
    "    gM1x[num2+1] = np.zeros(tots)\n",
    "    gM1y[num2+1] = np.zeros(tots)\n",
    "    gM2xy[num2+1] = np.zeros(tots)\n",
    "\n",
    "    for num in range(1, tots+1):\n",
    "        gM1x[num2+1][num-1] = SM1x[num][num2]\n",
    "        gM1y[num2+1][num-1] = SM1y[num][num2]\n",
    "        gM2xy[num2+1][num-1] = SM2xy[num][num2]\n",
    "\n",
    "    gM1x[num2+1] = ma.masked_invalid(gM1x[num2+1])\n",
    "    gM1y[num2+1] = ma.masked_invalid(gM1y[num2+1])\n",
    "    gM2xy[num2+1] = ma.masked_invalid(gM2xy[num2+1])\n",
    "\n",
    "    gM1x[num2+1] = ma.masked_equal(gM1x[num2+1], 0)\n",
    "    gM1y[num2+1] = ma.masked_equal(gM1y[num2+1], 0)\n",
    "    gM2xy[num2+1] = ma.masked_equal(gM2xy[num2+1], 0)\n",
    "\n",
    "    log_gM1x[num2+1] = np.log(gM1x[num2+1])\n",
    "    log_gM1y[num2+1] = np.log(gM1y[num2+1])\n",
    "    log_gM2xy[num2+1] = np.log(gM2xy[num2+1])\n",
    "\n",
    "    geoM1x[num2] = stat.gmean(gM1x[num2+1])\n",
    "    geoM1y[num2] = stat.gmean(gM1y[num2+1])\n",
    "    geoM2xy[num2] = stat.gmean(gM2xy[num2+1])\n",
    "\n",
    "    st_geoM1x[num2] = np.abs(geoM1x[num2]-np.exp(np.mean(np.log(gM1x[num2+1]))-np.std(np.log(gM1x[num2+1]))/np.sqrt(gM1x[num2+1].shape[0])))\n",
    "    st_geoM1y[num2] = np.abs(geoM1y[num2]-np.exp(np.mean(np.log(gM1y[num2+1]))-np.std(np.log(gM1y[num2+1]))/np.sqrt(gM1y[num2+1].shape[0])))\n",
    "    st_geoM2xy[num2] = np.abs(geoM2xy[num2]-np.exp(np.mean(np.log(gM2xy[num2+1]))-np.std(np.log(gM2xy[num2+1]))/np.sqrt(gM2xy[num2+1].shape[0])))\n",
    "\n",
    "    geoD1x[num2] = geoM1x[num2]/time2[num2]\n",
    "    geoD1y[num2] = geoM1y[num2]/time2[num2]\n",
    "    geoD2xy[num2] = geoM2xy[num2]/time2[num2]\n",
    "\n",
    "    arM1x[num2] = np.mean(gM1x[num2+1])\n",
    "    arM1y[num2] = np.mean(gM1y[num2+1])\n",
    "    arM2xy[num2] = np.mean(gM2xy[num2+1])\n",
    "\n",
    "    st_arM1x[num2] = np.std(gM1x[num2+1])\n",
    "    st_arM1y[num2] = np.std(gM1y[num2+1])\n",
    "    st_arM2xy[num2] = np.std(gM2xy[num2+1])\n",
    "\n",
    "    arD1x[num2] = arM1x[num2]/time2[num2]\n",
    "    arD1y[num2] = arM1y[num2]/time2[num2]\n",
    "    arD2xy[num2] = arM2xy[num2]/time2[num2]\n",
    "\n",
    "    st_arD1x[num2] = st_arM1x[num2]/time2[num2]\n",
    "    st_arD1y[num2] = st_arM1y[num2]/time2[num2]\n",
    "    st_arD2xy[num2] = st_arM2xy[num2]/time2[num2]\n",
    "\n",
    "np.savetxt('geoD2xy_{}.csv'.format(name), geoD2xy, delimiter=',')\n",
    "np.savetxt('arD2xy_{}.csv'.format(name), arD2xy, delimiter=',')\n",
    "#np.savetxt('FD2xy_{}.csv'.format(name), FD2xy, delimiter=',')\n",
    "\n",
    "np.savetxt('geoM2xy_{}.csv'.format(name), geoM2xy, delimiter=',')\n",
    "np.savetxt('arM2xy_{}.csv'.format(name), arM2xy, delimiter=',')\n",
    "#np.savetxt('FM2xy_{}.csv'.format(name), FM2xy, delimiter=',')\n",
    "\n",
    "np.savetxt('geoM1x_{}.csv'.format(name), geoM1x, delimiter=',')\n",
    "np.savetxt('arM1x_{}.csv'.format(name), arM1x, delimiter=',')\n",
    "np.savetxt('geoM1y_{}.csv'.format(name), geoM1y, delimiter=',')\n",
    "np.savetxt('arM1y_{}.csv'.format(name), arM1y, delimiter=',')"
   ]
  },
  {
   "cell_type": "code",
   "execution_count": 6,
   "metadata": {
    "collapsed": true
   },
   "outputs": [],
   "source": [
    "def plot_histogram(M, time, total, datatype, filename, tn):\n",
    "    \"\"\"\n",
    "    This function plots a histogram of the desired input, typically an MSD dataset or a diffusion dataset.\n",
    "    \n",
    "    Inputs: \n",
    "    M: MSD or Deff dataset\n",
    "    time: time np array\n",
    "    total: total number of particles\n",
    "    datatype:\n",
    "    filename: \n",
    "    tn: \n",
    "    \"\"\"\n",
    "    total1 = total\n",
    "    MSD = M\n",
    "\n",
    "    def find_nearest(array, value):\n",
    "        idx = (np.abs(array-value)).argmin()\n",
    "        return array[idx], idx\n",
    "\n",
    "    td, idx = find_nearest(time, tn)\n",
    "    \n",
    "    hist = np.zeros(total1)\n",
    "    for num in range(1, total1):\n",
    "        hist[num] = MSD[num][idx]\n",
    "\n",
    "    hist = [x for x in hist if str(x) != 'nan']\n",
    "    \n",
    "    plot, bins = np.histogram(hist, bins=40)\n",
    "    width = 0.7 * (bins[1] - bins[0])\n",
    "    center = (bins[:-1] + bins[1:])/2\n",
    "    plt.bar(center, plot, align='center', width=width)\n",
    "    plt.xlabel(r'MSDs ($\\mu$m$^2$) at $\\tau$ = 1s', fontsize=20)\n",
    "\n",
    "    plt.savefig('{}.png'.format(filename), bbox_inches='tight')\n",
    "    return hist, MSD, total1"
   ]
  },
  {
   "cell_type": "code",
   "execution_count": 7,
   "metadata": {
    "collapsed": true
   },
   "outputs": [],
   "source": [
    "\"\"\"\n",
    "Plots a histogram of calculated diffusion coefficients at 5 seconds.\n",
    "\"\"\"\n",
    "\n",
    "a, hist, total= plot_histogram(SM2xy, time2, tots, 'MSD (um^2)', Hplot, 1)\n",
    "plt.show()"
   ]
  },
  {
   "cell_type": "code",
   "execution_count": 8,
   "metadata": {
    "collapsed": true
   },
   "outputs": [],
   "source": [
    "def plot_loghistogram(M, time, total, datatype, filename, tn):\n",
    "    \"\"\"\n",
    "    Plots the MSDs or Deffs from a trajectory dataset.\n",
    "    \"\"\"\n",
    "\n",
    "    total1 = total\n",
    "    MSD = M\n",
    "    \n",
    "    def find_nearest(array, value):\n",
    "        idx = (np.abs(array-value)).argmin()\n",
    "        return array[idx], idx\n",
    "\n",
    "    td, idx = find_nearest(time, tn)\n",
    "    \n",
    "    hist = np.zeros(total1)\n",
    "    for num in range(1, total1):\n",
    "        hist[num] = MSD[num][idx]\n",
    "    \n",
    "    z1, z2 = find_nearest(hist[1:], 0)\n",
    "    hist = np.delete(hist[1:], z2)\n",
    "    hist = [x for x in hist if str(x) != 'nan']\n",
    "    loghist = np.log(hist)\n",
    "\n",
    "    plot, bins = np.histogram(loghist, bins=30)\n",
    "    width = 0.7 * (bins[1] - bins[0])\n",
    "    center = (bins[:-1] + bins[1:])/2\n",
    "    plt.bar(center, plot, align='center', width=width)\n",
    "    plt.xlabel(r'logarithm of the MSDs ($\\mu$m$^2$) at $\\tau$ = 1s', fontsize=20)\n",
    "\n",
    "    plt.savefig('{}.png'.format(filename), bbox_inches='tight')\n",
    "    return hist, MSD, total1"
   ]
  },
  {
   "cell_type": "code",
   "execution_count": 9,
   "metadata": {
    "collapsed": true
   },
   "outputs": [],
   "source": [
    "\"\"\"\n",
    "Plots a histogram of the logarithm of the diffusion coefficients at 1 second.\n",
    "\"\"\"\n",
    "\n",
    "hist, MSD, total = plot_loghistogram(SM2xy, time2, tots, 'MSD (um^2)', Hlogplot, 1)\n",
    "plt.show()"
   ]
  },
  {
   "cell_type": "code",
   "execution_count": 10,
   "metadata": {
    "collapsed": false
   },
   "outputs": [
    {
     "data": {
      "text/plain": [
       "30848"
      ]
     },
     "execution_count": 10,
     "metadata": {},
     "output_type": "execute_result"
    }
   ],
   "source": [
    "tots"
   ]
  },
  {
   "cell_type": "code",
   "execution_count": null,
   "metadata": {
    "collapsed": true
   },
   "outputs": [],
   "source": []
  }
 ],
 "metadata": {
  "kernelspec": {
   "display_name": "Python 3",
   "language": "python",
   "name": "python3"
  },
  "language_info": {
   "codemirror_mode": {
    "name": "ipython",
    "version": 3
   },
   "file_extension": ".py",
   "mimetype": "text/x-python",
   "name": "python",
   "nbconvert_exporter": "python",
   "pygments_lexer": "ipython3",
   "version": "3.5.1"
  }
 },
 "nbformat": 4,
 "nbformat_minor": 0
}
