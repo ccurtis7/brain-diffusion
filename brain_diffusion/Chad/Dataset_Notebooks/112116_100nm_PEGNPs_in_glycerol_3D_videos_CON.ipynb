{
 "cells": [
  {
   "cell_type": "code",
   "execution_count": 2,
   "metadata": {
    "collapsed": false
   },
   "outputs": [],
   "source": [
    "import os\n",
    "import sys\n",
    "module_path = os.path.abspath(os.path.join('..'))\n",
    "if module_path not in sys.path:\n",
    "    sys.path.append(module_path)\n",
    "\n",
    "from trajectory_visualization import plot_trajectory, sidebyside, shift_trajectory, overlay, shift_trajectory3D\n",
    "from trajectory_visualization import plot_trajectories3D, plot_3Doverlay, plot_MSDorDeff, plot_MeanMSDorDeff, randtraj, multrandtraj\n",
    "from trajectory_visualization import randtraj2, plot_Mean2DMSDsorDeff, plot_MSDorDeffLR, LRfor3D2D, fillin, prettify\n",
    "from random_traj import randaniso, randconv, multrandaniso, multrandconv, randsamp, multrandsamp, randall, multrandall\n",
    "from random_traj import randanisorot, multrandanisorot\n",
    "from ellipsoid import maxtraj, mvee, plot_mvee, plot_mveeoverl, rotmat, rotmat2, plot_mveeoverl2\n",
    "from ellipsoid import ellipsax, MSDS, andiff, plot_anisoMSDS, plot_anisodiff\n",
    "from ellipsoid import extrema, enclosed_MSD"
   ]
  },
  {
   "cell_type": "code",
   "execution_count": 1,
   "metadata": {
    "collapsed": true
   },
   "outputs": [],
   "source": [
    "import matplotlib as mpl\n",
    "import matplotlib.pyplot as plt\n",
    "import scipy.optimize as opt\n",
    "from mpl_toolkits.mplot3d import Axes3D\n",
    "from operator import itemgetter\n",
    "import random\n",
    "import numpy as np\n",
    "import numpy.linalg as la\n",
    "from mpl_toolkits.mplot3d import Axes3D\n",
    "\n",
    "pi = np.pi\n",
    "sin = np.sin\n",
    "cos = np.cos"
   ]
  },
  {
   "cell_type": "code",
   "execution_count": 3,
   "metadata": {
    "collapsed": false
   },
   "outputs": [],
   "source": [
    "# Type in datasets you would like to combine.  Adjust totvids to reflect the total number of videos. Also type in the\n",
    "# umppx and fps in the conversion dictionary.\n",
    "\n",
    "conversion = dict() #First element is the umppx, second is fps\n",
    "\n",
    "conversion[1] = (0.59, 3.71, 1.5)\n",
    "conversion[2] = (0.59, 3.71, 1.5)\n",
    "conversion[3] = (0.59, 3.71, 1.5)\n",
    "conversion[4] = (0.59, 3.71, 1.5)\n",
    "conversion[5] = (0.59, 3.71, 1.5)\n",
    "\n",
    "trajectory = dict()\n",
    "\n",
    "trajectory[1] = np.genfromtxt('../../sample_data/100nm_NPs/3DVideo_CON_1.csv',\n",
    "            delimiter =\",\")\n",
    "trajectory[2] = np.genfromtxt('../../sample_data/100nm_NPs/3DVideo_CON_2.csv',\n",
    "            delimiter =\",\")\n",
    "trajectory[3] = np.genfromtxt('../../sample_data/100nm_NPs/3DVideo_CON_3.csv',\n",
    "            delimiter =\",\")\n",
    "trajectory[4] = np.genfromtxt('../../sample_data/100nm_NPs/3DVideo_CON_4.csv',\n",
    "            delimiter =\",\")\n",
    "trajectory[5] = np.genfromtxt('../../sample_data/100nm_NPs/3DVideo_CON_5.csv',\n",
    "            delimiter =\",\")\n",
    "\n",
    "totvids = 5\n",
    "\n",
    "for num in range(1, totvids + 1):\n",
    "    \n",
    "    #Remove titles from columns\n",
    "    #trajectory[num]=np.delete(trajectory[num], 0,0)\n",
    "    #Remove the number column from dataset\n",
    "    trajectory[num]=np.delete(trajectory[num],0,1)"
   ]
  },
  {
   "cell_type": "code",
   "execution_count": 4,
   "metadata": {
    "collapsed": false
   },
   "outputs": [],
   "source": [
    "final = dict()\n",
    "tots = dict()\n",
    "\n",
    "for num in range(1, totvids + 1):\n",
    "    (final[num], tots[num]) = prettify(trajectory[num], 28, 28, conversion[num][0], conversion[num][1], conversion[num][2])\n",
    "    "
   ]
  },
  {
   "cell_type": "code",
   "execution_count": 5,
   "metadata": {
    "collapsed": false
   },
   "outputs": [],
   "source": [
    "parts = dict()\n",
    "lehi = dict()\n",
    "\n",
    "for num in range(1, totvids + 1):\n",
    "    parts[num] = tots[num]\n",
    "    lehi[num] = final[num][1]\n",
    "    counter = 1\n",
    "\n",
    "    while counter < parts[num]:\n",
    "        counter = counter + 1\n",
    "        lehi[num] = np.append(lehi[num], final[num][counter], axis=0)\n",
    "\n",
    "for num in range(2, totvids + 1):\n",
    "    lehi[num][:,0] = lehi[num][:,0] + max(lehi[num-1][:, 0])        \n",
    "        \n",
    "nephi = lehi[1]\n",
    "counter = 1\n",
    "\n",
    "while counter < totvids:\n",
    "    counter = counter + 1\n",
    "    nephi = np.append(nephi, lehi[counter], axis=0)"
   ]
  },
  {
   "cell_type": "code",
   "execution_count": 6,
   "metadata": {
    "collapsed": true
   },
   "outputs": [],
   "source": [
    "# Now for a plotting function, as modified from Testing_Tracking_Software\n",
    "\n",
    "# Creates an array 'particles' that contains the particle number at each frame.\n",
    "particles = nephi[:, 0]\n",
    "position = nephi[:, 5:5+4]\n",
    "total = int(max(particles))\n",
    "total1 = total + 1\n",
    "path = dict()\n",
    "\n",
    "# Creates an array for each trajectory containing all xyz data\n",
    "for num in range(1, total1):\n",
    "\n",
    "    hold = np.where(particles == num)\n",
    "    itindex = hold[0]\n",
    "    min1 = min(itindex)\n",
    "    max1 = max(itindex)\n",
    "    path[num] = (position[min1:max1, :])\n",
    "\n",
    "# Creates figure\n",
    "fig = plt.figure(figsize=(24, 18), dpi=80)\n",
    "ax = fig.add_subplot(111)\n",
    "# ax.set_title('Particle Trajectories', x=0.5, y=1.15)\n",
    "\n",
    "# Plots individual trajectories\n",
    "for num in range(1, total1):\n",
    "\n",
    "    ax.plot(path[num][:, 0], path[num][:, 1], label='Particle {}'.format(num), linewidth=5)\n",
    "\n",
    "axbox = ax.get_position()\n",
    "\n",
    "legunit = max(nephi[:,0])\n",
    "#ax.legend(loc=(0.85, 0.96-0.0273*legunit), prop={'size': 20})\n",
    "ax.locator_params(nbins=6)\n",
    "\n",
    "# A few adjustments to prettify the graph\n",
    "for item in ([ax.xaxis.label, ax.yaxis.label] +\n",
    "             ax.get_xticklabels() + ax.get_yticklabels()):\n",
    "    item.set_fontsize(20)\n",
    "\n",
    "ax.title.set_fontsize(35)\n",
    "ax.tick_params(direction='out', pad=3)\n",
    "plt.gca().xaxis.set_major_formatter(mpl.ticker.FormatStrFormatter('%.{}f um'.format(1)))\n",
    "plt.gca().yaxis.set_major_formatter(mpl.ticker.FormatStrFormatter('%.{}f um'.format(1)))\n",
    "\n",
    "dim = 2\n",
    "plt.gca().set_xlim([-dim, dim])\n",
    "plt.gca().set_ylim([-dim, dim])\n",
    "\n",
    "# Save your figure\n",
    "plt.savefig('{}.png'.format('Edward_trajectories'), bbox_inches='tight')\n",
    "\n",
    "plt.show()"
   ]
  },
  {
   "cell_type": "code",
   "execution_count": 7,
   "metadata": {
    "collapsed": false
   },
   "outputs": [
    {
     "data": {
      "text/plain": [
       "array([   1.,    1.,    1., ...,  140.,  140.,  140.])"
      ]
     },
     "execution_count": 7,
     "metadata": {},
     "output_type": "execute_result"
    }
   ],
   "source": [
    "nephi[:, 0]"
   ]
  },
  {
   "cell_type": "code",
   "execution_count": 8,
   "metadata": {
    "collapsed": true
   },
   "outputs": [],
   "source": [
    "def plot_Mean1DMSDsorDeff(traj, n1, n2, n3, dec1, dec2, datatype, filename, limit1, limit2, tick1, tick2):\n",
    "    \"\"\"\n",
    "    Plots the MSDs or Deffs from a trajectory dataset.\n",
    "\n",
    "    n1: particle numbers (typically 0)\n",
    "    n2: time (typically 1)\n",
    "    n3: MSDs or Deffs (11 or 15 typically)\n",
    "    \"\"\"\n",
    "\n",
    "    # Creates an array 'particles' that contains the particle number at each frame.\n",
    "    particles = traj[:, n1]\n",
    "    total = int(max(particles))\n",
    "    total1 = total + 1\n",
    "    rawtime = traj[:, n2]\n",
    "    bow = traj.shape[0]\n",
    "    raw2DMSDs = np.zeros((bow, 4))\n",
    "    raw2DMSDs[:, 0] = traj[:, n3]\n",
    "    raw2DMSDs[:, 1:4] = traj[:, n3 + 3:n3 + 6]\n",
    "    MSD = dict()\n",
    "    time = dict()\n",
    "\n",
    "    # Creates an array for each trajectory containing all xyz data\n",
    "    for num in range(1, total1):\n",
    "\n",
    "        hold = np.where(particles == num)\n",
    "        itindex = hold[0]\n",
    "        min1 = min(itindex)\n",
    "        max1 = max(itindex)\n",
    "        MSD[num] = (raw2DMSDs[min1+2:max1, :])\n",
    "        time[num] = (rawtime[min1+2:max1])\n",
    "\n",
    "    MMSD = MSD[1]\n",
    "    for num in range(2, total1):\n",
    "        MMSD = MMSD + MSD[num]\n",
    "    MMSD = MMSD/total1\n",
    "\n",
    "    # Creates figure\n",
    "    fig = plt.figure(figsize=(24, 18), dpi=80)\n",
    "    ax = fig.add_subplot(111)\n",
    "    # ax.set_title('Particle Trajectories', x=0.5, y=1.15)\n",
    "\n",
    "    ax.plot(time[1][:], MMSD[:, 0], linewidth=10, label='2D')\n",
    "    ax.plot(time[1][:], MMSD[:, 1], linewidth=10, label='1D x')\n",
    "    ax.plot(time[1][:], MMSD[:, 2], linewidth=10, label='1D y')\n",
    "\n",
    "    # A few adjustments to prettify the graph\n",
    "    for item in ([ax.xaxis.label, ax.yaxis.label] +\n",
    "                 ax.get_xticklabels() + ax.get_yticklabels()):\n",
    "        item.set_fontsize(70)\n",
    "\n",
    "    xmajor_ticks = np.arange(0, limit1, tick1)\n",
    "    ymajor_ticks = np.arange(0, limit2, tick2)\n",
    "\n",
    "    ax.set_xticks(xmajor_ticks)\n",
    "    ax.set_yticks(ymajor_ticks)\n",
    "    ax.title.set_fontsize(70)\n",
    "    ax.set_xlabel('Time (s)', fontsize=95)\n",
    "    ax.set_ylabel(datatype, fontsize=95)\n",
    "    ax.tick_params(direction='out', pad=16)\n",
    "    ax.legend(loc=(0.65, 0.05), prop={'size': 70})\n",
    "    plt.gca().xaxis.set_major_formatter(mpl.ticker.FormatStrFormatter('%.{}f'.format(dec1)))\n",
    "    plt.gca().yaxis.set_major_formatter(mpl.ticker.FormatStrFormatter('%.{}f'.format(dec2)))\n",
    "\n",
    "    plt.gca().set_xlim([0, limit1])\n",
    "    plt.gca().set_ylim([0, limit2])\n",
    "\n",
    "    # Save your figure\n",
    "    plt.savefig('{}.png'.format(filename), bbox_inches='tight')\n",
    "    return MMSD"
   ]
  },
  {
   "cell_type": "code",
   "execution_count": 30,
   "metadata": {
    "collapsed": true
   },
   "outputs": [],
   "source": [
    "one1 = plot_Mean2DMSDsorDeff(nephi, 0, 15, 8, 0, 1, 'MSD (um^2)', 'Edward_MSD_1', 8, 0.51, 1, 0.1)\n",
    "plt.show()"
   ]
  },
  {
   "cell_type": "code",
   "execution_count": 32,
   "metadata": {
    "collapsed": true
   },
   "outputs": [],
   "source": [
    "one2 = plot_Mean2DMSDsorDeff(nephi, 0, 15, 16, 0, 2, 'Deff (um^2/s)', 'Edward_Deff_1', 8, 0.041, 1, 0.01)\n",
    "plt.show()"
   ]
  },
  {
   "cell_type": "code",
   "execution_count": 24,
   "metadata": {
    "collapsed": true
   },
   "outputs": [],
   "source": [
    "def find_nearest(array,value):\n",
    "    idx = (np.abs(array-value)).argmin()\n",
    "    return array[idx]"
   ]
  },
  {
   "cell_type": "code",
   "execution_count": 34,
   "metadata": {
    "collapsed": false
   },
   "outputs": [
    {
     "data": {
      "text/plain": [
       "0.017413380113460053"
      ]
     },
     "execution_count": 34,
     "metadata": {},
     "output_type": "execute_result"
    }
   ],
   "source": [
    "#This cell gives a few steps to finding the desired 2D diffusion coefficient based on the input time.\n",
    "\n",
    "#Desired time (normally 1s)\n",
    "desired = 1.0\n",
    "\n",
    "time1 = lehi[1][:, 15]\n",
    "x1 = find_nearest(time1, 1.0)\n",
    "x2 = np.where(time1 == x1)[0][0]\n",
    "Deff = one2[x2][0]\n",
    "Deff"
   ]
  },
  {
   "cell_type": "code",
   "execution_count": 27,
   "metadata": {
    "collapsed": false
   },
   "outputs": [
    {
     "data": {
      "text/plain": [
       "array([[ 0.02195151,  0.01833102,  0.025572  ,  0.02462526],\n",
       "       [ 0.0158601 ,  0.01342107,  0.01829912,  0.01721526],\n",
       "       [ 0.01687544,  0.01427776,  0.01947312,  0.01359756],\n",
       "       [ 0.01682564,  0.01464509,  0.01900619,  0.01578181],\n",
       "       [ 0.01836809,  0.01777301,  0.01896318,  0.01550395],\n",
       "       [ 0.02107314,  0.02220909,  0.01993719,  0.0161981 ],\n",
       "       [ 0.02063516,  0.01884506,  0.02242525,  0.01514266],\n",
       "       [ 0.03023151,  0.02379705,  0.03666596,  0.01379723],\n",
       "       [ 0.02883689,  0.023046  ,  0.03462779,  0.0128848 ],\n",
       "       [ 0.02715242,  0.02146867,  0.03283616,  0.01507274],\n",
       "       [ 0.02465902,  0.02029165,  0.02902639,  0.0137121 ],\n",
       "       [ 0.02386187,  0.02136496,  0.02635878,  0.01370959],\n",
       "       [ 0.02446278,  0.02292425,  0.02600131,  0.01314831],\n",
       "       [ 0.02569343,  0.02213548,  0.02925137,  0.01284618],\n",
       "       [ 0.02458061,  0.02091831,  0.02824292,  0.01157283],\n",
       "       [ 0.02372279,  0.0202645 ,  0.02718108,  0.01254516],\n",
       "       [ 0.02707355,  0.02037983,  0.03376727,  0.01191614],\n",
       "       [ 0.02800703,  0.02108884,  0.03492522,  0.01461279],\n",
       "       [ 0.02683816,  0.02074998,  0.03292634,  0.01178332],\n",
       "       [ 0.02729637,  0.02120695,  0.03338579,  0.0127997 ],\n",
       "       [ 0.02472626,  0.02049843,  0.0289541 ,  0.01351501],\n",
       "       [ 0.02535173,  0.02122304,  0.02948043,  0.01326654],\n",
       "       [ 0.0249689 ,  0.02235238,  0.02758542,  0.01340224],\n",
       "       [ 0.02634946,  0.02115994,  0.03153897,  0.01258709],\n",
       "       [ 0.02428462,  0.01964315,  0.02892608,  0.01170776]])"
      ]
     },
     "execution_count": 27,
     "metadata": {},
     "output_type": "execute_result"
    }
   ],
   "source": [
    "one2"
   ]
  },
  {
   "cell_type": "code",
   "execution_count": 33,
   "metadata": {
    "collapsed": false
   },
   "outputs": [
    {
     "data": {
      "text/plain": [
       "array([[ 0.02284276,  0.02195151,  0.02147814,  0.02509863],\n",
       "       [ 0.01631182,  0.0158601 ,  0.01531817,  0.01775719],\n",
       "       [ 0.01578282,  0.01687544,  0.01393766,  0.01653534],\n",
       "       [ 0.01647769,  0.01682564,  0.01521345,  0.017394  ],\n",
       "       [ 0.01741338,  0.01836809,  0.01663848,  0.01723357],\n",
       "       [ 0.01944813,  0.02107314,  0.01920359,  0.01806764],\n",
       "       [ 0.01880432,  0.02063516,  0.01699386,  0.01878395],\n",
       "       [ 0.02475342,  0.03023151,  0.01879714,  0.0252316 ],\n",
       "       [ 0.02351953,  0.02883689,  0.0179654 ,  0.02375629],\n",
       "       [ 0.02312586,  0.02715242,  0.01827071,  0.02395445],\n",
       "       [ 0.02101005,  0.02465902,  0.01700187,  0.02136925],\n",
       "       [ 0.02047778,  0.02386187,  0.01753728,  0.02003419],\n",
       "       [ 0.02069129,  0.02446278,  0.01803628,  0.01957481],\n",
       "       [ 0.02141101,  0.02569343,  0.01749083,  0.02104877],\n",
       "       [ 0.02024469,  0.02458061,  0.01624557,  0.01990787],\n",
       "       [ 0.01999692,  0.02372279,  0.01640483,  0.01986312],\n",
       "       [ 0.02202108,  0.02707355,  0.01614798,  0.02284171],\n",
       "       [ 0.02354228,  0.02800703,  0.01785081,  0.024769  ],\n",
       "       [ 0.02181988,  0.02683816,  0.01626665,  0.02235483],\n",
       "       [ 0.02246415,  0.02729637,  0.01700332,  0.02309275],\n",
       "       [ 0.02098918,  0.02472626,  0.01700672,  0.02123456],\n",
       "       [ 0.02132334,  0.02535173,  0.01724479,  0.02137349],\n",
       "       [ 0.02111335,  0.0249689 ,  0.01787731,  0.02049383],\n",
       "       [ 0.021762  ,  0.02634946,  0.01687351,  0.02206303],\n",
       "       [ 0.02009233,  0.02428462,  0.01567546,  0.02031692]])"
      ]
     },
     "execution_count": 33,
     "metadata": {},
     "output_type": "execute_result"
    }
   ],
   "source": [
    "one2"
   ]
  },
  {
   "cell_type": "code",
   "execution_count": null,
   "metadata": {
    "collapsed": true
   },
   "outputs": [],
   "source": []
  }
 ],
 "metadata": {
  "kernelspec": {
   "display_name": "Python 3",
   "language": "python",
   "name": "python3"
  },
  "language_info": {
   "codemirror_mode": {
    "name": "ipython",
    "version": 3
   },
   "file_extension": ".py",
   "mimetype": "text/x-python",
   "name": "python",
   "nbconvert_exporter": "python",
   "pygments_lexer": "ipython3",
   "version": "3.5.1"
  }
 },
 "nbformat": 4,
 "nbformat_minor": 0
}
